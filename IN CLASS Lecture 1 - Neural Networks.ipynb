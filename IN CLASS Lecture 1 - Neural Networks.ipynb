{
 "cells": [
  {
   "cell_type": "markdown",
   "metadata": {
    "id": "AGKAZlCh02cl",
    "jupyter": {
     "source_hidden": true
    }
   },
   "source": [
    "# Introduction to Neural Networking in Keras\n",
    "\n",
    "<a href=\"https://colab.research.google.com/github/coding-dojo-data-science/week-11-lecture-2-tuning-deep-learning-models/blob/main/Code-along%20Tuning%20Neural%20Networks.ipynb\" target=\"_parent\"><img src=\"https://colab.research.google.com/assets/colab-badge.svg\" alt=\"Open In Colab\"/></a>"
   ]
  },
  {
   "cell_type": "markdown",
   "metadata": {
    "id": "OStduN-207_9"
   },
   "source": [
    "We will use the version of Keras that comes in the Tensorflow package, as it has the most up to date tools.\n",
    "\n",
    "Keras works as weapper for deep learning model to be used as classification or regression estimators in sklearn"
   ]
  },
  {
   "cell_type": "code",
   "execution_count": 35,
   "metadata": {
    "ExecuteTime": {
     "end_time": "2023-02-08T02:15:00.219225Z",
     "start_time": "2023-02-08T02:15:00.211839Z"
    },
    "executionInfo": {
     "elapsed": 6928,
     "status": "ok",
     "timestamp": 1698803943153,
     "user": {
      "displayName": "Yvon Bilodeau",
      "userId": "10142856831792134633"
     },
     "user_tz": 420
    },
    "id": "Zw6CH1mp0zR4"
   },
   "outputs": [
    {
     "data": {
      "text/plain": [
       "[PhysicalDevice(name='/physical_device:GPU:0', device_type='GPU')]"
      ]
     },
     "execution_count": 35,
     "metadata": {},
     "output_type": "execute_result"
    }
   ],
   "source": [
    "import pandas as pd\n",
    "import numpy as np\n",
    "\n",
    "import matplotlib.pyplot as plt\n",
    "\n",
    "from sklearn.metrics import mean_absolute_error, r2_score, \\\n",
    "mean_squared_error, precision_score, recall_score, accuracy_score, f1_score, \\\n",
    "ConfusionMatrixDisplay, classification_report\n",
    "from sklearn.preprocessing import MinMaxScaler\n",
    "from sklearn.model_selection import train_test_split\n",
    "\n",
    "# new libraries\n",
    "import tensorflow as tf\n",
    "import tensorflow.keras as keras\n",
    "from keras.models import Sequential\n",
    "from keras.layers import Dense, Input\n",
    "\n",
    "# This is used to overcome an issue with setting up tensorflow in M1/M1\n",
    "# Suspect tensorflow-macos not very fit with GPU, use CPU only with\n",
    "tf.config.set_visible_devices([], 'GPU')\n",
    "\n",
    "# Set random seeds for consistent outcomes\n",
    "keras.backend.clear_session()\n",
    "np.random.seed(42)\n",
    "tf.random.set_seed(42)\n",
    "\n",
    "tf.config.list_physical_devices('GPU')"
   ]
  },
  {
   "cell_type": "markdown",
   "metadata": {
    "id": "e5pga5rHChPu"
   },
   "source": [
    "### Plot History\n",
    "\n",
    "Since we will be plotting histories for all of our models, lets create a function to do it quickly."
   ]
  },
  {
   "cell_type": "code",
   "execution_count": 5,
   "metadata": {
    "ExecuteTime": {
     "end_time": "2023-02-08T02:15:00.226208Z",
     "start_time": "2023-02-08T02:15:00.220222Z"
    },
    "executionInfo": {
     "elapsed": 4,
     "status": "ok",
     "timestamp": 1698803943153,
     "user": {
      "displayName": "Yvon Bilodeau",
      "userId": "10142856831792134633"
     },
     "user_tz": 420
    },
    "id": "UbrKqMv0_28Q"
   },
   "outputs": [],
   "source": [
    "def plot_history(history):\n",
    "  \"\"\"Takes a keras model learning history and plots each metric\"\"\"\n",
    "\n",
    "  metrics = history.history.keys()\n",
    "\n",
    "  for metric in metrics:\n",
    "      if not 'val' in metric:\n",
    "        plt.plot(history.history[f'{metric}'], label=f'{metric}')\n",
    "        if f'val_{metric}' in metrics:\n",
    "          plt.plot(history.history[f'val_{metric}'], label=f'val_{metric}')\n",
    "        plt.legend()\n",
    "        plt.title(f'{metric}')\n",
    "        plt.show()\n",
    "\n",
    "def eval_regression(true, pred, name='Model'):\n",
    "    \"\"\"Evaluates true and predicted values from a regression model.\n",
    "    Outputs a dataframe of metrics\"\"\"\n",
    "    scores = pd.DataFrame()\n",
    "    scores['Model Name'] = [name]\n",
    "    scores['RMSE'] = [np.sqrt(mean_squared_error(true, pred))]\n",
    "    scores['MAE'] = [mean_absolute_error(true, pred)]\n",
    "    scores['R2'] = [r2_score(true, pred)]\n",
    "    scores.set_index('Model Name', inplace=True)\n",
    "\n",
    "    return scores\n",
    "\n",
    "def eval_classification(true, pred, name, labels=None):\n",
    "    \"\"\"shows classification_report and confusion matrix\n",
    "    for classification model predictions.  Outputs a dataframe of metrics\"\"\"\n",
    "\n",
    "    print(name, '\\n')\n",
    "    print(classification_report(true, pred, target_names=labels))\n",
    "    ConfusionMatrixDisplay.from_predictions(true, pred, display_labels=labels, )\n",
    "\n",
    "    plt.show()\n",
    "\n",
    "    scores = pd.DataFrame()\n",
    "    scores['Model Name'] = [name]\n",
    "    scores['Precision'] = [precision_score(true, pred)]\n",
    "    scores['Recall'] = [recall_score(true, pred)]\n",
    "    scores['F1 Score'] = [f1_score(true, pred)]\n",
    "    scores['Accuracy'] = [accuracy_score(true, pred)]\n",
    "    scores.set_index('Model Name', inplace=True)\n",
    "\n",
    "    return scores"
   ]
  },
  {
   "cell_type": "markdown",
   "metadata": {
    "id": "RAUUTWm93ojP"
   },
   "source": [
    "# Data\n",
    "\n",
    "We will be working with 2 different datasets in this project, 1 is a regression dataset and the other is a classification dataset.  This way you can practice doing both using deep learning.\n",
    "\n",
    "**NOTE**\n",
    "\n",
    "These datasets are very small for deep learning.  Deep learning models usually work best with very large datasets with at least 10,000 or more samples.  They work best on even larger datasets than that.  But, for demonstration we will use these smaller datasets.\n",
    "\n",
    "## Regression\n",
    "This is a dataset of housing prices in Boston from 1978.  Each row is a house and the dataset includes several features regarding each house.  Our target today will be the price of the home.\n",
    "\n"
   ]
  },
  {
   "cell_type": "code",
   "execution_count": 36,
   "metadata": {
    "ExecuteTime": {
     "end_time": "2023-02-08T02:15:00.312062Z",
     "start_time": "2023-02-08T02:15:00.227205Z"
    },
    "executionInfo": {
     "elapsed": 3,
     "status": "ok",
     "timestamp": 1698803943153,
     "user": {
      "displayName": "Yvon Bilodeau",
      "userId": "10142856831792134633"
     },
     "user_tz": 420
    },
    "id": "8_PM7Bt81FKh"
   },
   "outputs": [],
   "source": [
    "regression_df = pd.read_csv('Data/Boston_Housing_from_Sklearn.csv')"
   ]
  },
  {
   "cell_type": "markdown",
   "metadata": {
    "id": "1YPAPvdG6Sqy"
   },
   "source": [
    "# Regression\n",
    "\n",
    "Let's start with modeling the regression dataset"
   ]
  },
  {
   "cell_type": "code",
   "execution_count": 37,
   "metadata": {
    "ExecuteTime": {
     "end_time": "2023-02-08T02:15:00.324011Z",
     "start_time": "2023-02-08T02:15:00.314019Z"
    },
    "colab": {
     "base_uri": "https://localhost:8080/",
     "height": 204
    },
    "executionInfo": {
     "elapsed": 218,
     "status": "ok",
     "timestamp": 1698803943369,
     "user": {
      "displayName": "Yvon Bilodeau",
      "userId": "10142856831792134633"
     },
     "user_tz": 420
    },
    "id": "3STtBugN3fp1",
    "outputId": "a8fdf0a0-c92d-42b5-9931-07089286b0ae"
   },
   "outputs": [
    {
     "data": {
      "text/html": [
       "<div>\n",
       "<style scoped>\n",
       "    .dataframe tbody tr th:only-of-type {\n",
       "        vertical-align: middle;\n",
       "    }\n",
       "\n",
       "    .dataframe tbody tr th {\n",
       "        vertical-align: top;\n",
       "    }\n",
       "\n",
       "    .dataframe thead th {\n",
       "        text-align: right;\n",
       "    }\n",
       "</style>\n",
       "<table border=\"1\" class=\"dataframe\">\n",
       "  <thead>\n",
       "    <tr style=\"text-align: right;\">\n",
       "      <th></th>\n",
       "      <th>CRIM</th>\n",
       "      <th>NOX</th>\n",
       "      <th>RM</th>\n",
       "      <th>AGE</th>\n",
       "      <th>PTRATIO</th>\n",
       "      <th>LSTAT</th>\n",
       "      <th>PRICE</th>\n",
       "    </tr>\n",
       "  </thead>\n",
       "  <tbody>\n",
       "    <tr>\n",
       "      <th>0</th>\n",
       "      <td>0.00632</td>\n",
       "      <td>0.538</td>\n",
       "      <td>6.575</td>\n",
       "      <td>65.2</td>\n",
       "      <td>15.3</td>\n",
       "      <td>4.98</td>\n",
       "      <td>24.0</td>\n",
       "    </tr>\n",
       "    <tr>\n",
       "      <th>1</th>\n",
       "      <td>0.02731</td>\n",
       "      <td>0.469</td>\n",
       "      <td>6.421</td>\n",
       "      <td>78.9</td>\n",
       "      <td>17.8</td>\n",
       "      <td>9.14</td>\n",
       "      <td>21.6</td>\n",
       "    </tr>\n",
       "    <tr>\n",
       "      <th>2</th>\n",
       "      <td>0.02729</td>\n",
       "      <td>0.469</td>\n",
       "      <td>7.185</td>\n",
       "      <td>61.1</td>\n",
       "      <td>17.8</td>\n",
       "      <td>4.03</td>\n",
       "      <td>34.7</td>\n",
       "    </tr>\n",
       "    <tr>\n",
       "      <th>3</th>\n",
       "      <td>0.03237</td>\n",
       "      <td>0.458</td>\n",
       "      <td>6.998</td>\n",
       "      <td>45.8</td>\n",
       "      <td>18.7</td>\n",
       "      <td>2.94</td>\n",
       "      <td>33.4</td>\n",
       "    </tr>\n",
       "    <tr>\n",
       "      <th>4</th>\n",
       "      <td>0.06905</td>\n",
       "      <td>0.458</td>\n",
       "      <td>7.147</td>\n",
       "      <td>54.2</td>\n",
       "      <td>18.7</td>\n",
       "      <td>5.33</td>\n",
       "      <td>36.2</td>\n",
       "    </tr>\n",
       "  </tbody>\n",
       "</table>\n",
       "</div>"
      ],
      "text/plain": [
       "      CRIM    NOX     RM   AGE  PTRATIO  LSTAT  PRICE\n",
       "0  0.00632  0.538  6.575  65.2     15.3   4.98   24.0\n",
       "1  0.02731  0.469  6.421  78.9     17.8   9.14   21.6\n",
       "2  0.02729  0.469  7.185  61.1     17.8   4.03   34.7\n",
       "3  0.03237  0.458  6.998  45.8     18.7   2.94   33.4\n",
       "4  0.06905  0.458  7.147  54.2     18.7   5.33   36.2"
      ]
     },
     "execution_count": 37,
     "metadata": {},
     "output_type": "execute_result"
    }
   ],
   "source": [
    "regression_df.head()"
   ]
  },
  {
   "cell_type": "code",
   "execution_count": 8,
   "metadata": {
    "ExecuteTime": {
     "end_time": "2023-02-08T02:15:00.334424Z",
     "start_time": "2023-02-08T02:15:00.325015Z"
    },
    "colab": {
     "base_uri": "https://localhost:8080/"
    },
    "executionInfo": {
     "elapsed": 17,
     "status": "ok",
     "timestamp": 1698803943369,
     "user": {
      "displayName": "Yvon Bilodeau",
      "userId": "10142856831792134633"
     },
     "user_tz": 420
    },
    "id": "4sJoxV1ZJKBd",
    "outputId": "ca6b1cac-9d39-4a4f-b683-d4c2bcfe3fe9"
   },
   "outputs": [
    {
     "name": "stdout",
     "output_type": "stream",
     "text": [
      "<class 'pandas.core.frame.DataFrame'>\n",
      "RangeIndex: 506 entries, 0 to 505\n",
      "Data columns (total 7 columns):\n",
      " #   Column   Non-Null Count  Dtype  \n",
      "---  ------   --------------  -----  \n",
      " 0   CRIM     506 non-null    float64\n",
      " 1   NOX      506 non-null    float64\n",
      " 2   RM       506 non-null    float64\n",
      " 3   AGE      506 non-null    float64\n",
      " 4   PTRATIO  506 non-null    float64\n",
      " 5   LSTAT    506 non-null    float64\n",
      " 6   PRICE    506 non-null    float64\n",
      "dtypes: float64(7)\n",
      "memory usage: 27.8 KB\n"
     ]
    }
   ],
   "source": [
    "regression_df.info()"
   ]
  },
  {
   "cell_type": "code",
   "execution_count": 9,
   "metadata": {
    "ExecuteTime": {
     "end_time": "2023-02-08T02:15:00.341921Z",
     "start_time": "2023-02-08T02:15:00.336419Z"
    },
    "colab": {
     "base_uri": "https://localhost:8080/"
    },
    "executionInfo": {
     "elapsed": 11,
     "status": "ok",
     "timestamp": 1698803943369,
     "user": {
      "displayName": "Yvon Bilodeau",
      "userId": "10142856831792134633"
     },
     "user_tz": 420
    },
    "id": "uvcvdJUZ6YKX",
    "outputId": "c33ec5e8-9fdb-479c-d23a-b17558802b91"
   },
   "outputs": [
    {
     "data": {
      "text/plain": [
       "False"
      ]
     },
     "execution_count": 9,
     "metadata": {},
     "output_type": "execute_result"
    }
   ],
   "source": [
    "regression_df.duplicated().any()"
   ]
  },
  {
   "cell_type": "code",
   "execution_count": 10,
   "metadata": {
    "ExecuteTime": {
     "end_time": "2023-02-08T02:15:00.368107Z",
     "start_time": "2023-02-08T02:15:00.342920Z"
    },
    "colab": {
     "base_uri": "https://localhost:8080/",
     "height": 297
    },
    "executionInfo": {
     "elapsed": 6,
     "status": "ok",
     "timestamp": 1698803943370,
     "user": {
      "displayName": "Yvon Bilodeau",
      "userId": "10142856831792134633"
     },
     "user_tz": 420
    },
    "id": "IrxmHTaU6s3N",
    "outputId": "0429c421-e5cb-4196-9317-11279e5b8668"
   },
   "outputs": [
    {
     "data": {
      "text/html": [
       "<div>\n",
       "<style scoped>\n",
       "    .dataframe tbody tr th:only-of-type {\n",
       "        vertical-align: middle;\n",
       "    }\n",
       "\n",
       "    .dataframe tbody tr th {\n",
       "        vertical-align: top;\n",
       "    }\n",
       "\n",
       "    .dataframe thead th {\n",
       "        text-align: right;\n",
       "    }\n",
       "</style>\n",
       "<table border=\"1\" class=\"dataframe\">\n",
       "  <thead>\n",
       "    <tr style=\"text-align: right;\">\n",
       "      <th></th>\n",
       "      <th>CRIM</th>\n",
       "      <th>NOX</th>\n",
       "      <th>RM</th>\n",
       "      <th>AGE</th>\n",
       "      <th>PTRATIO</th>\n",
       "      <th>LSTAT</th>\n",
       "      <th>PRICE</th>\n",
       "    </tr>\n",
       "  </thead>\n",
       "  <tbody>\n",
       "    <tr>\n",
       "      <th>count</th>\n",
       "      <td>506.000000</td>\n",
       "      <td>506.000000</td>\n",
       "      <td>506.000000</td>\n",
       "      <td>506.000000</td>\n",
       "      <td>506.000000</td>\n",
       "      <td>506.000000</td>\n",
       "      <td>506.000000</td>\n",
       "    </tr>\n",
       "    <tr>\n",
       "      <th>mean</th>\n",
       "      <td>3.613524</td>\n",
       "      <td>0.554695</td>\n",
       "      <td>6.284634</td>\n",
       "      <td>68.574901</td>\n",
       "      <td>18.455534</td>\n",
       "      <td>12.653063</td>\n",
       "      <td>22.532806</td>\n",
       "    </tr>\n",
       "    <tr>\n",
       "      <th>std</th>\n",
       "      <td>8.601545</td>\n",
       "      <td>0.115878</td>\n",
       "      <td>0.702617</td>\n",
       "      <td>28.148861</td>\n",
       "      <td>2.164946</td>\n",
       "      <td>7.141062</td>\n",
       "      <td>9.197104</td>\n",
       "    </tr>\n",
       "    <tr>\n",
       "      <th>min</th>\n",
       "      <td>0.006320</td>\n",
       "      <td>0.385000</td>\n",
       "      <td>3.561000</td>\n",
       "      <td>2.900000</td>\n",
       "      <td>12.600000</td>\n",
       "      <td>1.730000</td>\n",
       "      <td>5.000000</td>\n",
       "    </tr>\n",
       "    <tr>\n",
       "      <th>25%</th>\n",
       "      <td>0.082045</td>\n",
       "      <td>0.449000</td>\n",
       "      <td>5.885500</td>\n",
       "      <td>45.025000</td>\n",
       "      <td>17.400000</td>\n",
       "      <td>6.950000</td>\n",
       "      <td>17.025000</td>\n",
       "    </tr>\n",
       "    <tr>\n",
       "      <th>50%</th>\n",
       "      <td>0.256510</td>\n",
       "      <td>0.538000</td>\n",
       "      <td>6.208500</td>\n",
       "      <td>77.500000</td>\n",
       "      <td>19.050000</td>\n",
       "      <td>11.360000</td>\n",
       "      <td>21.200000</td>\n",
       "    </tr>\n",
       "    <tr>\n",
       "      <th>75%</th>\n",
       "      <td>3.677083</td>\n",
       "      <td>0.624000</td>\n",
       "      <td>6.623500</td>\n",
       "      <td>94.075000</td>\n",
       "      <td>20.200000</td>\n",
       "      <td>16.955000</td>\n",
       "      <td>25.000000</td>\n",
       "    </tr>\n",
       "    <tr>\n",
       "      <th>max</th>\n",
       "      <td>88.976200</td>\n",
       "      <td>0.871000</td>\n",
       "      <td>8.780000</td>\n",
       "      <td>100.000000</td>\n",
       "      <td>22.000000</td>\n",
       "      <td>37.970000</td>\n",
       "      <td>50.000000</td>\n",
       "    </tr>\n",
       "  </tbody>\n",
       "</table>\n",
       "</div>"
      ],
      "text/plain": [
       "             CRIM         NOX          RM         AGE     PTRATIO       LSTAT  \\\n",
       "count  506.000000  506.000000  506.000000  506.000000  506.000000  506.000000   \n",
       "mean     3.613524    0.554695    6.284634   68.574901   18.455534   12.653063   \n",
       "std      8.601545    0.115878    0.702617   28.148861    2.164946    7.141062   \n",
       "min      0.006320    0.385000    3.561000    2.900000   12.600000    1.730000   \n",
       "25%      0.082045    0.449000    5.885500   45.025000   17.400000    6.950000   \n",
       "50%      0.256510    0.538000    6.208500   77.500000   19.050000   11.360000   \n",
       "75%      3.677083    0.624000    6.623500   94.075000   20.200000   16.955000   \n",
       "max     88.976200    0.871000    8.780000  100.000000   22.000000   37.970000   \n",
       "\n",
       "            PRICE  \n",
       "count  506.000000  \n",
       "mean    22.532806  \n",
       "std      9.197104  \n",
       "min      5.000000  \n",
       "25%     17.025000  \n",
       "50%     21.200000  \n",
       "75%     25.000000  \n",
       "max     50.000000  "
      ]
     },
     "execution_count": 10,
     "metadata": {},
     "output_type": "execute_result"
    }
   ],
   "source": [
    "regression_df.describe()"
   ]
  },
  {
   "cell_type": "code",
   "execution_count": 78,
   "metadata": {
    "ExecuteTime": {
     "end_time": "2023-02-08T02:15:00.377085Z",
     "start_time": "2023-02-08T02:15:00.370103Z"
    },
    "executionInfo": {
     "elapsed": 5,
     "status": "ok",
     "timestamp": 1698803943370,
     "user": {
      "displayName": "Yvon Bilodeau",
      "userId": "10142856831792134633"
     },
     "user_tz": 420
    },
    "id": "rU0zM_dk6xDd"
   },
   "outputs": [],
   "source": [
    "# Define X and Y and complete the train test split\n",
    "X = regression_df.drop(columns = 'PRICE')\n",
    "y = regression_df['PRICE']\n",
    "\n",
    "X_train, X_test, y_train, y_test = train_test_split(X, y, random_state = 42)"
   ]
  },
  {
   "cell_type": "code",
   "execution_count": 79,
   "metadata": {},
   "outputs": [
    {
     "data": {
      "text/plain": [
       "((379, 6), (379,))"
      ]
     },
     "execution_count": 79,
     "metadata": {},
     "output_type": "execute_result"
    }
   ],
   "source": [
    "X_train.shape, y_train.shape"
   ]
  },
  {
   "cell_type": "markdown",
   "metadata": {
    "id": "MqS765vN8Xti"
   },
   "source": [
    "## Scaling\n",
    "\n",
    "### Important Notes\n",
    "- Always scale your data for deep learning.  \n",
    "- Otherwise you get a problem call 'Exploding Weights'.  \n",
    "- Some weights will be updated much faster than others because the inputs are at larger scales.  \n",
    "- This tends to hurt learning as data on smaller scales does not update as fast and doesn't get to contribute as much to the decision making process.  \n",
    "- By scaling we put all features on the same footing."
   ]
  },
  {
   "cell_type": "code",
   "execution_count": 43,
   "metadata": {},
   "outputs": [
    {
     "data": {
      "text/plain": [
       "(379, 6)"
      ]
     },
     "execution_count": 43,
     "metadata": {},
     "output_type": "execute_result"
    }
   ],
   "source": [
    "X_train_proc.shape"
   ]
  },
  {
   "cell_type": "code",
   "execution_count": 44,
   "metadata": {
    "ExecuteTime": {
     "end_time": "2023-02-08T02:15:00.384069Z",
     "start_time": "2023-02-08T02:15:00.377085Z"
    },
    "executionInfo": {
     "elapsed": 216,
     "status": "ok",
     "timestamp": 1698803943582,
     "user": {
      "displayName": "Yvon Bilodeau",
      "userId": "10142856831792134633"
     },
     "user_tz": 420
    },
    "id": "bvCCtAhQ7gGe"
   },
   "outputs": [],
   "source": [
    "# Scale the data\n",
    "scaler = MinMaxScaler()\n",
    "scaler.fit(X_train)\n",
    "X_train_proc = scaler.transform(X_train)\n",
    "X_test_proc = scaler.transform(X_test)"
   ]
  },
  {
   "cell_type": "markdown",
   "metadata": {
    "id": "BzX4RBcu8TFx"
   },
   "source": [
    "## First Simple Model\n",
    "\n",
    "We always want to start simple, as deep learning models can get very complex fast and more complex models take more time to train and are more prone to overfitting.  A well performing simple model is better than a well performing complex model.\n",
    "\n",
    "## Input layer\n",
    "The first layer we will define is not technically the input layer.  We will define the first hidden layer with a special argument that tells Keras how to create a input layer:\n",
    "\n",
    "`input_dim=`\n",
    "\n",
    "Input layers can also be defined manually using tensorflow.keras.layers.InputLayer\n",
    "\n",
    "## Activation function\n",
    "\n",
    "For the single hidden layer we will try just 3 nodes and use a ReLU activation.  ReLUs tend to perform well for hidden layers.\n",
    "\n",
    "## Output Layer\n",
    "\n",
    "For the output layer (last layer) we just use one node because we only want the output of the model to be one number.  We will use a linear activation function.  This will simply output the value from the weights and bias in the node with no change.  The output will be a continuous number, a float.  This will make our model a regression model.\n",
    "\n",
    "\n"
   ]
  },
  {
   "cell_type": "markdown",
   "metadata": {
    "id": "glnm6hhh4M6u"
   },
   "source": [
    "# Note:\n",
    "### The first layer you define will NOT be the input layer!  Keras will create an input layer on its own, implicitly."
   ]
  },
  {
   "cell_type": "code",
   "execution_count": 45,
   "metadata": {
    "ExecuteTime": {
     "end_time": "2023-02-08T02:23:47.149108Z",
     "start_time": "2023-02-08T02:23:47.117114Z"
    },
    "colab": {
     "base_uri": "https://localhost:8080/"
    },
    "executionInfo": {
     "elapsed": 191,
     "status": "ok",
     "timestamp": 1698803943771,
     "user": {
      "displayName": "Yvon Bilodeau",
      "userId": "10142856831792134633"
     },
     "user_tz": 420
    },
    "id": "AnjwY1dz7vcG",
    "outputId": "702a01f0-8afb-4f6d-e791-adc74722749a"
   },
   "outputs": [
    {
     "name": "stdout",
     "output_type": "stream",
     "text": [
      "Model: \"sequential\"\n",
      "_________________________________________________________________\n",
      " Layer (type)                Output Shape              Param #   \n",
      "=================================================================\n",
      " dense (Dense)               (None, 10)                70        \n",
      "                                                                 \n",
      " dense_1 (Dense)             (None, 10)                110       \n",
      "                                                                 \n",
      " dense_2 (Dense)             (None, 1)                 11        \n",
      "                                                                 \n",
      "=================================================================\n",
      "Total params: 191\n",
      "Trainable params: 191\n",
      "Non-trainable params: 0\n",
      "_________________________________________________________________\n"
     ]
    }
   ],
   "source": [
    "# Set Random Seeds\n",
    "keras.backend.clear_session()\n",
    "np.random.seed(42)\n",
    "tf.random.set_seed(42)\n",
    "\n",
    "# Instantiate your sequential model\n",
    "model = Sequential()\n",
    "# Add then Input Layer with a shape equal the the number of columns of the input data\n",
    "model.add(Input(shape=(X_train_proc.shape[1],)))\n",
    "# Add first hidden layer\n",
    "model.add(Dense(10, activation='relu'))\n",
    "# (Optional) Add more hidden layers\n",
    "model.add(Dense(10, activation='relu'))\n",
    "# Add output layer with 1 node\n",
    "model.add(Dense(1))\n",
    "\n",
    "# Check summary of network\n",
    "model.summary()\n",
    "# Compile your model.\n",
    "from tensorflow.keras.metrics import RootMeanSquaredError\n",
    "model.compile(loss='mse', metrics=['mae', RootMeanSquaredError()], optimizer='adam')\n"
   ]
  },
  {
   "cell_type": "markdown",
   "metadata": {
    "id": "9wAFuCDGOBzo"
   },
   "source": [
    "## Compiling\n",
    "\n",
    "Compiling the model puts all the pieces together to make it ready to train.  \n",
    "\n",
    "For this step, we need to specify a few other hyperparameters:\n",
    "\n",
    "* **Optimizer:** An Adam optimizer is a favorite and often performs well, it's a good place to start.\n",
    "  - Other optimizers : Gradient Descent, Stochastic Gradient Descent, Adagrad, RMSProp\n",
    "* **Loss Function:** 'mse' or mean squared error.  This is the number our model will try to reduce in each epoch.  Since this is a regression model we want our model to minimize the mean squared error.  A loss function ALWAYS needs to be a measurement of the total error that the model can REDUCE.  R^2 won't work because higher is better. We don't want the model to reduce R^2!\n",
    "* **Metrics:** 'mae' or mean absolute error.  We can provide a list of any appropriate metrics we want the model to keep track at each epoch.\n",
    "\n",
    "\n"
   ]
  },
  {
   "cell_type": "markdown",
   "metadata": {
    "id": "sBvS_wkr_hEh"
   },
   "source": [
    "# Training (AKA fitting)\n",
    "\n",
    "Let's try training our model for 100 few epochs.  Sometimes that is enough, and it will give us an idea whether our model is learning anything."
   ]
  },
  {
   "cell_type": "code",
   "execution_count": 80,
   "metadata": {
    "ExecuteTime": {
     "end_time": "2023-02-08T02:23:54.798328Z",
     "start_time": "2023-02-08T02:23:48.643134Z"
    },
    "colab": {
     "base_uri": "https://localhost:8080/"
    },
    "executionInfo": {
     "elapsed": 22461,
     "status": "ok",
     "timestamp": 1698803966394,
     "user": {
      "displayName": "Yvon Bilodeau",
      "userId": "10142856831792134633"
     },
     "user_tz": 420
    },
    "id": "81VFx1n1-TS7",
    "outputId": "38986443-be8d-41c0-8a54-27c0bd8fe38b"
   },
   "outputs": [
    {
     "name": "stdout",
     "output_type": "stream",
     "text": [
      "Epoch 1/300\n"
     ]
    },
    {
     "name": "stdout",
     "output_type": "stream",
     "text": [
      "12/12 [==============================] - 0s 10ms/step - loss: 22.9785 - mae: 3.3662 - root_mean_squared_error: 4.7936 - val_loss: 20.9070 - val_mae: 3.0311 - val_root_mean_squared_error: 4.5724\n",
      "Epoch 2/300\n",
      "12/12 [==============================] - 0s 4ms/step - loss: 22.9712 - mae: 3.3689 - root_mean_squared_error: 4.7928 - val_loss: 20.9960 - val_mae: 2.9946 - val_root_mean_squared_error: 4.5821\n",
      "Epoch 3/300\n",
      "12/12 [==============================] - 0s 4ms/step - loss: 22.9644 - mae: 3.3364 - root_mean_squared_error: 4.7921 - val_loss: 21.0063 - val_mae: 2.9892 - val_root_mean_squared_error: 4.5833\n",
      "Epoch 4/300\n",
      "12/12 [==============================] - 0s 4ms/step - loss: 22.9711 - mae: 3.3595 - root_mean_squared_error: 4.7928 - val_loss: 20.8937 - val_mae: 3.0287 - val_root_mean_squared_error: 4.5710\n",
      "Epoch 5/300\n",
      "12/12 [==============================] - 0s 4ms/step - loss: 22.9167 - mae: 3.3595 - root_mean_squared_error: 4.7871 - val_loss: 20.9372 - val_mae: 3.0052 - val_root_mean_squared_error: 4.5757\n",
      "Epoch 6/300\n",
      "12/12 [==============================] - 0s 4ms/step - loss: 22.9563 - mae: 3.3597 - root_mean_squared_error: 4.7913 - val_loss: 20.9701 - val_mae: 2.9955 - val_root_mean_squared_error: 4.5793\n",
      "Epoch 7/300\n",
      "12/12 [==============================] - 0s 5ms/step - loss: 22.8855 - mae: 3.3529 - root_mean_squared_error: 4.7839 - val_loss: 20.9312 - val_mae: 3.0071 - val_root_mean_squared_error: 4.5751\n",
      "Epoch 8/300\n",
      "12/12 [==============================] - 0s 4ms/step - loss: 22.9034 - mae: 3.3654 - root_mean_squared_error: 4.7857 - val_loss: 20.8991 - val_mae: 3.0195 - val_root_mean_squared_error: 4.5716\n",
      "Epoch 9/300\n",
      "12/12 [==============================] - 0s 4ms/step - loss: 22.9173 - mae: 3.3482 - root_mean_squared_error: 4.7872 - val_loss: 21.0098 - val_mae: 2.9838 - val_root_mean_squared_error: 4.5836\n",
      "Epoch 10/300\n",
      "12/12 [==============================] - 0s 4ms/step - loss: 22.8736 - mae: 3.3464 - root_mean_squared_error: 4.7826 - val_loss: 20.8987 - val_mae: 3.0182 - val_root_mean_squared_error: 4.5715\n",
      "Epoch 11/300\n",
      "12/12 [==============================] - 0s 4ms/step - loss: 22.8544 - mae: 3.3570 - root_mean_squared_error: 4.7806 - val_loss: 20.9340 - val_mae: 3.0042 - val_root_mean_squared_error: 4.5754\n",
      "Epoch 12/300\n",
      "12/12 [==============================] - 0s 4ms/step - loss: 22.8328 - mae: 3.3520 - root_mean_squared_error: 4.7784 - val_loss: 20.9077 - val_mae: 3.0139 - val_root_mean_squared_error: 4.5725\n",
      "Epoch 13/300\n",
      "12/12 [==============================] - 0s 4ms/step - loss: 22.8758 - mae: 3.3661 - root_mean_squared_error: 4.7829 - val_loss: 20.8769 - val_mae: 3.0312 - val_root_mean_squared_error: 4.5691\n",
      "Epoch 14/300\n",
      "12/12 [==============================] - 0s 4ms/step - loss: 23.0436 - mae: 3.3514 - root_mean_squared_error: 4.8004 - val_loss: 21.1006 - val_mae: 2.9676 - val_root_mean_squared_error: 4.5935\n",
      "Epoch 15/300\n",
      "12/12 [==============================] - 0s 10ms/step - loss: 22.8124 - mae: 3.3427 - root_mean_squared_error: 4.7762 - val_loss: 20.8897 - val_mae: 3.0208 - val_root_mean_squared_error: 4.5705\n",
      "Epoch 16/300\n",
      "12/12 [==============================] - 0s 7ms/step - loss: 22.8189 - mae: 3.3632 - root_mean_squared_error: 4.7769 - val_loss: 20.8727 - val_mae: 3.0290 - val_root_mean_squared_error: 4.5687\n",
      "Epoch 17/300\n",
      "12/12 [==============================] - 0s 4ms/step - loss: 22.8087 - mae: 3.3596 - root_mean_squared_error: 4.7758 - val_loss: 20.8918 - val_mae: 3.0177 - val_root_mean_squared_error: 4.5708\n",
      "Epoch 18/300\n",
      "12/12 [==============================] - 0s 4ms/step - loss: 22.7995 - mae: 3.3505 - root_mean_squared_error: 4.7749 - val_loss: 20.9429 - val_mae: 2.9978 - val_root_mean_squared_error: 4.5763\n",
      "Epoch 19/300\n",
      "12/12 [==============================] - 0s 5ms/step - loss: 22.8026 - mae: 3.3439 - root_mean_squared_error: 4.7752 - val_loss: 20.9070 - val_mae: 3.0111 - val_root_mean_squared_error: 4.5724\n",
      "Epoch 20/300\n",
      "12/12 [==============================] - 0s 4ms/step - loss: 22.7772 - mae: 3.3500 - root_mean_squared_error: 4.7726 - val_loss: 20.9128 - val_mae: 3.0076 - val_root_mean_squared_error: 4.5731\n",
      "Epoch 21/300\n",
      "12/12 [==============================] - 0s 5ms/step - loss: 22.7753 - mae: 3.3518 - root_mean_squared_error: 4.7723 - val_loss: 20.8867 - val_mae: 3.0190 - val_root_mean_squared_error: 4.5702\n",
      "Epoch 22/300\n",
      "12/12 [==============================] - 0s 4ms/step - loss: 22.7623 - mae: 3.3508 - root_mean_squared_error: 4.7710 - val_loss: 20.9228 - val_mae: 3.0051 - val_root_mean_squared_error: 4.5741\n",
      "Epoch 23/300\n",
      "12/12 [==============================] - 0s 5ms/step - loss: 22.7857 - mae: 3.3475 - root_mean_squared_error: 4.7734 - val_loss: 20.9262 - val_mae: 3.0031 - val_root_mean_squared_error: 4.5745\n",
      "Epoch 24/300\n",
      "12/12 [==============================] - 0s 5ms/step - loss: 22.7746 - mae: 3.3429 - root_mean_squared_error: 4.7723 - val_loss: 20.9102 - val_mae: 3.0073 - val_root_mean_squared_error: 4.5728\n",
      "Epoch 25/300\n",
      "12/12 [==============================] - 0s 4ms/step - loss: 22.7782 - mae: 3.3445 - root_mean_squared_error: 4.7726 - val_loss: 20.9624 - val_mae: 2.9916 - val_root_mean_squared_error: 4.5785\n",
      "Epoch 26/300\n",
      "12/12 [==============================] - 0s 4ms/step - loss: 22.8021 - mae: 3.3407 - root_mean_squared_error: 4.7752 - val_loss: 20.9423 - val_mae: 2.9967 - val_root_mean_squared_error: 4.5763\n",
      "Epoch 27/300\n",
      "12/12 [==============================] - 0s 6ms/step - loss: 22.7343 - mae: 3.3480 - root_mean_squared_error: 4.7681 - val_loss: 20.8663 - val_mae: 3.0235 - val_root_mean_squared_error: 4.5680\n",
      "Epoch 28/300\n",
      "12/12 [==============================] - 0s 5ms/step - loss: 22.7743 - mae: 3.3615 - root_mean_squared_error: 4.7722 - val_loss: 20.8507 - val_mae: 3.0399 - val_root_mean_squared_error: 4.5663\n",
      "Epoch 29/300\n",
      "12/12 [==============================] - 0s 4ms/step - loss: 22.7228 - mae: 3.3558 - root_mean_squared_error: 4.7668 - val_loss: 20.8950 - val_mae: 3.0107 - val_root_mean_squared_error: 4.5711\n",
      "Epoch 30/300\n",
      "12/12 [==============================] - 0s 4ms/step - loss: 22.7397 - mae: 3.3512 - root_mean_squared_error: 4.7686 - val_loss: 20.9051 - val_mae: 3.0058 - val_root_mean_squared_error: 4.5722\n",
      "Epoch 31/300\n",
      "12/12 [==============================] - 0s 4ms/step - loss: 22.7393 - mae: 3.3381 - root_mean_squared_error: 4.7686 - val_loss: 20.9656 - val_mae: 2.9874 - val_root_mean_squared_error: 4.5788\n",
      "Epoch 32/300\n",
      "12/12 [==============================] - 0s 4ms/step - loss: 22.7899 - mae: 3.3478 - root_mean_squared_error: 4.7739 - val_loss: 20.8933 - val_mae: 3.0119 - val_root_mean_squared_error: 4.5709\n",
      "Epoch 33/300\n",
      "12/12 [==============================] - 0s 5ms/step - loss: 22.7216 - mae: 3.3356 - root_mean_squared_error: 4.7667 - val_loss: 20.9321 - val_mae: 2.9955 - val_root_mean_squared_error: 4.5752\n",
      "Epoch 34/300\n",
      "12/12 [==============================] - 0s 5ms/step - loss: 22.6959 - mae: 3.3371 - root_mean_squared_error: 4.7640 - val_loss: 20.9140 - val_mae: 3.0014 - val_root_mean_squared_error: 4.5732\n",
      "Epoch 35/300\n",
      "12/12 [==============================] - 0s 4ms/step - loss: 22.8185 - mae: 3.3304 - root_mean_squared_error: 4.7769 - val_loss: 20.9834 - val_mae: 2.9806 - val_root_mean_squared_error: 4.5808\n",
      "Epoch 36/300\n",
      "12/12 [==============================] - 0s 4ms/step - loss: 22.7506 - mae: 3.3502 - root_mean_squared_error: 4.7698 - val_loss: 20.8446 - val_mae: 3.0379 - val_root_mean_squared_error: 4.5656\n",
      "Epoch 37/300\n",
      "12/12 [==============================] - 0s 4ms/step - loss: 22.8300 - mae: 3.3470 - root_mean_squared_error: 4.7781 - val_loss: 20.9380 - val_mae: 2.9903 - val_root_mean_squared_error: 4.5758\n",
      "Epoch 38/300\n",
      "12/12 [==============================] - 0s 5ms/step - loss: 22.7714 - mae: 3.3618 - root_mean_squared_error: 4.7719 - val_loss: 20.8400 - val_mae: 3.0385 - val_root_mean_squared_error: 4.5651\n",
      "Epoch 39/300\n",
      "12/12 [==============================] - 0s 4ms/step - loss: 22.6668 - mae: 3.3538 - root_mean_squared_error: 4.7610 - val_loss: 20.8819 - val_mae: 3.0081 - val_root_mean_squared_error: 4.5697\n",
      "Epoch 40/300\n",
      "12/12 [==============================] - 0s 4ms/step - loss: 22.6679 - mae: 3.3373 - root_mean_squared_error: 4.7611 - val_loss: 20.9484 - val_mae: 2.9855 - val_root_mean_squared_error: 4.5769\n",
      "Epoch 41/300\n",
      "12/12 [==============================] - 0s 4ms/step - loss: 22.6877 - mae: 3.3234 - root_mean_squared_error: 4.7632 - val_loss: 20.9551 - val_mae: 2.9822 - val_root_mean_squared_error: 4.5777\n",
      "Epoch 42/300\n",
      "12/12 [==============================] - 0s 4ms/step - loss: 22.7981 - mae: 3.3549 - root_mean_squared_error: 4.7747 - val_loss: 20.8261 - val_mae: 3.0412 - val_root_mean_squared_error: 4.5636\n",
      "Epoch 43/300\n",
      "12/12 [==============================] - 0s 4ms/step - loss: 22.6575 - mae: 3.3410 - root_mean_squared_error: 4.7600 - val_loss: 20.9397 - val_mae: 2.9843 - val_root_mean_squared_error: 4.5760\n",
      "Epoch 44/300\n",
      "12/12 [==============================] - 0s 4ms/step - loss: 22.6766 - mae: 3.3332 - root_mean_squared_error: 4.7620 - val_loss: 20.8663 - val_mae: 3.0071 - val_root_mean_squared_error: 4.5680\n",
      "Epoch 45/300\n",
      "12/12 [==============================] - 0s 5ms/step - loss: 22.6779 - mae: 3.3308 - root_mean_squared_error: 4.7621 - val_loss: 20.9199 - val_mae: 2.9870 - val_root_mean_squared_error: 4.5738\n",
      "Epoch 46/300\n",
      "12/12 [==============================] - 0s 5ms/step - loss: 22.6374 - mae: 3.3351 - root_mean_squared_error: 4.7579 - val_loss: 20.8875 - val_mae: 2.9973 - val_root_mean_squared_error: 4.5703\n",
      "Epoch 47/300\n",
      "12/12 [==============================] - 0s 9ms/step - loss: 22.6036 - mae: 3.3353 - root_mean_squared_error: 4.7543 - val_loss: 20.8706 - val_mae: 3.0031 - val_root_mean_squared_error: 4.5684\n",
      "Epoch 48/300\n",
      "12/12 [==============================] - 0s 5ms/step - loss: 22.6181 - mae: 3.3370 - root_mean_squared_error: 4.7559 - val_loss: 20.8855 - val_mae: 2.9952 - val_root_mean_squared_error: 4.5701\n",
      "Epoch 49/300\n",
      "12/12 [==============================] - 0s 4ms/step - loss: 22.5992 - mae: 3.3362 - root_mean_squared_error: 4.7539 - val_loss: 20.8536 - val_mae: 3.0082 - val_root_mean_squared_error: 4.5666\n",
      "Epoch 50/300\n",
      "12/12 [==============================] - 0s 4ms/step - loss: 22.6100 - mae: 3.3438 - root_mean_squared_error: 4.7550 - val_loss: 20.8261 - val_mae: 3.0216 - val_root_mean_squared_error: 4.5636\n",
      "Epoch 51/300\n",
      "12/12 [==============================] - 0s 4ms/step - loss: 22.6347 - mae: 3.3381 - root_mean_squared_error: 4.7576 - val_loss: 20.9234 - val_mae: 2.9809 - val_root_mean_squared_error: 4.5742\n",
      "Epoch 52/300\n",
      "12/12 [==============================] - 0s 4ms/step - loss: 22.6041 - mae: 3.3303 - root_mean_squared_error: 4.7544 - val_loss: 20.8508 - val_mae: 3.0058 - val_root_mean_squared_error: 4.5663\n",
      "Epoch 53/300\n",
      "12/12 [==============================] - 0s 4ms/step - loss: 22.5784 - mae: 3.3365 - root_mean_squared_error: 4.7517 - val_loss: 20.8665 - val_mae: 3.0000 - val_root_mean_squared_error: 4.5680\n",
      "Epoch 54/300\n",
      "12/12 [==============================] - 0s 4ms/step - loss: 22.5985 - mae: 3.3349 - root_mean_squared_error: 4.7538 - val_loss: 20.8366 - val_mae: 3.0114 - val_root_mean_squared_error: 4.5647\n",
      "Epoch 55/300\n",
      "12/12 [==============================] - 0s 4ms/step - loss: 22.5960 - mae: 3.3418 - root_mean_squared_error: 4.7535 - val_loss: 20.8892 - val_mae: 2.9870 - val_root_mean_squared_error: 4.5705\n",
      "Epoch 56/300\n",
      "12/12 [==============================] - 0s 4ms/step - loss: 22.6012 - mae: 3.3216 - root_mean_squared_error: 4.7541 - val_loss: 20.9323 - val_mae: 2.9757 - val_root_mean_squared_error: 4.5752\n",
      "Epoch 57/300\n",
      "12/12 [==============================] - 0s 5ms/step - loss: 22.5699 - mae: 3.3315 - root_mean_squared_error: 4.7508 - val_loss: 20.8285 - val_mae: 3.0151 - val_root_mean_squared_error: 4.5638\n",
      "Epoch 58/300\n",
      "12/12 [==============================] - 0s 4ms/step - loss: 22.5974 - mae: 3.3319 - root_mean_squared_error: 4.7537 - val_loss: 20.8815 - val_mae: 2.9876 - val_root_mean_squared_error: 4.5696\n",
      "Epoch 59/300\n",
      "12/12 [==============================] - 0s 4ms/step - loss: 22.5601 - mae: 3.3347 - root_mean_squared_error: 4.7497 - val_loss: 20.8519 - val_mae: 2.9983 - val_root_mean_squared_error: 4.5664\n",
      "Epoch 60/300\n",
      "12/12 [==============================] - 0s 4ms/step - loss: 22.5335 - mae: 3.3360 - root_mean_squared_error: 4.7469 - val_loss: 20.8308 - val_mae: 3.0071 - val_root_mean_squared_error: 4.5641\n",
      "Epoch 61/300\n",
      "12/12 [==============================] - 0s 4ms/step - loss: 22.5741 - mae: 3.3476 - root_mean_squared_error: 4.7512 - val_loss: 20.8144 - val_mae: 3.0172 - val_root_mean_squared_error: 4.5623\n",
      "Epoch 62/300\n",
      "12/12 [==============================] - 0s 4ms/step - loss: 22.5483 - mae: 3.3279 - root_mean_squared_error: 4.7485 - val_loss: 20.9200 - val_mae: 2.9740 - val_root_mean_squared_error: 4.5738\n",
      "Epoch 63/300\n",
      "12/12 [==============================] - 0s 4ms/step - loss: 22.5719 - mae: 3.3209 - root_mean_squared_error: 4.7510 - val_loss: 20.9214 - val_mae: 2.9730 - val_root_mean_squared_error: 4.5740\n",
      "Epoch 64/300\n",
      "12/12 [==============================] - 0s 4ms/step - loss: 22.5229 - mae: 3.3207 - root_mean_squared_error: 4.7458 - val_loss: 20.8218 - val_mae: 3.0080 - val_root_mean_squared_error: 4.5631\n",
      "Epoch 65/300\n",
      "12/12 [==============================] - 0s 4ms/step - loss: 22.5194 - mae: 3.3419 - root_mean_squared_error: 4.7455 - val_loss: 20.8119 - val_mae: 3.0131 - val_root_mean_squared_error: 4.5620\n",
      "Epoch 66/300\n",
      "12/12 [==============================] - 0s 4ms/step - loss: 22.5535 - mae: 3.3535 - root_mean_squared_error: 4.7491 - val_loss: 20.8079 - val_mae: 3.0165 - val_root_mean_squared_error: 4.5616\n",
      "Epoch 67/300\n",
      "12/12 [==============================] - 0s 4ms/step - loss: 22.6022 - mae: 3.3293 - root_mean_squared_error: 4.7542 - val_loss: 20.9728 - val_mae: 2.9610 - val_root_mean_squared_error: 4.5796\n",
      "Epoch 68/300\n",
      "12/12 [==============================] - 0s 4ms/step - loss: 22.5117 - mae: 3.3169 - root_mean_squared_error: 4.7446 - val_loss: 20.8387 - val_mae: 2.9966 - val_root_mean_squared_error: 4.5649\n",
      "Epoch 69/300\n",
      "12/12 [==============================] - 0s 4ms/step - loss: 22.6253 - mae: 3.3258 - root_mean_squared_error: 4.7566 - val_loss: 20.9141 - val_mae: 2.9729 - val_root_mean_squared_error: 4.5732\n",
      "Epoch 70/300\n",
      "12/12 [==============================] - 0s 5ms/step - loss: 22.5354 - mae: 3.3373 - root_mean_squared_error: 4.7471 - val_loss: 20.7821 - val_mae: 3.0364 - val_root_mean_squared_error: 4.5587\n",
      "Epoch 71/300\n",
      "12/12 [==============================] - 0s 6ms/step - loss: 22.5241 - mae: 3.3581 - root_mean_squared_error: 4.7460 - val_loss: 20.7884 - val_mae: 3.0200 - val_root_mean_squared_error: 4.5594\n",
      "Epoch 72/300\n",
      "12/12 [==============================] - 0s 4ms/step - loss: 22.6290 - mae: 3.3222 - root_mean_squared_error: 4.7570 - val_loss: 20.9483 - val_mae: 2.9629 - val_root_mean_squared_error: 4.5769\n",
      "Epoch 73/300\n",
      "12/12 [==============================] - 0s 4ms/step - loss: 22.4878 - mae: 3.3199 - root_mean_squared_error: 4.7421 - val_loss: 20.8153 - val_mae: 3.0021 - val_root_mean_squared_error: 4.5624\n",
      "Epoch 74/300\n",
      "12/12 [==============================] - 0s 4ms/step - loss: 22.5045 - mae: 3.3319 - root_mean_squared_error: 4.7439 - val_loss: 20.7878 - val_mae: 3.0182 - val_root_mean_squared_error: 4.5594\n",
      "Epoch 75/300\n",
      "12/12 [==============================] - 0s 4ms/step - loss: 22.5387 - mae: 3.3510 - root_mean_squared_error: 4.7475 - val_loss: 20.7953 - val_mae: 3.0092 - val_root_mean_squared_error: 4.5602\n",
      "Epoch 76/300\n",
      "12/12 [==============================] - 0s 4ms/step - loss: 22.4863 - mae: 3.3242 - root_mean_squared_error: 4.7420 - val_loss: 20.8454 - val_mae: 2.9859 - val_root_mean_squared_error: 4.5657\n",
      "Epoch 77/300\n",
      "12/12 [==============================] - 0s 7ms/step - loss: 22.4502 - mae: 3.3207 - root_mean_squared_error: 4.7382 - val_loss: 20.8572 - val_mae: 2.9835 - val_root_mean_squared_error: 4.5670\n",
      "Epoch 78/300\n",
      "12/12 [==============================] - 0s 5ms/step - loss: 22.4440 - mae: 3.3191 - root_mean_squared_error: 4.7375 - val_loss: 20.8471 - val_mae: 2.9844 - val_root_mean_squared_error: 4.5659\n",
      "Epoch 79/300\n",
      "12/12 [==============================] - 0s 5ms/step - loss: 22.4347 - mae: 3.3239 - root_mean_squared_error: 4.7365 - val_loss: 20.8089 - val_mae: 2.9963 - val_root_mean_squared_error: 4.5617\n",
      "Epoch 80/300\n",
      "12/12 [==============================] - 0s 5ms/step - loss: 22.4403 - mae: 3.3251 - root_mean_squared_error: 4.7371 - val_loss: 20.8119 - val_mae: 2.9967 - val_root_mean_squared_error: 4.5620\n",
      "Epoch 81/300\n",
      "12/12 [==============================] - 0s 4ms/step - loss: 22.4295 - mae: 3.3304 - root_mean_squared_error: 4.7360 - val_loss: 20.7907 - val_mae: 3.0076 - val_root_mean_squared_error: 4.5597\n",
      "Epoch 82/300\n",
      "12/12 [==============================] - 0s 4ms/step - loss: 22.4798 - mae: 3.3395 - root_mean_squared_error: 4.7413 - val_loss: 20.8266 - val_mae: 2.9902 - val_root_mean_squared_error: 4.5636\n",
      "Epoch 83/300\n",
      "12/12 [==============================] - 0s 5ms/step - loss: 22.4564 - mae: 3.3283 - root_mean_squared_error: 4.7388 - val_loss: 20.8435 - val_mae: 2.9845 - val_root_mean_squared_error: 4.5655\n",
      "Epoch 84/300\n",
      "12/12 [==============================] - 0s 6ms/step - loss: 22.5366 - mae: 3.3442 - root_mean_squared_error: 4.7473 - val_loss: 20.7746 - val_mae: 3.0168 - val_root_mean_squared_error: 4.5579\n",
      "Epoch 85/300\n",
      "12/12 [==============================] - 0s 5ms/step - loss: 22.4391 - mae: 3.3313 - root_mean_squared_error: 4.7370 - val_loss: 20.8938 - val_mae: 2.9700 - val_root_mean_squared_error: 4.5710\n",
      "Epoch 86/300\n",
      "12/12 [==============================] - 0s 4ms/step - loss: 22.4196 - mae: 3.3199 - root_mean_squared_error: 4.7349 - val_loss: 20.8221 - val_mae: 2.9890 - val_root_mean_squared_error: 4.5631\n",
      "Epoch 87/300\n",
      "12/12 [==============================] - 0s 4ms/step - loss: 22.4144 - mae: 3.3287 - root_mean_squared_error: 4.7344 - val_loss: 20.7996 - val_mae: 2.9971 - val_root_mean_squared_error: 4.5607\n",
      "Epoch 88/300\n",
      "12/12 [==============================] - 0s 4ms/step - loss: 22.4042 - mae: 3.3197 - root_mean_squared_error: 4.7333 - val_loss: 20.8402 - val_mae: 2.9807 - val_root_mean_squared_error: 4.5651\n",
      "Epoch 89/300\n",
      "12/12 [==============================] - 0s 4ms/step - loss: 22.4465 - mae: 3.3324 - root_mean_squared_error: 4.7378 - val_loss: 20.7823 - val_mae: 3.0025 - val_root_mean_squared_error: 4.5588\n",
      "Epoch 90/300\n",
      "12/12 [==============================] - 0s 6ms/step - loss: 22.3776 - mae: 3.3256 - root_mean_squared_error: 4.7305 - val_loss: 20.8075 - val_mae: 2.9907 - val_root_mean_squared_error: 4.5615\n",
      "Epoch 91/300\n",
      "12/12 [==============================] - 0s 5ms/step - loss: 22.4751 - mae: 3.3191 - root_mean_squared_error: 4.7408 - val_loss: 20.8193 - val_mae: 2.9839 - val_root_mean_squared_error: 4.5628\n",
      "Epoch 92/300\n",
      "12/12 [==============================] - 0s 4ms/step - loss: 22.4144 - mae: 3.3344 - root_mean_squared_error: 4.7344 - val_loss: 20.7547 - val_mae: 3.0172 - val_root_mean_squared_error: 4.5557\n",
      "Epoch 93/300\n",
      "12/12 [==============================] - 0s 4ms/step - loss: 22.3677 - mae: 3.3326 - root_mean_squared_error: 4.7295 - val_loss: 20.8019 - val_mae: 2.9907 - val_root_mean_squared_error: 4.5609\n",
      "Epoch 94/300\n",
      "12/12 [==============================] - 0s 4ms/step - loss: 22.3777 - mae: 3.3207 - root_mean_squared_error: 4.7305 - val_loss: 20.8328 - val_mae: 2.9788 - val_root_mean_squared_error: 4.5643\n",
      "Epoch 95/300\n",
      "12/12 [==============================] - 0s 8ms/step - loss: 22.3983 - mae: 3.3277 - root_mean_squared_error: 4.7327 - val_loss: 20.7793 - val_mae: 2.9974 - val_root_mean_squared_error: 4.5584\n",
      "Epoch 96/300\n",
      "12/12 [==============================] - 0s 6ms/step - loss: 22.4313 - mae: 3.3185 - root_mean_squared_error: 4.7362 - val_loss: 20.8450 - val_mae: 2.9749 - val_root_mean_squared_error: 4.5656\n",
      "Epoch 97/300\n",
      "12/12 [==============================] - 0s 4ms/step - loss: 22.3721 - mae: 3.3267 - root_mean_squared_error: 4.7299 - val_loss: 20.7612 - val_mae: 3.0058 - val_root_mean_squared_error: 4.5565\n",
      "Epoch 98/300\n",
      "12/12 [==============================] - 0s 4ms/step - loss: 22.3546 - mae: 3.3322 - root_mean_squared_error: 4.7281 - val_loss: 20.7713 - val_mae: 2.9982 - val_root_mean_squared_error: 4.5576\n",
      "Epoch 99/300\n",
      "12/12 [==============================] - 0s 4ms/step - loss: 22.4189 - mae: 3.3365 - root_mean_squared_error: 4.7349 - val_loss: 20.7620 - val_mae: 3.0024 - val_root_mean_squared_error: 4.5565\n",
      "Epoch 100/300\n",
      "12/12 [==============================] - 0s 4ms/step - loss: 22.3983 - mae: 3.3198 - root_mean_squared_error: 4.7327 - val_loss: 20.8251 - val_mae: 2.9774 - val_root_mean_squared_error: 4.5635\n",
      "Epoch 101/300\n",
      "12/12 [==============================] - 0s 4ms/step - loss: 22.3912 - mae: 3.3297 - root_mean_squared_error: 4.7319 - val_loss: 20.7591 - val_mae: 3.0020 - val_root_mean_squared_error: 4.5562\n",
      "Epoch 102/300\n",
      "12/12 [==============================] - 0s 5ms/step - loss: 22.3456 - mae: 3.3299 - root_mean_squared_error: 4.7271 - val_loss: 20.7654 - val_mae: 2.9971 - val_root_mean_squared_error: 4.5569\n",
      "Epoch 103/300\n",
      "12/12 [==============================] - 0s 4ms/step - loss: 22.3319 - mae: 3.3289 - root_mean_squared_error: 4.7257 - val_loss: 20.7758 - val_mae: 2.9919 - val_root_mean_squared_error: 4.5580\n",
      "Epoch 104/300\n",
      "12/12 [==============================] - 0s 3ms/step - loss: 22.4725 - mae: 3.3167 - root_mean_squared_error: 4.7405 - val_loss: 20.9204 - val_mae: 2.9558 - val_root_mean_squared_error: 4.5739\n",
      "Epoch 105/300\n",
      "12/12 [==============================] - 0s 4ms/step - loss: 22.3344 - mae: 3.3085 - root_mean_squared_error: 4.7259 - val_loss: 20.7430 - val_mae: 3.0045 - val_root_mean_squared_error: 4.5545\n",
      "Epoch 106/300\n",
      "12/12 [==============================] - 0s 4ms/step - loss: 22.3155 - mae: 3.3340 - root_mean_squared_error: 4.7239 - val_loss: 20.7429 - val_mae: 3.0039 - val_root_mean_squared_error: 4.5544\n",
      "Epoch 107/300\n",
      "12/12 [==============================] - 0s 4ms/step - loss: 22.3377 - mae: 3.3246 - root_mean_squared_error: 4.7263 - val_loss: 20.7985 - val_mae: 2.9806 - val_root_mean_squared_error: 4.5605\n",
      "Epoch 108/300\n",
      "12/12 [==============================] - 0s 4ms/step - loss: 22.3154 - mae: 3.3145 - root_mean_squared_error: 4.7239 - val_loss: 20.7674 - val_mae: 2.9872 - val_root_mean_squared_error: 4.5571\n",
      "Epoch 109/300\n",
      "12/12 [==============================] - 0s 4ms/step - loss: 22.3220 - mae: 3.3283 - root_mean_squared_error: 4.7246 - val_loss: 20.7276 - val_mae: 3.0105 - val_root_mean_squared_error: 4.5528\n",
      "Epoch 110/300\n",
      "12/12 [==============================] - 0s 4ms/step - loss: 22.3556 - mae: 3.3440 - root_mean_squared_error: 4.7282 - val_loss: 20.7330 - val_mae: 3.0054 - val_root_mean_squared_error: 4.5534\n",
      "Epoch 111/300\n",
      "12/12 [==============================] - 0s 4ms/step - loss: 22.3731 - mae: 3.3128 - root_mean_squared_error: 4.7300 - val_loss: 20.9056 - val_mae: 2.9572 - val_root_mean_squared_error: 4.5723\n",
      "Epoch 112/300\n",
      "12/12 [==============================] - 0s 4ms/step - loss: 22.2946 - mae: 3.3012 - root_mean_squared_error: 4.7217 - val_loss: 20.7835 - val_mae: 2.9837 - val_root_mean_squared_error: 4.5589\n",
      "Epoch 113/300\n",
      "12/12 [==============================] - 0s 4ms/step - loss: 22.2829 - mae: 3.3165 - root_mean_squared_error: 4.7205 - val_loss: 20.7354 - val_mae: 3.0007 - val_root_mean_squared_error: 4.5536\n",
      "Epoch 114/300\n",
      "12/12 [==============================] - 0s 4ms/step - loss: 22.3074 - mae: 3.3372 - root_mean_squared_error: 4.7231 - val_loss: 20.7230 - val_mae: 3.0076 - val_root_mean_squared_error: 4.5523\n",
      "Epoch 115/300\n",
      "12/12 [==============================] - 0s 4ms/step - loss: 22.3230 - mae: 3.3213 - root_mean_squared_error: 4.7247 - val_loss: 20.7773 - val_mae: 2.9817 - val_root_mean_squared_error: 4.5582\n",
      "Epoch 116/300\n",
      "12/12 [==============================] - 0s 4ms/step - loss: 22.3021 - mae: 3.3248 - root_mean_squared_error: 4.7225 - val_loss: 20.7432 - val_mae: 2.9945 - val_root_mean_squared_error: 4.5545\n",
      "Epoch 117/300\n",
      "12/12 [==============================] - 0s 4ms/step - loss: 22.2883 - mae: 3.3199 - root_mean_squared_error: 4.7210 - val_loss: 20.7753 - val_mae: 2.9825 - val_root_mean_squared_error: 4.5580\n",
      "Epoch 118/300\n",
      "12/12 [==============================] - 0s 4ms/step - loss: 22.3310 - mae: 3.3031 - root_mean_squared_error: 4.7256 - val_loss: 20.8251 - val_mae: 2.9711 - val_root_mean_squared_error: 4.5635\n",
      "Epoch 119/300\n",
      "12/12 [==============================] - 0s 4ms/step - loss: 22.2562 - mae: 3.3166 - root_mean_squared_error: 4.7176 - val_loss: 20.7361 - val_mae: 2.9930 - val_root_mean_squared_error: 4.5537\n",
      "Epoch 120/300\n",
      "12/12 [==============================] - 0s 4ms/step - loss: 22.3737 - mae: 3.3486 - root_mean_squared_error: 4.7301 - val_loss: 20.6965 - val_mae: 3.0370 - val_root_mean_squared_error: 4.5493\n",
      "Epoch 121/300\n",
      "12/12 [==============================] - 0s 5ms/step - loss: 22.2880 - mae: 3.3218 - root_mean_squared_error: 4.7210 - val_loss: 20.8204 - val_mae: 2.9675 - val_root_mean_squared_error: 4.5629\n",
      "Epoch 122/300\n",
      "12/12 [==============================] - 0s 4ms/step - loss: 22.2632 - mae: 3.3000 - root_mean_squared_error: 4.7184 - val_loss: 20.8016 - val_mae: 2.9712 - val_root_mean_squared_error: 4.5609\n",
      "Epoch 123/300\n",
      "12/12 [==============================] - 0s 7ms/step - loss: 22.2540 - mae: 3.3181 - root_mean_squared_error: 4.7174 - val_loss: 20.7086 - val_mae: 3.0072 - val_root_mean_squared_error: 4.5507\n",
      "Epoch 124/300\n",
      "12/12 [==============================] - 0s 4ms/step - loss: 22.2407 - mae: 3.3241 - root_mean_squared_error: 4.7160 - val_loss: 20.7286 - val_mae: 2.9951 - val_root_mean_squared_error: 4.5529\n",
      "Epoch 125/300\n",
      "12/12 [==============================] - 0s 5ms/step - loss: 22.2476 - mae: 3.3210 - root_mean_squared_error: 4.7167 - val_loss: 20.7535 - val_mae: 2.9850 - val_root_mean_squared_error: 4.5556\n",
      "Epoch 126/300\n",
      "12/12 [==============================] - 0s 5ms/step - loss: 22.2476 - mae: 3.3134 - root_mean_squared_error: 4.7167 - val_loss: 20.7405 - val_mae: 2.9905 - val_root_mean_squared_error: 4.5542\n",
      "Epoch 127/300\n",
      "12/12 [==============================] - 0s 4ms/step - loss: 22.3389 - mae: 3.3403 - root_mean_squared_error: 4.7264 - val_loss: 20.7125 - val_mae: 3.0007 - val_root_mean_squared_error: 4.5511\n",
      "Epoch 128/300\n",
      "12/12 [==============================] - 0s 4ms/step - loss: 22.2870 - mae: 3.3018 - root_mean_squared_error: 4.7209 - val_loss: 20.8821 - val_mae: 2.9564 - val_root_mean_squared_error: 4.5697\n",
      "Epoch 129/300\n",
      "12/12 [==============================] - 0s 4ms/step - loss: 22.2215 - mae: 3.2995 - root_mean_squared_error: 4.7140 - val_loss: 20.7246 - val_mae: 2.9889 - val_root_mean_squared_error: 4.5524\n",
      "Epoch 130/300\n",
      "12/12 [==============================] - 0s 4ms/step - loss: 22.2281 - mae: 3.3235 - root_mean_squared_error: 4.7147 - val_loss: 20.7107 - val_mae: 2.9911 - val_root_mean_squared_error: 4.5509\n",
      "Epoch 131/300\n",
      "12/12 [==============================] - 0s 4ms/step - loss: 22.2450 - mae: 3.3280 - root_mean_squared_error: 4.7165 - val_loss: 20.6800 - val_mae: 3.0122 - val_root_mean_squared_error: 4.5475\n",
      "Epoch 132/300\n",
      "12/12 [==============================] - 0s 4ms/step - loss: 22.2546 - mae: 3.3332 - root_mean_squared_error: 4.7175 - val_loss: 20.6880 - val_mae: 3.0026 - val_root_mean_squared_error: 4.5484\n",
      "Epoch 133/300\n",
      "12/12 [==============================] - 0s 4ms/step - loss: 22.3634 - mae: 3.3077 - root_mean_squared_error: 4.7290 - val_loss: 20.9173 - val_mae: 2.9498 - val_root_mean_squared_error: 4.5735\n",
      "Epoch 134/300\n",
      "12/12 [==============================] - 0s 4ms/step - loss: 22.2245 - mae: 3.3040 - root_mean_squared_error: 4.7143 - val_loss: 20.6832 - val_mae: 2.9987 - val_root_mean_squared_error: 4.5479\n",
      "Epoch 135/300\n",
      "12/12 [==============================] - 0s 4ms/step - loss: 22.2759 - mae: 3.3414 - root_mean_squared_error: 4.7197 - val_loss: 20.6554 - val_mae: 3.0213 - val_root_mean_squared_error: 4.5448\n",
      "Epoch 136/300\n",
      "12/12 [==============================] - 0s 4ms/step - loss: 22.2530 - mae: 3.3236 - root_mean_squared_error: 4.7173 - val_loss: 20.8204 - val_mae: 2.9605 - val_root_mean_squared_error: 4.5629\n",
      "Epoch 137/300\n",
      "12/12 [==============================] - 0s 4ms/step - loss: 22.2150 - mae: 3.3111 - root_mean_squared_error: 4.7133 - val_loss: 20.6948 - val_mae: 2.9880 - val_root_mean_squared_error: 4.5492\n",
      "Epoch 138/300\n",
      "12/12 [==============================] - 0s 3ms/step - loss: 22.1810 - mae: 3.3245 - root_mean_squared_error: 4.7097 - val_loss: 20.6655 - val_mae: 3.0008 - val_root_mean_squared_error: 4.5459\n",
      "Epoch 139/300\n",
      "12/12 [==============================] - 0s 4ms/step - loss: 22.1800 - mae: 3.3149 - root_mean_squared_error: 4.7096 - val_loss: 20.7103 - val_mae: 2.9809 - val_root_mean_squared_error: 4.5509\n",
      "Epoch 140/300\n",
      "12/12 [==============================] - 0s 4ms/step - loss: 22.2139 - mae: 3.3249 - root_mean_squared_error: 4.7132 - val_loss: 20.6875 - val_mae: 2.9865 - val_root_mean_squared_error: 4.5484\n",
      "Epoch 141/300\n",
      "12/12 [==============================] - 0s 4ms/step - loss: 22.1847 - mae: 3.3040 - root_mean_squared_error: 4.7101 - val_loss: 20.7924 - val_mae: 2.9598 - val_root_mean_squared_error: 4.5599\n",
      "Epoch 142/300\n",
      "12/12 [==============================] - 0s 4ms/step - loss: 22.1812 - mae: 3.2978 - root_mean_squared_error: 4.7097 - val_loss: 20.7310 - val_mae: 2.9707 - val_root_mean_squared_error: 4.5531\n",
      "Epoch 143/300\n",
      "12/12 [==============================] - 0s 4ms/step - loss: 22.1645 - mae: 3.3236 - root_mean_squared_error: 4.7079 - val_loss: 20.6319 - val_mae: 3.0106 - val_root_mean_squared_error: 4.5422\n",
      "Epoch 144/300\n",
      "12/12 [==============================] - 0s 4ms/step - loss: 22.1597 - mae: 3.3384 - root_mean_squared_error: 4.7074 - val_loss: 20.6353 - val_mae: 3.0043 - val_root_mean_squared_error: 4.5426\n",
      "Epoch 145/300\n",
      "12/12 [==============================] - 0s 4ms/step - loss: 22.1424 - mae: 3.3186 - root_mean_squared_error: 4.7056 - val_loss: 20.7401 - val_mae: 2.9668 - val_root_mean_squared_error: 4.5541\n",
      "Epoch 146/300\n",
      "12/12 [==============================] - 0s 4ms/step - loss: 22.1751 - mae: 3.3000 - root_mean_squared_error: 4.7090 - val_loss: 20.7366 - val_mae: 2.9670 - val_root_mean_squared_error: 4.5537\n",
      "Epoch 147/300\n",
      "12/12 [==============================] - 0s 4ms/step - loss: 22.1151 - mae: 3.3116 - root_mean_squared_error: 4.7027 - val_loss: 20.6386 - val_mae: 2.9955 - val_root_mean_squared_error: 4.5430\n",
      "Epoch 148/300\n",
      "12/12 [==============================] - 0s 4ms/step - loss: 22.1298 - mae: 3.3221 - root_mean_squared_error: 4.7042 - val_loss: 20.6560 - val_mae: 2.9879 - val_root_mean_squared_error: 4.5449\n",
      "Epoch 149/300\n",
      "12/12 [==============================] - 0s 4ms/step - loss: 22.1177 - mae: 3.3133 - root_mean_squared_error: 4.7029 - val_loss: 20.6742 - val_mae: 2.9810 - val_root_mean_squared_error: 4.5469\n",
      "Epoch 150/300\n",
      "12/12 [==============================] - 0s 8ms/step - loss: 22.1179 - mae: 3.3140 - root_mean_squared_error: 4.7030 - val_loss: 20.6636 - val_mae: 2.9823 - val_root_mean_squared_error: 4.5457\n",
      "Epoch 151/300\n",
      "12/12 [==============================] - 0s 7ms/step - loss: 22.1160 - mae: 3.3127 - root_mean_squared_error: 4.7028 - val_loss: 20.6513 - val_mae: 2.9872 - val_root_mean_squared_error: 4.5444\n",
      "Epoch 152/300\n",
      "12/12 [==============================] - 0s 4ms/step - loss: 22.1103 - mae: 3.3249 - root_mean_squared_error: 4.7022 - val_loss: 20.6360 - val_mae: 2.9918 - val_root_mean_squared_error: 4.5427\n",
      "Epoch 153/300\n",
      "12/12 [==============================] - 0s 4ms/step - loss: 22.1498 - mae: 3.3068 - root_mean_squared_error: 4.7064 - val_loss: 20.7077 - val_mae: 2.9682 - val_root_mean_squared_error: 4.5506\n",
      "Epoch 154/300\n",
      "12/12 [==============================] - 0s 4ms/step - loss: 22.1475 - mae: 3.3211 - root_mean_squared_error: 4.7061 - val_loss: 20.6055 - val_mae: 3.0049 - val_root_mean_squared_error: 4.5393\n",
      "Epoch 155/300\n",
      "12/12 [==============================] - 0s 4ms/step - loss: 22.0748 - mae: 3.3240 - root_mean_squared_error: 4.6984 - val_loss: 20.6472 - val_mae: 2.9836 - val_root_mean_squared_error: 4.5439\n",
      "Epoch 156/300\n",
      "12/12 [==============================] - 0s 4ms/step - loss: 22.1107 - mae: 3.3020 - root_mean_squared_error: 4.7022 - val_loss: 20.7291 - val_mae: 2.9647 - val_root_mean_squared_error: 4.5529\n",
      "Epoch 157/300\n",
      "12/12 [==============================] - 0s 4ms/step - loss: 22.0893 - mae: 3.3060 - root_mean_squared_error: 4.6999 - val_loss: 20.6494 - val_mae: 2.9799 - val_root_mean_squared_error: 4.5442\n",
      "Epoch 158/300\n",
      "12/12 [==============================] - 0s 4ms/step - loss: 22.1017 - mae: 3.3053 - root_mean_squared_error: 4.7012 - val_loss: 20.6557 - val_mae: 2.9772 - val_root_mean_squared_error: 4.5449\n",
      "Epoch 159/300\n",
      "12/12 [==============================] - 0s 4ms/step - loss: 22.0981 - mae: 3.3289 - root_mean_squared_error: 4.7009 - val_loss: 20.5869 - val_mae: 3.0096 - val_root_mean_squared_error: 4.5373\n",
      "Epoch 160/300\n",
      "12/12 [==============================] - 0s 4ms/step - loss: 22.0678 - mae: 3.3327 - root_mean_squared_error: 4.6976 - val_loss: 20.6227 - val_mae: 2.9856 - val_root_mean_squared_error: 4.5412\n",
      "Epoch 161/300\n",
      "12/12 [==============================] - 0s 4ms/step - loss: 22.1069 - mae: 3.2964 - root_mean_squared_error: 4.7018 - val_loss: 20.6832 - val_mae: 2.9686 - val_root_mean_squared_error: 4.5479\n",
      "Epoch 162/300\n",
      "12/12 [==============================] - 0s 4ms/step - loss: 22.0734 - mae: 3.3142 - root_mean_squared_error: 4.6982 - val_loss: 20.6267 - val_mae: 2.9812 - val_root_mean_squared_error: 4.5417\n",
      "Epoch 163/300\n",
      "12/12 [==============================] - 0s 4ms/step - loss: 22.1306 - mae: 3.2989 - root_mean_squared_error: 4.7043 - val_loss: 20.7074 - val_mae: 2.9627 - val_root_mean_squared_error: 4.5505\n",
      "Epoch 164/300\n",
      "12/12 [==============================] - 0s 4ms/step - loss: 22.0708 - mae: 3.3058 - root_mean_squared_error: 4.6980 - val_loss: 20.5753 - val_mae: 3.0033 - val_root_mean_squared_error: 4.5360\n",
      "Epoch 165/300\n",
      "12/12 [==============================] - 0s 4ms/step - loss: 22.0284 - mae: 3.3295 - root_mean_squared_error: 4.6934 - val_loss: 20.5926 - val_mae: 2.9868 - val_root_mean_squared_error: 4.5379\n",
      "Epoch 166/300\n",
      "12/12 [==============================] - 0s 4ms/step - loss: 22.0349 - mae: 3.3090 - root_mean_squared_error: 4.6941 - val_loss: 20.6157 - val_mae: 2.9754 - val_root_mean_squared_error: 4.5405\n",
      "Epoch 167/300\n",
      "12/12 [==============================] - 0s 5ms/step - loss: 22.0511 - mae: 3.3028 - root_mean_squared_error: 4.6959 - val_loss: 20.6672 - val_mae: 2.9625 - val_root_mean_squared_error: 4.5461\n",
      "Epoch 168/300\n",
      "12/12 [==============================] - 0s 5ms/step - loss: 22.0182 - mae: 3.3075 - root_mean_squared_error: 4.6924 - val_loss: 20.5728 - val_mae: 2.9854 - val_root_mean_squared_error: 4.5357\n",
      "Epoch 169/300\n",
      "12/12 [==============================] - 0s 5ms/step - loss: 21.9967 - mae: 3.3200 - root_mean_squared_error: 4.6901 - val_loss: 20.5734 - val_mae: 2.9826 - val_root_mean_squared_error: 4.5358\n",
      "Epoch 170/300\n",
      "12/12 [==============================] - 0s 5ms/step - loss: 21.9958 - mae: 3.2958 - root_mean_squared_error: 4.6900 - val_loss: 20.6781 - val_mae: 2.9556 - val_root_mean_squared_error: 4.5473\n",
      "Epoch 171/300\n",
      "12/12 [==============================] - 0s 3ms/step - loss: 22.0820 - mae: 3.3175 - root_mean_squared_error: 4.6992 - val_loss: 20.5497 - val_mae: 2.9878 - val_root_mean_squared_error: 4.5332\n",
      "Epoch 172/300\n",
      "12/12 [==============================] - 0s 7ms/step - loss: 21.9981 - mae: 3.3027 - root_mean_squared_error: 4.6902 - val_loss: 20.6420 - val_mae: 2.9595 - val_root_mean_squared_error: 4.5433\n",
      "Epoch 173/300\n",
      "12/12 [==============================] - 0s 6ms/step - loss: 21.9896 - mae: 3.3038 - root_mean_squared_error: 4.6893 - val_loss: 20.5625 - val_mae: 2.9784 - val_root_mean_squared_error: 4.5346\n",
      "Epoch 174/300\n",
      "12/12 [==============================] - 0s 4ms/step - loss: 21.9657 - mae: 3.3015 - root_mean_squared_error: 4.6868 - val_loss: 20.5801 - val_mae: 2.9682 - val_root_mean_squared_error: 4.5365\n",
      "Epoch 175/300\n",
      "12/12 [==============================] - 0s 4ms/step - loss: 22.0611 - mae: 3.2897 - root_mean_squared_error: 4.6969 - val_loss: 20.6564 - val_mae: 2.9500 - val_root_mean_squared_error: 4.5449\n",
      "Epoch 176/300\n",
      "12/12 [==============================] - 0s 4ms/step - loss: 21.9327 - mae: 3.2888 - root_mean_squared_error: 4.6832 - val_loss: 20.5590 - val_mae: 2.9714 - val_root_mean_squared_error: 4.5342\n",
      "Epoch 177/300\n",
      "12/12 [==============================] - 0s 4ms/step - loss: 21.9387 - mae: 3.3131 - root_mean_squared_error: 4.6839 - val_loss: 20.5031 - val_mae: 3.0028 - val_root_mean_squared_error: 4.5280\n",
      "Epoch 178/300\n",
      "12/12 [==============================] - 0s 4ms/step - loss: 21.9617 - mae: 3.3310 - root_mean_squared_error: 4.6863 - val_loss: 20.5024 - val_mae: 2.9909 - val_root_mean_squared_error: 4.5280\n",
      "Epoch 179/300\n",
      "12/12 [==============================] - 0s 4ms/step - loss: 21.9504 - mae: 3.2976 - root_mean_squared_error: 4.6851 - val_loss: 20.5998 - val_mae: 2.9515 - val_root_mean_squared_error: 4.5387\n",
      "Epoch 180/300\n",
      "12/12 [==============================] - 0s 4ms/step - loss: 21.9731 - mae: 3.2815 - root_mean_squared_error: 4.6875 - val_loss: 20.6560 - val_mae: 2.9438 - val_root_mean_squared_error: 4.5449\n",
      "Epoch 181/300\n",
      "12/12 [==============================] - 0s 4ms/step - loss: 21.8965 - mae: 3.2988 - root_mean_squared_error: 4.6794 - val_loss: 20.4830 - val_mae: 2.9972 - val_root_mean_squared_error: 4.5258\n",
      "Epoch 182/300\n",
      "12/12 [==============================] - 0s 4ms/step - loss: 21.9278 - mae: 3.3272 - root_mean_squared_error: 4.6827 - val_loss: 20.5101 - val_mae: 2.9735 - val_root_mean_squared_error: 4.5288\n",
      "Epoch 183/300\n",
      "12/12 [==============================] - 0s 5ms/step - loss: 21.8678 - mae: 3.2993 - root_mean_squared_error: 4.6763 - val_loss: 20.5485 - val_mae: 2.9572 - val_root_mean_squared_error: 4.5330\n",
      "Epoch 184/300\n",
      "12/12 [==============================] - 0s 4ms/step - loss: 21.8901 - mae: 3.2861 - root_mean_squared_error: 4.6787 - val_loss: 20.5418 - val_mae: 2.9573 - val_root_mean_squared_error: 4.5323\n",
      "Epoch 185/300\n",
      "12/12 [==============================] - 0s 4ms/step - loss: 21.8876 - mae: 3.2839 - root_mean_squared_error: 4.6784 - val_loss: 20.5530 - val_mae: 2.9526 - val_root_mean_squared_error: 4.5335\n",
      "Epoch 186/300\n",
      "12/12 [==============================] - 0s 5ms/step - loss: 21.8569 - mae: 3.3036 - root_mean_squared_error: 4.6751 - val_loss: 20.4633 - val_mae: 2.9862 - val_root_mean_squared_error: 4.5236\n",
      "Epoch 187/300\n",
      "12/12 [==============================] - 0s 4ms/step - loss: 21.8747 - mae: 3.3025 - root_mean_squared_error: 4.6770 - val_loss: 20.4903 - val_mae: 2.9681 - val_root_mean_squared_error: 4.5266\n",
      "Epoch 188/300\n",
      "12/12 [==============================] - 0s 4ms/step - loss: 21.8401 - mae: 3.2900 - root_mean_squared_error: 4.6733 - val_loss: 20.5207 - val_mae: 2.9554 - val_root_mean_squared_error: 4.5300\n",
      "Epoch 189/300\n",
      "12/12 [==============================] - 0s 5ms/step - loss: 21.8301 - mae: 3.2851 - root_mean_squared_error: 4.6723 - val_loss: 20.5249 - val_mae: 2.9514 - val_root_mean_squared_error: 4.5304\n",
      "Epoch 190/300\n",
      "12/12 [==============================] - 0s 5ms/step - loss: 21.8377 - mae: 3.3008 - root_mean_squared_error: 4.6731 - val_loss: 20.4711 - val_mae: 2.9677 - val_root_mean_squared_error: 4.5245\n",
      "Epoch 191/300\n",
      "12/12 [==============================] - 0s 4ms/step - loss: 21.9035 - mae: 3.2934 - root_mean_squared_error: 4.6801 - val_loss: 20.4656 - val_mae: 2.9694 - val_root_mean_squared_error: 4.5239\n",
      "Epoch 192/300\n",
      "12/12 [==============================] - 0s 5ms/step - loss: 21.8672 - mae: 3.2870 - root_mean_squared_error: 4.6762 - val_loss: 20.5097 - val_mae: 2.9505 - val_root_mean_squared_error: 4.5288\n",
      "Epoch 193/300\n",
      "12/12 [==============================] - 0s 4ms/step - loss: 21.8085 - mae: 3.2864 - root_mean_squared_error: 4.6700 - val_loss: 20.5086 - val_mae: 2.9495 - val_root_mean_squared_error: 4.5286\n",
      "Epoch 194/300\n",
      "12/12 [==============================] - 0s 5ms/step - loss: 21.7883 - mae: 3.2962 - root_mean_squared_error: 4.6678 - val_loss: 20.4301 - val_mae: 2.9820 - val_root_mean_squared_error: 4.5200\n",
      "Epoch 195/300\n",
      "12/12 [==============================] - 0s 4ms/step - loss: 21.7988 - mae: 3.3024 - root_mean_squared_error: 4.6689 - val_loss: 20.4709 - val_mae: 2.9567 - val_root_mean_squared_error: 4.5245\n",
      "Epoch 196/300\n",
      "12/12 [==============================] - 0s 4ms/step - loss: 21.7709 - mae: 3.2887 - root_mean_squared_error: 4.6659 - val_loss: 20.4877 - val_mae: 2.9518 - val_root_mean_squared_error: 4.5263\n",
      "Epoch 197/300\n",
      "12/12 [==============================] - 0s 4ms/step - loss: 21.7779 - mae: 3.2802 - root_mean_squared_error: 4.6667 - val_loss: 20.5124 - val_mae: 2.9449 - val_root_mean_squared_error: 4.5291\n",
      "Epoch 198/300\n",
      "12/12 [==============================] - 0s 4ms/step - loss: 21.8044 - mae: 3.2754 - root_mean_squared_error: 4.6695 - val_loss: 20.4739 - val_mae: 2.9534 - val_root_mean_squared_error: 4.5248\n",
      "Epoch 199/300\n",
      "12/12 [==============================] - 0s 8ms/step - loss: 21.7872 - mae: 3.2813 - root_mean_squared_error: 4.6677 - val_loss: 20.4606 - val_mae: 2.9574 - val_root_mean_squared_error: 4.5233\n",
      "Epoch 200/300\n",
      "12/12 [==============================] - 0s 4ms/step - loss: 21.7502 - mae: 3.3019 - root_mean_squared_error: 4.6637 - val_loss: 20.3954 - val_mae: 2.9895 - val_root_mean_squared_error: 4.5161\n",
      "Epoch 201/300\n",
      "12/12 [==============================] - 0s 4ms/step - loss: 21.8190 - mae: 3.2973 - root_mean_squared_error: 4.6711 - val_loss: 20.4605 - val_mae: 2.9533 - val_root_mean_squared_error: 4.5233\n",
      "Epoch 202/300\n",
      "12/12 [==============================] - 0s 4ms/step - loss: 21.7366 - mae: 3.2833 - root_mean_squared_error: 4.6622 - val_loss: 20.4559 - val_mae: 2.9560 - val_root_mean_squared_error: 4.5228\n",
      "Epoch 203/300\n",
      "12/12 [==============================] - 0s 4ms/step - loss: 21.7403 - mae: 3.2954 - root_mean_squared_error: 4.6626 - val_loss: 20.4294 - val_mae: 2.9632 - val_root_mean_squared_error: 4.5199\n",
      "Epoch 204/300\n",
      "12/12 [==============================] - 0s 4ms/step - loss: 21.7351 - mae: 3.2794 - root_mean_squared_error: 4.6621 - val_loss: 20.5021 - val_mae: 2.9427 - val_root_mean_squared_error: 4.5279\n",
      "Epoch 205/300\n",
      "12/12 [==============================] - 0s 4ms/step - loss: 21.7420 - mae: 3.2713 - root_mean_squared_error: 4.6628 - val_loss: 20.4777 - val_mae: 2.9479 - val_root_mean_squared_error: 4.5252\n",
      "Epoch 206/300\n",
      "12/12 [==============================] - 0s 4ms/step - loss: 21.7509 - mae: 3.2954 - root_mean_squared_error: 4.6638 - val_loss: 20.3982 - val_mae: 2.9769 - val_root_mean_squared_error: 4.5164\n",
      "Epoch 207/300\n",
      "12/12 [==============================] - 0s 4ms/step - loss: 21.8164 - mae: 3.2834 - root_mean_squared_error: 4.6708 - val_loss: 20.4631 - val_mae: 2.9506 - val_root_mean_squared_error: 4.5236\n",
      "Epoch 208/300\n",
      "12/12 [==============================] - 0s 4ms/step - loss: 21.6773 - mae: 3.2760 - root_mean_squared_error: 4.6559 - val_loss: 20.4168 - val_mae: 2.9626 - val_root_mean_squared_error: 4.5185\n",
      "Epoch 209/300\n",
      "12/12 [==============================] - 0s 5ms/step - loss: 21.6849 - mae: 3.2976 - root_mean_squared_error: 4.6567 - val_loss: 20.3735 - val_mae: 2.9899 - val_root_mean_squared_error: 4.5137\n",
      "Epoch 210/300\n",
      "12/12 [==============================] - 0s 5ms/step - loss: 21.7265 - mae: 3.3063 - root_mean_squared_error: 4.6612 - val_loss: 20.4054 - val_mae: 2.9669 - val_root_mean_squared_error: 4.5172\n",
      "Epoch 211/300\n",
      "12/12 [==============================] - 0s 4ms/step - loss: 21.7479 - mae: 3.2741 - root_mean_squared_error: 4.6635 - val_loss: 20.5216 - val_mae: 2.9375 - val_root_mean_squared_error: 4.5301\n",
      "Epoch 212/300\n",
      "12/12 [==============================] - 0s 4ms/step - loss: 21.6582 - mae: 3.2721 - root_mean_squared_error: 4.6538 - val_loss: 20.4127 - val_mae: 2.9603 - val_root_mean_squared_error: 4.5180\n",
      "Epoch 213/300\n",
      "12/12 [==============================] - 0s 4ms/step - loss: 21.6581 - mae: 3.2917 - root_mean_squared_error: 4.6538 - val_loss: 20.3859 - val_mae: 2.9712 - val_root_mean_squared_error: 4.5151\n",
      "Epoch 214/300\n",
      "12/12 [==============================] - 0s 4ms/step - loss: 21.6465 - mae: 3.2882 - root_mean_squared_error: 4.6526 - val_loss: 20.3926 - val_mae: 2.9665 - val_root_mean_squared_error: 4.5158\n",
      "Epoch 215/300\n",
      "12/12 [==============================] - 0s 4ms/step - loss: 21.6646 - mae: 3.2736 - root_mean_squared_error: 4.6545 - val_loss: 20.5002 - val_mae: 2.9375 - val_root_mean_squared_error: 4.5277\n",
      "Epoch 216/300\n",
      "12/12 [==============================] - 0s 4ms/step - loss: 21.6759 - mae: 3.2867 - root_mean_squared_error: 4.6557 - val_loss: 20.3855 - val_mae: 2.9685 - val_root_mean_squared_error: 4.5150\n",
      "Epoch 217/300\n",
      "12/12 [==============================] - 0s 4ms/step - loss: 21.6625 - mae: 3.2734 - root_mean_squared_error: 4.6543 - val_loss: 20.4581 - val_mae: 2.9431 - val_root_mean_squared_error: 4.5231\n",
      "Epoch 218/300\n",
      "12/12 [==============================] - 0s 4ms/step - loss: 21.7005 - mae: 3.2929 - root_mean_squared_error: 4.6584 - val_loss: 20.3696 - val_mae: 2.9697 - val_root_mean_squared_error: 4.5133\n",
      "Epoch 219/300\n",
      "12/12 [==============================] - 0s 6ms/step - loss: 21.6432 - mae: 3.2764 - root_mean_squared_error: 4.6522 - val_loss: 20.4332 - val_mae: 2.9470 - val_root_mean_squared_error: 4.5203\n",
      "Epoch 220/300\n",
      "12/12 [==============================] - 0s 8ms/step - loss: 21.6219 - mae: 3.2695 - root_mean_squared_error: 4.6499 - val_loss: 20.3850 - val_mae: 2.9614 - val_root_mean_squared_error: 4.5150\n",
      "Epoch 221/300\n",
      "12/12 [==============================] - 0s 4ms/step - loss: 21.6050 - mae: 3.2819 - root_mean_squared_error: 4.6481 - val_loss: 20.3948 - val_mae: 2.9563 - val_root_mean_squared_error: 4.5161\n",
      "Epoch 222/300\n",
      "12/12 [==============================] - 0s 4ms/step - loss: 21.6635 - mae: 3.2800 - root_mean_squared_error: 4.6544 - val_loss: 20.4377 - val_mae: 2.9440 - val_root_mean_squared_error: 4.5208\n",
      "Epoch 223/300\n",
      "12/12 [==============================] - 0s 5ms/step - loss: 21.6263 - mae: 3.2822 - root_mean_squared_error: 4.6504 - val_loss: 20.3483 - val_mae: 2.9721 - val_root_mean_squared_error: 4.5109\n",
      "Epoch 224/300\n",
      "12/12 [==============================] - 0s 4ms/step - loss: 21.5935 - mae: 3.2926 - root_mean_squared_error: 4.6469 - val_loss: 20.3444 - val_mae: 2.9730 - val_root_mean_squared_error: 4.5105\n",
      "Epoch 225/300\n",
      "12/12 [==============================] - 0s 4ms/step - loss: 21.5706 - mae: 3.2715 - root_mean_squared_error: 4.6444 - val_loss: 20.4484 - val_mae: 2.9419 - val_root_mean_squared_error: 4.5220\n",
      "Epoch 226/300\n",
      "12/12 [==============================] - 0s 4ms/step - loss: 21.5999 - mae: 3.2735 - root_mean_squared_error: 4.6476 - val_loss: 20.3720 - val_mae: 2.9603 - val_root_mean_squared_error: 4.5135\n",
      "Epoch 227/300\n",
      "12/12 [==============================] - 0s 4ms/step - loss: 21.5852 - mae: 3.2634 - root_mean_squared_error: 4.6460 - val_loss: 20.4139 - val_mae: 2.9456 - val_root_mean_squared_error: 4.5182\n",
      "Epoch 228/300\n",
      "12/12 [==============================] - 0s 4ms/step - loss: 21.5889 - mae: 3.2796 - root_mean_squared_error: 4.6464 - val_loss: 20.3444 - val_mae: 2.9663 - val_root_mean_squared_error: 4.5105\n",
      "Epoch 229/300\n",
      "12/12 [==============================] - 0s 4ms/step - loss: 21.5312 - mae: 3.2707 - root_mean_squared_error: 4.6402 - val_loss: 20.3925 - val_mae: 2.9492 - val_root_mean_squared_error: 4.5158\n",
      "Epoch 230/300\n",
      "12/12 [==============================] - 0s 4ms/step - loss: 21.5258 - mae: 3.2630 - root_mean_squared_error: 4.6396 - val_loss: 20.4001 - val_mae: 2.9470 - val_root_mean_squared_error: 4.5166\n",
      "Epoch 231/300\n",
      "12/12 [==============================] - 0s 4ms/step - loss: 21.5465 - mae: 3.2789 - root_mean_squared_error: 4.6418 - val_loss: 20.3271 - val_mae: 2.9713 - val_root_mean_squared_error: 4.5086\n",
      "Epoch 232/300\n",
      "12/12 [==============================] - 0s 4ms/step - loss: 21.5415 - mae: 3.2725 - root_mean_squared_error: 4.6413 - val_loss: 20.3664 - val_mae: 2.9550 - val_root_mean_squared_error: 4.5129\n",
      "Epoch 233/300\n",
      "12/12 [==============================] - 0s 4ms/step - loss: 21.5106 - mae: 3.2636 - root_mean_squared_error: 4.6380 - val_loss: 20.4015 - val_mae: 2.9437 - val_root_mean_squared_error: 4.5168\n",
      "Epoch 234/300\n",
      "12/12 [==============================] - 0s 4ms/step - loss: 21.5318 - mae: 3.2729 - root_mean_squared_error: 4.6402 - val_loss: 20.3098 - val_mae: 2.9729 - val_root_mean_squared_error: 4.5066\n",
      "Epoch 235/300\n",
      "12/12 [==============================] - 0s 4ms/step - loss: 21.4881 - mae: 3.2821 - root_mean_squared_error: 4.6355 - val_loss: 20.3287 - val_mae: 2.9603 - val_root_mean_squared_error: 4.5087\n",
      "Epoch 236/300\n",
      "12/12 [==============================] - 0s 4ms/step - loss: 21.5070 - mae: 3.2502 - root_mean_squared_error: 4.6376 - val_loss: 20.4375 - val_mae: 2.9342 - val_root_mean_squared_error: 4.5208\n",
      "Epoch 237/300\n",
      "12/12 [==============================] - 0s 4ms/step - loss: 21.4984 - mae: 3.2615 - root_mean_squared_error: 4.6366 - val_loss: 20.3156 - val_mae: 2.9603 - val_root_mean_squared_error: 4.5073\n",
      "Epoch 238/300\n",
      "12/12 [==============================] - 0s 4ms/step - loss: 21.4652 - mae: 3.2653 - root_mean_squared_error: 4.6331 - val_loss: 20.3194 - val_mae: 2.9559 - val_root_mean_squared_error: 4.5077\n",
      "Epoch 239/300\n",
      "12/12 [==============================] - 0s 7ms/step - loss: 21.4758 - mae: 3.2575 - root_mean_squared_error: 4.6342 - val_loss: 20.3253 - val_mae: 2.9541 - val_root_mean_squared_error: 4.5084\n",
      "Epoch 240/300\n",
      "12/12 [==============================] - 0s 5ms/step - loss: 21.4426 - mae: 3.2625 - root_mean_squared_error: 4.6306 - val_loss: 20.3379 - val_mae: 2.9493 - val_root_mean_squared_error: 4.5098\n",
      "Epoch 241/300\n",
      "12/12 [==============================] - 0s 4ms/step - loss: 21.4884 - mae: 3.2490 - root_mean_squared_error: 4.6356 - val_loss: 20.3279 - val_mae: 2.9490 - val_root_mean_squared_error: 4.5086\n",
      "Epoch 242/300\n",
      "12/12 [==============================] - 0s 4ms/step - loss: 21.4846 - mae: 3.2843 - root_mean_squared_error: 4.6351 - val_loss: 20.2573 - val_mae: 2.9779 - val_root_mean_squared_error: 4.5008\n",
      "Epoch 243/300\n",
      "12/12 [==============================] - 0s 4ms/step - loss: 21.4231 - mae: 3.2815 - root_mean_squared_error: 4.6285 - val_loss: 20.2923 - val_mae: 2.9553 - val_root_mean_squared_error: 4.5047\n",
      "Epoch 244/300\n",
      "12/12 [==============================] - 0s 4ms/step - loss: 21.4574 - mae: 3.2436 - root_mean_squared_error: 4.6322 - val_loss: 20.4010 - val_mae: 2.9312 - val_root_mean_squared_error: 4.5167\n",
      "Epoch 245/300\n",
      "12/12 [==============================] - 0s 5ms/step - loss: 21.4089 - mae: 3.2446 - root_mean_squared_error: 4.6270 - val_loss: 20.2952 - val_mae: 2.9505 - val_root_mean_squared_error: 4.5050\n",
      "Epoch 246/300\n",
      "12/12 [==============================] - 0s 4ms/step - loss: 21.4066 - mae: 3.2532 - root_mean_squared_error: 4.6267 - val_loss: 20.2888 - val_mae: 2.9500 - val_root_mean_squared_error: 4.5043\n",
      "Epoch 247/300\n",
      "12/12 [==============================] - 0s 4ms/step - loss: 21.4190 - mae: 3.2685 - root_mean_squared_error: 4.6281 - val_loss: 20.2421 - val_mae: 2.9632 - val_root_mean_squared_error: 4.4991\n",
      "Epoch 248/300\n",
      "12/12 [==============================] - 0s 5ms/step - loss: 21.3979 - mae: 3.2687 - root_mean_squared_error: 4.6258 - val_loss: 20.2455 - val_mae: 2.9583 - val_root_mean_squared_error: 4.4995\n",
      "Epoch 249/300\n",
      "12/12 [==============================] - 0s 5ms/step - loss: 21.3818 - mae: 3.2474 - root_mean_squared_error: 4.6241 - val_loss: 20.3151 - val_mae: 2.9364 - val_root_mean_squared_error: 4.5072\n",
      "Epoch 250/300\n",
      "12/12 [==============================] - 0s 5ms/step - loss: 21.3997 - mae: 3.2349 - root_mean_squared_error: 4.6260 - val_loss: 20.3218 - val_mae: 2.9333 - val_root_mean_squared_error: 4.5080\n",
      "Epoch 251/300\n",
      "12/12 [==============================] - 0s 5ms/step - loss: 21.3441 - mae: 3.2556 - root_mean_squared_error: 4.6200 - val_loss: 20.2088 - val_mae: 2.9670 - val_root_mean_squared_error: 4.4954\n",
      "Epoch 252/300\n",
      "12/12 [==============================] - 0s 4ms/step - loss: 21.3463 - mae: 3.2692 - root_mean_squared_error: 4.6202 - val_loss: 20.2153 - val_mae: 2.9577 - val_root_mean_squared_error: 4.4961\n",
      "Epoch 253/300\n",
      "12/12 [==============================] - 0s 4ms/step - loss: 21.3386 - mae: 3.2570 - root_mean_squared_error: 4.6194 - val_loss: 20.2373 - val_mae: 2.9483 - val_root_mean_squared_error: 4.4986\n",
      "Epoch 254/300\n",
      "12/12 [==============================] - 0s 4ms/step - loss: 21.3413 - mae: 3.2375 - root_mean_squared_error: 4.6197 - val_loss: 20.2984 - val_mae: 2.9315 - val_root_mean_squared_error: 4.5054\n",
      "Epoch 255/300\n",
      "12/12 [==============================] - 0s 4ms/step - loss: 21.3405 - mae: 3.2477 - root_mean_squared_error: 4.6196 - val_loss: 20.2146 - val_mae: 2.9527 - val_root_mean_squared_error: 4.4961\n",
      "Epoch 256/300\n",
      "12/12 [==============================] - 0s 4ms/step - loss: 21.4356 - mae: 3.2842 - root_mean_squared_error: 4.6299 - val_loss: 20.1752 - val_mae: 2.9686 - val_root_mean_squared_error: 4.4917\n",
      "Epoch 257/300\n",
      "12/12 [==============================] - 0s 4ms/step - loss: 21.2978 - mae: 3.2500 - root_mean_squared_error: 4.6150 - val_loss: 20.3309 - val_mae: 2.9225 - val_root_mean_squared_error: 4.5090\n",
      "Epoch 258/300\n",
      "12/12 [==============================] - 0s 7ms/step - loss: 21.2927 - mae: 3.2246 - root_mean_squared_error: 4.6144 - val_loss: 20.2370 - val_mae: 2.9378 - val_root_mean_squared_error: 4.4986\n",
      "Epoch 259/300\n",
      "12/12 [==============================] - 0s 5ms/step - loss: 21.3463 - mae: 3.2582 - root_mean_squared_error: 4.6202 - val_loss: 20.1730 - val_mae: 2.9566 - val_root_mean_squared_error: 4.4914\n",
      "Epoch 260/300\n",
      "12/12 [==============================] - 0s 4ms/step - loss: 21.3418 - mae: 3.2304 - root_mean_squared_error: 4.6197 - val_loss: 20.3411 - val_mae: 2.9151 - val_root_mean_squared_error: 4.5101\n",
      "Epoch 261/300\n",
      "12/12 [==============================] - 0s 5ms/step - loss: 21.3061 - mae: 3.2385 - root_mean_squared_error: 4.6159 - val_loss: 20.1739 - val_mae: 2.9499 - val_root_mean_squared_error: 4.4915\n",
      "Epoch 262/300\n",
      "12/12 [==============================] - 0s 4ms/step - loss: 21.1878 - mae: 3.2371 - root_mean_squared_error: 4.6030 - val_loss: 20.2314 - val_mae: 2.9297 - val_root_mean_squared_error: 4.4979\n",
      "Epoch 263/300\n",
      "12/12 [==============================] - 0s 4ms/step - loss: 21.1953 - mae: 3.2217 - root_mean_squared_error: 4.6038 - val_loss: 20.2717 - val_mae: 2.9182 - val_root_mean_squared_error: 4.5024\n",
      "Epoch 264/300\n",
      "12/12 [==============================] - 0s 5ms/step - loss: 21.1415 - mae: 3.2094 - root_mean_squared_error: 4.5980 - val_loss: 20.2156 - val_mae: 2.9263 - val_root_mean_squared_error: 4.4962\n",
      "Epoch 265/300\n",
      "12/12 [==============================] - 0s 4ms/step - loss: 21.0899 - mae: 3.2271 - root_mean_squared_error: 4.5924 - val_loss: 20.1558 - val_mae: 2.9444 - val_root_mean_squared_error: 4.4895\n",
      "Epoch 266/300\n",
      "12/12 [==============================] - 0s 4ms/step - loss: 21.0976 - mae: 3.2455 - root_mean_squared_error: 4.5932 - val_loss: 20.1377 - val_mae: 2.9491 - val_root_mean_squared_error: 4.4875\n",
      "Epoch 267/300\n",
      "12/12 [==============================] - 0s 5ms/step - loss: 21.1338 - mae: 3.2195 - root_mean_squared_error: 4.5972 - val_loss: 20.2413 - val_mae: 2.9063 - val_root_mean_squared_error: 4.4990\n",
      "Epoch 268/300\n",
      "12/12 [==============================] - 0s 4ms/step - loss: 21.0708 - mae: 3.2171 - root_mean_squared_error: 4.5903 - val_loss: 20.0912 - val_mae: 2.9398 - val_root_mean_squared_error: 4.4823\n",
      "Epoch 269/300\n",
      "12/12 [==============================] - 0s 4ms/step - loss: 21.0056 - mae: 3.2215 - root_mean_squared_error: 4.5832 - val_loss: 20.1082 - val_mae: 2.9146 - val_root_mean_squared_error: 4.4842\n",
      "Epoch 270/300\n",
      "12/12 [==============================] - 0s 4ms/step - loss: 20.9709 - mae: 3.2043 - root_mean_squared_error: 4.5794 - val_loss: 20.0805 - val_mae: 2.9102 - val_root_mean_squared_error: 4.4811\n",
      "Epoch 271/300\n",
      "12/12 [==============================] - 0s 5ms/step - loss: 21.0308 - mae: 3.2290 - root_mean_squared_error: 4.5859 - val_loss: 19.9865 - val_mae: 2.9337 - val_root_mean_squared_error: 4.4706\n",
      "Epoch 272/300\n",
      "12/12 [==============================] - 0s 4ms/step - loss: 20.9239 - mae: 3.2192 - root_mean_squared_error: 4.5743 - val_loss: 19.9854 - val_mae: 2.9142 - val_root_mean_squared_error: 4.4705\n",
      "Epoch 273/300\n",
      "12/12 [==============================] - 0s 5ms/step - loss: 20.9116 - mae: 3.2043 - root_mean_squared_error: 4.5729 - val_loss: 20.0072 - val_mae: 2.8980 - val_root_mean_squared_error: 4.4729\n",
      "Epoch 274/300\n",
      "12/12 [==============================] - 0s 5ms/step - loss: 20.8927 - mae: 3.2002 - root_mean_squared_error: 4.5709 - val_loss: 19.9659 - val_mae: 2.8987 - val_root_mean_squared_error: 4.4683\n",
      "Epoch 275/300\n",
      "12/12 [==============================] - 0s 4ms/step - loss: 20.8788 - mae: 3.2104 - root_mean_squared_error: 4.5693 - val_loss: 19.9040 - val_mae: 2.9063 - val_root_mean_squared_error: 4.4614\n",
      "Epoch 276/300\n",
      "12/12 [==============================] - 0s 4ms/step - loss: 20.8559 - mae: 3.2075 - root_mean_squared_error: 4.5668 - val_loss: 19.8581 - val_mae: 2.9104 - val_root_mean_squared_error: 4.4562\n",
      "Epoch 277/300\n",
      "12/12 [==============================] - 0s 5ms/step - loss: 20.8892 - mae: 3.2235 - root_mean_squared_error: 4.5705 - val_loss: 19.8146 - val_mae: 2.9223 - val_root_mean_squared_error: 4.4514\n",
      "Epoch 278/300\n",
      "12/12 [==============================] - 0s 4ms/step - loss: 20.8143 - mae: 3.2162 - root_mean_squared_error: 4.5623 - val_loss: 19.8250 - val_mae: 2.8993 - val_root_mean_squared_error: 4.4525\n",
      "Epoch 279/300\n",
      "12/12 [==============================] - 0s 7ms/step - loss: 20.8021 - mae: 3.1950 - root_mean_squared_error: 4.5609 - val_loss: 19.8448 - val_mae: 2.8875 - val_root_mean_squared_error: 4.4548\n",
      "Epoch 280/300\n",
      "12/12 [==============================] - 0s 5ms/step - loss: 20.8040 - mae: 3.2040 - root_mean_squared_error: 4.5611 - val_loss: 19.7721 - val_mae: 2.8925 - val_root_mean_squared_error: 4.4466\n",
      "Epoch 281/300\n",
      "12/12 [==============================] - 0s 4ms/step - loss: 20.7995 - mae: 3.2087 - root_mean_squared_error: 4.5606 - val_loss: 19.7333 - val_mae: 2.8959 - val_root_mean_squared_error: 4.4422\n",
      "Epoch 282/300\n",
      "12/12 [==============================] - 0s 4ms/step - loss: 20.7326 - mae: 3.1929 - root_mean_squared_error: 4.5533 - val_loss: 19.7506 - val_mae: 2.8834 - val_root_mean_squared_error: 4.4442\n",
      "Epoch 283/300\n",
      "12/12 [==============================] - 0s 6ms/step - loss: 20.7410 - mae: 3.1881 - root_mean_squared_error: 4.5542 - val_loss: 19.7013 - val_mae: 2.8856 - val_root_mean_squared_error: 4.4386\n",
      "Epoch 284/300\n",
      "12/12 [==============================] - 0s 4ms/step - loss: 20.6816 - mae: 3.1990 - root_mean_squared_error: 4.5477 - val_loss: 19.6601 - val_mae: 2.8918 - val_root_mean_squared_error: 4.4340\n",
      "Epoch 285/300\n",
      "12/12 [==============================] - 0s 4ms/step - loss: 20.7014 - mae: 3.2150 - root_mean_squared_error: 4.5499 - val_loss: 19.6286 - val_mae: 2.8982 - val_root_mean_squared_error: 4.4304\n",
      "Epoch 286/300\n",
      "12/12 [==============================] - 0s 5ms/step - loss: 20.6996 - mae: 3.1907 - root_mean_squared_error: 4.5497 - val_loss: 19.7214 - val_mae: 2.8710 - val_root_mean_squared_error: 4.4409\n",
      "Epoch 287/300\n",
      "12/12 [==============================] - 0s 4ms/step - loss: 20.6411 - mae: 3.1856 - root_mean_squared_error: 4.5433 - val_loss: 19.6160 - val_mae: 2.8834 - val_root_mean_squared_error: 4.4290\n",
      "Epoch 288/300\n",
      "12/12 [==============================] - 0s 4ms/step - loss: 20.6281 - mae: 3.2057 - root_mean_squared_error: 4.5418 - val_loss: 19.5668 - val_mae: 2.8958 - val_root_mean_squared_error: 4.4234\n",
      "Epoch 289/300\n",
      "12/12 [==============================] - 0s 4ms/step - loss: 20.6488 - mae: 3.2123 - root_mean_squared_error: 4.5441 - val_loss: 19.5447 - val_mae: 2.8960 - val_root_mean_squared_error: 4.4209\n",
      "Epoch 290/300\n",
      "12/12 [==============================] - 0s 5ms/step - loss: 20.5891 - mae: 3.1913 - root_mean_squared_error: 4.5375 - val_loss: 19.5931 - val_mae: 2.8731 - val_root_mean_squared_error: 4.4264\n",
      "Epoch 291/300\n",
      "12/12 [==============================] - 0s 4ms/step - loss: 20.5956 - mae: 3.1908 - root_mean_squared_error: 4.5382 - val_loss: 19.5600 - val_mae: 2.8772 - val_root_mean_squared_error: 4.4227\n",
      "Epoch 292/300\n",
      "12/12 [==============================] - 0s 4ms/step - loss: 20.6013 - mae: 3.2002 - root_mean_squared_error: 4.5389 - val_loss: 19.5184 - val_mae: 2.8816 - val_root_mean_squared_error: 4.4180\n",
      "Epoch 293/300\n",
      "12/12 [==============================] - 0s 4ms/step - loss: 20.5487 - mae: 3.1828 - root_mean_squared_error: 4.5331 - val_loss: 19.5773 - val_mae: 2.8668 - val_root_mean_squared_error: 4.4246\n",
      "Epoch 294/300\n",
      "12/12 [==============================] - 0s 4ms/step - loss: 20.5335 - mae: 3.1871 - root_mean_squared_error: 4.5314 - val_loss: 19.4964 - val_mae: 2.8769 - val_root_mean_squared_error: 4.4155\n",
      "Epoch 295/300\n",
      "12/12 [==============================] - 0s 5ms/step - loss: 20.5705 - mae: 3.2029 - root_mean_squared_error: 4.5355 - val_loss: 19.4569 - val_mae: 2.8842 - val_root_mean_squared_error: 4.4110\n",
      "Epoch 296/300\n",
      "12/12 [==============================] - 0s 7ms/step - loss: 20.5119 - mae: 3.1842 - root_mean_squared_error: 4.5290 - val_loss: 19.4953 - val_mae: 2.8664 - val_root_mean_squared_error: 4.4154\n",
      "Epoch 297/300\n",
      "12/12 [==============================] - 0s 4ms/step - loss: 20.4628 - mae: 3.1786 - root_mean_squared_error: 4.5236 - val_loss: 19.4324 - val_mae: 2.8790 - val_root_mean_squared_error: 4.4082\n",
      "Epoch 298/300\n",
      "12/12 [==============================] - 0s 4ms/step - loss: 20.4792 - mae: 3.1835 - root_mean_squared_error: 4.5254 - val_loss: 19.4437 - val_mae: 2.8692 - val_root_mean_squared_error: 4.4095\n",
      "Epoch 299/300\n",
      "12/12 [==============================] - 0s 4ms/step - loss: 20.4741 - mae: 3.1918 - root_mean_squared_error: 4.5248 - val_loss: 19.4077 - val_mae: 2.8788 - val_root_mean_squared_error: 4.4054\n",
      "Epoch 300/300\n",
      "12/12 [==============================] - 0s 4ms/step - loss: 20.4880 - mae: 3.1945 - root_mean_squared_error: 4.5264 - val_loss: 19.3630 - val_mae: 2.8914 - val_root_mean_squared_error: 4.4003\n"
     ]
    }
   ],
   "source": [
    "# Fit your model\n",
    "history = model.fit(X_train_proc, y_train,\n",
    "                    validation_data=(X_test_proc, y_test),\n",
    "                    epochs=300,)\n"
   ]
  },
  {
   "cell_type": "code",
   "execution_count": 81,
   "metadata": {
    "ExecuteTime": {
     "end_time": "2023-02-08T02:23:55.237007Z",
     "start_time": "2023-02-08T02:23:54.799327Z"
    },
    "colab": {
     "base_uri": "https://localhost:8080/",
     "height": 1000
    },
    "executionInfo": {
     "elapsed": 816,
     "status": "ok",
     "timestamp": 1698803967207,
     "user": {
      "displayName": "Yvon Bilodeau",
      "userId": "10142856831792134633"
     },
     "user_tz": 420
    },
    "id": "q8Kox9hOOq7w",
    "outputId": "5b8cc291-1371-4b95-a2a1-67dff8477e19"
   },
   "outputs": [
    {
     "data": {
      "image/png": "[encoded data removed]",
      "text/plain": [
       "<Figure size 640x480 with 1 Axes>"
      ]
     },
     "metadata": {},
     "output_type": "display_data"
    },
    {
     "data": {
      "image/png": "[encoded data removed]",
      "text/plain": [
       "<Figure size 640x480 with 1 Axes>"
      ]
     },
     "metadata": {},
     "output_type": "display_data"
    },
    {
     "data": {
      "image/png": "[encoded data removed]",
      "text/plain": [
       "<Figure size 640x480 with 1 Axes>"
      ]
     },
     "metadata": {},
     "output_type": "display_data"
    }
   ],
   "source": [
    "# Apply the custom function plot_history() to see how your model is doing\n",
    "plot_history(history)\n"
   ]
  },
  {
   "cell_type": "markdown",
   "metadata": {
    "id": "1Ic8eFsL_x2m"
   },
   "source": [
    "## Evaluation\n"
   ]
  },
  {
   "cell_type": "code",
   "execution_count": 82,
   "metadata": {},
   "outputs": [
    {
     "data": {
      "text/plain": [
       "(379,)"
      ]
     },
     "execution_count": 82,
     "metadata": {},
     "output_type": "execute_result"
    }
   ],
   "source": [
    "y_train.shape"
   ]
  },
  {
   "cell_type": "code",
   "execution_count": 83,
   "metadata": {},
   "outputs": [
    {
     "data": {
      "text/plain": [
       "(127,)"
      ]
     },
     "execution_count": 83,
     "metadata": {},
     "output_type": "execute_result"
    }
   ],
   "source": [
    "y_test.shape"
   ]
  },
  {
   "cell_type": "code",
   "execution_count": 84,
   "metadata": {},
   "outputs": [
    {
     "data": {
      "text/plain": [
       "(379, 6)"
      ]
     },
     "execution_count": 84,
     "metadata": {},
     "output_type": "execute_result"
    }
   ],
   "source": [
    "X_train_proc.shape"
   ]
  },
  {
   "cell_type": "code",
   "execution_count": 85,
   "metadata": {},
   "outputs": [
    {
     "data": {
      "text/plain": [
       "(379, 1)"
      ]
     },
     "execution_count": 85,
     "metadata": {},
     "output_type": "execute_result"
    }
   ],
   "source": [
    "train_preds.shape"
   ]
  },
  {
   "cell_type": "code",
   "execution_count": 87,
   "metadata": {
    "ExecuteTime": {
     "end_time": "2023-02-08T02:24:13.846087Z",
     "start_time": "2023-02-08T02:24:13.638158Z"
    },
    "colab": {
     "base_uri": "https://localhost:8080/",
     "height": 176
    },
    "executionInfo": {
     "elapsed": 244,
     "status": "ok",
     "timestamp": 1698803967448,
     "user": {
      "displayName": "Yvon Bilodeau",
      "userId": "10142856831792134633"
     },
     "user_tz": 420
    },
    "id": "33J5dOt3A8ZO",
    "outputId": "53d33b0a-4c41-470d-e0e1-b3c9584b0f66"
   },
   "outputs": [
    {
     "name": "stdout",
     "output_type": "stream",
     "text": [
      "12/12 [==============================] - 0s 1ms/step\n"
     ]
    },
    {
     "name": "stdout",
     "output_type": "stream",
     "text": [
      "4/4 [==============================] - 0s 2ms/step\n"
     ]
    },
    {
     "data": {
      "text/html": [
       "<div>\n",
       "<style scoped>\n",
       "    .dataframe tbody tr th:only-of-type {\n",
       "        vertical-align: middle;\n",
       "    }\n",
       "\n",
       "    .dataframe tbody tr th {\n",
       "        vertical-align: top;\n",
       "    }\n",
       "\n",
       "    .dataframe thead th {\n",
       "        text-align: right;\n",
       "    }\n",
       "</style>\n",
       "<table border=\"1\" class=\"dataframe\">\n",
       "  <thead>\n",
       "    <tr style=\"text-align: right;\">\n",
       "      <th></th>\n",
       "      <th>RMSE</th>\n",
       "      <th>MAE</th>\n",
       "      <th>R2</th>\n",
       "    </tr>\n",
       "    <tr>\n",
       "      <th>Model Name</th>\n",
       "      <th></th>\n",
       "      <th></th>\n",
       "      <th></th>\n",
       "    </tr>\n",
       "  </thead>\n",
       "  <tbody>\n",
       "    <tr>\n",
       "      <th>Train</th>\n",
       "      <td>4.518197</td>\n",
       "      <td>3.195142</td>\n",
       "      <td>0.769805</td>\n",
       "    </tr>\n",
       "  </tbody>\n",
       "</table>\n",
       "</div>"
      ],
      "text/plain": [
       "                RMSE       MAE        R2\n",
       "Model Name                              \n",
       "Train       4.518197  3.195142  0.769805"
      ]
     },
     "metadata": {},
     "output_type": "display_data"
    },
    {
     "data": {
      "text/html": [
       "<div>\n",
       "<style scoped>\n",
       "    .dataframe tbody tr th:only-of-type {\n",
       "        vertical-align: middle;\n",
       "    }\n",
       "\n",
       "    .dataframe tbody tr th {\n",
       "        vertical-align: top;\n",
       "    }\n",
       "\n",
       "    .dataframe thead th {\n",
       "        text-align: right;\n",
       "    }\n",
       "</style>\n",
       "<table border=\"1\" class=\"dataframe\">\n",
       "  <thead>\n",
       "    <tr style=\"text-align: right;\">\n",
       "      <th></th>\n",
       "      <th>RMSE</th>\n",
       "      <th>MAE</th>\n",
       "      <th>R2</th>\n",
       "    </tr>\n",
       "    <tr>\n",
       "      <th>Model Name</th>\n",
       "      <th></th>\n",
       "      <th></th>\n",
       "      <th></th>\n",
       "    </tr>\n",
       "  </thead>\n",
       "  <tbody>\n",
       "    <tr>\n",
       "      <th>Test</th>\n",
       "      <td>4.400339</td>\n",
       "      <td>2.891367</td>\n",
       "      <td>0.723493</td>\n",
       "    </tr>\n",
       "  </tbody>\n",
       "</table>\n",
       "</div>"
      ],
      "text/plain": [
       "                RMSE       MAE        R2\n",
       "Model Name                              \n",
       "Test        4.400339  2.891367  0.723493"
      ]
     },
     "metadata": {},
     "output_type": "display_data"
    }
   ],
   "source": [
    "# Make predictions and evaluate your model\n",
    "train_preds = model.predict(X_train_proc)\n",
    "test_preds = model.predict(X_test_proc)\n",
    "display(eval_regression(y_train, train_preds, 'Train'))\n",
    "display(eval_regression(y_test, test_preds, 'Test'))"
   ]
  },
  {
   "cell_type": "markdown",
   "metadata": {
    "id": "TvQ16n8x7RWb"
   },
   "source": [
    "# <center> Temperature Check: </center>\n",
    "## On a scale of 0 - 5, how confident do you feel in coding neural networks?\n",
    "\n",
    "0. What is a neural net?\n",
    "1. I know what a neural net is, but I don't know how to even start coding one.\n",
    "2. I kinda get how the code flows, but need help from someone else to create my own.\n",
    "3. I understand the general idea, and could code a neural net in Keras if I had an example in front of me.\n",
    "4. I feel confident in coding a neural network with some reference materials.\n",
    "5. Move over, Josh.  I can finish this code-along."
   ]
  },
  {
   "cell_type": "markdown",
   "metadata": {
    "id": "NWaTq6c7FHlr"
   },
   "source": [
    "\n",
    "# Classification Models in Keras\n",
    "\n",
    "Classification models are similar, except that we need to adjust:\n",
    "* The final activation of the output layer, and\n",
    "* The loss function and metrics in the compile step.\n",
    "\n",
    "We will also need to do some processing of the predictions after training to make them integers instead of floats.\n",
    "\n",
    "### Remember:\n",
    "MAE, MSE, RMSE, and R2 are regression metrics,\n",
    "\n",
    "accuracy, recall, precision, and F1-Score are classification metrics.\n",
    "\n",
    "## Classification Dataset\n",
    "The classification dataset describes diabetes rates among Pima Indians.  Each row is a person and this dataset includes features regarding health related measurements.  The target is binary and represents whether or not a person will be diagnosed with diabetes.  This is another old dataset first presented in 1988.\n",
    "\n"
   ]
  },
  {
   "cell_type": "code",
   "execution_count": 88,
   "metadata": {
    "colab": {
     "base_uri": "https://localhost:8080/",
     "height": 204
    },
    "executionInfo": {
     "elapsed": 17,
     "status": "ok",
     "timestamp": 1698803967448,
     "user": {
      "displayName": "Yvon Bilodeau",
      "userId": "10142856831792134633"
     },
     "user_tz": 420
    },
    "id": "CN1zHoGcGeFN",
    "outputId": "f0c37e65-f3e9-49fb-c46b-c42d66ef7117"
   },
   "outputs": [
    {
     "data": {
      "text/html": [
       "<div>\n",
       "<style scoped>\n",
       "    .dataframe tbody tr th:only-of-type {\n",
       "        vertical-align: middle;\n",
       "    }\n",
       "\n",
       "    .dataframe tbody tr th {\n",
       "        vertical-align: top;\n",
       "    }\n",
       "\n",
       "    .dataframe thead th {\n",
       "        text-align: right;\n",
       "    }\n",
       "</style>\n",
       "<table border=\"1\" class=\"dataframe\">\n",
       "  <thead>\n",
       "    <tr style=\"text-align: right;\">\n",
       "      <th></th>\n",
       "      <th>Pregnancies</th>\n",
       "      <th>Glucose</th>\n",
       "      <th>BloodPressure</th>\n",
       "      <th>SkinThickness</th>\n",
       "      <th>Insulin</th>\n",
       "      <th>BMI</th>\n",
       "      <th>DiabetesPedigreeFunction</th>\n",
       "      <th>Age</th>\n",
       "      <th>Outcome</th>\n",
       "    </tr>\n",
       "  </thead>\n",
       "  <tbody>\n",
       "    <tr>\n",
       "      <th>0</th>\n",
       "      <td>6</td>\n",
       "      <td>148</td>\n",
       "      <td>72</td>\n",
       "      <td>35</td>\n",
       "      <td>0</td>\n",
       "      <td>33.6</td>\n",
       "      <td>0.627</td>\n",
       "      <td>50</td>\n",
       "      <td>1</td>\n",
       "    </tr>\n",
       "    <tr>\n",
       "      <th>1</th>\n",
       "      <td>1</td>\n",
       "      <td>85</td>\n",
       "      <td>66</td>\n",
       "      <td>29</td>\n",
       "      <td>0</td>\n",
       "      <td>26.6</td>\n",
       "      <td>0.351</td>\n",
       "      <td>31</td>\n",
       "      <td>0</td>\n",
       "    </tr>\n",
       "    <tr>\n",
       "      <th>2</th>\n",
       "      <td>8</td>\n",
       "      <td>183</td>\n",
       "      <td>64</td>\n",
       "      <td>0</td>\n",
       "      <td>0</td>\n",
       "      <td>23.3</td>\n",
       "      <td>0.672</td>\n",
       "      <td>32</td>\n",
       "      <td>1</td>\n",
       "    </tr>\n",
       "    <tr>\n",
       "      <th>3</th>\n",
       "      <td>1</td>\n",
       "      <td>89</td>\n",
       "      <td>66</td>\n",
       "      <td>23</td>\n",
       "      <td>94</td>\n",
       "      <td>28.1</td>\n",
       "      <td>0.167</td>\n",
       "      <td>21</td>\n",
       "      <td>0</td>\n",
       "    </tr>\n",
       "    <tr>\n",
       "      <th>4</th>\n",
       "      <td>0</td>\n",
       "      <td>137</td>\n",
       "      <td>40</td>\n",
       "      <td>35</td>\n",
       "      <td>168</td>\n",
       "      <td>43.1</td>\n",
       "      <td>2.288</td>\n",
       "      <td>33</td>\n",
       "      <td>1</td>\n",
       "    </tr>\n",
       "  </tbody>\n",
       "</table>\n",
       "</div>"
      ],
      "text/plain": [
       "   Pregnancies  Glucose  BloodPressure  SkinThickness  Insulin   BMI  \\\n",
       "0            6      148             72             35        0  33.6   \n",
       "1            1       85             66             29        0  26.6   \n",
       "2            8      183             64              0        0  23.3   \n",
       "3            1       89             66             23       94  28.1   \n",
       "4            0      137             40             35      168  43.1   \n",
       "\n",
       "   DiabetesPedigreeFunction  Age  Outcome  \n",
       "0                     0.627   50        1  \n",
       "1                     0.351   31        0  \n",
       "2                     0.672   32        1  \n",
       "3                     0.167   21        0  \n",
       "4                     2.288   33        1  "
      ]
     },
     "execution_count": 88,
     "metadata": {},
     "output_type": "execute_result"
    }
   ],
   "source": [
    "classification_df = pd.read_csv('https://raw.githubusercontent.com/ninja-josh/image-storage/main/diabetes.csv')\n",
    "classification_df.head()"
   ]
  },
  {
   "cell_type": "code",
   "execution_count": 89,
   "metadata": {
    "colab": {
     "base_uri": "https://localhost:8080/"
    },
    "executionInfo": {
     "elapsed": 16,
     "status": "ok",
     "timestamp": 1698803967448,
     "user": {
      "displayName": "Yvon Bilodeau",
      "userId": "10142856831792134633"
     },
     "user_tz": 420
    },
    "id": "isTaHNFpGjQH",
    "outputId": "f8373e6d-e9c3-40d4-d790-f71c23b701f9"
   },
   "outputs": [
    {
     "name": "stdout",
     "output_type": "stream",
     "text": [
      "<class 'pandas.core.frame.DataFrame'>\n",
      "RangeIndex: 768 entries, 0 to 767\n",
      "Data columns (total 9 columns):\n",
      " #   Column                    Non-Null Count  Dtype  \n",
      "---  ------                    --------------  -----  \n",
      " 0   Pregnancies               768 non-null    int64  \n",
      " 1   Glucose                   768 non-null    int64  \n",
      " 2   BloodPressure             768 non-null    int64  \n",
      " 3   SkinThickness             768 non-null    int64  \n",
      " 4   Insulin                   768 non-null    int64  \n",
      " 5   BMI                       768 non-null    float64\n",
      " 6   DiabetesPedigreeFunction  768 non-null    float64\n",
      " 7   Age                       768 non-null    int64  \n",
      " 8   Outcome                   768 non-null    int64  \n",
      "dtypes: float64(2), int64(7)\n",
      "memory usage: 54.1 KB\n"
     ]
    }
   ],
   "source": [
    "classification_df.info()"
   ]
  },
  {
   "cell_type": "code",
   "execution_count": 90,
   "metadata": {
    "colab": {
     "base_uri": "https://localhost:8080/"
    },
    "executionInfo": {
     "elapsed": 10,
     "status": "ok",
     "timestamp": 1698803967448,
     "user": {
      "displayName": "Yvon Bilodeau",
      "userId": "10142856831792134633"
     },
     "user_tz": 420
    },
    "id": "HtZv-V73Gmjv",
    "outputId": "0cf5fa9f-33cc-47d1-b828-702de2a6f890"
   },
   "outputs": [
    {
     "data": {
      "text/plain": [
       "False"
      ]
     },
     "execution_count": 90,
     "metadata": {},
     "output_type": "execute_result"
    }
   ],
   "source": [
    "classification_df.duplicated().any()"
   ]
  },
  {
   "cell_type": "code",
   "execution_count": 91,
   "metadata": {
    "colab": {
     "base_uri": "https://localhost:8080/",
     "height": 297
    },
    "executionInfo": {
     "elapsed": 244,
     "status": "ok",
     "timestamp": 1698803967688,
     "user": {
      "displayName": "Yvon Bilodeau",
      "userId": "10142856831792134633"
     },
     "user_tz": 420
    },
    "id": "sdF3qT-9Gp_s",
    "outputId": "c2110d77-0c19-4268-b285-32c2640cedd0"
   },
   "outputs": [
    {
     "data": {
      "text/html": [
       "<div>\n",
       "<style scoped>\n",
       "    .dataframe tbody tr th:only-of-type {\n",
       "        vertical-align: middle;\n",
       "    }\n",
       "\n",
       "    .dataframe tbody tr th {\n",
       "        vertical-align: top;\n",
       "    }\n",
       "\n",
       "    .dataframe thead th {\n",
       "        text-align: right;\n",
       "    }\n",
       "</style>\n",
       "<table border=\"1\" class=\"dataframe\">\n",
       "  <thead>\n",
       "    <tr style=\"text-align: right;\">\n",
       "      <th></th>\n",
       "      <th>Pregnancies</th>\n",
       "      <th>Glucose</th>\n",
       "      <th>BloodPressure</th>\n",
       "      <th>SkinThickness</th>\n",
       "      <th>Insulin</th>\n",
       "      <th>BMI</th>\n",
       "      <th>DiabetesPedigreeFunction</th>\n",
       "      <th>Age</th>\n",
       "      <th>Outcome</th>\n",
       "    </tr>\n",
       "  </thead>\n",
       "  <tbody>\n",
       "    <tr>\n",
       "      <th>count</th>\n",
       "      <td>768.000000</td>\n",
       "      <td>768.000000</td>\n",
       "      <td>768.000000</td>\n",
       "      <td>768.000000</td>\n",
       "      <td>768.000000</td>\n",
       "      <td>768.000000</td>\n",
       "      <td>768.000000</td>\n",
       "      <td>768.000000</td>\n",
       "      <td>768.000000</td>\n",
       "    </tr>\n",
       "    <tr>\n",
       "      <th>mean</th>\n",
       "      <td>3.845052</td>\n",
       "      <td>120.894531</td>\n",
       "      <td>69.105469</td>\n",
       "      <td>20.536458</td>\n",
       "      <td>79.799479</td>\n",
       "      <td>31.992578</td>\n",
       "      <td>0.471876</td>\n",
       "      <td>33.240885</td>\n",
       "      <td>0.348958</td>\n",
       "    </tr>\n",
       "    <tr>\n",
       "      <th>std</th>\n",
       "      <td>3.369578</td>\n",
       "      <td>31.972618</td>\n",
       "      <td>19.355807</td>\n",
       "      <td>15.952218</td>\n",
       "      <td>115.244002</td>\n",
       "      <td>7.884160</td>\n",
       "      <td>0.331329</td>\n",
       "      <td>11.760232</td>\n",
       "      <td>0.476951</td>\n",
       "    </tr>\n",
       "    <tr>\n",
       "      <th>min</th>\n",
       "      <td>0.000000</td>\n",
       "      <td>0.000000</td>\n",
       "      <td>0.000000</td>\n",
       "      <td>0.000000</td>\n",
       "      <td>0.000000</td>\n",
       "      <td>0.000000</td>\n",
       "      <td>0.078000</td>\n",
       "      <td>21.000000</td>\n",
       "      <td>0.000000</td>\n",
       "    </tr>\n",
       "    <tr>\n",
       "      <th>25%</th>\n",
       "      <td>1.000000</td>\n",
       "      <td>99.000000</td>\n",
       "      <td>62.000000</td>\n",
       "      <td>0.000000</td>\n",
       "      <td>0.000000</td>\n",
       "      <td>27.300000</td>\n",
       "      <td>0.243750</td>\n",
       "      <td>24.000000</td>\n",
       "      <td>0.000000</td>\n",
       "    </tr>\n",
       "    <tr>\n",
       "      <th>50%</th>\n",
       "      <td>3.000000</td>\n",
       "      <td>117.000000</td>\n",
       "      <td>72.000000</td>\n",
       "      <td>23.000000</td>\n",
       "      <td>30.500000</td>\n",
       "      <td>32.000000</td>\n",
       "      <td>0.372500</td>\n",
       "      <td>29.000000</td>\n",
       "      <td>0.000000</td>\n",
       "    </tr>\n",
       "    <tr>\n",
       "      <th>75%</th>\n",
       "      <td>6.000000</td>\n",
       "      <td>140.250000</td>\n",
       "      <td>80.000000</td>\n",
       "      <td>32.000000</td>\n",
       "      <td>127.250000</td>\n",
       "      <td>36.600000</td>\n",
       "      <td>0.626250</td>\n",
       "      <td>41.000000</td>\n",
       "      <td>1.000000</td>\n",
       "    </tr>\n",
       "    <tr>\n",
       "      <th>max</th>\n",
       "      <td>17.000000</td>\n",
       "      <td>199.000000</td>\n",
       "      <td>122.000000</td>\n",
       "      <td>99.000000</td>\n",
       "      <td>846.000000</td>\n",
       "      <td>67.100000</td>\n",
       "      <td>2.420000</td>\n",
       "      <td>81.000000</td>\n",
       "      <td>1.000000</td>\n",
       "    </tr>\n",
       "  </tbody>\n",
       "</table>\n",
       "</div>"
      ],
      "text/plain": [
       "       Pregnancies     Glucose  BloodPressure  SkinThickness     Insulin  \\\n",
       "count   768.000000  768.000000     768.000000     768.000000  768.000000   \n",
       "mean      3.845052  120.894531      69.105469      20.536458   79.799479   \n",
       "std       3.369578   31.972618      19.355807      15.952218  115.244002   \n",
       "min       0.000000    0.000000       0.000000       0.000000    0.000000   \n",
       "25%       1.000000   99.000000      62.000000       0.000000    0.000000   \n",
       "50%       3.000000  117.000000      72.000000      23.000000   30.500000   \n",
       "75%       6.000000  140.250000      80.000000      32.000000  127.250000   \n",
       "max      17.000000  199.000000     122.000000      99.000000  846.000000   \n",
       "\n",
       "              BMI  DiabetesPedigreeFunction         Age     Outcome  \n",
       "count  768.000000                768.000000  768.000000  768.000000  \n",
       "mean    31.992578                  0.471876   33.240885    0.348958  \n",
       "std      7.884160                  0.331329   11.760232    0.476951  \n",
       "min      0.000000                  0.078000   21.000000    0.000000  \n",
       "25%     27.300000                  0.243750   24.000000    0.000000  \n",
       "50%     32.000000                  0.372500   29.000000    0.000000  \n",
       "75%     36.600000                  0.626250   41.000000    1.000000  \n",
       "max     67.100000                  2.420000   81.000000    1.000000  "
      ]
     },
     "execution_count": 91,
     "metadata": {},
     "output_type": "execute_result"
    }
   ],
   "source": [
    "classification_df.describe()"
   ]
  },
  {
   "cell_type": "markdown",
   "metadata": {
    "id": "l8cjiy3BGvLa"
   },
   "source": [
    "### Important Note:\n",
    "We see minimums for Glucose, BloodPression, SkinThickness, Insulin, and BMI of 0s.  Those are impossible for humans, so lets drop those rows."
   ]
  },
  {
   "cell_type": "code",
   "execution_count": 92,
   "metadata": {
    "colab": {
     "base_uri": "https://localhost:8080/",
     "height": 297
    },
    "executionInfo": {
     "elapsed": 23,
     "status": "ok",
     "timestamp": 1698803967689,
     "user": {
      "displayName": "Yvon Bilodeau",
      "userId": "10142856831792134633"
     },
     "user_tz": 420
    },
    "id": "TwzoeFVWG6Dd",
    "outputId": "1c35a985-cea6-441a-b58a-b8fdcab78117"
   },
   "outputs": [
    {
     "data": {
      "text/html": [
       "<div>\n",
       "<style scoped>\n",
       "    .dataframe tbody tr th:only-of-type {\n",
       "        vertical-align: middle;\n",
       "    }\n",
       "\n",
       "    .dataframe tbody tr th {\n",
       "        vertical-align: top;\n",
       "    }\n",
       "\n",
       "    .dataframe thead th {\n",
       "        text-align: right;\n",
       "    }\n",
       "</style>\n",
       "<table border=\"1\" class=\"dataframe\">\n",
       "  <thead>\n",
       "    <tr style=\"text-align: right;\">\n",
       "      <th></th>\n",
       "      <th>Pregnancies</th>\n",
       "      <th>Glucose</th>\n",
       "      <th>BloodPressure</th>\n",
       "      <th>SkinThickness</th>\n",
       "      <th>Insulin</th>\n",
       "      <th>BMI</th>\n",
       "      <th>DiabetesPedigreeFunction</th>\n",
       "      <th>Age</th>\n",
       "      <th>Outcome</th>\n",
       "    </tr>\n",
       "  </thead>\n",
       "  <tbody>\n",
       "    <tr>\n",
       "      <th>count</th>\n",
       "      <td>392.000000</td>\n",
       "      <td>392.000000</td>\n",
       "      <td>392.000000</td>\n",
       "      <td>392.000000</td>\n",
       "      <td>392.000000</td>\n",
       "      <td>392.000000</td>\n",
       "      <td>392.000000</td>\n",
       "      <td>392.000000</td>\n",
       "      <td>392.000000</td>\n",
       "    </tr>\n",
       "    <tr>\n",
       "      <th>mean</th>\n",
       "      <td>3.301020</td>\n",
       "      <td>122.627551</td>\n",
       "      <td>70.663265</td>\n",
       "      <td>29.145408</td>\n",
       "      <td>156.056122</td>\n",
       "      <td>33.086224</td>\n",
       "      <td>0.523046</td>\n",
       "      <td>30.864796</td>\n",
       "      <td>0.331633</td>\n",
       "    </tr>\n",
       "    <tr>\n",
       "      <th>std</th>\n",
       "      <td>3.211424</td>\n",
       "      <td>30.860781</td>\n",
       "      <td>12.496092</td>\n",
       "      <td>10.516424</td>\n",
       "      <td>118.841690</td>\n",
       "      <td>7.027659</td>\n",
       "      <td>0.345488</td>\n",
       "      <td>10.200777</td>\n",
       "      <td>0.471401</td>\n",
       "    </tr>\n",
       "    <tr>\n",
       "      <th>min</th>\n",
       "      <td>0.000000</td>\n",
       "      <td>56.000000</td>\n",
       "      <td>24.000000</td>\n",
       "      <td>7.000000</td>\n",
       "      <td>14.000000</td>\n",
       "      <td>18.200000</td>\n",
       "      <td>0.085000</td>\n",
       "      <td>21.000000</td>\n",
       "      <td>0.000000</td>\n",
       "    </tr>\n",
       "    <tr>\n",
       "      <th>25%</th>\n",
       "      <td>1.000000</td>\n",
       "      <td>99.000000</td>\n",
       "      <td>62.000000</td>\n",
       "      <td>21.000000</td>\n",
       "      <td>76.750000</td>\n",
       "      <td>28.400000</td>\n",
       "      <td>0.269750</td>\n",
       "      <td>23.000000</td>\n",
       "      <td>0.000000</td>\n",
       "    </tr>\n",
       "    <tr>\n",
       "      <th>50%</th>\n",
       "      <td>2.000000</td>\n",
       "      <td>119.000000</td>\n",
       "      <td>70.000000</td>\n",
       "      <td>29.000000</td>\n",
       "      <td>125.500000</td>\n",
       "      <td>33.200000</td>\n",
       "      <td>0.449500</td>\n",
       "      <td>27.000000</td>\n",
       "      <td>0.000000</td>\n",
       "    </tr>\n",
       "    <tr>\n",
       "      <th>75%</th>\n",
       "      <td>5.000000</td>\n",
       "      <td>143.000000</td>\n",
       "      <td>78.000000</td>\n",
       "      <td>37.000000</td>\n",
       "      <td>190.000000</td>\n",
       "      <td>37.100000</td>\n",
       "      <td>0.687000</td>\n",
       "      <td>36.000000</td>\n",
       "      <td>1.000000</td>\n",
       "    </tr>\n",
       "    <tr>\n",
       "      <th>max</th>\n",
       "      <td>17.000000</td>\n",
       "      <td>198.000000</td>\n",
       "      <td>110.000000</td>\n",
       "      <td>63.000000</td>\n",
       "      <td>846.000000</td>\n",
       "      <td>67.100000</td>\n",
       "      <td>2.420000</td>\n",
       "      <td>81.000000</td>\n",
       "      <td>1.000000</td>\n",
       "    </tr>\n",
       "  </tbody>\n",
       "</table>\n",
       "</div>"
      ],
      "text/plain": [
       "       Pregnancies     Glucose  BloodPressure  SkinThickness     Insulin  \\\n",
       "count   392.000000  392.000000     392.000000     392.000000  392.000000   \n",
       "mean      3.301020  122.627551      70.663265      29.145408  156.056122   \n",
       "std       3.211424   30.860781      12.496092      10.516424  118.841690   \n",
       "min       0.000000   56.000000      24.000000       7.000000   14.000000   \n",
       "25%       1.000000   99.000000      62.000000      21.000000   76.750000   \n",
       "50%       2.000000  119.000000      70.000000      29.000000  125.500000   \n",
       "75%       5.000000  143.000000      78.000000      37.000000  190.000000   \n",
       "max      17.000000  198.000000     110.000000      63.000000  846.000000   \n",
       "\n",
       "              BMI  DiabetesPedigreeFunction         Age     Outcome  \n",
       "count  392.000000                392.000000  392.000000  392.000000  \n",
       "mean    33.086224                  0.523046   30.864796    0.331633  \n",
       "std      7.027659                  0.345488   10.200777    0.471401  \n",
       "min     18.200000                  0.085000   21.000000    0.000000  \n",
       "25%     28.400000                  0.269750   23.000000    0.000000  \n",
       "50%     33.200000                  0.449500   27.000000    0.000000  \n",
       "75%     37.100000                  0.687000   36.000000    1.000000  \n",
       "max     67.100000                  2.420000   81.000000    1.000000  "
      ]
     },
     "execution_count": 92,
     "metadata": {},
     "output_type": "execute_result"
    }
   ],
   "source": [
    "no_glucose = classification_df['Glucose'] == 0\n",
    "no_blood = classification_df['BloodPressure'] == 0\n",
    "no_skin = classification_df['SkinThickness'] == 0\n",
    "no_insulin = classification_df['Insulin'] == 0\n",
    "no_bmi = classification_df['BMI'] == 0\n",
    "\n",
    "#class_df_clean excludes rows that have no values == 0 in the above columns\n",
    "class_df_clean = classification_df[~(no_glucose |\n",
    "                                     no_blood |\n",
    "                                     no_skin |\n",
    "                                     no_insulin |\n",
    "                                     no_bmi)]\n",
    "class_df_clean.describe()"
   ]
  },
  {
   "cell_type": "markdown",
   "metadata": {
    "id": "oQqWsTbaM5It"
   },
   "source": [
    "We lost a lot of data, going from 768 samples to 392 samples.  In the future we might impute this data using means, medians, or other imputation strategies.  For this exercise we won't focus on that."
   ]
  },
  {
   "cell_type": "markdown",
   "metadata": {
    "id": "H3mqMU6SJZlO"
   },
   "source": [
    "### Important Note:\n",
    "\n",
    "This stratify parameter makes a split so that the proportion of values in the sample produced will be the same as the proportion of values provided to parameter stratify.\n",
    "\n",
    "For example, if variable y is a binary categorical variable with values 0 and 1 and there are 25% of zeros and 75% of ones, stratify=y will make sure that your random split has 25% of 0's and 75% of 1's."
   ]
  },
  {
   "cell_type": "code",
   "execution_count": 93,
   "metadata": {
    "executionInfo": {
     "elapsed": 22,
     "status": "ok",
     "timestamp": 1698803967689,
     "user": {
      "displayName": "Yvon Bilodeau",
      "userId": "10142856831792134633"
     },
     "user_tz": 420
    },
    "id": "JjREwrWgGPtP"
   },
   "outputs": [],
   "source": [
    "# Define X and y and train test split\n",
    "X = class_df_clean.drop(columns = 'Outcome')\n",
    "y = class_df_clean['Outcome']\n",
    "\n",
    "\n",
    "X_train, X_test, y_train, y_test = train_test_split(X, y, random_state = 42, stratify = y)"
   ]
  },
  {
   "cell_type": "code",
   "execution_count": 94,
   "metadata": {
    "colab": {
     "base_uri": "https://localhost:8080/"
    },
    "executionInfo": {
     "elapsed": 22,
     "status": "ok",
     "timestamp": 1698803967689,
     "user": {
      "displayName": "Yvon Bilodeau",
      "userId": "10142856831792134633"
     },
     "user_tz": 420
    },
    "id": "bE0MPxsBJZlP",
    "outputId": "243735cd-5b06-403c-b4dc-6ad4292d3b75"
   },
   "outputs": [
    {
     "data": {
      "text/plain": [
       "Outcome\n",
       "0    0.668367\n",
       "1    0.331633\n",
       "Name: proportion, dtype: float64"
      ]
     },
     "execution_count": 94,
     "metadata": {},
     "output_type": "execute_result"
    }
   ],
   "source": [
    "# Proportions of 0 and 1 in the dataset\n",
    "y.value_counts(normalize=True)"
   ]
  },
  {
   "cell_type": "code",
   "execution_count": 95,
   "metadata": {
    "colab": {
     "base_uri": "https://localhost:8080/"
    },
    "executionInfo": {
     "elapsed": 16,
     "status": "ok",
     "timestamp": 1698803967689,
     "user": {
      "displayName": "Yvon Bilodeau",
      "userId": "10142856831792134633"
     },
     "user_tz": 420
    },
    "id": "sO-5i_X7JZlP",
    "outputId": "ca91fca6-df64-4fb6-9d3a-4b1c9211e606"
   },
   "outputs": [
    {
     "data": {
      "text/plain": [
       "Outcome\n",
       "0    0.666667\n",
       "1    0.333333\n",
       "Name: proportion, dtype: float64"
      ]
     },
     "execution_count": 95,
     "metadata": {},
     "output_type": "execute_result"
    }
   ],
   "source": [
    "# Proportions of 0 and 1 in the train dataset\n",
    "y_train.value_counts(normalize=True)"
   ]
  },
  {
   "cell_type": "code",
   "execution_count": 57,
   "metadata": {
    "colab": {
     "base_uri": "https://localhost:8080/"
    },
    "executionInfo": {
     "elapsed": 10,
     "status": "ok",
     "timestamp": 1698803967689,
     "user": {
      "displayName": "Yvon Bilodeau",
      "userId": "10142856831792134633"
     },
     "user_tz": 420
    },
    "id": "ccjfu2pdJZlP",
    "outputId": "41da206e-4f3e-4220-d585-70e2b1dee4ff"
   },
   "outputs": [
    {
     "data": {
      "text/plain": [
       "Outcome\n",
       "0    0.673469\n",
       "1    0.326531\n",
       "Name: proportion, dtype: float64"
      ]
     },
     "execution_count": 57,
     "metadata": {},
     "output_type": "execute_result"
    }
   ],
   "source": [
    "# Proportions of 0 and 1 in the test dataset\n",
    "y_test.value_counts(normalize=True)"
   ]
  },
  {
   "cell_type": "code",
   "execution_count": 96,
   "metadata": {
    "executionInfo": {
     "elapsed": 5,
     "status": "ok",
     "timestamp": 1698803967689,
     "user": {
      "displayName": "Yvon Bilodeau",
      "userId": "10142856831792134633"
     },
     "user_tz": 420
    },
    "id": "EKPiCOByPOfF"
   },
   "outputs": [],
   "source": [
    "# Scale the data\n",
    "scaler = MinMaxScaler()\n",
    "scaler.fit(X_train)\n",
    "X_train_proc = scaler.transform(X_train)\n",
    "X_test_proc = scaler.transform(X_test)"
   ]
  },
  {
   "cell_type": "markdown",
   "metadata": {
    "id": "1TWU179nQIdt"
   },
   "source": [
    "## Build the Classification Model\n",
    "\n",
    "We need to do a few things differently here because this is a binary classification:\n",
    "\n",
    "1. The activation of our final layer needs to be 'sigmoid'.  \n",
    "\n",
    "\n",
    "(If this were multiclass classification, we would set the final activation as 'softmax' and the number of output nodes would be the number of classes in our y_train.)"
   ]
  },
  {
   "cell_type": "code",
   "execution_count": 97,
   "metadata": {
    "colab": {
     "base_uri": "https://localhost:8080/"
    },
    "executionInfo": {
     "elapsed": 204,
     "status": "ok",
     "timestamp": 1698803967889,
     "user": {
      "displayName": "Yvon Bilodeau",
      "userId": "10142856831792134633"
     },
     "user_tz": 420
    },
    "id": "lAwy3AXrPjwH",
    "outputId": "c89302f6-b241-4c46-878c-100361bd0a5a"
   },
   "outputs": [],
   "source": [
    "# Set Random Seeds\n",
    "keras.backend.clear_session()\n",
    "np.random.seed(42)\n",
    "tf.random.set_seed(42)\n",
    "\n",
    "# Build your model\n",
    "model = Sequential()\n",
    "model.add(Input(shape=(X_train_proc.shape[1],)))\n",
    "model.add(Dense(10, activation='relu'))\n",
    "model.add(Dense(10, activation='relu'))\n",
    "model.add(Dense(1, activation='sigmoid'))\n",
    "\n",
    "\n",
    "# One output node with 'sigmoid' activation\n"
   ]
  },
  {
   "cell_type": "markdown",
   "metadata": {
    "id": "4nrwLXyKPpO1"
   },
   "source": [
    "## More Changes for Classification:\n",
    "\n",
    "1.  We need to change our loss to 'binary_crossentropy', or 'bce'.  If this were multiclass we would use 'categorical_crossentrobpy'.\n",
    "\n",
    "2. Our metrics should be classification metrics.  We will use accuracy and import recall and precision."
   ]
  },
  {
   "cell_type": "code",
   "execution_count": 98,
   "metadata": {
    "executionInfo": {
     "elapsed": 8,
     "status": "ok",
     "timestamp": 1698803967889,
     "user": {
      "displayName": "Yvon Bilodeau",
      "userId": "10142856831792134633"
     },
     "user_tz": 420
    },
    "id": "GOe9CMP2PtDT"
   },
   "outputs": [],
   "source": [
    "from keras.metrics import Precision, Recall\n",
    "\n",
    "# Compile your model with loss='bce, set metrics = ['acc', Precision(), Recall()]\n",
    "model.compile(loss='bce', metrics=['acc', Precision(), Recall()], optimizer='adam')\n",
    "\n"
   ]
  },
  {
   "cell_type": "code",
   "execution_count": 99,
   "metadata": {
    "colab": {
     "base_uri": "https://localhost:8080/"
    },
    "executionInfo": {
     "elapsed": 42183,
     "status": "ok",
     "timestamp": 1698804010065,
     "user": {
      "displayName": "Yvon Bilodeau",
      "userId": "10142856831792134633"
     },
     "user_tz": 420
    },
    "id": "vScTvfoKOVLO",
    "outputId": "8106018a-5a36-4175-c6bb-c6924f9730cd"
   },
   "outputs": [
    {
     "name": "stdout",
     "output_type": "stream",
     "text": [
      "Epoch 1/300\n",
      "10/10 [==============================] - 1s 28ms/step - loss: 0.6985 - acc: 0.4082 - precision: 0.1984 - recall: 0.2551 - val_loss: 0.6999 - val_acc: 0.4694 - val_precision: 0.1429 - val_recall: 0.1250\n",
      "Epoch 2/300\n",
      "10/10 [==============================] - 0s 9ms/step - loss: 0.6919 - acc: 0.5850 - precision: 0.2000 - recall: 0.0816 - val_loss: 0.6924 - val_acc: 0.6429 - val_precision: 0.0000e+00 - val_recall: 0.0000e+00\n",
      "Epoch 3/300\n",
      "10/10 [==============================] - 0s 7ms/step - loss: 0.6853 - acc: 0.6667 - precision: 0.0000e+00 - recall: 0.0000e+00 - val_loss: 0.6851 - val_acc: 0.6735 - val_precision: 0.0000e+00 - val_recall: 0.0000e+00\n",
      "Epoch 4/300\n",
      "10/10 [==============================] - 0s 5ms/step - loss: 0.6767 - acc: 0.6667 - precision: 0.0000e+00 - recall: 0.0000e+00 - val_loss: 0.6775 - val_acc: 0.6735 - val_precision: 0.0000e+00 - val_recall: 0.0000e+00\n",
      "Epoch 5/300\n",
      "10/10 [==============================] - 0s 5ms/step - loss: 0.6675 - acc: 0.6667 - precision: 0.0000e+00 - recall: 0.0000e+00 - val_loss: 0.6687 - val_acc: 0.6735 - val_precision: 0.0000e+00 - val_recall: 0.0000e+00\n",
      "Epoch 6/300\n",
      "10/10 [==============================] - 0s 6ms/step - loss: 0.6602 - acc: 0.6667 - precision: 0.0000e+00 - recall: 0.0000e+00 - val_loss: 0.6610 - val_acc: 0.6735 - val_precision: 0.0000e+00 - val_recall: 0.0000e+00\n",
      "Epoch 7/300\n",
      "10/10 [==============================] - 0s 6ms/step - loss: 0.6527 - acc: 0.6667 - precision: 0.0000e+00 - recall: 0.0000e+00 - val_loss: 0.6549 - val_acc: 0.6735 - val_precision: 0.0000e+00 - val_recall: 0.0000e+00\n",
      "Epoch 8/300\n",
      "10/10 [==============================] - 0s 5ms/step - loss: 0.6466 - acc: 0.6667 - precision: 0.0000e+00 - recall: 0.0000e+00 - val_loss: 0.6498 - val_acc: 0.6735 - val_precision: 0.0000e+00 - val_recall: 0.0000e+00\n",
      "Epoch 9/300\n",
      "10/10 [==============================] - 0s 6ms/step - loss: 0.6411 - acc: 0.6667 - precision: 0.0000e+00 - recall: 0.0000e+00 - val_loss: 0.6447 - val_acc: 0.6735 - val_precision: 0.0000e+00 - val_recall: 0.0000e+00\n",
      "Epoch 10/300\n",
      "10/10 [==============================] - 0s 6ms/step - loss: 0.6354 - acc: 0.6667 - precision: 0.0000e+00 - recall: 0.0000e+00 - val_loss: 0.6395 - val_acc: 0.6735 - val_precision: 0.0000e+00 - val_recall: 0.0000e+00\n",
      "Epoch 11/300\n",
      "10/10 [==============================] - 0s 5ms/step - loss: 0.6301 - acc: 0.6667 - precision: 0.0000e+00 - recall: 0.0000e+00 - val_loss: 0.6343 - val_acc: 0.6735 - val_precision: 0.0000e+00 - val_recall: 0.0000e+00\n",
      "Epoch 12/300\n",
      "10/10 [==============================] - 0s 5ms/step - loss: 0.6245 - acc: 0.6667 - precision: 0.0000e+00 - recall: 0.0000e+00 - val_loss: 0.6287 - val_acc: 0.6735 - val_precision: 0.0000e+00 - val_recall: 0.0000e+00\n",
      "Epoch 13/300\n",
      "10/10 [==============================] - 0s 5ms/step - loss: 0.6192 - acc: 0.6667 - precision: 0.0000e+00 - recall: 0.0000e+00 - val_loss: 0.6237 - val_acc: 0.6735 - val_precision: 0.0000e+00 - val_recall: 0.0000e+00\n",
      "Epoch 14/300\n",
      "10/10 [==============================] - 0s 6ms/step - loss: 0.6150 - acc: 0.6667 - precision: 0.0000e+00 - recall: 0.0000e+00 - val_loss: 0.6187 - val_acc: 0.6735 - val_precision: 0.0000e+00 - val_recall: 0.0000e+00\n",
      "Epoch 15/300\n",
      "10/10 [==============================] - 0s 5ms/step - loss: 0.6100 - acc: 0.6667 - precision: 0.0000e+00 - recall: 0.0000e+00 - val_loss: 0.6141 - val_acc: 0.6735 - val_precision: 0.0000e+00 - val_recall: 0.0000e+00\n",
      "Epoch 16/300\n",
      "10/10 [==============================] - 0s 6ms/step - loss: 0.6049 - acc: 0.6667 - precision: 0.0000e+00 - recall: 0.0000e+00 - val_loss: 0.6092 - val_acc: 0.6837 - val_precision: 1.0000 - val_recall: 0.0312\n",
      "Epoch 17/300\n",
      "10/10 [==============================] - 0s 5ms/step - loss: 0.5999 - acc: 0.6667 - precision: 0.5000 - recall: 0.0102 - val_loss: 0.6042 - val_acc: 0.6837 - val_precision: 1.0000 - val_recall: 0.0312\n",
      "Epoch 18/300\n",
      "10/10 [==============================] - 0s 5ms/step - loss: 0.5953 - acc: 0.6735 - precision: 0.6250 - recall: 0.0510 - val_loss: 0.6008 - val_acc: 0.6837 - val_precision: 0.6000 - val_recall: 0.0938\n",
      "Epoch 19/300\n",
      "10/10 [==============================] - 0s 5ms/step - loss: 0.5910 - acc: 0.6939 - precision: 0.7500 - recall: 0.1224 - val_loss: 0.5963 - val_acc: 0.6939 - val_precision: 0.6667 - val_recall: 0.1250\n",
      "Epoch 20/300\n",
      "10/10 [==============================] - 0s 5ms/step - loss: 0.5855 - acc: 0.7075 - precision: 0.8000 - recall: 0.1633 - val_loss: 0.5904 - val_acc: 0.6939 - val_precision: 0.6667 - val_recall: 0.1250\n",
      "Epoch 21/300\n",
      "10/10 [==============================] - 0s 5ms/step - loss: 0.5798 - acc: 0.7075 - precision: 0.7727 - recall: 0.1735 - val_loss: 0.5847 - val_acc: 0.7143 - val_precision: 0.7500 - val_recall: 0.1875\n",
      "Epoch 22/300\n",
      "10/10 [==============================] - 0s 4ms/step - loss: 0.5750 - acc: 0.7143 - precision: 0.7917 - recall: 0.1939 - val_loss: 0.5792 - val_acc: 0.7143 - val_precision: 0.7000 - val_recall: 0.2188\n",
      "Epoch 23/300\n",
      "10/10 [==============================] - 0s 5ms/step - loss: 0.5692 - acc: 0.7177 - precision: 0.8000 - recall: 0.2041 - val_loss: 0.5740 - val_acc: 0.7143 - val_precision: 0.7000 - val_recall: 0.2188\n",
      "Epoch 24/300\n",
      "10/10 [==============================] - 0s 4ms/step - loss: 0.5640 - acc: 0.7279 - precision: 0.8214 - recall: 0.2347 - val_loss: 0.5695 - val_acc: 0.7245 - val_precision: 0.7273 - val_recall: 0.2500\n",
      "Epoch 25/300\n",
      "10/10 [==============================] - 0s 6ms/step - loss: 0.5588 - acc: 0.7313 - precision: 0.7879 - recall: 0.2653 - val_loss: 0.5645 - val_acc: 0.7245 - val_precision: 0.7273 - val_recall: 0.2500\n",
      "Epoch 26/300\n",
      "10/10 [==============================] - 0s 6ms/step - loss: 0.5535 - acc: 0.7279 - precision: 0.7500 - recall: 0.2755 - val_loss: 0.5593 - val_acc: 0.7347 - val_precision: 0.7143 - val_recall: 0.3125\n",
      "Epoch 27/300\n",
      "10/10 [==============================] - 0s 5ms/step - loss: 0.5478 - acc: 0.7245 - precision: 0.7297 - recall: 0.2755 - val_loss: 0.5540 - val_acc: 0.7347 - val_precision: 0.7143 - val_recall: 0.3125\n",
      "Epoch 28/300\n",
      "10/10 [==============================] - 0s 5ms/step - loss: 0.5424 - acc: 0.7177 - precision: 0.6667 - recall: 0.3061 - val_loss: 0.5490 - val_acc: 0.7857 - val_precision: 0.7895 - val_recall: 0.4688\n",
      "Epoch 29/300\n",
      "10/10 [==============================] - 0s 5ms/step - loss: 0.5363 - acc: 0.7483 - precision: 0.7000 - recall: 0.4286 - val_loss: 0.5462 - val_acc: 0.7755 - val_precision: 0.7083 - val_recall: 0.5312\n",
      "Epoch 30/300\n",
      "10/10 [==============================] - 0s 5ms/step - loss: 0.5323 - acc: 0.7687 - precision: 0.7206 - recall: 0.5000 - val_loss: 0.5410 - val_acc: 0.7755 - val_precision: 0.7083 - val_recall: 0.5312\n",
      "Epoch 31/300\n",
      "10/10 [==============================] - 0s 5ms/step - loss: 0.5261 - acc: 0.7585 - precision: 0.7077 - recall: 0.4694 - val_loss: 0.5349 - val_acc: 0.7755 - val_precision: 0.7083 - val_recall: 0.5312\n",
      "Epoch 32/300\n",
      "10/10 [==============================] - 0s 5ms/step - loss: 0.5205 - acc: 0.7517 - precision: 0.7049 - recall: 0.4388 - val_loss: 0.5292 - val_acc: 0.8061 - val_precision: 0.8095 - val_recall: 0.5312\n",
      "Epoch 33/300\n",
      "10/10 [==============================] - 0s 5ms/step - loss: 0.5172 - acc: 0.7449 - precision: 0.7018 - recall: 0.4082 - val_loss: 0.5248 - val_acc: 0.8061 - val_precision: 0.8095 - val_recall: 0.5312\n",
      "Epoch 34/300\n",
      "10/10 [==============================] - 0s 6ms/step - loss: 0.5122 - acc: 0.7517 - precision: 0.7119 - recall: 0.4286 - val_loss: 0.5211 - val_acc: 0.7755 - val_precision: 0.7083 - val_recall: 0.5312\n",
      "Epoch 35/300\n",
      "10/10 [==============================] - 0s 6ms/step - loss: 0.5079 - acc: 0.7619 - precision: 0.7121 - recall: 0.4796 - val_loss: 0.5186 - val_acc: 0.7755 - val_precision: 0.7083 - val_recall: 0.5312\n",
      "Epoch 36/300\n",
      "10/10 [==============================] - 0s 5ms/step - loss: 0.5029 - acc: 0.7687 - precision: 0.7206 - recall: 0.5000 - val_loss: 0.5144 - val_acc: 0.7755 - val_precision: 0.7083 - val_recall: 0.5312\n",
      "Epoch 37/300\n",
      "10/10 [==============================] - 0s 5ms/step - loss: 0.4994 - acc: 0.7653 - precision: 0.7164 - recall: 0.4898 - val_loss: 0.5112 - val_acc: 0.7755 - val_precision: 0.7083 - val_recall: 0.5312\n",
      "Epoch 38/300\n",
      "10/10 [==============================] - 0s 5ms/step - loss: 0.4940 - acc: 0.7755 - precision: 0.7286 - recall: 0.5204 - val_loss: 0.5109 - val_acc: 0.7959 - val_precision: 0.7308 - val_recall: 0.5938\n",
      "Epoch 39/300\n",
      "10/10 [==============================] - 0s 9ms/step - loss: 0.4935 - acc: 0.7857 - precision: 0.7215 - recall: 0.5816 - val_loss: 0.5105 - val_acc: 0.8163 - val_precision: 0.7500 - val_recall: 0.6562\n",
      "Epoch 40/300\n",
      "10/10 [==============================] - 0s 6ms/step - loss: 0.4883 - acc: 0.7823 - precision: 0.7179 - recall: 0.5714 - val_loss: 0.5033 - val_acc: 0.7959 - val_precision: 0.7308 - val_recall: 0.5938\n",
      "Epoch 41/300\n",
      "10/10 [==============================] - 0s 4ms/step - loss: 0.4854 - acc: 0.7687 - precision: 0.7206 - recall: 0.5000 - val_loss: 0.4991 - val_acc: 0.7959 - val_precision: 0.7308 - val_recall: 0.5938\n",
      "Epoch 42/300\n",
      "10/10 [==============================] - 0s 5ms/step - loss: 0.4819 - acc: 0.7687 - precision: 0.7206 - recall: 0.5000 - val_loss: 0.4970 - val_acc: 0.7959 - val_precision: 0.7308 - val_recall: 0.5938\n",
      "Epoch 43/300\n",
      "10/10 [==============================] - 0s 5ms/step - loss: 0.4780 - acc: 0.7891 - precision: 0.7368 - recall: 0.5714 - val_loss: 0.4990 - val_acc: 0.8163 - val_precision: 0.7500 - val_recall: 0.6562\n",
      "Epoch 44/300\n",
      "10/10 [==============================] - 0s 5ms/step - loss: 0.4763 - acc: 0.7823 - precision: 0.7125 - recall: 0.5816 - val_loss: 0.4968 - val_acc: 0.8163 - val_precision: 0.7500 - val_recall: 0.6562\n",
      "Epoch 45/300\n",
      "10/10 [==============================] - 0s 6ms/step - loss: 0.4755 - acc: 0.7891 - precision: 0.7143 - recall: 0.6122 - val_loss: 0.5011 - val_acc: 0.7755 - val_precision: 0.6471 - val_recall: 0.6875\n",
      "Epoch 46/300\n",
      "10/10 [==============================] - 0s 5ms/step - loss: 0.4734 - acc: 0.7925 - precision: 0.7176 - recall: 0.6224 - val_loss: 0.4957 - val_acc: 0.8061 - val_precision: 0.7241 - val_recall: 0.6562\n",
      "Epoch 47/300\n",
      "10/10 [==============================] - 0s 6ms/step - loss: 0.4690 - acc: 0.7891 - precision: 0.7195 - recall: 0.6020 - val_loss: 0.4896 - val_acc: 0.8163 - val_precision: 0.7500 - val_recall: 0.6562\n",
      "Epoch 48/300\n",
      "10/10 [==============================] - 0s 6ms/step - loss: 0.4656 - acc: 0.7789 - precision: 0.7143 - recall: 0.5612 - val_loss: 0.4855 - val_acc: 0.7959 - val_precision: 0.7308 - val_recall: 0.5938\n",
      "Epoch 49/300\n",
      "10/10 [==============================] - 0s 5ms/step - loss: 0.4642 - acc: 0.7789 - precision: 0.7200 - recall: 0.5510 - val_loss: 0.4835 - val_acc: 0.7959 - val_precision: 0.7308 - val_recall: 0.5938\n",
      "Epoch 50/300\n",
      "10/10 [==============================] - 0s 5ms/step - loss: 0.4618 - acc: 0.7789 - precision: 0.7143 - recall: 0.5612 - val_loss: 0.4841 - val_acc: 0.8061 - val_precision: 0.7241 - val_recall: 0.6562\n",
      "Epoch 51/300\n",
      "10/10 [==============================] - 0s 6ms/step - loss: 0.4600 - acc: 0.7891 - precision: 0.7250 - recall: 0.5918 - val_loss: 0.4841 - val_acc: 0.8061 - val_precision: 0.7241 - val_recall: 0.6562\n",
      "Epoch 52/300\n",
      "10/10 [==============================] - 0s 5ms/step - loss: 0.4580 - acc: 0.7891 - precision: 0.7250 - recall: 0.5918 - val_loss: 0.4817 - val_acc: 0.8061 - val_precision: 0.7241 - val_recall: 0.6562\n",
      "Epoch 53/300\n",
      "10/10 [==============================] - 0s 4ms/step - loss: 0.4557 - acc: 0.7857 - precision: 0.7215 - recall: 0.5816 - val_loss: 0.4812 - val_acc: 0.8061 - val_precision: 0.7241 - val_recall: 0.6562\n",
      "Epoch 54/300\n",
      "10/10 [==============================] - 0s 5ms/step - loss: 0.4541 - acc: 0.7857 - precision: 0.7215 - recall: 0.5816 - val_loss: 0.4796 - val_acc: 0.8061 - val_precision: 0.7241 - val_recall: 0.6562\n",
      "Epoch 55/300\n",
      "10/10 [==============================] - 0s 5ms/step - loss: 0.4520 - acc: 0.7823 - precision: 0.7179 - recall: 0.5714 - val_loss: 0.4758 - val_acc: 0.8061 - val_precision: 0.7241 - val_recall: 0.6562\n",
      "Epoch 56/300\n",
      "10/10 [==============================] - 0s 5ms/step - loss: 0.4508 - acc: 0.7789 - precision: 0.7143 - recall: 0.5612 - val_loss: 0.4774 - val_acc: 0.8163 - val_precision: 0.7333 - val_recall: 0.6875\n",
      "Epoch 57/300\n",
      "10/10 [==============================] - 0s 5ms/step - loss: 0.4495 - acc: 0.7823 - precision: 0.7179 - recall: 0.5714 - val_loss: 0.4759 - val_acc: 0.8163 - val_precision: 0.7333 - val_recall: 0.6875\n",
      "Epoch 58/300\n",
      "10/10 [==============================] - 0s 5ms/step - loss: 0.4509 - acc: 0.7755 - precision: 0.7105 - recall: 0.5510 - val_loss: 0.4731 - val_acc: 0.8061 - val_precision: 0.7241 - val_recall: 0.6562\n",
      "Epoch 59/300\n",
      "10/10 [==============================] - 0s 4ms/step - loss: 0.4483 - acc: 0.7789 - precision: 0.7143 - recall: 0.5612 - val_loss: 0.4758 - val_acc: 0.7959 - val_precision: 0.6875 - val_recall: 0.6875\n",
      "Epoch 60/300\n",
      "10/10 [==============================] - 0s 5ms/step - loss: 0.4460 - acc: 0.7857 - precision: 0.7215 - recall: 0.5816 - val_loss: 0.4728 - val_acc: 0.8163 - val_precision: 0.7333 - val_recall: 0.6875\n",
      "Epoch 61/300\n",
      "10/10 [==============================] - 0s 5ms/step - loss: 0.4441 - acc: 0.7823 - precision: 0.7179 - recall: 0.5714 - val_loss: 0.4733 - val_acc: 0.8163 - val_precision: 0.7333 - val_recall: 0.6875\n",
      "Epoch 62/300\n",
      "10/10 [==============================] - 0s 4ms/step - loss: 0.4432 - acc: 0.7823 - precision: 0.7179 - recall: 0.5714 - val_loss: 0.4728 - val_acc: 0.7959 - val_precision: 0.6875 - val_recall: 0.6875\n",
      "Epoch 63/300\n",
      "10/10 [==============================] - 0s 5ms/step - loss: 0.4423 - acc: 0.7823 - precision: 0.7179 - recall: 0.5714 - val_loss: 0.4729 - val_acc: 0.7959 - val_precision: 0.6875 - val_recall: 0.6875\n",
      "Epoch 64/300\n",
      "10/10 [==============================] - 0s 5ms/step - loss: 0.4418 - acc: 0.7823 - precision: 0.7179 - recall: 0.5714 - val_loss: 0.4697 - val_acc: 0.8061 - val_precision: 0.7241 - val_recall: 0.6562\n",
      "Epoch 65/300\n",
      "10/10 [==============================] - 0s 5ms/step - loss: 0.4401 - acc: 0.7857 - precision: 0.7215 - recall: 0.5816 - val_loss: 0.4751 - val_acc: 0.7959 - val_precision: 0.6765 - val_recall: 0.7188\n",
      "Epoch 66/300\n",
      "10/10 [==============================] - 0s 4ms/step - loss: 0.4396 - acc: 0.7891 - precision: 0.7250 - recall: 0.5918 - val_loss: 0.4723 - val_acc: 0.7857 - val_precision: 0.6667 - val_recall: 0.6875\n",
      "Epoch 67/300\n",
      "10/10 [==============================] - 0s 6ms/step - loss: 0.4386 - acc: 0.7823 - precision: 0.7179 - recall: 0.5714 - val_loss: 0.4703 - val_acc: 0.7755 - val_precision: 0.6562 - val_recall: 0.6562\n",
      "Epoch 68/300\n",
      "10/10 [==============================] - 0s 12ms/step - loss: 0.4394 - acc: 0.7789 - precision: 0.7143 - recall: 0.5612 - val_loss: 0.4666 - val_acc: 0.8061 - val_precision: 0.7407 - val_recall: 0.6250\n",
      "Epoch 69/300\n",
      "10/10 [==============================] - 0s 7ms/step - loss: 0.4388 - acc: 0.7789 - precision: 0.7200 - recall: 0.5510 - val_loss: 0.4677 - val_acc: 0.8163 - val_precision: 0.7500 - val_recall: 0.6562\n",
      "Epoch 70/300\n",
      "10/10 [==============================] - 0s 6ms/step - loss: 0.4377 - acc: 0.7891 - precision: 0.7250 - recall: 0.5918 - val_loss: 0.4728 - val_acc: 0.7959 - val_precision: 0.6765 - val_recall: 0.7188\n",
      "Epoch 71/300\n",
      "10/10 [==============================] - 0s 6ms/step - loss: 0.4360 - acc: 0.7891 - precision: 0.7250 - recall: 0.5918 - val_loss: 0.4701 - val_acc: 0.7857 - val_precision: 0.6667 - val_recall: 0.6875\n",
      "Epoch 72/300\n",
      "10/10 [==============================] - 0s 5ms/step - loss: 0.4350 - acc: 0.7925 - precision: 0.7284 - recall: 0.6020 - val_loss: 0.4706 - val_acc: 0.7857 - val_precision: 0.6667 - val_recall: 0.6875\n",
      "Epoch 73/300\n",
      "10/10 [==============================] - 0s 6ms/step - loss: 0.4344 - acc: 0.7891 - precision: 0.7250 - recall: 0.5918 - val_loss: 0.4659 - val_acc: 0.7857 - val_precision: 0.6897 - val_recall: 0.6250\n",
      "Epoch 74/300\n",
      "10/10 [==============================] - 0s 4ms/step - loss: 0.4348 - acc: 0.7857 - precision: 0.7273 - recall: 0.5714 - val_loss: 0.4646 - val_acc: 0.8061 - val_precision: 0.7407 - val_recall: 0.6250\n",
      "Epoch 75/300\n",
      "10/10 [==============================] - 0s 5ms/step - loss: 0.4332 - acc: 0.7857 - precision: 0.7273 - recall: 0.5714 - val_loss: 0.4658 - val_acc: 0.7857 - val_precision: 0.6897 - val_recall: 0.6250\n",
      "Epoch 76/300\n",
      "10/10 [==============================] - 0s 5ms/step - loss: 0.4325 - acc: 0.7857 - precision: 0.7273 - recall: 0.5714 - val_loss: 0.4643 - val_acc: 0.7857 - val_precision: 0.6897 - val_recall: 0.6250\n",
      "Epoch 77/300\n",
      "10/10 [==============================] - 0s 6ms/step - loss: 0.4311 - acc: 0.7891 - precision: 0.7308 - recall: 0.5816 - val_loss: 0.4663 - val_acc: 0.7857 - val_precision: 0.6774 - val_recall: 0.6562\n",
      "Epoch 78/300\n",
      "10/10 [==============================] - 0s 5ms/step - loss: 0.4308 - acc: 0.7891 - precision: 0.7250 - recall: 0.5918 - val_loss: 0.4673 - val_acc: 0.7755 - val_precision: 0.6562 - val_recall: 0.6562\n",
      "Epoch 79/300\n",
      "10/10 [==============================] - 0s 6ms/step - loss: 0.4305 - acc: 0.7891 - precision: 0.7250 - recall: 0.5918 - val_loss: 0.4633 - val_acc: 0.7857 - val_precision: 0.6897 - val_recall: 0.6250\n",
      "Epoch 80/300\n",
      "10/10 [==============================] - 0s 5ms/step - loss: 0.4298 - acc: 0.7891 - precision: 0.7308 - recall: 0.5816 - val_loss: 0.4640 - val_acc: 0.7857 - val_precision: 0.6897 - val_recall: 0.6250\n",
      "Epoch 81/300\n",
      "10/10 [==============================] - 0s 6ms/step - loss: 0.4289 - acc: 0.7891 - precision: 0.7308 - recall: 0.5816 - val_loss: 0.4648 - val_acc: 0.7755 - val_precision: 0.6667 - val_recall: 0.6250\n",
      "Epoch 82/300\n",
      "10/10 [==============================] - 0s 5ms/step - loss: 0.4280 - acc: 0.7891 - precision: 0.7250 - recall: 0.5918 - val_loss: 0.4731 - val_acc: 0.7551 - val_precision: 0.6111 - val_recall: 0.6875\n",
      "Epoch 83/300\n",
      "10/10 [==============================] - 0s 6ms/step - loss: 0.4299 - acc: 0.7857 - precision: 0.6966 - recall: 0.6327 - val_loss: 0.4744 - val_acc: 0.7551 - val_precision: 0.6111 - val_recall: 0.6875\n",
      "Epoch 84/300\n",
      "10/10 [==============================] - 0s 5ms/step - loss: 0.4292 - acc: 0.7857 - precision: 0.7011 - recall: 0.6224 - val_loss: 0.4701 - val_acc: 0.7653 - val_precision: 0.6286 - val_recall: 0.6875\n",
      "Epoch 85/300\n",
      "10/10 [==============================] - 0s 5ms/step - loss: 0.4289 - acc: 0.7823 - precision: 0.6932 - recall: 0.6224 - val_loss: 0.4725 - val_acc: 0.7551 - val_precision: 0.6111 - val_recall: 0.6875\n",
      "Epoch 86/300\n",
      "10/10 [==============================] - 0s 6ms/step - loss: 0.4278 - acc: 0.7789 - precision: 0.6897 - recall: 0.6122 - val_loss: 0.4696 - val_acc: 0.7653 - val_precision: 0.6286 - val_recall: 0.6875\n",
      "Epoch 87/300\n",
      "10/10 [==============================] - 0s 5ms/step - loss: 0.4259 - acc: 0.7823 - precision: 0.7024 - recall: 0.6020 - val_loss: 0.4668 - val_acc: 0.7653 - val_precision: 0.6364 - val_recall: 0.6562\n",
      "Epoch 88/300\n",
      "10/10 [==============================] - 0s 6ms/step - loss: 0.4250 - acc: 0.7925 - precision: 0.7342 - recall: 0.5918 - val_loss: 0.4619 - val_acc: 0.7857 - val_precision: 0.6897 - val_recall: 0.6250\n",
      "Epoch 89/300\n",
      "10/10 [==============================] - 0s 5ms/step - loss: 0.4255 - acc: 0.7993 - precision: 0.7532 - recall: 0.5918 - val_loss: 0.4615 - val_acc: 0.7857 - val_precision: 0.6897 - val_recall: 0.6250\n",
      "Epoch 90/300\n",
      "10/10 [==============================] - 0s 6ms/step - loss: 0.4237 - acc: 0.7993 - precision: 0.7532 - recall: 0.5918 - val_loss: 0.4646 - val_acc: 0.7653 - val_precision: 0.6452 - val_recall: 0.6250\n",
      "Epoch 91/300\n",
      "10/10 [==============================] - 0s 5ms/step - loss: 0.4247 - acc: 0.7857 - precision: 0.7059 - recall: 0.6122 - val_loss: 0.4703 - val_acc: 0.7653 - val_precision: 0.6286 - val_recall: 0.6875\n",
      "Epoch 92/300\n",
      "10/10 [==============================] - 0s 11ms/step - loss: 0.4235 - acc: 0.7789 - precision: 0.6941 - recall: 0.6020 - val_loss: 0.4651 - val_acc: 0.7653 - val_precision: 0.6452 - val_recall: 0.6250\n",
      "Epoch 93/300\n",
      "10/10 [==============================] - 0s 7ms/step - loss: 0.4233 - acc: 0.7925 - precision: 0.7284 - recall: 0.6020 - val_loss: 0.4641 - val_acc: 0.7653 - val_precision: 0.6452 - val_recall: 0.6250\n",
      "Epoch 94/300\n",
      "10/10 [==============================] - 0s 5ms/step - loss: 0.4222 - acc: 0.7959 - precision: 0.7375 - recall: 0.6020 - val_loss: 0.4664 - val_acc: 0.7755 - val_precision: 0.6562 - val_recall: 0.6562\n",
      "Epoch 95/300\n",
      "10/10 [==============================] - 0s 5ms/step - loss: 0.4228 - acc: 0.7857 - precision: 0.7059 - recall: 0.6122 - val_loss: 0.4670 - val_acc: 0.7551 - val_precision: 0.6176 - val_recall: 0.6562\n",
      "Epoch 96/300\n",
      "10/10 [==============================] - 0s 4ms/step - loss: 0.4210 - acc: 0.7925 - precision: 0.7284 - recall: 0.6020 - val_loss: 0.4643 - val_acc: 0.7653 - val_precision: 0.6452 - val_recall: 0.6250\n",
      "Epoch 97/300\n",
      "10/10 [==============================] - 0s 6ms/step - loss: 0.4218 - acc: 0.7925 - precision: 0.7342 - recall: 0.5918 - val_loss: 0.4627 - val_acc: 0.7755 - val_precision: 0.6667 - val_recall: 0.6250\n",
      "Epoch 98/300\n",
      "10/10 [==============================] - 0s 5ms/step - loss: 0.4214 - acc: 0.7959 - precision: 0.7375 - recall: 0.6020 - val_loss: 0.4646 - val_acc: 0.7653 - val_precision: 0.6452 - val_recall: 0.6250\n",
      "Epoch 99/300\n",
      "10/10 [==============================] - 0s 5ms/step - loss: 0.4206 - acc: 0.7959 - precision: 0.7375 - recall: 0.6020 - val_loss: 0.4638 - val_acc: 0.7653 - val_precision: 0.6452 - val_recall: 0.6250\n",
      "Epoch 100/300\n",
      "10/10 [==============================] - 0s 5ms/step - loss: 0.4195 - acc: 0.7925 - precision: 0.7284 - recall: 0.6020 - val_loss: 0.4668 - val_acc: 0.7551 - val_precision: 0.6250 - val_recall: 0.6250\n",
      "Epoch 101/300\n",
      "10/10 [==============================] - 0s 5ms/step - loss: 0.4207 - acc: 0.7823 - precision: 0.6977 - recall: 0.6122 - val_loss: 0.4706 - val_acc: 0.7551 - val_precision: 0.6176 - val_recall: 0.6562\n",
      "Epoch 102/300\n",
      "10/10 [==============================] - 0s 5ms/step - loss: 0.4200 - acc: 0.7891 - precision: 0.7143 - recall: 0.6122 - val_loss: 0.4654 - val_acc: 0.7653 - val_precision: 0.6452 - val_recall: 0.6250\n",
      "Epoch 103/300\n",
      "10/10 [==============================] - 0s 5ms/step - loss: 0.4185 - acc: 0.7959 - precision: 0.7317 - recall: 0.6122 - val_loss: 0.4642 - val_acc: 0.7653 - val_precision: 0.6452 - val_recall: 0.6250\n",
      "Epoch 104/300\n",
      "10/10 [==============================] - 0s 4ms/step - loss: 0.4182 - acc: 0.7925 - precision: 0.7284 - recall: 0.6020 - val_loss: 0.4642 - val_acc: 0.7551 - val_precision: 0.6250 - val_recall: 0.6250\n",
      "Epoch 105/300\n",
      "10/10 [==============================] - 0s 6ms/step - loss: 0.4177 - acc: 0.7891 - precision: 0.7143 - recall: 0.6122 - val_loss: 0.4689 - val_acc: 0.7449 - val_precision: 0.6061 - val_recall: 0.6250\n",
      "Epoch 106/300\n",
      "10/10 [==============================] - 0s 5ms/step - loss: 0.4183 - acc: 0.7925 - precision: 0.7079 - recall: 0.6429 - val_loss: 0.4719 - val_acc: 0.7653 - val_precision: 0.6286 - val_recall: 0.6875\n",
      "Epoch 107/300\n",
      "10/10 [==============================] - 0s 5ms/step - loss: 0.4167 - acc: 0.7891 - precision: 0.7045 - recall: 0.6327 - val_loss: 0.4664 - val_acc: 0.7551 - val_precision: 0.6250 - val_recall: 0.6250\n",
      "Epoch 108/300\n",
      "10/10 [==============================] - 0s 6ms/step - loss: 0.4183 - acc: 0.7993 - precision: 0.7407 - recall: 0.6122 - val_loss: 0.4625 - val_acc: 0.7653 - val_precision: 0.6452 - val_recall: 0.6250\n",
      "Epoch 109/300\n",
      "10/10 [==============================] - 0s 6ms/step - loss: 0.4170 - acc: 0.7993 - precision: 0.7407 - recall: 0.6122 - val_loss: 0.4656 - val_acc: 0.7551 - val_precision: 0.6250 - val_recall: 0.6250\n",
      "Epoch 110/300\n",
      "10/10 [==============================] - 0s 5ms/step - loss: 0.4165 - acc: 0.7925 - precision: 0.7229 - recall: 0.6122 - val_loss: 0.4686 - val_acc: 0.7449 - val_precision: 0.6061 - val_recall: 0.6250\n",
      "Epoch 111/300\n",
      "10/10 [==============================] - 0s 6ms/step - loss: 0.4159 - acc: 0.7925 - precision: 0.7229 - recall: 0.6122 - val_loss: 0.4638 - val_acc: 0.7653 - val_precision: 0.6452 - val_recall: 0.6250\n",
      "Epoch 112/300\n",
      "10/10 [==============================] - 0s 8ms/step - loss: 0.4204 - acc: 0.7993 - precision: 0.7532 - recall: 0.5918 - val_loss: 0.4621 - val_acc: 0.8061 - val_precision: 0.7407 - val_recall: 0.6250\n",
      "Epoch 113/300\n",
      "10/10 [==============================] - 0s 8ms/step - loss: 0.4172 - acc: 0.7993 - precision: 0.7532 - recall: 0.5918 - val_loss: 0.4646 - val_acc: 0.7551 - val_precision: 0.6250 - val_recall: 0.6250\n",
      "Epoch 114/300\n",
      "10/10 [==============================] - 0s 5ms/step - loss: 0.4164 - acc: 0.7857 - precision: 0.7059 - recall: 0.6122 - val_loss: 0.4717 - val_acc: 0.7653 - val_precision: 0.6286 - val_recall: 0.6875\n",
      "Epoch 115/300\n",
      "10/10 [==============================] - 0s 5ms/step - loss: 0.4153 - acc: 0.7959 - precision: 0.7111 - recall: 0.6531 - val_loss: 0.4714 - val_acc: 0.7653 - val_precision: 0.6286 - val_recall: 0.6875\n",
      "Epoch 116/300\n",
      "10/10 [==============================] - 0s 6ms/step - loss: 0.4155 - acc: 0.7959 - precision: 0.7111 - recall: 0.6531 - val_loss: 0.4704 - val_acc: 0.7551 - val_precision: 0.6176 - val_recall: 0.6562\n",
      "Epoch 117/300\n",
      "10/10 [==============================] - 0s 5ms/step - loss: 0.4138 - acc: 0.7925 - precision: 0.7176 - recall: 0.6224 - val_loss: 0.4681 - val_acc: 0.7551 - val_precision: 0.6176 - val_recall: 0.6562\n",
      "Epoch 118/300\n",
      "10/10 [==============================] - 0s 5ms/step - loss: 0.4172 - acc: 0.7925 - precision: 0.7284 - recall: 0.6020 - val_loss: 0.4636 - val_acc: 0.7755 - val_precision: 0.6667 - val_recall: 0.6250\n",
      "Epoch 119/300\n",
      "10/10 [==============================] - 0s 5ms/step - loss: 0.4142 - acc: 0.7993 - precision: 0.7407 - recall: 0.6122 - val_loss: 0.4666 - val_acc: 0.7653 - val_precision: 0.6364 - val_recall: 0.6562\n",
      "Epoch 120/300\n",
      "10/10 [==============================] - 0s 5ms/step - loss: 0.4136 - acc: 0.7891 - precision: 0.7093 - recall: 0.6224 - val_loss: 0.4750 - val_acc: 0.7551 - val_precision: 0.6111 - val_recall: 0.6875\n",
      "Epoch 121/300\n",
      "10/10 [==============================] - 0s 5ms/step - loss: 0.4141 - acc: 0.8027 - precision: 0.7222 - recall: 0.6633 - val_loss: 0.4720 - val_acc: 0.7653 - val_precision: 0.6286 - val_recall: 0.6875\n",
      "Epoch 122/300\n",
      "10/10 [==============================] - 0s 4ms/step - loss: 0.4128 - acc: 0.8027 - precision: 0.7222 - recall: 0.6633 - val_loss: 0.4726 - val_acc: 0.7653 - val_precision: 0.6286 - val_recall: 0.6875\n",
      "Epoch 123/300\n",
      "10/10 [==============================] - 0s 5ms/step - loss: 0.4121 - acc: 0.7993 - precision: 0.7191 - recall: 0.6531 - val_loss: 0.4692 - val_acc: 0.7551 - val_precision: 0.6176 - val_recall: 0.6562\n",
      "Epoch 124/300\n",
      "10/10 [==============================] - 0s 5ms/step - loss: 0.4113 - acc: 0.7925 - precision: 0.7176 - recall: 0.6224 - val_loss: 0.4683 - val_acc: 0.7653 - val_precision: 0.6364 - val_recall: 0.6562\n",
      "Epoch 125/300\n",
      "10/10 [==============================] - 0s 5ms/step - loss: 0.4110 - acc: 0.7925 - precision: 0.7229 - recall: 0.6122 - val_loss: 0.4674 - val_acc: 0.7653 - val_precision: 0.6364 - val_recall: 0.6562\n",
      "Epoch 126/300\n",
      "10/10 [==============================] - 0s 5ms/step - loss: 0.4112 - acc: 0.7925 - precision: 0.7229 - recall: 0.6122 - val_loss: 0.4687 - val_acc: 0.7653 - val_precision: 0.6364 - val_recall: 0.6562\n",
      "Epoch 127/300\n",
      "10/10 [==============================] - 0s 6ms/step - loss: 0.4108 - acc: 0.7959 - precision: 0.7262 - recall: 0.6224 - val_loss: 0.4684 - val_acc: 0.7653 - val_precision: 0.6364 - val_recall: 0.6562\n",
      "Epoch 128/300\n",
      "10/10 [==============================] - 0s 6ms/step - loss: 0.4108 - acc: 0.7891 - precision: 0.7143 - recall: 0.6122 - val_loss: 0.4700 - val_acc: 0.7653 - val_precision: 0.6364 - val_recall: 0.6562\n",
      "Epoch 129/300\n",
      "10/10 [==============================] - 0s 9ms/step - loss: 0.4106 - acc: 0.7959 - precision: 0.7209 - recall: 0.6327 - val_loss: 0.4687 - val_acc: 0.7653 - val_precision: 0.6364 - val_recall: 0.6562\n",
      "Epoch 130/300\n",
      "10/10 [==============================] - 0s 6ms/step - loss: 0.4111 - acc: 0.8027 - precision: 0.7273 - recall: 0.6531 - val_loss: 0.4702 - val_acc: 0.7653 - val_precision: 0.6364 - val_recall: 0.6562\n",
      "Epoch 131/300\n",
      "10/10 [==============================] - 0s 5ms/step - loss: 0.4095 - acc: 0.8027 - precision: 0.7381 - recall: 0.6327 - val_loss: 0.4651 - val_acc: 0.7959 - val_precision: 0.7000 - val_recall: 0.6562\n",
      "Epoch 132/300\n",
      "10/10 [==============================] - 0s 5ms/step - loss: 0.4110 - acc: 0.7993 - precision: 0.7407 - recall: 0.6122 - val_loss: 0.4663 - val_acc: 0.7653 - val_precision: 0.6364 - val_recall: 0.6562\n",
      "Epoch 133/300\n",
      "10/10 [==============================] - 0s 4ms/step - loss: 0.4081 - acc: 0.7925 - precision: 0.7229 - recall: 0.6122 - val_loss: 0.4707 - val_acc: 0.7653 - val_precision: 0.6364 - val_recall: 0.6562\n",
      "Epoch 134/300\n",
      "10/10 [==============================] - 0s 5ms/step - loss: 0.4092 - acc: 0.8061 - precision: 0.7204 - recall: 0.6837 - val_loss: 0.4768 - val_acc: 0.7449 - val_precision: 0.5946 - val_recall: 0.6875\n",
      "Epoch 135/300\n",
      "10/10 [==============================] - 0s 5ms/step - loss: 0.4107 - acc: 0.8027 - precision: 0.7041 - recall: 0.7041 - val_loss: 0.4762 - val_acc: 0.7449 - val_precision: 0.5946 - val_recall: 0.6875\n",
      "Epoch 136/300\n",
      "10/10 [==============================] - 0s 4ms/step - loss: 0.4110 - acc: 0.8129 - precision: 0.7312 - recall: 0.6939 - val_loss: 0.4707 - val_acc: 0.7653 - val_precision: 0.6364 - val_recall: 0.6562\n",
      "Epoch 137/300\n",
      "10/10 [==============================] - 0s 5ms/step - loss: 0.4077 - acc: 0.7993 - precision: 0.7143 - recall: 0.6633 - val_loss: 0.4737 - val_acc: 0.7551 - val_precision: 0.6111 - val_recall: 0.6875\n",
      "Epoch 138/300\n",
      "10/10 [==============================] - 0s 4ms/step - loss: 0.4084 - acc: 0.8061 - precision: 0.7204 - recall: 0.6837 - val_loss: 0.4750 - val_acc: 0.7551 - val_precision: 0.6111 - val_recall: 0.6875\n",
      "Epoch 139/300\n",
      "10/10 [==============================] - 0s 5ms/step - loss: 0.4081 - acc: 0.8061 - precision: 0.7356 - recall: 0.6531 - val_loss: 0.4689 - val_acc: 0.7653 - val_precision: 0.6364 - val_recall: 0.6562\n",
      "Epoch 140/300\n",
      "10/10 [==============================] - 0s 5ms/step - loss: 0.4071 - acc: 0.7993 - precision: 0.7294 - recall: 0.6327 - val_loss: 0.4680 - val_acc: 0.7653 - val_precision: 0.6364 - val_recall: 0.6562\n",
      "Epoch 141/300\n",
      "10/10 [==============================] - 0s 4ms/step - loss: 0.4081 - acc: 0.8061 - precision: 0.7531 - recall: 0.6224 - val_loss: 0.4671 - val_acc: 0.7653 - val_precision: 0.6364 - val_recall: 0.6562\n",
      "Epoch 142/300\n",
      "10/10 [==============================] - 0s 5ms/step - loss: 0.4065 - acc: 0.8095 - precision: 0.7561 - recall: 0.6327 - val_loss: 0.4689 - val_acc: 0.7653 - val_precision: 0.6364 - val_recall: 0.6562\n",
      "Epoch 143/300\n",
      "10/10 [==============================] - 0s 5ms/step - loss: 0.4064 - acc: 0.7925 - precision: 0.7126 - recall: 0.6327 - val_loss: 0.4707 - val_acc: 0.7653 - val_precision: 0.6364 - val_recall: 0.6562\n",
      "Epoch 144/300\n",
      "10/10 [==============================] - 0s 5ms/step - loss: 0.4058 - acc: 0.7993 - precision: 0.7241 - recall: 0.6429 - val_loss: 0.4701 - val_acc: 0.7653 - val_precision: 0.6364 - val_recall: 0.6562\n",
      "Epoch 145/300\n",
      "10/10 [==============================] - 0s 5ms/step - loss: 0.4063 - acc: 0.8061 - precision: 0.7303 - recall: 0.6633 - val_loss: 0.4733 - val_acc: 0.7653 - val_precision: 0.6286 - val_recall: 0.6875\n",
      "Epoch 146/300\n",
      "10/10 [==============================] - 0s 5ms/step - loss: 0.4054 - acc: 0.8061 - precision: 0.7253 - recall: 0.6735 - val_loss: 0.4714 - val_acc: 0.7653 - val_precision: 0.6364 - val_recall: 0.6562\n",
      "Epoch 147/300\n",
      "10/10 [==============================] - 0s 5ms/step - loss: 0.4063 - acc: 0.8027 - precision: 0.7381 - recall: 0.6327 - val_loss: 0.4678 - val_acc: 0.7653 - val_precision: 0.6364 - val_recall: 0.6562\n",
      "Epoch 148/300\n",
      "10/10 [==============================] - 0s 5ms/step - loss: 0.4063 - acc: 0.8027 - precision: 0.7326 - recall: 0.6429 - val_loss: 0.4706 - val_acc: 0.7653 - val_precision: 0.6364 - val_recall: 0.6562\n",
      "Epoch 149/300\n",
      "10/10 [==============================] - 0s 5ms/step - loss: 0.4047 - acc: 0.7993 - precision: 0.7191 - recall: 0.6531 - val_loss: 0.4705 - val_acc: 0.7653 - val_precision: 0.6364 - val_recall: 0.6562\n",
      "Epoch 150/300\n",
      "10/10 [==============================] - 0s 6ms/step - loss: 0.4047 - acc: 0.8061 - precision: 0.7470 - recall: 0.6327 - val_loss: 0.4681 - val_acc: 0.7653 - val_precision: 0.6364 - val_recall: 0.6562\n",
      "Epoch 151/300\n",
      "10/10 [==============================] - 0s 7ms/step - loss: 0.4051 - acc: 0.8027 - precision: 0.7381 - recall: 0.6327 - val_loss: 0.4705 - val_acc: 0.7653 - val_precision: 0.6364 - val_recall: 0.6562\n",
      "Epoch 152/300\n",
      "10/10 [==============================] - 0s 5ms/step - loss: 0.4038 - acc: 0.8095 - precision: 0.7442 - recall: 0.6531 - val_loss: 0.4695 - val_acc: 0.7653 - val_precision: 0.6364 - val_recall: 0.6562\n",
      "Epoch 153/300\n",
      "10/10 [==============================] - 0s 5ms/step - loss: 0.4036 - acc: 0.8129 - precision: 0.7590 - recall: 0.6429 - val_loss: 0.4701 - val_acc: 0.7653 - val_precision: 0.6364 - val_recall: 0.6562\n",
      "Epoch 154/300\n",
      "10/10 [==============================] - 0s 5ms/step - loss: 0.4037 - acc: 0.8095 - precision: 0.7561 - recall: 0.6327 - val_loss: 0.4681 - val_acc: 0.7653 - val_precision: 0.6364 - val_recall: 0.6562\n",
      "Epoch 155/300\n",
      "10/10 [==============================] - 0s 5ms/step - loss: 0.4047 - acc: 0.8095 - precision: 0.7561 - recall: 0.6327 - val_loss: 0.4673 - val_acc: 0.7653 - val_precision: 0.6364 - val_recall: 0.6562\n",
      "Epoch 156/300\n",
      "10/10 [==============================] - 0s 6ms/step - loss: 0.4023 - acc: 0.8061 - precision: 0.7470 - recall: 0.6327 - val_loss: 0.4710 - val_acc: 0.7653 - val_precision: 0.6364 - val_recall: 0.6562\n",
      "Epoch 157/300\n",
      "10/10 [==============================] - 0s 6ms/step - loss: 0.4023 - acc: 0.8061 - precision: 0.7253 - recall: 0.6735 - val_loss: 0.4754 - val_acc: 0.7551 - val_precision: 0.6176 - val_recall: 0.6562\n",
      "Epoch 158/300\n",
      "10/10 [==============================] - 0s 5ms/step - loss: 0.4054 - acc: 0.8095 - precision: 0.7100 - recall: 0.7245 - val_loss: 0.4824 - val_acc: 0.7551 - val_precision: 0.6053 - val_recall: 0.7188\n",
      "Epoch 159/300\n",
      "10/10 [==============================] - 0s 6ms/step - loss: 0.4050 - acc: 0.8129 - precision: 0.7172 - recall: 0.7245 - val_loss: 0.4742 - val_acc: 0.7551 - val_precision: 0.6176 - val_recall: 0.6562\n",
      "Epoch 160/300\n",
      "10/10 [==============================] - 0s 5ms/step - loss: 0.4042 - acc: 0.8027 - precision: 0.7326 - recall: 0.6429 - val_loss: 0.4675 - val_acc: 0.7653 - val_precision: 0.6364 - val_recall: 0.6562\n",
      "Epoch 161/300\n",
      "10/10 [==============================] - 0s 6ms/step - loss: 0.4023 - acc: 0.8095 - precision: 0.7561 - recall: 0.6327 - val_loss: 0.4679 - val_acc: 0.7653 - val_precision: 0.6364 - val_recall: 0.6562\n",
      "Epoch 162/300\n",
      "10/10 [==============================] - 0s 7ms/step - loss: 0.4012 - acc: 0.8129 - precision: 0.7529 - recall: 0.6531 - val_loss: 0.4694 - val_acc: 0.7653 - val_precision: 0.6364 - val_recall: 0.6562\n",
      "Epoch 163/300\n",
      "10/10 [==============================] - 0s 7ms/step - loss: 0.4018 - acc: 0.8163 - precision: 0.7500 - recall: 0.6735 - val_loss: 0.4703 - val_acc: 0.7653 - val_precision: 0.6364 - val_recall: 0.6562\n",
      "Epoch 164/300\n",
      "10/10 [==============================] - 0s 5ms/step - loss: 0.4006 - acc: 0.8163 - precision: 0.7444 - recall: 0.6837 - val_loss: 0.4708 - val_acc: 0.7653 - val_precision: 0.6364 - val_recall: 0.6562\n",
      "Epoch 165/300\n",
      "10/10 [==============================] - 0s 5ms/step - loss: 0.4002 - acc: 0.8129 - precision: 0.7471 - recall: 0.6633 - val_loss: 0.4678 - val_acc: 0.7653 - val_precision: 0.6364 - val_recall: 0.6562\n",
      "Epoch 166/300\n",
      "10/10 [==============================] - 0s 5ms/step - loss: 0.4014 - acc: 0.8129 - precision: 0.7471 - recall: 0.6633 - val_loss: 0.4676 - val_acc: 0.7653 - val_precision: 0.6364 - val_recall: 0.6562\n",
      "Epoch 167/300\n",
      "10/10 [==============================] - 0s 5ms/step - loss: 0.3996 - acc: 0.8163 - precision: 0.7500 - recall: 0.6735 - val_loss: 0.4705 - val_acc: 0.7551 - val_precision: 0.6176 - val_recall: 0.6562\n",
      "Epoch 168/300\n",
      "10/10 [==============================] - 0s 5ms/step - loss: 0.3997 - acc: 0.8129 - precision: 0.7363 - recall: 0.6837 - val_loss: 0.4690 - val_acc: 0.7653 - val_precision: 0.6364 - val_recall: 0.6562\n",
      "Epoch 169/300\n",
      "10/10 [==============================] - 0s 6ms/step - loss: 0.3996 - acc: 0.8163 - precision: 0.7444 - recall: 0.6837 - val_loss: 0.4699 - val_acc: 0.7551 - val_precision: 0.6176 - val_recall: 0.6562\n",
      "Epoch 170/300\n",
      "10/10 [==============================] - 0s 4ms/step - loss: 0.3996 - acc: 0.8163 - precision: 0.7500 - recall: 0.6735 - val_loss: 0.4669 - val_acc: 0.7653 - val_precision: 0.6364 - val_recall: 0.6562\n",
      "Epoch 171/300\n",
      "10/10 [==============================] - 0s 5ms/step - loss: 0.3989 - acc: 0.8129 - precision: 0.7529 - recall: 0.6531 - val_loss: 0.4675 - val_acc: 0.7653 - val_precision: 0.6364 - val_recall: 0.6562\n",
      "Epoch 172/300\n",
      "10/10 [==============================] - 0s 5ms/step - loss: 0.3977 - acc: 0.8197 - precision: 0.7419 - recall: 0.7041 - val_loss: 0.4715 - val_acc: 0.7551 - val_precision: 0.6176 - val_recall: 0.6562\n",
      "Epoch 173/300\n",
      "10/10 [==============================] - 0s 5ms/step - loss: 0.3992 - acc: 0.8163 - precision: 0.7200 - recall: 0.7347 - val_loss: 0.4711 - val_acc: 0.7551 - val_precision: 0.6176 - val_recall: 0.6562\n",
      "Epoch 174/300\n",
      "10/10 [==============================] - 0s 4ms/step - loss: 0.3976 - acc: 0.8265 - precision: 0.7582 - recall: 0.7041 - val_loss: 0.4649 - val_acc: 0.7755 - val_precision: 0.6562 - val_recall: 0.6562\n",
      "Epoch 175/300\n",
      "10/10 [==============================] - 0s 5ms/step - loss: 0.3989 - acc: 0.8129 - precision: 0.7654 - recall: 0.6327 - val_loss: 0.4637 - val_acc: 0.7857 - val_precision: 0.6774 - val_recall: 0.6562\n",
      "Epoch 176/300\n",
      "10/10 [==============================] - 0s 5ms/step - loss: 0.3984 - acc: 0.8129 - precision: 0.7654 - recall: 0.6327 - val_loss: 0.4669 - val_acc: 0.7653 - val_precision: 0.6364 - val_recall: 0.6562\n",
      "Epoch 177/300\n",
      "10/10 [==============================] - 0s 5ms/step - loss: 0.3969 - acc: 0.8163 - precision: 0.7500 - recall: 0.6735 - val_loss: 0.4703 - val_acc: 0.7551 - val_precision: 0.6176 - val_recall: 0.6562\n",
      "Epoch 178/300\n",
      "10/10 [==============================] - 0s 5ms/step - loss: 0.3981 - acc: 0.8163 - precision: 0.7200 - recall: 0.7347 - val_loss: 0.4738 - val_acc: 0.7551 - val_precision: 0.6176 - val_recall: 0.6562\n",
      "Epoch 179/300\n",
      "10/10 [==============================] - 0s 5ms/step - loss: 0.3986 - acc: 0.8163 - precision: 0.7200 - recall: 0.7347 - val_loss: 0.4725 - val_acc: 0.7551 - val_precision: 0.6176 - val_recall: 0.6562\n",
      "Epoch 180/300\n",
      "10/10 [==============================] - 0s 5ms/step - loss: 0.3986 - acc: 0.8163 - precision: 0.7444 - recall: 0.6837 - val_loss: 0.4691 - val_acc: 0.7653 - val_precision: 0.6364 - val_recall: 0.6562\n",
      "Epoch 181/300\n",
      "10/10 [==============================] - 0s 5ms/step - loss: 0.3960 - acc: 0.8231 - precision: 0.7500 - recall: 0.7041 - val_loss: 0.4741 - val_acc: 0.7551 - val_precision: 0.6176 - val_recall: 0.6562\n",
      "Epoch 182/300\n",
      "10/10 [==============================] - 0s 5ms/step - loss: 0.4014 - acc: 0.8197 - precision: 0.7228 - recall: 0.7449 - val_loss: 0.4803 - val_acc: 0.7755 - val_precision: 0.6389 - val_recall: 0.7188\n",
      "Epoch 183/300\n",
      "10/10 [==============================] - 0s 5ms/step - loss: 0.3980 - acc: 0.8197 - precision: 0.7273 - recall: 0.7347 - val_loss: 0.4705 - val_acc: 0.7653 - val_precision: 0.6364 - val_recall: 0.6562\n",
      "Epoch 184/300\n",
      "10/10 [==============================] - 0s 5ms/step - loss: 0.3958 - acc: 0.8129 - precision: 0.7416 - recall: 0.6735 - val_loss: 0.4658 - val_acc: 0.7857 - val_precision: 0.6774 - val_recall: 0.6562\n",
      "Epoch 185/300\n",
      "10/10 [==============================] - 0s 5ms/step - loss: 0.3969 - acc: 0.8129 - precision: 0.7654 - recall: 0.6327 - val_loss: 0.4664 - val_acc: 0.7857 - val_precision: 0.6774 - val_recall: 0.6562\n",
      "Epoch 186/300\n",
      "10/10 [==============================] - 0s 5ms/step - loss: 0.3964 - acc: 0.8095 - precision: 0.7442 - recall: 0.6531 - val_loss: 0.4674 - val_acc: 0.7755 - val_precision: 0.6562 - val_recall: 0.6562\n",
      "Epoch 187/300\n",
      "10/10 [==============================] - 0s 5ms/step - loss: 0.3958 - acc: 0.8163 - precision: 0.7444 - recall: 0.6837 - val_loss: 0.4685 - val_acc: 0.7755 - val_precision: 0.6562 - val_recall: 0.6562\n",
      "Epoch 188/300\n",
      "10/10 [==============================] - 0s 11ms/step - loss: 0.3951 - acc: 0.8163 - precision: 0.7444 - recall: 0.6837 - val_loss: 0.4697 - val_acc: 0.7653 - val_precision: 0.6364 - val_recall: 0.6562\n",
      "Epoch 189/300\n",
      "10/10 [==============================] - 0s 5ms/step - loss: 0.3967 - acc: 0.8265 - precision: 0.7527 - recall: 0.7143 - val_loss: 0.4733 - val_acc: 0.7551 - val_precision: 0.6176 - val_recall: 0.6562\n",
      "Epoch 190/300\n",
      "10/10 [==============================] - 0s 7ms/step - loss: 0.3957 - acc: 0.8197 - precision: 0.7528 - recall: 0.6837 - val_loss: 0.4685 - val_acc: 0.7857 - val_precision: 0.6774 - val_recall: 0.6562\n",
      "Epoch 191/300\n",
      "10/10 [==============================] - 0s 5ms/step - loss: 0.3953 - acc: 0.8163 - precision: 0.7500 - recall: 0.6735 - val_loss: 0.4682 - val_acc: 0.7857 - val_precision: 0.6774 - val_recall: 0.6562\n",
      "Epoch 192/300\n",
      "10/10 [==============================] - 0s 6ms/step - loss: 0.3949 - acc: 0.8163 - precision: 0.7558 - recall: 0.6633 - val_loss: 0.4685 - val_acc: 0.7755 - val_precision: 0.6562 - val_recall: 0.6562\n",
      "Epoch 193/300\n",
      "10/10 [==============================] - 0s 5ms/step - loss: 0.3951 - acc: 0.8197 - precision: 0.7647 - recall: 0.6633 - val_loss: 0.4680 - val_acc: 0.7857 - val_precision: 0.6774 - val_recall: 0.6562\n",
      "Epoch 194/300\n",
      "10/10 [==============================] - 0s 6ms/step - loss: 0.3943 - acc: 0.8129 - precision: 0.7416 - recall: 0.6735 - val_loss: 0.4695 - val_acc: 0.7755 - val_precision: 0.6562 - val_recall: 0.6562\n",
      "Epoch 195/300\n",
      "10/10 [==============================] - 0s 7ms/step - loss: 0.3937 - acc: 0.8197 - precision: 0.7528 - recall: 0.6837 - val_loss: 0.4689 - val_acc: 0.7755 - val_precision: 0.6562 - val_recall: 0.6562\n",
      "Epoch 196/300\n",
      "10/10 [==============================] - 0s 5ms/step - loss: 0.3939 - acc: 0.8231 - precision: 0.7556 - recall: 0.6939 - val_loss: 0.4703 - val_acc: 0.7653 - val_precision: 0.6364 - val_recall: 0.6562\n",
      "Epoch 197/300\n",
      "10/10 [==============================] - 0s 5ms/step - loss: 0.3943 - acc: 0.8163 - precision: 0.7340 - recall: 0.7041 - val_loss: 0.4735 - val_acc: 0.7551 - val_precision: 0.6176 - val_recall: 0.6562\n",
      "Epoch 198/300\n",
      "10/10 [==============================] - 0s 5ms/step - loss: 0.3938 - acc: 0.8231 - precision: 0.7396 - recall: 0.7245 - val_loss: 0.4705 - val_acc: 0.7551 - val_precision: 0.6176 - val_recall: 0.6562\n",
      "Epoch 199/300\n",
      "10/10 [==============================] - 0s 5ms/step - loss: 0.3938 - acc: 0.8265 - precision: 0.7527 - recall: 0.7143 - val_loss: 0.4715 - val_acc: 0.7551 - val_precision: 0.6176 - val_recall: 0.6562\n",
      "Epoch 200/300\n",
      "10/10 [==============================] - 0s 6ms/step - loss: 0.3927 - acc: 0.8129 - precision: 0.7416 - recall: 0.6735 - val_loss: 0.4679 - val_acc: 0.7959 - val_precision: 0.7000 - val_recall: 0.6562\n",
      "Epoch 201/300\n",
      "10/10 [==============================] - 0s 5ms/step - loss: 0.3935 - acc: 0.8231 - precision: 0.7674 - recall: 0.6735 - val_loss: 0.4685 - val_acc: 0.7653 - val_precision: 0.6364 - val_recall: 0.6562\n",
      "Epoch 202/300\n",
      "10/10 [==============================] - 0s 5ms/step - loss: 0.3927 - acc: 0.8265 - precision: 0.7640 - recall: 0.6939 - val_loss: 0.4715 - val_acc: 0.7551 - val_precision: 0.6176 - val_recall: 0.6562\n",
      "Epoch 203/300\n",
      "10/10 [==============================] - 0s 5ms/step - loss: 0.3925 - acc: 0.8197 - precision: 0.7368 - recall: 0.7143 - val_loss: 0.4701 - val_acc: 0.7551 - val_precision: 0.6176 - val_recall: 0.6562\n",
      "Epoch 204/300\n",
      "10/10 [==============================] - 0s 5ms/step - loss: 0.3927 - acc: 0.8197 - precision: 0.7586 - recall: 0.6735 - val_loss: 0.4697 - val_acc: 0.7755 - val_precision: 0.6562 - val_recall: 0.6562\n",
      "Epoch 205/300\n",
      "10/10 [==============================] - 0s 6ms/step - loss: 0.3922 - acc: 0.8265 - precision: 0.7582 - recall: 0.7041 - val_loss: 0.4704 - val_acc: 0.7551 - val_precision: 0.6176 - val_recall: 0.6562\n",
      "Epoch 206/300\n",
      "10/10 [==============================] - 0s 5ms/step - loss: 0.3929 - acc: 0.8231 - precision: 0.7738 - recall: 0.6633 - val_loss: 0.4682 - val_acc: 0.7959 - val_precision: 0.7000 - val_recall: 0.6562\n",
      "Epoch 207/300\n",
      "10/10 [==============================] - 0s 5ms/step - loss: 0.3948 - acc: 0.8197 - precision: 0.7419 - recall: 0.7041 - val_loss: 0.4753 - val_acc: 0.7551 - val_precision: 0.6176 - val_recall: 0.6562\n",
      "Epoch 208/300\n",
      "10/10 [==============================] - 0s 5ms/step - loss: 0.3924 - acc: 0.8231 - precision: 0.7396 - recall: 0.7245 - val_loss: 0.4726 - val_acc: 0.7551 - val_precision: 0.6176 - val_recall: 0.6562\n",
      "Epoch 209/300\n",
      "10/10 [==============================] - 0s 5ms/step - loss: 0.3918 - acc: 0.8197 - precision: 0.7419 - recall: 0.7041 - val_loss: 0.4707 - val_acc: 0.7857 - val_precision: 0.6774 - val_recall: 0.6562\n",
      "Epoch 210/300\n",
      "10/10 [==============================] - 0s 6ms/step - loss: 0.3915 - acc: 0.8197 - precision: 0.7586 - recall: 0.6735 - val_loss: 0.4697 - val_acc: 0.7959 - val_precision: 0.7000 - val_recall: 0.6562\n",
      "Epoch 211/300\n",
      "10/10 [==============================] - 0s 6ms/step - loss: 0.3922 - acc: 0.8197 - precision: 0.7647 - recall: 0.6633 - val_loss: 0.4692 - val_acc: 0.7959 - val_precision: 0.7000 - val_recall: 0.6562\n",
      "Epoch 212/300\n",
      "10/10 [==============================] - 0s 10ms/step - loss: 0.3912 - acc: 0.8265 - precision: 0.7640 - recall: 0.6939 - val_loss: 0.4714 - val_acc: 0.7653 - val_precision: 0.6364 - val_recall: 0.6562\n",
      "Epoch 213/300\n",
      "10/10 [==============================] - 0s 5ms/step - loss: 0.3912 - acc: 0.8299 - precision: 0.7667 - recall: 0.7041 - val_loss: 0.4700 - val_acc: 0.7959 - val_precision: 0.7000 - val_recall: 0.6562\n",
      "Epoch 214/300\n",
      "10/10 [==============================] - 0s 5ms/step - loss: 0.3908 - acc: 0.8231 - precision: 0.7556 - recall: 0.6939 - val_loss: 0.4722 - val_acc: 0.7551 - val_precision: 0.6176 - val_recall: 0.6562\n",
      "Epoch 215/300\n",
      "10/10 [==============================] - 0s 5ms/step - loss: 0.3914 - acc: 0.8231 - precision: 0.7347 - recall: 0.7347 - val_loss: 0.4747 - val_acc: 0.7551 - val_precision: 0.6176 - val_recall: 0.6562\n",
      "Epoch 216/300\n",
      "10/10 [==============================] - 0s 5ms/step - loss: 0.3902 - acc: 0.8231 - precision: 0.7396 - recall: 0.7245 - val_loss: 0.4717 - val_acc: 0.7653 - val_precision: 0.6364 - val_recall: 0.6562\n",
      "Epoch 217/300\n",
      "10/10 [==============================] - 0s 5ms/step - loss: 0.3899 - acc: 0.8265 - precision: 0.7640 - recall: 0.6939 - val_loss: 0.4702 - val_acc: 0.7755 - val_precision: 0.6562 - val_recall: 0.6562\n",
      "Epoch 218/300\n",
      "10/10 [==============================] - 0s 5ms/step - loss: 0.3901 - acc: 0.8265 - precision: 0.7765 - recall: 0.6735 - val_loss: 0.4687 - val_acc: 0.7959 - val_precision: 0.7000 - val_recall: 0.6562\n",
      "Epoch 219/300\n",
      "10/10 [==============================] - 0s 5ms/step - loss: 0.3917 - acc: 0.8299 - precision: 0.7727 - recall: 0.6939 - val_loss: 0.4707 - val_acc: 0.7551 - val_precision: 0.6176 - val_recall: 0.6562\n",
      "Epoch 220/300\n",
      "10/10 [==============================] - 0s 5ms/step - loss: 0.3907 - acc: 0.8197 - precision: 0.7419 - recall: 0.7041 - val_loss: 0.4726 - val_acc: 0.7551 - val_precision: 0.6176 - val_recall: 0.6562\n",
      "Epoch 221/300\n",
      "10/10 [==============================] - 0s 5ms/step - loss: 0.3894 - acc: 0.8197 - precision: 0.7320 - recall: 0.7245 - val_loss: 0.4721 - val_acc: 0.7551 - val_precision: 0.6176 - val_recall: 0.6562\n",
      "Epoch 222/300\n",
      "10/10 [==============================] - 0s 5ms/step - loss: 0.3892 - acc: 0.8163 - precision: 0.7340 - recall: 0.7041 - val_loss: 0.4726 - val_acc: 0.7551 - val_precision: 0.6176 - val_recall: 0.6562\n",
      "Epoch 223/300\n",
      "10/10 [==============================] - 0s 5ms/step - loss: 0.3892 - acc: 0.8231 - precision: 0.7396 - recall: 0.7245 - val_loss: 0.4737 - val_acc: 0.7551 - val_precision: 0.6176 - val_recall: 0.6562\n",
      "Epoch 224/300\n",
      "10/10 [==============================] - 0s 5ms/step - loss: 0.3890 - acc: 0.8265 - precision: 0.7640 - recall: 0.6939 - val_loss: 0.4703 - val_acc: 0.7857 - val_precision: 0.6774 - val_recall: 0.6562\n",
      "Epoch 225/300\n",
      "10/10 [==============================] - 0s 6ms/step - loss: 0.3886 - acc: 0.8333 - precision: 0.7816 - recall: 0.6939 - val_loss: 0.4728 - val_acc: 0.7653 - val_precision: 0.6364 - val_recall: 0.6562\n",
      "Epoch 226/300\n",
      "10/10 [==============================] - 0s 5ms/step - loss: 0.3897 - acc: 0.8299 - precision: 0.7449 - recall: 0.7449 - val_loss: 0.4779 - val_acc: 0.7551 - val_precision: 0.6176 - val_recall: 0.6562\n",
      "Epoch 227/300\n",
      "10/10 [==============================] - 0s 5ms/step - loss: 0.3894 - acc: 0.8163 - precision: 0.7292 - recall: 0.7143 - val_loss: 0.4725 - val_acc: 0.7755 - val_precision: 0.6562 - val_recall: 0.6562\n",
      "Epoch 228/300\n",
      "10/10 [==============================] - 0s 5ms/step - loss: 0.3881 - acc: 0.8231 - precision: 0.7500 - recall: 0.7041 - val_loss: 0.4729 - val_acc: 0.7755 - val_precision: 0.6562 - val_recall: 0.6562\n",
      "Epoch 229/300\n",
      "10/10 [==============================] - 0s 6ms/step - loss: 0.3878 - acc: 0.8299 - precision: 0.7727 - recall: 0.6939 - val_loss: 0.4713 - val_acc: 0.7755 - val_precision: 0.6562 - val_recall: 0.6562\n",
      "Epoch 230/300\n",
      "10/10 [==============================] - 0s 6ms/step - loss: 0.3877 - acc: 0.8265 - precision: 0.7582 - recall: 0.7041 - val_loss: 0.4742 - val_acc: 0.7653 - val_precision: 0.6364 - val_recall: 0.6562\n",
      "Epoch 231/300\n",
      "10/10 [==============================] - 0s 5ms/step - loss: 0.3878 - acc: 0.8231 - precision: 0.7396 - recall: 0.7245 - val_loss: 0.4751 - val_acc: 0.7653 - val_precision: 0.6364 - val_recall: 0.6562\n",
      "Epoch 232/300\n",
      "10/10 [==============================] - 0s 5ms/step - loss: 0.3881 - acc: 0.8163 - precision: 0.7340 - recall: 0.7041 - val_loss: 0.4740 - val_acc: 0.7755 - val_precision: 0.6562 - val_recall: 0.6562\n",
      "Epoch 233/300\n",
      "10/10 [==============================] - 0s 5ms/step - loss: 0.3882 - acc: 0.8265 - precision: 0.7527 - recall: 0.7143 - val_loss: 0.4739 - val_acc: 0.7755 - val_precision: 0.6562 - val_recall: 0.6562\n",
      "Epoch 234/300\n",
      "10/10 [==============================] - 0s 5ms/step - loss: 0.3869 - acc: 0.8265 - precision: 0.7474 - recall: 0.7245 - val_loss: 0.4755 - val_acc: 0.7653 - val_precision: 0.6364 - val_recall: 0.6562\n",
      "Epoch 235/300\n",
      "10/10 [==============================] - 0s 5ms/step - loss: 0.3871 - acc: 0.8197 - precision: 0.7419 - recall: 0.7041 - val_loss: 0.4724 - val_acc: 0.7755 - val_precision: 0.6562 - val_recall: 0.6562\n",
      "Epoch 236/300\n",
      "10/10 [==============================] - 0s 5ms/step - loss: 0.3870 - acc: 0.8265 - precision: 0.7582 - recall: 0.7041 - val_loss: 0.4734 - val_acc: 0.7755 - val_precision: 0.6562 - val_recall: 0.6562\n",
      "Epoch 237/300\n",
      "10/10 [==============================] - 0s 10ms/step - loss: 0.3864 - acc: 0.8231 - precision: 0.7500 - recall: 0.7041 - val_loss: 0.4765 - val_acc: 0.7653 - val_precision: 0.6364 - val_recall: 0.6562\n",
      "Epoch 238/300\n",
      "10/10 [==============================] - 0s 6ms/step - loss: 0.3874 - acc: 0.8231 - precision: 0.7300 - recall: 0.7449 - val_loss: 0.4814 - val_acc: 0.7449 - val_precision: 0.6000 - val_recall: 0.6562\n",
      "Epoch 239/300\n",
      "10/10 [==============================] - 0s 6ms/step - loss: 0.3888 - acc: 0.8265 - precision: 0.7327 - recall: 0.7551 - val_loss: 0.4788 - val_acc: 0.7653 - val_precision: 0.6364 - val_recall: 0.6562\n",
      "Epoch 240/300\n",
      "10/10 [==============================] - 0s 4ms/step - loss: 0.3873 - acc: 0.8197 - precision: 0.7320 - recall: 0.7245 - val_loss: 0.4748 - val_acc: 0.7653 - val_precision: 0.6364 - val_recall: 0.6562\n",
      "Epoch 241/300\n",
      "10/10 [==============================] - 0s 6ms/step - loss: 0.3863 - acc: 0.8265 - precision: 0.7374 - recall: 0.7449 - val_loss: 0.4788 - val_acc: 0.7551 - val_precision: 0.6176 - val_recall: 0.6562\n",
      "Epoch 242/300\n",
      "10/10 [==============================] - 0s 5ms/step - loss: 0.3864 - acc: 0.8299 - precision: 0.7400 - recall: 0.7551 - val_loss: 0.4768 - val_acc: 0.7653 - val_precision: 0.6364 - val_recall: 0.6562\n",
      "Epoch 243/300\n",
      "10/10 [==============================] - 0s 5ms/step - loss: 0.3856 - acc: 0.8299 - precision: 0.7400 - recall: 0.7551 - val_loss: 0.4761 - val_acc: 0.7653 - val_precision: 0.6364 - val_recall: 0.6562\n",
      "Epoch 244/300\n",
      "10/10 [==============================] - 0s 6ms/step - loss: 0.3856 - acc: 0.8197 - precision: 0.7320 - recall: 0.7245 - val_loss: 0.4754 - val_acc: 0.7653 - val_precision: 0.6364 - val_recall: 0.6562\n",
      "Epoch 245/300\n",
      "10/10 [==============================] - 0s 5ms/step - loss: 0.3853 - acc: 0.8197 - precision: 0.7419 - recall: 0.7041 - val_loss: 0.4748 - val_acc: 0.7755 - val_precision: 0.6562 - val_recall: 0.6562\n",
      "Epoch 246/300\n",
      "10/10 [==============================] - 0s 5ms/step - loss: 0.3849 - acc: 0.8197 - precision: 0.7368 - recall: 0.7143 - val_loss: 0.4746 - val_acc: 0.7755 - val_precision: 0.6562 - val_recall: 0.6562\n",
      "Epoch 247/300\n",
      "10/10 [==============================] - 0s 5ms/step - loss: 0.3847 - acc: 0.8265 - precision: 0.7423 - recall: 0.7347 - val_loss: 0.4749 - val_acc: 0.7755 - val_precision: 0.6562 - val_recall: 0.6562\n",
      "Epoch 248/300\n",
      "10/10 [==============================] - 0s 6ms/step - loss: 0.3845 - acc: 0.8197 - precision: 0.7419 - recall: 0.7041 - val_loss: 0.4757 - val_acc: 0.7755 - val_precision: 0.6562 - val_recall: 0.6562\n",
      "Epoch 249/300\n",
      "10/10 [==============================] - 0s 6ms/step - loss: 0.3845 - acc: 0.8231 - precision: 0.7500 - recall: 0.7041 - val_loss: 0.4742 - val_acc: 0.7755 - val_precision: 0.6562 - val_recall: 0.6562\n",
      "Epoch 250/300\n",
      "10/10 [==============================] - 0s 5ms/step - loss: 0.3836 - acc: 0.8231 - precision: 0.7447 - recall: 0.7143 - val_loss: 0.4764 - val_acc: 0.7755 - val_precision: 0.6562 - val_recall: 0.6562\n",
      "Epoch 251/300\n",
      "10/10 [==============================] - 0s 6ms/step - loss: 0.3840 - acc: 0.8265 - precision: 0.7374 - recall: 0.7449 - val_loss: 0.4768 - val_acc: 0.7653 - val_precision: 0.6364 - val_recall: 0.6562\n",
      "Epoch 252/300\n",
      "10/10 [==============================] - 0s 5ms/step - loss: 0.3836 - acc: 0.8265 - precision: 0.7374 - recall: 0.7449 - val_loss: 0.4766 - val_acc: 0.7653 - val_precision: 0.6364 - val_recall: 0.6562\n",
      "Epoch 253/300\n",
      "10/10 [==============================] - 0s 5ms/step - loss: 0.3841 - acc: 0.8231 - precision: 0.7396 - recall: 0.7245 - val_loss: 0.4767 - val_acc: 0.7653 - val_precision: 0.6364 - val_recall: 0.6562\n",
      "Epoch 254/300\n",
      "10/10 [==============================] - 0s 6ms/step - loss: 0.3834 - acc: 0.8299 - precision: 0.7400 - recall: 0.7551 - val_loss: 0.4803 - val_acc: 0.7551 - val_precision: 0.6176 - val_recall: 0.6562\n",
      "Epoch 255/300\n",
      "10/10 [==============================] - 0s 5ms/step - loss: 0.3889 - acc: 0.8265 - precision: 0.7282 - recall: 0.7653 - val_loss: 0.4850 - val_acc: 0.7551 - val_precision: 0.6176 - val_recall: 0.6562\n",
      "Epoch 256/300\n",
      "10/10 [==============================] - 0s 5ms/step - loss: 0.3831 - acc: 0.8299 - precision: 0.7400 - recall: 0.7551 - val_loss: 0.4757 - val_acc: 0.7755 - val_precision: 0.6562 - val_recall: 0.6562\n",
      "Epoch 257/300\n",
      "10/10 [==============================] - 0s 6ms/step - loss: 0.3824 - acc: 0.8333 - precision: 0.7579 - recall: 0.7347 - val_loss: 0.4764 - val_acc: 0.7755 - val_precision: 0.6562 - val_recall: 0.6562\n",
      "Epoch 258/300\n",
      "10/10 [==============================] - 0s 9ms/step - loss: 0.3828 - acc: 0.8333 - precision: 0.7475 - recall: 0.7551 - val_loss: 0.4775 - val_acc: 0.7653 - val_precision: 0.6364 - val_recall: 0.6562\n",
      "Epoch 259/300\n",
      "10/10 [==============================] - 0s 6ms/step - loss: 0.3824 - acc: 0.8367 - precision: 0.7551 - recall: 0.7551 - val_loss: 0.4763 - val_acc: 0.7755 - val_precision: 0.6562 - val_recall: 0.6562\n",
      "Epoch 260/300\n",
      "10/10 [==============================] - 0s 5ms/step - loss: 0.3819 - acc: 0.8299 - precision: 0.7500 - recall: 0.7347 - val_loss: 0.4760 - val_acc: 0.7755 - val_precision: 0.6562 - val_recall: 0.6562\n",
      "Epoch 261/300\n",
      "10/10 [==============================] - 0s 5ms/step - loss: 0.3825 - acc: 0.8265 - precision: 0.7474 - recall: 0.7245 - val_loss: 0.4776 - val_acc: 0.7755 - val_precision: 0.6562 - val_recall: 0.6562\n",
      "Epoch 262/300\n",
      "10/10 [==============================] - 0s 5ms/step - loss: 0.3843 - acc: 0.8333 - precision: 0.7426 - recall: 0.7653 - val_loss: 0.4826 - val_acc: 0.7551 - val_precision: 0.6176 - val_recall: 0.6562\n",
      "Epoch 263/300\n",
      "10/10 [==============================] - 0s 5ms/step - loss: 0.3830 - acc: 0.8299 - precision: 0.7353 - recall: 0.7653 - val_loss: 0.4819 - val_acc: 0.7551 - val_precision: 0.6176 - val_recall: 0.6562\n",
      "Epoch 264/300\n",
      "10/10 [==============================] - 0s 5ms/step - loss: 0.3820 - acc: 0.8333 - precision: 0.7475 - recall: 0.7551 - val_loss: 0.4776 - val_acc: 0.7755 - val_precision: 0.6562 - val_recall: 0.6562\n",
      "Epoch 265/300\n",
      "10/10 [==============================] - 0s 5ms/step - loss: 0.3809 - acc: 0.8367 - precision: 0.7551 - recall: 0.7551 - val_loss: 0.4775 - val_acc: 0.7755 - val_precision: 0.6562 - val_recall: 0.6562\n",
      "Epoch 266/300\n",
      "10/10 [==============================] - 0s 5ms/step - loss: 0.3806 - acc: 0.8367 - precision: 0.7551 - recall: 0.7551 - val_loss: 0.4773 - val_acc: 0.7755 - val_precision: 0.6562 - val_recall: 0.6562\n",
      "Epoch 267/300\n",
      "10/10 [==============================] - 0s 5ms/step - loss: 0.3808 - acc: 0.8333 - precision: 0.7526 - recall: 0.7449 - val_loss: 0.4768 - val_acc: 0.7755 - val_precision: 0.6562 - val_recall: 0.6562\n",
      "Epoch 268/300\n",
      "10/10 [==============================] - 0s 6ms/step - loss: 0.3813 - acc: 0.8231 - precision: 0.7556 - recall: 0.6939 - val_loss: 0.4740 - val_acc: 0.7755 - val_precision: 0.6562 - val_recall: 0.6562\n",
      "Epoch 269/300\n",
      "10/10 [==============================] - 0s 6ms/step - loss: 0.3804 - acc: 0.8299 - precision: 0.7609 - recall: 0.7143 - val_loss: 0.4749 - val_acc: 0.7755 - val_precision: 0.6562 - val_recall: 0.6562\n",
      "Epoch 270/300\n",
      "10/10 [==============================] - 0s 6ms/step - loss: 0.3800 - acc: 0.8299 - precision: 0.7609 - recall: 0.7143 - val_loss: 0.4756 - val_acc: 0.7755 - val_precision: 0.6562 - val_recall: 0.6562\n",
      "Epoch 271/300\n",
      "10/10 [==============================] - 0s 4ms/step - loss: 0.3800 - acc: 0.8299 - precision: 0.7609 - recall: 0.7143 - val_loss: 0.4759 - val_acc: 0.7755 - val_precision: 0.6562 - val_recall: 0.6562\n",
      "Epoch 272/300\n",
      "10/10 [==============================] - 0s 5ms/step - loss: 0.3816 - acc: 0.8231 - precision: 0.7556 - recall: 0.6939 - val_loss: 0.4742 - val_acc: 0.7755 - val_precision: 0.6562 - val_recall: 0.6562\n",
      "Epoch 273/300\n",
      "10/10 [==============================] - 0s 5ms/step - loss: 0.3834 - acc: 0.8333 - precision: 0.7475 - recall: 0.7551 - val_loss: 0.4807 - val_acc: 0.7551 - val_precision: 0.6176 - val_recall: 0.6562\n",
      "Epoch 274/300\n",
      "10/10 [==============================] - 0s 6ms/step - loss: 0.3798 - acc: 0.8333 - precision: 0.7475 - recall: 0.7551 - val_loss: 0.4761 - val_acc: 0.7755 - val_precision: 0.6562 - val_recall: 0.6562\n",
      "Epoch 275/300\n",
      "10/10 [==============================] - 0s 5ms/step - loss: 0.3794 - acc: 0.8367 - precision: 0.7717 - recall: 0.7245 - val_loss: 0.4735 - val_acc: 0.7755 - val_precision: 0.6562 - val_recall: 0.6562\n",
      "Epoch 276/300\n",
      "10/10 [==============================] - 0s 4ms/step - loss: 0.3787 - acc: 0.8299 - precision: 0.7609 - recall: 0.7143 - val_loss: 0.4757 - val_acc: 0.7755 - val_precision: 0.6562 - val_recall: 0.6562\n",
      "Epoch 277/300\n",
      "10/10 [==============================] - 0s 5ms/step - loss: 0.3781 - acc: 0.8333 - precision: 0.7634 - recall: 0.7245 - val_loss: 0.4763 - val_acc: 0.7755 - val_precision: 0.6562 - val_recall: 0.6562\n",
      "Epoch 278/300\n",
      "10/10 [==============================] - 0s 5ms/step - loss: 0.3778 - acc: 0.8299 - precision: 0.7553 - recall: 0.7245 - val_loss: 0.4757 - val_acc: 0.7755 - val_precision: 0.6562 - val_recall: 0.6562\n",
      "Epoch 279/300\n",
      "10/10 [==============================] - 0s 5ms/step - loss: 0.3782 - acc: 0.8367 - precision: 0.7717 - recall: 0.7245 - val_loss: 0.4752 - val_acc: 0.7755 - val_precision: 0.6562 - val_recall: 0.6562\n",
      "Epoch 280/300\n",
      "10/10 [==============================] - 0s 5ms/step - loss: 0.3773 - acc: 0.8333 - precision: 0.7634 - recall: 0.7245 - val_loss: 0.4771 - val_acc: 0.7755 - val_precision: 0.6562 - val_recall: 0.6562\n",
      "Epoch 281/300\n",
      "10/10 [==============================] - 0s 8ms/step - loss: 0.3776 - acc: 0.8299 - precision: 0.7500 - recall: 0.7347 - val_loss: 0.4797 - val_acc: 0.7653 - val_precision: 0.6364 - val_recall: 0.6562\n",
      "Epoch 282/300\n",
      "10/10 [==============================] - 0s 7ms/step - loss: 0.3799 - acc: 0.8299 - precision: 0.7400 - recall: 0.7551 - val_loss: 0.4831 - val_acc: 0.7551 - val_precision: 0.6176 - val_recall: 0.6562\n",
      "Epoch 283/300\n",
      "10/10 [==============================] - 0s 5ms/step - loss: 0.3778 - acc: 0.8299 - precision: 0.7553 - recall: 0.7245 - val_loss: 0.4772 - val_acc: 0.7755 - val_precision: 0.6562 - val_recall: 0.6562\n",
      "Epoch 284/300\n",
      "10/10 [==============================] - 0s 6ms/step - loss: 0.3770 - acc: 0.8367 - precision: 0.7717 - recall: 0.7245 - val_loss: 0.4763 - val_acc: 0.7755 - val_precision: 0.6562 - val_recall: 0.6562\n",
      "Epoch 285/300\n",
      "10/10 [==============================] - 0s 5ms/step - loss: 0.3776 - acc: 0.8333 - precision: 0.7692 - recall: 0.7143 - val_loss: 0.4761 - val_acc: 0.7755 - val_precision: 0.6562 - val_recall: 0.6562\n",
      "Epoch 286/300\n",
      "10/10 [==============================] - 0s 5ms/step - loss: 0.3767 - acc: 0.8333 - precision: 0.7634 - recall: 0.7245 - val_loss: 0.4779 - val_acc: 0.7755 - val_precision: 0.6562 - val_recall: 0.6562\n",
      "Epoch 287/300\n",
      "10/10 [==============================] - 0s 4ms/step - loss: 0.3758 - acc: 0.8299 - precision: 0.7553 - recall: 0.7245 - val_loss: 0.4806 - val_acc: 0.7653 - val_precision: 0.6364 - val_recall: 0.6562\n",
      "Epoch 288/300\n",
      "10/10 [==============================] - 0s 6ms/step - loss: 0.3761 - acc: 0.8401 - precision: 0.7576 - recall: 0.7653 - val_loss: 0.4826 - val_acc: 0.7653 - val_precision: 0.6364 - val_recall: 0.6562\n",
      "Epoch 289/300\n",
      "10/10 [==============================] - 0s 6ms/step - loss: 0.3762 - acc: 0.8333 - precision: 0.7526 - recall: 0.7449 - val_loss: 0.4807 - val_acc: 0.7755 - val_precision: 0.6562 - val_recall: 0.6562\n",
      "Epoch 290/300\n",
      "10/10 [==============================] - 0s 5ms/step - loss: 0.3753 - acc: 0.8333 - precision: 0.7526 - recall: 0.7449 - val_loss: 0.4834 - val_acc: 0.7653 - val_precision: 0.6364 - val_recall: 0.6562\n",
      "Epoch 291/300\n",
      "10/10 [==============================] - 0s 5ms/step - loss: 0.3762 - acc: 0.8367 - precision: 0.7551 - recall: 0.7551 - val_loss: 0.4830 - val_acc: 0.7653 - val_precision: 0.6364 - val_recall: 0.6562\n",
      "Epoch 292/300\n",
      "10/10 [==============================] - 0s 5ms/step - loss: 0.3751 - acc: 0.8367 - precision: 0.7551 - recall: 0.7551 - val_loss: 0.4809 - val_acc: 0.7653 - val_precision: 0.6364 - val_recall: 0.6562\n",
      "Epoch 293/300\n",
      "10/10 [==============================] - 0s 6ms/step - loss: 0.3739 - acc: 0.8333 - precision: 0.7634 - recall: 0.7245 - val_loss: 0.4776 - val_acc: 0.7755 - val_precision: 0.6562 - val_recall: 0.6562\n",
      "Epoch 294/300\n",
      "10/10 [==============================] - 0s 6ms/step - loss: 0.3754 - acc: 0.8367 - precision: 0.7778 - recall: 0.7143 - val_loss: 0.4775 - val_acc: 0.7755 - val_precision: 0.6562 - val_recall: 0.6562\n",
      "Epoch 295/300\n",
      "10/10 [==============================] - 0s 5ms/step - loss: 0.3741 - acc: 0.8333 - precision: 0.7692 - recall: 0.7143 - val_loss: 0.4792 - val_acc: 0.7653 - val_precision: 0.6364 - val_recall: 0.6562\n",
      "Epoch 296/300\n",
      "10/10 [==============================] - 0s 5ms/step - loss: 0.3763 - acc: 0.8367 - precision: 0.7551 - recall: 0.7551 - val_loss: 0.4836 - val_acc: 0.7653 - val_precision: 0.6364 - val_recall: 0.6562\n",
      "Epoch 297/300\n",
      "10/10 [==============================] - 0s 5ms/step - loss: 0.3747 - acc: 0.8367 - precision: 0.7604 - recall: 0.7449 - val_loss: 0.4793 - val_acc: 0.7755 - val_precision: 0.6562 - val_recall: 0.6562\n",
      "Epoch 298/300\n",
      "10/10 [==============================] - 0s 5ms/step - loss: 0.3739 - acc: 0.8333 - precision: 0.7692 - recall: 0.7143 - val_loss: 0.4789 - val_acc: 0.7755 - val_precision: 0.6562 - val_recall: 0.6562\n",
      "Epoch 299/300\n",
      "10/10 [==============================] - 0s 5ms/step - loss: 0.3735 - acc: 0.8401 - precision: 0.7742 - recall: 0.7347 - val_loss: 0.4808 - val_acc: 0.7653 - val_precision: 0.6364 - val_recall: 0.6562\n",
      "Epoch 300/300\n",
      "10/10 [==============================] - 0s 8ms/step - loss: 0.3728 - acc: 0.8367 - precision: 0.7717 - recall: 0.7245 - val_loss: 0.4799 - val_acc: 0.7755 - val_precision: 0.6562 - val_recall: 0.6562\n"
     ]
    }
   ],
   "source": [
    "# fit your model\n",
    "history = model.fit(X_train_proc, y_train,\n",
    "                    validation_data=(X_test_proc, y_test),\n",
    "                    epochs=300,)\n",
    "\n"
   ]
  },
  {
   "cell_type": "code",
   "execution_count": 100,
   "metadata": {
    "colab": {
     "base_uri": "https://localhost:8080/"
    },
    "executionInfo": {
     "elapsed": 6,
     "status": "ok",
     "timestamp": 1698804010065,
     "user": {
      "displayName": "Yvon Bilodeau",
      "userId": "10142856831792134633"
     },
     "user_tz": 420
    },
    "id": "OTmswQ-tJZlX",
    "outputId": "d4eb9d6d-e4cf-4250-bf54-d5c23e16fc37"
   },
   "outputs": [
    {
     "data": {
      "image/png": "[encoded data removed]",
      "text/plain": [
       "<Figure size 640x480 with 1 Axes>"
      ]
     },
     "metadata": {},
     "output_type": "display_data"
    },
    {
     "data": {
      "image/png": "[encoded data removed]",
      "text/plain": [
       "<Figure size 640x480 with 1 Axes>"
      ]
     },
     "metadata": {},
     "output_type": "display_data"
    },
    {
     "data": {
      "image/png": "[encoded data removed]",
      "text/plain": [
       "<Figure size 640x480 with 1 Axes>"
      ]
     },
     "metadata": {},
     "output_type": "display_data"
    },
    {
     "data": {
      "image/png": "[encoded data removed]",
      "text/plain": [
       "<Figure size 640x480 with 1 Axes>"
      ]
     },
     "metadata": {},
     "output_type": "display_data"
    }
   ],
   "source": [
    "plot_history(history)\n"
   ]
  },
  {
   "cell_type": "code",
   "execution_count": 62,
   "metadata": {
    "colab": {
     "base_uri": "https://localhost:8080/",
     "height": 1000
    },
    "executionInfo": {
     "elapsed": 645,
     "status": "ok",
     "timestamp": 1698804010706,
     "user": {
      "displayName": "Yvon Bilodeau",
      "userId": "10142856831792134633"
     },
     "user_tz": 420
    },
    "id": "qKLxgYDcP0_H",
    "outputId": "e2de98d9-02bc-478f-b52c-8f1bef07e28e"
   },
   "outputs": [],
   "source": [
    "# See how your model is doing\n",
    "\n"
   ]
  },
  {
   "cell_type": "markdown",
   "metadata": {
    "id": "LD18RKjYTFXP"
   },
   "source": [
    "## Evaluation\n",
    "\n",
    "Keras models always output floats, not integers.  In this case the final sigmoid activation function will return a number between 0 and 1.  If the number is closer to 1, the model predicts the sample is more likely to be class 1.  If it is closer to 2, the sample is predicted to be more likely to be class 0.  \n",
    "\n",
    "This is similar to the output of .predict_proba() with Scikit-Learn models.\n",
    "\n",
    "### Converting Floats to Ints\n",
    "\n",
    "In order to use Scikit-Learn metrics functions, the float outputs of the model need to be converted to ints.  We don't want to just use `int(pred)` or `pred.astype(int)` because that will just drop the decimal and all our predictions would be 0s.  \n",
    "\n",
    "Instead we want to **round** the predictions to the nearest integer. To round all of the numbers in an array we can use the NumPy function, `np.rint()` which is short for 'round to integer'.  \n",
    "\n",
    "[Numpy Reference for np.rint()](https://numpy.org/doc/stable/reference/generated/numpy.rint.html)"
   ]
  },
  {
   "cell_type": "code",
   "execution_count": 101,
   "metadata": {
    "colab": {
     "base_uri": "https://localhost:8080/"
    },
    "executionInfo": {
     "elapsed": 242,
     "status": "ok",
     "timestamp": 1698804010945,
     "user": {
      "displayName": "Yvon Bilodeau",
      "userId": "10142856831792134633"
     },
     "user_tz": 420
    },
    "id": "HttQV2phV-Va",
    "outputId": "f17ae13d-e97f-4e3e-e1d2-c065ae8c5b3b"
   },
   "outputs": [
    {
     "name": "stdout",
     "output_type": "stream",
     "text": [
      "4/4 [==============================] - 0s 2ms/step\n"
     ]
    },
    {
     "data": {
      "text/plain": [
       "array([[0.20754963],\n",
       "       [0.8275729 ],\n",
       "       [0.7580476 ],\n",
       "       [0.2698617 ],\n",
       "       [0.08604475],\n",
       "       [0.04050866],\n",
       "       [0.00376412],\n",
       "       [0.7796813 ],\n",
       "       [0.313738  ],\n",
       "       [0.8482598 ],\n",
       "       [0.4359107 ],\n",
       "       [0.85516346],\n",
       "       [0.40917075],\n",
       "       [0.03465503],\n",
       "       [0.005721  ],\n",
       "       [0.36534253],\n",
       "       [0.28164592],\n",
       "       [0.03319382],\n",
       "       [0.01314824],\n",
       "       [0.00399977],\n",
       "       [0.32578662],\n",
       "       [0.8486762 ],\n",
       "       [0.00895872],\n",
       "       [0.37009254],\n",
       "       [0.6103967 ],\n",
       "       [0.01371028],\n",
       "       [0.32289836],\n",
       "       [0.01329975],\n",
       "       [0.5480231 ],\n",
       "       [0.01068311],\n",
       "       [0.56662947],\n",
       "       [0.5742658 ],\n",
       "       [0.09620713],\n",
       "       [0.01665465],\n",
       "       [0.0102173 ],\n",
       "       [0.86731064],\n",
       "       [0.33702788],\n",
       "       [0.39914167],\n",
       "       [0.9042675 ],\n",
       "       [0.9031597 ],\n",
       "       [0.89538264],\n",
       "       [0.8699007 ],\n",
       "       [0.04349384],\n",
       "       [0.8540541 ],\n",
       "       [0.88292867],\n",
       "       [0.7211184 ],\n",
       "       [0.23854592],\n",
       "       [0.37043592],\n",
       "       [0.2392272 ],\n",
       "       [0.3104949 ],\n",
       "       [0.54684496],\n",
       "       [0.05264964],\n",
       "       [0.02050278],\n",
       "       [0.43714637],\n",
       "       [0.18651386],\n",
       "       [0.1422217 ],\n",
       "       [0.2204355 ],\n",
       "       [0.82456994],\n",
       "       [0.8067336 ],\n",
       "       [0.60044515],\n",
       "       [0.31456822],\n",
       "       [0.11211274],\n",
       "       [0.065794  ],\n",
       "       [0.80068034],\n",
       "       [0.08243737],\n",
       "       [0.00605412],\n",
       "       [0.7996642 ],\n",
       "       [0.53663635],\n",
       "       [0.00776402],\n",
       "       [0.04098916],\n",
       "       [0.09064574],\n",
       "       [0.07418054],\n",
       "       [0.74965775],\n",
       "       [0.08986129],\n",
       "       [0.00899671],\n",
       "       [0.1771903 ],\n",
       "       [0.40325245],\n",
       "       [0.03351896],\n",
       "       [0.723316  ],\n",
       "       [0.01299348],\n",
       "       [0.17468314],\n",
       "       [0.48449817],\n",
       "       [0.04804024],\n",
       "       [0.01331349],\n",
       "       [0.35753405],\n",
       "       [0.012261  ],\n",
       "       [0.00186822],\n",
       "       [0.82050174],\n",
       "       [0.17604077],\n",
       "       [0.82524675],\n",
       "       [0.09249293],\n",
       "       [0.02105333],\n",
       "       [0.09015007],\n",
       "       [0.68504894],\n",
       "       [0.20599179],\n",
       "       [0.80441517],\n",
       "       [0.8233897 ],\n",
       "       [0.11175656]], dtype=float32)"
      ]
     },
     "execution_count": 101,
     "metadata": {},
     "output_type": "execute_result"
    }
   ],
   "source": [
    "# Check raw model predictions\n",
    "model.predict(X_test_proc)"
   ]
  },
  {
   "cell_type": "code",
   "execution_count": 102,
   "metadata": {
    "colab": {
     "base_uri": "https://localhost:8080/"
    },
    "executionInfo": {
     "elapsed": 13,
     "status": "ok",
     "timestamp": 1698804010945,
     "user": {
      "displayName": "Yvon Bilodeau",
      "userId": "10142856831792134633"
     },
     "user_tz": 420
    },
    "id": "u1CSEpv4YXV7",
    "outputId": "a39a681f-97b1-4569-eea3-6a90c76bb333"
   },
   "outputs": [
    {
     "name": "stdout",
     "output_type": "stream",
     "text": [
      "10/10 [==============================] - 0s 1ms/step\n",
      "4/4 [==============================] - 0s 1ms/step\n"
     ]
    },
    {
     "data": {
      "text/plain": [
       "array([[0.],\n",
       "       [1.],\n",
       "       [1.],\n",
       "       [1.],\n",
       "       [0.]], dtype=float32)"
      ]
     },
     "execution_count": 102,
     "metadata": {},
     "output_type": "execute_result"
    }
   ],
   "source": [
    "# Save predictions\n",
    "train_preds = np.rint(model.predict(X_train_proc))\n",
    "test_preds = np.rint(model.predict(X_test_proc))\n",
    "\n",
    "\n",
    "\n",
    "# round predictions to integers instead of floats using np.rint()\n",
    "\n",
    "\n",
    "\n",
    "# the following code should show whole number predictions, 1.0 or 0.0\n",
    "\n",
    "train_preds[:5]"
   ]
  },
  {
   "cell_type": "code",
   "execution_count": 103,
   "metadata": {
    "colab": {
     "base_uri": "https://localhost:8080/",
     "height": 1000
    },
    "executionInfo": {
     "elapsed": 691,
     "status": "ok",
     "timestamp": 1698804011629,
     "user": {
      "displayName": "Yvon Bilodeau",
      "userId": "10142856831792134633"
     },
     "user_tz": 420
    },
    "id": "sov8ZJUHP-Bf",
    "outputId": "3b3ca2ec-3b96-4c69-8f47-3dff45aea337"
   },
   "outputs": [
    {
     "name": "stdout",
     "output_type": "stream",
     "text": [
      "base_class_model_train \n",
      "\n",
      "              precision    recall  f1-score   support\n",
      "\n",
      " No Diabetes       0.87      0.89      0.88       196\n",
      "    Diabetes       0.77      0.72      0.75        98\n",
      "\n",
      "    accuracy                           0.84       294\n",
      "   macro avg       0.82      0.81      0.81       294\n",
      "weighted avg       0.83      0.84      0.84       294\n",
      "\n"
     ]
    },
    {
     "data": {
      "image/png": "[encoded data removed]",
      "text/plain": [
       "<Figure size 640x480 with 2 Axes>"
      ]
     },
     "metadata": {},
     "output_type": "display_data"
    },
    {
     "name": "stdout",
     "output_type": "stream",
     "text": [
      "base_class_model_test \n",
      "\n",
      "              precision    recall  f1-score   support\n",
      "\n",
      " No Diabetes       0.83      0.83      0.83        66\n",
      "    Diabetes       0.66      0.66      0.66        32\n",
      "\n",
      "    accuracy                           0.78        98\n",
      "   macro avg       0.74      0.74      0.74        98\n",
      "weighted avg       0.78      0.78      0.78        98\n",
      "\n"
     ]
    },
    {
     "data": {
      "image/png": "[encoded data removed]",
      "text/plain": [
       "<Figure size 640x480 with 2 Axes>"
      ]
     },
     "metadata": {},
     "output_type": "display_data"
    },
    {
     "data": {
      "text/html": [
       "<div>\n",
       "<style scoped>\n",
       "    .dataframe tbody tr th:only-of-type {\n",
       "        vertical-align: middle;\n",
       "    }\n",
       "\n",
       "    .dataframe tbody tr th {\n",
       "        vertical-align: top;\n",
       "    }\n",
       "\n",
       "    .dataframe thead th {\n",
       "        text-align: right;\n",
       "    }\n",
       "</style>\n",
       "<table border=\"1\" class=\"dataframe\">\n",
       "  <thead>\n",
       "    <tr style=\"text-align: right;\">\n",
       "      <th></th>\n",
       "      <th>Precision</th>\n",
       "      <th>Recall</th>\n",
       "      <th>F1 Score</th>\n",
       "      <th>Accuracy</th>\n",
       "    </tr>\n",
       "    <tr>\n",
       "      <th>Model Name</th>\n",
       "      <th></th>\n",
       "      <th></th>\n",
       "      <th></th>\n",
       "      <th></th>\n",
       "    </tr>\n",
       "  </thead>\n",
       "  <tbody>\n",
       "    <tr>\n",
       "      <th>base_class_model_train</th>\n",
       "      <td>0.771739</td>\n",
       "      <td>0.72449</td>\n",
       "      <td>0.747368</td>\n",
       "      <td>0.836735</td>\n",
       "    </tr>\n",
       "    <tr>\n",
       "      <th>base_class_model_test</th>\n",
       "      <td>0.656250</td>\n",
       "      <td>0.65625</td>\n",
       "      <td>0.656250</td>\n",
       "      <td>0.775510</td>\n",
       "    </tr>\n",
       "  </tbody>\n",
       "</table>\n",
       "</div>"
      ],
      "text/plain": [
       "                        Precision   Recall  F1 Score  Accuracy\n",
       "Model Name                                                    \n",
       "base_class_model_train   0.771739  0.72449  0.747368  0.836735\n",
       "base_class_model_test    0.656250  0.65625  0.656250  0.775510"
      ]
     },
     "execution_count": 103,
     "metadata": {},
     "output_type": "execute_result"
    }
   ],
   "source": [
    "# Define labels for the confusion matrix\n",
    "labels = ['No Diabetes', 'Diabetes']\n",
    "\n",
    "# Evaluate your model using the custom function eval_classification()\n",
    "train_scores = eval_classification(y_train, train_preds,\n",
    "                                   name='base_class_model_train',\n",
    "                                  labels=labels)\n",
    "test_scores = eval_classification(y_test, test_preds,\n",
    "                                   name='base_class_model_test',\n",
    "                                  labels=labels)\n",
    "\n",
    "# concatenate the two dataframes to compare the model on train and test data\n",
    "class_scores = pd.concat([train_scores, test_scores])\n",
    "class_scores"
   ]
  },
  {
   "cell_type": "code",
   "execution_count": null,
   "metadata": {
    "executionInfo": {
     "elapsed": 3,
     "status": "ok",
     "timestamp": 1698804011630,
     "user": {
      "displayName": "Yvon Bilodeau",
      "userId": "10142856831792134633"
     },
     "user_tz": 420
    },
    "id": "vFvHcmtIsSCy"
   },
   "outputs": [],
   "source": []
  }
 ],
 "metadata": {
  "accelerator": "GPU",
  "colab": {
   "provenance": [
    {
     "file_id": "1AMkk4AkOwuh0L19EdXpLJHJaeZXCP6kQ",
     "timestamp": 1654554871276
    },
    {
     "file_id": "1HZQ_jeFRQsrlNGjvh_ru52Q-1DhIahua",
     "timestamp": 1636586978598
    }
   ],
   "toc_visible": true
  },
  "gpuClass": "standard",
  "kernelspec": {
   "display_name": "Python 3 (ipykernel)",
   "language": "python",
   "name": "python3"
  },
  "language_info": {
   "codemirror_mode": {
    "name": "ipython",
    "version": 3
   },
   "file_extension": ".py",
   "mimetype": "text/x-python",
   "name": "python",
   "nbconvert_exporter": "python",
   "pygments_lexer": "ipython3",
   "version": "3.9.18"
  },
  "toc": {
   "base_numbering": 1,
   "nav_menu": {},
   "number_sections": false,
   "sideBar": true,
   "skip_h1_title": false,
   "title_cell": "Table of Contents",
   "title_sidebar": "Contents",
   "toc_cell": false,
   "toc_position": {
    "height": "calc(100% - 180px)",
    "left": "10px",
    "top": "150px",
    "width": "243.829px"
   },
   "toc_section_display": true,
   "toc_window_display": false
  },
  "widgets": {
   "application/vnd.jupyter.widget-state+json": {
    "state": {},
    "version_major": 2,
    "version_minor": 0
   }
  }
 },
 "nbformat": 4,
 "nbformat_minor": 4
}
