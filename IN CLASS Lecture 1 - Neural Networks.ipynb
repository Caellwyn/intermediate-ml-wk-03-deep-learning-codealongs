{
 "cells": [
  {
   "cell_type": "markdown",
   "metadata": {
    "id": "AGKAZlCh02cl"
   },
   "source": [
    "# Introduction to Neural Networking in Keras\n",
    "\n",
    "<a href=\"https://colab.research.google.com/github/coding-dojo-data-science/week-11-lecture-2-tuning-deep-learning-models/blob/main/Code-along%20Tuning%20Neural%20Networks.ipynb\" target=\"_parent\"><img src=\"https://colab.research.google.com/assets/colab-badge.svg\" alt=\"Open In Colab\"/></a>"
   ]
  },
  {
   "cell_type": "markdown",
   "metadata": {
    "id": "OStduN-207_9"
   },
   "source": [
    "We will use the version of Keras that comes in the Tensorflow package, as it has the most up to date tools.\n",
    "\n",
    "Keras works as weapper for deep learning model to be used as classification or regression estimators in sklearn"
   ]
  },
  {
   "cell_type": "code",
   "execution_count": 56,
   "metadata": {
    "ExecuteTime": {
     "end_time": "2023-02-08T02:15:00.219225Z",
     "start_time": "2023-02-08T02:15:00.211839Z"
    },
    "executionInfo": {
     "elapsed": 6928,
     "status": "ok",
     "timestamp": 1698803943153,
     "user": {
      "displayName": "Yvon Bilodeau",
      "userId": "10142856831792134633"
     },
     "user_tz": 420
    },
    "id": "Zw6CH1mp0zR4"
   },
   "outputs": [],
   "source": [
    "import pandas as pd\n",
    "import numpy as np\n",
    "\n",
    "import matplotlib.pyplot as plt\n",
    "from seaborn import heatmap\n",
    "\n",
    "from sklearn.metrics import mean_absolute_error, r2_score, \\\n",
    "mean_squared_error, precision_score, recall_score, accuracy_score, f1_score, \\\n",
    "ConfusionMatrixDisplay, classification_report\n",
    "from sklearn.preprocessing import MinMaxScaler\n",
    "from sklearn.model_selection import train_test_split\n",
    "\n",
    "# new libraries\n",
    "import tensorflow as tf\n",
    "import tensorflow.keras as keras\n",
    "from keras.models import Sequential\n",
    "from keras.layers import Dense\n",
    "\n",
    "# This is used to overcome an issue with setting up tensorflow in M1/M1\n",
    "# Suspect tensorflow-macos not very fit with GPU, use CPU only with\n",
    "tf.config.set_visible_devices([], 'GPU')\n",
    "\n",
    "# Set random seeds for consistent outcomes\n",
    "keras.backend.clear_session()\n",
    "np.random.seed(42)\n",
    "tf.random.set_seed(42)"
   ]
  },
  {
   "cell_type": "markdown",
   "metadata": {
    "id": "e5pga5rHChPu"
   },
   "source": [
    "### Plot History\n",
    "\n",
    "Since we will be plotting histories for all of our models, lets create a function to do it quickly."
   ]
  },
  {
   "cell_type": "code",
   "execution_count": 57,
   "metadata": {
    "ExecuteTime": {
     "end_time": "2023-02-08T02:15:00.226208Z",
     "start_time": "2023-02-08T02:15:00.220222Z"
    },
    "executionInfo": {
     "elapsed": 4,
     "status": "ok",
     "timestamp": 1698803943153,
     "user": {
      "displayName": "Yvon Bilodeau",
      "userId": "10142856831792134633"
     },
     "user_tz": 420
    },
    "id": "UbrKqMv0_28Q"
   },
   "outputs": [],
   "source": [
    "def plot_history(history):\n",
    "  \"\"\"Takes a keras model learning history and plots each metric\"\"\"\n",
    "\n",
    "  metrics = history.history.keys()\n",
    "\n",
    "  for metric in metrics:\n",
    "      if not 'val' in metric:\n",
    "        plt.plot(history.history[f'{metric}'], label=f'{metric}')\n",
    "        if f'val_{metric}' in metrics:\n",
    "          plt.plot(history.history[f'val_{metric}'], label=f'val_{metric}')\n",
    "        plt.legend()\n",
    "        plt.title(f'{metric}')\n",
    "        plt.show()\n",
    "\n",
    "def eval_regression(true, pred, name='Model'):\n",
    "    \"\"\"Evaluates true and predicted values from a regression model.\n",
    "    Outputs a dataframe of metrics\"\"\"\n",
    "    scores = pd.DataFrame()\n",
    "    scores['Model Name'] = [name]\n",
    "    scores['RMSE'] = [np.sqrt(mean_squared_error(true, pred))]\n",
    "    scores['MAE'] = [mean_absolute_error(true, pred)]\n",
    "    scores['R2'] = [r2_score(true, pred)]\n",
    "    scores.set_index('Model Name', inplace=True)\n",
    "\n",
    "    return scores\n",
    "\n",
    "def eval_classification(true, pred, name, labels=None):\n",
    "    \"\"\"shows classification_report and confusion matrix\n",
    "    for classification model predictions.  Outputs a dataframe of metrics\"\"\"\n",
    "\n",
    "    print(name, '\\n')\n",
    "    print(classification_report(true, pred, target_names=labels))\n",
    "    ConfusionMatrixDisplay.from_predictions(true, pred, display_labels=labels, )\n",
    "\n",
    "    plt.show()\n",
    "\n",
    "    scores = pd.DataFrame()\n",
    "    scores['Model Name'] = [name]\n",
    "    scores['Precision'] = [precision_score(true, pred)]\n",
    "    scores['Recall'] = [recall_score(true, pred)]\n",
    "    scores['F1 Score'] = [f1_score(true, pred)]\n",
    "    scores['Accuracy'] = [accuracy_score(true, pred)]\n",
    "    scores.set_index('Model Name', inplace=True)\n",
    "\n",
    "    return scores"
   ]
  },
  {
   "cell_type": "markdown",
   "metadata": {
    "id": "RAUUTWm93ojP"
   },
   "source": [
    "# Data\n",
    "\n",
    "We will be working with 2 different datasets in this project, 1 is a regression dataset and the other is a classification dataset.  This way you can practice doing both using deep learning.\n",
    "\n",
    "**NOTE**\n",
    "\n",
    "These datasets are very small for deep learning.  Deep learning models usually work best with very large datasets with at least 10,000 or more samples.  They work best on even larger datasets than that.  But, for demonstration we will use these smaller datasets.\n",
    "\n",
    "## Regression\n",
    "This is a dataset of housing prices in Boston from 1978.  Each row is a house and the dataset includes several features regarding each house.  Our target today will be the price of the home.\n",
    "\n"
   ]
  },
  {
   "cell_type": "code",
   "execution_count": 58,
   "metadata": {
    "ExecuteTime": {
     "end_time": "2023-02-08T02:15:00.312062Z",
     "start_time": "2023-02-08T02:15:00.227205Z"
    },
    "executionInfo": {
     "elapsed": 3,
     "status": "ok",
     "timestamp": 1698803943153,
     "user": {
      "displayName": "Yvon Bilodeau",
      "userId": "10142856831792134633"
     },
     "user_tz": 420
    },
    "id": "8_PM7Bt81FKh"
   },
   "outputs": [],
   "source": [
    "regression_df = pd.read_csv('Data/Boston_Housing_from_Sklearn.csv')"
   ]
  },
  {
   "cell_type": "markdown",
   "metadata": {
    "id": "1YPAPvdG6Sqy"
   },
   "source": [
    "# Regression\n",
    "\n",
    "Let's start with modeling the regression dataset"
   ]
  },
  {
   "cell_type": "code",
   "execution_count": 59,
   "metadata": {
    "ExecuteTime": {
     "end_time": "2023-02-08T02:15:00.324011Z",
     "start_time": "2023-02-08T02:15:00.314019Z"
    },
    "colab": {
     "base_uri": "https://localhost:8080/",
     "height": 204
    },
    "executionInfo": {
     "elapsed": 218,
     "status": "ok",
     "timestamp": 1698803943369,
     "user": {
      "displayName": "Yvon Bilodeau",
      "userId": "10142856831792134633"
     },
     "user_tz": 420
    },
    "id": "3STtBugN3fp1",
    "outputId": "a8fdf0a0-c92d-42b5-9931-07089286b0ae"
   },
   "outputs": [
    {
     "data": {
      "text/html": [
       "<div>\n",
       "<style scoped>\n",
       "    .dataframe tbody tr th:only-of-type {\n",
       "        vertical-align: middle;\n",
       "    }\n",
       "\n",
       "    .dataframe tbody tr th {\n",
       "        vertical-align: top;\n",
       "    }\n",
       "\n",
       "    .dataframe thead th {\n",
       "        text-align: right;\n",
       "    }\n",
       "</style>\n",
       "<table border=\"1\" class=\"dataframe\">\n",
       "  <thead>\n",
       "    <tr style=\"text-align: right;\">\n",
       "      <th></th>\n",
       "      <th>CRIM</th>\n",
       "      <th>NOX</th>\n",
       "      <th>RM</th>\n",
       "      <th>AGE</th>\n",
       "      <th>PTRATIO</th>\n",
       "      <th>LSTAT</th>\n",
       "      <th>PRICE</th>\n",
       "    </tr>\n",
       "  </thead>\n",
       "  <tbody>\n",
       "    <tr>\n",
       "      <th>0</th>\n",
       "      <td>0.00632</td>\n",
       "      <td>0.538</td>\n",
       "      <td>6.575</td>\n",
       "      <td>65.2</td>\n",
       "      <td>15.3</td>\n",
       "      <td>4.98</td>\n",
       "      <td>24.0</td>\n",
       "    </tr>\n",
       "    <tr>\n",
       "      <th>1</th>\n",
       "      <td>0.02731</td>\n",
       "      <td>0.469</td>\n",
       "      <td>6.421</td>\n",
       "      <td>78.9</td>\n",
       "      <td>17.8</td>\n",
       "      <td>9.14</td>\n",
       "      <td>21.6</td>\n",
       "    </tr>\n",
       "    <tr>\n",
       "      <th>2</th>\n",
       "      <td>0.02729</td>\n",
       "      <td>0.469</td>\n",
       "      <td>7.185</td>\n",
       "      <td>61.1</td>\n",
       "      <td>17.8</td>\n",
       "      <td>4.03</td>\n",
       "      <td>34.7</td>\n",
       "    </tr>\n",
       "    <tr>\n",
       "      <th>3</th>\n",
       "      <td>0.03237</td>\n",
       "      <td>0.458</td>\n",
       "      <td>6.998</td>\n",
       "      <td>45.8</td>\n",
       "      <td>18.7</td>\n",
       "      <td>2.94</td>\n",
       "      <td>33.4</td>\n",
       "    </tr>\n",
       "    <tr>\n",
       "      <th>4</th>\n",
       "      <td>0.06905</td>\n",
       "      <td>0.458</td>\n",
       "      <td>7.147</td>\n",
       "      <td>54.2</td>\n",
       "      <td>18.7</td>\n",
       "      <td>5.33</td>\n",
       "      <td>36.2</td>\n",
       "    </tr>\n",
       "  </tbody>\n",
       "</table>\n",
       "</div>"
      ],
      "text/plain": [
       "      CRIM    NOX     RM   AGE  PTRATIO  LSTAT  PRICE\n",
       "0  0.00632  0.538  6.575  65.2     15.3   4.98   24.0\n",
       "1  0.02731  0.469  6.421  78.9     17.8   9.14   21.6\n",
       "2  0.02729  0.469  7.185  61.1     17.8   4.03   34.7\n",
       "3  0.03237  0.458  6.998  45.8     18.7   2.94   33.4\n",
       "4  0.06905  0.458  7.147  54.2     18.7   5.33   36.2"
      ]
     },
     "execution_count": 59,
     "metadata": {},
     "output_type": "execute_result"
    }
   ],
   "source": [
    "regression_df.head()"
   ]
  },
  {
   "cell_type": "code",
   "execution_count": 60,
   "metadata": {
    "ExecuteTime": {
     "end_time": "2023-02-08T02:15:00.334424Z",
     "start_time": "2023-02-08T02:15:00.325015Z"
    },
    "colab": {
     "base_uri": "https://localhost:8080/"
    },
    "executionInfo": {
     "elapsed": 17,
     "status": "ok",
     "timestamp": 1698803943369,
     "user": {
      "displayName": "Yvon Bilodeau",
      "userId": "10142856831792134633"
     },
     "user_tz": 420
    },
    "id": "4sJoxV1ZJKBd",
    "outputId": "ca6b1cac-9d39-4a4f-b683-d4c2bcfe3fe9"
   },
   "outputs": [
    {
     "name": "stdout",
     "output_type": "stream",
     "text": [
      "<class 'pandas.core.frame.DataFrame'>\n",
      "RangeIndex: 506 entries, 0 to 505\n",
      "Data columns (total 7 columns):\n",
      " #   Column   Non-Null Count  Dtype  \n",
      "---  ------   --------------  -----  \n",
      " 0   CRIM     506 non-null    float64\n",
      " 1   NOX      506 non-null    float64\n",
      " 2   RM       506 non-null    float64\n",
      " 3   AGE      506 non-null    float64\n",
      " 4   PTRATIO  506 non-null    float64\n",
      " 5   LSTAT    506 non-null    float64\n",
      " 6   PRICE    506 non-null    float64\n",
      "dtypes: float64(7)\n",
      "memory usage: 27.8 KB\n"
     ]
    }
   ],
   "source": [
    "regression_df.info()"
   ]
  },
  {
   "cell_type": "code",
   "execution_count": 61,
   "metadata": {
    "ExecuteTime": {
     "end_time": "2023-02-08T02:15:00.341921Z",
     "start_time": "2023-02-08T02:15:00.336419Z"
    },
    "colab": {
     "base_uri": "https://localhost:8080/"
    },
    "executionInfo": {
     "elapsed": 11,
     "status": "ok",
     "timestamp": 1698803943369,
     "user": {
      "displayName": "Yvon Bilodeau",
      "userId": "10142856831792134633"
     },
     "user_tz": 420
    },
    "id": "uvcvdJUZ6YKX",
    "outputId": "c33ec5e8-9fdb-479c-d23a-b17558802b91"
   },
   "outputs": [
    {
     "data": {
      "text/plain": [
       "False"
      ]
     },
     "execution_count": 61,
     "metadata": {},
     "output_type": "execute_result"
    }
   ],
   "source": [
    "regression_df.duplicated().any()"
   ]
  },
  {
   "cell_type": "code",
   "execution_count": 62,
   "metadata": {
    "ExecuteTime": {
     "end_time": "2023-02-08T02:15:00.368107Z",
     "start_time": "2023-02-08T02:15:00.342920Z"
    },
    "colab": {
     "base_uri": "https://localhost:8080/",
     "height": 297
    },
    "executionInfo": {
     "elapsed": 6,
     "status": "ok",
     "timestamp": 1698803943370,
     "user": {
      "displayName": "Yvon Bilodeau",
      "userId": "10142856831792134633"
     },
     "user_tz": 420
    },
    "id": "IrxmHTaU6s3N",
    "outputId": "0429c421-e5cb-4196-9317-11279e5b8668"
   },
   "outputs": [
    {
     "data": {
      "text/html": [
       "<div>\n",
       "<style scoped>\n",
       "    .dataframe tbody tr th:only-of-type {\n",
       "        vertical-align: middle;\n",
       "    }\n",
       "\n",
       "    .dataframe tbody tr th {\n",
       "        vertical-align: top;\n",
       "    }\n",
       "\n",
       "    .dataframe thead th {\n",
       "        text-align: right;\n",
       "    }\n",
       "</style>\n",
       "<table border=\"1\" class=\"dataframe\">\n",
       "  <thead>\n",
       "    <tr style=\"text-align: right;\">\n",
       "      <th></th>\n",
       "      <th>CRIM</th>\n",
       "      <th>NOX</th>\n",
       "      <th>RM</th>\n",
       "      <th>AGE</th>\n",
       "      <th>PTRATIO</th>\n",
       "      <th>LSTAT</th>\n",
       "      <th>PRICE</th>\n",
       "    </tr>\n",
       "  </thead>\n",
       "  <tbody>\n",
       "    <tr>\n",
       "      <th>count</th>\n",
       "      <td>506.000000</td>\n",
       "      <td>506.000000</td>\n",
       "      <td>506.000000</td>\n",
       "      <td>506.000000</td>\n",
       "      <td>506.000000</td>\n",
       "      <td>506.000000</td>\n",
       "      <td>506.000000</td>\n",
       "    </tr>\n",
       "    <tr>\n",
       "      <th>mean</th>\n",
       "      <td>3.613524</td>\n",
       "      <td>0.554695</td>\n",
       "      <td>6.284634</td>\n",
       "      <td>68.574901</td>\n",
       "      <td>18.455534</td>\n",
       "      <td>12.653063</td>\n",
       "      <td>22.532806</td>\n",
       "    </tr>\n",
       "    <tr>\n",
       "      <th>std</th>\n",
       "      <td>8.601545</td>\n",
       "      <td>0.115878</td>\n",
       "      <td>0.702617</td>\n",
       "      <td>28.148861</td>\n",
       "      <td>2.164946</td>\n",
       "      <td>7.141062</td>\n",
       "      <td>9.197104</td>\n",
       "    </tr>\n",
       "    <tr>\n",
       "      <th>min</th>\n",
       "      <td>0.006320</td>\n",
       "      <td>0.385000</td>\n",
       "      <td>3.561000</td>\n",
       "      <td>2.900000</td>\n",
       "      <td>12.600000</td>\n",
       "      <td>1.730000</td>\n",
       "      <td>5.000000</td>\n",
       "    </tr>\n",
       "    <tr>\n",
       "      <th>25%</th>\n",
       "      <td>0.082045</td>\n",
       "      <td>0.449000</td>\n",
       "      <td>5.885500</td>\n",
       "      <td>45.025000</td>\n",
       "      <td>17.400000</td>\n",
       "      <td>6.950000</td>\n",
       "      <td>17.025000</td>\n",
       "    </tr>\n",
       "    <tr>\n",
       "      <th>50%</th>\n",
       "      <td>0.256510</td>\n",
       "      <td>0.538000</td>\n",
       "      <td>6.208500</td>\n",
       "      <td>77.500000</td>\n",
       "      <td>19.050000</td>\n",
       "      <td>11.360000</td>\n",
       "      <td>21.200000</td>\n",
       "    </tr>\n",
       "    <tr>\n",
       "      <th>75%</th>\n",
       "      <td>3.677083</td>\n",
       "      <td>0.624000</td>\n",
       "      <td>6.623500</td>\n",
       "      <td>94.075000</td>\n",
       "      <td>20.200000</td>\n",
       "      <td>16.955000</td>\n",
       "      <td>25.000000</td>\n",
       "    </tr>\n",
       "    <tr>\n",
       "      <th>max</th>\n",
       "      <td>88.976200</td>\n",
       "      <td>0.871000</td>\n",
       "      <td>8.780000</td>\n",
       "      <td>100.000000</td>\n",
       "      <td>22.000000</td>\n",
       "      <td>37.970000</td>\n",
       "      <td>50.000000</td>\n",
       "    </tr>\n",
       "  </tbody>\n",
       "</table>\n",
       "</div>"
      ],
      "text/plain": [
       "             CRIM         NOX          RM         AGE     PTRATIO       LSTAT  \\\n",
       "count  506.000000  506.000000  506.000000  506.000000  506.000000  506.000000   \n",
       "mean     3.613524    0.554695    6.284634   68.574901   18.455534   12.653063   \n",
       "std      8.601545    0.115878    0.702617   28.148861    2.164946    7.141062   \n",
       "min      0.006320    0.385000    3.561000    2.900000   12.600000    1.730000   \n",
       "25%      0.082045    0.449000    5.885500   45.025000   17.400000    6.950000   \n",
       "50%      0.256510    0.538000    6.208500   77.500000   19.050000   11.360000   \n",
       "75%      3.677083    0.624000    6.623500   94.075000   20.200000   16.955000   \n",
       "max     88.976200    0.871000    8.780000  100.000000   22.000000   37.970000   \n",
       "\n",
       "            PRICE  \n",
       "count  506.000000  \n",
       "mean    22.532806  \n",
       "std      9.197104  \n",
       "min      5.000000  \n",
       "25%     17.025000  \n",
       "50%     21.200000  \n",
       "75%     25.000000  \n",
       "max     50.000000  "
      ]
     },
     "execution_count": 62,
     "metadata": {},
     "output_type": "execute_result"
    }
   ],
   "source": [
    "regression_df.describe()"
   ]
  },
  {
   "cell_type": "code",
   "execution_count": 63,
   "metadata": {
    "ExecuteTime": {
     "end_time": "2023-02-08T02:15:00.377085Z",
     "start_time": "2023-02-08T02:15:00.370103Z"
    },
    "executionInfo": {
     "elapsed": 5,
     "status": "ok",
     "timestamp": 1698803943370,
     "user": {
      "displayName": "Yvon Bilodeau",
      "userId": "10142856831792134633"
     },
     "user_tz": 420
    },
    "id": "rU0zM_dk6xDd"
   },
   "outputs": [],
   "source": [
    "# Define X and Y and complete the train test split\n",
    "X = regression_df.drop(columns = 'PRICE')\n",
    "y = regression_df['PRICE']\n",
    "\n",
    "X_train, X_test, y_train, y_test = train_test_split(X, y, random_state = 42)"
   ]
  },
  {
   "cell_type": "markdown",
   "metadata": {
    "id": "MqS765vN8Xti"
   },
   "source": [
    "## Scaling\n",
    "\n",
    "### Important Notes\n",
    "- Always scale your data for deep learning.  \n",
    "- Otherwise you get a problem call 'Exploding Weights'.  \n",
    "- Some weights will be updated much faster than others because the inputs are at larger scales.  \n",
    "- This tends to hurt learning as data on smaller scales does not update as fast and doesn't get to contribute as much to the decision making process.  \n",
    "- By scaling we put all features on the same footing."
   ]
  },
  {
   "cell_type": "code",
   "execution_count": 64,
   "metadata": {
    "ExecuteTime": {
     "end_time": "2023-02-08T02:15:00.384069Z",
     "start_time": "2023-02-08T02:15:00.377085Z"
    },
    "executionInfo": {
     "elapsed": 216,
     "status": "ok",
     "timestamp": 1698803943582,
     "user": {
      "displayName": "Yvon Bilodeau",
      "userId": "10142856831792134633"
     },
     "user_tz": 420
    },
    "id": "bvCCtAhQ7gGe"
   },
   "outputs": [],
   "source": [
    "# Scale the data\n",
    "scaler = MinMaxScaler()\n",
    "scaler.fit(X_train)\n",
    "X_train_proc = scaler.transform(X_train)\n",
    "X_test_proc = scaler.transform(X_test)"
   ]
  },
  {
   "cell_type": "code",
   "execution_count": 65,
   "metadata": {},
   "outputs": [
    {
     "data": {
      "text/plain": [
       "(379, 6)"
      ]
     },
     "execution_count": 65,
     "metadata": {},
     "output_type": "execute_result"
    }
   ],
   "source": [
    "X_train_proc.shape"
   ]
  },
  {
   "cell_type": "markdown",
   "metadata": {
    "id": "BzX4RBcu8TFx"
   },
   "source": [
    "## First Simple Model\n",
    "\n",
    "We always want to start simple, as deep learning models can get very complex fast and more complex models take more time to train and are more prone to overfitting.  A well performing simple model is better than a well performing complex model.\n",
    "\n",
    "## Input layer\n",
    "The first layer we will define is not technically the input layer.  We will define the first hidden layer with a special argument that tells Keras how to create a input layer:\n",
    "\n",
    "`input_dim=`\n",
    "\n",
    "Input layers can also be defined manually using tensorflow.keras.layers.InputLayer\n",
    "\n",
    "## Activation function\n",
    "\n",
    "For the single hidden layer we will try just 3 nodes and use a ReLU activation.  ReLUs tend to perform well for hidden layers.\n",
    "\n",
    "## Output Layer\n",
    "\n",
    "For the output layer (last layer) we just use one node because we only want the output of the model to be one number.  We will use a linear activation function.  This will simply output the value from the weights and bias in the node with no change.  The output will be a continuous number, a float.  This will make our model a regression model.\n",
    "\n",
    "\n"
   ]
  },
  {
   "cell_type": "markdown",
   "metadata": {
    "id": "glnm6hhh4M6u"
   },
   "source": [
    "# Note:\n",
    "### The first layer you define will NOT be the input layer!  Keras will create an input layer on its own, implicitly."
   ]
  },
  {
   "cell_type": "code",
   "execution_count": 66,
   "metadata": {
    "ExecuteTime": {
     "end_time": "2023-02-08T02:23:47.149108Z",
     "start_time": "2023-02-08T02:23:47.117114Z"
    },
    "colab": {
     "base_uri": "https://localhost:8080/"
    },
    "executionInfo": {
     "elapsed": 191,
     "status": "ok",
     "timestamp": 1698803943771,
     "user": {
      "displayName": "Yvon Bilodeau",
      "userId": "10142856831792134633"
     },
     "user_tz": 420
    },
    "id": "AnjwY1dz7vcG",
    "outputId": "702a01f0-8afb-4f6d-e791-adc74722749a"
   },
   "outputs": [
    {
     "name": "stdout",
     "output_type": "stream",
     "text": [
      "Model: \"sequential\"\n",
      "_________________________________________________________________\n",
      " Layer (type)                Output Shape              Param #   \n",
      "=================================================================\n",
      " dense (Dense)               (None, 3)                 21        \n",
      "                                                                 \n",
      " dense_1 (Dense)             (None, 1)                 4         \n",
      "                                                                 \n",
      "=================================================================\n",
      "Total params: 25\n",
      "Trainable params: 25\n",
      "Non-trainable params: 0\n",
      "_________________________________________________________________\n"
     ]
    }
   ],
   "source": [
    "# Set Random Seeds\n",
    "keras.backend.clear_session()\n",
    "np.random.seed(42)\n",
    "tf.random.set_seed(42)\n",
    "\n",
    "# Instantiate your sequential model\n",
    "model = Sequential()\n",
    "# Add first hidden layer with 3 neurons THIS IS NOT THE INPUT LAYER!\n",
    "# Tell Keras how to construct the input layer shape using input_dim\n",
    "model.add(Dense(3, input_dim=X_train_proc.shape[1], activation='relu'))\n",
    "model.add(Dense(1))\n",
    "\n",
    "\n",
    "# Add output layer with 1 node\n",
    "\n",
    "model.summary()\n",
    "# Check summary of network\n",
    "\n",
    "from tensorflow.keras.metrics import RootMeanSquaredError\n",
    "# Compile your model.\n",
    "model.compile(loss='mse', optimizer='adam', metrics=['mae', RootMeanSquaredError()])"
   ]
  },
  {
   "cell_type": "markdown",
   "metadata": {
    "id": "9wAFuCDGOBzo"
   },
   "source": [
    "## Compiling\n",
    "\n",
    "Compiling the model puts all the pieces together to make it ready to train.  \n",
    "\n",
    "For this step, we need to specify a few other hyperparameters:\n",
    "\n",
    "* **Optimizer:** An Adam optimizer is a favorite and often performs well, it's a good place to start.\n",
    "  - Other optimizers : Gradient Descent, Stochastic Gradient Descent, Adagrad, RMSProp\n",
    "* **Loss Function:** 'mse' or mean squared error.  This is the number our model will try to reduce in each epoch.  Since this is a regression model we want our model to minimize the mean squared error.  A loss function ALWAYS needs to be a measurement of the total error that the model can REDUCE.  R^2 won't work because higher is better. We don't want the model to reduce R^2!\n",
    "* **Metrics:** 'mae' or mean absolute error.  We can provide a list of any appropriate metrics we want the model to keep track at each epoch.\n",
    "\n",
    "\n"
   ]
  },
  {
   "cell_type": "code",
   "execution_count": 67,
   "metadata": {
    "ExecuteTime": {
     "end_time": "2023-02-08T02:23:47.508163Z",
     "start_time": "2023-02-08T02:23:47.499157Z"
    },
    "executionInfo": {
     "elapsed": 165,
     "status": "ok",
     "timestamp": 1698803943935,
     "user": {
      "displayName": "Yvon Bilodeau",
      "userId": "10142856831792134633"
     },
     "user_tz": 420
    },
    "id": "AwAGvWCZN1WC"
   },
   "outputs": [],
   "source": [
    "from tensorflow.keras.metrics import RootMeanSquaredError\n",
    "\n"
   ]
  },
  {
   "cell_type": "markdown",
   "metadata": {
    "id": "sBvS_wkr_hEh"
   },
   "source": [
    "# Training (AKA fitting)\n",
    "\n",
    "Let's try training our model for 100 few epochs.  Sometimes that is enough, and it will give us an idea whether our model is learning anything."
   ]
  },
  {
   "cell_type": "code",
   "execution_count": 68,
   "metadata": {
    "ExecuteTime": {
     "end_time": "2023-02-08T02:23:54.798328Z",
     "start_time": "2023-02-08T02:23:48.643134Z"
    },
    "colab": {
     "base_uri": "https://localhost:8080/"
    },
    "executionInfo": {
     "elapsed": 22461,
     "status": "ok",
     "timestamp": 1698803966394,
     "user": {
      "displayName": "Yvon Bilodeau",
      "userId": "10142856831792134633"
     },
     "user_tz": 420
    },
    "id": "81VFx1n1-TS7",
    "outputId": "38986443-be8d-41c0-8a54-27c0bd8fe38b"
   },
   "outputs": [
    {
     "name": "stdout",
     "output_type": "stream",
     "text": [
      "Epoch 1/20\n",
      "12/12 [==============================] - 1s 15ms/step - loss: 595.2130 - mae: 22.5170 - root_mean_squared_error: 24.3970 - val_loss: 510.3401 - val_mae: 20.9923 - val_root_mean_squared_error: 22.5907\n",
      "Epoch 2/20\n",
      "12/12 [==============================] - 0s 5ms/step - loss: 592.7230 - mae: 22.4614 - root_mean_squared_error: 24.3459 - val_loss: 507.9207 - val_mae: 20.9342 - val_root_mean_squared_error: 22.5371\n",
      "Epoch 3/20\n",
      "12/12 [==============================] - 0s 4ms/step - loss: 590.0812 - mae: 22.4020 - root_mean_squared_error: 24.2916 - val_loss: 505.3587 - val_mae: 20.8725 - val_root_mean_squared_error: 22.4802\n",
      "Epoch 4/20\n",
      "12/12 [==============================] - 0s 4ms/step - loss: 587.2982 - mae: 22.3387 - root_mean_squared_error: 24.2342 - val_loss: 502.6423 - val_mae: 20.8066 - val_root_mean_squared_error: 22.4197\n",
      "Epoch 5/20\n",
      "12/12 [==============================] - 0s 4ms/step - loss: 584.3049 - mae: 22.2712 - root_mean_squared_error: 24.1724 - val_loss: 499.7808 - val_mae: 20.7366 - val_root_mean_squared_error: 22.3558\n",
      "Epoch 6/20\n",
      "12/12 [==============================] - 0s 4ms/step - loss: 581.1756 - mae: 22.1999 - root_mean_squared_error: 24.1076 - val_loss: 496.7595 - val_mae: 20.6622 - val_root_mean_squared_error: 22.2881\n",
      "Epoch 7/20\n",
      "12/12 [==============================] - 0s 4ms/step - loss: 577.8820 - mae: 22.1238 - root_mean_squared_error: 24.0392 - val_loss: 493.5787 - val_mae: 20.5834 - val_root_mean_squared_error: 22.2166\n",
      "Epoch 8/20\n",
      "12/12 [==============================] - 0s 4ms/step - loss: 574.4070 - mae: 22.0435 - root_mean_squared_error: 23.9668 - val_loss: 490.2445 - val_mae: 20.5001 - val_root_mean_squared_error: 22.1415\n",
      "Epoch 9/20\n",
      "12/12 [==============================] - 0s 4ms/step - loss: 570.7529 - mae: 21.9588 - root_mean_squared_error: 23.8904 - val_loss: 486.7723 - val_mae: 20.4129 - val_root_mean_squared_error: 22.0629\n",
      "Epoch 10/20\n",
      "12/12 [==============================] - 0s 5ms/step - loss: 566.9362 - mae: 21.8697 - root_mean_squared_error: 23.8104 - val_loss: 483.1570 - val_mae: 20.3211 - val_root_mean_squared_error: 21.9808\n",
      "Epoch 11/20\n",
      "12/12 [==============================] - 0s 4ms/step - loss: 562.9760 - mae: 21.7768 - root_mean_squared_error: 23.7271 - val_loss: 479.4084 - val_mae: 20.2255 - val_root_mean_squared_error: 21.8954\n",
      "Epoch 12/20\n",
      "12/12 [==============================] - 0s 5ms/step - loss: 558.8817 - mae: 21.6792 - root_mean_squared_error: 23.6407 - val_loss: 475.5208 - val_mae: 20.1257 - val_root_mean_squared_error: 21.8064\n",
      "Epoch 13/20\n",
      "12/12 [==============================] - 0s 4ms/step - loss: 554.6802 - mae: 21.5780 - root_mean_squared_error: 23.5516 - val_loss: 471.4828 - val_mae: 20.0212 - val_root_mean_squared_error: 21.7137\n",
      "Epoch 14/20\n",
      "12/12 [==============================] - 0s 4ms/step - loss: 550.2582 - mae: 21.4735 - root_mean_squared_error: 23.4576 - val_loss: 467.3875 - val_mae: 19.9146 - val_root_mean_squared_error: 21.6191\n",
      "Epoch 15/20\n",
      "12/12 [==============================] - 0s 4ms/step - loss: 545.8228 - mae: 21.3653 - root_mean_squared_error: 23.3629 - val_loss: 463.1152 - val_mae: 19.8027 - val_root_mean_squared_error: 21.5201\n",
      "Epoch 16/20\n",
      "12/12 [==============================] - 0s 4ms/step - loss: 541.1782 - mae: 21.2523 - root_mean_squared_error: 23.2632 - val_loss: 458.7603 - val_mae: 19.6879 - val_root_mean_squared_error: 21.4187\n",
      "Epoch 17/20\n",
      "12/12 [==============================] - 0s 4ms/step - loss: 536.4782 - mae: 21.1359 - root_mean_squared_error: 23.1620 - val_loss: 454.2560 - val_mae: 19.5683 - val_root_mean_squared_error: 21.3133\n",
      "Epoch 18/20\n",
      "12/12 [==============================] - 0s 4ms/step - loss: 531.5594 - mae: 21.0164 - root_mean_squared_error: 23.0556 - val_loss: 449.7094 - val_mae: 19.4467 - val_root_mean_squared_error: 21.2064\n",
      "Epoch 19/20\n",
      "12/12 [==============================] - 0s 4ms/step - loss: 526.6052 - mae: 20.8928 - root_mean_squared_error: 22.9479 - val_loss: 445.0260 - val_mae: 19.3205 - val_root_mean_squared_error: 21.0956\n",
      "Epoch 20/20\n",
      "12/12 [==============================] - 0s 5ms/step - loss: 521.5593 - mae: 20.7656 - root_mean_squared_error: 22.8377 - val_loss: 440.2062 - val_mae: 19.1897 - val_root_mean_squared_error: 20.9811\n",
      "CPU times: total: 1.17 s\n",
      "Wall time: 2.04 s\n"
     ]
    }
   ],
   "source": [
    "%%time\n",
    "# Fit your model\n",
    "history = model.fit(X_train_proc, y_train, \n",
    "                    validation_data=(X_test_proc, y_test),\n",
    "                    epochs=20)\n"
   ]
  },
  {
   "cell_type": "code",
   "execution_count": 69,
   "metadata": {
    "ExecuteTime": {
     "end_time": "2023-02-08T02:23:55.237007Z",
     "start_time": "2023-02-08T02:23:54.799327Z"
    },
    "colab": {
     "base_uri": "https://localhost:8080/",
     "height": 1000
    },
    "executionInfo": {
     "elapsed": 816,
     "status": "ok",
     "timestamp": 1698803967207,
     "user": {
      "displayName": "Yvon Bilodeau",
      "userId": "10142856831792134633"
     },
     "user_tz": 420
    },
    "id": "q8Kox9hOOq7w",
    "outputId": "5b8cc291-1371-4b95-a2a1-67dff8477e19"
   },
   "outputs": [
    {
     "data": {
      "image/png": "[encoded data removed]",
      "text/plain": [
       "<Figure size 640x480 with 1 Axes>"
      ]
     },
     "metadata": {},
     "output_type": "display_data"
    },
    {
     "data": {
      "image/png": "[encoded data removed]",
      "text/plain": [
       "<Figure size 640x480 with 1 Axes>"
      ]
     },
     "metadata": {},
     "output_type": "display_data"
    },
    {
     "data": {
      "image/png": "[encoded data removed]",
      "text/plain": [
       "<Figure size 640x480 with 1 Axes>"
      ]
     },
     "metadata": {},
     "output_type": "display_data"
    }
   ],
   "source": [
    "# Apply the custom function plot_history() to see how your model is doing\n",
    "plot_history(history)\n"
   ]
  },
  {
   "cell_type": "markdown",
   "metadata": {
    "id": "1Ic8eFsL_x2m"
   },
   "source": [
    "## Evaluation\n"
   ]
  },
  {
   "cell_type": "code",
   "execution_count": 70,
   "metadata": {
    "ExecuteTime": {
     "end_time": "2023-02-08T02:24:13.846087Z",
     "start_time": "2023-02-08T02:24:13.638158Z"
    },
    "colab": {
     "base_uri": "https://localhost:8080/",
     "height": 176
    },
    "executionInfo": {
     "elapsed": 244,
     "status": "ok",
     "timestamp": 1698803967448,
     "user": {
      "displayName": "Yvon Bilodeau",
      "userId": "10142856831792134633"
     },
     "user_tz": 420
    },
    "id": "33J5dOt3A8ZO",
    "outputId": "53d33b0a-4c41-470d-e0e1-b3c9584b0f66"
   },
   "outputs": [
    {
     "name": "stdout",
     "output_type": "stream",
     "text": [
      "12/12 [==============================] - 0s 1ms/step\n",
      "4/4 [==============================] - 0s 999us/step\n"
     ]
    },
    {
     "data": {
      "text/html": [
       "<div>\n",
       "<style scoped>\n",
       "    .dataframe tbody tr th:only-of-type {\n",
       "        vertical-align: middle;\n",
       "    }\n",
       "\n",
       "    .dataframe tbody tr th {\n",
       "        vertical-align: top;\n",
       "    }\n",
       "\n",
       "    .dataframe thead th {\n",
       "        text-align: right;\n",
       "    }\n",
       "</style>\n",
       "<table border=\"1\" class=\"dataframe\">\n",
       "  <thead>\n",
       "    <tr style=\"text-align: right;\">\n",
       "      <th></th>\n",
       "      <th>RMSE</th>\n",
       "      <th>MAE</th>\n",
       "      <th>R2</th>\n",
       "    </tr>\n",
       "    <tr>\n",
       "      <th>Model Name</th>\n",
       "      <th></th>\n",
       "      <th></th>\n",
       "      <th></th>\n",
       "    </tr>\n",
       "  </thead>\n",
       "  <tbody>\n",
       "    <tr>\n",
       "      <th>reg_model_train</th>\n",
       "      <td>22.773776</td>\n",
       "      <td>20.694171</td>\n",
       "      <td>-4.848385</td>\n",
       "    </tr>\n",
       "    <tr>\n",
       "      <th>reg_model_test</th>\n",
       "      <td>20.981090</td>\n",
       "      <td>19.189681</td>\n",
       "      <td>-5.286222</td>\n",
       "    </tr>\n",
       "  </tbody>\n",
       "</table>\n",
       "</div>"
      ],
      "text/plain": [
       "                      RMSE        MAE        R2\n",
       "Model Name                                     \n",
       "reg_model_train  22.773776  20.694171 -4.848385\n",
       "reg_model_test   20.981090  19.189681 -5.286222"
      ]
     },
     "execution_count": 70,
     "metadata": {},
     "output_type": "execute_result"
    }
   ],
   "source": [
    "# Make predictions and evaluate your model\n",
    "train_preds = model.predict(X_train_proc)\n",
    "test_preds = model.predict(X_test_proc)\n",
    "\n",
    "train_scores = eval_regression(y_train, train_preds, name='reg_model_train')\n",
    "test_scores = eval_regression(y_test, test_preds, name='reg_model_test')\n",
    "\n",
    "reg_scores = pd.concat([train_scores, test_scores])\n",
    "reg_scores"
   ]
  },
  {
   "cell_type": "markdown",
   "metadata": {
    "id": "TvQ16n8x7RWb"
   },
   "source": [
    "# <center> Temperature Check: </center>\n",
    "## On a scale of 0 - 5, how confident do you feel in coding neural networks?\n",
    "\n",
    "0. What is a neural net?\n",
    "1. I know what a neural net is, but I don't know how to even start coding one.\n",
    "2. I kinda get how the code flows, but need help from someone else to create my own.\n",
    "3. I understand the general idea, and could code a neural net in Keras if I had an example in front of me.\n",
    "4. I feel confident in coding a neural network with some reference materials.\n",
    "5. Move over, Josh.  I can finish this code-along."
   ]
  },
  {
   "cell_type": "markdown",
   "metadata": {
    "id": "NWaTq6c7FHlr"
   },
   "source": [
    "\n",
    "# Classification Models in Keras\n",
    "\n",
    "Classification models are similar, except that we need to adjust:\n",
    "* The final activation of the output layer, and\n",
    "* The loss function and metrics in the compile step.\n",
    "\n",
    "We will also need to do some processing of the predictions after training to make them integers instead of floats.\n",
    "\n",
    "### Remember:\n",
    "MAE, MSE, RMSE, and R2 are regression metrics,\n",
    "\n",
    "accuracy, recall, precision, and F1-Score are classification metrics.\n",
    "\n",
    "## Classification Dataset\n",
    "The classification dataset describes diabetes rates among Pima Indians.  Each row is a person and this dataset includes features regarding health related measurements.  The target is binary and represents whether or not a person will be diagnosed with diabetes.  This is another old dataset first presented in 1988.\n",
    "\n"
   ]
  },
  {
   "cell_type": "code",
   "execution_count": 71,
   "metadata": {
    "colab": {
     "base_uri": "https://localhost:8080/",
     "height": 204
    },
    "executionInfo": {
     "elapsed": 17,
     "status": "ok",
     "timestamp": 1698803967448,
     "user": {
      "displayName": "Yvon Bilodeau",
      "userId": "10142856831792134633"
     },
     "user_tz": 420
    },
    "id": "CN1zHoGcGeFN",
    "outputId": "f0c37e65-f3e9-49fb-c46b-c42d66ef7117"
   },
   "outputs": [
    {
     "data": {
      "text/html": [
       "<div>\n",
       "<style scoped>\n",
       "    .dataframe tbody tr th:only-of-type {\n",
       "        vertical-align: middle;\n",
       "    }\n",
       "\n",
       "    .dataframe tbody tr th {\n",
       "        vertical-align: top;\n",
       "    }\n",
       "\n",
       "    .dataframe thead th {\n",
       "        text-align: right;\n",
       "    }\n",
       "</style>\n",
       "<table border=\"1\" class=\"dataframe\">\n",
       "  <thead>\n",
       "    <tr style=\"text-align: right;\">\n",
       "      <th></th>\n",
       "      <th>Pregnancies</th>\n",
       "      <th>Glucose</th>\n",
       "      <th>BloodPressure</th>\n",
       "      <th>SkinThickness</th>\n",
       "      <th>Insulin</th>\n",
       "      <th>BMI</th>\n",
       "      <th>DiabetesPedigreeFunction</th>\n",
       "      <th>Age</th>\n",
       "      <th>Outcome</th>\n",
       "    </tr>\n",
       "  </thead>\n",
       "  <tbody>\n",
       "    <tr>\n",
       "      <th>0</th>\n",
       "      <td>6</td>\n",
       "      <td>148</td>\n",
       "      <td>72</td>\n",
       "      <td>35</td>\n",
       "      <td>0</td>\n",
       "      <td>33.6</td>\n",
       "      <td>0.627</td>\n",
       "      <td>50</td>\n",
       "      <td>1</td>\n",
       "    </tr>\n",
       "    <tr>\n",
       "      <th>1</th>\n",
       "      <td>1</td>\n",
       "      <td>85</td>\n",
       "      <td>66</td>\n",
       "      <td>29</td>\n",
       "      <td>0</td>\n",
       "      <td>26.6</td>\n",
       "      <td>0.351</td>\n",
       "      <td>31</td>\n",
       "      <td>0</td>\n",
       "    </tr>\n",
       "    <tr>\n",
       "      <th>2</th>\n",
       "      <td>8</td>\n",
       "      <td>183</td>\n",
       "      <td>64</td>\n",
       "      <td>0</td>\n",
       "      <td>0</td>\n",
       "      <td>23.3</td>\n",
       "      <td>0.672</td>\n",
       "      <td>32</td>\n",
       "      <td>1</td>\n",
       "    </tr>\n",
       "    <tr>\n",
       "      <th>3</th>\n",
       "      <td>1</td>\n",
       "      <td>89</td>\n",
       "      <td>66</td>\n",
       "      <td>23</td>\n",
       "      <td>94</td>\n",
       "      <td>28.1</td>\n",
       "      <td>0.167</td>\n",
       "      <td>21</td>\n",
       "      <td>0</td>\n",
       "    </tr>\n",
       "    <tr>\n",
       "      <th>4</th>\n",
       "      <td>0</td>\n",
       "      <td>137</td>\n",
       "      <td>40</td>\n",
       "      <td>35</td>\n",
       "      <td>168</td>\n",
       "      <td>43.1</td>\n",
       "      <td>2.288</td>\n",
       "      <td>33</td>\n",
       "      <td>1</td>\n",
       "    </tr>\n",
       "  </tbody>\n",
       "</table>\n",
       "</div>"
      ],
      "text/plain": [
       "   Pregnancies  Glucose  BloodPressure  SkinThickness  Insulin   BMI  \\\n",
       "0            6      148             72             35        0  33.6   \n",
       "1            1       85             66             29        0  26.6   \n",
       "2            8      183             64              0        0  23.3   \n",
       "3            1       89             66             23       94  28.1   \n",
       "4            0      137             40             35      168  43.1   \n",
       "\n",
       "   DiabetesPedigreeFunction  Age  Outcome  \n",
       "0                     0.627   50        1  \n",
       "1                     0.351   31        0  \n",
       "2                     0.672   32        1  \n",
       "3                     0.167   21        0  \n",
       "4                     2.288   33        1  "
      ]
     },
     "execution_count": 71,
     "metadata": {},
     "output_type": "execute_result"
    }
   ],
   "source": [
    "classification_df = pd.read_csv('https://raw.githubusercontent.com/ninja-josh/image-storage/main/diabetes.csv')\n",
    "classification_df.head()"
   ]
  },
  {
   "cell_type": "code",
   "execution_count": 72,
   "metadata": {
    "colab": {
     "base_uri": "https://localhost:8080/"
    },
    "executionInfo": {
     "elapsed": 16,
     "status": "ok",
     "timestamp": 1698803967448,
     "user": {
      "displayName": "Yvon Bilodeau",
      "userId": "10142856831792134633"
     },
     "user_tz": 420
    },
    "id": "isTaHNFpGjQH",
    "outputId": "f8373e6d-e9c3-40d4-d790-f71c23b701f9"
   },
   "outputs": [
    {
     "name": "stdout",
     "output_type": "stream",
     "text": [
      "<class 'pandas.core.frame.DataFrame'>\n",
      "RangeIndex: 768 entries, 0 to 767\n",
      "Data columns (total 9 columns):\n",
      " #   Column                    Non-Null Count  Dtype  \n",
      "---  ------                    --------------  -----  \n",
      " 0   Pregnancies               768 non-null    int64  \n",
      " 1   Glucose                   768 non-null    int64  \n",
      " 2   BloodPressure             768 non-null    int64  \n",
      " 3   SkinThickness             768 non-null    int64  \n",
      " 4   Insulin                   768 non-null    int64  \n",
      " 5   BMI                       768 non-null    float64\n",
      " 6   DiabetesPedigreeFunction  768 non-null    float64\n",
      " 7   Age                       768 non-null    int64  \n",
      " 8   Outcome                   768 non-null    int64  \n",
      "dtypes: float64(2), int64(7)\n",
      "memory usage: 54.1 KB\n"
     ]
    }
   ],
   "source": [
    "classification_df.info()"
   ]
  },
  {
   "cell_type": "code",
   "execution_count": 73,
   "metadata": {
    "colab": {
     "base_uri": "https://localhost:8080/"
    },
    "executionInfo": {
     "elapsed": 10,
     "status": "ok",
     "timestamp": 1698803967448,
     "user": {
      "displayName": "Yvon Bilodeau",
      "userId": "10142856831792134633"
     },
     "user_tz": 420
    },
    "id": "HtZv-V73Gmjv",
    "outputId": "0cf5fa9f-33cc-47d1-b828-702de2a6f890"
   },
   "outputs": [
    {
     "data": {
      "text/plain": [
       "False"
      ]
     },
     "execution_count": 73,
     "metadata": {},
     "output_type": "execute_result"
    }
   ],
   "source": [
    "classification_df.duplicated().any()"
   ]
  },
  {
   "cell_type": "code",
   "execution_count": 74,
   "metadata": {
    "colab": {
     "base_uri": "https://localhost:8080/",
     "height": 297
    },
    "executionInfo": {
     "elapsed": 244,
     "status": "ok",
     "timestamp": 1698803967688,
     "user": {
      "displayName": "Yvon Bilodeau",
      "userId": "10142856831792134633"
     },
     "user_tz": 420
    },
    "id": "sdF3qT-9Gp_s",
    "outputId": "c2110d77-0c19-4268-b285-32c2640cedd0"
   },
   "outputs": [
    {
     "data": {
      "text/html": [
       "<div>\n",
       "<style scoped>\n",
       "    .dataframe tbody tr th:only-of-type {\n",
       "        vertical-align: middle;\n",
       "    }\n",
       "\n",
       "    .dataframe tbody tr th {\n",
       "        vertical-align: top;\n",
       "    }\n",
       "\n",
       "    .dataframe thead th {\n",
       "        text-align: right;\n",
       "    }\n",
       "</style>\n",
       "<table border=\"1\" class=\"dataframe\">\n",
       "  <thead>\n",
       "    <tr style=\"text-align: right;\">\n",
       "      <th></th>\n",
       "      <th>Pregnancies</th>\n",
       "      <th>Glucose</th>\n",
       "      <th>BloodPressure</th>\n",
       "      <th>SkinThickness</th>\n",
       "      <th>Insulin</th>\n",
       "      <th>BMI</th>\n",
       "      <th>DiabetesPedigreeFunction</th>\n",
       "      <th>Age</th>\n",
       "      <th>Outcome</th>\n",
       "    </tr>\n",
       "  </thead>\n",
       "  <tbody>\n",
       "    <tr>\n",
       "      <th>count</th>\n",
       "      <td>768.000000</td>\n",
       "      <td>768.000000</td>\n",
       "      <td>768.000000</td>\n",
       "      <td>768.000000</td>\n",
       "      <td>768.000000</td>\n",
       "      <td>768.000000</td>\n",
       "      <td>768.000000</td>\n",
       "      <td>768.000000</td>\n",
       "      <td>768.000000</td>\n",
       "    </tr>\n",
       "    <tr>\n",
       "      <th>mean</th>\n",
       "      <td>3.845052</td>\n",
       "      <td>120.894531</td>\n",
       "      <td>69.105469</td>\n",
       "      <td>20.536458</td>\n",
       "      <td>79.799479</td>\n",
       "      <td>31.992578</td>\n",
       "      <td>0.471876</td>\n",
       "      <td>33.240885</td>\n",
       "      <td>0.348958</td>\n",
       "    </tr>\n",
       "    <tr>\n",
       "      <th>std</th>\n",
       "      <td>3.369578</td>\n",
       "      <td>31.972618</td>\n",
       "      <td>19.355807</td>\n",
       "      <td>15.952218</td>\n",
       "      <td>115.244002</td>\n",
       "      <td>7.884160</td>\n",
       "      <td>0.331329</td>\n",
       "      <td>11.760232</td>\n",
       "      <td>0.476951</td>\n",
       "    </tr>\n",
       "    <tr>\n",
       "      <th>min</th>\n",
       "      <td>0.000000</td>\n",
       "      <td>0.000000</td>\n",
       "      <td>0.000000</td>\n",
       "      <td>0.000000</td>\n",
       "      <td>0.000000</td>\n",
       "      <td>0.000000</td>\n",
       "      <td>0.078000</td>\n",
       "      <td>21.000000</td>\n",
       "      <td>0.000000</td>\n",
       "    </tr>\n",
       "    <tr>\n",
       "      <th>25%</th>\n",
       "      <td>1.000000</td>\n",
       "      <td>99.000000</td>\n",
       "      <td>62.000000</td>\n",
       "      <td>0.000000</td>\n",
       "      <td>0.000000</td>\n",
       "      <td>27.300000</td>\n",
       "      <td>0.243750</td>\n",
       "      <td>24.000000</td>\n",
       "      <td>0.000000</td>\n",
       "    </tr>\n",
       "    <tr>\n",
       "      <th>50%</th>\n",
       "      <td>3.000000</td>\n",
       "      <td>117.000000</td>\n",
       "      <td>72.000000</td>\n",
       "      <td>23.000000</td>\n",
       "      <td>30.500000</td>\n",
       "      <td>32.000000</td>\n",
       "      <td>0.372500</td>\n",
       "      <td>29.000000</td>\n",
       "      <td>0.000000</td>\n",
       "    </tr>\n",
       "    <tr>\n",
       "      <th>75%</th>\n",
       "      <td>6.000000</td>\n",
       "      <td>140.250000</td>\n",
       "      <td>80.000000</td>\n",
       "      <td>32.000000</td>\n",
       "      <td>127.250000</td>\n",
       "      <td>36.600000</td>\n",
       "      <td>0.626250</td>\n",
       "      <td>41.000000</td>\n",
       "      <td>1.000000</td>\n",
       "    </tr>\n",
       "    <tr>\n",
       "      <th>max</th>\n",
       "      <td>17.000000</td>\n",
       "      <td>199.000000</td>\n",
       "      <td>122.000000</td>\n",
       "      <td>99.000000</td>\n",
       "      <td>846.000000</td>\n",
       "      <td>67.100000</td>\n",
       "      <td>2.420000</td>\n",
       "      <td>81.000000</td>\n",
       "      <td>1.000000</td>\n",
       "    </tr>\n",
       "  </tbody>\n",
       "</table>\n",
       "</div>"
      ],
      "text/plain": [
       "       Pregnancies     Glucose  BloodPressure  SkinThickness     Insulin  \\\n",
       "count   768.000000  768.000000     768.000000     768.000000  768.000000   \n",
       "mean      3.845052  120.894531      69.105469      20.536458   79.799479   \n",
       "std       3.369578   31.972618      19.355807      15.952218  115.244002   \n",
       "min       0.000000    0.000000       0.000000       0.000000    0.000000   \n",
       "25%       1.000000   99.000000      62.000000       0.000000    0.000000   \n",
       "50%       3.000000  117.000000      72.000000      23.000000   30.500000   \n",
       "75%       6.000000  140.250000      80.000000      32.000000  127.250000   \n",
       "max      17.000000  199.000000     122.000000      99.000000  846.000000   \n",
       "\n",
       "              BMI  DiabetesPedigreeFunction         Age     Outcome  \n",
       "count  768.000000                768.000000  768.000000  768.000000  \n",
       "mean    31.992578                  0.471876   33.240885    0.348958  \n",
       "std      7.884160                  0.331329   11.760232    0.476951  \n",
       "min      0.000000                  0.078000   21.000000    0.000000  \n",
       "25%     27.300000                  0.243750   24.000000    0.000000  \n",
       "50%     32.000000                  0.372500   29.000000    0.000000  \n",
       "75%     36.600000                  0.626250   41.000000    1.000000  \n",
       "max     67.100000                  2.420000   81.000000    1.000000  "
      ]
     },
     "execution_count": 74,
     "metadata": {},
     "output_type": "execute_result"
    }
   ],
   "source": [
    "classification_df.describe()"
   ]
  },
  {
   "cell_type": "markdown",
   "metadata": {
    "id": "l8cjiy3BGvLa"
   },
   "source": [
    "### Important Note:\n",
    "We see minimums for Glucose, BloodPression, SkinThickness, Insulin, and BMI of 0s.  Those are impossible for humans, so lets drop those rows."
   ]
  },
  {
   "cell_type": "code",
   "execution_count": 75,
   "metadata": {
    "colab": {
     "base_uri": "https://localhost:8080/",
     "height": 297
    },
    "executionInfo": {
     "elapsed": 23,
     "status": "ok",
     "timestamp": 1698803967689,
     "user": {
      "displayName": "Yvon Bilodeau",
      "userId": "10142856831792134633"
     },
     "user_tz": 420
    },
    "id": "TwzoeFVWG6Dd",
    "outputId": "1c35a985-cea6-441a-b58a-b8fdcab78117"
   },
   "outputs": [
    {
     "data": {
      "text/html": [
       "<div>\n",
       "<style scoped>\n",
       "    .dataframe tbody tr th:only-of-type {\n",
       "        vertical-align: middle;\n",
       "    }\n",
       "\n",
       "    .dataframe tbody tr th {\n",
       "        vertical-align: top;\n",
       "    }\n",
       "\n",
       "    .dataframe thead th {\n",
       "        text-align: right;\n",
       "    }\n",
       "</style>\n",
       "<table border=\"1\" class=\"dataframe\">\n",
       "  <thead>\n",
       "    <tr style=\"text-align: right;\">\n",
       "      <th></th>\n",
       "      <th>Pregnancies</th>\n",
       "      <th>Glucose</th>\n",
       "      <th>BloodPressure</th>\n",
       "      <th>SkinThickness</th>\n",
       "      <th>Insulin</th>\n",
       "      <th>BMI</th>\n",
       "      <th>DiabetesPedigreeFunction</th>\n",
       "      <th>Age</th>\n",
       "      <th>Outcome</th>\n",
       "    </tr>\n",
       "  </thead>\n",
       "  <tbody>\n",
       "    <tr>\n",
       "      <th>count</th>\n",
       "      <td>392.000000</td>\n",
       "      <td>392.000000</td>\n",
       "      <td>392.000000</td>\n",
       "      <td>392.000000</td>\n",
       "      <td>392.000000</td>\n",
       "      <td>392.000000</td>\n",
       "      <td>392.000000</td>\n",
       "      <td>392.000000</td>\n",
       "      <td>392.000000</td>\n",
       "    </tr>\n",
       "    <tr>\n",
       "      <th>mean</th>\n",
       "      <td>3.301020</td>\n",
       "      <td>122.627551</td>\n",
       "      <td>70.663265</td>\n",
       "      <td>29.145408</td>\n",
       "      <td>156.056122</td>\n",
       "      <td>33.086224</td>\n",
       "      <td>0.523046</td>\n",
       "      <td>30.864796</td>\n",
       "      <td>0.331633</td>\n",
       "    </tr>\n",
       "    <tr>\n",
       "      <th>std</th>\n",
       "      <td>3.211424</td>\n",
       "      <td>30.860781</td>\n",
       "      <td>12.496092</td>\n",
       "      <td>10.516424</td>\n",
       "      <td>118.841690</td>\n",
       "      <td>7.027659</td>\n",
       "      <td>0.345488</td>\n",
       "      <td>10.200777</td>\n",
       "      <td>0.471401</td>\n",
       "    </tr>\n",
       "    <tr>\n",
       "      <th>min</th>\n",
       "      <td>0.000000</td>\n",
       "      <td>56.000000</td>\n",
       "      <td>24.000000</td>\n",
       "      <td>7.000000</td>\n",
       "      <td>14.000000</td>\n",
       "      <td>18.200000</td>\n",
       "      <td>0.085000</td>\n",
       "      <td>21.000000</td>\n",
       "      <td>0.000000</td>\n",
       "    </tr>\n",
       "    <tr>\n",
       "      <th>25%</th>\n",
       "      <td>1.000000</td>\n",
       "      <td>99.000000</td>\n",
       "      <td>62.000000</td>\n",
       "      <td>21.000000</td>\n",
       "      <td>76.750000</td>\n",
       "      <td>28.400000</td>\n",
       "      <td>0.269750</td>\n",
       "      <td>23.000000</td>\n",
       "      <td>0.000000</td>\n",
       "    </tr>\n",
       "    <tr>\n",
       "      <th>50%</th>\n",
       "      <td>2.000000</td>\n",
       "      <td>119.000000</td>\n",
       "      <td>70.000000</td>\n",
       "      <td>29.000000</td>\n",
       "      <td>125.500000</td>\n",
       "      <td>33.200000</td>\n",
       "      <td>0.449500</td>\n",
       "      <td>27.000000</td>\n",
       "      <td>0.000000</td>\n",
       "    </tr>\n",
       "    <tr>\n",
       "      <th>75%</th>\n",
       "      <td>5.000000</td>\n",
       "      <td>143.000000</td>\n",
       "      <td>78.000000</td>\n",
       "      <td>37.000000</td>\n",
       "      <td>190.000000</td>\n",
       "      <td>37.100000</td>\n",
       "      <td>0.687000</td>\n",
       "      <td>36.000000</td>\n",
       "      <td>1.000000</td>\n",
       "    </tr>\n",
       "    <tr>\n",
       "      <th>max</th>\n",
       "      <td>17.000000</td>\n",
       "      <td>198.000000</td>\n",
       "      <td>110.000000</td>\n",
       "      <td>63.000000</td>\n",
       "      <td>846.000000</td>\n",
       "      <td>67.100000</td>\n",
       "      <td>2.420000</td>\n",
       "      <td>81.000000</td>\n",
       "      <td>1.000000</td>\n",
       "    </tr>\n",
       "  </tbody>\n",
       "</table>\n",
       "</div>"
      ],
      "text/plain": [
       "       Pregnancies     Glucose  BloodPressure  SkinThickness     Insulin  \\\n",
       "count   392.000000  392.000000     392.000000     392.000000  392.000000   \n",
       "mean      3.301020  122.627551      70.663265      29.145408  156.056122   \n",
       "std       3.211424   30.860781      12.496092      10.516424  118.841690   \n",
       "min       0.000000   56.000000      24.000000       7.000000   14.000000   \n",
       "25%       1.000000   99.000000      62.000000      21.000000   76.750000   \n",
       "50%       2.000000  119.000000      70.000000      29.000000  125.500000   \n",
       "75%       5.000000  143.000000      78.000000      37.000000  190.000000   \n",
       "max      17.000000  198.000000     110.000000      63.000000  846.000000   \n",
       "\n",
       "              BMI  DiabetesPedigreeFunction         Age     Outcome  \n",
       "count  392.000000                392.000000  392.000000  392.000000  \n",
       "mean    33.086224                  0.523046   30.864796    0.331633  \n",
       "std      7.027659                  0.345488   10.200777    0.471401  \n",
       "min     18.200000                  0.085000   21.000000    0.000000  \n",
       "25%     28.400000                  0.269750   23.000000    0.000000  \n",
       "50%     33.200000                  0.449500   27.000000    0.000000  \n",
       "75%     37.100000                  0.687000   36.000000    1.000000  \n",
       "max     67.100000                  2.420000   81.000000    1.000000  "
      ]
     },
     "execution_count": 75,
     "metadata": {},
     "output_type": "execute_result"
    }
   ],
   "source": [
    "no_glucose = classification_df['Glucose'] == 0\n",
    "no_blood = classification_df['BloodPressure'] == 0\n",
    "no_skin = classification_df['SkinThickness'] == 0\n",
    "no_insulin = classification_df['Insulin'] == 0\n",
    "no_bmi = classification_df['BMI'] == 0\n",
    "\n",
    "#class_df_clean excludes rows that have no values == 0 in the above columns\n",
    "class_df_clean = classification_df[~(no_glucose |\n",
    "                                     no_blood |\n",
    "                                     no_skin |\n",
    "                                     no_insulin |\n",
    "                                     no_bmi)]\n",
    "class_df_clean.describe()"
   ]
  },
  {
   "cell_type": "markdown",
   "metadata": {
    "id": "oQqWsTbaM5It"
   },
   "source": [
    "We lost a lot of data, going from 768 samples to 392 samples.  In the future we might impute this data using means, medians, or other imputation strategies.  For this exercise we won't focus on that."
   ]
  },
  {
   "cell_type": "markdown",
   "metadata": {
    "id": "H3mqMU6SJZlO"
   },
   "source": [
    "### Important Note:\n",
    "\n",
    "This stratify parameter makes a split so that the proportion of values in the sample produced will be the same as the proportion of values provided to parameter stratify.\n",
    "\n",
    "For example, if variable y is a binary categorical variable with values 0 and 1 and there are 25% of zeros and 75% of ones, stratify=y will make sure that your random split has 25% of 0's and 75% of 1's."
   ]
  },
  {
   "cell_type": "code",
   "execution_count": 76,
   "metadata": {
    "executionInfo": {
     "elapsed": 22,
     "status": "ok",
     "timestamp": 1698803967689,
     "user": {
      "displayName": "Yvon Bilodeau",
      "userId": "10142856831792134633"
     },
     "user_tz": 420
    },
    "id": "JjREwrWgGPtP"
   },
   "outputs": [],
   "source": [
    "# Define X and y and train test split\n",
    "X = class_df_clean.drop(columns = 'Outcome')\n",
    "y = class_df_clean['Outcome']\n",
    "\n",
    "\n",
    "X_train, X_test, y_train, y_test = train_test_split(X, y, random_state = 42, stratify = y)"
   ]
  },
  {
   "cell_type": "code",
   "execution_count": 77,
   "metadata": {
    "colab": {
     "base_uri": "https://localhost:8080/"
    },
    "executionInfo": {
     "elapsed": 22,
     "status": "ok",
     "timestamp": 1698803967689,
     "user": {
      "displayName": "Yvon Bilodeau",
      "userId": "10142856831792134633"
     },
     "user_tz": 420
    },
    "id": "bE0MPxsBJZlP",
    "outputId": "243735cd-5b06-403c-b4dc-6ad4292d3b75"
   },
   "outputs": [
    {
     "data": {
      "text/plain": [
       "0    0.668367\n",
       "1    0.331633\n",
       "Name: Outcome, dtype: float64"
      ]
     },
     "execution_count": 77,
     "metadata": {},
     "output_type": "execute_result"
    }
   ],
   "source": [
    "# Proportions of 0 and 1 in the dataset\n",
    "y.value_counts(normalize=True)"
   ]
  },
  {
   "cell_type": "code",
   "execution_count": 78,
   "metadata": {
    "colab": {
     "base_uri": "https://localhost:8080/"
    },
    "executionInfo": {
     "elapsed": 16,
     "status": "ok",
     "timestamp": 1698803967689,
     "user": {
      "displayName": "Yvon Bilodeau",
      "userId": "10142856831792134633"
     },
     "user_tz": 420
    },
    "id": "sO-5i_X7JZlP",
    "outputId": "ca91fca6-df64-4fb6-9d3a-4b1c9211e606"
   },
   "outputs": [
    {
     "data": {
      "text/plain": [
       "0    0.666667\n",
       "1    0.333333\n",
       "Name: Outcome, dtype: float64"
      ]
     },
     "execution_count": 78,
     "metadata": {},
     "output_type": "execute_result"
    }
   ],
   "source": [
    "# Proportions of 0 and 1 in the train dataset\n",
    "y_train.value_counts(normalize=True)"
   ]
  },
  {
   "cell_type": "code",
   "execution_count": 79,
   "metadata": {
    "colab": {
     "base_uri": "https://localhost:8080/"
    },
    "executionInfo": {
     "elapsed": 10,
     "status": "ok",
     "timestamp": 1698803967689,
     "user": {
      "displayName": "Yvon Bilodeau",
      "userId": "10142856831792134633"
     },
     "user_tz": 420
    },
    "id": "ccjfu2pdJZlP",
    "outputId": "41da206e-4f3e-4220-d585-70e2b1dee4ff"
   },
   "outputs": [
    {
     "data": {
      "text/plain": [
       "0    0.673469\n",
       "1    0.326531\n",
       "Name: Outcome, dtype: float64"
      ]
     },
     "execution_count": 79,
     "metadata": {},
     "output_type": "execute_result"
    }
   ],
   "source": [
    "# Proportions of 0 and 1 in the test dataset\n",
    "y_test.value_counts(normalize=True)"
   ]
  },
  {
   "cell_type": "code",
   "execution_count": 80,
   "metadata": {
    "executionInfo": {
     "elapsed": 5,
     "status": "ok",
     "timestamp": 1698803967689,
     "user": {
      "displayName": "Yvon Bilodeau",
      "userId": "10142856831792134633"
     },
     "user_tz": 420
    },
    "id": "EKPiCOByPOfF"
   },
   "outputs": [
    {
     "data": {
      "text/plain": [
       "array([[0.29411765, 0.14893617, 0.70731707, ..., 0.42718447, 0.03040685,\n",
       "        0.23333333],\n",
       "       [0.23529412, 0.39007092, 0.58536585, ..., 0.45873786, 0.55888651,\n",
       "        0.58333333],\n",
       "       [0.47058824, 0.92198582, 0.80487805, ..., 0.39563107, 0.14475375,\n",
       "        0.26666667],\n",
       "       ...,\n",
       "       [0.17647059, 0.12765957, 0.53658537, ..., 0.27912621, 0.08907923,\n",
       "        0.03333333],\n",
       "       [0.        , 0.31205674, 0.56097561, ..., 0.30582524, 0.21927195,\n",
       "        0.        ],\n",
       "       [0.05882353, 0.39716312, 0.58536585, ..., 0.39320388, 0.18972163,\n",
       "        0.06666667]])"
      ]
     },
     "execution_count": 80,
     "metadata": {},
     "output_type": "execute_result"
    }
   ],
   "source": [
    "# Scale the data\n",
    "minmax = MinMaxScaler()\n",
    "X_train_scaled = minmax.fit_transform(X_train)\n",
    "X_test_scaled = minmax.transform(X_test)\n",
    "X_train_scaled"
   ]
  },
  {
   "cell_type": "markdown",
   "metadata": {
    "id": "1TWU179nQIdt"
   },
   "source": [
    "## Build the Classification Model\n",
    "\n",
    "We need to do a few things differently here because this is a binary classification:\n",
    "\n",
    "1. The activation of our final layer needs to be 'sigmoid'.  \n",
    "\n",
    "\n",
    "(If this were multiclass classification, we would set the final activation as 'softmax' and the number of output nodes would be the number of classes in our y_train.)"
   ]
  },
  {
   "cell_type": "code",
   "execution_count": 81,
   "metadata": {
    "colab": {
     "base_uri": "https://localhost:8080/"
    },
    "executionInfo": {
     "elapsed": 204,
     "status": "ok",
     "timestamp": 1698803967889,
     "user": {
      "displayName": "Yvon Bilodeau",
      "userId": "10142856831792134633"
     },
     "user_tz": 420
    },
    "id": "lAwy3AXrPjwH",
    "outputId": "c89302f6-b241-4c46-878c-100361bd0a5a"
   },
   "outputs": [],
   "source": [
    "# Set Random Seeds\n",
    "keras.backend.clear_session()\n",
    "np.random.seed(42)\n",
    "tf.random.set_seed(42)\n",
    "\n",
    "# Build your model\n",
    "model = Sequential()\n",
    "model.add(Dense(5, input_dim=X_train_scaled.shape[1], activation='tanh'))\n",
    "model.add(Dense(5, activation='tanh'))\n",
    "model.add(Dense(1, activation='sigmoid'))\n",
    "\n",
    "from keras.metrics import Precision, Recall\n",
    "\n",
    "# One output node with 'sigmoid' activation\n",
    "model.compile(loss='bce', optimizer='adam', metrics=['accuracy', Precision(), Recall()])\n",
    "\n"
   ]
  },
  {
   "cell_type": "markdown",
   "metadata": {
    "id": "4nrwLXyKPpO1"
   },
   "source": [
    "## More Changes for Classification:\n",
    "\n",
    "1.  We need to change our loss to 'binary_crossentropy', or 'bce'.  If this were multiclass we would use 'categorical_crossentrobpy'.\n",
    "\n",
    "2. Our metrics should be classification metrics.  We will use accuracy and import recall and precision."
   ]
  },
  {
   "cell_type": "code",
   "execution_count": 82,
   "metadata": {},
   "outputs": [
    {
     "name": "stdout",
     "output_type": "stream",
     "text": [
      "Model: \"sequential\"\n",
      "_________________________________________________________________\n",
      " Layer (type)                Output Shape              Param #   \n",
      "=================================================================\n",
      " dense (Dense)               (None, 5)                 45        \n",
      "                                                                 \n",
      " dense_1 (Dense)             (None, 5)                 30        \n",
      "                                                                 \n",
      " dense_2 (Dense)             (None, 1)                 6         \n",
      "                                                                 \n",
      "=================================================================\n",
      "Total params: 81\n",
      "Trainable params: 81\n",
      "Non-trainable params: 0\n",
      "_________________________________________________________________\n"
     ]
    }
   ],
   "source": [
    "model.summary()"
   ]
  },
  {
   "cell_type": "code",
   "execution_count": null,
   "metadata": {
    "executionInfo": {
     "elapsed": 8,
     "status": "ok",
     "timestamp": 1698803967889,
     "user": {
      "displayName": "Yvon Bilodeau",
      "userId": "10142856831792134633"
     },
     "user_tz": 420
    },
    "id": "GOe9CMP2PtDT"
   },
   "outputs": [],
   "source": [
    "from keras.metrics import Precision, Recall\n",
    "\n",
    "# Compile your model with loss='bce, set metrics = ['acc', Precision(), Recall()]\n",
    "\n",
    "\n"
   ]
  },
  {
   "cell_type": "code",
   "execution_count": 83,
   "metadata": {
    "colab": {
     "base_uri": "https://localhost:8080/"
    },
    "executionInfo": {
     "elapsed": 42183,
     "status": "ok",
     "timestamp": 1698804010065,
     "user": {
      "displayName": "Yvon Bilodeau",
      "userId": "10142856831792134633"
     },
     "user_tz": 420
    },
    "id": "vScTvfoKOVLO",
    "outputId": "8106018a-5a36-4175-c6bb-c6924f9730cd"
   },
   "outputs": [
    {
     "name": "stdout",
     "output_type": "stream",
     "text": [
      "Epoch 1/30\n",
      "10/10 [==============================] - 1s 28ms/step - loss: 0.6995 - accuracy: 0.6667 - precision: 0.0000e+00 - recall: 0.0000e+00 - val_loss: 0.7006 - val_accuracy: 0.6531 - val_precision: 0.0000e+00 - val_recall: 0.0000e+00\n",
      "Epoch 2/30\n",
      "10/10 [==============================] - 0s 6ms/step - loss: 0.6937 - accuracy: 0.6667 - precision: 0.0000e+00 - recall: 0.0000e+00 - val_loss: 0.6939 - val_accuracy: 0.6735 - val_precision: 0.0000e+00 - val_recall: 0.0000e+00\n",
      "Epoch 3/30\n",
      "10/10 [==============================] - 0s 6ms/step - loss: 0.6888 - accuracy: 0.6667 - precision: 0.0000e+00 - recall: 0.0000e+00 - val_loss: 0.6877 - val_accuracy: 0.6735 - val_precision: 0.0000e+00 - val_recall: 0.0000e+00\n",
      "Epoch 4/30\n",
      "10/10 [==============================] - 0s 6ms/step - loss: 0.6834 - accuracy: 0.6667 - precision: 0.0000e+00 - recall: 0.0000e+00 - val_loss: 0.6824 - val_accuracy: 0.6735 - val_precision: 0.0000e+00 - val_recall: 0.0000e+00\n",
      "Epoch 5/30\n",
      "10/10 [==============================] - 0s 5ms/step - loss: 0.6788 - accuracy: 0.6667 - precision: 0.0000e+00 - recall: 0.0000e+00 - val_loss: 0.6775 - val_accuracy: 0.6735 - val_precision: 0.0000e+00 - val_recall: 0.0000e+00\n",
      "Epoch 6/30\n",
      "10/10 [==============================] - 0s 5ms/step - loss: 0.6750 - accuracy: 0.6667 - precision: 0.0000e+00 - recall: 0.0000e+00 - val_loss: 0.6730 - val_accuracy: 0.6735 - val_precision: 0.0000e+00 - val_recall: 0.0000e+00\n",
      "Epoch 7/30\n",
      "10/10 [==============================] - 0s 5ms/step - loss: 0.6711 - accuracy: 0.6667 - precision: 0.0000e+00 - recall: 0.0000e+00 - val_loss: 0.6689 - val_accuracy: 0.6735 - val_precision: 0.0000e+00 - val_recall: 0.0000e+00\n",
      "Epoch 8/30\n",
      "10/10 [==============================] - 0s 5ms/step - loss: 0.6677 - accuracy: 0.6667 - precision: 0.0000e+00 - recall: 0.0000e+00 - val_loss: 0.6654 - val_accuracy: 0.6735 - val_precision: 0.0000e+00 - val_recall: 0.0000e+00\n",
      "Epoch 9/30\n",
      "10/10 [==============================] - 0s 5ms/step - loss: 0.6643 - accuracy: 0.6667 - precision: 0.0000e+00 - recall: 0.0000e+00 - val_loss: 0.6619 - val_accuracy: 0.6735 - val_precision: 0.0000e+00 - val_recall: 0.0000e+00\n",
      "Epoch 10/30\n",
      "10/10 [==============================] - 0s 5ms/step - loss: 0.6611 - accuracy: 0.6667 - precision: 0.0000e+00 - recall: 0.0000e+00 - val_loss: 0.6586 - val_accuracy: 0.6735 - val_precision: 0.0000e+00 - val_recall: 0.0000e+00\n",
      "Epoch 11/30\n",
      "10/10 [==============================] - 0s 5ms/step - loss: 0.6581 - accuracy: 0.6667 - precision: 0.0000e+00 - recall: 0.0000e+00 - val_loss: 0.6553 - val_accuracy: 0.6735 - val_precision: 0.0000e+00 - val_recall: 0.0000e+00\n",
      "Epoch 12/30\n",
      "10/10 [==============================] - 0s 6ms/step - loss: 0.6550 - accuracy: 0.6667 - precision: 0.0000e+00 - recall: 0.0000e+00 - val_loss: 0.6521 - val_accuracy: 0.6735 - val_precision: 0.0000e+00 - val_recall: 0.0000e+00\n",
      "Epoch 13/30\n",
      "10/10 [==============================] - 0s 6ms/step - loss: 0.6522 - accuracy: 0.6667 - precision: 0.0000e+00 - recall: 0.0000e+00 - val_loss: 0.6490 - val_accuracy: 0.6735 - val_precision: 0.0000e+00 - val_recall: 0.0000e+00\n",
      "Epoch 14/30\n",
      "10/10 [==============================] - 0s 5ms/step - loss: 0.6498 - accuracy: 0.6667 - precision: 0.0000e+00 - recall: 0.0000e+00 - val_loss: 0.6461 - val_accuracy: 0.6735 - val_precision: 0.0000e+00 - val_recall: 0.0000e+00\n",
      "Epoch 15/30\n",
      "10/10 [==============================] - 0s 5ms/step - loss: 0.6472 - accuracy: 0.6667 - precision: 0.0000e+00 - recall: 0.0000e+00 - val_loss: 0.6434 - val_accuracy: 0.6735 - val_precision: 0.0000e+00 - val_recall: 0.0000e+00\n",
      "Epoch 16/30\n",
      "10/10 [==============================] - 0s 6ms/step - loss: 0.6446 - accuracy: 0.6667 - precision: 0.0000e+00 - recall: 0.0000e+00 - val_loss: 0.6405 - val_accuracy: 0.6735 - val_precision: 0.0000e+00 - val_recall: 0.0000e+00\n",
      "Epoch 17/30\n",
      "10/10 [==============================] - 0s 6ms/step - loss: 0.6417 - accuracy: 0.6667 - precision: 0.0000e+00 - recall: 0.0000e+00 - val_loss: 0.6378 - val_accuracy: 0.6735 - val_precision: 0.0000e+00 - val_recall: 0.0000e+00\n",
      "Epoch 18/30\n",
      "10/10 [==============================] - 0s 5ms/step - loss: 0.6393 - accuracy: 0.6667 - precision: 0.0000e+00 - recall: 0.0000e+00 - val_loss: 0.6357 - val_accuracy: 0.6735 - val_precision: 0.0000e+00 - val_recall: 0.0000e+00\n",
      "Epoch 19/30\n",
      "10/10 [==============================] - 0s 5ms/step - loss: 0.6370 - accuracy: 0.6667 - precision: 0.0000e+00 - recall: 0.0000e+00 - val_loss: 0.6334 - val_accuracy: 0.6735 - val_precision: 0.0000e+00 - val_recall: 0.0000e+00\n",
      "Epoch 20/30\n",
      "10/10 [==============================] - 0s 10ms/step - loss: 0.6343 - accuracy: 0.6667 - precision: 0.0000e+00 - recall: 0.0000e+00 - val_loss: 0.6307 - val_accuracy: 0.6735 - val_precision: 0.0000e+00 - val_recall: 0.0000e+00\n",
      "Epoch 21/30\n",
      "10/10 [==============================] - 0s 5ms/step - loss: 0.6316 - accuracy: 0.6667 - precision: 0.0000e+00 - recall: 0.0000e+00 - val_loss: 0.6278 - val_accuracy: 0.6735 - val_precision: 0.0000e+00 - val_recall: 0.0000e+00\n",
      "Epoch 22/30\n",
      "10/10 [==============================] - 0s 6ms/step - loss: 0.6292 - accuracy: 0.6667 - precision: 0.0000e+00 - recall: 0.0000e+00 - val_loss: 0.6247 - val_accuracy: 0.6735 - val_precision: 0.0000e+00 - val_recall: 0.0000e+00\n",
      "Epoch 23/30\n",
      "10/10 [==============================] - 0s 5ms/step - loss: 0.6262 - accuracy: 0.6667 - precision: 0.0000e+00 - recall: 0.0000e+00 - val_loss: 0.6218 - val_accuracy: 0.6735 - val_precision: 0.0000e+00 - val_recall: 0.0000e+00\n",
      "Epoch 24/30\n",
      "10/10 [==============================] - 0s 5ms/step - loss: 0.6236 - accuracy: 0.6667 - precision: 0.0000e+00 - recall: 0.0000e+00 - val_loss: 0.6192 - val_accuracy: 0.6735 - val_precision: 0.0000e+00 - val_recall: 0.0000e+00\n",
      "Epoch 25/30\n",
      "10/10 [==============================] - 0s 6ms/step - loss: 0.6210 - accuracy: 0.6667 - precision: 0.0000e+00 - recall: 0.0000e+00 - val_loss: 0.6164 - val_accuracy: 0.6735 - val_precision: 0.0000e+00 - val_recall: 0.0000e+00\n",
      "Epoch 26/30\n",
      "10/10 [==============================] - 0s 6ms/step - loss: 0.6183 - accuracy: 0.6667 - precision: 0.0000e+00 - recall: 0.0000e+00 - val_loss: 0.6136 - val_accuracy: 0.6735 - val_precision: 0.0000e+00 - val_recall: 0.0000e+00\n",
      "Epoch 27/30\n",
      "10/10 [==============================] - 0s 6ms/step - loss: 0.6155 - accuracy: 0.6667 - precision: 0.0000e+00 - recall: 0.0000e+00 - val_loss: 0.6106 - val_accuracy: 0.6735 - val_precision: 0.0000e+00 - val_recall: 0.0000e+00\n",
      "Epoch 28/30\n",
      "10/10 [==============================] - 0s 5ms/step - loss: 0.6128 - accuracy: 0.6667 - precision: 0.0000e+00 - recall: 0.0000e+00 - val_loss: 0.6076 - val_accuracy: 0.6735 - val_precision: 0.0000e+00 - val_recall: 0.0000e+00\n",
      "Epoch 29/30\n",
      "10/10 [==============================] - 0s 5ms/step - loss: 0.6095 - accuracy: 0.6667 - precision: 0.0000e+00 - recall: 0.0000e+00 - val_loss: 0.6051 - val_accuracy: 0.6735 - val_precision: 0.0000e+00 - val_recall: 0.0000e+00\n",
      "Epoch 30/30\n",
      "10/10 [==============================] - 0s 6ms/step - loss: 0.6068 - accuracy: 0.6667 - precision: 0.0000e+00 - recall: 0.0000e+00 - val_loss: 0.6025 - val_accuracy: 0.6735 - val_precision: 0.0000e+00 - val_recall: 0.0000e+00\n"
     ]
    }
   ],
   "source": [
    "# fit your model\n",
    "history = model.fit(X_train_scaled, y_train,\n",
    "                    validation_data=(X_test_scaled, y_test),\n",
    "                    epochs=30)\n",
    "\n"
   ]
  },
  {
   "cell_type": "code",
   "execution_count": 87,
   "metadata": {
    "colab": {
     "base_uri": "https://localhost:8080/"
    },
    "executionInfo": {
     "elapsed": 6,
     "status": "ok",
     "timestamp": 1698804010065,
     "user": {
      "displayName": "Yvon Bilodeau",
      "userId": "10142856831792134633"
     },
     "user_tz": 420
    },
    "id": "OTmswQ-tJZlX",
    "outputId": "d4eb9d6d-e4cf-4250-bf54-d5c23e16fc37"
   },
   "outputs": [
    {
     "name": "stdout",
     "output_type": "stream",
     "text": [
      "10/10 [==============================] - 0s 1ms/step\n",
      "4/4 [==============================] - 0s 2ms/step\n"
     ]
    }
   ],
   "source": [
    "\n",
    "train_preds = np.rint(model.predict(X_train_scaled))\n",
    "test_preds = np.rint(model.predict(X_test_scaled))"
   ]
  },
  {
   "cell_type": "code",
   "execution_count": 88,
   "metadata": {
    "colab": {
     "base_uri": "https://localhost:8080/",
     "height": 1000
    },
    "executionInfo": {
     "elapsed": 645,
     "status": "ok",
     "timestamp": 1698804010706,
     "user": {
      "displayName": "Yvon Bilodeau",
      "userId": "10142856831792134633"
     },
     "user_tz": 420
    },
    "id": "qKLxgYDcP0_H",
    "outputId": "e2de98d9-02bc-478f-b52c-8f1bef07e28e"
   },
   "outputs": [
    {
     "name": "stdout",
     "output_type": "stream",
     "text": [
      "class_train \n",
      "\n",
      "              precision    recall  f1-score   support\n",
      "\n",
      "           0       0.67      1.00      0.80       196\n",
      "           1       0.00      0.00      0.00        98\n",
      "\n",
      "    accuracy                           0.67       294\n",
      "   macro avg       0.33      0.50      0.40       294\n",
      "weighted avg       0.44      0.67      0.53       294\n",
      "\n"
     ]
    },
    {
     "name": "stderr",
     "output_type": "stream",
     "text": [
      "C:\\Users\\caell\\anaconda3\\envs\\dojo-env\\lib\\site-packages\\sklearn\\metrics\\_classification.py:1344: UndefinedMetricWarning: Precision and F-score are ill-defined and being set to 0.0 in labels with no predicted samples. Use `zero_division` parameter to control this behavior.\n",
      "  _warn_prf(average, modifier, msg_start, len(result))\n",
      "C:\\Users\\caell\\anaconda3\\envs\\dojo-env\\lib\\site-packages\\sklearn\\metrics\\_classification.py:1344: UndefinedMetricWarning: Precision and F-score are ill-defined and being set to 0.0 in labels with no predicted samples. Use `zero_division` parameter to control this behavior.\n",
      "  _warn_prf(average, modifier, msg_start, len(result))\n",
      "C:\\Users\\caell\\anaconda3\\envs\\dojo-env\\lib\\site-packages\\sklearn\\metrics\\_classification.py:1344: UndefinedMetricWarning: Precision and F-score are ill-defined and being set to 0.0 in labels with no predicted samples. Use `zero_division` parameter to control this behavior.\n",
      "  _warn_prf(average, modifier, msg_start, len(result))\n"
     ]
    },
    {
     "data": {
      "image/png": "[encoded data removed]",
      "text/plain": [
       "<Figure size 640x480 with 2 Axes>"
      ]
     },
     "metadata": {},
     "output_type": "display_data"
    },
    {
     "name": "stdout",
     "output_type": "stream",
     "text": [
      "class_test \n",
      "\n",
      "              precision    recall  f1-score   support\n",
      "\n",
      "           0       0.67      1.00      0.80        66\n",
      "           1       0.00      0.00      0.00        32\n",
      "\n",
      "    accuracy                           0.67        98\n",
      "   macro avg       0.34      0.50      0.40        98\n",
      "weighted avg       0.45      0.67      0.54        98\n",
      "\n"
     ]
    },
    {
     "name": "stderr",
     "output_type": "stream",
     "text": [
      "C:\\Users\\caell\\anaconda3\\envs\\dojo-env\\lib\\site-packages\\sklearn\\metrics\\_classification.py:1344: UndefinedMetricWarning: Precision is ill-defined and being set to 0.0 due to no predicted samples. Use `zero_division` parameter to control this behavior.\n",
      "  _warn_prf(average, modifier, msg_start, len(result))\n",
      "C:\\Users\\caell\\anaconda3\\envs\\dojo-env\\lib\\site-packages\\sklearn\\metrics\\_classification.py:1344: UndefinedMetricWarning: Precision and F-score are ill-defined and being set to 0.0 in labels with no predicted samples. Use `zero_division` parameter to control this behavior.\n",
      "  _warn_prf(average, modifier, msg_start, len(result))\n",
      "C:\\Users\\caell\\anaconda3\\envs\\dojo-env\\lib\\site-packages\\sklearn\\metrics\\_classification.py:1344: UndefinedMetricWarning: Precision and F-score are ill-defined and being set to 0.0 in labels with no predicted samples. Use `zero_division` parameter to control this behavior.\n",
      "  _warn_prf(average, modifier, msg_start, len(result))\n",
      "C:\\Users\\caell\\anaconda3\\envs\\dojo-env\\lib\\site-packages\\sklearn\\metrics\\_classification.py:1344: UndefinedMetricWarning: Precision and F-score are ill-defined and being set to 0.0 in labels with no predicted samples. Use `zero_division` parameter to control this behavior.\n",
      "  _warn_prf(average, modifier, msg_start, len(result))\n"
     ]
    },
    {
     "data": {
      "image/png": "[encoded data removed]",
      "text/plain": [
       "<Figure size 640x480 with 2 Axes>"
      ]
     },
     "metadata": {},
     "output_type": "display_data"
    },
    {
     "name": "stderr",
     "output_type": "stream",
     "text": [
      "C:\\Users\\caell\\anaconda3\\envs\\dojo-env\\lib\\site-packages\\sklearn\\metrics\\_classification.py:1344: UndefinedMetricWarning: Precision is ill-defined and being set to 0.0 due to no predicted samples. Use `zero_division` parameter to control this behavior.\n",
      "  _warn_prf(average, modifier, msg_start, len(result))\n"
     ]
    },
    {
     "data": {
      "text/html": [
       "<div>\n",
       "<style scoped>\n",
       "    .dataframe tbody tr th:only-of-type {\n",
       "        vertical-align: middle;\n",
       "    }\n",
       "\n",
       "    .dataframe tbody tr th {\n",
       "        vertical-align: top;\n",
       "    }\n",
       "\n",
       "    .dataframe thead th {\n",
       "        text-align: right;\n",
       "    }\n",
       "</style>\n",
       "<table border=\"1\" class=\"dataframe\">\n",
       "  <thead>\n",
       "    <tr style=\"text-align: right;\">\n",
       "      <th></th>\n",
       "      <th>Precision</th>\n",
       "      <th>Recall</th>\n",
       "      <th>F1 Score</th>\n",
       "      <th>Accuracy</th>\n",
       "    </tr>\n",
       "    <tr>\n",
       "      <th>Model Name</th>\n",
       "      <th></th>\n",
       "      <th></th>\n",
       "      <th></th>\n",
       "      <th></th>\n",
       "    </tr>\n",
       "  </thead>\n",
       "  <tbody>\n",
       "    <tr>\n",
       "      <th>class_train</th>\n",
       "      <td>0.0</td>\n",
       "      <td>0.0</td>\n",
       "      <td>0.0</td>\n",
       "      <td>0.666667</td>\n",
       "    </tr>\n",
       "    <tr>\n",
       "      <th>class_test</th>\n",
       "      <td>0.0</td>\n",
       "      <td>0.0</td>\n",
       "      <td>0.0</td>\n",
       "      <td>0.673469</td>\n",
       "    </tr>\n",
       "  </tbody>\n",
       "</table>\n",
       "</div>"
      ],
      "text/plain": [
       "             Precision  Recall  F1 Score  Accuracy\n",
       "Model Name                                        \n",
       "class_train        0.0     0.0       0.0  0.666667\n",
       "class_test         0.0     0.0       0.0  0.673469"
      ]
     },
     "execution_count": 88,
     "metadata": {},
     "output_type": "execute_result"
    }
   ],
   "source": [
    "# See how your model is doing\n",
    "train_scores = eval_classification(y_train, train_preds, name='class_train')\n",
    "test_scores = eval_classification(y_test, test_preds, name='class_test')\n",
    "\n",
    "scores = pd.concat([train_scores, test_scores])\n",
    "scores\n"
   ]
  },
  {
   "cell_type": "markdown",
   "metadata": {
    "id": "LD18RKjYTFXP"
   },
   "source": [
    "## Evaluation\n",
    "\n",
    "Keras models always output floats, not integers.  In this case the final sigmoid activation function will return a number between 0 and 1.  If the number is closer to 1, the model predicts the sample is more likely to be class 1.  If it is closer to 2, the sample is predicted to be more likely to be class 0.  \n",
    "\n",
    "This is similar to the output of .predict_proba() with Scikit-Learn models.\n",
    "\n",
    "### Converting Floats to Ints\n",
    "\n",
    "In order to use Scikit-Learn metrics functions, the float outputs of the model need to be converted to ints.  We don't want to just use `int(pred)` or `pred.astype(int)` because that will just drop the decimal and all our predictions would be 0s.  \n",
    "\n",
    "Instead we want to **round** the predictions to the nearest integer. To round all of the numbers in an array we can use the NumPy function, `np.rint()` which is short for 'round to integer'.  \n",
    "\n",
    "[Numpy Reference for np.rint()](https://numpy.org/doc/stable/reference/generated/numpy.rint.html)"
   ]
  },
  {
   "cell_type": "code",
   "execution_count": null,
   "metadata": {
    "colab": {
     "base_uri": "https://localhost:8080/"
    },
    "executionInfo": {
     "elapsed": 242,
     "status": "ok",
     "timestamp": 1698804010945,
     "user": {
      "displayName": "Yvon Bilodeau",
      "userId": "10142856831792134633"
     },
     "user_tz": 420
    },
    "id": "HttQV2phV-Va",
    "outputId": "f17ae13d-e97f-4e3e-e1d2-c065ae8c5b3b"
   },
   "outputs": [],
   "source": [
    "\n"
   ]
  },
  {
   "cell_type": "code",
   "execution_count": null,
   "metadata": {
    "colab": {
     "base_uri": "https://localhost:8080/"
    },
    "executionInfo": {
     "elapsed": 13,
     "status": "ok",
     "timestamp": 1698804010945,
     "user": {
      "displayName": "Yvon Bilodeau",
      "userId": "10142856831792134633"
     },
     "user_tz": 420
    },
    "id": "u1CSEpv4YXV7",
    "outputId": "a39a681f-97b1-4569-eea3-6a90c76bb333"
   },
   "outputs": [],
   "source": [
    "# Get predictions\n",
    "\n",
    "\n",
    "\n",
    "\n",
    "# round predictions to integers instead of floats using np.rint()\n",
    "\n",
    "\n",
    "\n",
    "# the following code should show whole number predictions, 1.0 or 0.0\n",
    "\n"
   ]
  },
  {
   "cell_type": "code",
   "execution_count": null,
   "metadata": {
    "colab": {
     "base_uri": "https://localhost:8080/",
     "height": 1000
    },
    "executionInfo": {
     "elapsed": 691,
     "status": "ok",
     "timestamp": 1698804011629,
     "user": {
      "displayName": "Yvon Bilodeau",
      "userId": "10142856831792134633"
     },
     "user_tz": 420
    },
    "id": "sov8ZJUHP-Bf",
    "outputId": "3b3ca2ec-3b96-4c69-8f47-3dff45aea337"
   },
   "outputs": [],
   "source": [
    "# Define labels for the confusion matrix\n",
    "labels = ['No Diabetes', 'Diabetes']\n",
    "\n"
   ]
  },
  {
   "cell_type": "code",
   "execution_count": null,
   "metadata": {
    "executionInfo": {
     "elapsed": 3,
     "status": "ok",
     "timestamp": 1698804011630,
     "user": {
      "displayName": "Yvon Bilodeau",
      "userId": "10142856831792134633"
     },
     "user_tz": 420
    },
    "id": "vFvHcmtIsSCy"
   },
   "outputs": [],
   "source": []
  }
 ],
 "metadata": {
  "accelerator": "GPU",
  "colab": {
   "provenance": [
    {
     "file_id": "1AMkk4AkOwuh0L19EdXpLJHJaeZXCP6kQ",
     "timestamp": 1654554871276
    },
    {
     "file_id": "1HZQ_jeFRQsrlNGjvh_ru52Q-1DhIahua",
     "timestamp": 1636586978598
    }
   ],
   "toc_visible": true
  },
  "gpuClass": "standard",
  "kernelspec": {
   "display_name": "Python (dojo-env)",
   "language": "python",
   "name": "dojo-env"
  },
  "language_info": {
   "codemirror_mode": {
    "name": "ipython",
    "version": 3
   },
   "file_extension": ".py",
   "mimetype": "text/x-python",
   "name": "python",
   "nbconvert_exporter": "python",
   "pygments_lexer": "ipython3",
   "version": "3.10.10"
  },
  "toc": {
   "base_numbering": 1,
   "nav_menu": {},
   "number_sections": false,
   "sideBar": true,
   "skip_h1_title": false,
   "title_cell": "Table of Contents",
   "title_sidebar": "Contents",
   "toc_cell": false,
   "toc_position": {
    "height": "calc(100% - 180px)",
    "left": "10px",
    "top": "150px",
    "width": "243.829px"
   },
   "toc_section_display": true,
   "toc_window_display": false
  },
  "widgets": {
   "application/vnd.jupyter.widget-state+json": {
    "state": {},
    "version_major": 2,
    "version_minor": 0
   }
  }
 },
 "nbformat": 4,
 "nbformat_minor": 4
}
