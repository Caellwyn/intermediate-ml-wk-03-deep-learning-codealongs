{
 "cells": [
  {
   "cell_type": "markdown",
   "metadata": {
    "id": "AGKAZlCh02cl",
    "jupyter": {
     "source_hidden": true
    }
   },
   "source": [
    "# Introduction to Neural Networking in Keras\n",
    "\n",
    "<a href=\"https://colab.research.google.com/github/coding-dojo-data-science/week-11-lecture-2-tuning-deep-learning-models/blob/main/Code-along%20Tuning%20Neural%20Networks.ipynb\" target=\"_parent\"><img src=\"https://colab.research.google.com/assets/colab-badge.svg\" alt=\"Open In Colab\"/></a>"
   ]
  },
  {
   "cell_type": "markdown",
   "metadata": {
    "id": "OStduN-207_9"
   },
   "source": [
    "We will use the version of Keras that comes in the Tensorflow package, as it has the most up to date tools.\n",
    "\n",
    "Keras works as wrapper for deep learning model to be used as classification or regression estimators in sklearn"
   ]
  },
  {
   "cell_type": "code",
   "execution_count": 2,
   "metadata": {
    "ExecuteTime": {
     "end_time": "2023-02-08T02:15:00.219225Z",
     "start_time": "2023-02-08T02:15:00.211839Z"
    },
    "executionInfo": {
     "elapsed": 6928,
     "status": "ok",
     "timestamp": 1698803943153,
     "user": {
      "displayName": "Yvon Bilodeau",
      "userId": "10142856831792134633"
     },
     "user_tz": 420
    },
    "id": "Zw6CH1mp0zR4"
   },
   "outputs": [],
   "source": [
    "import pandas as pd\n",
    "import numpy as np\n",
    "\n",
    "import matplotlib.pyplot as plt\n",
    "from seaborn import heatmap\n",
    "\n",
    "from sklearn.metrics import mean_absolute_error, r2_score, \\\n",
    "mean_squared_error, precision_score, recall_score, accuracy_score, f1_score, \\\n",
    "ConfusionMatrixDisplay, classification_report\n",
    "from sklearn.preprocessing import MinMaxScaler\n",
    "from sklearn.model_selection import train_test_split\n",
    "\n",
    "# new libraries\n",
    "import tensorflow as tf\n",
    "import tensorflow.keras as keras\n",
    "from keras.models import Sequential\n",
    "from keras.layers import Dense\n",
    "\n",
    "# This is used to overcome an issue with setting up tensorflow in M1/M1\n",
    "# Suspect tensorflow-macos not very fit with GPU, use CPU only with\n",
    "tf.config.set_visible_devices([], 'GPU')\n",
    "\n",
    "# Set random seeds for consistent outcomes\n",
    "keras.backend.clear_session()\n",
    "np.random.seed(42)\n",
    "tf.random.set_seed(42)"
   ]
  },
  {
   "cell_type": "markdown",
   "metadata": {
    "id": "e5pga5rHChPu"
   },
   "source": [
    "### Plot History\n",
    "\n",
    "Since we will be plotting histories for all of our models, lets create a function to do it quickly."
   ]
  },
  {
   "cell_type": "code",
   "execution_count": 3,
   "metadata": {
    "ExecuteTime": {
     "end_time": "2023-02-08T02:15:00.226208Z",
     "start_time": "2023-02-08T02:15:00.220222Z"
    },
    "executionInfo": {
     "elapsed": 4,
     "status": "ok",
     "timestamp": 1698803943153,
     "user": {
      "displayName": "Yvon Bilodeau",
      "userId": "10142856831792134633"
     },
     "user_tz": 420
    },
    "id": "UbrKqMv0_28Q"
   },
   "outputs": [],
   "source": [
    "def plot_history(history):\n",
    "  \"\"\"Takes a keras model learning history and plots each metric\"\"\"\n",
    "\n",
    "  metrics = history.history.keys()\n",
    "\n",
    "  for metric in metrics:\n",
    "      if not 'val' in metric:\n",
    "        plt.plot(history.history[f'{metric}'], label=f'{metric}')\n",
    "        if f'val_{metric}' in metrics:\n",
    "          plt.plot(history.history[f'val_{metric}'], label=f'val_{metric}')\n",
    "        plt.legend()\n",
    "        plt.title(f'{metric}')\n",
    "        plt.show()\n",
    "\n",
    "def eval_regression(true, pred, name='Model'):\n",
    "    \"\"\"Evaluates true and predicted values from a regression model.\n",
    "    Outputs a dataframe of metrics\"\"\"\n",
    "    scores = pd.DataFrame()\n",
    "    scores['Model Name'] = [name]\n",
    "    scores['RMSE'] = [np.sqrt(mean_squared_error(true, pred))]\n",
    "    scores['MAE'] = [mean_absolute_error(true, pred)]\n",
    "    scores['R2'] = [r2_score(true, pred)]\n",
    "    scores.set_index('Model Name', inplace=True)\n",
    "\n",
    "    return scores\n",
    "\n",
    "def eval_classification(true, pred, name, labels=None):\n",
    "    \"\"\"shows classification_report and confusion matrix\n",
    "    for classification model predictions.  Outputs a dataframe of metrics\"\"\"\n",
    "\n",
    "    print(name, '\\n')\n",
    "    print(classification_report(true, pred, target_names=labels))\n",
    "    ConfusionMatrixDisplay.from_predictions(true, pred, display_labels=labels, )\n",
    "\n",
    "    plt.show()\n",
    "\n",
    "    scores = pd.DataFrame()\n",
    "    scores['Model Name'] = [name]\n",
    "    scores['Precision'] = [precision_score(true, pred)]\n",
    "    scores['Recall'] = [recall_score(true, pred)]\n",
    "    scores['F1 Score'] = [f1_score(true, pred)]\n",
    "    scores['Accuracy'] = [accuracy_score(true, pred)]\n",
    "    scores.set_index('Model Name', inplace=True)\n",
    "\n",
    "    return scores"
   ]
  },
  {
   "cell_type": "markdown",
   "metadata": {
    "id": "RAUUTWm93ojP"
   },
   "source": [
    "# Data\n",
    "\n",
    "We will be working with 2 different datasets in this project, 1 is a regression dataset and the other is a classification dataset.  This way you can practice doing both using deep learning.\n",
    "\n",
    "**NOTE**\n",
    "\n",
    "These datasets are very small for deep learning.  Deep learning models usually work best with very large datasets with at least 10,000 or more samples.  They work best on even larger datasets than that.  But, for demonstration we will use these smaller datasets.\n",
    "\n",
    "## Regression\n",
    "This is a dataset of housing prices in Boston from 1978.  Each row is a house and the dataset includes several features regarding each house.  Our target today will be the price of the home.\n",
    "\n"
   ]
  },
  {
   "cell_type": "code",
   "execution_count": 4,
   "metadata": {
    "ExecuteTime": {
     "end_time": "2023-02-08T02:15:00.312062Z",
     "start_time": "2023-02-08T02:15:00.227205Z"
    },
    "executionInfo": {
     "elapsed": 3,
     "status": "ok",
     "timestamp": 1698803943153,
     "user": {
      "displayName": "Yvon Bilodeau",
      "userId": "10142856831792134633"
     },
     "user_tz": 420
    },
    "id": "8_PM7Bt81FKh"
   },
   "outputs": [],
   "source": [
    "regression_df = pd.read_csv('Data/Boston_Housing_from_Sklearn.csv')"
   ]
  },
  {
   "cell_type": "markdown",
   "metadata": {
    "id": "1YPAPvdG6Sqy"
   },
   "source": [
    "# Regression\n",
    "\n",
    "Let's start with modeling the regression dataset"
   ]
  },
  {
   "cell_type": "code",
   "execution_count": 5,
   "metadata": {
    "ExecuteTime": {
     "end_time": "2023-02-08T02:15:00.324011Z",
     "start_time": "2023-02-08T02:15:00.314019Z"
    },
    "colab": {
     "base_uri": "https://localhost:8080/",
     "height": 204
    },
    "executionInfo": {
     "elapsed": 218,
     "status": "ok",
     "timestamp": 1698803943369,
     "user": {
      "displayName": "Yvon Bilodeau",
      "userId": "10142856831792134633"
     },
     "user_tz": 420
    },
    "id": "3STtBugN3fp1",
    "outputId": "a8fdf0a0-c92d-42b5-9931-07089286b0ae"
   },
   "outputs": [
    {
     "data": {
      "text/html": [
       "<div>\n",
       "<style scoped>\n",
       "    .dataframe tbody tr th:only-of-type {\n",
       "        vertical-align: middle;\n",
       "    }\n",
       "\n",
       "    .dataframe tbody tr th {\n",
       "        vertical-align: top;\n",
       "    }\n",
       "\n",
       "    .dataframe thead th {\n",
       "        text-align: right;\n",
       "    }\n",
       "</style>\n",
       "<table border=\"1\" class=\"dataframe\">\n",
       "  <thead>\n",
       "    <tr style=\"text-align: right;\">\n",
       "      <th></th>\n",
       "      <th>CRIM</th>\n",
       "      <th>NOX</th>\n",
       "      <th>RM</th>\n",
       "      <th>AGE</th>\n",
       "      <th>PTRATIO</th>\n",
       "      <th>LSTAT</th>\n",
       "      <th>PRICE</th>\n",
       "    </tr>\n",
       "  </thead>\n",
       "  <tbody>\n",
       "    <tr>\n",
       "      <th>0</th>\n",
       "      <td>0.00632</td>\n",
       "      <td>0.538</td>\n",
       "      <td>6.575</td>\n",
       "      <td>65.2</td>\n",
       "      <td>15.3</td>\n",
       "      <td>4.98</td>\n",
       "      <td>24.0</td>\n",
       "    </tr>\n",
       "    <tr>\n",
       "      <th>1</th>\n",
       "      <td>0.02731</td>\n",
       "      <td>0.469</td>\n",
       "      <td>6.421</td>\n",
       "      <td>78.9</td>\n",
       "      <td>17.8</td>\n",
       "      <td>9.14</td>\n",
       "      <td>21.6</td>\n",
       "    </tr>\n",
       "    <tr>\n",
       "      <th>2</th>\n",
       "      <td>0.02729</td>\n",
       "      <td>0.469</td>\n",
       "      <td>7.185</td>\n",
       "      <td>61.1</td>\n",
       "      <td>17.8</td>\n",
       "      <td>4.03</td>\n",
       "      <td>34.7</td>\n",
       "    </tr>\n",
       "    <tr>\n",
       "      <th>3</th>\n",
       "      <td>0.03237</td>\n",
       "      <td>0.458</td>\n",
       "      <td>6.998</td>\n",
       "      <td>45.8</td>\n",
       "      <td>18.7</td>\n",
       "      <td>2.94</td>\n",
       "      <td>33.4</td>\n",
       "    </tr>\n",
       "    <tr>\n",
       "      <th>4</th>\n",
       "      <td>0.06905</td>\n",
       "      <td>0.458</td>\n",
       "      <td>7.147</td>\n",
       "      <td>54.2</td>\n",
       "      <td>18.7</td>\n",
       "      <td>5.33</td>\n",
       "      <td>36.2</td>\n",
       "    </tr>\n",
       "  </tbody>\n",
       "</table>\n",
       "</div>"
      ],
      "text/plain": [
       "      CRIM    NOX     RM   AGE  PTRATIO  LSTAT  PRICE\n",
       "0  0.00632  0.538  6.575  65.2     15.3   4.98   24.0\n",
       "1  0.02731  0.469  6.421  78.9     17.8   9.14   21.6\n",
       "2  0.02729  0.469  7.185  61.1     17.8   4.03   34.7\n",
       "3  0.03237  0.458  6.998  45.8     18.7   2.94   33.4\n",
       "4  0.06905  0.458  7.147  54.2     18.7   5.33   36.2"
      ]
     },
     "execution_count": 5,
     "metadata": {},
     "output_type": "execute_result"
    }
   ],
   "source": [
    "regression_df.head()"
   ]
  },
  {
   "cell_type": "code",
   "execution_count": 6,
   "metadata": {
    "ExecuteTime": {
     "end_time": "2023-02-08T02:15:00.334424Z",
     "start_time": "2023-02-08T02:15:00.325015Z"
    },
    "colab": {
     "base_uri": "https://localhost:8080/"
    },
    "executionInfo": {
     "elapsed": 17,
     "status": "ok",
     "timestamp": 1698803943369,
     "user": {
      "displayName": "Yvon Bilodeau",
      "userId": "10142856831792134633"
     },
     "user_tz": 420
    },
    "id": "4sJoxV1ZJKBd",
    "outputId": "ca6b1cac-9d39-4a4f-b683-d4c2bcfe3fe9"
   },
   "outputs": [
    {
     "name": "stdout",
     "output_type": "stream",
     "text": [
      "<class 'pandas.core.frame.DataFrame'>\n",
      "RangeIndex: 506 entries, 0 to 505\n",
      "Data columns (total 7 columns):\n",
      " #   Column   Non-Null Count  Dtype  \n",
      "---  ------   --------------  -----  \n",
      " 0   CRIM     506 non-null    float64\n",
      " 1   NOX      506 non-null    float64\n",
      " 2   RM       506 non-null    float64\n",
      " 3   AGE      506 non-null    float64\n",
      " 4   PTRATIO  506 non-null    float64\n",
      " 5   LSTAT    506 non-null    float64\n",
      " 6   PRICE    506 non-null    float64\n",
      "dtypes: float64(7)\n",
      "memory usage: 27.8 KB\n"
     ]
    }
   ],
   "source": [
    "regression_df.info()"
   ]
  },
  {
   "cell_type": "code",
   "execution_count": 7,
   "metadata": {
    "ExecuteTime": {
     "end_time": "2023-02-08T02:15:00.341921Z",
     "start_time": "2023-02-08T02:15:00.336419Z"
    },
    "colab": {
     "base_uri": "https://localhost:8080/"
    },
    "executionInfo": {
     "elapsed": 11,
     "status": "ok",
     "timestamp": 1698803943369,
     "user": {
      "displayName": "Yvon Bilodeau",
      "userId": "10142856831792134633"
     },
     "user_tz": 420
    },
    "id": "uvcvdJUZ6YKX",
    "outputId": "c33ec5e8-9fdb-479c-d23a-b17558802b91"
   },
   "outputs": [
    {
     "data": {
      "text/plain": [
       "False"
      ]
     },
     "execution_count": 7,
     "metadata": {},
     "output_type": "execute_result"
    }
   ],
   "source": [
    "regression_df.duplicated().any()"
   ]
  },
  {
   "cell_type": "code",
   "execution_count": 8,
   "metadata": {
    "ExecuteTime": {
     "end_time": "2023-02-08T02:15:00.368107Z",
     "start_time": "2023-02-08T02:15:00.342920Z"
    },
    "colab": {
     "base_uri": "https://localhost:8080/",
     "height": 297
    },
    "executionInfo": {
     "elapsed": 6,
     "status": "ok",
     "timestamp": 1698803943370,
     "user": {
      "displayName": "Yvon Bilodeau",
      "userId": "10142856831792134633"
     },
     "user_tz": 420
    },
    "id": "IrxmHTaU6s3N",
    "outputId": "0429c421-e5cb-4196-9317-11279e5b8668"
   },
   "outputs": [
    {
     "data": {
      "text/html": [
       "<div>\n",
       "<style scoped>\n",
       "    .dataframe tbody tr th:only-of-type {\n",
       "        vertical-align: middle;\n",
       "    }\n",
       "\n",
       "    .dataframe tbody tr th {\n",
       "        vertical-align: top;\n",
       "    }\n",
       "\n",
       "    .dataframe thead th {\n",
       "        text-align: right;\n",
       "    }\n",
       "</style>\n",
       "<table border=\"1\" class=\"dataframe\">\n",
       "  <thead>\n",
       "    <tr style=\"text-align: right;\">\n",
       "      <th></th>\n",
       "      <th>CRIM</th>\n",
       "      <th>NOX</th>\n",
       "      <th>RM</th>\n",
       "      <th>AGE</th>\n",
       "      <th>PTRATIO</th>\n",
       "      <th>LSTAT</th>\n",
       "      <th>PRICE</th>\n",
       "    </tr>\n",
       "  </thead>\n",
       "  <tbody>\n",
       "    <tr>\n",
       "      <th>count</th>\n",
       "      <td>506.000000</td>\n",
       "      <td>506.000000</td>\n",
       "      <td>506.000000</td>\n",
       "      <td>506.000000</td>\n",
       "      <td>506.000000</td>\n",
       "      <td>506.000000</td>\n",
       "      <td>506.000000</td>\n",
       "    </tr>\n",
       "    <tr>\n",
       "      <th>mean</th>\n",
       "      <td>3.613524</td>\n",
       "      <td>0.554695</td>\n",
       "      <td>6.284634</td>\n",
       "      <td>68.574901</td>\n",
       "      <td>18.455534</td>\n",
       "      <td>12.653063</td>\n",
       "      <td>22.532806</td>\n",
       "    </tr>\n",
       "    <tr>\n",
       "      <th>std</th>\n",
       "      <td>8.601545</td>\n",
       "      <td>0.115878</td>\n",
       "      <td>0.702617</td>\n",
       "      <td>28.148861</td>\n",
       "      <td>2.164946</td>\n",
       "      <td>7.141062</td>\n",
       "      <td>9.197104</td>\n",
       "    </tr>\n",
       "    <tr>\n",
       "      <th>min</th>\n",
       "      <td>0.006320</td>\n",
       "      <td>0.385000</td>\n",
       "      <td>3.561000</td>\n",
       "      <td>2.900000</td>\n",
       "      <td>12.600000</td>\n",
       "      <td>1.730000</td>\n",
       "      <td>5.000000</td>\n",
       "    </tr>\n",
       "    <tr>\n",
       "      <th>25%</th>\n",
       "      <td>0.082045</td>\n",
       "      <td>0.449000</td>\n",
       "      <td>5.885500</td>\n",
       "      <td>45.025000</td>\n",
       "      <td>17.400000</td>\n",
       "      <td>6.950000</td>\n",
       "      <td>17.025000</td>\n",
       "    </tr>\n",
       "    <tr>\n",
       "      <th>50%</th>\n",
       "      <td>0.256510</td>\n",
       "      <td>0.538000</td>\n",
       "      <td>6.208500</td>\n",
       "      <td>77.500000</td>\n",
       "      <td>19.050000</td>\n",
       "      <td>11.360000</td>\n",
       "      <td>21.200000</td>\n",
       "    </tr>\n",
       "    <tr>\n",
       "      <th>75%</th>\n",
       "      <td>3.677083</td>\n",
       "      <td>0.624000</td>\n",
       "      <td>6.623500</td>\n",
       "      <td>94.075000</td>\n",
       "      <td>20.200000</td>\n",
       "      <td>16.955000</td>\n",
       "      <td>25.000000</td>\n",
       "    </tr>\n",
       "    <tr>\n",
       "      <th>max</th>\n",
       "      <td>88.976200</td>\n",
       "      <td>0.871000</td>\n",
       "      <td>8.780000</td>\n",
       "      <td>100.000000</td>\n",
       "      <td>22.000000</td>\n",
       "      <td>37.970000</td>\n",
       "      <td>50.000000</td>\n",
       "    </tr>\n",
       "  </tbody>\n",
       "</table>\n",
       "</div>"
      ],
      "text/plain": [
       "             CRIM         NOX          RM         AGE     PTRATIO       LSTAT  \\\n",
       "count  506.000000  506.000000  506.000000  506.000000  506.000000  506.000000   \n",
       "mean     3.613524    0.554695    6.284634   68.574901   18.455534   12.653063   \n",
       "std      8.601545    0.115878    0.702617   28.148861    2.164946    7.141062   \n",
       "min      0.006320    0.385000    3.561000    2.900000   12.600000    1.730000   \n",
       "25%      0.082045    0.449000    5.885500   45.025000   17.400000    6.950000   \n",
       "50%      0.256510    0.538000    6.208500   77.500000   19.050000   11.360000   \n",
       "75%      3.677083    0.624000    6.623500   94.075000   20.200000   16.955000   \n",
       "max     88.976200    0.871000    8.780000  100.000000   22.000000   37.970000   \n",
       "\n",
       "            PRICE  \n",
       "count  506.000000  \n",
       "mean    22.532806  \n",
       "std      9.197104  \n",
       "min      5.000000  \n",
       "25%     17.025000  \n",
       "50%     21.200000  \n",
       "75%     25.000000  \n",
       "max     50.000000  "
      ]
     },
     "execution_count": 8,
     "metadata": {},
     "output_type": "execute_result"
    }
   ],
   "source": [
    "regression_df.describe()"
   ]
  },
  {
   "cell_type": "code",
   "execution_count": 9,
   "metadata": {
    "ExecuteTime": {
     "end_time": "2023-02-08T02:15:00.377085Z",
     "start_time": "2023-02-08T02:15:00.370103Z"
    },
    "executionInfo": {
     "elapsed": 5,
     "status": "ok",
     "timestamp": 1698803943370,
     "user": {
      "displayName": "Yvon Bilodeau",
      "userId": "10142856831792134633"
     },
     "user_tz": 420
    },
    "id": "rU0zM_dk6xDd"
   },
   "outputs": [],
   "source": [
    "# Define X and Y and complete the train test split\n",
    "X = regression_df.drop(columns = 'PRICE')\n",
    "y = regression_df['PRICE']\n",
    "\n",
    "X_train, X_test, y_train, y_test = train_test_split(X, y, random_state = 42)"
   ]
  },
  {
   "cell_type": "markdown",
   "metadata": {
    "id": "MqS765vN8Xti"
   },
   "source": [
    "## Scaling\n",
    "\n",
    "### Important Notes\n",
    "- Always scale your data for deep learning.  \n",
    "- Otherwise you get a problem call 'Exploding Weights'.  \n",
    "- Some weights will be updated much faster than others because the inputs are at larger scales.  \n",
    "- This tends to hurt learning as data on smaller scales does not update as fast and doesn't get to contribute as much to the decision making process.  \n",
    "- By scaling we put all features on the same footing."
   ]
  },
  {
   "cell_type": "code",
   "execution_count": 10,
   "metadata": {
    "ExecuteTime": {
     "end_time": "2023-02-08T02:15:00.384069Z",
     "start_time": "2023-02-08T02:15:00.377085Z"
    },
    "executionInfo": {
     "elapsed": 216,
     "status": "ok",
     "timestamp": 1698803943582,
     "user": {
      "displayName": "Yvon Bilodeau",
      "userId": "10142856831792134633"
     },
     "user_tz": 420
    },
    "id": "bvCCtAhQ7gGe"
   },
   "outputs": [],
   "source": [
    "# Scale the data\n",
    "scaler = MinMaxScaler()\n",
    "scaler.fit(X_train)\n",
    "X_train_proc = scaler.transform(X_train)\n",
    "X_test_proc = scaler.transform(X_test)"
   ]
  },
  {
   "cell_type": "markdown",
   "metadata": {
    "id": "BzX4RBcu8TFx"
   },
   "source": [
    "## First Simple Model\n",
    "\n",
    "We always want to start simple, as deep learning models can get very complex fast and more complex models take more time to train and are more prone to overfitting.  A well performing simple model is better than a well performing complex model.\n",
    "\n",
    "## Input layer\n",
    "The first layer we will define is not technically the input layer.  We will define the first hidden layer with a special argument that tells Keras how to create a input layer:\n",
    "\n",
    "`input_dim=`\n",
    "\n",
    "Input layers can also be defined manually using tensorflow.keras.layers.InputLayer\n",
    "\n",
    "## Activation function\n",
    "\n",
    "For the single hidden layer we will try just 3 nodes and use a ReLU activation.  ReLUs tend to perform well for hidden layers.\n",
    "\n",
    "## Output Layer\n",
    "\n",
    "For the output layer (last layer) we just use one node because we only want the output of the model to be one number.  We will use a linear activation function.  This will simply output the value from the weights and bias in the node with no change.  The output will be a continuous number, a float.  This will make our model a regression model.\n",
    "\n",
    "\n"
   ]
  },
  {
   "cell_type": "markdown",
   "metadata": {
    "id": "glnm6hhh4M6u"
   },
   "source": [
    "# Note:\n",
    "### The first layer you define will NOT be the input layer!  Keras will create an input layer on its own, implicitly."
   ]
  },
  {
   "cell_type": "code",
   "execution_count": 17,
   "metadata": {
    "ExecuteTime": {
     "end_time": "2023-02-08T02:23:47.149108Z",
     "start_time": "2023-02-08T02:23:47.117114Z"
    },
    "colab": {
     "base_uri": "https://localhost:8080/"
    },
    "executionInfo": {
     "elapsed": 191,
     "status": "ok",
     "timestamp": 1698803943771,
     "user": {
      "displayName": "Yvon Bilodeau",
      "userId": "10142856831792134633"
     },
     "user_tz": 420
    },
    "id": "AnjwY1dz7vcG",
    "outputId": "702a01f0-8afb-4f6d-e791-adc74722749a"
   },
   "outputs": [],
   "source": [
    "from tensorflow.keras.metrics import RootMeanSquaredError\n",
    "# Set Random Seeds\n",
    "keras.backend.clear_session()\n",
    "np.random.seed(42)\n",
    "tf.random.set_seed(42)\n",
    "def build_model():\n",
    "    \n",
    "# Instantiate your sequential model\n",
    "    model = Sequential()\n",
    "\n",
    "# Add first hidden layer with 3 neurons THIS IS NOT THE INPUT LAYER!\n",
    "# Tell Keras how to construct the input layer shape using input_dim\n",
    "    model.add(Dense(3, activation='relu', input_dim=X_train_proc.shape[1]))\n",
    "    model.add(Dense(3, activation='relu'))\n",
    "\n",
    "# Add output layer with 1 node\n",
    "    model.add(Dense(1))\n",
    "\n",
    "# Check summary of network\n",
    "    model.summary()\n",
    "# Compile your model.\n",
    "    model.compile(loss='mse', metrics=['mae', RootMeanSquaredError()], optimizer='adam')\n",
    "    return model"
   ]
  },
  {
   "cell_type": "markdown",
   "metadata": {
    "id": "9wAFuCDGOBzo"
   },
   "source": [
    "## Compiling\n",
    "\n",
    "Compiling the model puts all the pieces together to make it ready to train.  \n",
    "\n",
    "For this step, we need to specify a few other hyperparameters:\n",
    "\n",
    "* **Optimizer:** An Adam optimizer is a favorite and often performs well, it's a good place to start.\n",
    "  - Other optimizers : Gradient Descent, Stochastic Gradient Descent, Adagrad, RMSProp\n",
    "* **Loss Function:** 'mse' or mean squared error.  This is the number our model will try to reduce in each epoch.  Since this is a regression model we want our model to minimize the mean squared error.  A loss function ALWAYS needs to be a measurement of the total error that the model can REDUCE.  R^2 won't work because higher is better. We don't want the model to reduce R^2!\n",
    "* **Metrics:** 'mae' or mean absolute error.  We can provide a list of any appropriate metrics we want the model to keep track at each epoch.\n",
    "\n",
    "\n"
   ]
  },
  {
   "cell_type": "markdown",
   "metadata": {
    "id": "sBvS_wkr_hEh"
   },
   "source": [
    "# Training (AKA fitting)\n",
    "\n",
    "Let's try training our model for 100 few epochs.  Sometimes that is enough, and it will give us an idea whether our model is learning anything."
   ]
  },
  {
   "cell_type": "code",
   "execution_count": 18,
   "metadata": {
    "ExecuteTime": {
     "end_time": "2023-02-08T02:23:54.798328Z",
     "start_time": "2023-02-08T02:23:48.643134Z"
    },
    "colab": {
     "base_uri": "https://localhost:8080/"
    },
    "executionInfo": {
     "elapsed": 22461,
     "status": "ok",
     "timestamp": 1698803966394,
     "user": {
      "displayName": "Yvon Bilodeau",
      "userId": "10142856831792134633"
     },
     "user_tz": 420
    },
    "id": "81VFx1n1-TS7",
    "outputId": "38986443-be8d-41c0-8a54-27c0bd8fe38b"
   },
   "outputs": [
    {
     "name": "stdout",
     "output_type": "stream",
     "text": [
      "Model: \"sequential\"\n",
      "_________________________________________________________________\n",
      " Layer (type)                Output Shape              Param #   \n",
      "=================================================================\n",
      " dense (Dense)               (None, 3)                 21        \n",
      "                                                                 \n",
      " dense_1 (Dense)             (None, 3)                 12        \n",
      "                                                                 \n",
      " dense_2 (Dense)             (None, 1)                 4         \n",
      "                                                                 \n",
      "=================================================================\n",
      "Total params: 37\n",
      "Trainable params: 37\n",
      "Non-trainable params: 0\n"
     ]
    },
    {
     "name": "stdout",
     "output_type": "stream",
     "text": [
      "_________________________________________________________________\n"
     ]
    }
   ],
   "source": [
    "# Fit your model\n",
    "reg_model = build_model()\n"
   ]
  },
  {
   "cell_type": "code",
   "execution_count": 19,
   "metadata": {},
   "outputs": [
    {
     "name": "stdout",
     "output_type": "stream",
     "text": [
      "Epoch 1/100\n",
      "12/12 [==============================] - 1s 18ms/step - loss: 594.3111 - mae: 22.4703 - root_mean_squared_error: 24.3785 - val_loss: 508.5119 - val_mae: 20.9198 - val_root_mean_squared_error: 22.5502\n",
      "Epoch 2/100\n",
      "12/12 [==============================] - 0s 4ms/step - loss: 590.1699 - mae: 22.3769 - root_mean_squared_error: 24.2934 - val_loss: 504.3882 - val_mae: 20.8182 - val_root_mean_squared_error: 22.4586\n",
      "Epoch 3/100\n",
      "12/12 [==============================] - 0s 4ms/step - loss: 585.6931 - mae: 22.2735 - root_mean_squared_error: 24.2011 - val_loss: 499.9656 - val_mae: 20.7084 - val_root_mean_squared_error: 22.3599\n",
      "Epoch 4/100\n",
      "12/12 [==============================] - 0s 4ms/step - loss: 580.9761 - mae: 22.1633 - root_mean_squared_error: 24.1034 - val_loss: 495.1655 - val_mae: 20.5881 - val_root_mean_squared_error: 22.2523\n",
      "Epoch 5/100\n",
      "12/12 [==============================] - 0s 4ms/step - loss: 575.8464 - mae: 22.0436 - root_mean_squared_error: 23.9968 - val_loss: 489.9096 - val_mae: 20.4549 - val_root_mean_squared_error: 22.1339\n",
      "Epoch 6/100\n",
      "12/12 [==============================] - 0s 4ms/step - loss: 570.2657 - mae: 21.9112 - root_mean_squared_error: 23.8802 - val_loss: 484.1289 - val_mae: 20.3070 - val_root_mean_squared_error: 22.0029\n",
      "Epoch 7/100\n",
      "12/12 [==============================] - 0s 4ms/step - loss: 564.1403 - mae: 21.7627 - root_mean_squared_error: 23.7516 - val_loss: 477.6618 - val_mae: 20.1398 - val_root_mean_squared_error: 21.8555\n",
      "Epoch 8/100\n",
      "12/12 [==============================] - 0s 4ms/step - loss: 557.3409 - mae: 21.5969 - root_mean_squared_error: 23.6081 - val_loss: 470.4284 - val_mae: 19.9496 - val_root_mean_squared_error: 21.6894\n",
      "Epoch 9/100\n",
      "12/12 [==============================] - 0s 4ms/step - loss: 549.7583 - mae: 21.4097 - root_mean_squared_error: 23.4469 - val_loss: 462.5216 - val_mae: 19.7387 - val_root_mean_squared_error: 21.5063\n",
      "Epoch 10/100\n",
      "12/12 [==============================] - 0s 4ms/step - loss: 541.4208 - mae: 21.2017 - root_mean_squared_error: 23.2684 - val_loss: 454.0166 - val_mae: 19.5089 - val_root_mean_squared_error: 21.3077\n",
      "Epoch 11/100\n",
      "12/12 [==============================] - 0s 4ms/step - loss: 532.4820 - mae: 20.9767 - root_mean_squared_error: 23.0756 - val_loss: 444.9474 - val_mae: 19.2599 - val_root_mean_squared_error: 21.0938\n",
      "Epoch 12/100\n",
      "12/12 [==============================] - 0s 4ms/step - loss: 522.9344 - mae: 20.7319 - root_mean_squared_error: 22.8678 - val_loss: 435.2973 - val_mae: 18.9911 - val_root_mean_squared_error: 20.8638\n",
      "Epoch 13/100\n",
      "12/12 [==============================] - 0s 4ms/step - loss: 512.7890 - mae: 20.4675 - root_mean_squared_error: 22.6448 - val_loss: 425.1060 - val_mae: 18.7023 - val_root_mean_squared_error: 20.6181\n",
      "Epoch 14/100\n",
      "12/12 [==============================] - 0s 4ms/step - loss: 501.8826 - mae: 20.1846 - root_mean_squared_error: 22.4027 - val_loss: 414.4893 - val_mae: 18.3970 - val_root_mean_squared_error: 20.3590\n",
      "Epoch 15/100\n",
      "12/12 [==============================] - 0s 4ms/step - loss: 490.6578 - mae: 19.8815 - root_mean_squared_error: 22.1508 - val_loss: 403.2226 - val_mae: 18.0680 - val_root_mean_squared_error: 20.0804\n",
      "Epoch 16/100\n",
      "12/12 [==============================] - 0s 4ms/step - loss: 478.7174 - mae: 19.5570 - root_mean_squared_error: 21.8796 - val_loss: 391.5915 - val_mae: 17.7212 - val_root_mean_squared_error: 19.7887\n",
      "Epoch 17/100\n",
      "12/12 [==============================] - 0s 4ms/step - loss: 466.3907 - mae: 19.2103 - root_mean_squared_error: 21.5961 - val_loss: 379.4722 - val_mae: 17.3515 - val_root_mean_squared_error: 19.4800\n",
      "Epoch 18/100\n",
      "12/12 [==============================] - 0s 4ms/step - loss: 453.2388 - mae: 18.8460 - root_mean_squared_error: 21.2894 - val_loss: 367.1490 - val_mae: 16.9690 - val_root_mean_squared_error: 19.1611\n",
      "Epoch 19/100\n",
      "12/12 [==============================] - 0s 4ms/step - loss: 439.8685 - mae: 18.4579 - root_mean_squared_error: 20.9730 - val_loss: 354.3604 - val_mae: 16.5669 - val_root_mean_squared_error: 18.8245\n",
      "Epoch 20/100\n",
      "12/12 [==============================] - 0s 4ms/step - loss: 426.0820 - mae: 18.0515 - root_mean_squared_error: 20.6418 - val_loss: 341.2286 - val_mae: 16.1430 - val_root_mean_squared_error: 18.4724\n",
      "Epoch 21/100\n",
      "12/12 [==============================] - 0s 3ms/step - loss: 411.7143 - mae: 17.6366 - root_mean_squared_error: 20.2907 - val_loss: 328.0975 - val_mae: 15.7060 - val_root_mean_squared_error: 18.1135\n",
      "Epoch 22/100\n",
      "12/12 [==============================] - 0s 4ms/step - loss: 397.3298 - mae: 17.1992 - root_mean_squared_error: 19.9331 - val_loss: 314.8002 - val_mae: 15.2641 - val_root_mean_squared_error: 17.7426\n",
      "Epoch 23/100\n",
      "12/12 [==============================] - 0s 4ms/step - loss: 382.6837 - mae: 16.7570 - root_mean_squared_error: 19.5623 - val_loss: 301.5745 - val_mae: 14.8122 - val_root_mean_squared_error: 17.3659\n",
      "Epoch 24/100\n",
      "12/12 [==============================] - 0s 4ms/step - loss: 368.2296 - mae: 16.3066 - root_mean_squared_error: 19.1893 - val_loss: 288.2133 - val_mae: 14.3416 - val_root_mean_squared_error: 16.9768\n",
      "Epoch 25/100\n",
      "12/12 [==============================] - 0s 4ms/step - loss: 353.4039 - mae: 15.8532 - root_mean_squared_error: 18.7990 - val_loss: 275.2051 - val_mae: 13.8715 - val_root_mean_squared_error: 16.5893\n",
      "Epoch 26/100\n",
      "12/12 [==============================] - 0s 4ms/step - loss: 338.9415 - mae: 15.4019 - root_mean_squared_error: 18.4104 - val_loss: 262.3340 - val_mae: 13.3973 - val_root_mean_squared_error: 16.1967\n",
      "Epoch 27/100\n",
      "12/12 [==============================] - 0s 4ms/step - loss: 324.6981 - mae: 14.9303 - root_mean_squared_error: 18.0194 - val_loss: 249.6588 - val_mae: 12.9389 - val_root_mean_squared_error: 15.8006\n",
      "Epoch 28/100\n",
      "12/12 [==============================] - 0s 4ms/step - loss: 310.4417 - mae: 14.4600 - root_mean_squared_error: 17.6194 - val_loss: 237.4797 - val_mae: 12.5013 - val_root_mean_squared_error: 15.4104\n",
      "Epoch 29/100\n",
      "12/12 [==============================] - 0s 4ms/step - loss: 296.8095 - mae: 13.9898 - root_mean_squared_error: 17.2282 - val_loss: 225.5920 - val_mae: 12.0581 - val_root_mean_squared_error: 15.0197\n",
      "Epoch 30/100\n",
      "12/12 [==============================] - 0s 4ms/step - loss: 283.6693 - mae: 13.5248 - root_mean_squared_error: 16.8425 - val_loss: 214.1066 - val_mae: 11.6236 - val_root_mean_squared_error: 14.6324\n",
      "Epoch 31/100\n",
      "12/12 [==============================] - 0s 4ms/step - loss: 270.5102 - mae: 13.0776 - root_mean_squared_error: 16.4472 - val_loss: 203.5232 - val_mae: 11.2234 - val_root_mean_squared_error: 14.2662\n",
      "Epoch 32/100\n",
      "12/12 [==============================] - 0s 6ms/step - loss: 258.4116 - mae: 12.6897 - root_mean_squared_error: 16.0752 - val_loss: 193.3981 - val_mae: 10.8547 - val_root_mean_squared_error: 13.9068\n",
      "Epoch 33/100\n",
      "12/12 [==============================] - 0s 5ms/step - loss: 246.7652 - mae: 12.3132 - root_mean_squared_error: 15.7088 - val_loss: 183.9488 - val_mae: 10.5207 - val_root_mean_squared_error: 13.5628\n",
      "Epoch 34/100\n",
      "12/12 [==============================] - 0s 4ms/step - loss: 235.7146 - mae: 11.9643 - root_mean_squared_error: 15.3530 - val_loss: 175.2799 - val_mae: 10.2276 - val_root_mean_squared_error: 13.2393\n",
      "Epoch 35/100\n",
      "12/12 [==============================] - 0s 4ms/step - loss: 225.2332 - mae: 11.6462 - root_mean_squared_error: 15.0078 - val_loss: 167.5297 - val_mae: 9.9705 - val_root_mean_squared_error: 12.9433\n",
      "Epoch 36/100\n",
      "12/12 [==============================] - 0s 4ms/step - loss: 216.1172 - mae: 11.3536 - root_mean_squared_error: 14.7009 - val_loss: 160.0850 - val_mae: 9.7137 - val_root_mean_squared_error: 12.6525\n",
      "Epoch 37/100\n",
      "12/12 [==============================] - 0s 4ms/step - loss: 206.9676 - mae: 11.0583 - root_mean_squared_error: 14.3864 - val_loss: 153.6431 - val_mae: 9.5006 - val_root_mean_squared_error: 12.3953\n",
      "Epoch 38/100\n",
      "12/12 [==============================] - 0s 3ms/step - loss: 199.1949 - mae: 10.8243 - root_mean_squared_error: 14.1136 - val_loss: 147.6870 - val_mae: 9.3001 - val_root_mean_squared_error: 12.1527\n",
      "Epoch 39/100\n",
      "12/12 [==============================] - 0s 4ms/step - loss: 191.4678 - mae: 10.5892 - root_mean_squared_error: 13.8372 - val_loss: 142.7276 - val_mae: 9.1245 - val_root_mean_squared_error: 11.9469\n",
      "Epoch 40/100\n",
      "12/12 [==============================] - 0s 4ms/step - loss: 185.0771 - mae: 10.4053 - root_mean_squared_error: 13.6043 - val_loss: 138.2452 - val_mae: 8.9520 - val_root_mean_squared_error: 11.7578\n",
      "Epoch 41/100\n",
      "12/12 [==============================] - 0s 4ms/step - loss: 179.1435 - mae: 10.2176 - root_mean_squared_error: 13.3844 - val_loss: 134.4271 - val_mae: 8.8051 - val_root_mean_squared_error: 11.5943\n",
      "Epoch 42/100\n",
      "12/12 [==============================] - 0s 4ms/step - loss: 173.9348 - mae: 10.0575 - root_mean_squared_error: 13.1884 - val_loss: 131.1820 - val_mae: 8.6697 - val_root_mean_squared_error: 11.4535\n",
      "Epoch 43/100\n",
      "12/12 [==============================] - 0s 4ms/step - loss: 169.2744 - mae: 9.9232 - root_mean_squared_error: 13.0105 - val_loss: 128.4950 - val_mae: 8.5585 - val_root_mean_squared_error: 11.3356\n",
      "Epoch 44/100\n",
      "12/12 [==============================] - 0s 4ms/step - loss: 165.1549 - mae: 9.8035 - root_mean_squared_error: 12.8513 - val_loss: 126.2825 - val_mae: 8.4676 - val_root_mean_squared_error: 11.2375\n",
      "Epoch 45/100\n",
      "12/12 [==============================] - 0s 4ms/step - loss: 161.8067 - mae: 9.7137 - root_mean_squared_error: 12.7203 - val_loss: 124.3746 - val_mae: 8.3961 - val_root_mean_squared_error: 11.1523\n",
      "Epoch 46/100\n",
      "12/12 [==============================] - 0s 3ms/step - loss: 158.5184 - mae: 9.6203 - root_mean_squared_error: 12.5904 - val_loss: 122.9079 - val_mae: 8.3460 - val_root_mean_squared_error: 11.0864\n",
      "Epoch 47/100\n",
      "12/12 [==============================] - 0s 4ms/step - loss: 155.8450 - mae: 9.5549 - root_mean_squared_error: 12.4838 - val_loss: 121.6822 - val_mae: 8.3082 - val_root_mean_squared_error: 11.0310\n",
      "Epoch 48/100\n",
      "12/12 [==============================] - 0s 3ms/step - loss: 153.4756 - mae: 9.4935 - root_mean_squared_error: 12.3885 - val_loss: 120.6914 - val_mae: 8.2843 - val_root_mean_squared_error: 10.9860\n",
      "Epoch 49/100\n",
      "12/12 [==============================] - 0s 4ms/step - loss: 151.5365 - mae: 9.4504 - root_mean_squared_error: 12.3100 - val_loss: 119.8475 - val_mae: 8.2637 - val_root_mean_squared_error: 10.9475\n",
      "Epoch 50/100\n",
      "12/12 [==============================] - 0s 4ms/step - loss: 149.6892 - mae: 9.4066 - root_mean_squared_error: 12.2348 - val_loss: 119.1577 - val_mae: 8.2447 - val_root_mean_squared_error: 10.9159\n",
      "Epoch 51/100\n",
      "12/12 [==============================] - 0s 4ms/step - loss: 148.0677 - mae: 9.3716 - root_mean_squared_error: 12.1683 - val_loss: 118.5724 - val_mae: 8.2273 - val_root_mean_squared_error: 10.8891\n",
      "Epoch 52/100\n",
      "12/12 [==============================] - 0s 4ms/step - loss: 146.6984 - mae: 9.3393 - root_mean_squared_error: 12.1119 - val_loss: 118.0572 - val_mae: 8.2114 - val_root_mean_squared_error: 10.8654\n",
      "Epoch 53/100\n",
      "12/12 [==============================] - 0s 4ms/step - loss: 145.3722 - mae: 9.3153 - root_mean_squared_error: 12.0570 - val_loss: 117.6010 - val_mae: 8.2001 - val_root_mean_squared_error: 10.8444\n",
      "Epoch 54/100\n",
      "12/12 [==============================] - 0s 4ms/step - loss: 144.2873 - mae: 9.2883 - root_mean_squared_error: 12.0120 - val_loss: 117.1744 - val_mae: 8.1937 - val_root_mean_squared_error: 10.8247\n",
      "Epoch 55/100\n",
      "12/12 [==============================] - 0s 4ms/step - loss: 143.1274 - mae: 9.2615 - root_mean_squared_error: 11.9636 - val_loss: 116.7136 - val_mae: 8.1823 - val_root_mean_squared_error: 10.8034\n",
      "Epoch 56/100\n",
      "12/12 [==============================] - 0s 4ms/step - loss: 142.1827 - mae: 9.2386 - root_mean_squared_error: 11.9240 - val_loss: 116.2752 - val_mae: 8.1718 - val_root_mean_squared_error: 10.7831\n",
      "Epoch 57/100\n",
      "12/12 [==============================] - 0s 6ms/step - loss: 141.2443 - mae: 9.2177 - root_mean_squared_error: 11.8846 - val_loss: 115.8803 - val_mae: 8.1635 - val_root_mean_squared_error: 10.7648\n",
      "Epoch 58/100\n",
      "12/12 [==============================] - 0s 4ms/step - loss: 140.2870 - mae: 9.1903 - root_mean_squared_error: 11.8443 - val_loss: 115.3996 - val_mae: 8.1491 - val_root_mean_squared_error: 10.7424\n",
      "Epoch 59/100\n",
      "12/12 [==============================] - 0s 4ms/step - loss: 139.5062 - mae: 9.1717 - root_mean_squared_error: 11.8113 - val_loss: 115.0406 - val_mae: 8.1420 - val_root_mean_squared_error: 10.7257\n",
      "Epoch 60/100\n",
      "12/12 [==============================] - 0s 4ms/step - loss: 138.6076 - mae: 9.1503 - root_mean_squared_error: 11.7732 - val_loss: 114.6142 - val_mae: 8.1296 - val_root_mean_squared_error: 10.7058\n",
      "Epoch 61/100\n",
      "12/12 [==============================] - 0s 4ms/step - loss: 137.7808 - mae: 9.1270 - root_mean_squared_error: 11.7380 - val_loss: 114.1202 - val_mae: 8.1132 - val_root_mean_squared_error: 10.6827\n",
      "Epoch 62/100\n",
      "12/12 [==============================] - 0s 4ms/step - loss: 136.9920 - mae: 9.1065 - root_mean_squared_error: 11.7044 - val_loss: 113.6779 - val_mae: 8.0990 - val_root_mean_squared_error: 10.6620\n",
      "Epoch 63/100\n",
      "12/12 [==============================] - 0s 4ms/step - loss: 136.1675 - mae: 9.0784 - root_mean_squared_error: 11.6691 - val_loss: 113.0257 - val_mae: 8.0724 - val_root_mean_squared_error: 10.6314\n",
      "Epoch 64/100\n",
      "12/12 [==============================] - 0s 4ms/step - loss: 135.4247 - mae: 9.0515 - root_mean_squared_error: 11.6372 - val_loss: 112.5147 - val_mae: 8.0538 - val_root_mean_squared_error: 10.6073\n",
      "Epoch 65/100\n",
      "12/12 [==============================] - 0s 4ms/step - loss: 134.6315 - mae: 9.0276 - root_mean_squared_error: 11.6031 - val_loss: 111.9774 - val_mae: 8.0334 - val_root_mean_squared_error: 10.5819\n",
      "Epoch 66/100\n",
      "12/12 [==============================] - 0s 4ms/step - loss: 133.8931 - mae: 9.0054 - root_mean_squared_error: 11.5712 - val_loss: 111.5293 - val_mae: 8.0178 - val_root_mean_squared_error: 10.5607\n",
      "Epoch 67/100\n",
      "12/12 [==============================] - 0s 3ms/step - loss: 133.0905 - mae: 8.9772 - root_mean_squared_error: 11.5365 - val_loss: 110.9059 - val_mae: 7.9928 - val_root_mean_squared_error: 10.5312\n",
      "Epoch 68/100\n",
      "12/12 [==============================] - 0s 3ms/step - loss: 132.3173 - mae: 8.9498 - root_mean_squared_error: 11.5029 - val_loss: 110.3139 - val_mae: 7.9697 - val_root_mean_squared_error: 10.5030\n",
      "Epoch 69/100\n",
      "12/12 [==============================] - 0s 4ms/step - loss: 131.5875 - mae: 8.9223 - root_mean_squared_error: 11.4712 - val_loss: 109.6622 - val_mae: 7.9435 - val_root_mean_squared_error: 10.4720\n",
      "Epoch 70/100\n",
      "12/12 [==============================] - 0s 4ms/step - loss: 130.8547 - mae: 8.8960 - root_mean_squared_error: 11.4392 - val_loss: 109.1518 - val_mae: 7.9255 - val_root_mean_squared_error: 10.4476\n",
      "Epoch 71/100\n",
      "12/12 [==============================] - 0s 3ms/step - loss: 130.0920 - mae: 8.8692 - root_mean_squared_error: 11.4058 - val_loss: 108.5925 - val_mae: 7.9048 - val_root_mean_squared_error: 10.4208\n",
      "Epoch 72/100\n",
      "12/12 [==============================] - 0s 3ms/step - loss: 129.3062 - mae: 8.8412 - root_mean_squared_error: 11.3713 - val_loss: 107.9411 - val_mae: 7.8783 - val_root_mean_squared_error: 10.3895\n",
      "Epoch 73/100\n",
      "12/12 [==============================] - 0s 4ms/step - loss: 128.6011 - mae: 8.8173 - root_mean_squared_error: 11.3402 - val_loss: 107.4785 - val_mae: 7.8640 - val_root_mean_squared_error: 10.3672\n",
      "Epoch 74/100\n",
      "12/12 [==============================] - 0s 4ms/step - loss: 127.8334 - mae: 8.7878 - root_mean_squared_error: 11.3063 - val_loss: 106.8482 - val_mae: 7.8387 - val_root_mean_squared_error: 10.3367\n",
      "Epoch 75/100\n",
      "12/12 [==============================] - 0s 4ms/step - loss: 127.1482 - mae: 8.7654 - root_mean_squared_error: 11.2760 - val_loss: 106.3360 - val_mae: 7.8210 - val_root_mean_squared_error: 10.3119\n",
      "Epoch 76/100\n",
      "12/12 [==============================] - 0s 4ms/step - loss: 126.3943 - mae: 8.7327 - root_mean_squared_error: 11.2425 - val_loss: 105.5732 - val_mae: 7.7873 - val_root_mean_squared_error: 10.2749\n",
      "Epoch 77/100\n",
      "12/12 [==============================] - 0s 4ms/step - loss: 125.6139 - mae: 8.7030 - root_mean_squared_error: 11.2078 - val_loss: 104.9746 - val_mae: 7.7636 - val_root_mean_squared_error: 10.2457\n",
      "Epoch 78/100\n",
      "12/12 [==============================] - 0s 4ms/step - loss: 124.9626 - mae: 8.6743 - root_mean_squared_error: 11.1787 - val_loss: 104.2112 - val_mae: 7.7298 - val_root_mean_squared_error: 10.2084\n",
      "Epoch 79/100\n",
      "12/12 [==============================] - 0s 4ms/step - loss: 124.2475 - mae: 8.6472 - root_mean_squared_error: 11.1466 - val_loss: 103.8818 - val_mae: 7.7224 - val_root_mean_squared_error: 10.1922\n",
      "Epoch 80/100\n",
      "12/12 [==============================] - 0s 4ms/step - loss: 123.4279 - mae: 8.6209 - root_mean_squared_error: 11.1098 - val_loss: 103.2504 - val_mae: 7.6959 - val_root_mean_squared_error: 10.1612\n",
      "Epoch 81/100\n",
      "12/12 [==============================] - 0s 4ms/step - loss: 122.6991 - mae: 8.5920 - root_mean_squared_error: 11.0770 - val_loss: 102.6729 - val_mae: 7.6725 - val_root_mean_squared_error: 10.1328\n",
      "Epoch 82/100\n",
      "12/12 [==============================] - 0s 4ms/step - loss: 121.9879 - mae: 8.5628 - root_mean_squared_error: 11.0448 - val_loss: 101.9532 - val_mae: 7.6408 - val_root_mean_squared_error: 10.0972\n",
      "Epoch 83/100\n",
      "12/12 [==============================] - 0s 4ms/step - loss: 121.2487 - mae: 8.5339 - root_mean_squared_error: 11.0113 - val_loss: 101.3979 - val_mae: 7.6190 - val_root_mean_squared_error: 10.0697\n",
      "Epoch 84/100\n",
      "12/12 [==============================] - 0s 4ms/step - loss: 120.5403 - mae: 8.5063 - root_mean_squared_error: 10.9791 - val_loss: 100.8418 - val_mae: 7.5973 - val_root_mean_squared_error: 10.0420\n",
      "Epoch 85/100\n",
      "12/12 [==============================] - 0s 6ms/step - loss: 119.7955 - mae: 8.4773 - root_mean_squared_error: 10.9451 - val_loss: 100.2638 - val_mae: 7.5738 - val_root_mean_squared_error: 10.0132\n",
      "Epoch 86/100\n",
      "12/12 [==============================] - 0s 4ms/step - loss: 119.1202 - mae: 8.4514 - root_mean_squared_error: 10.9142 - val_loss: 99.7093 - val_mae: 7.5523 - val_root_mean_squared_error: 9.9855\n",
      "Epoch 87/100\n",
      "12/12 [==============================] - 0s 4ms/step - loss: 118.3613 - mae: 8.4229 - root_mean_squared_error: 10.8794 - val_loss: 99.0677 - val_mae: 7.5246 - val_root_mean_squared_error: 9.9533\n",
      "Epoch 88/100\n",
      "12/12 [==============================] - 0s 4ms/step - loss: 117.6423 - mae: 8.3904 - root_mean_squared_error: 10.8463 - val_loss: 98.3797 - val_mae: 7.4938 - val_root_mean_squared_error: 9.9187\n",
      "Epoch 89/100\n",
      "12/12 [==============================] - 0s 4ms/step - loss: 116.9018 - mae: 8.3593 - root_mean_squared_error: 10.8121 - val_loss: 97.7052 - val_mae: 7.4632 - val_root_mean_squared_error: 9.8846\n",
      "Epoch 90/100\n",
      "12/12 [==============================] - 0s 4ms/step - loss: 116.2057 - mae: 8.3304 - root_mean_squared_error: 10.7799 - val_loss: 97.1545 - val_mae: 7.4417 - val_root_mean_squared_error: 9.8567\n",
      "Epoch 91/100\n",
      "12/12 [==============================] - 0s 4ms/step - loss: 115.4651 - mae: 8.3006 - root_mean_squared_error: 10.7455 - val_loss: 96.5545 - val_mae: 7.4164 - val_root_mean_squared_error: 9.8262\n",
      "Epoch 92/100\n",
      "12/12 [==============================] - 0s 4ms/step - loss: 114.7434 - mae: 8.2728 - root_mean_squared_error: 10.7118 - val_loss: 96.0204 - val_mae: 7.3952 - val_root_mean_squared_error: 9.7990\n",
      "Epoch 93/100\n",
      "12/12 [==============================] - 0s 4ms/step - loss: 114.0307 - mae: 8.2448 - root_mean_squared_error: 10.6785 - val_loss: 95.3680 - val_mae: 7.3660 - val_root_mean_squared_error: 9.7657\n",
      "Epoch 94/100\n",
      "12/12 [==============================] - 0s 4ms/step - loss: 113.3073 - mae: 8.2127 - root_mean_squared_error: 10.6446 - val_loss: 94.7679 - val_mae: 7.3404 - val_root_mean_squared_error: 9.7349\n",
      "Epoch 95/100\n",
      "12/12 [==============================] - 0s 3ms/step - loss: 112.5912 - mae: 8.1845 - root_mean_squared_error: 10.6109 - val_loss: 94.2066 - val_mae: 7.3174 - val_root_mean_squared_error: 9.7060\n",
      "Epoch 96/100\n",
      "12/12 [==============================] - 0s 3ms/step - loss: 111.8720 - mae: 8.1519 - root_mean_squared_error: 10.5770 - val_loss: 93.4948 - val_mae: 7.2837 - val_root_mean_squared_error: 9.6693\n",
      "Epoch 97/100\n",
      "12/12 [==============================] - 0s 4ms/step - loss: 111.1400 - mae: 8.1228 - root_mean_squared_error: 10.5423 - val_loss: 92.9655 - val_mae: 7.2630 - val_root_mean_squared_error: 9.6419\n",
      "Epoch 98/100\n",
      "12/12 [==============================] - 0s 4ms/step - loss: 110.4247 - mae: 8.0915 - root_mean_squared_error: 10.5083 - val_loss: 92.3008 - val_mae: 7.2323 - val_root_mean_squared_error: 9.6073\n",
      "Epoch 99/100\n",
      "12/12 [==============================] - 0s 4ms/step - loss: 109.7613 - mae: 8.0659 - root_mean_squared_error: 10.4767 - val_loss: 91.8755 - val_mae: 7.2183 - val_root_mean_squared_error: 9.5852\n",
      "Epoch 100/100\n",
      "12/12 [==============================] - 0s 4ms/step - loss: 108.9897 - mae: 8.0342 - root_mean_squared_error: 10.4398 - val_loss: 91.2118 - val_mae: 7.1876 - val_root_mean_squared_error: 9.5505\n"
     ]
    }
   ],
   "source": [
    "history = reg_model.fit(X_train_proc, y_train,\n",
    "                        validation_data=(X_test_proc, y_test),\n",
    "                        epochs=100)\n"
   ]
  },
  {
   "cell_type": "code",
   "execution_count": 20,
   "metadata": {
    "ExecuteTime": {
     "end_time": "2023-02-08T02:23:55.237007Z",
     "start_time": "2023-02-08T02:23:54.799327Z"
    },
    "colab": {
     "base_uri": "https://localhost:8080/",
     "height": 1000
    },
    "executionInfo": {
     "elapsed": 816,
     "status": "ok",
     "timestamp": 1698803967207,
     "user": {
      "displayName": "Yvon Bilodeau",
      "userId": "10142856831792134633"
     },
     "user_tz": 420
    },
    "id": "q8Kox9hOOq7w",
    "outputId": "5b8cc291-1371-4b95-a2a1-67dff8477e19"
   },
   "outputs": [
    {
     "data": {
      "image/png": "[encoded data removed]",
      "text/plain": [
       "<Figure size 640x480 with 1 Axes>"
      ]
     },
     "metadata": {},
     "output_type": "display_data"
    },
    {
     "data": {
      "image/png": "[encoded data removed]",
      "text/plain": [
       "<Figure size 640x480 with 1 Axes>"
      ]
     },
     "metadata": {},
     "output_type": "display_data"
    },
    {
     "data": {
      "image/png": "[encoded data removed]",
      "text/plain": [
       "<Figure size 640x480 with 1 Axes>"
      ]
     },
     "metadata": {},
     "output_type": "display_data"
    }
   ],
   "source": [
    "# Apply the custom function plot_history() to see how your model is doing\n",
    "plot_history(history)\n"
   ]
  },
  {
   "cell_type": "markdown",
   "metadata": {
    "id": "1Ic8eFsL_x2m"
   },
   "source": [
    "## Evaluation\n"
   ]
  },
  {
   "cell_type": "code",
   "execution_count": 23,
   "metadata": {
    "ExecuteTime": {
     "end_time": "2023-02-08T02:24:13.846087Z",
     "start_time": "2023-02-08T02:24:13.638158Z"
    },
    "colab": {
     "base_uri": "https://localhost:8080/",
     "height": 176
    },
    "executionInfo": {
     "elapsed": 244,
     "status": "ok",
     "timestamp": 1698803967448,
     "user": {
      "displayName": "Yvon Bilodeau",
      "userId": "10142856831792134633"
     },
     "user_tz": 420
    },
    "id": "33J5dOt3A8ZO",
    "outputId": "53d33b0a-4c41-470d-e0e1-b3c9584b0f66"
   },
   "outputs": [
    {
     "name": "stdout",
     "output_type": "stream",
     "text": [
      "4/4 [==============================] - 0s 2ms/step\n"
     ]
    },
    {
     "data": {
      "text/html": [
       "<div>\n",
       "<style scoped>\n",
       "    .dataframe tbody tr th:only-of-type {\n",
       "        vertical-align: middle;\n",
       "    }\n",
       "\n",
       "    .dataframe tbody tr th {\n",
       "        vertical-align: top;\n",
       "    }\n",
       "\n",
       "    .dataframe thead th {\n",
       "        text-align: right;\n",
       "    }\n",
       "</style>\n",
       "<table border=\"1\" class=\"dataframe\">\n",
       "  <thead>\n",
       "    <tr style=\"text-align: right;\">\n",
       "      <th></th>\n",
       "      <th>RMSE</th>\n",
       "      <th>MAE</th>\n",
       "      <th>R2</th>\n",
       "    </tr>\n",
       "    <tr>\n",
       "      <th>Model Name</th>\n",
       "      <th></th>\n",
       "      <th></th>\n",
       "      <th></th>\n",
       "    </tr>\n",
       "  </thead>\n",
       "  <tbody>\n",
       "    <tr>\n",
       "      <th>reg_model1</th>\n",
       "      <td>9.550485</td>\n",
       "      <td>7.187609</td>\n",
       "      <td>-0.30252</td>\n",
       "    </tr>\n",
       "  </tbody>\n",
       "</table>\n",
       "</div>"
      ],
      "text/plain": [
       "                RMSE       MAE       R2\n",
       "Model Name                             \n",
       "reg_model1  9.550485  7.187609 -0.30252"
      ]
     },
     "execution_count": 23,
     "metadata": {},
     "output_type": "execute_result"
    }
   ],
   "source": [
    "# Make predictions and evaluate your model\n",
    "scores = eval_regression(y_test, reg_model.predict(X_test_proc), name='reg_model1')\n",
    "scores"
   ]
  },
  {
   "cell_type": "markdown",
   "metadata": {
    "id": "TvQ16n8x7RWb"
   },
   "source": [
    "# <center> Temperature Check: </center>\n",
    "## On a scale of 0 - 5, how confident do you feel in coding neural networks?\n",
    "\n",
    "0. What is a neural net?\n",
    "1. I know what a neural net is, but I don't know how to even start coding one.\n",
    "2. I kinda get how the code flows, but need help from someone else to create my own.\n",
    "3. I understand the general idea, and could code a neural net in Keras if I had an example in front of me.\n",
    "4. I feel confident in coding a neural network with some reference materials.\n",
    "5. Move over, Josh.  I can finish this code-along."
   ]
  },
  {
   "cell_type": "markdown",
   "metadata": {
    "id": "NWaTq6c7FHlr"
   },
   "source": [
    "\n",
    "# Classification Models in Keras\n",
    "\n",
    "Classification models are similar, except that we need to adjust:\n",
    "* The final activation of the output layer, and\n",
    "* The loss function and metrics in the compile step.\n",
    "\n",
    "We will also need to do some processing of the predictions after training to make them integers instead of floats.\n",
    "\n",
    "### Remember:\n",
    "MAE, MSE, RMSE, and R2 are regression metrics,\n",
    "\n",
    "accuracy, recall, precision, and F1-Score are classification metrics.\n",
    "\n",
    "## Classification Dataset\n",
    "The classification dataset describes diabetes rates among Pima Indians.  Each row is a person and this dataset includes features regarding health related measurements.  The target is binary and represents whether or not a person will be diagnosed with diabetes.  This is another old dataset first presented in 1988.\n",
    "\n"
   ]
  },
  {
   "cell_type": "code",
   "execution_count": 24,
   "metadata": {
    "colab": {
     "base_uri": "https://localhost:8080/",
     "height": 204
    },
    "executionInfo": {
     "elapsed": 17,
     "status": "ok",
     "timestamp": 1698803967448,
     "user": {
      "displayName": "Yvon Bilodeau",
      "userId": "10142856831792134633"
     },
     "user_tz": 420
    },
    "id": "CN1zHoGcGeFN",
    "outputId": "f0c37e65-f3e9-49fb-c46b-c42d66ef7117"
   },
   "outputs": [
    {
     "data": {
      "text/html": [
       "<div>\n",
       "<style scoped>\n",
       "    .dataframe tbody tr th:only-of-type {\n",
       "        vertical-align: middle;\n",
       "    }\n",
       "\n",
       "    .dataframe tbody tr th {\n",
       "        vertical-align: top;\n",
       "    }\n",
       "\n",
       "    .dataframe thead th {\n",
       "        text-align: right;\n",
       "    }\n",
       "</style>\n",
       "<table border=\"1\" class=\"dataframe\">\n",
       "  <thead>\n",
       "    <tr style=\"text-align: right;\">\n",
       "      <th></th>\n",
       "      <th>Pregnancies</th>\n",
       "      <th>Glucose</th>\n",
       "      <th>BloodPressure</th>\n",
       "      <th>SkinThickness</th>\n",
       "      <th>Insulin</th>\n",
       "      <th>BMI</th>\n",
       "      <th>DiabetesPedigreeFunction</th>\n",
       "      <th>Age</th>\n",
       "      <th>Outcome</th>\n",
       "    </tr>\n",
       "  </thead>\n",
       "  <tbody>\n",
       "    <tr>\n",
       "      <th>0</th>\n",
       "      <td>6</td>\n",
       "      <td>148</td>\n",
       "      <td>72</td>\n",
       "      <td>35</td>\n",
       "      <td>0</td>\n",
       "      <td>33.6</td>\n",
       "      <td>0.627</td>\n",
       "      <td>50</td>\n",
       "      <td>1</td>\n",
       "    </tr>\n",
       "    <tr>\n",
       "      <th>1</th>\n",
       "      <td>1</td>\n",
       "      <td>85</td>\n",
       "      <td>66</td>\n",
       "      <td>29</td>\n",
       "      <td>0</td>\n",
       "      <td>26.6</td>\n",
       "      <td>0.351</td>\n",
       "      <td>31</td>\n",
       "      <td>0</td>\n",
       "    </tr>\n",
       "    <tr>\n",
       "      <th>2</th>\n",
       "      <td>8</td>\n",
       "      <td>183</td>\n",
       "      <td>64</td>\n",
       "      <td>0</td>\n",
       "      <td>0</td>\n",
       "      <td>23.3</td>\n",
       "      <td>0.672</td>\n",
       "      <td>32</td>\n",
       "      <td>1</td>\n",
       "    </tr>\n",
       "    <tr>\n",
       "      <th>3</th>\n",
       "      <td>1</td>\n",
       "      <td>89</td>\n",
       "      <td>66</td>\n",
       "      <td>23</td>\n",
       "      <td>94</td>\n",
       "      <td>28.1</td>\n",
       "      <td>0.167</td>\n",
       "      <td>21</td>\n",
       "      <td>0</td>\n",
       "    </tr>\n",
       "    <tr>\n",
       "      <th>4</th>\n",
       "      <td>0</td>\n",
       "      <td>137</td>\n",
       "      <td>40</td>\n",
       "      <td>35</td>\n",
       "      <td>168</td>\n",
       "      <td>43.1</td>\n",
       "      <td>2.288</td>\n",
       "      <td>33</td>\n",
       "      <td>1</td>\n",
       "    </tr>\n",
       "  </tbody>\n",
       "</table>\n",
       "</div>"
      ],
      "text/plain": [
       "   Pregnancies  Glucose  BloodPressure  SkinThickness  Insulin   BMI  \\\n",
       "0            6      148             72             35        0  33.6   \n",
       "1            1       85             66             29        0  26.6   \n",
       "2            8      183             64              0        0  23.3   \n",
       "3            1       89             66             23       94  28.1   \n",
       "4            0      137             40             35      168  43.1   \n",
       "\n",
       "   DiabetesPedigreeFunction  Age  Outcome  \n",
       "0                     0.627   50        1  \n",
       "1                     0.351   31        0  \n",
       "2                     0.672   32        1  \n",
       "3                     0.167   21        0  \n",
       "4                     2.288   33        1  "
      ]
     },
     "execution_count": 24,
     "metadata": {},
     "output_type": "execute_result"
    }
   ],
   "source": [
    "classification_df = pd.read_csv('https://raw.githubusercontent.com/ninja-josh/image-storage/main/diabetes.csv')\n",
    "classification_df.head()"
   ]
  },
  {
   "cell_type": "code",
   "execution_count": 25,
   "metadata": {
    "colab": {
     "base_uri": "https://localhost:8080/"
    },
    "executionInfo": {
     "elapsed": 16,
     "status": "ok",
     "timestamp": 1698803967448,
     "user": {
      "displayName": "Yvon Bilodeau",
      "userId": "10142856831792134633"
     },
     "user_tz": 420
    },
    "id": "isTaHNFpGjQH",
    "outputId": "f8373e6d-e9c3-40d4-d790-f71c23b701f9"
   },
   "outputs": [
    {
     "name": "stdout",
     "output_type": "stream",
     "text": [
      "<class 'pandas.core.frame.DataFrame'>\n",
      "RangeIndex: 768 entries, 0 to 767\n",
      "Data columns (total 9 columns):\n",
      " #   Column                    Non-Null Count  Dtype  \n",
      "---  ------                    --------------  -----  \n",
      " 0   Pregnancies               768 non-null    int64  \n",
      " 1   Glucose                   768 non-null    int64  \n",
      " 2   BloodPressure             768 non-null    int64  \n",
      " 3   SkinThickness             768 non-null    int64  \n",
      " 4   Insulin                   768 non-null    int64  \n",
      " 5   BMI                       768 non-null    float64\n",
      " 6   DiabetesPedigreeFunction  768 non-null    float64\n",
      " 7   Age                       768 non-null    int64  \n",
      " 8   Outcome                   768 non-null    int64  \n",
      "dtypes: float64(2), int64(7)\n",
      "memory usage: 54.1 KB\n"
     ]
    }
   ],
   "source": [
    "classification_df.info()"
   ]
  },
  {
   "cell_type": "code",
   "execution_count": 26,
   "metadata": {
    "colab": {
     "base_uri": "https://localhost:8080/"
    },
    "executionInfo": {
     "elapsed": 10,
     "status": "ok",
     "timestamp": 1698803967448,
     "user": {
      "displayName": "Yvon Bilodeau",
      "userId": "10142856831792134633"
     },
     "user_tz": 420
    },
    "id": "HtZv-V73Gmjv",
    "outputId": "0cf5fa9f-33cc-47d1-b828-702de2a6f890"
   },
   "outputs": [
    {
     "data": {
      "text/plain": [
       "False"
      ]
     },
     "execution_count": 26,
     "metadata": {},
     "output_type": "execute_result"
    }
   ],
   "source": [
    "classification_df.duplicated().any()"
   ]
  },
  {
   "cell_type": "code",
   "execution_count": 27,
   "metadata": {
    "colab": {
     "base_uri": "https://localhost:8080/",
     "height": 297
    },
    "executionInfo": {
     "elapsed": 244,
     "status": "ok",
     "timestamp": 1698803967688,
     "user": {
      "displayName": "Yvon Bilodeau",
      "userId": "10142856831792134633"
     },
     "user_tz": 420
    },
    "id": "sdF3qT-9Gp_s",
    "outputId": "c2110d77-0c19-4268-b285-32c2640cedd0"
   },
   "outputs": [
    {
     "data": {
      "text/html": [
       "<div>\n",
       "<style scoped>\n",
       "    .dataframe tbody tr th:only-of-type {\n",
       "        vertical-align: middle;\n",
       "    }\n",
       "\n",
       "    .dataframe tbody tr th {\n",
       "        vertical-align: top;\n",
       "    }\n",
       "\n",
       "    .dataframe thead th {\n",
       "        text-align: right;\n",
       "    }\n",
       "</style>\n",
       "<table border=\"1\" class=\"dataframe\">\n",
       "  <thead>\n",
       "    <tr style=\"text-align: right;\">\n",
       "      <th></th>\n",
       "      <th>Pregnancies</th>\n",
       "      <th>Glucose</th>\n",
       "      <th>BloodPressure</th>\n",
       "      <th>SkinThickness</th>\n",
       "      <th>Insulin</th>\n",
       "      <th>BMI</th>\n",
       "      <th>DiabetesPedigreeFunction</th>\n",
       "      <th>Age</th>\n",
       "      <th>Outcome</th>\n",
       "    </tr>\n",
       "  </thead>\n",
       "  <tbody>\n",
       "    <tr>\n",
       "      <th>count</th>\n",
       "      <td>768.000000</td>\n",
       "      <td>768.000000</td>\n",
       "      <td>768.000000</td>\n",
       "      <td>768.000000</td>\n",
       "      <td>768.000000</td>\n",
       "      <td>768.000000</td>\n",
       "      <td>768.000000</td>\n",
       "      <td>768.000000</td>\n",
       "      <td>768.000000</td>\n",
       "    </tr>\n",
       "    <tr>\n",
       "      <th>mean</th>\n",
       "      <td>3.845052</td>\n",
       "      <td>120.894531</td>\n",
       "      <td>69.105469</td>\n",
       "      <td>20.536458</td>\n",
       "      <td>79.799479</td>\n",
       "      <td>31.992578</td>\n",
       "      <td>0.471876</td>\n",
       "      <td>33.240885</td>\n",
       "      <td>0.348958</td>\n",
       "    </tr>\n",
       "    <tr>\n",
       "      <th>std</th>\n",
       "      <td>3.369578</td>\n",
       "      <td>31.972618</td>\n",
       "      <td>19.355807</td>\n",
       "      <td>15.952218</td>\n",
       "      <td>115.244002</td>\n",
       "      <td>7.884160</td>\n",
       "      <td>0.331329</td>\n",
       "      <td>11.760232</td>\n",
       "      <td>0.476951</td>\n",
       "    </tr>\n",
       "    <tr>\n",
       "      <th>min</th>\n",
       "      <td>0.000000</td>\n",
       "      <td>0.000000</td>\n",
       "      <td>0.000000</td>\n",
       "      <td>0.000000</td>\n",
       "      <td>0.000000</td>\n",
       "      <td>0.000000</td>\n",
       "      <td>0.078000</td>\n",
       "      <td>21.000000</td>\n",
       "      <td>0.000000</td>\n",
       "    </tr>\n",
       "    <tr>\n",
       "      <th>25%</th>\n",
       "      <td>1.000000</td>\n",
       "      <td>99.000000</td>\n",
       "      <td>62.000000</td>\n",
       "      <td>0.000000</td>\n",
       "      <td>0.000000</td>\n",
       "      <td>27.300000</td>\n",
       "      <td>0.243750</td>\n",
       "      <td>24.000000</td>\n",
       "      <td>0.000000</td>\n",
       "    </tr>\n",
       "    <tr>\n",
       "      <th>50%</th>\n",
       "      <td>3.000000</td>\n",
       "      <td>117.000000</td>\n",
       "      <td>72.000000</td>\n",
       "      <td>23.000000</td>\n",
       "      <td>30.500000</td>\n",
       "      <td>32.000000</td>\n",
       "      <td>0.372500</td>\n",
       "      <td>29.000000</td>\n",
       "      <td>0.000000</td>\n",
       "    </tr>\n",
       "    <tr>\n",
       "      <th>75%</th>\n",
       "      <td>6.000000</td>\n",
       "      <td>140.250000</td>\n",
       "      <td>80.000000</td>\n",
       "      <td>32.000000</td>\n",
       "      <td>127.250000</td>\n",
       "      <td>36.600000</td>\n",
       "      <td>0.626250</td>\n",
       "      <td>41.000000</td>\n",
       "      <td>1.000000</td>\n",
       "    </tr>\n",
       "    <tr>\n",
       "      <th>max</th>\n",
       "      <td>17.000000</td>\n",
       "      <td>199.000000</td>\n",
       "      <td>122.000000</td>\n",
       "      <td>99.000000</td>\n",
       "      <td>846.000000</td>\n",
       "      <td>67.100000</td>\n",
       "      <td>2.420000</td>\n",
       "      <td>81.000000</td>\n",
       "      <td>1.000000</td>\n",
       "    </tr>\n",
       "  </tbody>\n",
       "</table>\n",
       "</div>"
      ],
      "text/plain": [
       "       Pregnancies     Glucose  BloodPressure  SkinThickness     Insulin  \\\n",
       "count   768.000000  768.000000     768.000000     768.000000  768.000000   \n",
       "mean      3.845052  120.894531      69.105469      20.536458   79.799479   \n",
       "std       3.369578   31.972618      19.355807      15.952218  115.244002   \n",
       "min       0.000000    0.000000       0.000000       0.000000    0.000000   \n",
       "25%       1.000000   99.000000      62.000000       0.000000    0.000000   \n",
       "50%       3.000000  117.000000      72.000000      23.000000   30.500000   \n",
       "75%       6.000000  140.250000      80.000000      32.000000  127.250000   \n",
       "max      17.000000  199.000000     122.000000      99.000000  846.000000   \n",
       "\n",
       "              BMI  DiabetesPedigreeFunction         Age     Outcome  \n",
       "count  768.000000                768.000000  768.000000  768.000000  \n",
       "mean    31.992578                  0.471876   33.240885    0.348958  \n",
       "std      7.884160                  0.331329   11.760232    0.476951  \n",
       "min      0.000000                  0.078000   21.000000    0.000000  \n",
       "25%     27.300000                  0.243750   24.000000    0.000000  \n",
       "50%     32.000000                  0.372500   29.000000    0.000000  \n",
       "75%     36.600000                  0.626250   41.000000    1.000000  \n",
       "max     67.100000                  2.420000   81.000000    1.000000  "
      ]
     },
     "execution_count": 27,
     "metadata": {},
     "output_type": "execute_result"
    }
   ],
   "source": [
    "classification_df.describe()"
   ]
  },
  {
   "cell_type": "markdown",
   "metadata": {
    "id": "l8cjiy3BGvLa"
   },
   "source": [
    "### Important Note:\n",
    "We see minimums for Glucose, BloodPression, SkinThickness, Insulin, and BMI of 0s.  Those are impossible for humans, so lets drop those rows."
   ]
  },
  {
   "cell_type": "code",
   "execution_count": 28,
   "metadata": {
    "colab": {
     "base_uri": "https://localhost:8080/",
     "height": 297
    },
    "executionInfo": {
     "elapsed": 23,
     "status": "ok",
     "timestamp": 1698803967689,
     "user": {
      "displayName": "Yvon Bilodeau",
      "userId": "10142856831792134633"
     },
     "user_tz": 420
    },
    "id": "TwzoeFVWG6Dd",
    "outputId": "1c35a985-cea6-441a-b58a-b8fdcab78117"
   },
   "outputs": [
    {
     "data": {
      "text/html": [
       "<div>\n",
       "<style scoped>\n",
       "    .dataframe tbody tr th:only-of-type {\n",
       "        vertical-align: middle;\n",
       "    }\n",
       "\n",
       "    .dataframe tbody tr th {\n",
       "        vertical-align: top;\n",
       "    }\n",
       "\n",
       "    .dataframe thead th {\n",
       "        text-align: right;\n",
       "    }\n",
       "</style>\n",
       "<table border=\"1\" class=\"dataframe\">\n",
       "  <thead>\n",
       "    <tr style=\"text-align: right;\">\n",
       "      <th></th>\n",
       "      <th>Pregnancies</th>\n",
       "      <th>Glucose</th>\n",
       "      <th>BloodPressure</th>\n",
       "      <th>SkinThickness</th>\n",
       "      <th>Insulin</th>\n",
       "      <th>BMI</th>\n",
       "      <th>DiabetesPedigreeFunction</th>\n",
       "      <th>Age</th>\n",
       "      <th>Outcome</th>\n",
       "    </tr>\n",
       "  </thead>\n",
       "  <tbody>\n",
       "    <tr>\n",
       "      <th>count</th>\n",
       "      <td>392.000000</td>\n",
       "      <td>392.000000</td>\n",
       "      <td>392.000000</td>\n",
       "      <td>392.000000</td>\n",
       "      <td>392.000000</td>\n",
       "      <td>392.000000</td>\n",
       "      <td>392.000000</td>\n",
       "      <td>392.000000</td>\n",
       "      <td>392.000000</td>\n",
       "    </tr>\n",
       "    <tr>\n",
       "      <th>mean</th>\n",
       "      <td>3.301020</td>\n",
       "      <td>122.627551</td>\n",
       "      <td>70.663265</td>\n",
       "      <td>29.145408</td>\n",
       "      <td>156.056122</td>\n",
       "      <td>33.086224</td>\n",
       "      <td>0.523046</td>\n",
       "      <td>30.864796</td>\n",
       "      <td>0.331633</td>\n",
       "    </tr>\n",
       "    <tr>\n",
       "      <th>std</th>\n",
       "      <td>3.211424</td>\n",
       "      <td>30.860781</td>\n",
       "      <td>12.496092</td>\n",
       "      <td>10.516424</td>\n",
       "      <td>118.841690</td>\n",
       "      <td>7.027659</td>\n",
       "      <td>0.345488</td>\n",
       "      <td>10.200777</td>\n",
       "      <td>0.471401</td>\n",
       "    </tr>\n",
       "    <tr>\n",
       "      <th>min</th>\n",
       "      <td>0.000000</td>\n",
       "      <td>56.000000</td>\n",
       "      <td>24.000000</td>\n",
       "      <td>7.000000</td>\n",
       "      <td>14.000000</td>\n",
       "      <td>18.200000</td>\n",
       "      <td>0.085000</td>\n",
       "      <td>21.000000</td>\n",
       "      <td>0.000000</td>\n",
       "    </tr>\n",
       "    <tr>\n",
       "      <th>25%</th>\n",
       "      <td>1.000000</td>\n",
       "      <td>99.000000</td>\n",
       "      <td>62.000000</td>\n",
       "      <td>21.000000</td>\n",
       "      <td>76.750000</td>\n",
       "      <td>28.400000</td>\n",
       "      <td>0.269750</td>\n",
       "      <td>23.000000</td>\n",
       "      <td>0.000000</td>\n",
       "    </tr>\n",
       "    <tr>\n",
       "      <th>50%</th>\n",
       "      <td>2.000000</td>\n",
       "      <td>119.000000</td>\n",
       "      <td>70.000000</td>\n",
       "      <td>29.000000</td>\n",
       "      <td>125.500000</td>\n",
       "      <td>33.200000</td>\n",
       "      <td>0.449500</td>\n",
       "      <td>27.000000</td>\n",
       "      <td>0.000000</td>\n",
       "    </tr>\n",
       "    <tr>\n",
       "      <th>75%</th>\n",
       "      <td>5.000000</td>\n",
       "      <td>143.000000</td>\n",
       "      <td>78.000000</td>\n",
       "      <td>37.000000</td>\n",
       "      <td>190.000000</td>\n",
       "      <td>37.100000</td>\n",
       "      <td>0.687000</td>\n",
       "      <td>36.000000</td>\n",
       "      <td>1.000000</td>\n",
       "    </tr>\n",
       "    <tr>\n",
       "      <th>max</th>\n",
       "      <td>17.000000</td>\n",
       "      <td>198.000000</td>\n",
       "      <td>110.000000</td>\n",
       "      <td>63.000000</td>\n",
       "      <td>846.000000</td>\n",
       "      <td>67.100000</td>\n",
       "      <td>2.420000</td>\n",
       "      <td>81.000000</td>\n",
       "      <td>1.000000</td>\n",
       "    </tr>\n",
       "  </tbody>\n",
       "</table>\n",
       "</div>"
      ],
      "text/plain": [
       "       Pregnancies     Glucose  BloodPressure  SkinThickness     Insulin  \\\n",
       "count   392.000000  392.000000     392.000000     392.000000  392.000000   \n",
       "mean      3.301020  122.627551      70.663265      29.145408  156.056122   \n",
       "std       3.211424   30.860781      12.496092      10.516424  118.841690   \n",
       "min       0.000000   56.000000      24.000000       7.000000   14.000000   \n",
       "25%       1.000000   99.000000      62.000000      21.000000   76.750000   \n",
       "50%       2.000000  119.000000      70.000000      29.000000  125.500000   \n",
       "75%       5.000000  143.000000      78.000000      37.000000  190.000000   \n",
       "max      17.000000  198.000000     110.000000      63.000000  846.000000   \n",
       "\n",
       "              BMI  DiabetesPedigreeFunction         Age     Outcome  \n",
       "count  392.000000                392.000000  392.000000  392.000000  \n",
       "mean    33.086224                  0.523046   30.864796    0.331633  \n",
       "std      7.027659                  0.345488   10.200777    0.471401  \n",
       "min     18.200000                  0.085000   21.000000    0.000000  \n",
       "25%     28.400000                  0.269750   23.000000    0.000000  \n",
       "50%     33.200000                  0.449500   27.000000    0.000000  \n",
       "75%     37.100000                  0.687000   36.000000    1.000000  \n",
       "max     67.100000                  2.420000   81.000000    1.000000  "
      ]
     },
     "execution_count": 28,
     "metadata": {},
     "output_type": "execute_result"
    }
   ],
   "source": [
    "no_glucose = classification_df['Glucose'] == 0\n",
    "no_blood = classification_df['BloodPressure'] == 0\n",
    "no_skin = classification_df['SkinThickness'] == 0\n",
    "no_insulin = classification_df['Insulin'] == 0\n",
    "no_bmi = classification_df['BMI'] == 0\n",
    "\n",
    "#class_df_clean excludes rows that have no values == 0 in the above columns\n",
    "class_df_clean = classification_df[~(no_glucose |\n",
    "                                     no_blood |\n",
    "                                     no_skin |\n",
    "                                     no_insulin |\n",
    "                                     no_bmi)]\n",
    "class_df_clean.describe()"
   ]
  },
  {
   "cell_type": "markdown",
   "metadata": {
    "id": "oQqWsTbaM5It"
   },
   "source": [
    "We lost a lot of data, going from 768 samples to 392 samples.  In the future we might impute this data using means, medians, or other imputation strategies.  For this exercise we won't focus on that."
   ]
  },
  {
   "cell_type": "markdown",
   "metadata": {
    "id": "H3mqMU6SJZlO"
   },
   "source": [
    "### Important Note:\n",
    "\n",
    "This stratify parameter makes a split so that the proportion of values in the sample produced will be the same as the proportion of values provided to parameter stratify.\n",
    "\n",
    "For example, if variable y is a binary categorical variable with values 0 and 1 and there are 25% of zeros and 75% of ones, stratify=y will make sure that your random split has 25% of 0's and 75% of 1's."
   ]
  },
  {
   "cell_type": "code",
   "execution_count": 29,
   "metadata": {
    "executionInfo": {
     "elapsed": 22,
     "status": "ok",
     "timestamp": 1698803967689,
     "user": {
      "displayName": "Yvon Bilodeau",
      "userId": "10142856831792134633"
     },
     "user_tz": 420
    },
    "id": "JjREwrWgGPtP"
   },
   "outputs": [],
   "source": [
    "# Define X and y and train test split\n",
    "X = class_df_clean.drop(columns = 'Outcome')\n",
    "y = class_df_clean['Outcome']\n",
    "\n",
    "\n",
    "X_train, X_test, y_train, y_test = train_test_split(X, y, random_state = 42, stratify = y)"
   ]
  },
  {
   "cell_type": "code",
   "execution_count": 30,
   "metadata": {
    "colab": {
     "base_uri": "https://localhost:8080/"
    },
    "executionInfo": {
     "elapsed": 22,
     "status": "ok",
     "timestamp": 1698803967689,
     "user": {
      "displayName": "Yvon Bilodeau",
      "userId": "10142856831792134633"
     },
     "user_tz": 420
    },
    "id": "bE0MPxsBJZlP",
    "outputId": "243735cd-5b06-403c-b4dc-6ad4292d3b75"
   },
   "outputs": [
    {
     "data": {
      "text/plain": [
       "0    0.668367\n",
       "1    0.331633\n",
       "Name: Outcome, dtype: float64"
      ]
     },
     "execution_count": 30,
     "metadata": {},
     "output_type": "execute_result"
    }
   ],
   "source": [
    "# Proportions of 0 and 1 in the dataset\n",
    "y.value_counts(normalize=True)"
   ]
  },
  {
   "cell_type": "code",
   "execution_count": null,
   "metadata": {
    "colab": {
     "base_uri": "https://localhost:8080/"
    },
    "executionInfo": {
     "elapsed": 16,
     "status": "ok",
     "timestamp": 1698803967689,
     "user": {
      "displayName": "Yvon Bilodeau",
      "userId": "10142856831792134633"
     },
     "user_tz": 420
    },
    "id": "sO-5i_X7JZlP",
    "outputId": "ca91fca6-df64-4fb6-9d3a-4b1c9211e606"
   },
   "outputs": [],
   "source": [
    "# Proportions of 0 and 1 in the train dataset\n",
    "y_train.value_counts(normalize=True)"
   ]
  },
  {
   "cell_type": "code",
   "execution_count": null,
   "metadata": {
    "colab": {
     "base_uri": "https://localhost:8080/"
    },
    "executionInfo": {
     "elapsed": 10,
     "status": "ok",
     "timestamp": 1698803967689,
     "user": {
      "displayName": "Yvon Bilodeau",
      "userId": "10142856831792134633"
     },
     "user_tz": 420
    },
    "id": "ccjfu2pdJZlP",
    "outputId": "41da206e-4f3e-4220-d585-70e2b1dee4ff"
   },
   "outputs": [],
   "source": [
    "# Proportions of 0 and 1 in the test dataset\n",
    "y_test.value_counts(normalize=True)"
   ]
  },
  {
   "cell_type": "code",
   "execution_count": 31,
   "metadata": {
    "executionInfo": {
     "elapsed": 5,
     "status": "ok",
     "timestamp": 1698803967689,
     "user": {
      "displayName": "Yvon Bilodeau",
      "userId": "10142856831792134633"
     },
     "user_tz": 420
    },
    "id": "EKPiCOByPOfF"
   },
   "outputs": [],
   "source": [
    "# Scale the data\n",
    "scaler = MinMaxScaler()\n",
    "scaler.fit(X_train)\n",
    "X_train_proc = scaler.transform(X_train)\n",
    "X_test_proc = scaler.transform(X_test)"
   ]
  },
  {
   "cell_type": "markdown",
   "metadata": {
    "id": "1TWU179nQIdt"
   },
   "source": [
    "## Build the Classification Model\n",
    "\n",
    "We need to do a few things differently here because this is a binary classification:\n",
    "\n",
    "1. The activation of our final layer needs to be 'sigmoid'.  \n",
    "\n",
    "\n",
    "(If this were multiclass classification, we would set the final activation as 'softmax' and the number of output nodes would be the number of classes in our y_train.)"
   ]
  },
  {
   "cell_type": "code",
   "execution_count": 34,
   "metadata": {
    "colab": {
     "base_uri": "https://localhost:8080/"
    },
    "executionInfo": {
     "elapsed": 204,
     "status": "ok",
     "timestamp": 1698803967889,
     "user": {
      "displayName": "Yvon Bilodeau",
      "userId": "10142856831792134633"
     },
     "user_tz": 420
    },
    "id": "lAwy3AXrPjwH",
    "outputId": "c89302f6-b241-4c46-878c-100361bd0a5a"
   },
   "outputs": [],
   "source": [
    "from keras.metrics import Precision, Recall\n",
    "# Set Random Seeds\n",
    "keras.backend.clear_session()\n",
    "np.random.seed(42)\n",
    "tf.random.set_seed(42)\n",
    "\n",
    "# Build your model\n",
    "def build_class_model():\n",
    "    model = Sequential()\n",
    "    model.add(Dense(5, input_dim=X_train_proc.shape[1]))\n",
    "    model.add(Dense(10))\n",
    "    model.add(Dense(2))\n",
    "\n",
    "\n",
    "# One output node with 'sigmoid' activation\n",
    "    model.add(Dense(1, activation='sigmoid'))\n",
    "\n",
    "    model.summary()\n",
    "\n",
    "    model.compile(loss='bce', metrics=['acc', Precision(), Recall()])\n",
    "\n",
    "    return model"
   ]
  },
  {
   "cell_type": "markdown",
   "metadata": {
    "id": "4nrwLXyKPpO1"
   },
   "source": [
    "## More Changes for Classification:\n",
    "\n",
    "1.  We need to change our loss to 'binary_crossentropy', or 'bce'.  If this were multiclass we would use 'categorical_crossentrobpy'.\n",
    "\n",
    "2. Our metrics should be classification metrics.  We will use accuracy and import recall and precision."
   ]
  },
  {
   "cell_type": "code",
   "execution_count": 35,
   "metadata": {
    "colab": {
     "base_uri": "https://localhost:8080/"
    },
    "executionInfo": {
     "elapsed": 42183,
     "status": "ok",
     "timestamp": 1698804010065,
     "user": {
      "displayName": "Yvon Bilodeau",
      "userId": "10142856831792134633"
     },
     "user_tz": 420
    },
    "id": "vScTvfoKOVLO",
    "outputId": "8106018a-5a36-4175-c6bb-c6924f9730cd"
   },
   "outputs": [
    {
     "name": "stdout",
     "output_type": "stream",
     "text": [
      "Model: \"sequential\"\n",
      "_________________________________________________________________\n",
      " Layer (type)                Output Shape              Param #   \n",
      "=================================================================\n",
      " dense (Dense)               (None, 5)                 45        \n",
      "                                                                 \n",
      " dense_1 (Dense)             (None, 10)                60        \n",
      "                                                                 \n",
      " dense_2 (Dense)             (None, 2)                 22        \n",
      "                                                                 \n",
      " dense_3 (Dense)             (None, 1)                 3         \n",
      "                                                                 \n",
      "=================================================================\n",
      "Total params: 130\n",
      "Trainable params: 130\n",
      "Non-trainable params: 0\n",
      "_________________________________________________________________\n"
     ]
    }
   ],
   "source": [
    "# fit your model\n",
    "class_model = build_class_model()\n",
    "\n"
   ]
  },
  {
   "cell_type": "code",
   "execution_count": 36,
   "metadata": {
    "colab": {
     "base_uri": "https://localhost:8080/"
    },
    "executionInfo": {
     "elapsed": 6,
     "status": "ok",
     "timestamp": 1698804010065,
     "user": {
      "displayName": "Yvon Bilodeau",
      "userId": "10142856831792134633"
     },
     "user_tz": 420
    },
    "id": "OTmswQ-tJZlX",
    "outputId": "d4eb9d6d-e4cf-4250-bf54-d5c23e16fc37"
   },
   "outputs": [
    {
     "name": "stdout",
     "output_type": "stream",
     "text": [
      "Epoch 1/100\n",
      "10/10 [==============================] - 1s 28ms/step - loss: 0.6971 - acc: 0.5170 - precision: 0.3493 - recall: 0.5204 - val_loss: 0.6838 - val_acc: 0.6633 - val_precision: 0.4545 - val_recall: 0.1562\n",
      "Epoch 2/100\n",
      "10/10 [==============================] - 0s 5ms/step - loss: 0.6710 - acc: 0.6531 - precision: 0.3750 - recall: 0.0612 - val_loss: 0.6716 - val_acc: 0.6633 - val_precision: 0.0000e+00 - val_recall: 0.0000e+00\n",
      "Epoch 3/100\n",
      "10/10 [==============================] - 0s 4ms/step - loss: 0.6639 - acc: 0.6667 - precision: 0.0000e+00 - recall: 0.0000e+00 - val_loss: 0.6666 - val_acc: 0.6735 - val_precision: 0.0000e+00 - val_recall: 0.0000e+00\n",
      "Epoch 4/100\n",
      "10/10 [==============================] - 0s 5ms/step - loss: 0.6596 - acc: 0.6667 - precision: 0.0000e+00 - recall: 0.0000e+00 - val_loss: 0.6616 - val_acc: 0.6735 - val_precision: 0.0000e+00 - val_recall: 0.0000e+00\n",
      "Epoch 5/100\n",
      "10/10 [==============================] - 0s 5ms/step - loss: 0.6552 - acc: 0.6667 - precision: 0.0000e+00 - recall: 0.0000e+00 - val_loss: 0.6582 - val_acc: 0.6735 - val_precision: 0.0000e+00 - val_recall: 0.0000e+00\n",
      "Epoch 6/100\n",
      "10/10 [==============================] - 0s 4ms/step - loss: 0.6527 - acc: 0.6667 - precision: 0.0000e+00 - recall: 0.0000e+00 - val_loss: 0.6563 - val_acc: 0.6735 - val_precision: 0.0000e+00 - val_recall: 0.0000e+00\n",
      "Epoch 7/100\n",
      "10/10 [==============================] - 0s 4ms/step - loss: 0.6505 - acc: 0.6667 - precision: 0.0000e+00 - recall: 0.0000e+00 - val_loss: 0.6535 - val_acc: 0.6735 - val_precision: 0.0000e+00 - val_recall: 0.0000e+00\n",
      "Epoch 8/100\n",
      "10/10 [==============================] - 0s 5ms/step - loss: 0.6487 - acc: 0.6667 - precision: 0.0000e+00 - recall: 0.0000e+00 - val_loss: 0.6510 - val_acc: 0.6735 - val_precision: 0.0000e+00 - val_recall: 0.0000e+00\n",
      "Epoch 9/100\n",
      "10/10 [==============================] - 0s 5ms/step - loss: 0.6449 - acc: 0.6667 - precision: 0.0000e+00 - recall: 0.0000e+00 - val_loss: 0.6485 - val_acc: 0.6735 - val_precision: 0.0000e+00 - val_recall: 0.0000e+00\n",
      "Epoch 10/100\n",
      "10/10 [==============================] - 0s 5ms/step - loss: 0.6421 - acc: 0.6667 - precision: 0.0000e+00 - recall: 0.0000e+00 - val_loss: 0.6451 - val_acc: 0.6735 - val_precision: 0.0000e+00 - val_recall: 0.0000e+00\n",
      "Epoch 11/100\n",
      "10/10 [==============================] - 0s 5ms/step - loss: 0.6402 - acc: 0.6633 - precision: 0.0000e+00 - recall: 0.0000e+00 - val_loss: 0.6421 - val_acc: 0.6735 - val_precision: 0.0000e+00 - val_recall: 0.0000e+00\n",
      "Epoch 12/100\n",
      "10/10 [==============================] - 0s 5ms/step - loss: 0.6367 - acc: 0.6667 - precision: 0.0000e+00 - recall: 0.0000e+00 - val_loss: 0.6399 - val_acc: 0.6735 - val_precision: 0.0000e+00 - val_recall: 0.0000e+00\n",
      "Epoch 13/100\n",
      "10/10 [==============================] - 0s 5ms/step - loss: 0.6349 - acc: 0.6667 - precision: 0.0000e+00 - recall: 0.0000e+00 - val_loss: 0.6380 - val_acc: 0.6735 - val_precision: 0.0000e+00 - val_recall: 0.0000e+00\n",
      "Epoch 14/100\n",
      "10/10 [==============================] - 0s 5ms/step - loss: 0.6332 - acc: 0.6667 - precision: 0.0000e+00 - recall: 0.0000e+00 - val_loss: 0.6362 - val_acc: 0.6735 - val_precision: 0.0000e+00 - val_recall: 0.0000e+00\n",
      "Epoch 15/100\n",
      "10/10 [==============================] - 0s 5ms/step - loss: 0.6305 - acc: 0.6667 - precision: 0.0000e+00 - recall: 0.0000e+00 - val_loss: 0.6337 - val_acc: 0.6735 - val_precision: 0.0000e+00 - val_recall: 0.0000e+00\n",
      "Epoch 16/100\n",
      "10/10 [==============================] - 0s 5ms/step - loss: 0.6271 - acc: 0.6633 - precision: 0.0000e+00 - recall: 0.0000e+00 - val_loss: 0.6320 - val_acc: 0.6939 - val_precision: 1.0000 - val_recall: 0.0625\n",
      "Epoch 17/100\n",
      "10/10 [==============================] - 0s 5ms/step - loss: 0.6245 - acc: 0.6633 - precision: 0.0000e+00 - recall: 0.0000e+00 - val_loss: 0.6310 - val_acc: 0.6939 - val_precision: 1.0000 - val_recall: 0.0625\n",
      "Epoch 18/100\n",
      "10/10 [==============================] - 0s 5ms/step - loss: 0.6231 - acc: 0.6633 - precision: 0.0000e+00 - recall: 0.0000e+00 - val_loss: 0.6284 - val_acc: 0.6939 - val_precision: 1.0000 - val_recall: 0.0625\n",
      "Epoch 19/100\n",
      "10/10 [==============================] - 0s 4ms/step - loss: 0.6197 - acc: 0.6667 - precision: 0.5000 - recall: 0.0102 - val_loss: 0.6242 - val_acc: 0.6939 - val_precision: 1.0000 - val_recall: 0.0625\n",
      "Epoch 20/100\n",
      "10/10 [==============================] - 0s 5ms/step - loss: 0.6170 - acc: 0.6633 - precision: 0.0000e+00 - recall: 0.0000e+00 - val_loss: 0.6226 - val_acc: 0.6939 - val_precision: 1.0000 - val_recall: 0.0625\n",
      "Epoch 21/100\n",
      "10/10 [==============================] - 0s 5ms/step - loss: 0.6141 - acc: 0.6667 - precision: 0.5000 - recall: 0.0102 - val_loss: 0.6183 - val_acc: 0.6939 - val_precision: 1.0000 - val_recall: 0.0625\n",
      "Epoch 22/100\n",
      "10/10 [==============================] - 0s 4ms/step - loss: 0.6123 - acc: 0.6667 - precision: 0.5000 - recall: 0.0102 - val_loss: 0.6160 - val_acc: 0.6939 - val_precision: 1.0000 - val_recall: 0.0625\n",
      "Epoch 23/100\n",
      "10/10 [==============================] - 0s 5ms/step - loss: 0.6089 - acc: 0.6633 - precision: 0.0000e+00 - recall: 0.0000e+00 - val_loss: 0.6142 - val_acc: 0.6939 - val_precision: 1.0000 - val_recall: 0.0625\n",
      "Epoch 24/100\n",
      "10/10 [==============================] - 0s 4ms/step - loss: 0.6059 - acc: 0.6701 - precision: 0.6667 - recall: 0.0204 - val_loss: 0.6111 - val_acc: 0.6939 - val_precision: 1.0000 - val_recall: 0.0625\n",
      "Epoch 25/100\n",
      "10/10 [==============================] - 0s 4ms/step - loss: 0.6031 - acc: 0.6633 - precision: 0.0000e+00 - recall: 0.0000e+00 - val_loss: 0.6082 - val_acc: 0.6939 - val_precision: 1.0000 - val_recall: 0.0625\n",
      "Epoch 26/100\n",
      "10/10 [==============================] - 0s 4ms/step - loss: 0.6001 - acc: 0.6735 - precision: 0.6667 - recall: 0.0408 - val_loss: 0.6048 - val_acc: 0.6939 - val_precision: 1.0000 - val_recall: 0.0625\n",
      "Epoch 27/100\n",
      "10/10 [==============================] - 0s 4ms/step - loss: 0.5958 - acc: 0.6701 - precision: 0.6667 - recall: 0.0204 - val_loss: 0.6010 - val_acc: 0.6939 - val_precision: 1.0000 - val_recall: 0.0625\n",
      "Epoch 28/100\n",
      "10/10 [==============================] - 0s 4ms/step - loss: 0.5925 - acc: 0.6735 - precision: 0.6667 - recall: 0.0408 - val_loss: 0.5990 - val_acc: 0.7245 - val_precision: 0.8571 - val_recall: 0.1875\n",
      "Epoch 29/100\n",
      "10/10 [==============================] - 0s 8ms/step - loss: 0.5886 - acc: 0.6939 - precision: 0.8333 - recall: 0.1020 - val_loss: 0.5956 - val_acc: 0.7143 - val_precision: 0.8333 - val_recall: 0.1562\n",
      "Epoch 30/100\n",
      "10/10 [==============================] - 0s 5ms/step - loss: 0.5856 - acc: 0.7007 - precision: 0.8125 - recall: 0.1327 - val_loss: 0.5918 - val_acc: 0.7245 - val_precision: 0.8571 - val_recall: 0.1875\n",
      "Epoch 31/100\n",
      "10/10 [==============================] - 0s 4ms/step - loss: 0.5809 - acc: 0.7109 - precision: 0.8421 - recall: 0.1633 - val_loss: 0.5874 - val_acc: 0.7041 - val_precision: 1.0000 - val_recall: 0.0938\n",
      "Epoch 32/100\n",
      "10/10 [==============================] - 0s 4ms/step - loss: 0.5786 - acc: 0.7007 - precision: 0.8125 - recall: 0.1327 - val_loss: 0.5849 - val_acc: 0.7041 - val_precision: 1.0000 - val_recall: 0.0938\n",
      "Epoch 33/100\n",
      "10/10 [==============================] - 0s 5ms/step - loss: 0.5777 - acc: 0.6871 - precision: 0.7500 - recall: 0.0918 - val_loss: 0.5816 - val_acc: 0.7041 - val_precision: 0.8000 - val_recall: 0.1250\n",
      "Epoch 34/100\n",
      "10/10 [==============================] - 0s 5ms/step - loss: 0.5727 - acc: 0.7041 - precision: 0.8667 - recall: 0.1327 - val_loss: 0.5797 - val_acc: 0.7551 - val_precision: 0.9000 - val_recall: 0.2812\n",
      "Epoch 35/100\n",
      "10/10 [==============================] - 0s 5ms/step - loss: 0.5689 - acc: 0.7211 - precision: 0.7667 - recall: 0.2347 - val_loss: 0.5764 - val_acc: 0.7449 - val_precision: 0.8889 - val_recall: 0.2500\n",
      "Epoch 36/100\n",
      "10/10 [==============================] - 0s 4ms/step - loss: 0.5660 - acc: 0.7109 - precision: 0.8421 - recall: 0.1633 - val_loss: 0.5736 - val_acc: 0.7551 - val_precision: 0.9000 - val_recall: 0.2812\n",
      "Epoch 37/100\n",
      "10/10 [==============================] - 0s 4ms/step - loss: 0.5619 - acc: 0.7041 - precision: 0.7619 - recall: 0.1633 - val_loss: 0.5741 - val_acc: 0.7551 - val_precision: 0.7500 - val_recall: 0.3750\n",
      "Epoch 38/100\n",
      "10/10 [==============================] - 0s 5ms/step - loss: 0.5595 - acc: 0.7483 - precision: 0.7500 - recall: 0.3673 - val_loss: 0.5710 - val_acc: 0.7551 - val_precision: 0.7500 - val_recall: 0.3750\n",
      "Epoch 39/100\n",
      "10/10 [==============================] - 0s 4ms/step - loss: 0.5565 - acc: 0.7653 - precision: 0.7636 - recall: 0.4286 - val_loss: 0.5655 - val_acc: 0.7653 - val_precision: 0.8000 - val_recall: 0.3750\n",
      "Epoch 40/100\n",
      "10/10 [==============================] - 0s 4ms/step - loss: 0.5528 - acc: 0.7449 - precision: 0.7447 - recall: 0.3571 - val_loss: 0.5605 - val_acc: 0.7347 - val_precision: 0.7500 - val_recall: 0.2812\n",
      "Epoch 41/100\n",
      "10/10 [==============================] - 0s 5ms/step - loss: 0.5483 - acc: 0.7415 - precision: 0.7750 - recall: 0.3163 - val_loss: 0.5586 - val_acc: 0.7653 - val_precision: 0.8000 - val_recall: 0.3750\n",
      "Epoch 42/100\n",
      "10/10 [==============================] - 0s 5ms/step - loss: 0.5458 - acc: 0.7347 - precision: 0.7273 - recall: 0.3265 - val_loss: 0.5577 - val_acc: 0.7755 - val_precision: 0.7778 - val_recall: 0.4375\n",
      "Epoch 43/100\n",
      "10/10 [==============================] - 0s 5ms/step - loss: 0.5421 - acc: 0.7721 - precision: 0.7719 - recall: 0.4490 - val_loss: 0.5538 - val_acc: 0.7857 - val_precision: 0.7895 - val_recall: 0.4688\n",
      "Epoch 44/100\n",
      "10/10 [==============================] - 0s 5ms/step - loss: 0.5383 - acc: 0.7653 - precision: 0.7636 - recall: 0.4286 - val_loss: 0.5525 - val_acc: 0.7857 - val_precision: 0.7391 - val_recall: 0.5312\n",
      "Epoch 45/100\n",
      "10/10 [==============================] - 0s 5ms/step - loss: 0.5361 - acc: 0.7789 - precision: 0.7463 - recall: 0.5102 - val_loss: 0.5502 - val_acc: 0.7857 - val_precision: 0.7391 - val_recall: 0.5312\n",
      "Epoch 46/100\n",
      "10/10 [==============================] - 0s 4ms/step - loss: 0.5335 - acc: 0.7721 - precision: 0.7385 - recall: 0.4898 - val_loss: 0.5453 - val_acc: 0.7857 - val_precision: 0.7619 - val_recall: 0.5000\n",
      "Epoch 47/100\n",
      "10/10 [==============================] - 0s 4ms/step - loss: 0.5294 - acc: 0.7925 - precision: 0.7681 - recall: 0.5408 - val_loss: 0.5394 - val_acc: 0.7653 - val_precision: 0.8000 - val_recall: 0.3750\n",
      "Epoch 48/100\n",
      "10/10 [==============================] - 0s 4ms/step - loss: 0.5274 - acc: 0.7687 - precision: 0.7679 - recall: 0.4388 - val_loss: 0.5363 - val_acc: 0.7959 - val_precision: 0.8333 - val_recall: 0.4688\n",
      "Epoch 49/100\n",
      "10/10 [==============================] - 0s 5ms/step - loss: 0.5231 - acc: 0.7653 - precision: 0.7636 - recall: 0.4286 - val_loss: 0.5343 - val_acc: 0.7857 - val_precision: 0.7619 - val_recall: 0.5000\n",
      "Epoch 50/100\n",
      "10/10 [==============================] - 0s 4ms/step - loss: 0.5216 - acc: 0.7755 - precision: 0.7667 - recall: 0.4694 - val_loss: 0.5303 - val_acc: 0.7959 - val_precision: 0.8333 - val_recall: 0.4688\n",
      "Epoch 51/100\n",
      "10/10 [==============================] - 0s 4ms/step - loss: 0.5180 - acc: 0.7789 - precision: 0.7705 - recall: 0.4796 - val_loss: 0.5275 - val_acc: 0.7959 - val_precision: 0.8000 - val_recall: 0.5000\n",
      "Epoch 52/100\n",
      "10/10 [==============================] - 0s 5ms/step - loss: 0.5137 - acc: 0.7789 - precision: 0.7797 - recall: 0.4694 - val_loss: 0.5297 - val_acc: 0.7959 - val_precision: 0.7500 - val_recall: 0.5625\n",
      "Epoch 53/100\n",
      "10/10 [==============================] - 0s 5ms/step - loss: 0.5123 - acc: 0.7823 - precision: 0.7297 - recall: 0.5510 - val_loss: 0.5224 - val_acc: 0.8061 - val_precision: 0.8095 - val_recall: 0.5312\n",
      "Epoch 54/100\n",
      "10/10 [==============================] - 0s 4ms/step - loss: 0.5094 - acc: 0.7823 - precision: 0.7500 - recall: 0.5204 - val_loss: 0.5180 - val_acc: 0.7959 - val_precision: 0.8333 - val_recall: 0.4688\n",
      "Epoch 55/100\n",
      "10/10 [==============================] - 0s 4ms/step - loss: 0.5067 - acc: 0.7755 - precision: 0.7500 - recall: 0.4898 - val_loss: 0.5176 - val_acc: 0.8163 - val_precision: 0.8182 - val_recall: 0.5625\n",
      "Epoch 56/100\n",
      "10/10 [==============================] - 0s 5ms/step - loss: 0.5058 - acc: 0.7857 - precision: 0.7536 - recall: 0.5306 - val_loss: 0.5142 - val_acc: 0.8163 - val_precision: 0.8182 - val_recall: 0.5625\n",
      "Epoch 57/100\n",
      "10/10 [==============================] - 0s 4ms/step - loss: 0.5021 - acc: 0.7823 - precision: 0.7429 - recall: 0.5306 - val_loss: 0.5111 - val_acc: 0.8061 - val_precision: 0.8095 - val_recall: 0.5312\n",
      "Epoch 58/100\n",
      "10/10 [==============================] - 0s 7ms/step - loss: 0.4997 - acc: 0.7755 - precision: 0.7581 - recall: 0.4796 - val_loss: 0.5112 - val_acc: 0.8061 - val_precision: 0.7826 - val_recall: 0.5625\n",
      "Epoch 59/100\n",
      "10/10 [==============================] - 0s 5ms/step - loss: 0.4975 - acc: 0.7857 - precision: 0.7397 - recall: 0.5510 - val_loss: 0.5071 - val_acc: 0.8061 - val_precision: 0.8095 - val_recall: 0.5312\n",
      "Epoch 60/100\n",
      "10/10 [==============================] - 0s 5ms/step - loss: 0.4961 - acc: 0.7823 - precision: 0.7576 - recall: 0.5102 - val_loss: 0.5080 - val_acc: 0.8061 - val_precision: 0.7826 - val_recall: 0.5625\n",
      "Epoch 61/100\n",
      "10/10 [==============================] - 0s 5ms/step - loss: 0.4956 - acc: 0.7823 - precision: 0.7500 - recall: 0.5204 - val_loss: 0.5055 - val_acc: 0.8061 - val_precision: 0.7826 - val_recall: 0.5625\n",
      "Epoch 62/100\n",
      "10/10 [==============================] - 0s 5ms/step - loss: 0.4935 - acc: 0.7789 - precision: 0.7391 - recall: 0.5204 - val_loss: 0.5032 - val_acc: 0.8163 - val_precision: 0.8182 - val_recall: 0.5625\n",
      "Epoch 63/100\n",
      "10/10 [==============================] - 0s 5ms/step - loss: 0.4916 - acc: 0.7891 - precision: 0.7432 - recall: 0.5612 - val_loss: 0.5003 - val_acc: 0.8061 - val_precision: 0.8095 - val_recall: 0.5312\n",
      "Epoch 64/100\n",
      "10/10 [==============================] - 0s 4ms/step - loss: 0.4903 - acc: 0.7721 - precision: 0.7313 - recall: 0.5000 - val_loss: 0.5032 - val_acc: 0.7959 - val_precision: 0.7143 - val_recall: 0.6250\n",
      "Epoch 65/100\n",
      "10/10 [==============================] - 0s 4ms/step - loss: 0.4885 - acc: 0.7925 - precision: 0.7342 - recall: 0.5918 - val_loss: 0.4981 - val_acc: 0.8163 - val_precision: 0.8182 - val_recall: 0.5625\n",
      "Epoch 66/100\n",
      "10/10 [==============================] - 0s 4ms/step - loss: 0.4871 - acc: 0.7857 - precision: 0.7536 - recall: 0.5306 - val_loss: 0.4970 - val_acc: 0.8163 - val_precision: 0.7917 - val_recall: 0.5938\n",
      "Epoch 67/100\n",
      "10/10 [==============================] - 0s 5ms/step - loss: 0.4861 - acc: 0.7891 - precision: 0.7432 - recall: 0.5612 - val_loss: 0.4948 - val_acc: 0.8163 - val_precision: 0.8500 - val_recall: 0.5312\n",
      "Epoch 68/100\n",
      "10/10 [==============================] - 0s 5ms/step - loss: 0.4858 - acc: 0.7857 - precision: 0.7536 - recall: 0.5306 - val_loss: 0.4936 - val_acc: 0.8163 - val_precision: 0.8182 - val_recall: 0.5625\n",
      "Epoch 69/100\n",
      "10/10 [==============================] - 0s 4ms/step - loss: 0.4843 - acc: 0.7789 - precision: 0.7463 - recall: 0.5102 - val_loss: 0.4944 - val_acc: 0.8061 - val_precision: 0.7600 - val_recall: 0.5938\n",
      "Epoch 70/100\n",
      "10/10 [==============================] - 0s 4ms/step - loss: 0.4833 - acc: 0.7925 - precision: 0.7403 - recall: 0.5816 - val_loss: 0.4909 - val_acc: 0.8265 - val_precision: 0.8261 - val_recall: 0.5938\n",
      "Epoch 71/100\n",
      "10/10 [==============================] - 0s 4ms/step - loss: 0.4827 - acc: 0.7891 - precision: 0.7571 - recall: 0.5408 - val_loss: 0.4926 - val_acc: 0.8061 - val_precision: 0.7407 - val_recall: 0.6250\n",
      "Epoch 72/100\n",
      "10/10 [==============================] - 0s 4ms/step - loss: 0.4817 - acc: 0.7857 - precision: 0.7273 - recall: 0.5714 - val_loss: 0.4890 - val_acc: 0.8163 - val_precision: 0.7917 - val_recall: 0.5938\n",
      "Epoch 73/100\n",
      "10/10 [==============================] - 0s 5ms/step - loss: 0.4795 - acc: 0.7857 - precision: 0.7397 - recall: 0.5510 - val_loss: 0.4871 - val_acc: 0.8265 - val_precision: 0.8261 - val_recall: 0.5938\n",
      "Epoch 74/100\n",
      "10/10 [==============================] - 0s 5ms/step - loss: 0.4789 - acc: 0.7925 - precision: 0.7534 - recall: 0.5612 - val_loss: 0.4869 - val_acc: 0.8061 - val_precision: 0.7600 - val_recall: 0.5938\n",
      "Epoch 75/100\n",
      "10/10 [==============================] - 0s 4ms/step - loss: 0.4784 - acc: 0.7857 - precision: 0.7273 - recall: 0.5714 - val_loss: 0.4845 - val_acc: 0.8265 - val_precision: 0.8261 - val_recall: 0.5938\n",
      "Epoch 76/100\n",
      "10/10 [==============================] - 0s 4ms/step - loss: 0.4780 - acc: 0.7891 - precision: 0.7500 - recall: 0.5510 - val_loss: 0.4855 - val_acc: 0.7959 - val_precision: 0.7308 - val_recall: 0.5938\n",
      "Epoch 77/100\n",
      "10/10 [==============================] - 0s 4ms/step - loss: 0.4768 - acc: 0.7891 - precision: 0.7308 - recall: 0.5816 - val_loss: 0.4846 - val_acc: 0.7959 - val_precision: 0.7308 - val_recall: 0.5938\n",
      "Epoch 78/100\n",
      "10/10 [==============================] - 0s 4ms/step - loss: 0.4754 - acc: 0.7993 - precision: 0.7532 - recall: 0.5918 - val_loss: 0.4822 - val_acc: 0.8265 - val_precision: 0.8261 - val_recall: 0.5938\n",
      "Epoch 79/100\n",
      "10/10 [==============================] - 0s 5ms/step - loss: 0.4754 - acc: 0.7857 - precision: 0.7465 - recall: 0.5408 - val_loss: 0.4824 - val_acc: 0.8061 - val_precision: 0.7600 - val_recall: 0.5938\n",
      "Epoch 80/100\n",
      "10/10 [==============================] - 0s 4ms/step - loss: 0.4738 - acc: 0.7925 - precision: 0.7467 - recall: 0.5714 - val_loss: 0.4810 - val_acc: 0.8061 - val_precision: 0.7600 - val_recall: 0.5938\n",
      "Epoch 81/100\n",
      "10/10 [==============================] - 0s 5ms/step - loss: 0.4732 - acc: 0.7925 - precision: 0.7467 - recall: 0.5714 - val_loss: 0.4877 - val_acc: 0.7653 - val_precision: 0.6452 - val_recall: 0.6250\n",
      "Epoch 82/100\n",
      "10/10 [==============================] - 0s 4ms/step - loss: 0.4746 - acc: 0.7789 - precision: 0.6988 - recall: 0.5918 - val_loss: 0.4853 - val_acc: 0.7653 - val_precision: 0.6452 - val_recall: 0.6250\n",
      "Epoch 83/100\n",
      "10/10 [==============================] - 0s 4ms/step - loss: 0.4731 - acc: 0.7789 - precision: 0.6988 - recall: 0.5918 - val_loss: 0.4846 - val_acc: 0.7653 - val_precision: 0.6452 - val_recall: 0.6250\n",
      "Epoch 84/100\n",
      "10/10 [==============================] - 0s 4ms/step - loss: 0.4733 - acc: 0.7789 - precision: 0.7089 - recall: 0.5714 - val_loss: 0.4848 - val_acc: 0.7653 - val_precision: 0.6452 - val_recall: 0.6250\n",
      "Epoch 85/100\n",
      "10/10 [==============================] - 0s 5ms/step - loss: 0.4733 - acc: 0.7755 - precision: 0.6860 - recall: 0.6020 - val_loss: 0.4831 - val_acc: 0.7653 - val_precision: 0.6452 - val_recall: 0.6250\n",
      "Epoch 86/100\n",
      "10/10 [==============================] - 0s 5ms/step - loss: 0.4717 - acc: 0.7789 - precision: 0.7037 - recall: 0.5816 - val_loss: 0.4810 - val_acc: 0.7653 - val_precision: 0.6452 - val_recall: 0.6250\n",
      "Epoch 87/100\n",
      "10/10 [==============================] - 0s 5ms/step - loss: 0.4702 - acc: 0.7891 - precision: 0.7250 - recall: 0.5918 - val_loss: 0.4759 - val_acc: 0.8163 - val_precision: 0.7917 - val_recall: 0.5938\n",
      "Epoch 88/100\n",
      "10/10 [==============================] - 0s 4ms/step - loss: 0.4705 - acc: 0.7891 - precision: 0.7368 - recall: 0.5714 - val_loss: 0.4750 - val_acc: 0.8163 - val_precision: 0.7917 - val_recall: 0.5938\n",
      "Epoch 89/100\n",
      "10/10 [==============================] - 0s 4ms/step - loss: 0.4701 - acc: 0.7925 - precision: 0.7467 - recall: 0.5714 - val_loss: 0.4781 - val_acc: 0.7653 - val_precision: 0.6452 - val_recall: 0.6250\n",
      "Epoch 90/100\n",
      "10/10 [==============================] - 0s 4ms/step - loss: 0.4694 - acc: 0.7891 - precision: 0.7308 - recall: 0.5816 - val_loss: 0.4796 - val_acc: 0.7653 - val_precision: 0.6452 - val_recall: 0.6250\n",
      "Epoch 91/100\n",
      "10/10 [==============================] - 0s 4ms/step - loss: 0.4691 - acc: 0.7789 - precision: 0.6941 - recall: 0.6020 - val_loss: 0.4730 - val_acc: 0.8163 - val_precision: 0.7917 - val_recall: 0.5938\n",
      "Epoch 92/100\n",
      "10/10 [==============================] - 0s 8ms/step - loss: 0.4689 - acc: 0.7925 - precision: 0.7467 - recall: 0.5714 - val_loss: 0.4757 - val_acc: 0.7755 - val_precision: 0.6667 - val_recall: 0.6250\n",
      "Epoch 93/100\n",
      "10/10 [==============================] - 0s 5ms/step - loss: 0.4675 - acc: 0.7959 - precision: 0.7500 - recall: 0.5816 - val_loss: 0.4825 - val_acc: 0.7755 - val_precision: 0.6562 - val_recall: 0.6562\n",
      "Epoch 94/100\n",
      "10/10 [==============================] - 0s 4ms/step - loss: 0.4706 - acc: 0.7891 - precision: 0.7195 - recall: 0.6020 - val_loss: 0.4757 - val_acc: 0.7653 - val_precision: 0.6452 - val_recall: 0.6250\n",
      "Epoch 95/100\n",
      "10/10 [==============================] - 0s 5ms/step - loss: 0.4674 - acc: 0.7857 - precision: 0.7059 - recall: 0.6122 - val_loss: 0.4719 - val_acc: 0.8061 - val_precision: 0.7600 - val_recall: 0.5938\n",
      "Epoch 96/100\n",
      "10/10 [==============================] - 0s 4ms/step - loss: 0.4678 - acc: 0.7959 - precision: 0.7375 - recall: 0.6020 - val_loss: 0.4714 - val_acc: 0.8061 - val_precision: 0.7600 - val_recall: 0.5938\n",
      "Epoch 97/100\n",
      "10/10 [==============================] - 0s 4ms/step - loss: 0.4659 - acc: 0.7959 - precision: 0.7500 - recall: 0.5816 - val_loss: 0.4716 - val_acc: 0.7959 - val_precision: 0.7308 - val_recall: 0.5938\n",
      "Epoch 98/100\n",
      "10/10 [==============================] - 0s 4ms/step - loss: 0.4664 - acc: 0.7891 - precision: 0.7250 - recall: 0.5918 - val_loss: 0.4700 - val_acc: 0.8163 - val_precision: 0.7917 - val_recall: 0.5938\n",
      "Epoch 99/100\n",
      "10/10 [==============================] - 0s 4ms/step - loss: 0.4672 - acc: 0.7891 - precision: 0.7432 - recall: 0.5612 - val_loss: 0.4755 - val_acc: 0.7653 - val_precision: 0.6452 - val_recall: 0.6250\n",
      "Epoch 100/100\n",
      "10/10 [==============================] - 0s 4ms/step - loss: 0.4655 - acc: 0.7823 - precision: 0.7179 - recall: 0.5714 - val_loss: 0.4786 - val_acc: 0.7755 - val_precision: 0.6562 - val_recall: 0.6562\n"
     ]
    }
   ],
   "source": [
    "history = class_model.fit(X_train_proc, y_train,\n",
    "                          validation_data = (X_test_proc, y_test),\n",
    "                          epochs=100)\n"
   ]
  },
  {
   "cell_type": "code",
   "execution_count": 37,
   "metadata": {
    "colab": {
     "base_uri": "https://localhost:8080/",
     "height": 1000
    },
    "executionInfo": {
     "elapsed": 645,
     "status": "ok",
     "timestamp": 1698804010706,
     "user": {
      "displayName": "Yvon Bilodeau",
      "userId": "10142856831792134633"
     },
     "user_tz": 420
    },
    "id": "qKLxgYDcP0_H",
    "outputId": "e2de98d9-02bc-478f-b52c-8f1bef07e28e"
   },
   "outputs": [
    {
     "data": {
      "image/png": "[encoded data removed]",
      "text/plain": [
       "<Figure size 640x480 with 1 Axes>"
      ]
     },
     "metadata": {},
     "output_type": "display_data"
    },
    {
     "data": {
      "image/png": "[encoded data removed]",
      "text/plain": [
       "<Figure size 640x480 with 1 Axes>"
      ]
     },
     "metadata": {},
     "output_type": "display_data"
    },
    {
     "data": {
      "image/png": "[encoded data removed]",
      "text/plain": [
       "<Figure size 640x480 with 1 Axes>"
      ]
     },
     "metadata": {},
     "output_type": "display_data"
    },
    {
     "data": {
      "image/png": "[encoded data removed]",
      "text/plain": [
       "<Figure size 640x480 with 1 Axes>"
      ]
     },
     "metadata": {},
     "output_type": "display_data"
    }
   ],
   "source": [
    "# See how your model is doing\n",
    "plot_history(history)\n"
   ]
  },
  {
   "cell_type": "markdown",
   "metadata": {
    "id": "LD18RKjYTFXP"
   },
   "source": [
    "## Evaluation\n",
    "\n",
    "Keras models always output floats, not integers.  In this case the final sigmoid activation function will return a number between 0 and 1.  If the number is closer to 1, the model predicts the sample is more likely to be class 1.  If it is closer to 2, the sample is predicted to be more likely to be class 0.  \n",
    "\n",
    "This is similar to the output of .predict_proba() with Scikit-Learn models.\n",
    "\n",
    "### Converting Floats to Ints\n",
    "\n",
    "In order to use Scikit-Learn metrics functions, the float outputs of the model need to be converted to ints.  We don't want to just use `int(pred)` or `pred.astype(int)` because that will just drop the decimal and all our predictions would be 0s.  \n",
    "\n",
    "Instead we want to **round** the predictions to the nearest integer. To round all of the numbers in an array we can use the NumPy function, `np.rint()` which is short for 'round to integer'.  \n",
    "\n",
    "[Numpy Reference for np.rint()](https://numpy.org/doc/stable/reference/generated/numpy.rint.html)"
   ]
  },
  {
   "cell_type": "code",
   "execution_count": 40,
   "metadata": {
    "colab": {
     "base_uri": "https://localhost:8080/"
    },
    "executionInfo": {
     "elapsed": 242,
     "status": "ok",
     "timestamp": 1698804010945,
     "user": {
      "displayName": "Yvon Bilodeau",
      "userId": "10142856831792134633"
     },
     "user_tz": 420
    },
    "id": "HttQV2phV-Va",
    "outputId": "f17ae13d-e97f-4e3e-e1d2-c065ae8c5b3b"
   },
   "outputs": [
    {
     "name": "stdout",
     "output_type": "stream",
     "text": [
      "10/10 [==============================] - 0s 1ms/step\n"
     ]
    },
    {
     "name": "stdout",
     "output_type": "stream",
     "text": [
      "4/4 [==============================] - 0s 2ms/step\n"
     ]
    },
    {
     "data": {
      "text/plain": [
       "array([[0.],\n",
       "       [1.],\n",
       "       [1.],\n",
       "       [1.],\n",
       "       [0.],\n",
       "       [1.],\n",
       "       [0.],\n",
       "       [0.],\n",
       "       [1.],\n",
       "       [1.],\n",
       "       [0.],\n",
       "       [1.],\n",
       "       [1.],\n",
       "       [1.],\n",
       "       [1.],\n",
       "       [1.],\n",
       "       [0.],\n",
       "       [0.],\n",
       "       [0.],\n",
       "       [0.],\n",
       "       [0.],\n",
       "       [0.],\n",
       "       [0.],\n",
       "       [0.],\n",
       "       [0.],\n",
       "       [0.],\n",
       "       [1.],\n",
       "       [0.],\n",
       "       [0.],\n",
       "       [1.],\n",
       "       [1.],\n",
       "       [0.],\n",
       "       [0.],\n",
       "       [0.],\n",
       "       [0.],\n",
       "       [1.],\n",
       "       [0.],\n",
       "       [0.],\n",
       "       [1.],\n",
       "       [0.],\n",
       "       [0.],\n",
       "       [0.],\n",
       "       [1.],\n",
       "       [0.],\n",
       "       [0.],\n",
       "       [0.],\n",
       "       [1.],\n",
       "       [0.],\n",
       "       [0.],\n",
       "       [1.],\n",
       "       [0.],\n",
       "       [0.],\n",
       "       [1.],\n",
       "       [0.],\n",
       "       [1.],\n",
       "       [0.],\n",
       "       [0.],\n",
       "       [1.],\n",
       "       [1.],\n",
       "       [1.],\n",
       "       [1.],\n",
       "       [0.],\n",
       "       [0.],\n",
       "       [1.],\n",
       "       [1.],\n",
       "       [0.],\n",
       "       [0.],\n",
       "       [0.],\n",
       "       [0.],\n",
       "       [0.],\n",
       "       [0.],\n",
       "       [0.],\n",
       "       [0.],\n",
       "       [1.],\n",
       "       [0.],\n",
       "       [0.],\n",
       "       [0.],\n",
       "       [0.],\n",
       "       [0.],\n",
       "       [0.],\n",
       "       [0.],\n",
       "       [0.],\n",
       "       [1.],\n",
       "       [0.],\n",
       "       [0.],\n",
       "       [1.],\n",
       "       [0.],\n",
       "       [1.],\n",
       "       [0.],\n",
       "       [0.],\n",
       "       [0.],\n",
       "       [1.],\n",
       "       [1.],\n",
       "       [0.],\n",
       "       [0.],\n",
       "       [0.],\n",
       "       [0.],\n",
       "       [1.],\n",
       "       [1.],\n",
       "       [0.],\n",
       "       [1.],\n",
       "       [0.],\n",
       "       [0.],\n",
       "       [0.],\n",
       "       [0.],\n",
       "       [1.],\n",
       "       [0.],\n",
       "       [0.],\n",
       "       [0.],\n",
       "       [0.],\n",
       "       [1.],\n",
       "       [0.],\n",
       "       [0.],\n",
       "       [0.],\n",
       "       [1.],\n",
       "       [0.],\n",
       "       [0.],\n",
       "       [0.],\n",
       "       [1.],\n",
       "       [0.],\n",
       "       [0.],\n",
       "       [1.],\n",
       "       [0.],\n",
       "       [0.],\n",
       "       [0.],\n",
       "       [1.],\n",
       "       [0.],\n",
       "       [0.],\n",
       "       [0.],\n",
       "       [0.],\n",
       "       [0.],\n",
       "       [0.],\n",
       "       [0.],\n",
       "       [1.],\n",
       "       [0.],\n",
       "       [1.],\n",
       "       [0.],\n",
       "       [1.],\n",
       "       [1.],\n",
       "       [1.],\n",
       "       [1.],\n",
       "       [0.],\n",
       "       [1.],\n",
       "       [1.],\n",
       "       [0.],\n",
       "       [1.],\n",
       "       [0.],\n",
       "       [0.],\n",
       "       [1.],\n",
       "       [0.],\n",
       "       [0.],\n",
       "       [0.],\n",
       "       [0.],\n",
       "       [0.],\n",
       "       [0.],\n",
       "       [0.],\n",
       "       [0.],\n",
       "       [0.],\n",
       "       [0.],\n",
       "       [0.],\n",
       "       [0.],\n",
       "       [0.],\n",
       "       [1.],\n",
       "       [1.],\n",
       "       [0.],\n",
       "       [0.],\n",
       "       [0.],\n",
       "       [0.],\n",
       "       [0.],\n",
       "       [1.],\n",
       "       [0.],\n",
       "       [0.],\n",
       "       [1.],\n",
       "       [0.],\n",
       "       [0.],\n",
       "       [0.],\n",
       "       [1.],\n",
       "       [0.],\n",
       "       [0.],\n",
       "       [0.],\n",
       "       [0.],\n",
       "       [0.],\n",
       "       [0.],\n",
       "       [0.],\n",
       "       [0.],\n",
       "       [0.],\n",
       "       [0.],\n",
       "       [0.],\n",
       "       [1.],\n",
       "       [0.],\n",
       "       [1.],\n",
       "       [1.],\n",
       "       [1.],\n",
       "       [1.],\n",
       "       [1.],\n",
       "       [1.],\n",
       "       [1.],\n",
       "       [1.],\n",
       "       [1.],\n",
       "       [0.],\n",
       "       [1.],\n",
       "       [0.],\n",
       "       [0.],\n",
       "       [1.],\n",
       "       [0.],\n",
       "       [0.],\n",
       "       [0.],\n",
       "       [1.],\n",
       "       [0.],\n",
       "       [1.],\n",
       "       [0.],\n",
       "       [0.],\n",
       "       [1.],\n",
       "       [1.],\n",
       "       [1.],\n",
       "       [0.],\n",
       "       [0.],\n",
       "       [0.],\n",
       "       [0.],\n",
       "       [0.],\n",
       "       [1.],\n",
       "       [0.],\n",
       "       [0.],\n",
       "       [1.],\n",
       "       [0.],\n",
       "       [0.],\n",
       "       [0.],\n",
       "       [0.],\n",
       "       [0.],\n",
       "       [0.],\n",
       "       [0.],\n",
       "       [0.],\n",
       "       [0.],\n",
       "       [0.],\n",
       "       [0.],\n",
       "       [0.],\n",
       "       [0.],\n",
       "       [0.],\n",
       "       [0.],\n",
       "       [0.],\n",
       "       [0.],\n",
       "       [0.],\n",
       "       [1.],\n",
       "       [0.],\n",
       "       [1.],\n",
       "       [0.],\n",
       "       [1.],\n",
       "       [0.],\n",
       "       [0.],\n",
       "       [0.],\n",
       "       [0.],\n",
       "       [1.],\n",
       "       [1.],\n",
       "       [0.],\n",
       "       [0.],\n",
       "       [0.],\n",
       "       [0.],\n",
       "       [0.],\n",
       "       [1.],\n",
       "       [0.],\n",
       "       [0.],\n",
       "       [0.],\n",
       "       [0.],\n",
       "       [1.],\n",
       "       [0.],\n",
       "       [1.],\n",
       "       [0.],\n",
       "       [0.],\n",
       "       [0.],\n",
       "       [0.],\n",
       "       [0.],\n",
       "       [0.],\n",
       "       [0.],\n",
       "       [0.],\n",
       "       [0.],\n",
       "       [1.],\n",
       "       [0.],\n",
       "       [0.],\n",
       "       [0.],\n",
       "       [0.],\n",
       "       [0.],\n",
       "       [0.],\n",
       "       [1.],\n",
       "       [0.],\n",
       "       [0.],\n",
       "       [0.],\n",
       "       [0.],\n",
       "       [0.],\n",
       "       [1.],\n",
       "       [0.],\n",
       "       [1.],\n",
       "       [0.],\n",
       "       [0.],\n",
       "       [0.]], dtype=float32)"
      ]
     },
     "execution_count": 40,
     "metadata": {},
     "output_type": "execute_result"
    }
   ],
   "source": [
    "train_pred = class_model.predict(X_train_proc)\n",
    "test_pred = class_model.predict(X_test_proc)\n",
    "train_pred = np.rint(train_pred)\n",
    "test_pred = np.rint(test_pred)\n",
    "train_pred"
   ]
  },
  {
   "cell_type": "code",
   "execution_count": null,
   "metadata": {
    "colab": {
     "base_uri": "https://localhost:8080/"
    },
    "executionInfo": {
     "elapsed": 13,
     "status": "ok",
     "timestamp": 1698804010945,
     "user": {
      "displayName": "Yvon Bilodeau",
      "userId": "10142856831792134633"
     },
     "user_tz": 420
    },
    "id": "u1CSEpv4YXV7",
    "outputId": "a39a681f-97b1-4569-eea3-6a90c76bb333"
   },
   "outputs": [],
   "source": [
    "# Get predictions\n",
    "\n",
    "\n",
    "\n",
    "\n",
    "# round predictions to integers instead of floats using np.rint()\n",
    "\n",
    "\n",
    "\n",
    "# the following code should show whole number predictions, 1.0 or 0.0\n",
    "\n"
   ]
  },
  {
   "cell_type": "code",
   "execution_count": 42,
   "metadata": {
    "colab": {
     "base_uri": "https://localhost:8080/",
     "height": 1000
    },
    "executionInfo": {
     "elapsed": 691,
     "status": "ok",
     "timestamp": 1698804011629,
     "user": {
      "displayName": "Yvon Bilodeau",
      "userId": "10142856831792134633"
     },
     "user_tz": 420
    },
    "id": "sov8ZJUHP-Bf",
    "outputId": "3b3ca2ec-3b96-4c69-8f47-3dff45aea337"
   },
   "outputs": [
    {
     "name": "stdout",
     "output_type": "stream",
     "text": [
      "ClassModel1Train \n",
      "\n",
      "              precision    recall  f1-score   support\n",
      "\n",
      " No Diabetes       0.82      0.86      0.84       196\n",
      "    Diabetes       0.68      0.61      0.65        98\n",
      "\n",
      "    accuracy                           0.78       294\n",
      "   macro avg       0.75      0.73      0.74       294\n",
      "weighted avg       0.77      0.78      0.77       294\n",
      "\n"
     ]
    },
    {
     "data": {
      "image/png": "[encoded data removed]",
      "text/plain": [
       "<Figure size 640x480 with 2 Axes>"
      ]
     },
     "metadata": {},
     "output_type": "display_data"
    },
    {
     "name": "stdout",
     "output_type": "stream",
     "text": [
      "ClassModel1Test \n",
      "\n",
      "              precision    recall  f1-score   support\n",
      "\n",
      " No Diabetes       0.83      0.83      0.83        66\n",
      "    Diabetes       0.66      0.66      0.66        32\n",
      "\n",
      "    accuracy                           0.78        98\n",
      "   macro avg       0.74      0.74      0.74        98\n",
      "weighted avg       0.78      0.78      0.78        98\n",
      "\n"
     ]
    },
    {
     "data": {
      "image/png": "[encoded data removed]",
      "text/plain": [
       "<Figure size 640x480 with 2 Axes>"
      ]
     },
     "metadata": {},
     "output_type": "display_data"
    },
    {
     "data": {
      "text/html": [
       "<div>\n",
       "<style scoped>\n",
       "    .dataframe tbody tr th:only-of-type {\n",
       "        vertical-align: middle;\n",
       "    }\n",
       "\n",
       "    .dataframe tbody tr th {\n",
       "        vertical-align: top;\n",
       "    }\n",
       "\n",
       "    .dataframe thead th {\n",
       "        text-align: right;\n",
       "    }\n",
       "</style>\n",
       "<table border=\"1\" class=\"dataframe\">\n",
       "  <thead>\n",
       "    <tr style=\"text-align: right;\">\n",
       "      <th></th>\n",
       "      <th>Precision</th>\n",
       "      <th>Recall</th>\n",
       "      <th>F1 Score</th>\n",
       "      <th>Accuracy</th>\n",
       "    </tr>\n",
       "    <tr>\n",
       "      <th>Model Name</th>\n",
       "      <th></th>\n",
       "      <th></th>\n",
       "      <th></th>\n",
       "      <th></th>\n",
       "    </tr>\n",
       "  </thead>\n",
       "  <tbody>\n",
       "    <tr>\n",
       "      <th>ClassModel1Train</th>\n",
       "      <td>0.681818</td>\n",
       "      <td>0.612245</td>\n",
       "      <td>0.645161</td>\n",
       "      <td>0.77551</td>\n",
       "    </tr>\n",
       "  </tbody>\n",
       "</table>\n",
       "</div>"
      ],
      "text/plain": [
       "                  Precision    Recall  F1 Score  Accuracy\n",
       "Model Name                                               \n",
       "ClassModel1Train   0.681818  0.612245  0.645161   0.77551"
      ]
     },
     "execution_count": 42,
     "metadata": {},
     "output_type": "execute_result"
    }
   ],
   "source": [
    "# Define labels for the confusion matrix\n",
    "labels = ['No Diabetes', 'Diabetes']\n",
    "\n",
    "train_scores = eval_classification(y_train, train_pred, labels=labels, name='ClassModel1Train')\n",
    "test_scores = eval_classification(y_test, test_pred, labels=labels, name='ClassModel1Test')\n",
    "train_scores"
   ]
  },
  {
   "cell_type": "code",
   "execution_count": null,
   "metadata": {
    "executionInfo": {
     "elapsed": 3,
     "status": "ok",
     "timestamp": 1698804011630,
     "user": {
      "displayName": "Yvon Bilodeau",
      "userId": "10142856831792134633"
     },
     "user_tz": 420
    },
    "id": "vFvHcmtIsSCy"
   },
   "outputs": [],
   "source": []
  }
 ],
 "metadata": {
  "accelerator": "GPU",
  "colab": {
   "provenance": [
    {
     "file_id": "1AMkk4AkOwuh0L19EdXpLJHJaeZXCP6kQ",
     "timestamp": 1654554871276
    },
    {
     "file_id": "1HZQ_jeFRQsrlNGjvh_ru52Q-1DhIahua",
     "timestamp": 1636586978598
    }
   ],
   "toc_visible": true
  },
  "gpuClass": "standard",
  "kernelspec": {
   "display_name": "Python 3 (ipykernel)",
   "language": "python",
   "name": "python3"
  },
  "language_info": {
   "codemirror_mode": {
    "name": "ipython",
    "version": 3
   },
   "file_extension": ".py",
   "mimetype": "text/x-python",
   "name": "python",
   "nbconvert_exporter": "python",
   "pygments_lexer": "ipython3",
   "version": "3.10.10"
  },
  "toc": {
   "base_numbering": 1,
   "nav_menu": {},
   "number_sections": false,
   "sideBar": true,
   "skip_h1_title": false,
   "title_cell": "Table of Contents",
   "title_sidebar": "Contents",
   "toc_cell": false,
   "toc_position": {
    "height": "calc(100% - 180px)",
    "left": "10px",
    "top": "150px",
    "width": "243.829px"
   },
   "toc_section_display": true,
   "toc_window_display": false
  },
  "widgets": {
   "application/vnd.jupyter.widget-state+json": {
    "state": {},
    "version_major": 2,
    "version_minor": 0
   }
  }
 },
 "nbformat": 4,
 "nbformat_minor": 4
}
