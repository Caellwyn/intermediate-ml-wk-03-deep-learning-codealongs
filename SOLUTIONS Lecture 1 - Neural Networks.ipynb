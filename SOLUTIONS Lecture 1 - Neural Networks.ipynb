{
 "cells": [
  {
   "cell_type": "markdown",
   "metadata": {
    "id": "AGKAZlCh02cl"
   },
   "source": [
    "# Introduction to Neural Networking in Keras\n",
    "\n",
    "<a href=\"https://colab.research.google.com/github/coding-dojo-data-science/week-11-lecture-2-tuning-deep-learning-models/blob/main/Code-along%20Tuning%20Neural%20Networks.ipynb\" target=\"_parent\"><img src=\"https://colab.research.google.com/assets/colab-badge.svg\" alt=\"Open In Colab\"/></a>"
   ]
  },
  {
   "cell_type": "markdown",
   "metadata": {
    "id": "OStduN-207_9"
   },
   "source": [
    "We will use the version of Keras that comes in the Tensorflow package, as it has the most up to date tools.\n",
    "\n",
    "Keras works as weapper for deep learning model to be used as classification or regression estimators in sklearn"
   ]
  },
  {
   "cell_type": "code",
   "execution_count": 31,
   "metadata": {
    "ExecuteTime": {
     "end_time": "2023-02-08T02:15:00.219225Z",
     "start_time": "2023-02-08T02:15:00.211839Z"
    },
    "executionInfo": {
     "elapsed": 6928,
     "status": "ok",
     "timestamp": 1698803943153,
     "user": {
      "displayName": "Yvon Bilodeau",
      "userId": "10142856831792134633"
     },
     "user_tz": 420
    },
    "id": "Zw6CH1mp0zR4"
   },
   "outputs": [],
   "source": [
    "import pandas as pd\n",
    "import numpy as np\n",
    "\n",
    "import matplotlib.pyplot as plt\n",
    "\n",
    "from sklearn.metrics import mean_absolute_error, r2_score, \\\n",
    "mean_squared_error, precision_score, recall_score, accuracy_score, f1_score, \\\n",
    "ConfusionMatrixDisplay, classification_report\n",
    "from sklearn.preprocessing import MinMaxScaler\n",
    "from sklearn.model_selection import train_test_split\n",
    "\n",
    "# new libraries\n",
    "import tensorflow as tf\n",
    "import tensorflow.keras as keras\n",
    "from keras.models import Sequential\n",
    "from keras.layers import Dense, Input\n",
    "\n",
    "# This is used to overcome an issue with setting up tensorflow in M1/M1\n",
    "# Suspect tensorflow-macos not very fit with GPU, use CPU only with\n",
    "tf.config.set_visible_devices([], 'GPU')\n",
    "\n",
    "# Set random seeds for consistent outcomes\n",
    "keras.backend.clear_session()\n",
    "np.random.seed(42)\n",
    "tf.random.set_seed(42)"
   ]
  },
  {
   "cell_type": "markdown",
   "metadata": {
    "id": "e5pga5rHChPu"
   },
   "source": [
    "### Plot History\n",
    "\n",
    "Since we will be plotting histories for all of our models, lets create a function to do it quickly."
   ]
  },
  {
   "cell_type": "code",
   "execution_count": 32,
   "metadata": {
    "ExecuteTime": {
     "end_time": "2023-02-08T02:15:00.226208Z",
     "start_time": "2023-02-08T02:15:00.220222Z"
    },
    "executionInfo": {
     "elapsed": 4,
     "status": "ok",
     "timestamp": 1698803943153,
     "user": {
      "displayName": "Yvon Bilodeau",
      "userId": "10142856831792134633"
     },
     "user_tz": 420
    },
    "id": "UbrKqMv0_28Q"
   },
   "outputs": [],
   "source": [
    "def plot_history(history):\n",
    "  \"\"\"Takes a keras model learning history and plots each metric\"\"\"\n",
    "\n",
    "  metrics = history.history.keys()\n",
    "\n",
    "  for metric in metrics:\n",
    "      if not 'val' in metric:\n",
    "        plt.plot(history.history[f'{metric}'], label=f'{metric}')\n",
    "        if f'val_{metric}' in metrics:\n",
    "          plt.plot(history.history[f'val_{metric}'], label=f'val_{metric}')\n",
    "        plt.legend()\n",
    "        plt.title(f'{metric}')\n",
    "        plt.show()\n",
    "\n",
    "def eval_regression(true, pred, name='Model'):\n",
    "    \"\"\"Evaluates true and predicted values from a regression model.\n",
    "    Outputs a dataframe of metrics\"\"\"\n",
    "    scores = pd.DataFrame()\n",
    "    scores['Model Name'] = [name]\n",
    "    scores['RMSE'] = [np.sqrt(mean_squared_error(true, pred))]\n",
    "    scores['MAE'] = [mean_absolute_error(true, pred)]\n",
    "    scores['R2'] = [r2_score(true, pred)]\n",
    "    scores.set_index('Model Name', inplace=True)\n",
    "\n",
    "    return scores\n",
    "\n",
    "def eval_classification(true, pred, name, labels=None):\n",
    "    \"\"\"shows classification_report and confusion matrix\n",
    "    for classification model predictions.  Outputs a dataframe of metrics\"\"\"\n",
    "\n",
    "    print(name, '\\n')\n",
    "    print(classification_report(true, pred, target_names=labels))\n",
    "    ConfusionMatrixDisplay.from_predictions(true, pred, display_labels=labels, )\n",
    "\n",
    "    plt.show()\n",
    "\n",
    "    scores = pd.DataFrame()\n",
    "    scores['Model Name'] = [name]\n",
    "    scores['Precision'] = [precision_score(true, pred)]\n",
    "    scores['Recall'] = [recall_score(true, pred)]\n",
    "    scores['F1 Score'] = [f1_score(true, pred)]\n",
    "    scores['Accuracy'] = [accuracy_score(true, pred)]\n",
    "    scores.set_index('Model Name', inplace=True)\n",
    "\n",
    "    return scores"
   ]
  },
  {
   "cell_type": "markdown",
   "metadata": {
    "id": "RAUUTWm93ojP"
   },
   "source": [
    "# Data\n",
    "\n",
    "We will be working with 2 different datasets in this project, 1 is a regression dataset and the other is a classification dataset.  This way you can practice doing both using deep learning.\n",
    "\n",
    "**NOTE**\n",
    "\n",
    "These datasets are very small for deep learning.  Deep learning models usually work best with very large datasets with at least 10,000 or more samples.  They work best on even larger datasets than that.  But, for demonstration we will use these smaller datasets.\n",
    "\n",
    "## Regression\n",
    "This is a dataset of housing prices in Boston from 1978.  Each row is a house and the dataset includes several features regarding each house.  Our target today will be the price of the home.\n",
    "\n"
   ]
  },
  {
   "cell_type": "code",
   "execution_count": 33,
   "metadata": {
    "ExecuteTime": {
     "end_time": "2023-02-08T02:15:00.312062Z",
     "start_time": "2023-02-08T02:15:00.227205Z"
    },
    "executionInfo": {
     "elapsed": 3,
     "status": "ok",
     "timestamp": 1698803943153,
     "user": {
      "displayName": "Yvon Bilodeau",
      "userId": "10142856831792134633"
     },
     "user_tz": 420
    },
    "id": "8_PM7Bt81FKh"
   },
   "outputs": [],
   "source": [
    "regression_df = pd.read_csv('Data/Boston_Housing_from_Sklearn.csv')"
   ]
  },
  {
   "cell_type": "markdown",
   "metadata": {
    "id": "1YPAPvdG6Sqy"
   },
   "source": [
    "# Regression\n",
    "\n",
    "Let's start with modeling the regression dataset"
   ]
  },
  {
   "cell_type": "code",
   "execution_count": 34,
   "metadata": {
    "ExecuteTime": {
     "end_time": "2023-02-08T02:15:00.324011Z",
     "start_time": "2023-02-08T02:15:00.314019Z"
    },
    "colab": {
     "base_uri": "https://localhost:8080/",
     "height": 204
    },
    "executionInfo": {
     "elapsed": 218,
     "status": "ok",
     "timestamp": 1698803943369,
     "user": {
      "displayName": "Yvon Bilodeau",
      "userId": "10142856831792134633"
     },
     "user_tz": 420
    },
    "id": "3STtBugN3fp1",
    "outputId": "a8fdf0a0-c92d-42b5-9931-07089286b0ae"
   },
   "outputs": [
    {
     "data": {
      "text/html": [
       "<div>\n",
       "<style scoped>\n",
       "    .dataframe tbody tr th:only-of-type {\n",
       "        vertical-align: middle;\n",
       "    }\n",
       "\n",
       "    .dataframe tbody tr th {\n",
       "        vertical-align: top;\n",
       "    }\n",
       "\n",
       "    .dataframe thead th {\n",
       "        text-align: right;\n",
       "    }\n",
       "</style>\n",
       "<table border=\"1\" class=\"dataframe\">\n",
       "  <thead>\n",
       "    <tr style=\"text-align: right;\">\n",
       "      <th></th>\n",
       "      <th>CRIM</th>\n",
       "      <th>NOX</th>\n",
       "      <th>RM</th>\n",
       "      <th>AGE</th>\n",
       "      <th>PTRATIO</th>\n",
       "      <th>LSTAT</th>\n",
       "      <th>PRICE</th>\n",
       "    </tr>\n",
       "  </thead>\n",
       "  <tbody>\n",
       "    <tr>\n",
       "      <th>0</th>\n",
       "      <td>0.00632</td>\n",
       "      <td>0.538</td>\n",
       "      <td>6.575</td>\n",
       "      <td>65.2</td>\n",
       "      <td>15.3</td>\n",
       "      <td>4.98</td>\n",
       "      <td>24.0</td>\n",
       "    </tr>\n",
       "    <tr>\n",
       "      <th>1</th>\n",
       "      <td>0.02731</td>\n",
       "      <td>0.469</td>\n",
       "      <td>6.421</td>\n",
       "      <td>78.9</td>\n",
       "      <td>17.8</td>\n",
       "      <td>9.14</td>\n",
       "      <td>21.6</td>\n",
       "    </tr>\n",
       "    <tr>\n",
       "      <th>2</th>\n",
       "      <td>0.02729</td>\n",
       "      <td>0.469</td>\n",
       "      <td>7.185</td>\n",
       "      <td>61.1</td>\n",
       "      <td>17.8</td>\n",
       "      <td>4.03</td>\n",
       "      <td>34.7</td>\n",
       "    </tr>\n",
       "    <tr>\n",
       "      <th>3</th>\n",
       "      <td>0.03237</td>\n",
       "      <td>0.458</td>\n",
       "      <td>6.998</td>\n",
       "      <td>45.8</td>\n",
       "      <td>18.7</td>\n",
       "      <td>2.94</td>\n",
       "      <td>33.4</td>\n",
       "    </tr>\n",
       "    <tr>\n",
       "      <th>4</th>\n",
       "      <td>0.06905</td>\n",
       "      <td>0.458</td>\n",
       "      <td>7.147</td>\n",
       "      <td>54.2</td>\n",
       "      <td>18.7</td>\n",
       "      <td>5.33</td>\n",
       "      <td>36.2</td>\n",
       "    </tr>\n",
       "  </tbody>\n",
       "</table>\n",
       "</div>"
      ],
      "text/plain": [
       "      CRIM    NOX     RM   AGE  PTRATIO  LSTAT  PRICE\n",
       "0  0.00632  0.538  6.575  65.2     15.3   4.98   24.0\n",
       "1  0.02731  0.469  6.421  78.9     17.8   9.14   21.6\n",
       "2  0.02729  0.469  7.185  61.1     17.8   4.03   34.7\n",
       "3  0.03237  0.458  6.998  45.8     18.7   2.94   33.4\n",
       "4  0.06905  0.458  7.147  54.2     18.7   5.33   36.2"
      ]
     },
     "execution_count": 34,
     "metadata": {},
     "output_type": "execute_result"
    }
   ],
   "source": [
    "regression_df.head()"
   ]
  },
  {
   "cell_type": "code",
   "execution_count": 35,
   "metadata": {
    "ExecuteTime": {
     "end_time": "2023-02-08T02:15:00.334424Z",
     "start_time": "2023-02-08T02:15:00.325015Z"
    },
    "colab": {
     "base_uri": "https://localhost:8080/"
    },
    "executionInfo": {
     "elapsed": 17,
     "status": "ok",
     "timestamp": 1698803943369,
     "user": {
      "displayName": "Yvon Bilodeau",
      "userId": "10142856831792134633"
     },
     "user_tz": 420
    },
    "id": "4sJoxV1ZJKBd",
    "outputId": "ca6b1cac-9d39-4a4f-b683-d4c2bcfe3fe9"
   },
   "outputs": [
    {
     "name": "stdout",
     "output_type": "stream",
     "text": [
      "<class 'pandas.core.frame.DataFrame'>\n",
      "RangeIndex: 506 entries, 0 to 505\n",
      "Data columns (total 7 columns):\n",
      " #   Column   Non-Null Count  Dtype  \n",
      "---  ------   --------------  -----  \n",
      " 0   CRIM     506 non-null    float64\n",
      " 1   NOX      506 non-null    float64\n",
      " 2   RM       506 non-null    float64\n",
      " 3   AGE      506 non-null    float64\n",
      " 4   PTRATIO  506 non-null    float64\n",
      " 5   LSTAT    506 non-null    float64\n",
      " 6   PRICE    506 non-null    float64\n",
      "dtypes: float64(7)\n",
      "memory usage: 27.8 KB\n"
     ]
    }
   ],
   "source": [
    "regression_df.info()"
   ]
  },
  {
   "cell_type": "code",
   "execution_count": 36,
   "metadata": {
    "ExecuteTime": {
     "end_time": "2023-02-08T02:15:00.341921Z",
     "start_time": "2023-02-08T02:15:00.336419Z"
    },
    "colab": {
     "base_uri": "https://localhost:8080/"
    },
    "executionInfo": {
     "elapsed": 11,
     "status": "ok",
     "timestamp": 1698803943369,
     "user": {
      "displayName": "Yvon Bilodeau",
      "userId": "10142856831792134633"
     },
     "user_tz": 420
    },
    "id": "uvcvdJUZ6YKX",
    "outputId": "c33ec5e8-9fdb-479c-d23a-b17558802b91"
   },
   "outputs": [
    {
     "data": {
      "text/plain": [
       "False"
      ]
     },
     "execution_count": 36,
     "metadata": {},
     "output_type": "execute_result"
    }
   ],
   "source": [
    "regression_df.duplicated().any()"
   ]
  },
  {
   "cell_type": "code",
   "execution_count": 37,
   "metadata": {
    "ExecuteTime": {
     "end_time": "2023-02-08T02:15:00.368107Z",
     "start_time": "2023-02-08T02:15:00.342920Z"
    },
    "colab": {
     "base_uri": "https://localhost:8080/",
     "height": 297
    },
    "executionInfo": {
     "elapsed": 6,
     "status": "ok",
     "timestamp": 1698803943370,
     "user": {
      "displayName": "Yvon Bilodeau",
      "userId": "10142856831792134633"
     },
     "user_tz": 420
    },
    "id": "IrxmHTaU6s3N",
    "outputId": "0429c421-e5cb-4196-9317-11279e5b8668"
   },
   "outputs": [
    {
     "data": {
      "text/html": [
       "<div>\n",
       "<style scoped>\n",
       "    .dataframe tbody tr th:only-of-type {\n",
       "        vertical-align: middle;\n",
       "    }\n",
       "\n",
       "    .dataframe tbody tr th {\n",
       "        vertical-align: top;\n",
       "    }\n",
       "\n",
       "    .dataframe thead th {\n",
       "        text-align: right;\n",
       "    }\n",
       "</style>\n",
       "<table border=\"1\" class=\"dataframe\">\n",
       "  <thead>\n",
       "    <tr style=\"text-align: right;\">\n",
       "      <th></th>\n",
       "      <th>CRIM</th>\n",
       "      <th>NOX</th>\n",
       "      <th>RM</th>\n",
       "      <th>AGE</th>\n",
       "      <th>PTRATIO</th>\n",
       "      <th>LSTAT</th>\n",
       "      <th>PRICE</th>\n",
       "    </tr>\n",
       "  </thead>\n",
       "  <tbody>\n",
       "    <tr>\n",
       "      <th>count</th>\n",
       "      <td>506.000000</td>\n",
       "      <td>506.000000</td>\n",
       "      <td>506.000000</td>\n",
       "      <td>506.000000</td>\n",
       "      <td>506.000000</td>\n",
       "      <td>506.000000</td>\n",
       "      <td>506.000000</td>\n",
       "    </tr>\n",
       "    <tr>\n",
       "      <th>mean</th>\n",
       "      <td>3.613524</td>\n",
       "      <td>0.554695</td>\n",
       "      <td>6.284634</td>\n",
       "      <td>68.574901</td>\n",
       "      <td>18.455534</td>\n",
       "      <td>12.653063</td>\n",
       "      <td>22.532806</td>\n",
       "    </tr>\n",
       "    <tr>\n",
       "      <th>std</th>\n",
       "      <td>8.601545</td>\n",
       "      <td>0.115878</td>\n",
       "      <td>0.702617</td>\n",
       "      <td>28.148861</td>\n",
       "      <td>2.164946</td>\n",
       "      <td>7.141062</td>\n",
       "      <td>9.197104</td>\n",
       "    </tr>\n",
       "    <tr>\n",
       "      <th>min</th>\n",
       "      <td>0.006320</td>\n",
       "      <td>0.385000</td>\n",
       "      <td>3.561000</td>\n",
       "      <td>2.900000</td>\n",
       "      <td>12.600000</td>\n",
       "      <td>1.730000</td>\n",
       "      <td>5.000000</td>\n",
       "    </tr>\n",
       "    <tr>\n",
       "      <th>25%</th>\n",
       "      <td>0.082045</td>\n",
       "      <td>0.449000</td>\n",
       "      <td>5.885500</td>\n",
       "      <td>45.025000</td>\n",
       "      <td>17.400000</td>\n",
       "      <td>6.950000</td>\n",
       "      <td>17.025000</td>\n",
       "    </tr>\n",
       "    <tr>\n",
       "      <th>50%</th>\n",
       "      <td>0.256510</td>\n",
       "      <td>0.538000</td>\n",
       "      <td>6.208500</td>\n",
       "      <td>77.500000</td>\n",
       "      <td>19.050000</td>\n",
       "      <td>11.360000</td>\n",
       "      <td>21.200000</td>\n",
       "    </tr>\n",
       "    <tr>\n",
       "      <th>75%</th>\n",
       "      <td>3.677083</td>\n",
       "      <td>0.624000</td>\n",
       "      <td>6.623500</td>\n",
       "      <td>94.075000</td>\n",
       "      <td>20.200000</td>\n",
       "      <td>16.955000</td>\n",
       "      <td>25.000000</td>\n",
       "    </tr>\n",
       "    <tr>\n",
       "      <th>max</th>\n",
       "      <td>88.976200</td>\n",
       "      <td>0.871000</td>\n",
       "      <td>8.780000</td>\n",
       "      <td>100.000000</td>\n",
       "      <td>22.000000</td>\n",
       "      <td>37.970000</td>\n",
       "      <td>50.000000</td>\n",
       "    </tr>\n",
       "  </tbody>\n",
       "</table>\n",
       "</div>"
      ],
      "text/plain": [
       "             CRIM         NOX          RM         AGE     PTRATIO       LSTAT  \\\n",
       "count  506.000000  506.000000  506.000000  506.000000  506.000000  506.000000   \n",
       "mean     3.613524    0.554695    6.284634   68.574901   18.455534   12.653063   \n",
       "std      8.601545    0.115878    0.702617   28.148861    2.164946    7.141062   \n",
       "min      0.006320    0.385000    3.561000    2.900000   12.600000    1.730000   \n",
       "25%      0.082045    0.449000    5.885500   45.025000   17.400000    6.950000   \n",
       "50%      0.256510    0.538000    6.208500   77.500000   19.050000   11.360000   \n",
       "75%      3.677083    0.624000    6.623500   94.075000   20.200000   16.955000   \n",
       "max     88.976200    0.871000    8.780000  100.000000   22.000000   37.970000   \n",
       "\n",
       "            PRICE  \n",
       "count  506.000000  \n",
       "mean    22.532806  \n",
       "std      9.197104  \n",
       "min      5.000000  \n",
       "25%     17.025000  \n",
       "50%     21.200000  \n",
       "75%     25.000000  \n",
       "max     50.000000  "
      ]
     },
     "execution_count": 37,
     "metadata": {},
     "output_type": "execute_result"
    }
   ],
   "source": [
    "regression_df.describe()"
   ]
  },
  {
   "cell_type": "code",
   "execution_count": 38,
   "metadata": {
    "ExecuteTime": {
     "end_time": "2023-02-08T02:15:00.377085Z",
     "start_time": "2023-02-08T02:15:00.370103Z"
    },
    "executionInfo": {
     "elapsed": 5,
     "status": "ok",
     "timestamp": 1698803943370,
     "user": {
      "displayName": "Yvon Bilodeau",
      "userId": "10142856831792134633"
     },
     "user_tz": 420
    },
    "id": "rU0zM_dk6xDd"
   },
   "outputs": [],
   "source": [
    "# Define X and Y and complete the train test split\n",
    "X = regression_df.drop(columns = 'PRICE')\n",
    "y = regression_df['PRICE']\n",
    "\n",
    "X_train, X_test, y_train, y_test = train_test_split(X, y, random_state = 42)"
   ]
  },
  {
   "cell_type": "markdown",
   "metadata": {
    "id": "MqS765vN8Xti"
   },
   "source": [
    "## Scaling\n",
    "\n",
    "### Important Notes\n",
    "- Always scale your data for deep learning.  \n",
    "- Otherwise you get a problem call 'Exploding Weights'.  \n",
    "- Some weights will be updated much faster than others because the inputs are at larger scales.  \n",
    "- This tends to hurt learning as data on smaller scales does not update as fast and doesn't get to contribute as much to the decision making process.  \n",
    "- By scaling we put all features on the same footing."
   ]
  },
  {
   "cell_type": "code",
   "execution_count": 39,
   "metadata": {
    "ExecuteTime": {
     "end_time": "2023-02-08T02:15:00.384069Z",
     "start_time": "2023-02-08T02:15:00.377085Z"
    },
    "executionInfo": {
     "elapsed": 216,
     "status": "ok",
     "timestamp": 1698803943582,
     "user": {
      "displayName": "Yvon Bilodeau",
      "userId": "10142856831792134633"
     },
     "user_tz": 420
    },
    "id": "bvCCtAhQ7gGe"
   },
   "outputs": [],
   "source": [
    "# Scale the data\n",
    "scaler = MinMaxScaler()\n",
    "scaler.fit(X_train)\n",
    "X_train_proc = scaler.transform(X_train)\n",
    "X_test_proc = scaler.transform(X_test)"
   ]
  },
  {
   "cell_type": "markdown",
   "metadata": {
    "id": "BzX4RBcu8TFx"
   },
   "source": [
    "## First Simple Model\n",
    "\n",
    "We always want to start simple, as deep learning models can get very complex fast and more complex models take more time to train and are more prone to overfitting.  A well performing simple model is better than a well performing complex model.\n",
    "\n",
    "## Input layer\n",
    "The first layer we will define is not technically the input layer.  We will define the first hidden layer with a special argument that tells Keras how to create a input layer:\n",
    "\n",
    "`input_dim=`\n",
    "\n",
    "Input layers can also be defined manually using tensorflow.keras.layers.InputLayer\n",
    "\n",
    "## Activation function\n",
    "\n",
    "For the single hidden layer we will try just 3 nodes and use a ReLU activation.  ReLUs tend to perform well for hidden layers.\n",
    "\n",
    "## Output Layer\n",
    "\n",
    "For the output layer (last layer) we just use one node because we only want the output of the model to be one number.  We will use a linear activation function.  This will simply output the value from the weights and bias in the node with no change.  The output will be a continuous number, a float.  This will make our model a regression model.\n",
    "\n",
    "\n"
   ]
  },
  {
   "cell_type": "markdown",
   "metadata": {
    "id": "glnm6hhh4M6u"
   },
   "source": [
    "# Note:\n",
    "### The first layer you define will NOT be the input layer!  Keras will create an input layer on its own, implicitly."
   ]
  },
  {
   "cell_type": "code",
   "execution_count": 40,
   "metadata": {
    "ExecuteTime": {
     "end_time": "2023-02-08T02:23:47.149108Z",
     "start_time": "2023-02-08T02:23:47.117114Z"
    },
    "colab": {
     "base_uri": "https://localhost:8080/"
    },
    "executionInfo": {
     "elapsed": 191,
     "status": "ok",
     "timestamp": 1698803943771,
     "user": {
      "displayName": "Yvon Bilodeau",
      "userId": "10142856831792134633"
     },
     "user_tz": 420
    },
    "id": "AnjwY1dz7vcG",
    "outputId": "702a01f0-8afb-4f6d-e791-adc74722749a"
   },
   "outputs": [],
   "source": [
    "from tensorflow.keras.metrics import RootMeanSquaredError\n",
    "\n",
    "# Set Random Seeds\n",
    "keras.backend.clear_session()\n",
    "np.random.seed(42)\n",
    "tf.random.set_seed(42)\n",
    "def build_model():\n",
    "    # Instantiate your sequential model\n",
    "    model = Sequential()\n",
    "    # Add first hidden layer with 3 neurons THIS IS NOT THE INPUT LAYER!\n",
    "    # Tell Keras how to construct the input layer shape using input_dim\n",
    "    model.add(Dense(10, activation='relu', input_dim=X_train_proc.shape[1]))\n",
    "    model.add(Dense(10, activation='relu'))\n",
    "\n",
    "    # Add output layer with 1 node\n",
    "    model.add(Dense(1, activation='linear'))\n",
    "    from tensorflow.keras.metrics import RootMeanSquaredError\n",
    "\n",
    "    rmse = RootMeanSquaredError()\n",
    "\n",
    "    model.compile(loss='mse', optimizer='adam', metrics=['mae', rmse])\n",
    "\n",
    "    # Check summary of network\n",
    "    model.summary()\n",
    "    # Compile your model.\n",
    "    return model\n"
   ]
  },
  {
   "cell_type": "markdown",
   "metadata": {
    "id": "9wAFuCDGOBzo"
   },
   "source": [
    "## Compiling\n",
    "\n",
    "Compiling the model puts all the pieces together to make it ready to train.  \n",
    "\n",
    "For this step, we need to specify a few other hyperparameters:\n",
    "\n",
    "* **Optimizer:** An Adam optimizer is a favorite and often performs well, it's a good place to start.\n",
    "  - Other optimizers : Gradient Descent, Stochastic Gradient Descent, Adagrad, RMSProp\n",
    "* **Loss Function:** 'mse' or mean squared error.  This is the number our model will try to reduce in each epoch.  Since this is a regression model we want our model to minimize the mean squared error.  A loss function ALWAYS needs to be a measurement of the total error that the model can REDUCE.  R^2 won't work because higher is better. We don't want the model to reduce R^2!\n",
    "* **Metrics:** 'mae' or mean absolute error.  We can provide a list of any appropriate metrics we want the model to keep track at each epoch.\n",
    "\n",
    "\n"
   ]
  },
  {
   "cell_type": "markdown",
   "metadata": {
    "id": "sBvS_wkr_hEh"
   },
   "source": [
    "# Training (AKA fitting)\n",
    "\n",
    "Let's try training our model for 100 few epochs.  Sometimes that is enough, and it will give us an idea whether our model is learning anything."
   ]
  },
  {
   "cell_type": "code",
   "execution_count": 41,
   "metadata": {
    "ExecuteTime": {
     "end_time": "2023-02-08T02:23:54.798328Z",
     "start_time": "2023-02-08T02:23:48.643134Z"
    },
    "colab": {
     "base_uri": "https://localhost:8080/"
    },
    "executionInfo": {
     "elapsed": 22461,
     "status": "ok",
     "timestamp": 1698803966394,
     "user": {
      "displayName": "Yvon Bilodeau",
      "userId": "10142856831792134633"
     },
     "user_tz": 420
    },
    "id": "81VFx1n1-TS7",
    "outputId": "38986443-be8d-41c0-8a54-27c0bd8fe38b",
    "scrolled": true
   },
   "outputs": [
    {
     "name": "stdout",
     "output_type": "stream",
     "text": [
      "Model: \"sequential\"\n",
      "_________________________________________________________________\n",
      " Layer (type)                Output Shape              Param #   \n",
      "=================================================================\n",
      " dense (Dense)               (None, 10)                70        \n",
      "                                                                 \n",
      " dense_1 (Dense)             (None, 10)                110       \n",
      "                                                                 \n",
      " dense_2 (Dense)             (None, 1)                 11        \n",
      "                                                                 \n",
      "=================================================================\n",
      "Total params: 191\n",
      "Trainable params: 191\n",
      "Non-trainable params: 0\n",
      "_________________________________________________________________\n",
      "Epoch 1/100\n",
      " 1/12 [=>............................] - ETA: 3s - loss: 530.3997 - mae: 21.0433 - root_mean_squared_error: 23.0304"
     ]
    },
    {
     "name": "stdout",
     "output_type": "stream",
     "text": [
      "12/12 [==============================] - 1s 14ms/step - loss: 603.7076 - mae: 22.6981 - root_mean_squared_error: 24.5705 - val_loss: 518.0171 - val_mae: 21.1637 - val_root_mean_squared_error: 22.7600\n",
      "Epoch 2/100\n",
      "12/12 [==============================] - 0s 4ms/step - loss: 600.0721 - mae: 22.6140 - root_mean_squared_error: 24.4964 - val_loss: 514.5451 - val_mae: 21.0768 - val_root_mean_squared_error: 22.6836\n",
      "Epoch 3/100\n",
      "12/12 [==============================] - 0s 4ms/step - loss: 596.1291 - mae: 22.5221 - root_mean_squared_error: 24.4158 - val_loss: 510.5632 - val_mae: 20.9766 - val_root_mean_squared_error: 22.5956\n",
      "Epoch 4/100\n",
      "12/12 [==============================] - 0s 3ms/step - loss: 591.3649 - mae: 22.4088 - root_mean_squared_error: 24.3180 - val_loss: 504.7148 - val_mae: 20.8262 - val_root_mean_squared_error: 22.4659\n",
      "Epoch 5/100\n",
      "12/12 [==============================] - 0s 3ms/step - loss: 583.7289 - mae: 22.2234 - root_mean_squared_error: 24.1605 - val_loss: 494.7825 - val_mae: 20.5680 - val_root_mean_squared_error: 22.2437\n",
      "Epoch 6/100\n",
      "12/12 [==============================] - 0s 3ms/step - loss: 571.6628 - mae: 21.9298 - root_mean_squared_error: 23.9095 - val_loss: 481.5327 - val_mae: 20.2215 - val_root_mean_squared_error: 21.9439\n",
      "Epoch 7/100\n",
      "12/12 [==============================] - 0s 3ms/step - loss: 556.5850 - mae: 21.5585 - root_mean_squared_error: 23.5921 - val_loss: 465.9375 - val_mae: 19.8073 - val_root_mean_squared_error: 21.5856\n",
      "Epoch 8/100\n",
      "12/12 [==============================] - 0s 3ms/step - loss: 538.7106 - mae: 21.1133 - root_mean_squared_error: 23.2101 - val_loss: 447.5932 - val_mae: 19.3072 - val_root_mean_squared_error: 21.1564\n",
      "Epoch 9/100\n",
      "12/12 [==============================] - 0s 3ms/step - loss: 516.8369 - mae: 20.5573 - root_mean_squared_error: 22.7340 - val_loss: 424.8326 - val_mae: 18.6644 - val_root_mean_squared_error: 20.6115\n",
      "Epoch 10/100\n",
      "12/12 [==============================] - 0s 3ms/step - loss: 489.4998 - mae: 19.8382 - root_mean_squared_error: 22.1246 - val_loss: 397.1407 - val_mae: 17.8483 - val_root_mean_squared_error: 19.9284\n",
      "Epoch 11/100\n",
      "12/12 [==============================] - 0s 3ms/step - loss: 457.7014 - mae: 18.9710 - root_mean_squared_error: 21.3940 - val_loss: 366.4745 - val_mae: 16.9143 - val_root_mean_squared_error: 19.1435\n",
      "Epoch 12/100\n",
      "12/12 [==============================] - 0s 3ms/step - loss: 423.0039 - mae: 17.9754 - root_mean_squared_error: 20.5671 - val_loss: 333.9250 - val_mae: 15.8697 - val_root_mean_squared_error: 18.2736\n",
      "Epoch 13/100\n",
      "12/12 [==============================] - 0s 3ms/step - loss: 386.9356 - mae: 16.8990 - root_mean_squared_error: 19.6707 - val_loss: 300.3596 - val_mae: 14.7516 - val_root_mean_squared_error: 17.3309\n",
      "Epoch 14/100\n",
      "12/12 [==============================] - 0s 3ms/step - loss: 349.1682 - mae: 15.7591 - root_mean_squared_error: 18.6860 - val_loss: 267.7044 - val_mae: 13.6218 - val_root_mean_squared_error: 16.3617\n",
      "Epoch 15/100\n",
      "12/12 [==============================] - 0s 3ms/step - loss: 313.1840 - mae: 14.6073 - root_mean_squared_error: 17.6970 - val_loss: 236.0902 - val_mae: 12.5268 - val_root_mean_squared_error: 15.3652\n",
      "Epoch 16/100\n",
      "12/12 [==============================] - 0s 3ms/step - loss: 278.3590 - mae: 13.4436 - root_mean_squared_error: 16.6841 - val_loss: 207.5956 - val_mae: 11.4714 - val_root_mean_squared_error: 14.4082\n",
      "Epoch 17/100\n",
      "12/12 [==============================] - 0s 3ms/step - loss: 247.4409 - mae: 12.4551 - root_mean_squared_error: 15.7303 - val_loss: 182.8441 - val_mae: 10.6385 - val_root_mean_squared_error: 13.5220\n",
      "Epoch 18/100\n",
      "12/12 [==============================] - 0s 4ms/step - loss: 219.4545 - mae: 11.5737 - root_mean_squared_error: 14.8140 - val_loss: 163.5388 - val_mae: 10.0124 - val_root_mean_squared_error: 12.7882\n",
      "Epoch 19/100\n",
      "12/12 [==============================] - 0s 3ms/step - loss: 197.9235 - mae: 10.9731 - root_mean_squared_error: 14.0685 - val_loss: 148.5751 - val_mae: 9.5339 - val_root_mean_squared_error: 12.1891\n",
      "Epoch 20/100\n",
      "12/12 [==============================] - 0s 3ms/step - loss: 180.9969 - mae: 10.4734 - root_mean_squared_error: 13.4535 - val_loss: 138.3310 - val_mae: 9.1340 - val_root_mean_squared_error: 11.7614\n",
      "Epoch 21/100\n",
      "12/12 [==============================] - 0s 3ms/step - loss: 167.7828 - mae: 10.0774 - root_mean_squared_error: 12.9531 - val_loss: 132.1981 - val_mae: 8.8784 - val_root_mean_squared_error: 11.4977\n",
      "Epoch 22/100\n",
      "12/12 [==============================] - 0s 3ms/step - loss: 159.5394 - mae: 9.8528 - root_mean_squared_error: 12.6309 - val_loss: 128.3901 - val_mae: 8.7249 - val_root_mean_squared_error: 11.3309\n",
      "Epoch 23/100\n",
      "12/12 [==============================] - 0s 3ms/step - loss: 153.6965 - mae: 9.7100 - root_mean_squared_error: 12.3974 - val_loss: 126.1893 - val_mae: 8.6395 - val_root_mean_squared_error: 11.2334\n",
      "Epoch 24/100\n",
      "12/12 [==============================] - 0s 3ms/step - loss: 149.7033 - mae: 9.6120 - root_mean_squared_error: 12.2353 - val_loss: 124.7923 - val_mae: 8.5908 - val_root_mean_squared_error: 11.1710\n",
      "Epoch 25/100\n",
      "12/12 [==============================] - 0s 3ms/step - loss: 146.5082 - mae: 9.5376 - root_mean_squared_error: 12.1041 - val_loss: 123.4883 - val_mae: 8.5414 - val_root_mean_squared_error: 11.1125\n",
      "Epoch 26/100\n",
      "12/12 [==============================] - 0s 3ms/step - loss: 144.1357 - mae: 9.4729 - root_mean_squared_error: 12.0057 - val_loss: 122.2252 - val_mae: 8.4931 - val_root_mean_squared_error: 11.0555\n",
      "Epoch 27/100\n",
      "12/12 [==============================] - 0s 3ms/step - loss: 141.9784 - mae: 9.4092 - root_mean_squared_error: 11.9155 - val_loss: 120.8081 - val_mae: 8.4376 - val_root_mean_squared_error: 10.9913\n",
      "Epoch 28/100\n",
      "12/12 [==============================] - 0s 3ms/step - loss: 139.8426 - mae: 9.3371 - root_mean_squared_error: 11.8255 - val_loss: 119.1722 - val_mae: 8.3745 - val_root_mean_squared_error: 10.9166\n",
      "Epoch 29/100\n",
      "12/12 [==============================] - 0s 3ms/step - loss: 137.7598 - mae: 9.2688 - root_mean_squared_error: 11.7371 - val_loss: 117.7480 - val_mae: 8.3225 - val_root_mean_squared_error: 10.8512\n",
      "Epoch 30/100\n",
      "12/12 [==============================] - 0s 3ms/step - loss: 135.9546 - mae: 9.2132 - root_mean_squared_error: 11.6600 - val_loss: 116.4154 - val_mae: 8.2770 - val_root_mean_squared_error: 10.7896\n",
      "Epoch 31/100\n",
      "12/12 [==============================] - 0s 3ms/step - loss: 133.8161 - mae: 9.1329 - root_mean_squared_error: 11.5679 - val_loss: 114.2065 - val_mae: 8.1846 - val_root_mean_squared_error: 10.6867\n",
      "Epoch 32/100\n",
      "12/12 [==============================] - 0s 3ms/step - loss: 131.4205 - mae: 9.0419 - root_mean_squared_error: 11.4639 - val_loss: 112.1067 - val_mae: 8.0996 - val_root_mean_squared_error: 10.5880\n",
      "Epoch 33/100\n",
      "12/12 [==============================] - 0s 3ms/step - loss: 129.2912 - mae: 8.9597 - root_mean_squared_error: 11.3706 - val_loss: 110.2491 - val_mae: 8.0284 - val_root_mean_squared_error: 10.5000\n",
      "Epoch 34/100\n",
      "12/12 [==============================] - 0s 3ms/step - loss: 126.7652 - mae: 8.8641 - root_mean_squared_error: 11.2590 - val_loss: 108.4539 - val_mae: 7.9606 - val_root_mean_squared_error: 10.4141\n",
      "Epoch 35/100\n",
      "12/12 [==============================] - 0s 3ms/step - loss: 124.2604 - mae: 8.7655 - root_mean_squared_error: 11.1472 - val_loss: 106.1766 - val_mae: 7.8663 - val_root_mean_squared_error: 10.3042\n",
      "Epoch 36/100\n",
      "12/12 [==============================] - 0s 3ms/step - loss: 121.6785 - mae: 8.6726 - root_mean_squared_error: 11.0308 - val_loss: 104.2647 - val_mae: 7.7941 - val_root_mean_squared_error: 10.2110\n",
      "Epoch 37/100\n",
      "12/12 [==============================] - 0s 3ms/step - loss: 118.8966 - mae: 8.5575 - root_mean_squared_error: 10.9040 - val_loss: 101.6440 - val_mae: 7.6834 - val_root_mean_squared_error: 10.0819\n",
      "Epoch 38/100\n",
      "12/12 [==============================] - 0s 3ms/step - loss: 116.1269 - mae: 8.4480 - root_mean_squared_error: 10.7762 - val_loss: 99.7266 - val_mae: 7.6063 - val_root_mean_squared_error: 9.9863\n",
      "Epoch 39/100\n",
      "12/12 [==============================] - 0s 3ms/step - loss: 113.2389 - mae: 8.3289 - root_mean_squared_error: 10.6414 - val_loss: 96.7984 - val_mae: 7.4765 - val_root_mean_squared_error: 9.8386\n",
      "Epoch 40/100\n",
      "12/12 [==============================] - 0s 3ms/step - loss: 110.2336 - mae: 8.2021 - root_mean_squared_error: 10.4992 - val_loss: 94.5787 - val_mae: 7.3821 - val_root_mean_squared_error: 9.7252\n",
      "Epoch 41/100\n",
      "12/12 [==============================] - 0s 3ms/step - loss: 107.3238 - mae: 8.0851 - root_mean_squared_error: 10.3597 - val_loss: 92.2404 - val_mae: 7.2833 - val_root_mean_squared_error: 9.6042\n",
      "Epoch 42/100\n",
      "12/12 [==============================] - 0s 3ms/step - loss: 104.4702 - mae: 7.9613 - root_mean_squared_error: 10.2211 - val_loss: 89.8026 - val_mae: 7.1769 - val_root_mean_squared_error: 9.4764\n",
      "Epoch 43/100\n",
      "12/12 [==============================] - 0s 3ms/step - loss: 101.6133 - mae: 7.8377 - root_mean_squared_error: 10.0803 - val_loss: 87.1763 - val_mae: 7.0543 - val_root_mean_squared_error: 9.3368\n",
      "Epoch 44/100\n",
      "12/12 [==============================] - 0s 3ms/step - loss: 98.7923 - mae: 7.6990 - root_mean_squared_error: 9.9394 - val_loss: 84.5995 - val_mae: 6.9327 - val_root_mean_squared_error: 9.1978\n",
      "Epoch 45/100\n",
      "12/12 [==============================] - 0s 3ms/step - loss: 95.9324 - mae: 7.5770 - root_mean_squared_error: 9.7945 - val_loss: 82.4728 - val_mae: 6.8367 - val_root_mean_squared_error: 9.0815\n",
      "Epoch 46/100\n",
      "12/12 [==============================] - 0s 3ms/step - loss: 93.0448 - mae: 7.4477 - root_mean_squared_error: 9.6460 - val_loss: 79.8167 - val_mae: 6.7020 - val_root_mean_squared_error: 8.9340\n",
      "Epoch 47/100\n",
      "12/12 [==============================] - 0s 4ms/step - loss: 90.3286 - mae: 7.3113 - root_mean_squared_error: 9.5041 - val_loss: 77.3926 - val_mae: 6.5802 - val_root_mean_squared_error: 8.7973\n",
      "Epoch 48/100\n",
      "12/12 [==============================] - 0s 3ms/step - loss: 87.4962 - mae: 7.1800 - root_mean_squared_error: 9.3539 - val_loss: 75.0352 - val_mae: 6.4581 - val_root_mean_squared_error: 8.6623\n",
      "Epoch 49/100\n",
      "12/12 [==============================] - 0s 3ms/step - loss: 84.8080 - mae: 7.0586 - root_mean_squared_error: 9.2091 - val_loss: 73.0539 - val_mae: 6.3598 - val_root_mean_squared_error: 8.5472\n",
      "Epoch 50/100\n",
      "12/12 [==============================] - 0s 3ms/step - loss: 82.1810 - mae: 6.9374 - root_mean_squared_error: 9.0654 - val_loss: 70.7960 - val_mae: 6.2418 - val_root_mean_squared_error: 8.4140\n",
      "Epoch 51/100\n",
      "12/12 [==============================] - 0s 3ms/step - loss: 79.5252 - mae: 6.8050 - root_mean_squared_error: 8.9177 - val_loss: 68.2728 - val_mae: 6.0998 - val_root_mean_squared_error: 8.2627\n",
      "Epoch 52/100\n",
      "12/12 [==============================] - 0s 3ms/step - loss: 76.9796 - mae: 6.6748 - root_mean_squared_error: 8.7738 - val_loss: 66.1720 - val_mae: 5.9923 - val_root_mean_squared_error: 8.1346\n",
      "Epoch 53/100\n",
      "12/12 [==============================] - 0s 3ms/step - loss: 74.3682 - mae: 6.5415 - root_mean_squared_error: 8.6237 - val_loss: 63.9363 - val_mae: 5.8707 - val_root_mean_squared_error: 7.9960\n",
      "Epoch 54/100\n",
      "12/12 [==============================] - 0s 3ms/step - loss: 72.0421 - mae: 6.4180 - root_mean_squared_error: 8.4878 - val_loss: 61.9338 - val_mae: 5.7727 - val_root_mean_squared_error: 7.8698\n",
      "Epoch 55/100\n",
      "12/12 [==============================] - 0s 3ms/step - loss: 69.5726 - mae: 6.2872 - root_mean_squared_error: 8.3410 - val_loss: 59.5688 - val_mae: 5.6331 - val_root_mean_squared_error: 7.7181\n",
      "Epoch 56/100\n",
      "12/12 [==============================] - 0s 3ms/step - loss: 67.2285 - mae: 6.1502 - root_mean_squared_error: 8.1993 - val_loss: 57.7171 - val_mae: 5.5440 - val_root_mean_squared_error: 7.5972\n",
      "Epoch 57/100\n",
      "12/12 [==============================] - 0s 3ms/step - loss: 64.9342 - mae: 6.0353 - root_mean_squared_error: 8.0582 - val_loss: 55.9764 - val_mae: 5.4632 - val_root_mean_squared_error: 7.4817\n",
      "Epoch 58/100\n",
      "12/12 [==============================] - 0s 3ms/step - loss: 62.7169 - mae: 5.9083 - root_mean_squared_error: 7.9194 - val_loss: 53.7947 - val_mae: 5.3274 - val_root_mean_squared_error: 7.3345\n",
      "Epoch 59/100\n",
      "12/12 [==============================] - 0s 3ms/step - loss: 60.6255 - mae: 5.7963 - root_mean_squared_error: 7.7862 - val_loss: 52.1968 - val_mae: 5.2540 - val_root_mean_squared_error: 7.2247\n",
      "Epoch 60/100\n",
      "12/12 [==============================] - 0s 3ms/step - loss: 58.4252 - mae: 5.6849 - root_mean_squared_error: 7.6436 - val_loss: 50.4816 - val_mae: 5.1605 - val_root_mean_squared_error: 7.1050\n",
      "Epoch 61/100\n",
      "12/12 [==============================] - 0s 3ms/step - loss: 56.4138 - mae: 5.5744 - root_mean_squared_error: 7.5109 - val_loss: 48.6149 - val_mae: 5.0476 - val_root_mean_squared_error: 6.9724\n",
      "Epoch 62/100\n",
      "12/12 [==============================] - 0s 3ms/step - loss: 54.4082 - mae: 5.4478 - root_mean_squared_error: 7.3762 - val_loss: 46.8047 - val_mae: 4.9308 - val_root_mean_squared_error: 6.8414\n",
      "Epoch 63/100\n",
      "12/12 [==============================] - 0s 3ms/step - loss: 52.6122 - mae: 5.3251 - root_mean_squared_error: 7.2534 - val_loss: 44.9457 - val_mae: 4.7940 - val_root_mean_squared_error: 6.7042\n",
      "Epoch 64/100\n",
      "12/12 [==============================] - 0s 3ms/step - loss: 50.7903 - mae: 5.2203 - root_mean_squared_error: 7.1267 - val_loss: 43.7203 - val_mae: 4.7508 - val_root_mean_squared_error: 6.6121\n",
      "Epoch 65/100\n",
      "12/12 [==============================] - 0s 3ms/step - loss: 49.0475 - mae: 5.1388 - root_mean_squared_error: 7.0034 - val_loss: 42.3220 - val_mae: 4.6755 - val_root_mean_squared_error: 6.5055\n",
      "Epoch 66/100\n",
      "12/12 [==============================] - 0s 3ms/step - loss: 47.3906 - mae: 5.0608 - root_mean_squared_error: 6.8841 - val_loss: 41.1064 - val_mae: 4.6128 - val_root_mean_squared_error: 6.4114\n",
      "Epoch 67/100\n",
      "12/12 [==============================] - 0s 3ms/step - loss: 45.8362 - mae: 4.9526 - root_mean_squared_error: 6.7702 - val_loss: 39.3663 - val_mae: 4.4732 - val_root_mean_squared_error: 6.2743\n",
      "Epoch 68/100\n",
      "12/12 [==============================] - 0s 3ms/step - loss: 44.2219 - mae: 4.8346 - root_mean_squared_error: 6.6500 - val_loss: 38.1996 - val_mae: 4.4017 - val_root_mean_squared_error: 6.1806\n",
      "Epoch 69/100\n",
      "12/12 [==============================] - 0s 3ms/step - loss: 42.8863 - mae: 4.7519 - root_mean_squared_error: 6.5488 - val_loss: 36.9245 - val_mae: 4.3101 - val_root_mean_squared_error: 6.0766\n",
      "Epoch 70/100\n",
      "12/12 [==============================] - 0s 3ms/step - loss: 41.5464 - mae: 4.6842 - root_mean_squared_error: 6.4456 - val_loss: 36.0643 - val_mae: 4.2921 - val_root_mean_squared_error: 6.0054\n",
      "Epoch 71/100\n",
      "12/12 [==============================] - 0s 3ms/step - loss: 40.2687 - mae: 4.6201 - root_mean_squared_error: 6.3458 - val_loss: 34.9759 - val_mae: 4.2301 - val_root_mean_squared_error: 5.9140\n",
      "Epoch 72/100\n",
      "12/12 [==============================] - 0s 4ms/step - loss: 39.0298 - mae: 4.5075 - root_mean_squared_error: 6.2474 - val_loss: 33.6543 - val_mae: 4.0953 - val_root_mean_squared_error: 5.8012\n",
      "Epoch 73/100\n",
      "12/12 [==============================] - 0s 5ms/step - loss: 37.8301 - mae: 4.4365 - root_mean_squared_error: 6.1506 - val_loss: 32.9529 - val_mae: 4.0793 - val_root_mean_squared_error: 5.7405\n",
      "Epoch 74/100\n",
      "12/12 [==============================] - 0s 3ms/step - loss: 36.7899 - mae: 4.3673 - root_mean_squared_error: 6.0655 - val_loss: 32.0387 - val_mae: 4.0128 - val_root_mean_squared_error: 5.6603\n",
      "Epoch 75/100\n",
      "12/12 [==============================] - 0s 3ms/step - loss: 35.9107 - mae: 4.3290 - root_mean_squared_error: 5.9926 - val_loss: 31.2912 - val_mae: 3.9766 - val_root_mean_squared_error: 5.5939\n",
      "Epoch 76/100\n",
      "12/12 [==============================] - 0s 3ms/step - loss: 34.9038 - mae: 4.2391 - root_mean_squared_error: 5.9079 - val_loss: 30.3125 - val_mae: 3.8699 - val_root_mean_squared_error: 5.5057\n",
      "Epoch 77/100\n",
      "12/12 [==============================] - 0s 3ms/step - loss: 33.9225 - mae: 4.1689 - root_mean_squared_error: 5.8243 - val_loss: 29.6499 - val_mae: 3.8262 - val_root_mean_squared_error: 5.4452\n",
      "Epoch 78/100\n",
      "12/12 [==============================] - 0s 3ms/step - loss: 33.1888 - mae: 4.1186 - root_mean_squared_error: 5.7610 - val_loss: 28.9398 - val_mae: 3.7663 - val_root_mean_squared_error: 5.3796\n",
      "Epoch 79/100\n",
      "12/12 [==============================] - 0s 3ms/step - loss: 32.4634 - mae: 4.0787 - root_mean_squared_error: 5.6977 - val_loss: 28.5132 - val_mae: 3.7671 - val_root_mean_squared_error: 5.3398\n",
      "Epoch 80/100\n",
      "12/12 [==============================] - 0s 3ms/step - loss: 31.6891 - mae: 4.0216 - root_mean_squared_error: 5.6293 - val_loss: 27.8432 - val_mae: 3.6908 - val_root_mean_squared_error: 5.2767\n",
      "Epoch 81/100\n",
      "12/12 [==============================] - 0s 3ms/step - loss: 31.0234 - mae: 3.9744 - root_mean_squared_error: 5.5699 - val_loss: 27.3528 - val_mae: 3.6620 - val_root_mean_squared_error: 5.2300\n",
      "Epoch 82/100\n",
      "12/12 [==============================] - 0s 4ms/step - loss: 30.4676 - mae: 3.9357 - root_mean_squared_error: 5.5197 - val_loss: 26.7938 - val_mae: 3.5996 - val_root_mean_squared_error: 5.1763\n",
      "Epoch 83/100\n",
      "12/12 [==============================] - 0s 3ms/step - loss: 29.8760 - mae: 3.8900 - root_mean_squared_error: 5.4659 - val_loss: 26.3786 - val_mae: 3.5678 - val_root_mean_squared_error: 5.1360\n",
      "Epoch 84/100\n",
      "12/12 [==============================] - 0s 4ms/step - loss: 29.4401 - mae: 3.8632 - root_mean_squared_error: 5.4259 - val_loss: 26.0821 - val_mae: 3.5803 - val_root_mean_squared_error: 5.1071\n",
      "Epoch 85/100\n",
      "12/12 [==============================] - 0s 4ms/step - loss: 28.8954 - mae: 3.8271 - root_mean_squared_error: 5.3754 - val_loss: 25.5400 - val_mae: 3.4923 - val_root_mean_squared_error: 5.0537\n",
      "Epoch 86/100\n",
      "12/12 [==============================] - 0s 4ms/step - loss: 28.4859 - mae: 3.7914 - root_mean_squared_error: 5.3372 - val_loss: 25.2426 - val_mae: 3.4906 - val_root_mean_squared_error: 5.0242\n",
      "Epoch 87/100\n",
      "12/12 [==============================] - 0s 4ms/step - loss: 28.0450 - mae: 3.7613 - root_mean_squared_error: 5.2958 - val_loss: 24.8928 - val_mae: 3.4503 - val_root_mean_squared_error: 4.9893\n",
      "Epoch 88/100\n",
      "12/12 [==============================] - 0s 3ms/step - loss: 27.6779 - mae: 3.7208 - root_mean_squared_error: 5.2610 - val_loss: 24.5418 - val_mae: 3.4029 - val_root_mean_squared_error: 4.9540\n",
      "Epoch 89/100\n",
      "12/12 [==============================] - 0s 3ms/step - loss: 27.3511 - mae: 3.6978 - root_mean_squared_error: 5.2298 - val_loss: 24.3165 - val_mae: 3.3970 - val_root_mean_squared_error: 4.9312\n",
      "Epoch 90/100\n",
      "12/12 [==============================] - 0s 3ms/step - loss: 27.0064 - mae: 3.6755 - root_mean_squared_error: 5.1968 - val_loss: 24.0755 - val_mae: 3.3818 - val_root_mean_squared_error: 4.9067\n",
      "Epoch 91/100\n",
      "12/12 [==============================] - 0s 3ms/step - loss: 26.7845 - mae: 3.6444 - root_mean_squared_error: 5.1754 - val_loss: 23.8210 - val_mae: 3.3529 - val_root_mean_squared_error: 4.8807\n",
      "Epoch 92/100\n",
      "12/12 [==============================] - 0s 3ms/step - loss: 26.4671 - mae: 3.6393 - root_mean_squared_error: 5.1446 - val_loss: 23.6875 - val_mae: 3.3681 - val_root_mean_squared_error: 4.8670\n",
      "Epoch 93/100\n",
      "12/12 [==============================] - 0s 3ms/step - loss: 26.1965 - mae: 3.6177 - root_mean_squared_error: 5.1182 - val_loss: 23.4151 - val_mae: 3.3164 - val_root_mean_squared_error: 4.8389\n",
      "Epoch 94/100\n",
      "12/12 [==============================] - 0s 4ms/step - loss: 25.9816 - mae: 3.5872 - root_mean_squared_error: 5.0972 - val_loss: 23.2079 - val_mae: 3.2891 - val_root_mean_squared_error: 4.8175\n",
      "Epoch 95/100\n",
      "12/12 [==============================] - 0s 3ms/step - loss: 25.7713 - mae: 3.5774 - root_mean_squared_error: 5.0765 - val_loss: 23.0741 - val_mae: 3.2970 - val_root_mean_squared_error: 4.8035\n",
      "Epoch 96/100\n",
      "12/12 [==============================] - 0s 3ms/step - loss: 25.6259 - mae: 3.5501 - root_mean_squared_error: 5.0622 - val_loss: 22.8843 - val_mae: 3.2476 - val_root_mean_squared_error: 4.7838\n",
      "Epoch 97/100\n",
      "12/12 [==============================] - 0s 3ms/step - loss: 25.4295 - mae: 3.5545 - root_mean_squared_error: 5.0428 - val_loss: 22.8346 - val_mae: 3.2937 - val_root_mean_squared_error: 4.7786\n",
      "Epoch 98/100\n",
      "12/12 [==============================] - 0s 3ms/step - loss: 25.2300 - mae: 3.5496 - root_mean_squared_error: 5.0229 - val_loss: 22.6543 - val_mae: 3.2560 - val_root_mean_squared_error: 4.7597\n",
      "Epoch 99/100\n",
      "12/12 [==============================] - 0s 6ms/step - loss: 25.1712 - mae: 3.5506 - root_mean_squared_error: 5.0171 - val_loss: 22.5639 - val_mae: 3.2678 - val_root_mean_squared_error: 4.7501\n",
      "Epoch 100/100\n",
      "12/12 [==============================] - 0s 3ms/step - loss: 24.9865 - mae: 3.5209 - root_mean_squared_error: 4.9987 - val_loss: 22.3740 - val_mae: 3.2001 - val_root_mean_squared_error: 4.7301\n"
     ]
    }
   ],
   "source": [
    "# Fit your model\n",
    "\n",
    "# Fit your model\n",
    "model = build_model()\n",
    "\n",
    "history = model.fit(X_train_proc, y_train,\n",
    "                        validation_data = (X_test_proc, y_test),\n",
    "                        epochs = 100)"
   ]
  },
  {
   "cell_type": "code",
   "execution_count": 42,
   "metadata": {
    "ExecuteTime": {
     "end_time": "2023-02-08T02:23:55.237007Z",
     "start_time": "2023-02-08T02:23:54.799327Z"
    },
    "colab": {
     "base_uri": "https://localhost:8080/",
     "height": 1000
    },
    "executionInfo": {
     "elapsed": 816,
     "status": "ok",
     "timestamp": 1698803967207,
     "user": {
      "displayName": "Yvon Bilodeau",
      "userId": "10142856831792134633"
     },
     "user_tz": 420
    },
    "id": "q8Kox9hOOq7w",
    "outputId": "5b8cc291-1371-4b95-a2a1-67dff8477e19"
   },
   "outputs": [
    {
     "data": {
      "image/png": "[encoded data removed]",
      "text/plain": [
       "<Figure size 640x480 with 1 Axes>"
      ]
     },
     "metadata": {},
     "output_type": "display_data"
    },
    {
     "data": {
      "image/png": "[encoded data removed]",
      "text/plain": [
       "<Figure size 640x480 with 1 Axes>"
      ]
     },
     "metadata": {},
     "output_type": "display_data"
    },
    {
     "data": {
      "image/png": "[encoded data removed]",
      "text/plain": [
       "<Figure size 640x480 with 1 Axes>"
      ]
     },
     "metadata": {},
     "output_type": "display_data"
    }
   ],
   "source": [
    "# Apply the custom function plot_history() to see how your model is doing\n",
    "plot_history(history)"
   ]
  },
  {
   "cell_type": "markdown",
   "metadata": {
    "id": "1Ic8eFsL_x2m"
   },
   "source": [
    "## Evaluation\n"
   ]
  },
  {
   "cell_type": "code",
   "execution_count": 43,
   "metadata": {
    "ExecuteTime": {
     "end_time": "2023-02-08T02:24:13.846087Z",
     "start_time": "2023-02-08T02:24:13.638158Z"
    },
    "colab": {
     "base_uri": "https://localhost:8080/",
     "height": 176
    },
    "executionInfo": {
     "elapsed": 244,
     "status": "ok",
     "timestamp": 1698803967448,
     "user": {
      "displayName": "Yvon Bilodeau",
      "userId": "10142856831792134633"
     },
     "user_tz": 420
    },
    "id": "33J5dOt3A8ZO",
    "outputId": "53d33b0a-4c41-470d-e0e1-b3c9584b0f66"
   },
   "outputs": [
    {
     "name": "stdout",
     "output_type": "stream",
     "text": [
      "12/12 [==============================] - 0s 909us/step\n",
      "4/4 [==============================] - 0s 1ms/step\n"
     ]
    },
    {
     "data": {
      "text/html": [
       "<div>\n",
       "<style scoped>\n",
       "    .dataframe tbody tr th:only-of-type {\n",
       "        vertical-align: middle;\n",
       "    }\n",
       "\n",
       "    .dataframe tbody tr th {\n",
       "        vertical-align: top;\n",
       "    }\n",
       "\n",
       "    .dataframe thead th {\n",
       "        text-align: right;\n",
       "    }\n",
       "</style>\n",
       "<table border=\"1\" class=\"dataframe\">\n",
       "  <thead>\n",
       "    <tr style=\"text-align: right;\">\n",
       "      <th></th>\n",
       "      <th>RMSE</th>\n",
       "      <th>MAE</th>\n",
       "      <th>R2</th>\n",
       "    </tr>\n",
       "    <tr>\n",
       "      <th>Model Name</th>\n",
       "      <th></th>\n",
       "      <th></th>\n",
       "      <th></th>\n",
       "    </tr>\n",
       "  </thead>\n",
       "  <tbody>\n",
       "    <tr>\n",
       "      <th>base_reg_train</th>\n",
       "      <td>314.617745</td>\n",
       "      <td>280.446832</td>\n",
       "      <td>-1115.174932</td>\n",
       "    </tr>\n",
       "    <tr>\n",
       "      <th>base_reg_test</th>\n",
       "      <td>274.115026</td>\n",
       "      <td>250.746368</td>\n",
       "      <td>-1071.998893</td>\n",
       "    </tr>\n",
       "  </tbody>\n",
       "</table>\n",
       "</div>"
      ],
      "text/plain": [
       "                      RMSE         MAE           R2\n",
       "Model Name                                         \n",
       "base_reg_train  314.617745  280.446832 -1115.174932\n",
       "base_reg_test   274.115026  250.746368 -1071.998893"
      ]
     },
     "execution_count": 43,
     "metadata": {},
     "output_type": "execute_result"
    }
   ],
   "source": [
    "# Make predictions and evaluate your model\n",
    "train_preds = model.predict(X_train)\n",
    "test_preds = model.predict(X_test)\n",
    "\n",
    "train_scores = eval_regression(y_train, train_preds, name='base_reg_train')\n",
    "test_scores = eval_regression(y_test, test_preds, name='base_reg_test')\n",
    "\n",
    "reg_scores = pd.concat([train_scores, test_scores])\n",
    "reg_scores"
   ]
  },
  {
   "cell_type": "markdown",
   "metadata": {
    "id": "TvQ16n8x7RWb"
   },
   "source": [
    "# <center> Temperature Check: </center>\n",
    "## On a scale of 0 - 5, how confident do you feel in coding neural networks?\n",
    "\n",
    "0. What is a neural net?\n",
    "1. I know what a neural net is, but I don't know how to even start coding one.\n",
    "2. I kinda get how the code flows, but need help from someone else to create my own.\n",
    "3. I understand the general idea, and could code a neural net in Keras if I had an example in front of me.\n",
    "4. I feel confident in coding a neural network with some reference materials.\n",
    "5. Move over, Josh.  I can finish this code-along."
   ]
  },
  {
   "cell_type": "markdown",
   "metadata": {
    "id": "NWaTq6c7FHlr"
   },
   "source": [
    "\n",
    "# 🦾 Your Turn: Classification Models in Keras\n",
    "\n",
    "Classification models are similar, except that we need to adjust:\n",
    "* The final activation of the output layer, and\n",
    "* The loss function and metrics in the compile step.\n",
    "\n",
    "We will also need to do some processing of the predictions after training to make them integers instead of floats.\n",
    "\n",
    "### Remember:\n",
    "MAE, MSE, RMSE, and R2 are regression metrics,\n",
    "\n",
    "accuracy, recall, precision, and F1-Score are classification metrics.\n",
    "\n",
    "## Classification Dataset\n",
    "The classification dataset describes diabetes rates among Pima Indians.  Each row is a person and this dataset includes features regarding health related measurements.  The target is binary and represents whether or not a person will be diagnosed with diabetes.  This is another old dataset first presented in 1988.\n",
    "\n"
   ]
  },
  {
   "cell_type": "code",
   "execution_count": 44,
   "metadata": {
    "colab": {
     "base_uri": "https://localhost:8080/",
     "height": 204
    },
    "executionInfo": {
     "elapsed": 17,
     "status": "ok",
     "timestamp": 1698803967448,
     "user": {
      "displayName": "Yvon Bilodeau",
      "userId": "10142856831792134633"
     },
     "user_tz": 420
    },
    "id": "CN1zHoGcGeFN",
    "outputId": "f0c37e65-f3e9-49fb-c46b-c42d66ef7117"
   },
   "outputs": [
    {
     "data": {
      "text/html": [
       "<div>\n",
       "<style scoped>\n",
       "    .dataframe tbody tr th:only-of-type {\n",
       "        vertical-align: middle;\n",
       "    }\n",
       "\n",
       "    .dataframe tbody tr th {\n",
       "        vertical-align: top;\n",
       "    }\n",
       "\n",
       "    .dataframe thead th {\n",
       "        text-align: right;\n",
       "    }\n",
       "</style>\n",
       "<table border=\"1\" class=\"dataframe\">\n",
       "  <thead>\n",
       "    <tr style=\"text-align: right;\">\n",
       "      <th></th>\n",
       "      <th>Pregnancies</th>\n",
       "      <th>Glucose</th>\n",
       "      <th>BloodPressure</th>\n",
       "      <th>SkinThickness</th>\n",
       "      <th>Insulin</th>\n",
       "      <th>BMI</th>\n",
       "      <th>DiabetesPedigreeFunction</th>\n",
       "      <th>Age</th>\n",
       "      <th>Outcome</th>\n",
       "    </tr>\n",
       "  </thead>\n",
       "  <tbody>\n",
       "    <tr>\n",
       "      <th>0</th>\n",
       "      <td>6</td>\n",
       "      <td>148</td>\n",
       "      <td>72</td>\n",
       "      <td>35</td>\n",
       "      <td>0</td>\n",
       "      <td>33.6</td>\n",
       "      <td>0.627</td>\n",
       "      <td>50</td>\n",
       "      <td>1</td>\n",
       "    </tr>\n",
       "    <tr>\n",
       "      <th>1</th>\n",
       "      <td>1</td>\n",
       "      <td>85</td>\n",
       "      <td>66</td>\n",
       "      <td>29</td>\n",
       "      <td>0</td>\n",
       "      <td>26.6</td>\n",
       "      <td>0.351</td>\n",
       "      <td>31</td>\n",
       "      <td>0</td>\n",
       "    </tr>\n",
       "    <tr>\n",
       "      <th>2</th>\n",
       "      <td>8</td>\n",
       "      <td>183</td>\n",
       "      <td>64</td>\n",
       "      <td>0</td>\n",
       "      <td>0</td>\n",
       "      <td>23.3</td>\n",
       "      <td>0.672</td>\n",
       "      <td>32</td>\n",
       "      <td>1</td>\n",
       "    </tr>\n",
       "    <tr>\n",
       "      <th>3</th>\n",
       "      <td>1</td>\n",
       "      <td>89</td>\n",
       "      <td>66</td>\n",
       "      <td>23</td>\n",
       "      <td>94</td>\n",
       "      <td>28.1</td>\n",
       "      <td>0.167</td>\n",
       "      <td>21</td>\n",
       "      <td>0</td>\n",
       "    </tr>\n",
       "    <tr>\n",
       "      <th>4</th>\n",
       "      <td>0</td>\n",
       "      <td>137</td>\n",
       "      <td>40</td>\n",
       "      <td>35</td>\n",
       "      <td>168</td>\n",
       "      <td>43.1</td>\n",
       "      <td>2.288</td>\n",
       "      <td>33</td>\n",
       "      <td>1</td>\n",
       "    </tr>\n",
       "  </tbody>\n",
       "</table>\n",
       "</div>"
      ],
      "text/plain": [
       "   Pregnancies  Glucose  BloodPressure  SkinThickness  Insulin   BMI  \\\n",
       "0            6      148             72             35        0  33.6   \n",
       "1            1       85             66             29        0  26.6   \n",
       "2            8      183             64              0        0  23.3   \n",
       "3            1       89             66             23       94  28.1   \n",
       "4            0      137             40             35      168  43.1   \n",
       "\n",
       "   DiabetesPedigreeFunction  Age  Outcome  \n",
       "0                     0.627   50        1  \n",
       "1                     0.351   31        0  \n",
       "2                     0.672   32        1  \n",
       "3                     0.167   21        0  \n",
       "4                     2.288   33        1  "
      ]
     },
     "execution_count": 44,
     "metadata": {},
     "output_type": "execute_result"
    }
   ],
   "source": [
    "classification_df = pd.read_csv('https://raw.githubusercontent.com/ninja-josh/image-storage/main/diabetes.csv')\n",
    "classification_df.head()"
   ]
  },
  {
   "cell_type": "code",
   "execution_count": 45,
   "metadata": {
    "colab": {
     "base_uri": "https://localhost:8080/"
    },
    "executionInfo": {
     "elapsed": 16,
     "status": "ok",
     "timestamp": 1698803967448,
     "user": {
      "displayName": "Yvon Bilodeau",
      "userId": "10142856831792134633"
     },
     "user_tz": 420
    },
    "id": "isTaHNFpGjQH",
    "outputId": "f8373e6d-e9c3-40d4-d790-f71c23b701f9"
   },
   "outputs": [
    {
     "name": "stdout",
     "output_type": "stream",
     "text": [
      "<class 'pandas.core.frame.DataFrame'>\n",
      "RangeIndex: 768 entries, 0 to 767\n",
      "Data columns (total 9 columns):\n",
      " #   Column                    Non-Null Count  Dtype  \n",
      "---  ------                    --------------  -----  \n",
      " 0   Pregnancies               768 non-null    int64  \n",
      " 1   Glucose                   768 non-null    int64  \n",
      " 2   BloodPressure             768 non-null    int64  \n",
      " 3   SkinThickness             768 non-null    int64  \n",
      " 4   Insulin                   768 non-null    int64  \n",
      " 5   BMI                       768 non-null    float64\n",
      " 6   DiabetesPedigreeFunction  768 non-null    float64\n",
      " 7   Age                       768 non-null    int64  \n",
      " 8   Outcome                   768 non-null    int64  \n",
      "dtypes: float64(2), int64(7)\n",
      "memory usage: 54.1 KB\n"
     ]
    }
   ],
   "source": [
    "classification_df.info()"
   ]
  },
  {
   "cell_type": "code",
   "execution_count": 46,
   "metadata": {
    "colab": {
     "base_uri": "https://localhost:8080/"
    },
    "executionInfo": {
     "elapsed": 10,
     "status": "ok",
     "timestamp": 1698803967448,
     "user": {
      "displayName": "Yvon Bilodeau",
      "userId": "10142856831792134633"
     },
     "user_tz": 420
    },
    "id": "HtZv-V73Gmjv",
    "outputId": "0cf5fa9f-33cc-47d1-b828-702de2a6f890"
   },
   "outputs": [
    {
     "data": {
      "text/plain": [
       "False"
      ]
     },
     "execution_count": 46,
     "metadata": {},
     "output_type": "execute_result"
    }
   ],
   "source": [
    "classification_df.duplicated().any()"
   ]
  },
  {
   "cell_type": "code",
   "execution_count": 47,
   "metadata": {
    "colab": {
     "base_uri": "https://localhost:8080/",
     "height": 297
    },
    "executionInfo": {
     "elapsed": 244,
     "status": "ok",
     "timestamp": 1698803967688,
     "user": {
      "displayName": "Yvon Bilodeau",
      "userId": "10142856831792134633"
     },
     "user_tz": 420
    },
    "id": "sdF3qT-9Gp_s",
    "outputId": "c2110d77-0c19-4268-b285-32c2640cedd0"
   },
   "outputs": [
    {
     "data": {
      "text/html": [
       "<div>\n",
       "<style scoped>\n",
       "    .dataframe tbody tr th:only-of-type {\n",
       "        vertical-align: middle;\n",
       "    }\n",
       "\n",
       "    .dataframe tbody tr th {\n",
       "        vertical-align: top;\n",
       "    }\n",
       "\n",
       "    .dataframe thead th {\n",
       "        text-align: right;\n",
       "    }\n",
       "</style>\n",
       "<table border=\"1\" class=\"dataframe\">\n",
       "  <thead>\n",
       "    <tr style=\"text-align: right;\">\n",
       "      <th></th>\n",
       "      <th>Pregnancies</th>\n",
       "      <th>Glucose</th>\n",
       "      <th>BloodPressure</th>\n",
       "      <th>SkinThickness</th>\n",
       "      <th>Insulin</th>\n",
       "      <th>BMI</th>\n",
       "      <th>DiabetesPedigreeFunction</th>\n",
       "      <th>Age</th>\n",
       "      <th>Outcome</th>\n",
       "    </tr>\n",
       "  </thead>\n",
       "  <tbody>\n",
       "    <tr>\n",
       "      <th>count</th>\n",
       "      <td>768.000000</td>\n",
       "      <td>768.000000</td>\n",
       "      <td>768.000000</td>\n",
       "      <td>768.000000</td>\n",
       "      <td>768.000000</td>\n",
       "      <td>768.000000</td>\n",
       "      <td>768.000000</td>\n",
       "      <td>768.000000</td>\n",
       "      <td>768.000000</td>\n",
       "    </tr>\n",
       "    <tr>\n",
       "      <th>mean</th>\n",
       "      <td>3.845052</td>\n",
       "      <td>120.894531</td>\n",
       "      <td>69.105469</td>\n",
       "      <td>20.536458</td>\n",
       "      <td>79.799479</td>\n",
       "      <td>31.992578</td>\n",
       "      <td>0.471876</td>\n",
       "      <td>33.240885</td>\n",
       "      <td>0.348958</td>\n",
       "    </tr>\n",
       "    <tr>\n",
       "      <th>std</th>\n",
       "      <td>3.369578</td>\n",
       "      <td>31.972618</td>\n",
       "      <td>19.355807</td>\n",
       "      <td>15.952218</td>\n",
       "      <td>115.244002</td>\n",
       "      <td>7.884160</td>\n",
       "      <td>0.331329</td>\n",
       "      <td>11.760232</td>\n",
       "      <td>0.476951</td>\n",
       "    </tr>\n",
       "    <tr>\n",
       "      <th>min</th>\n",
       "      <td>0.000000</td>\n",
       "      <td>0.000000</td>\n",
       "      <td>0.000000</td>\n",
       "      <td>0.000000</td>\n",
       "      <td>0.000000</td>\n",
       "      <td>0.000000</td>\n",
       "      <td>0.078000</td>\n",
       "      <td>21.000000</td>\n",
       "      <td>0.000000</td>\n",
       "    </tr>\n",
       "    <tr>\n",
       "      <th>25%</th>\n",
       "      <td>1.000000</td>\n",
       "      <td>99.000000</td>\n",
       "      <td>62.000000</td>\n",
       "      <td>0.000000</td>\n",
       "      <td>0.000000</td>\n",
       "      <td>27.300000</td>\n",
       "      <td>0.243750</td>\n",
       "      <td>24.000000</td>\n",
       "      <td>0.000000</td>\n",
       "    </tr>\n",
       "    <tr>\n",
       "      <th>50%</th>\n",
       "      <td>3.000000</td>\n",
       "      <td>117.000000</td>\n",
       "      <td>72.000000</td>\n",
       "      <td>23.000000</td>\n",
       "      <td>30.500000</td>\n",
       "      <td>32.000000</td>\n",
       "      <td>0.372500</td>\n",
       "      <td>29.000000</td>\n",
       "      <td>0.000000</td>\n",
       "    </tr>\n",
       "    <tr>\n",
       "      <th>75%</th>\n",
       "      <td>6.000000</td>\n",
       "      <td>140.250000</td>\n",
       "      <td>80.000000</td>\n",
       "      <td>32.000000</td>\n",
       "      <td>127.250000</td>\n",
       "      <td>36.600000</td>\n",
       "      <td>0.626250</td>\n",
       "      <td>41.000000</td>\n",
       "      <td>1.000000</td>\n",
       "    </tr>\n",
       "    <tr>\n",
       "      <th>max</th>\n",
       "      <td>17.000000</td>\n",
       "      <td>199.000000</td>\n",
       "      <td>122.000000</td>\n",
       "      <td>99.000000</td>\n",
       "      <td>846.000000</td>\n",
       "      <td>67.100000</td>\n",
       "      <td>2.420000</td>\n",
       "      <td>81.000000</td>\n",
       "      <td>1.000000</td>\n",
       "    </tr>\n",
       "  </tbody>\n",
       "</table>\n",
       "</div>"
      ],
      "text/plain": [
       "       Pregnancies     Glucose  BloodPressure  SkinThickness     Insulin  \\\n",
       "count   768.000000  768.000000     768.000000     768.000000  768.000000   \n",
       "mean      3.845052  120.894531      69.105469      20.536458   79.799479   \n",
       "std       3.369578   31.972618      19.355807      15.952218  115.244002   \n",
       "min       0.000000    0.000000       0.000000       0.000000    0.000000   \n",
       "25%       1.000000   99.000000      62.000000       0.000000    0.000000   \n",
       "50%       3.000000  117.000000      72.000000      23.000000   30.500000   \n",
       "75%       6.000000  140.250000      80.000000      32.000000  127.250000   \n",
       "max      17.000000  199.000000     122.000000      99.000000  846.000000   \n",
       "\n",
       "              BMI  DiabetesPedigreeFunction         Age     Outcome  \n",
       "count  768.000000                768.000000  768.000000  768.000000  \n",
       "mean    31.992578                  0.471876   33.240885    0.348958  \n",
       "std      7.884160                  0.331329   11.760232    0.476951  \n",
       "min      0.000000                  0.078000   21.000000    0.000000  \n",
       "25%     27.300000                  0.243750   24.000000    0.000000  \n",
       "50%     32.000000                  0.372500   29.000000    0.000000  \n",
       "75%     36.600000                  0.626250   41.000000    1.000000  \n",
       "max     67.100000                  2.420000   81.000000    1.000000  "
      ]
     },
     "execution_count": 47,
     "metadata": {},
     "output_type": "execute_result"
    }
   ],
   "source": [
    "classification_df.describe()"
   ]
  },
  {
   "cell_type": "markdown",
   "metadata": {
    "id": "l8cjiy3BGvLa"
   },
   "source": [
    "### Important Note:\n",
    "We see minimums for Glucose, BloodPression, SkinThickness, Insulin, and BMI of 0s.  Those are impossible for humans, so lets drop those rows."
   ]
  },
  {
   "cell_type": "code",
   "execution_count": 48,
   "metadata": {
    "colab": {
     "base_uri": "https://localhost:8080/",
     "height": 297
    },
    "executionInfo": {
     "elapsed": 23,
     "status": "ok",
     "timestamp": 1698803967689,
     "user": {
      "displayName": "Yvon Bilodeau",
      "userId": "10142856831792134633"
     },
     "user_tz": 420
    },
    "id": "TwzoeFVWG6Dd",
    "outputId": "1c35a985-cea6-441a-b58a-b8fdcab78117"
   },
   "outputs": [
    {
     "data": {
      "text/html": [
       "<div>\n",
       "<style scoped>\n",
       "    .dataframe tbody tr th:only-of-type {\n",
       "        vertical-align: middle;\n",
       "    }\n",
       "\n",
       "    .dataframe tbody tr th {\n",
       "        vertical-align: top;\n",
       "    }\n",
       "\n",
       "    .dataframe thead th {\n",
       "        text-align: right;\n",
       "    }\n",
       "</style>\n",
       "<table border=\"1\" class=\"dataframe\">\n",
       "  <thead>\n",
       "    <tr style=\"text-align: right;\">\n",
       "      <th></th>\n",
       "      <th>Pregnancies</th>\n",
       "      <th>Glucose</th>\n",
       "      <th>BloodPressure</th>\n",
       "      <th>SkinThickness</th>\n",
       "      <th>Insulin</th>\n",
       "      <th>BMI</th>\n",
       "      <th>DiabetesPedigreeFunction</th>\n",
       "      <th>Age</th>\n",
       "      <th>Outcome</th>\n",
       "    </tr>\n",
       "  </thead>\n",
       "  <tbody>\n",
       "    <tr>\n",
       "      <th>count</th>\n",
       "      <td>392.000000</td>\n",
       "      <td>392.000000</td>\n",
       "      <td>392.000000</td>\n",
       "      <td>392.000000</td>\n",
       "      <td>392.000000</td>\n",
       "      <td>392.000000</td>\n",
       "      <td>392.000000</td>\n",
       "      <td>392.000000</td>\n",
       "      <td>392.000000</td>\n",
       "    </tr>\n",
       "    <tr>\n",
       "      <th>mean</th>\n",
       "      <td>3.301020</td>\n",
       "      <td>122.627551</td>\n",
       "      <td>70.663265</td>\n",
       "      <td>29.145408</td>\n",
       "      <td>156.056122</td>\n",
       "      <td>33.086224</td>\n",
       "      <td>0.523046</td>\n",
       "      <td>30.864796</td>\n",
       "      <td>0.331633</td>\n",
       "    </tr>\n",
       "    <tr>\n",
       "      <th>std</th>\n",
       "      <td>3.211424</td>\n",
       "      <td>30.860781</td>\n",
       "      <td>12.496092</td>\n",
       "      <td>10.516424</td>\n",
       "      <td>118.841690</td>\n",
       "      <td>7.027659</td>\n",
       "      <td>0.345488</td>\n",
       "      <td>10.200777</td>\n",
       "      <td>0.471401</td>\n",
       "    </tr>\n",
       "    <tr>\n",
       "      <th>min</th>\n",
       "      <td>0.000000</td>\n",
       "      <td>56.000000</td>\n",
       "      <td>24.000000</td>\n",
       "      <td>7.000000</td>\n",
       "      <td>14.000000</td>\n",
       "      <td>18.200000</td>\n",
       "      <td>0.085000</td>\n",
       "      <td>21.000000</td>\n",
       "      <td>0.000000</td>\n",
       "    </tr>\n",
       "    <tr>\n",
       "      <th>25%</th>\n",
       "      <td>1.000000</td>\n",
       "      <td>99.000000</td>\n",
       "      <td>62.000000</td>\n",
       "      <td>21.000000</td>\n",
       "      <td>76.750000</td>\n",
       "      <td>28.400000</td>\n",
       "      <td>0.269750</td>\n",
       "      <td>23.000000</td>\n",
       "      <td>0.000000</td>\n",
       "    </tr>\n",
       "    <tr>\n",
       "      <th>50%</th>\n",
       "      <td>2.000000</td>\n",
       "      <td>119.000000</td>\n",
       "      <td>70.000000</td>\n",
       "      <td>29.000000</td>\n",
       "      <td>125.500000</td>\n",
       "      <td>33.200000</td>\n",
       "      <td>0.449500</td>\n",
       "      <td>27.000000</td>\n",
       "      <td>0.000000</td>\n",
       "    </tr>\n",
       "    <tr>\n",
       "      <th>75%</th>\n",
       "      <td>5.000000</td>\n",
       "      <td>143.000000</td>\n",
       "      <td>78.000000</td>\n",
       "      <td>37.000000</td>\n",
       "      <td>190.000000</td>\n",
       "      <td>37.100000</td>\n",
       "      <td>0.687000</td>\n",
       "      <td>36.000000</td>\n",
       "      <td>1.000000</td>\n",
       "    </tr>\n",
       "    <tr>\n",
       "      <th>max</th>\n",
       "      <td>17.000000</td>\n",
       "      <td>198.000000</td>\n",
       "      <td>110.000000</td>\n",
       "      <td>63.000000</td>\n",
       "      <td>846.000000</td>\n",
       "      <td>67.100000</td>\n",
       "      <td>2.420000</td>\n",
       "      <td>81.000000</td>\n",
       "      <td>1.000000</td>\n",
       "    </tr>\n",
       "  </tbody>\n",
       "</table>\n",
       "</div>"
      ],
      "text/plain": [
       "       Pregnancies     Glucose  BloodPressure  SkinThickness     Insulin  \\\n",
       "count   392.000000  392.000000     392.000000     392.000000  392.000000   \n",
       "mean      3.301020  122.627551      70.663265      29.145408  156.056122   \n",
       "std       3.211424   30.860781      12.496092      10.516424  118.841690   \n",
       "min       0.000000   56.000000      24.000000       7.000000   14.000000   \n",
       "25%       1.000000   99.000000      62.000000      21.000000   76.750000   \n",
       "50%       2.000000  119.000000      70.000000      29.000000  125.500000   \n",
       "75%       5.000000  143.000000      78.000000      37.000000  190.000000   \n",
       "max      17.000000  198.000000     110.000000      63.000000  846.000000   \n",
       "\n",
       "              BMI  DiabetesPedigreeFunction         Age     Outcome  \n",
       "count  392.000000                392.000000  392.000000  392.000000  \n",
       "mean    33.086224                  0.523046   30.864796    0.331633  \n",
       "std      7.027659                  0.345488   10.200777    0.471401  \n",
       "min     18.200000                  0.085000   21.000000    0.000000  \n",
       "25%     28.400000                  0.269750   23.000000    0.000000  \n",
       "50%     33.200000                  0.449500   27.000000    0.000000  \n",
       "75%     37.100000                  0.687000   36.000000    1.000000  \n",
       "max     67.100000                  2.420000   81.000000    1.000000  "
      ]
     },
     "execution_count": 48,
     "metadata": {},
     "output_type": "execute_result"
    }
   ],
   "source": [
    "no_glucose = classification_df['Glucose'] == 0\n",
    "no_blood = classification_df['BloodPressure'] == 0\n",
    "no_skin = classification_df['SkinThickness'] == 0\n",
    "no_insulin = classification_df['Insulin'] == 0\n",
    "no_bmi = classification_df['BMI'] == 0\n",
    "\n",
    "#class_df_clean excludes rows that have no values == 0 in the above columns\n",
    "class_df_clean = classification_df[~(no_glucose |\n",
    "                                     no_blood |\n",
    "                                     no_skin |\n",
    "                                     no_insulin |\n",
    "                                     no_bmi)]\n",
    "class_df_clean.describe()"
   ]
  },
  {
   "cell_type": "markdown",
   "metadata": {
    "id": "oQqWsTbaM5It"
   },
   "source": [
    "We lost a lot of data, going from 768 samples to 392 samples.  In the future we might impute this data using means, medians, or other imputation strategies.  For this exercise we won't focus on that."
   ]
  },
  {
   "cell_type": "markdown",
   "metadata": {
    "id": "H3mqMU6SJZlO"
   },
   "source": [
    "### Important Note:\n",
    "\n",
    "This stratify parameter makes a split so that the proportion of values in the sample produced will be the same as the proportion of values provided to parameter stratify.\n",
    "\n",
    "For example, if variable y is a binary categorical variable with values 0 and 1 and there are 25% of zeros and 75% of ones, stratify=y will make sure that your random split has 25% of 0's and 75% of 1's."
   ]
  },
  {
   "cell_type": "code",
   "execution_count": 49,
   "metadata": {
    "executionInfo": {
     "elapsed": 22,
     "status": "ok",
     "timestamp": 1698803967689,
     "user": {
      "displayName": "Yvon Bilodeau",
      "userId": "10142856831792134633"
     },
     "user_tz": 420
    },
    "id": "JjREwrWgGPtP"
   },
   "outputs": [],
   "source": [
    "# Define X and y and train test split\n",
    "X = class_df_clean.drop(columns = 'Outcome')\n",
    "y = class_df_clean['Outcome']\n",
    "\n",
    "\n",
    "X_train, X_test, y_train, y_test = train_test_split(X, y, random_state = 42, stratify = y)"
   ]
  },
  {
   "cell_type": "code",
   "execution_count": 50,
   "metadata": {
    "colab": {
     "base_uri": "https://localhost:8080/"
    },
    "executionInfo": {
     "elapsed": 22,
     "status": "ok",
     "timestamp": 1698803967689,
     "user": {
      "displayName": "Yvon Bilodeau",
      "userId": "10142856831792134633"
     },
     "user_tz": 420
    },
    "id": "bE0MPxsBJZlP",
    "outputId": "243735cd-5b06-403c-b4dc-6ad4292d3b75"
   },
   "outputs": [
    {
     "data": {
      "text/plain": [
       "0    0.668367\n",
       "1    0.331633\n",
       "Name: Outcome, dtype: float64"
      ]
     },
     "execution_count": 50,
     "metadata": {},
     "output_type": "execute_result"
    }
   ],
   "source": [
    "# Proportions of 0 and 1 in the dataset\n",
    "y.value_counts(normalize=True)"
   ]
  },
  {
   "cell_type": "code",
   "execution_count": 51,
   "metadata": {
    "colab": {
     "base_uri": "https://localhost:8080/"
    },
    "executionInfo": {
     "elapsed": 16,
     "status": "ok",
     "timestamp": 1698803967689,
     "user": {
      "displayName": "Yvon Bilodeau",
      "userId": "10142856831792134633"
     },
     "user_tz": 420
    },
    "id": "sO-5i_X7JZlP",
    "outputId": "ca91fca6-df64-4fb6-9d3a-4b1c9211e606"
   },
   "outputs": [
    {
     "data": {
      "text/plain": [
       "0    0.666667\n",
       "1    0.333333\n",
       "Name: Outcome, dtype: float64"
      ]
     },
     "execution_count": 51,
     "metadata": {},
     "output_type": "execute_result"
    }
   ],
   "source": [
    "# Proportions of 0 and 1 in the train dataset\n",
    "y_train.value_counts(normalize=True)"
   ]
  },
  {
   "cell_type": "code",
   "execution_count": 52,
   "metadata": {
    "colab": {
     "base_uri": "https://localhost:8080/"
    },
    "executionInfo": {
     "elapsed": 10,
     "status": "ok",
     "timestamp": 1698803967689,
     "user": {
      "displayName": "Yvon Bilodeau",
      "userId": "10142856831792134633"
     },
     "user_tz": 420
    },
    "id": "ccjfu2pdJZlP",
    "outputId": "41da206e-4f3e-4220-d585-70e2b1dee4ff"
   },
   "outputs": [
    {
     "data": {
      "text/plain": [
       "0    0.673469\n",
       "1    0.326531\n",
       "Name: Outcome, dtype: float64"
      ]
     },
     "execution_count": 52,
     "metadata": {},
     "output_type": "execute_result"
    }
   ],
   "source": [
    "# Proportions of 0 and 1 in the test dataset\n",
    "y_test.value_counts(normalize=True)"
   ]
  },
  {
   "cell_type": "code",
   "execution_count": 53,
   "metadata": {
    "executionInfo": {
     "elapsed": 5,
     "status": "ok",
     "timestamp": 1698803967689,
     "user": {
      "displayName": "Yvon Bilodeau",
      "userId": "10142856831792134633"
     },
     "user_tz": 420
    },
    "id": "EKPiCOByPOfF"
   },
   "outputs": [],
   "source": [
    "# Scale the data\n",
    "scaler = MinMaxScaler()\n",
    "scaler.fit(X_train)\n",
    "X_train_proc = scaler.transform(X_train)\n",
    "X_test_proc = scaler.transform(X_test)"
   ]
  },
  {
   "cell_type": "markdown",
   "metadata": {
    "id": "1TWU179nQIdt"
   },
   "source": [
    "## Build the Classification Model\n",
    "\n",
    "We need to do a few things differently here because this is a binary classification:\n",
    "\n",
    "1. The activation of our final layer needs to be 'sigmoid'.  \n",
    "\n",
    "\n",
    "(If this were multiclass classification, we would set the final activation as 'softmax' and the number of output nodes would be the number of classes in our y_train.)"
   ]
  },
  {
   "cell_type": "code",
   "execution_count": 54,
   "metadata": {
    "colab": {
     "base_uri": "https://localhost:8080/"
    },
    "executionInfo": {
     "elapsed": 204,
     "status": "ok",
     "timestamp": 1698803967889,
     "user": {
      "displayName": "Yvon Bilodeau",
      "userId": "10142856831792134633"
     },
     "user_tz": 420
    },
    "id": "lAwy3AXrPjwH",
    "outputId": "c89302f6-b241-4c46-878c-100361bd0a5a"
   },
   "outputs": [],
   "source": [
    "from keras.metrics import Precision, Recall\n",
    "\n",
    "# Set Random Seeds\n",
    "keras.backend.clear_session()\n",
    "np.random.seed(42)\n",
    "tf.random.set_seed(42)\n",
    "\n",
    "def build_class_model():\n",
    "# Build your model\n",
    "    class_model = Sequential()\n",
    "    class_model.add(Input(shape=(X_train_proc.shape[1],)))\n",
    "    class_model.add(Dense(10, activation= 'relu'))\n",
    "    class_model.add(Dense(5, activation= 'relu'))\n",
    "    class_model.add(Dense(2, activation= 'relu'))\n",
    "\n",
    "    # One output node with 'sigmoid' activation\n",
    "    class_model.add(Dense(1, activation='sigmoid'))\n",
    "    class_model.summary()\n",
    "    precision = Precision(name='precision')\n",
    "    recall = Recall(name='recall')\n",
    "\n",
    "    class_model.compile(optimizer = 'adam', loss = 'bce',\n",
    "                    metrics = ['accuracy', precision, recall])\n",
    "    \n",
    "    return class_model\n"
   ]
  },
  {
   "cell_type": "markdown",
   "metadata": {
    "id": "4nrwLXyKPpO1"
   },
   "source": [
    "## More Changes for Classification:\n",
    "\n",
    "1.  We need to change our loss to 'binary_crossentropy', or 'bce'.  If this were multiclass we would use 'categorical_crossentrobpy'.\n",
    "\n",
    "2. Our metrics should be classification metrics.  We will use accuracy and import recall and precision."
   ]
  },
  {
   "cell_type": "code",
   "execution_count": 55,
   "metadata": {
    "colab": {
     "base_uri": "https://localhost:8080/"
    },
    "executionInfo": {
     "elapsed": 42183,
     "status": "ok",
     "timestamp": 1698804010065,
     "user": {
      "displayName": "Yvon Bilodeau",
      "userId": "10142856831792134633"
     },
     "user_tz": 420
    },
    "id": "vScTvfoKOVLO",
    "outputId": "8106018a-5a36-4175-c6bb-c6924f9730cd",
    "scrolled": true
   },
   "outputs": [
    {
     "name": "stdout",
     "output_type": "stream",
     "text": [
      "Model: \"sequential\"\n",
      "_________________________________________________________________\n",
      " Layer (type)                Output Shape              Param #   \n",
      "=================================================================\n",
      " dense (Dense)               (None, 10)                90        \n",
      "                                                                 \n",
      " dense_1 (Dense)             (None, 5)                 55        \n",
      "                                                                 \n",
      " dense_2 (Dense)             (None, 2)                 12        \n",
      "                                                                 \n",
      " dense_3 (Dense)             (None, 1)                 3         \n",
      "                                                                 \n",
      "=================================================================\n",
      "Total params: 160\n",
      "Trainable params: 160\n",
      "Non-trainable params: 0\n",
      "_________________________________________________________________\n",
      "Epoch 1/300\n"
     ]
    },
    {
     "name": "stdout",
     "output_type": "stream",
     "text": [
      "10/10 [==============================] - 1s 28ms/step - loss: 0.6925 - accuracy: 0.6531 - precision: 0.4000 - recall: 0.0816 - val_loss: 0.6916 - val_accuracy: 0.6735 - val_precision: 0.0000e+00 - val_recall: 0.0000e+00\n",
      "Epoch 2/300\n",
      "10/10 [==============================] - 0s 4ms/step - loss: 0.6911 - accuracy: 0.6667 - precision: 0.0000e+00 - recall: 0.0000e+00 - val_loss: 0.6901 - val_accuracy: 0.6735 - val_precision: 0.0000e+00 - val_recall: 0.0000e+00\n",
      "Epoch 3/300\n",
      "10/10 [==============================] - 0s 4ms/step - loss: 0.6897 - accuracy: 0.6667 - precision: 0.0000e+00 - recall: 0.0000e+00 - val_loss: 0.6885 - val_accuracy: 0.6735 - val_precision: 0.0000e+00 - val_recall: 0.0000e+00\n",
      "Epoch 4/300\n",
      "10/10 [==============================] - 0s 4ms/step - loss: 0.6882 - accuracy: 0.6667 - precision: 0.0000e+00 - recall: 0.0000e+00 - val_loss: 0.6870 - val_accuracy: 0.6735 - val_precision: 0.0000e+00 - val_recall: 0.0000e+00\n",
      "Epoch 5/300\n",
      "10/10 [==============================] - 0s 4ms/step - loss: 0.6866 - accuracy: 0.6667 - precision: 0.0000e+00 - recall: 0.0000e+00 - val_loss: 0.6855 - val_accuracy: 0.6735 - val_precision: 0.0000e+00 - val_recall: 0.0000e+00\n",
      "Epoch 6/300\n",
      "10/10 [==============================] - 0s 4ms/step - loss: 0.6853 - accuracy: 0.6667 - precision: 0.0000e+00 - recall: 0.0000e+00 - val_loss: 0.6840 - val_accuracy: 0.6735 - val_precision: 0.0000e+00 - val_recall: 0.0000e+00\n",
      "Epoch 7/300\n",
      "10/10 [==============================] - 0s 4ms/step - loss: 0.6839 - accuracy: 0.6667 - precision: 0.0000e+00 - recall: 0.0000e+00 - val_loss: 0.6826 - val_accuracy: 0.6735 - val_precision: 0.0000e+00 - val_recall: 0.0000e+00\n",
      "Epoch 8/300\n",
      "10/10 [==============================] - 0s 4ms/step - loss: 0.6825 - accuracy: 0.6667 - precision: 0.0000e+00 - recall: 0.0000e+00 - val_loss: 0.6813 - val_accuracy: 0.6735 - val_precision: 0.0000e+00 - val_recall: 0.0000e+00\n",
      "Epoch 9/300\n",
      "10/10 [==============================] - 0s 5ms/step - loss: 0.6813 - accuracy: 0.6667 - precision: 0.0000e+00 - recall: 0.0000e+00 - val_loss: 0.6799 - val_accuracy: 0.6735 - val_precision: 0.0000e+00 - val_recall: 0.0000e+00\n",
      "Epoch 10/300\n",
      "10/10 [==============================] - 0s 4ms/step - loss: 0.6799 - accuracy: 0.6667 - precision: 0.0000e+00 - recall: 0.0000e+00 - val_loss: 0.6786 - val_accuracy: 0.6735 - val_precision: 0.0000e+00 - val_recall: 0.0000e+00\n",
      "Epoch 11/300\n",
      "10/10 [==============================] - 0s 4ms/step - loss: 0.6786 - accuracy: 0.6667 - precision: 0.0000e+00 - recall: 0.0000e+00 - val_loss: 0.6772 - val_accuracy: 0.6735 - val_precision: 0.0000e+00 - val_recall: 0.0000e+00\n",
      "Epoch 12/300\n",
      "10/10 [==============================] - 0s 4ms/step - loss: 0.6773 - accuracy: 0.6667 - precision: 0.0000e+00 - recall: 0.0000e+00 - val_loss: 0.6758 - val_accuracy: 0.6735 - val_precision: 0.0000e+00 - val_recall: 0.0000e+00\n",
      "Epoch 13/300\n",
      "10/10 [==============================] - 0s 4ms/step - loss: 0.6759 - accuracy: 0.6667 - precision: 0.0000e+00 - recall: 0.0000e+00 - val_loss: 0.6743 - val_accuracy: 0.6735 - val_precision: 0.0000e+00 - val_recall: 0.0000e+00\n",
      "Epoch 14/300\n",
      "10/10 [==============================] - 0s 4ms/step - loss: 0.6746 - accuracy: 0.6667 - precision: 0.0000e+00 - recall: 0.0000e+00 - val_loss: 0.6730 - val_accuracy: 0.6735 - val_precision: 0.0000e+00 - val_recall: 0.0000e+00\n",
      "Epoch 15/300\n",
      "10/10 [==============================] - 0s 4ms/step - loss: 0.6733 - accuracy: 0.6667 - precision: 0.0000e+00 - recall: 0.0000e+00 - val_loss: 0.6716 - val_accuracy: 0.6735 - val_precision: 0.0000e+00 - val_recall: 0.0000e+00\n",
      "Epoch 16/300\n",
      "10/10 [==============================] - 0s 4ms/step - loss: 0.6720 - accuracy: 0.6667 - precision: 0.0000e+00 - recall: 0.0000e+00 - val_loss: 0.6703 - val_accuracy: 0.6735 - val_precision: 0.0000e+00 - val_recall: 0.0000e+00\n",
      "Epoch 17/300\n",
      "10/10 [==============================] - 0s 4ms/step - loss: 0.6708 - accuracy: 0.6667 - precision: 0.0000e+00 - recall: 0.0000e+00 - val_loss: 0.6690 - val_accuracy: 0.6735 - val_precision: 0.0000e+00 - val_recall: 0.0000e+00\n",
      "Epoch 18/300\n",
      "10/10 [==============================] - 0s 4ms/step - loss: 0.6695 - accuracy: 0.6667 - precision: 0.0000e+00 - recall: 0.0000e+00 - val_loss: 0.6680 - val_accuracy: 0.6735 - val_precision: 0.0000e+00 - val_recall: 0.0000e+00\n",
      "Epoch 19/300\n",
      "10/10 [==============================] - 0s 4ms/step - loss: 0.6683 - accuracy: 0.6667 - precision: 0.0000e+00 - recall: 0.0000e+00 - val_loss: 0.6665 - val_accuracy: 0.6735 - val_precision: 0.0000e+00 - val_recall: 0.0000e+00\n",
      "Epoch 20/300\n",
      "10/10 [==============================] - 0s 4ms/step - loss: 0.6669 - accuracy: 0.6667 - precision: 0.0000e+00 - recall: 0.0000e+00 - val_loss: 0.6651 - val_accuracy: 0.6735 - val_precision: 0.0000e+00 - val_recall: 0.0000e+00\n",
      "Epoch 21/300\n",
      "10/10 [==============================] - 0s 4ms/step - loss: 0.6655 - accuracy: 0.6667 - precision: 0.0000e+00 - recall: 0.0000e+00 - val_loss: 0.6635 - val_accuracy: 0.6735 - val_precision: 0.0000e+00 - val_recall: 0.0000e+00\n",
      "Epoch 22/300\n",
      "10/10 [==============================] - 0s 4ms/step - loss: 0.6641 - accuracy: 0.6667 - precision: 0.0000e+00 - recall: 0.0000e+00 - val_loss: 0.6619 - val_accuracy: 0.6735 - val_precision: 0.0000e+00 - val_recall: 0.0000e+00\n",
      "Epoch 23/300\n",
      "10/10 [==============================] - 0s 4ms/step - loss: 0.6624 - accuracy: 0.6667 - precision: 0.0000e+00 - recall: 0.0000e+00 - val_loss: 0.6604 - val_accuracy: 0.6735 - val_precision: 0.0000e+00 - val_recall: 0.0000e+00\n",
      "Epoch 24/300\n",
      "10/10 [==============================] - 0s 4ms/step - loss: 0.6607 - accuracy: 0.6667 - precision: 0.0000e+00 - recall: 0.0000e+00 - val_loss: 0.6589 - val_accuracy: 0.6735 - val_precision: 0.0000e+00 - val_recall: 0.0000e+00\n",
      "Epoch 25/300\n",
      "10/10 [==============================] - 0s 4ms/step - loss: 0.6590 - accuracy: 0.6667 - precision: 0.0000e+00 - recall: 0.0000e+00 - val_loss: 0.6572 - val_accuracy: 0.6735 - val_precision: 0.0000e+00 - val_recall: 0.0000e+00\n",
      "Epoch 26/300\n",
      "10/10 [==============================] - 0s 5ms/step - loss: 0.6572 - accuracy: 0.6667 - precision: 0.0000e+00 - recall: 0.0000e+00 - val_loss: 0.6555 - val_accuracy: 0.6735 - val_precision: 0.0000e+00 - val_recall: 0.0000e+00\n",
      "Epoch 27/300\n",
      "10/10 [==============================] - 0s 4ms/step - loss: 0.6553 - accuracy: 0.6633 - precision: 0.0000e+00 - recall: 0.0000e+00 - val_loss: 0.6537 - val_accuracy: 0.6735 - val_precision: 0.0000e+00 - val_recall: 0.0000e+00\n",
      "Epoch 28/300\n",
      "10/10 [==============================] - 0s 4ms/step - loss: 0.6535 - accuracy: 0.6633 - precision: 0.0000e+00 - recall: 0.0000e+00 - val_loss: 0.6518 - val_accuracy: 0.6837 - val_precision: 1.0000 - val_recall: 0.0312\n",
      "Epoch 29/300\n",
      "10/10 [==============================] - 0s 4ms/step - loss: 0.6513 - accuracy: 0.6803 - precision: 0.8333 - recall: 0.0510 - val_loss: 0.6503 - val_accuracy: 0.7041 - val_precision: 1.0000 - val_recall: 0.0938\n",
      "Epoch 30/300\n",
      "10/10 [==============================] - 0s 4ms/step - loss: 0.6493 - accuracy: 0.6973 - precision: 0.8462 - recall: 0.1122 - val_loss: 0.6478 - val_accuracy: 0.7551 - val_precision: 1.0000 - val_recall: 0.2500\n",
      "Epoch 31/300\n",
      "10/10 [==============================] - 0s 4ms/step - loss: 0.6471 - accuracy: 0.6939 - precision: 0.7500 - recall: 0.1224 - val_loss: 0.6453 - val_accuracy: 0.7449 - val_precision: 0.8889 - val_recall: 0.2500\n",
      "Epoch 32/300\n",
      "10/10 [==============================] - 0s 4ms/step - loss: 0.6449 - accuracy: 0.7041 - precision: 0.7391 - recall: 0.1735 - val_loss: 0.6432 - val_accuracy: 0.7653 - val_precision: 0.9091 - val_recall: 0.3125\n",
      "Epoch 33/300\n",
      "10/10 [==============================] - 0s 4ms/step - loss: 0.6427 - accuracy: 0.7041 - precision: 0.7200 - recall: 0.1837 - val_loss: 0.6411 - val_accuracy: 0.7857 - val_precision: 0.9231 - val_recall: 0.3750\n",
      "Epoch 34/300\n",
      "10/10 [==============================] - 0s 4ms/step - loss: 0.6400 - accuracy: 0.7415 - precision: 0.7895 - recall: 0.3061 - val_loss: 0.6395 - val_accuracy: 0.8061 - val_precision: 0.9333 - val_recall: 0.4375\n",
      "Epoch 35/300\n",
      "10/10 [==============================] - 0s 4ms/step - loss: 0.6382 - accuracy: 0.7687 - precision: 0.7885 - recall: 0.4184 - val_loss: 0.6383 - val_accuracy: 0.8061 - val_precision: 0.8421 - val_recall: 0.5000\n",
      "Epoch 36/300\n",
      "10/10 [==============================] - 0s 4ms/step - loss: 0.6355 - accuracy: 0.7585 - precision: 0.7872 - recall: 0.3776 - val_loss: 0.6346 - val_accuracy: 0.7959 - val_precision: 0.9286 - val_recall: 0.4062\n",
      "Epoch 37/300\n",
      "10/10 [==============================] - 0s 4ms/step - loss: 0.6335 - accuracy: 0.7551 - precision: 0.8095 - recall: 0.3469 - val_loss: 0.6326 - val_accuracy: 0.7959 - val_precision: 0.8750 - val_recall: 0.4375\n",
      "Epoch 38/300\n",
      "10/10 [==============================] - 0s 4ms/step - loss: 0.6299 - accuracy: 0.7721 - precision: 0.7818 - recall: 0.4388 - val_loss: 0.6328 - val_accuracy: 0.8061 - val_precision: 0.7600 - val_recall: 0.5938\n",
      "Epoch 39/300\n",
      "10/10 [==============================] - 0s 4ms/step - loss: 0.6295 - accuracy: 0.7755 - precision: 0.7051 - recall: 0.5612 - val_loss: 0.6312 - val_accuracy: 0.7959 - val_precision: 0.7143 - val_recall: 0.6250\n",
      "Epoch 40/300\n",
      "10/10 [==============================] - 0s 4ms/step - loss: 0.6254 - accuracy: 0.7721 - precision: 0.7183 - recall: 0.5204 - val_loss: 0.6263 - val_accuracy: 0.7857 - val_precision: 0.7391 - val_recall: 0.5312\n",
      "Epoch 41/300\n",
      "10/10 [==============================] - 0s 4ms/step - loss: 0.6231 - accuracy: 0.7755 - precision: 0.7581 - recall: 0.4796 - val_loss: 0.6233 - val_accuracy: 0.7857 - val_precision: 0.7391 - val_recall: 0.5312\n",
      "Epoch 42/300\n",
      "10/10 [==============================] - 0s 4ms/step - loss: 0.6199 - accuracy: 0.7789 - precision: 0.7463 - recall: 0.5102 - val_loss: 0.6227 - val_accuracy: 0.7857 - val_precision: 0.6897 - val_recall: 0.6250\n",
      "Epoch 43/300\n",
      "10/10 [==============================] - 0s 4ms/step - loss: 0.6179 - accuracy: 0.7789 - precision: 0.7143 - recall: 0.5612 - val_loss: 0.6224 - val_accuracy: 0.7755 - val_precision: 0.6562 - val_recall: 0.6562\n",
      "Epoch 44/300\n",
      "10/10 [==============================] - 0s 4ms/step - loss: 0.6155 - accuracy: 0.7789 - precision: 0.7089 - recall: 0.5714 - val_loss: 0.6179 - val_accuracy: 0.7755 - val_precision: 0.6562 - val_recall: 0.6562\n",
      "Epoch 45/300\n",
      "10/10 [==============================] - 0s 4ms/step - loss: 0.6125 - accuracy: 0.7823 - precision: 0.7125 - recall: 0.5816 - val_loss: 0.6166 - val_accuracy: 0.7857 - val_precision: 0.6667 - val_recall: 0.6875\n",
      "Epoch 46/300\n",
      "10/10 [==============================] - 0s 4ms/step - loss: 0.6099 - accuracy: 0.7789 - precision: 0.6988 - recall: 0.5918 - val_loss: 0.6138 - val_accuracy: 0.7857 - val_precision: 0.6667 - val_recall: 0.6875\n",
      "Epoch 47/300\n",
      "10/10 [==============================] - 0s 4ms/step - loss: 0.6076 - accuracy: 0.7789 - precision: 0.6988 - recall: 0.5918 - val_loss: 0.6103 - val_accuracy: 0.7755 - val_precision: 0.6562 - val_recall: 0.6562\n",
      "Epoch 48/300\n",
      "10/10 [==============================] - 0s 4ms/step - loss: 0.6049 - accuracy: 0.7823 - precision: 0.7125 - recall: 0.5816 - val_loss: 0.6080 - val_accuracy: 0.7755 - val_precision: 0.6562 - val_recall: 0.6562\n",
      "Epoch 49/300\n",
      "10/10 [==============================] - 0s 5ms/step - loss: 0.6029 - accuracy: 0.7823 - precision: 0.7125 - recall: 0.5816 - val_loss: 0.6043 - val_accuracy: 0.7755 - val_precision: 0.6562 - val_recall: 0.6562\n",
      "Epoch 50/300\n",
      "10/10 [==============================] - 0s 4ms/step - loss: 0.6005 - accuracy: 0.7857 - precision: 0.7160 - recall: 0.5918 - val_loss: 0.6038 - val_accuracy: 0.7857 - val_precision: 0.6571 - val_recall: 0.7188\n",
      "Epoch 51/300\n",
      "10/10 [==============================] - 0s 4ms/step - loss: 0.5980 - accuracy: 0.7857 - precision: 0.6966 - recall: 0.6327 - val_loss: 0.6018 - val_accuracy: 0.7857 - val_precision: 0.6486 - val_recall: 0.7500\n",
      "Epoch 52/300\n",
      "10/10 [==============================] - 0s 4ms/step - loss: 0.5955 - accuracy: 0.7925 - precision: 0.7126 - recall: 0.6327 - val_loss: 0.5981 - val_accuracy: 0.7857 - val_precision: 0.6571 - val_recall: 0.7188\n",
      "Epoch 53/300\n",
      "10/10 [==============================] - 0s 4ms/step - loss: 0.5932 - accuracy: 0.7891 - precision: 0.7093 - recall: 0.6224 - val_loss: 0.5970 - val_accuracy: 0.7857 - val_precision: 0.6486 - val_recall: 0.7500\n",
      "Epoch 54/300\n",
      "10/10 [==============================] - 0s 4ms/step - loss: 0.5913 - accuracy: 0.7925 - precision: 0.6989 - recall: 0.6633 - val_loss: 0.5957 - val_accuracy: 0.7653 - val_precision: 0.6154 - val_recall: 0.7500\n",
      "Epoch 55/300\n",
      "10/10 [==============================] - 0s 4ms/step - loss: 0.5888 - accuracy: 0.7857 - precision: 0.7059 - recall: 0.6122 - val_loss: 0.5893 - val_accuracy: 0.7959 - val_precision: 0.6765 - val_recall: 0.7188\n",
      "Epoch 56/300\n",
      "10/10 [==============================] - 0s 4ms/step - loss: 0.5869 - accuracy: 0.7891 - precision: 0.7195 - recall: 0.6020 - val_loss: 0.5896 - val_accuracy: 0.7755 - val_precision: 0.6316 - val_recall: 0.7500\n",
      "Epoch 57/300\n",
      "10/10 [==============================] - 0s 4ms/step - loss: 0.5849 - accuracy: 0.7891 - precision: 0.7045 - recall: 0.6327 - val_loss: 0.5880 - val_accuracy: 0.7755 - val_precision: 0.6316 - val_recall: 0.7500\n",
      "Epoch 58/300\n",
      "10/10 [==============================] - 0s 4ms/step - loss: 0.5838 - accuracy: 0.7891 - precision: 0.7143 - recall: 0.6122 - val_loss: 0.5834 - val_accuracy: 0.7857 - val_precision: 0.6571 - val_recall: 0.7188\n",
      "Epoch 59/300\n",
      "10/10 [==============================] - 0s 4ms/step - loss: 0.5814 - accuracy: 0.7925 - precision: 0.7079 - recall: 0.6429 - val_loss: 0.5857 - val_accuracy: 0.7755 - val_precision: 0.6316 - val_recall: 0.7500\n",
      "Epoch 60/300\n",
      "10/10 [==============================] - 0s 4ms/step - loss: 0.5779 - accuracy: 0.7925 - precision: 0.7033 - recall: 0.6531 - val_loss: 0.5800 - val_accuracy: 0.7755 - val_precision: 0.6316 - val_recall: 0.7500\n",
      "Epoch 61/300\n",
      "10/10 [==============================] - 0s 4ms/step - loss: 0.5753 - accuracy: 0.7789 - precision: 0.6988 - recall: 0.5918 - val_loss: 0.5810 - val_accuracy: 0.7653 - val_precision: 0.6154 - val_recall: 0.7500\n",
      "Epoch 62/300\n",
      "10/10 [==============================] - 0s 4ms/step - loss: 0.5727 - accuracy: 0.7925 - precision: 0.6947 - recall: 0.6735 - val_loss: 0.5822 - val_accuracy: 0.7449 - val_precision: 0.5854 - val_recall: 0.7500\n",
      "Epoch 63/300\n",
      "10/10 [==============================] - 0s 4ms/step - loss: 0.5711 - accuracy: 0.7993 - precision: 0.6970 - recall: 0.7041 - val_loss: 0.5783 - val_accuracy: 0.7449 - val_precision: 0.5854 - val_recall: 0.7500\n",
      "Epoch 64/300\n",
      "10/10 [==============================] - 0s 4ms/step - loss: 0.5694 - accuracy: 0.7857 - precision: 0.7011 - recall: 0.6224 - val_loss: 0.5733 - val_accuracy: 0.7755 - val_precision: 0.6389 - val_recall: 0.7188\n",
      "Epoch 65/300\n",
      "10/10 [==============================] - 0s 4ms/step - loss: 0.5672 - accuracy: 0.7993 - precision: 0.7010 - recall: 0.6939 - val_loss: 0.5806 - val_accuracy: 0.7449 - val_precision: 0.5854 - val_recall: 0.7500\n",
      "Epoch 66/300\n",
      "10/10 [==============================] - 0s 4ms/step - loss: 0.5655 - accuracy: 0.7993 - precision: 0.6970 - recall: 0.7041 - val_loss: 0.5736 - val_accuracy: 0.7449 - val_precision: 0.5854 - val_recall: 0.7500\n",
      "Epoch 67/300\n",
      "10/10 [==============================] - 0s 4ms/step - loss: 0.5636 - accuracy: 0.7891 - precision: 0.6915 - recall: 0.6633 - val_loss: 0.5719 - val_accuracy: 0.7449 - val_precision: 0.5854 - val_recall: 0.7500\n",
      "Epoch 68/300\n",
      "10/10 [==============================] - 0s 4ms/step - loss: 0.5636 - accuracy: 0.7789 - precision: 0.7037 - recall: 0.5816 - val_loss: 0.5662 - val_accuracy: 0.7959 - val_precision: 0.6765 - val_recall: 0.7188\n",
      "Epoch 69/300\n",
      "10/10 [==============================] - 0s 4ms/step - loss: 0.5598 - accuracy: 0.7925 - precision: 0.7229 - recall: 0.6122 - val_loss: 0.5710 - val_accuracy: 0.7449 - val_precision: 0.5854 - val_recall: 0.7500\n",
      "Epoch 70/300\n",
      "10/10 [==============================] - 0s 4ms/step - loss: 0.5603 - accuracy: 0.7959 - precision: 0.6792 - recall: 0.7347 - val_loss: 0.5747 - val_accuracy: 0.7449 - val_precision: 0.5854 - val_recall: 0.7500\n",
      "Epoch 71/300\n",
      "10/10 [==============================] - 0s 4ms/step - loss: 0.5568 - accuracy: 0.7925 - precision: 0.6907 - recall: 0.6837 - val_loss: 0.5642 - val_accuracy: 0.7755 - val_precision: 0.6389 - val_recall: 0.7188\n",
      "Epoch 72/300\n",
      "10/10 [==============================] - 0s 4ms/step - loss: 0.5551 - accuracy: 0.7891 - precision: 0.7045 - recall: 0.6327 - val_loss: 0.5659 - val_accuracy: 0.7449 - val_precision: 0.5897 - val_recall: 0.7188\n",
      "Epoch 73/300\n",
      "10/10 [==============================] - 0s 4ms/step - loss: 0.5532 - accuracy: 0.7891 - precision: 0.6957 - recall: 0.6531 - val_loss: 0.5634 - val_accuracy: 0.7449 - val_precision: 0.5897 - val_recall: 0.7188\n",
      "Epoch 74/300\n",
      "10/10 [==============================] - 0s 4ms/step - loss: 0.5515 - accuracy: 0.7891 - precision: 0.7000 - recall: 0.6429 - val_loss: 0.5617 - val_accuracy: 0.7449 - val_precision: 0.5897 - val_recall: 0.7188\n",
      "Epoch 75/300\n",
      "10/10 [==============================] - 0s 4ms/step - loss: 0.5500 - accuracy: 0.7959 - precision: 0.7065 - recall: 0.6633 - val_loss: 0.5601 - val_accuracy: 0.7449 - val_precision: 0.5897 - val_recall: 0.7188\n",
      "Epoch 76/300\n",
      "10/10 [==============================] - 0s 4ms/step - loss: 0.5487 - accuracy: 0.7925 - precision: 0.7176 - recall: 0.6224 - val_loss: 0.5572 - val_accuracy: 0.7653 - val_precision: 0.6216 - val_recall: 0.7188\n",
      "Epoch 77/300\n",
      "10/10 [==============================] - 0s 4ms/step - loss: 0.5463 - accuracy: 0.7891 - precision: 0.7045 - recall: 0.6327 - val_loss: 0.5597 - val_accuracy: 0.7449 - val_precision: 0.5854 - val_recall: 0.7500\n",
      "Epoch 78/300\n",
      "10/10 [==============================] - 0s 4ms/step - loss: 0.5449 - accuracy: 0.7959 - precision: 0.7065 - recall: 0.6633 - val_loss: 0.5573 - val_accuracy: 0.7347 - val_precision: 0.5750 - val_recall: 0.7188\n",
      "Epoch 79/300\n",
      "10/10 [==============================] - 0s 4ms/step - loss: 0.5440 - accuracy: 0.7993 - precision: 0.7349 - recall: 0.6224 - val_loss: 0.5512 - val_accuracy: 0.8061 - val_precision: 0.6970 - val_recall: 0.7188\n",
      "Epoch 80/300\n",
      "10/10 [==============================] - 0s 4ms/step - loss: 0.5423 - accuracy: 0.7959 - precision: 0.7317 - recall: 0.6122 - val_loss: 0.5533 - val_accuracy: 0.7551 - val_precision: 0.6053 - val_recall: 0.7188\n",
      "Epoch 81/300\n",
      "10/10 [==============================] - 0s 4ms/step - loss: 0.5399 - accuracy: 0.7993 - precision: 0.7241 - recall: 0.6429 - val_loss: 0.5560 - val_accuracy: 0.7347 - val_precision: 0.5750 - val_recall: 0.7188\n",
      "Epoch 82/300\n",
      "10/10 [==============================] - 0s 4ms/step - loss: 0.5405 - accuracy: 0.8061 - precision: 0.7030 - recall: 0.7245 - val_loss: 0.5633 - val_accuracy: 0.7449 - val_precision: 0.5854 - val_recall: 0.7500\n",
      "Epoch 83/300\n",
      "10/10 [==============================] - 0s 4ms/step - loss: 0.5388 - accuracy: 0.8027 - precision: 0.6961 - recall: 0.7245 - val_loss: 0.5531 - val_accuracy: 0.7449 - val_precision: 0.5897 - val_recall: 0.7188\n",
      "Epoch 84/300\n",
      "10/10 [==============================] - 0s 4ms/step - loss: 0.5365 - accuracy: 0.7925 - precision: 0.6989 - recall: 0.6633 - val_loss: 0.5528 - val_accuracy: 0.7347 - val_precision: 0.5750 - val_recall: 0.7188\n",
      "Epoch 85/300\n",
      "10/10 [==============================] - 0s 4ms/step - loss: 0.5362 - accuracy: 0.8027 - precision: 0.7000 - recall: 0.7143 - val_loss: 0.5570 - val_accuracy: 0.7449 - val_precision: 0.5854 - val_recall: 0.7500\n",
      "Epoch 86/300\n",
      "10/10 [==============================] - 0s 4ms/step - loss: 0.5354 - accuracy: 0.8095 - precision: 0.6981 - recall: 0.7551 - val_loss: 0.5536 - val_accuracy: 0.7347 - val_precision: 0.5750 - val_recall: 0.7188\n",
      "Epoch 87/300\n",
      "10/10 [==============================] - 0s 4ms/step - loss: 0.5327 - accuracy: 0.8027 - precision: 0.7000 - recall: 0.7143 - val_loss: 0.5488 - val_accuracy: 0.7551 - val_precision: 0.6053 - val_recall: 0.7188\n",
      "Epoch 88/300\n",
      "10/10 [==============================] - 0s 4ms/step - loss: 0.5315 - accuracy: 0.7891 - precision: 0.7143 - recall: 0.6122 - val_loss: 0.5417 - val_accuracy: 0.7959 - val_precision: 0.6875 - val_recall: 0.6875\n",
      "Epoch 89/300\n",
      "10/10 [==============================] - 0s 4ms/step - loss: 0.5309 - accuracy: 0.7993 - precision: 0.7468 - recall: 0.6020 - val_loss: 0.5409 - val_accuracy: 0.7857 - val_precision: 0.6667 - val_recall: 0.6875\n",
      "Epoch 90/300\n",
      "10/10 [==============================] - 0s 4ms/step - loss: 0.5279 - accuracy: 0.7993 - precision: 0.7294 - recall: 0.6327 - val_loss: 0.5454 - val_accuracy: 0.7449 - val_precision: 0.5897 - val_recall: 0.7188\n",
      "Epoch 91/300\n",
      "10/10 [==============================] - 0s 4ms/step - loss: 0.5271 - accuracy: 0.7993 - precision: 0.7097 - recall: 0.6735 - val_loss: 0.5447 - val_accuracy: 0.7449 - val_precision: 0.5897 - val_recall: 0.7188\n",
      "Epoch 92/300\n",
      "10/10 [==============================] - 0s 4ms/step - loss: 0.5253 - accuracy: 0.7959 - precision: 0.7159 - recall: 0.6429 - val_loss: 0.5394 - val_accuracy: 0.7755 - val_precision: 0.6389 - val_recall: 0.7188\n",
      "Epoch 93/300\n",
      "10/10 [==============================] - 0s 4ms/step - loss: 0.5247 - accuracy: 0.7891 - precision: 0.7093 - recall: 0.6224 - val_loss: 0.5393 - val_accuracy: 0.7653 - val_precision: 0.6216 - val_recall: 0.7188\n",
      "Epoch 94/300\n",
      "10/10 [==============================] - 0s 4ms/step - loss: 0.5236 - accuracy: 0.8027 - precision: 0.7174 - recall: 0.6735 - val_loss: 0.5473 - val_accuracy: 0.7449 - val_precision: 0.5854 - val_recall: 0.7500\n",
      "Epoch 95/300\n",
      "10/10 [==============================] - 0s 4ms/step - loss: 0.5225 - accuracy: 0.8095 - precision: 0.7143 - recall: 0.7143 - val_loss: 0.5414 - val_accuracy: 0.7449 - val_precision: 0.5854 - val_recall: 0.7500\n",
      "Epoch 96/300\n",
      "10/10 [==============================] - 0s 4ms/step - loss: 0.5203 - accuracy: 0.7993 - precision: 0.7191 - recall: 0.6531 - val_loss: 0.5369 - val_accuracy: 0.7449 - val_precision: 0.5946 - val_recall: 0.6875\n",
      "Epoch 97/300\n",
      "10/10 [==============================] - 0s 4ms/step - loss: 0.5196 - accuracy: 0.7959 - precision: 0.7209 - recall: 0.6327 - val_loss: 0.5348 - val_accuracy: 0.7653 - val_precision: 0.6286 - val_recall: 0.6875\n",
      "Epoch 98/300\n",
      "10/10 [==============================] - 0s 4ms/step - loss: 0.5187 - accuracy: 0.7993 - precision: 0.7191 - recall: 0.6531 - val_loss: 0.5366 - val_accuracy: 0.7449 - val_precision: 0.5897 - val_recall: 0.7188\n",
      "Epoch 99/300\n",
      "10/10 [==============================] - 0s 4ms/step - loss: 0.5175 - accuracy: 0.7993 - precision: 0.7294 - recall: 0.6327 - val_loss: 0.5336 - val_accuracy: 0.7653 - val_precision: 0.6286 - val_recall: 0.6875\n",
      "Epoch 100/300\n",
      "10/10 [==============================] - 0s 4ms/step - loss: 0.5153 - accuracy: 0.7925 - precision: 0.7079 - recall: 0.6429 - val_loss: 0.5393 - val_accuracy: 0.7347 - val_precision: 0.5750 - val_recall: 0.7188\n",
      "Epoch 101/300\n",
      "10/10 [==============================] - 0s 4ms/step - loss: 0.5151 - accuracy: 0.7993 - precision: 0.7053 - recall: 0.6837 - val_loss: 0.5376 - val_accuracy: 0.7347 - val_precision: 0.5750 - val_recall: 0.7188\n",
      "Epoch 102/300\n",
      "10/10 [==============================] - 0s 4ms/step - loss: 0.5142 - accuracy: 0.8027 - precision: 0.7273 - recall: 0.6531 - val_loss: 0.5311 - val_accuracy: 0.7653 - val_precision: 0.6286 - val_recall: 0.6875\n",
      "Epoch 103/300\n",
      "10/10 [==============================] - 0s 4ms/step - loss: 0.5124 - accuracy: 0.7993 - precision: 0.7241 - recall: 0.6429 - val_loss: 0.5305 - val_accuracy: 0.7653 - val_precision: 0.6286 - val_recall: 0.6875\n",
      "Epoch 104/300\n",
      "10/10 [==============================] - 0s 4ms/step - loss: 0.5112 - accuracy: 0.7993 - precision: 0.7191 - recall: 0.6531 - val_loss: 0.5323 - val_accuracy: 0.7551 - val_precision: 0.6111 - val_recall: 0.6875\n",
      "Epoch 105/300\n",
      "10/10 [==============================] - 0s 4ms/step - loss: 0.5098 - accuracy: 0.7993 - precision: 0.7191 - recall: 0.6531 - val_loss: 0.5314 - val_accuracy: 0.7551 - val_precision: 0.6111 - val_recall: 0.6875\n",
      "Epoch 106/300\n",
      "10/10 [==============================] - 0s 4ms/step - loss: 0.5087 - accuracy: 0.8027 - precision: 0.7174 - recall: 0.6735 - val_loss: 0.5350 - val_accuracy: 0.7347 - val_precision: 0.5750 - val_recall: 0.7188\n",
      "Epoch 107/300\n",
      "10/10 [==============================] - 0s 4ms/step - loss: 0.5080 - accuracy: 0.8061 - precision: 0.7204 - recall: 0.6837 - val_loss: 0.5321 - val_accuracy: 0.7449 - val_precision: 0.5897 - val_recall: 0.7188\n",
      "Epoch 108/300\n",
      "10/10 [==============================] - 0s 4ms/step - loss: 0.5081 - accuracy: 0.7993 - precision: 0.7294 - recall: 0.6327 - val_loss: 0.5250 - val_accuracy: 0.7551 - val_precision: 0.6176 - val_recall: 0.6562\n",
      "Epoch 109/300\n",
      "10/10 [==============================] - 0s 4ms/step - loss: 0.5060 - accuracy: 0.7993 - precision: 0.7241 - recall: 0.6429 - val_loss: 0.5282 - val_accuracy: 0.7551 - val_precision: 0.6111 - val_recall: 0.6875\n",
      "Epoch 110/300\n",
      "10/10 [==============================] - 0s 4ms/step - loss: 0.5049 - accuracy: 0.8061 - precision: 0.7204 - recall: 0.6837 - val_loss: 0.5321 - val_accuracy: 0.7449 - val_precision: 0.5897 - val_recall: 0.7188\n",
      "Epoch 111/300\n",
      "10/10 [==============================] - 0s 4ms/step - loss: 0.5033 - accuracy: 0.7993 - precision: 0.7191 - recall: 0.6531 - val_loss: 0.5240 - val_accuracy: 0.7653 - val_precision: 0.6286 - val_recall: 0.6875\n",
      "Epoch 112/300\n",
      "10/10 [==============================] - 0s 4ms/step - loss: 0.5054 - accuracy: 0.7959 - precision: 0.7375 - recall: 0.6020 - val_loss: 0.5197 - val_accuracy: 0.7959 - val_precision: 0.7000 - val_recall: 0.6562\n",
      "Epoch 113/300\n",
      "10/10 [==============================] - 0s 5ms/step - loss: 0.5024 - accuracy: 0.8027 - precision: 0.7564 - recall: 0.6020 - val_loss: 0.5236 - val_accuracy: 0.7551 - val_precision: 0.6176 - val_recall: 0.6562\n",
      "Epoch 114/300\n",
      "10/10 [==============================] - 0s 4ms/step - loss: 0.5010 - accuracy: 0.8027 - precision: 0.7174 - recall: 0.6735 - val_loss: 0.5320 - val_accuracy: 0.7449 - val_precision: 0.5897 - val_recall: 0.7188\n",
      "Epoch 115/300\n",
      "10/10 [==============================] - 0s 4ms/step - loss: 0.5003 - accuracy: 0.8129 - precision: 0.7216 - recall: 0.7143 - val_loss: 0.5309 - val_accuracy: 0.7449 - val_precision: 0.5897 - val_recall: 0.7188\n",
      "Epoch 116/300\n",
      "10/10 [==============================] - 0s 4ms/step - loss: 0.4992 - accuracy: 0.8061 - precision: 0.7158 - recall: 0.6939 - val_loss: 0.5268 - val_accuracy: 0.7449 - val_precision: 0.5946 - val_recall: 0.6875\n",
      "Epoch 117/300\n",
      "10/10 [==============================] - 0s 4ms/step - loss: 0.4973 - accuracy: 0.7993 - precision: 0.7143 - recall: 0.6633 - val_loss: 0.5229 - val_accuracy: 0.7551 - val_precision: 0.6111 - val_recall: 0.6875\n",
      "Epoch 118/300\n",
      "10/10 [==============================] - 0s 4ms/step - loss: 0.4980 - accuracy: 0.7925 - precision: 0.7229 - recall: 0.6122 - val_loss: 0.5179 - val_accuracy: 0.7551 - val_precision: 0.6176 - val_recall: 0.6562\n",
      "Epoch 119/300\n",
      "10/10 [==============================] - 0s 4ms/step - loss: 0.4954 - accuracy: 0.8027 - precision: 0.7381 - recall: 0.6327 - val_loss: 0.5218 - val_accuracy: 0.7551 - val_precision: 0.6111 - val_recall: 0.6875\n",
      "Epoch 120/300\n",
      "10/10 [==============================] - 0s 4ms/step - loss: 0.4956 - accuracy: 0.8095 - precision: 0.7188 - recall: 0.7041 - val_loss: 0.5305 - val_accuracy: 0.7347 - val_precision: 0.5750 - val_recall: 0.7188\n",
      "Epoch 121/300\n",
      "10/10 [==============================] - 0s 4ms/step - loss: 0.4946 - accuracy: 0.8061 - precision: 0.7158 - recall: 0.6939 - val_loss: 0.5218 - val_accuracy: 0.7551 - val_precision: 0.6111 - val_recall: 0.6875\n",
      "Epoch 122/300\n",
      "10/10 [==============================] - 0s 4ms/step - loss: 0.4925 - accuracy: 0.8061 - precision: 0.7204 - recall: 0.6837 - val_loss: 0.5262 - val_accuracy: 0.7449 - val_precision: 0.5946 - val_recall: 0.6875\n",
      "Epoch 123/300\n",
      "10/10 [==============================] - 0s 4ms/step - loss: 0.4919 - accuracy: 0.8129 - precision: 0.7263 - recall: 0.7041 - val_loss: 0.5215 - val_accuracy: 0.7551 - val_precision: 0.6111 - val_recall: 0.6875\n",
      "Epoch 124/300\n",
      "10/10 [==============================] - 0s 4ms/step - loss: 0.4901 - accuracy: 0.8027 - precision: 0.7273 - recall: 0.6531 - val_loss: 0.5166 - val_accuracy: 0.7551 - val_precision: 0.6176 - val_recall: 0.6562\n",
      "Epoch 125/300\n",
      "10/10 [==============================] - 0s 4ms/step - loss: 0.4898 - accuracy: 0.7993 - precision: 0.7294 - recall: 0.6327 - val_loss: 0.5165 - val_accuracy: 0.7551 - val_precision: 0.6176 - val_recall: 0.6562\n",
      "Epoch 126/300\n",
      "10/10 [==============================] - 0s 4ms/step - loss: 0.4887 - accuracy: 0.7925 - precision: 0.7126 - recall: 0.6327 - val_loss: 0.5171 - val_accuracy: 0.7653 - val_precision: 0.6286 - val_recall: 0.6875\n",
      "Epoch 127/300\n",
      "10/10 [==============================] - 0s 4ms/step - loss: 0.4878 - accuracy: 0.7959 - precision: 0.7159 - recall: 0.6429 - val_loss: 0.5193 - val_accuracy: 0.7551 - val_precision: 0.6111 - val_recall: 0.6875\n",
      "Epoch 128/300\n",
      "10/10 [==============================] - 0s 4ms/step - loss: 0.4878 - accuracy: 0.8061 - precision: 0.7158 - recall: 0.6939 - val_loss: 0.5199 - val_accuracy: 0.7449 - val_precision: 0.5946 - val_recall: 0.6875\n",
      "Epoch 129/300\n",
      "10/10 [==============================] - 0s 5ms/step - loss: 0.4869 - accuracy: 0.8061 - precision: 0.7253 - recall: 0.6735 - val_loss: 0.5150 - val_accuracy: 0.7551 - val_precision: 0.6176 - val_recall: 0.6562\n",
      "Epoch 130/300\n",
      "10/10 [==============================] - 0s 5ms/step - loss: 0.4859 - accuracy: 0.8061 - precision: 0.7303 - recall: 0.6633 - val_loss: 0.5153 - val_accuracy: 0.7551 - val_precision: 0.6111 - val_recall: 0.6875\n",
      "Epoch 131/300\n",
      "10/10 [==============================] - 0s 4ms/step - loss: 0.4851 - accuracy: 0.8027 - precision: 0.7326 - recall: 0.6429 - val_loss: 0.5072 - val_accuracy: 0.7857 - val_precision: 0.6897 - val_recall: 0.6250\n",
      "Epoch 132/300\n",
      "10/10 [==============================] - 0s 4ms/step - loss: 0.4860 - accuracy: 0.8061 - precision: 0.7662 - recall: 0.6020 - val_loss: 0.5101 - val_accuracy: 0.7449 - val_precision: 0.6061 - val_recall: 0.6250\n",
      "Epoch 133/300\n",
      "10/10 [==============================] - 0s 4ms/step - loss: 0.4826 - accuracy: 0.8027 - precision: 0.7381 - recall: 0.6327 - val_loss: 0.5149 - val_accuracy: 0.7551 - val_precision: 0.6111 - val_recall: 0.6875\n",
      "Epoch 134/300\n",
      "10/10 [==============================] - 0s 4ms/step - loss: 0.4822 - accuracy: 0.8163 - precision: 0.7340 - recall: 0.7041 - val_loss: 0.5239 - val_accuracy: 0.7449 - val_precision: 0.5946 - val_recall: 0.6875\n",
      "Epoch 135/300\n",
      "10/10 [==============================] - 0s 4ms/step - loss: 0.4836 - accuracy: 0.8265 - precision: 0.7282 - recall: 0.7653 - val_loss: 0.5221 - val_accuracy: 0.7449 - val_precision: 0.5946 - val_recall: 0.6875\n",
      "Epoch 136/300\n",
      "10/10 [==============================] - 0s 4ms/step - loss: 0.4833 - accuracy: 0.8027 - precision: 0.7128 - recall: 0.6837 - val_loss: 0.5121 - val_accuracy: 0.7551 - val_precision: 0.6176 - val_recall: 0.6562\n",
      "Epoch 137/300\n",
      "10/10 [==============================] - 0s 4ms/step - loss: 0.4788 - accuracy: 0.8061 - precision: 0.7303 - recall: 0.6633 - val_loss: 0.5176 - val_accuracy: 0.7449 - val_precision: 0.5946 - val_recall: 0.6875\n",
      "Epoch 138/300\n",
      "10/10 [==============================] - 0s 4ms/step - loss: 0.4797 - accuracy: 0.8197 - precision: 0.7273 - recall: 0.7347 - val_loss: 0.5196 - val_accuracy: 0.7449 - val_precision: 0.5946 - val_recall: 0.6875\n",
      "Epoch 139/300\n",
      "10/10 [==============================] - 0s 4ms/step - loss: 0.4788 - accuracy: 0.8027 - precision: 0.7273 - recall: 0.6531 - val_loss: 0.5097 - val_accuracy: 0.7551 - val_precision: 0.6176 - val_recall: 0.6562\n",
      "Epoch 140/300\n",
      "10/10 [==============================] - 0s 4ms/step - loss: 0.4772 - accuracy: 0.8061 - precision: 0.7412 - recall: 0.6429 - val_loss: 0.5093 - val_accuracy: 0.7551 - val_precision: 0.6176 - val_recall: 0.6562\n",
      "Epoch 141/300\n",
      "10/10 [==============================] - 0s 4ms/step - loss: 0.4771 - accuracy: 0.8027 - precision: 0.7381 - recall: 0.6327 - val_loss: 0.5101 - val_accuracy: 0.7449 - val_precision: 0.6000 - val_recall: 0.6562\n",
      "Epoch 142/300\n",
      "10/10 [==============================] - 0s 4ms/step - loss: 0.4757 - accuracy: 0.8095 - precision: 0.7442 - recall: 0.6531 - val_loss: 0.5115 - val_accuracy: 0.7449 - val_precision: 0.6000 - val_recall: 0.6562\n",
      "Epoch 143/300\n",
      "10/10 [==============================] - 0s 4ms/step - loss: 0.4749 - accuracy: 0.8095 - precision: 0.7442 - recall: 0.6531 - val_loss: 0.5083 - val_accuracy: 0.7551 - val_precision: 0.6176 - val_recall: 0.6562\n",
      "Epoch 144/300\n",
      "10/10 [==============================] - 0s 4ms/step - loss: 0.4740 - accuracy: 0.8061 - precision: 0.7412 - recall: 0.6429 - val_loss: 0.5076 - val_accuracy: 0.7551 - val_precision: 0.6176 - val_recall: 0.6562\n",
      "Epoch 145/300\n",
      "10/10 [==============================] - 0s 4ms/step - loss: 0.4734 - accuracy: 0.8061 - precision: 0.7356 - recall: 0.6531 - val_loss: 0.5128 - val_accuracy: 0.7551 - val_precision: 0.6111 - val_recall: 0.6875\n",
      "Epoch 146/300\n",
      "10/10 [==============================] - 0s 4ms/step - loss: 0.4723 - accuracy: 0.8129 - precision: 0.7416 - recall: 0.6735 - val_loss: 0.5082 - val_accuracy: 0.7449 - val_precision: 0.6000 - val_recall: 0.6562\n",
      "Epoch 147/300\n",
      "10/10 [==============================] - 0s 4ms/step - loss: 0.4734 - accuracy: 0.8061 - precision: 0.7470 - recall: 0.6327 - val_loss: 0.5042 - val_accuracy: 0.7551 - val_precision: 0.6250 - val_recall: 0.6250\n",
      "Epoch 148/300\n",
      "10/10 [==============================] - 0s 4ms/step - loss: 0.4721 - accuracy: 0.8061 - precision: 0.7356 - recall: 0.6531 - val_loss: 0.5107 - val_accuracy: 0.7551 - val_precision: 0.6111 - val_recall: 0.6875\n",
      "Epoch 149/300\n",
      "10/10 [==============================] - 0s 4ms/step - loss: 0.4706 - accuracy: 0.8129 - precision: 0.7363 - recall: 0.6837 - val_loss: 0.5092 - val_accuracy: 0.7551 - val_precision: 0.6111 - val_recall: 0.6875\n",
      "Epoch 150/300\n",
      "10/10 [==============================] - 0s 4ms/step - loss: 0.4706 - accuracy: 0.8061 - precision: 0.7470 - recall: 0.6327 - val_loss: 0.5024 - val_accuracy: 0.7449 - val_precision: 0.6061 - val_recall: 0.6250\n",
      "Epoch 151/300\n",
      "10/10 [==============================] - 0s 4ms/step - loss: 0.4705 - accuracy: 0.8027 - precision: 0.7381 - recall: 0.6327 - val_loss: 0.5089 - val_accuracy: 0.7449 - val_precision: 0.6000 - val_recall: 0.6562\n",
      "Epoch 152/300\n",
      "10/10 [==============================] - 0s 5ms/step - loss: 0.4683 - accuracy: 0.8095 - precision: 0.7442 - recall: 0.6531 - val_loss: 0.5034 - val_accuracy: 0.7551 - val_precision: 0.6176 - val_recall: 0.6562\n",
      "Epoch 153/300\n",
      "10/10 [==============================] - 0s 4ms/step - loss: 0.4674 - accuracy: 0.8095 - precision: 0.7500 - recall: 0.6429 - val_loss: 0.5050 - val_accuracy: 0.7449 - val_precision: 0.6000 - val_recall: 0.6562\n",
      "Epoch 154/300\n",
      "10/10 [==============================] - 0s 4ms/step - loss: 0.4672 - accuracy: 0.8061 - precision: 0.7470 - recall: 0.6327 - val_loss: 0.5024 - val_accuracy: 0.7653 - val_precision: 0.6364 - val_recall: 0.6562\n",
      "Epoch 155/300\n",
      "10/10 [==============================] - 0s 4ms/step - loss: 0.4674 - accuracy: 0.8061 - precision: 0.7470 - recall: 0.6327 - val_loss: 0.5011 - val_accuracy: 0.7653 - val_precision: 0.6364 - val_recall: 0.6562\n",
      "Epoch 156/300\n",
      "10/10 [==============================] - 0s 6ms/step - loss: 0.4645 - accuracy: 0.8061 - precision: 0.7412 - recall: 0.6429 - val_loss: 0.5083 - val_accuracy: 0.7551 - val_precision: 0.6111 - val_recall: 0.6875\n",
      "Epoch 157/300\n",
      "10/10 [==============================] - 0s 4ms/step - loss: 0.4653 - accuracy: 0.8163 - precision: 0.7340 - recall: 0.7041 - val_loss: 0.5131 - val_accuracy: 0.7449 - val_precision: 0.5946 - val_recall: 0.6875\n",
      "Epoch 158/300\n",
      "10/10 [==============================] - 0s 4ms/step - loss: 0.4670 - accuracy: 0.8299 - precision: 0.7308 - recall: 0.7755 - val_loss: 0.5151 - val_accuracy: 0.7449 - val_precision: 0.5946 - val_recall: 0.6875\n",
      "Epoch 159/300\n",
      "10/10 [==============================] - 0s 4ms/step - loss: 0.4652 - accuracy: 0.8231 - precision: 0.7396 - recall: 0.7245 - val_loss: 0.5037 - val_accuracy: 0.7449 - val_precision: 0.6000 - val_recall: 0.6562\n",
      "Epoch 160/300\n",
      "10/10 [==============================] - 0s 4ms/step - loss: 0.4647 - accuracy: 0.8027 - precision: 0.7381 - recall: 0.6327 - val_loss: 0.4978 - val_accuracy: 0.7551 - val_precision: 0.6250 - val_recall: 0.6250\n",
      "Epoch 161/300\n",
      "10/10 [==============================] - 0s 4ms/step - loss: 0.4619 - accuracy: 0.8061 - precision: 0.7470 - recall: 0.6327 - val_loss: 0.5035 - val_accuracy: 0.7449 - val_precision: 0.6000 - val_recall: 0.6562\n",
      "Epoch 162/300\n",
      "10/10 [==============================] - 0s 4ms/step - loss: 0.4618 - accuracy: 0.8265 - precision: 0.7582 - recall: 0.7041 - val_loss: 0.5055 - val_accuracy: 0.7449 - val_precision: 0.6000 - val_recall: 0.6562\n",
      "Epoch 163/300\n",
      "10/10 [==============================] - 0s 4ms/step - loss: 0.4615 - accuracy: 0.8129 - precision: 0.7471 - recall: 0.6633 - val_loss: 0.5013 - val_accuracy: 0.7449 - val_precision: 0.6000 - val_recall: 0.6562\n",
      "Epoch 164/300\n",
      "10/10 [==============================] - 0s 4ms/step - loss: 0.4599 - accuracy: 0.8231 - precision: 0.7556 - recall: 0.6939 - val_loss: 0.5022 - val_accuracy: 0.7449 - val_precision: 0.6000 - val_recall: 0.6562\n",
      "Epoch 165/300\n",
      "10/10 [==============================] - 0s 4ms/step - loss: 0.4594 - accuracy: 0.8061 - precision: 0.7412 - recall: 0.6429 - val_loss: 0.4970 - val_accuracy: 0.7551 - val_precision: 0.6250 - val_recall: 0.6250\n",
      "Epoch 166/300\n",
      "10/10 [==============================] - 0s 4ms/step - loss: 0.4593 - accuracy: 0.8095 - precision: 0.7500 - recall: 0.6429 - val_loss: 0.4985 - val_accuracy: 0.7653 - val_precision: 0.6364 - val_recall: 0.6562\n",
      "Epoch 167/300\n",
      "10/10 [==============================] - 0s 4ms/step - loss: 0.4583 - accuracy: 0.8231 - precision: 0.7614 - recall: 0.6837 - val_loss: 0.5055 - val_accuracy: 0.7449 - val_precision: 0.6000 - val_recall: 0.6562\n",
      "Epoch 168/300\n",
      "10/10 [==============================] - 0s 4ms/step - loss: 0.4579 - accuracy: 0.8265 - precision: 0.7527 - recall: 0.7143 - val_loss: 0.5003 - val_accuracy: 0.7449 - val_precision: 0.6000 - val_recall: 0.6562\n",
      "Epoch 169/300\n",
      "10/10 [==============================] - 0s 4ms/step - loss: 0.4569 - accuracy: 0.8197 - precision: 0.7586 - recall: 0.6735 - val_loss: 0.5012 - val_accuracy: 0.7449 - val_precision: 0.6000 - val_recall: 0.6562\n",
      "Epoch 170/300\n",
      "10/10 [==============================] - 0s 4ms/step - loss: 0.4566 - accuracy: 0.8129 - precision: 0.7529 - recall: 0.6531 - val_loss: 0.4966 - val_accuracy: 0.7653 - val_precision: 0.6364 - val_recall: 0.6562\n",
      "Epoch 171/300\n",
      "10/10 [==============================] - 0s 5ms/step - loss: 0.4555 - accuracy: 0.8095 - precision: 0.7500 - recall: 0.6429 - val_loss: 0.4993 - val_accuracy: 0.7449 - val_precision: 0.6000 - val_recall: 0.6562\n",
      "Epoch 172/300\n",
      "10/10 [==============================] - 0s 5ms/step - loss: 0.4546 - accuracy: 0.8265 - precision: 0.7582 - recall: 0.7041 - val_loss: 0.5052 - val_accuracy: 0.7347 - val_precision: 0.5833 - val_recall: 0.6562\n",
      "Epoch 173/300\n",
      "10/10 [==============================] - 0s 4ms/step - loss: 0.4553 - accuracy: 0.8265 - precision: 0.7527 - recall: 0.7143 - val_loss: 0.5022 - val_accuracy: 0.7449 - val_precision: 0.6000 - val_recall: 0.6562\n",
      "Epoch 174/300\n",
      "10/10 [==============================] - 0s 4ms/step - loss: 0.4526 - accuracy: 0.8163 - precision: 0.7558 - recall: 0.6633 - val_loss: 0.4920 - val_accuracy: 0.7653 - val_precision: 0.6452 - val_recall: 0.6250\n",
      "Epoch 175/300\n",
      "10/10 [==============================] - 0s 4ms/step - loss: 0.4543 - accuracy: 0.8095 - precision: 0.7561 - recall: 0.6327 - val_loss: 0.4919 - val_accuracy: 0.7551 - val_precision: 0.6250 - val_recall: 0.6250\n",
      "Epoch 176/300\n",
      "10/10 [==============================] - 0s 4ms/step - loss: 0.4520 - accuracy: 0.8163 - precision: 0.7619 - recall: 0.6531 - val_loss: 0.5012 - val_accuracy: 0.7449 - val_precision: 0.6000 - val_recall: 0.6562\n",
      "Epoch 177/300\n",
      "10/10 [==============================] - 0s 4ms/step - loss: 0.4520 - accuracy: 0.8231 - precision: 0.7556 - recall: 0.6939 - val_loss: 0.5031 - val_accuracy: 0.7347 - val_precision: 0.5833 - val_recall: 0.6562\n",
      "Epoch 178/300\n",
      "10/10 [==============================] - 0s 4ms/step - loss: 0.4517 - accuracy: 0.8265 - precision: 0.7527 - recall: 0.7143 - val_loss: 0.5004 - val_accuracy: 0.7449 - val_precision: 0.6000 - val_recall: 0.6562\n",
      "Epoch 179/300\n",
      "10/10 [==============================] - 0s 4ms/step - loss: 0.4509 - accuracy: 0.8265 - precision: 0.7582 - recall: 0.7041 - val_loss: 0.5014 - val_accuracy: 0.7449 - val_precision: 0.6000 - val_recall: 0.6562\n",
      "Epoch 180/300\n",
      "10/10 [==============================] - 0s 4ms/step - loss: 0.4510 - accuracy: 0.8231 - precision: 0.7556 - recall: 0.6939 - val_loss: 0.4998 - val_accuracy: 0.7449 - val_precision: 0.6000 - val_recall: 0.6562\n",
      "Epoch 181/300\n",
      "10/10 [==============================] - 0s 4ms/step - loss: 0.4494 - accuracy: 0.8231 - precision: 0.7447 - recall: 0.7143 - val_loss: 0.5079 - val_accuracy: 0.7551 - val_precision: 0.6053 - val_recall: 0.7188\n",
      "Epoch 182/300\n",
      "10/10 [==============================] - 0s 4ms/step - loss: 0.4558 - accuracy: 0.8299 - precision: 0.7264 - recall: 0.7857 - val_loss: 0.5095 - val_accuracy: 0.7551 - val_precision: 0.6053 - val_recall: 0.7188\n",
      "Epoch 183/300\n",
      "10/10 [==============================] - 0s 4ms/step - loss: 0.4502 - accuracy: 0.8197 - precision: 0.7419 - recall: 0.7041 - val_loss: 0.4901 - val_accuracy: 0.7449 - val_precision: 0.6061 - val_recall: 0.6250\n",
      "Epoch 184/300\n",
      "10/10 [==============================] - 0s 4ms/step - loss: 0.4497 - accuracy: 0.8163 - precision: 0.7619 - recall: 0.6531 - val_loss: 0.4877 - val_accuracy: 0.7857 - val_precision: 0.6897 - val_recall: 0.6250\n",
      "Epoch 185/300\n",
      "10/10 [==============================] - 0s 4ms/step - loss: 0.4486 - accuracy: 0.8163 - precision: 0.7619 - recall: 0.6531 - val_loss: 0.4928 - val_accuracy: 0.7449 - val_precision: 0.6061 - val_recall: 0.6250\n",
      "Epoch 186/300\n",
      "10/10 [==============================] - 0s 4ms/step - loss: 0.4469 - accuracy: 0.8163 - precision: 0.7619 - recall: 0.6531 - val_loss: 0.4919 - val_accuracy: 0.7551 - val_precision: 0.6250 - val_recall: 0.6250\n",
      "Epoch 187/300\n",
      "10/10 [==============================] - 0s 4ms/step - loss: 0.4459 - accuracy: 0.8129 - precision: 0.7529 - recall: 0.6531 - val_loss: 0.4923 - val_accuracy: 0.7551 - val_precision: 0.6250 - val_recall: 0.6250\n",
      "Epoch 188/300\n",
      "10/10 [==============================] - 0s 5ms/step - loss: 0.4455 - accuracy: 0.8231 - precision: 0.7614 - recall: 0.6837 - val_loss: 0.4940 - val_accuracy: 0.7551 - val_precision: 0.6176 - val_recall: 0.6562\n",
      "Epoch 189/300\n",
      "10/10 [==============================] - 0s 4ms/step - loss: 0.4462 - accuracy: 0.8231 - precision: 0.7556 - recall: 0.6939 - val_loss: 0.4979 - val_accuracy: 0.7551 - val_precision: 0.6111 - val_recall: 0.6875\n",
      "Epoch 190/300\n",
      "10/10 [==============================] - 0s 4ms/step - loss: 0.4462 - accuracy: 0.8129 - precision: 0.7471 - recall: 0.6633 - val_loss: 0.4863 - val_accuracy: 0.7857 - val_precision: 0.6897 - val_recall: 0.6250\n",
      "Epoch 191/300\n",
      "10/10 [==============================] - 0s 4ms/step - loss: 0.4450 - accuracy: 0.8129 - precision: 0.7529 - recall: 0.6531 - val_loss: 0.4892 - val_accuracy: 0.7449 - val_precision: 0.6061 - val_recall: 0.6250\n",
      "Epoch 192/300\n",
      "10/10 [==============================] - 0s 4ms/step - loss: 0.4439 - accuracy: 0.8197 - precision: 0.7586 - recall: 0.6735 - val_loss: 0.4928 - val_accuracy: 0.7551 - val_precision: 0.6176 - val_recall: 0.6562\n",
      "Epoch 193/300\n",
      "10/10 [==============================] - 0s 5ms/step - loss: 0.4434 - accuracy: 0.8197 - precision: 0.7586 - recall: 0.6735 - val_loss: 0.4880 - val_accuracy: 0.7653 - val_precision: 0.6452 - val_recall: 0.6250\n",
      "Epoch 194/300\n",
      "10/10 [==============================] - 0s 4ms/step - loss: 0.4422 - accuracy: 0.8129 - precision: 0.7529 - recall: 0.6531 - val_loss: 0.4919 - val_accuracy: 0.7551 - val_precision: 0.6176 - val_recall: 0.6562\n",
      "Epoch 195/300\n",
      "10/10 [==============================] - 0s 4ms/step - loss: 0.4413 - accuracy: 0.8197 - precision: 0.7586 - recall: 0.6735 - val_loss: 0.4909 - val_accuracy: 0.7551 - val_precision: 0.6250 - val_recall: 0.6250\n",
      "Epoch 196/300\n",
      "10/10 [==============================] - 0s 4ms/step - loss: 0.4410 - accuracy: 0.8163 - precision: 0.7558 - recall: 0.6633 - val_loss: 0.4904 - val_accuracy: 0.7551 - val_precision: 0.6250 - val_recall: 0.6250\n",
      "Epoch 197/300\n",
      "10/10 [==============================] - 0s 4ms/step - loss: 0.4418 - accuracy: 0.8231 - precision: 0.7614 - recall: 0.6837 - val_loss: 0.4954 - val_accuracy: 0.7449 - val_precision: 0.6000 - val_recall: 0.6562\n",
      "Epoch 198/300\n",
      "10/10 [==============================] - 0s 4ms/step - loss: 0.4407 - accuracy: 0.8231 - precision: 0.7614 - recall: 0.6837 - val_loss: 0.4911 - val_accuracy: 0.7449 - val_precision: 0.6061 - val_recall: 0.6250\n",
      "Epoch 199/300\n",
      "10/10 [==============================] - 0s 4ms/step - loss: 0.4424 - accuracy: 0.8231 - precision: 0.7556 - recall: 0.6939 - val_loss: 0.4951 - val_accuracy: 0.7449 - val_precision: 0.6000 - val_recall: 0.6562\n",
      "Epoch 200/300\n",
      "10/10 [==============================] - 0s 4ms/step - loss: 0.4403 - accuracy: 0.8197 - precision: 0.7586 - recall: 0.6735 - val_loss: 0.4841 - val_accuracy: 0.7857 - val_precision: 0.6897 - val_recall: 0.6250\n",
      "Epoch 201/300\n",
      "10/10 [==============================] - 0s 4ms/step - loss: 0.4395 - accuracy: 0.8129 - precision: 0.7590 - recall: 0.6429 - val_loss: 0.4877 - val_accuracy: 0.7653 - val_precision: 0.6452 - val_recall: 0.6250\n",
      "Epoch 202/300\n",
      "10/10 [==============================] - 0s 4ms/step - loss: 0.4382 - accuracy: 0.8231 - precision: 0.7614 - recall: 0.6837 - val_loss: 0.4946 - val_accuracy: 0.7551 - val_precision: 0.6176 - val_recall: 0.6562\n",
      "Epoch 203/300\n",
      "10/10 [==============================] - 0s 4ms/step - loss: 0.4384 - accuracy: 0.8299 - precision: 0.7609 - recall: 0.7143 - val_loss: 0.4923 - val_accuracy: 0.7551 - val_precision: 0.6176 - val_recall: 0.6562\n",
      "Epoch 204/300\n",
      "10/10 [==============================] - 0s 5ms/step - loss: 0.4374 - accuracy: 0.8197 - precision: 0.7647 - recall: 0.6633 - val_loss: 0.4879 - val_accuracy: 0.7653 - val_precision: 0.6452 - val_recall: 0.6250\n",
      "Epoch 205/300\n",
      "10/10 [==============================] - 0s 4ms/step - loss: 0.4368 - accuracy: 0.8231 - precision: 0.7614 - recall: 0.6837 - val_loss: 0.4899 - val_accuracy: 0.7551 - val_precision: 0.6250 - val_recall: 0.6250\n",
      "Epoch 206/300\n",
      "10/10 [==============================] - 0s 4ms/step - loss: 0.4372 - accuracy: 0.8129 - precision: 0.7529 - recall: 0.6531 - val_loss: 0.4846 - val_accuracy: 0.7755 - val_precision: 0.6667 - val_recall: 0.6250\n",
      "Epoch 207/300\n",
      "10/10 [==============================] - 0s 4ms/step - loss: 0.4378 - accuracy: 0.8197 - precision: 0.7528 - recall: 0.6837 - val_loss: 0.4972 - val_accuracy: 0.7449 - val_precision: 0.6000 - val_recall: 0.6562\n",
      "Epoch 208/300\n",
      "10/10 [==============================] - 0s 4ms/step - loss: 0.4363 - accuracy: 0.8265 - precision: 0.7527 - recall: 0.7143 - val_loss: 0.4916 - val_accuracy: 0.7449 - val_precision: 0.6000 - val_recall: 0.6562\n",
      "Epoch 209/300\n",
      "10/10 [==============================] - 0s 4ms/step - loss: 0.4350 - accuracy: 0.8197 - precision: 0.7586 - recall: 0.6735 - val_loss: 0.4877 - val_accuracy: 0.7551 - val_precision: 0.6250 - val_recall: 0.6250\n",
      "Epoch 210/300\n",
      "10/10 [==============================] - 0s 4ms/step - loss: 0.4346 - accuracy: 0.8163 - precision: 0.7558 - recall: 0.6633 - val_loss: 0.4859 - val_accuracy: 0.7653 - val_precision: 0.6452 - val_recall: 0.6250\n",
      "Epoch 211/300\n",
      "10/10 [==============================] - 0s 4ms/step - loss: 0.4342 - accuracy: 0.8163 - precision: 0.7558 - recall: 0.6633 - val_loss: 0.4875 - val_accuracy: 0.7653 - val_precision: 0.6452 - val_recall: 0.6250\n",
      "Epoch 212/300\n",
      "10/10 [==============================] - 0s 4ms/step - loss: 0.4334 - accuracy: 0.8231 - precision: 0.7614 - recall: 0.6837 - val_loss: 0.4917 - val_accuracy: 0.7449 - val_precision: 0.6000 - val_recall: 0.6562\n",
      "Epoch 213/300\n",
      "10/10 [==============================] - 0s 4ms/step - loss: 0.4336 - accuracy: 0.8231 - precision: 0.7614 - recall: 0.6837 - val_loss: 0.4864 - val_accuracy: 0.7653 - val_precision: 0.6452 - val_recall: 0.6250\n",
      "Epoch 214/300\n",
      "10/10 [==============================] - 0s 4ms/step - loss: 0.4326 - accuracy: 0.8163 - precision: 0.7558 - recall: 0.6633 - val_loss: 0.4884 - val_accuracy: 0.7755 - val_precision: 0.6562 - val_recall: 0.6562\n",
      "Epoch 215/300\n",
      "10/10 [==============================] - 0s 4ms/step - loss: 0.4338 - accuracy: 0.8299 - precision: 0.7609 - recall: 0.7143 - val_loss: 0.4941 - val_accuracy: 0.7449 - val_precision: 0.6000 - val_recall: 0.6562\n",
      "Epoch 216/300\n",
      "10/10 [==============================] - 0s 4ms/step - loss: 0.4313 - accuracy: 0.8265 - precision: 0.7640 - recall: 0.6939 - val_loss: 0.4842 - val_accuracy: 0.7653 - val_precision: 0.6452 - val_recall: 0.6250\n",
      "Epoch 217/300\n",
      "10/10 [==============================] - 0s 4ms/step - loss: 0.4311 - accuracy: 0.8163 - precision: 0.7558 - recall: 0.6633 - val_loss: 0.4840 - val_accuracy: 0.7653 - val_precision: 0.6452 - val_recall: 0.6250\n",
      "Epoch 218/300\n",
      "10/10 [==============================] - 0s 4ms/step - loss: 0.4307 - accuracy: 0.8163 - precision: 0.7558 - recall: 0.6633 - val_loss: 0.4844 - val_accuracy: 0.7653 - val_precision: 0.6452 - val_recall: 0.6250\n",
      "Epoch 219/300\n",
      "10/10 [==============================] - 0s 4ms/step - loss: 0.4321 - accuracy: 0.8265 - precision: 0.7640 - recall: 0.6939 - val_loss: 0.4911 - val_accuracy: 0.7653 - val_precision: 0.6364 - val_recall: 0.6562\n",
      "Epoch 220/300\n",
      "10/10 [==============================] - 0s 5ms/step - loss: 0.4304 - accuracy: 0.8333 - precision: 0.7692 - recall: 0.7143 - val_loss: 0.4902 - val_accuracy: 0.7653 - val_precision: 0.6364 - val_recall: 0.6562\n",
      "Epoch 221/300\n",
      "10/10 [==============================] - 0s 4ms/step - loss: 0.4291 - accuracy: 0.8299 - precision: 0.7667 - recall: 0.7041 - val_loss: 0.4882 - val_accuracy: 0.7653 - val_precision: 0.6364 - val_recall: 0.6562\n",
      "Epoch 222/300\n",
      "10/10 [==============================] - 0s 4ms/step - loss: 0.4285 - accuracy: 0.8299 - precision: 0.7667 - recall: 0.7041 - val_loss: 0.4877 - val_accuracy: 0.7653 - val_precision: 0.6364 - val_recall: 0.6562\n",
      "Epoch 223/300\n",
      "10/10 [==============================] - 0s 4ms/step - loss: 0.4285 - accuracy: 0.8299 - precision: 0.7667 - recall: 0.7041 - val_loss: 0.4884 - val_accuracy: 0.7551 - val_precision: 0.6176 - val_recall: 0.6562\n",
      "Epoch 224/300\n",
      "10/10 [==============================] - 0s 4ms/step - loss: 0.4278 - accuracy: 0.8231 - precision: 0.7614 - recall: 0.6837 - val_loss: 0.4846 - val_accuracy: 0.7755 - val_precision: 0.6562 - val_recall: 0.6562\n",
      "Epoch 225/300\n",
      "10/10 [==============================] - 0s 4ms/step - loss: 0.4271 - accuracy: 0.8265 - precision: 0.7640 - recall: 0.6939 - val_loss: 0.4894 - val_accuracy: 0.7653 - val_precision: 0.6364 - val_recall: 0.6562\n",
      "Epoch 226/300\n",
      "10/10 [==============================] - 0s 4ms/step - loss: 0.4282 - accuracy: 0.8299 - precision: 0.7553 - recall: 0.7245 - val_loss: 0.4952 - val_accuracy: 0.7449 - val_precision: 0.6000 - val_recall: 0.6562\n",
      "Epoch 227/300\n",
      "10/10 [==============================] - 0s 4ms/step - loss: 0.4280 - accuracy: 0.8231 - precision: 0.7556 - recall: 0.6939 - val_loss: 0.4828 - val_accuracy: 0.7653 - val_precision: 0.6452 - val_recall: 0.6250\n",
      "Epoch 228/300\n",
      "10/10 [==============================] - 0s 4ms/step - loss: 0.4265 - accuracy: 0.8231 - precision: 0.7674 - recall: 0.6735 - val_loss: 0.4853 - val_accuracy: 0.7755 - val_precision: 0.6562 - val_recall: 0.6562\n",
      "Epoch 229/300\n",
      "10/10 [==============================] - 0s 4ms/step - loss: 0.4258 - accuracy: 0.8197 - precision: 0.7647 - recall: 0.6633 - val_loss: 0.4816 - val_accuracy: 0.7653 - val_precision: 0.6452 - val_recall: 0.6250\n",
      "Epoch 230/300\n",
      "10/10 [==============================] - 0s 4ms/step - loss: 0.4248 - accuracy: 0.8265 - precision: 0.7701 - recall: 0.6837 - val_loss: 0.4903 - val_accuracy: 0.7551 - val_precision: 0.6176 - val_recall: 0.6562\n",
      "Epoch 231/300\n",
      "10/10 [==============================] - 0s 4ms/step - loss: 0.4259 - accuracy: 0.8333 - precision: 0.7634 - recall: 0.7245 - val_loss: 0.4903 - val_accuracy: 0.7551 - val_precision: 0.6176 - val_recall: 0.6562\n",
      "Epoch 232/300\n",
      "10/10 [==============================] - 0s 4ms/step - loss: 0.4255 - accuracy: 0.8231 - precision: 0.7614 - recall: 0.6837 - val_loss: 0.4850 - val_accuracy: 0.7755 - val_precision: 0.6562 - val_recall: 0.6562\n",
      "Epoch 233/300\n",
      "10/10 [==============================] - 0s 4ms/step - loss: 0.4241 - accuracy: 0.8265 - precision: 0.7640 - recall: 0.6939 - val_loss: 0.4879 - val_accuracy: 0.7653 - val_precision: 0.6364 - val_recall: 0.6562\n",
      "Epoch 234/300\n",
      "10/10 [==============================] - 0s 5ms/step - loss: 0.4236 - accuracy: 0.8299 - precision: 0.7609 - recall: 0.7143 - val_loss: 0.4888 - val_accuracy: 0.7653 - val_precision: 0.6364 - val_recall: 0.6562\n",
      "Epoch 235/300\n",
      "10/10 [==============================] - 0s 4ms/step - loss: 0.4242 - accuracy: 0.8197 - precision: 0.7586 - recall: 0.6735 - val_loss: 0.4810 - val_accuracy: 0.7653 - val_precision: 0.6452 - val_recall: 0.6250\n",
      "Epoch 236/300\n",
      "10/10 [==============================] - 0s 4ms/step - loss: 0.4237 - accuracy: 0.8197 - precision: 0.7586 - recall: 0.6735 - val_loss: 0.4858 - val_accuracy: 0.7653 - val_precision: 0.6364 - val_recall: 0.6562\n",
      "Epoch 237/300\n",
      "10/10 [==============================] - 0s 4ms/step - loss: 0.4224 - accuracy: 0.8333 - precision: 0.7692 - recall: 0.7143 - val_loss: 0.4920 - val_accuracy: 0.7449 - val_precision: 0.6000 - val_recall: 0.6562\n",
      "Epoch 238/300\n",
      "10/10 [==============================] - 0s 4ms/step - loss: 0.4231 - accuracy: 0.8333 - precision: 0.7579 - recall: 0.7347 - val_loss: 0.4903 - val_accuracy: 0.7449 - val_precision: 0.6000 - val_recall: 0.6562\n",
      "Epoch 239/300\n",
      "10/10 [==============================] - 0s 4ms/step - loss: 0.4224 - accuracy: 0.8265 - precision: 0.7582 - recall: 0.7041 - val_loss: 0.4839 - val_accuracy: 0.7755 - val_precision: 0.6562 - val_recall: 0.6562\n",
      "Epoch 240/300\n",
      "10/10 [==============================] - 0s 4ms/step - loss: 0.4219 - accuracy: 0.8197 - precision: 0.7586 - recall: 0.6735 - val_loss: 0.4835 - val_accuracy: 0.7755 - val_precision: 0.6562 - val_recall: 0.6562\n",
      "Epoch 241/300\n",
      "10/10 [==============================] - 0s 4ms/step - loss: 0.4218 - accuracy: 0.8265 - precision: 0.7527 - recall: 0.7143 - val_loss: 0.4950 - val_accuracy: 0.7449 - val_precision: 0.5946 - val_recall: 0.6875\n",
      "Epoch 242/300\n",
      "10/10 [==============================] - 0s 4ms/step - loss: 0.4224 - accuracy: 0.8299 - precision: 0.7553 - recall: 0.7245 - val_loss: 0.4882 - val_accuracy: 0.7551 - val_precision: 0.6176 - val_recall: 0.6562\n",
      "Epoch 243/300\n",
      "10/10 [==============================] - 0s 4ms/step - loss: 0.4208 - accuracy: 0.8265 - precision: 0.7582 - recall: 0.7041 - val_loss: 0.4844 - val_accuracy: 0.7755 - val_precision: 0.6562 - val_recall: 0.6562\n",
      "Epoch 244/300\n",
      "10/10 [==============================] - 0s 4ms/step - loss: 0.4201 - accuracy: 0.8231 - precision: 0.7556 - recall: 0.6939 - val_loss: 0.4836 - val_accuracy: 0.7755 - val_precision: 0.6562 - val_recall: 0.6562\n",
      "Epoch 245/300\n",
      "10/10 [==============================] - 0s 4ms/step - loss: 0.4200 - accuracy: 0.8265 - precision: 0.7640 - recall: 0.6939 - val_loss: 0.4849 - val_accuracy: 0.7653 - val_precision: 0.6364 - val_recall: 0.6562\n",
      "Epoch 246/300\n",
      "10/10 [==============================] - 0s 4ms/step - loss: 0.4198 - accuracy: 0.8265 - precision: 0.7640 - recall: 0.6939 - val_loss: 0.4821 - val_accuracy: 0.7755 - val_precision: 0.6562 - val_recall: 0.6562\n",
      "Epoch 247/300\n",
      "10/10 [==============================] - 0s 4ms/step - loss: 0.4191 - accuracy: 0.8265 - precision: 0.7640 - recall: 0.6939 - val_loss: 0.4827 - val_accuracy: 0.7755 - val_precision: 0.6562 - val_recall: 0.6562\n",
      "Epoch 248/300\n",
      "10/10 [==============================] - 0s 5ms/step - loss: 0.4187 - accuracy: 0.8299 - precision: 0.7667 - recall: 0.7041 - val_loss: 0.4842 - val_accuracy: 0.7653 - val_precision: 0.6364 - val_recall: 0.6562\n",
      "Epoch 249/300\n",
      "10/10 [==============================] - 0s 5ms/step - loss: 0.4184 - accuracy: 0.8265 - precision: 0.7582 - recall: 0.7041 - val_loss: 0.4824 - val_accuracy: 0.7755 - val_precision: 0.6562 - val_recall: 0.6562\n",
      "Epoch 250/300\n",
      "10/10 [==============================] - 0s 4ms/step - loss: 0.4176 - accuracy: 0.8231 - precision: 0.7556 - recall: 0.6939 - val_loss: 0.4853 - val_accuracy: 0.7551 - val_precision: 0.6176 - val_recall: 0.6562\n",
      "Epoch 251/300\n",
      "10/10 [==============================] - 0s 4ms/step - loss: 0.4184 - accuracy: 0.8265 - precision: 0.7582 - recall: 0.7041 - val_loss: 0.4815 - val_accuracy: 0.7755 - val_precision: 0.6562 - val_recall: 0.6562\n",
      "Epoch 252/300\n",
      "10/10 [==============================] - 0s 4ms/step - loss: 0.4175 - accuracy: 0.8231 - precision: 0.7556 - recall: 0.6939 - val_loss: 0.4859 - val_accuracy: 0.7653 - val_precision: 0.6364 - val_recall: 0.6562\n",
      "Epoch 253/300\n",
      "10/10 [==============================] - 0s 4ms/step - loss: 0.4168 - accuracy: 0.8265 - precision: 0.7582 - recall: 0.7041 - val_loss: 0.4870 - val_accuracy: 0.7653 - val_precision: 0.6364 - val_recall: 0.6562\n",
      "Epoch 254/300\n",
      "10/10 [==============================] - 0s 4ms/step - loss: 0.4171 - accuracy: 0.8333 - precision: 0.7634 - recall: 0.7245 - val_loss: 0.4889 - val_accuracy: 0.7551 - val_precision: 0.6176 - val_recall: 0.6562\n",
      "Epoch 255/300\n",
      "10/10 [==============================] - 0s 4ms/step - loss: 0.4215 - accuracy: 0.8401 - precision: 0.7576 - recall: 0.7653 - val_loss: 0.4955 - val_accuracy: 0.7551 - val_precision: 0.6053 - val_recall: 0.7188\n",
      "Epoch 256/300\n",
      "10/10 [==============================] - 0s 4ms/step - loss: 0.4158 - accuracy: 0.8299 - precision: 0.7609 - recall: 0.7143 - val_loss: 0.4799 - val_accuracy: 0.7755 - val_precision: 0.6562 - val_recall: 0.6562\n",
      "Epoch 257/300\n",
      "10/10 [==============================] - 0s 4ms/step - loss: 0.4161 - accuracy: 0.8231 - precision: 0.7738 - recall: 0.6633 - val_loss: 0.4796 - val_accuracy: 0.7755 - val_precision: 0.6562 - val_recall: 0.6562\n",
      "Epoch 258/300\n",
      "10/10 [==============================] - 0s 4ms/step - loss: 0.4155 - accuracy: 0.8265 - precision: 0.7582 - recall: 0.7041 - val_loss: 0.4883 - val_accuracy: 0.7551 - val_precision: 0.6176 - val_recall: 0.6562\n",
      "Epoch 259/300\n",
      "10/10 [==============================] - 0s 4ms/step - loss: 0.4157 - accuracy: 0.8299 - precision: 0.7553 - recall: 0.7245 - val_loss: 0.4821 - val_accuracy: 0.7755 - val_precision: 0.6562 - val_recall: 0.6562\n",
      "Epoch 260/300\n",
      "10/10 [==============================] - 0s 4ms/step - loss: 0.4143 - accuracy: 0.8231 - precision: 0.7614 - recall: 0.6837 - val_loss: 0.4791 - val_accuracy: 0.7755 - val_precision: 0.6562 - val_recall: 0.6562\n",
      "Epoch 261/300\n",
      "10/10 [==============================] - 0s 4ms/step - loss: 0.4156 - accuracy: 0.8231 - precision: 0.7556 - recall: 0.6939 - val_loss: 0.4859 - val_accuracy: 0.7653 - val_precision: 0.6364 - val_recall: 0.6562\n",
      "Epoch 262/300\n",
      "10/10 [==============================] - 0s 4ms/step - loss: 0.4164 - accuracy: 0.8367 - precision: 0.7604 - recall: 0.7449 - val_loss: 0.4904 - val_accuracy: 0.7653 - val_precision: 0.6286 - val_recall: 0.6875\n",
      "Epoch 263/300\n",
      "10/10 [==============================] - 0s 6ms/step - loss: 0.4139 - accuracy: 0.8299 - precision: 0.7553 - recall: 0.7245 - val_loss: 0.4867 - val_accuracy: 0.7551 - val_precision: 0.6176 - val_recall: 0.6562\n",
      "Epoch 264/300\n",
      "10/10 [==============================] - 0s 4ms/step - loss: 0.4133 - accuracy: 0.8163 - precision: 0.7500 - recall: 0.6735 - val_loss: 0.4815 - val_accuracy: 0.7755 - val_precision: 0.6562 - val_recall: 0.6562\n",
      "Epoch 265/300\n",
      "10/10 [==============================] - 0s 4ms/step - loss: 0.4127 - accuracy: 0.8265 - precision: 0.7582 - recall: 0.7041 - val_loss: 0.4876 - val_accuracy: 0.7653 - val_precision: 0.6286 - val_recall: 0.6875\n",
      "Epoch 266/300\n",
      "10/10 [==============================] - 0s 4ms/step - loss: 0.4127 - accuracy: 0.8231 - precision: 0.7500 - recall: 0.7041 - val_loss: 0.4840 - val_accuracy: 0.7551 - val_precision: 0.6176 - val_recall: 0.6562\n",
      "Epoch 267/300\n",
      "10/10 [==============================] - 0s 4ms/step - loss: 0.4122 - accuracy: 0.8265 - precision: 0.7582 - recall: 0.7041 - val_loss: 0.4839 - val_accuracy: 0.7653 - val_precision: 0.6364 - val_recall: 0.6562\n",
      "Epoch 268/300\n",
      "10/10 [==============================] - 0s 4ms/step - loss: 0.4122 - accuracy: 0.8299 - precision: 0.7727 - recall: 0.6939 - val_loss: 0.4774 - val_accuracy: 0.7755 - val_precision: 0.6562 - val_recall: 0.6562\n",
      "Epoch 269/300\n",
      "10/10 [==============================] - 0s 4ms/step - loss: 0.4113 - accuracy: 0.8299 - precision: 0.7791 - recall: 0.6837 - val_loss: 0.4821 - val_accuracy: 0.7653 - val_precision: 0.6364 - val_recall: 0.6562\n",
      "Epoch 270/300\n",
      "10/10 [==============================] - 0s 4ms/step - loss: 0.4109 - accuracy: 0.8299 - precision: 0.7667 - recall: 0.7041 - val_loss: 0.4853 - val_accuracy: 0.7653 - val_precision: 0.6364 - val_recall: 0.6562\n",
      "Epoch 271/300\n",
      "10/10 [==============================] - 0s 4ms/step - loss: 0.4112 - accuracy: 0.8299 - precision: 0.7553 - recall: 0.7245 - val_loss: 0.4852 - val_accuracy: 0.7653 - val_precision: 0.6364 - val_recall: 0.6562\n",
      "Epoch 272/300\n",
      "10/10 [==============================] - 0s 4ms/step - loss: 0.4141 - accuracy: 0.8299 - precision: 0.7791 - recall: 0.6837 - val_loss: 0.4771 - val_accuracy: 0.7755 - val_precision: 0.6562 - val_recall: 0.6562\n",
      "Epoch 273/300\n",
      "10/10 [==============================] - 0s 4ms/step - loss: 0.4137 - accuracy: 0.8299 - precision: 0.7667 - recall: 0.7041 - val_loss: 0.4850 - val_accuracy: 0.7653 - val_precision: 0.6364 - val_recall: 0.6562\n",
      "Epoch 274/300\n",
      "10/10 [==============================] - 0s 4ms/step - loss: 0.4107 - accuracy: 0.8231 - precision: 0.7614 - recall: 0.6837 - val_loss: 0.4766 - val_accuracy: 0.7755 - val_precision: 0.6562 - val_recall: 0.6562\n",
      "Epoch 275/300\n",
      "10/10 [==============================] - 0s 4ms/step - loss: 0.4100 - accuracy: 0.8265 - precision: 0.7765 - recall: 0.6735 - val_loss: 0.4800 - val_accuracy: 0.7755 - val_precision: 0.6562 - val_recall: 0.6562\n",
      "Epoch 276/300\n",
      "10/10 [==============================] - 0s 4ms/step - loss: 0.4102 - accuracy: 0.8299 - precision: 0.7609 - recall: 0.7143 - val_loss: 0.4875 - val_accuracy: 0.7653 - val_precision: 0.6364 - val_recall: 0.6562\n",
      "Epoch 277/300\n",
      "10/10 [==============================] - 0s 4ms/step - loss: 0.4088 - accuracy: 0.8299 - precision: 0.7609 - recall: 0.7143 - val_loss: 0.4806 - val_accuracy: 0.7755 - val_precision: 0.6562 - val_recall: 0.6562\n",
      "Epoch 278/300\n",
      "10/10 [==============================] - 0s 6ms/step - loss: 0.4083 - accuracy: 0.8231 - precision: 0.7674 - recall: 0.6735 - val_loss: 0.4757 - val_accuracy: 0.7857 - val_precision: 0.6774 - val_recall: 0.6562\n",
      "Epoch 279/300\n",
      "10/10 [==============================] - 0s 4ms/step - loss: 0.4089 - accuracy: 0.8299 - precision: 0.7791 - recall: 0.6837 - val_loss: 0.4796 - val_accuracy: 0.7755 - val_precision: 0.6562 - val_recall: 0.6562\n",
      "Epoch 280/300\n",
      "10/10 [==============================] - 0s 5ms/step - loss: 0.4077 - accuracy: 0.8367 - precision: 0.7717 - recall: 0.7245 - val_loss: 0.4859 - val_accuracy: 0.7653 - val_precision: 0.6364 - val_recall: 0.6562\n",
      "Epoch 281/300\n",
      "10/10 [==============================] - 0s 5ms/step - loss: 0.4082 - accuracy: 0.8299 - precision: 0.7553 - recall: 0.7245 - val_loss: 0.4849 - val_accuracy: 0.7653 - val_precision: 0.6364 - val_recall: 0.6562\n",
      "Epoch 282/300\n",
      "10/10 [==============================] - 0s 5ms/step - loss: 0.4102 - accuracy: 0.8333 - precision: 0.7579 - recall: 0.7347 - val_loss: 0.4891 - val_accuracy: 0.7653 - val_precision: 0.6364 - val_recall: 0.6562\n",
      "Epoch 283/300\n",
      "10/10 [==============================] - 0s 4ms/step - loss: 0.4090 - accuracy: 0.8231 - precision: 0.7614 - recall: 0.6837 - val_loss: 0.4746 - val_accuracy: 0.7857 - val_precision: 0.6774 - val_recall: 0.6562\n",
      "Epoch 284/300\n",
      "10/10 [==============================] - 0s 4ms/step - loss: 0.4080 - accuracy: 0.8265 - precision: 0.7765 - recall: 0.6735 - val_loss: 0.4758 - val_accuracy: 0.7755 - val_precision: 0.6562 - val_recall: 0.6562\n",
      "Epoch 285/300\n",
      "10/10 [==============================] - 0s 4ms/step - loss: 0.4063 - accuracy: 0.8265 - precision: 0.7701 - recall: 0.6837 - val_loss: 0.4801 - val_accuracy: 0.7755 - val_precision: 0.6562 - val_recall: 0.6562\n",
      "Epoch 286/300\n",
      "10/10 [==============================] - 0s 4ms/step - loss: 0.4059 - accuracy: 0.8265 - precision: 0.7582 - recall: 0.7041 - val_loss: 0.4820 - val_accuracy: 0.7653 - val_precision: 0.6364 - val_recall: 0.6562\n",
      "Epoch 287/300\n",
      "10/10 [==============================] - 0s 4ms/step - loss: 0.4055 - accuracy: 0.8299 - precision: 0.7553 - recall: 0.7245 - val_loss: 0.4862 - val_accuracy: 0.7653 - val_precision: 0.6364 - val_recall: 0.6562\n",
      "Epoch 288/300\n",
      "10/10 [==============================] - 0s 4ms/step - loss: 0.4057 - accuracy: 0.8299 - precision: 0.7553 - recall: 0.7245 - val_loss: 0.4831 - val_accuracy: 0.7653 - val_precision: 0.6364 - val_recall: 0.6562\n",
      "Epoch 289/300\n",
      "10/10 [==============================] - 0s 4ms/step - loss: 0.4047 - accuracy: 0.8265 - precision: 0.7640 - recall: 0.6939 - val_loss: 0.4786 - val_accuracy: 0.7755 - val_precision: 0.6562 - val_recall: 0.6562\n",
      "Epoch 290/300\n",
      "10/10 [==============================] - 0s 6ms/step - loss: 0.4042 - accuracy: 0.8265 - precision: 0.7582 - recall: 0.7041 - val_loss: 0.4844 - val_accuracy: 0.7653 - val_precision: 0.6364 - val_recall: 0.6562\n",
      "Epoch 291/300\n",
      "10/10 [==============================] - 0s 4ms/step - loss: 0.4062 - accuracy: 0.8333 - precision: 0.7579 - recall: 0.7347 - val_loss: 0.4882 - val_accuracy: 0.7755 - val_precision: 0.6471 - val_recall: 0.6875\n",
      "Epoch 292/300\n",
      "10/10 [==============================] - 0s 4ms/step - loss: 0.4044 - accuracy: 0.8299 - precision: 0.7553 - recall: 0.7245 - val_loss: 0.4818 - val_accuracy: 0.7653 - val_precision: 0.6364 - val_recall: 0.6562\n",
      "Epoch 293/300\n",
      "10/10 [==============================] - 0s 4ms/step - loss: 0.4034 - accuracy: 0.8333 - precision: 0.7753 - recall: 0.7041 - val_loss: 0.4751 - val_accuracy: 0.7755 - val_precision: 0.6562 - val_recall: 0.6562\n",
      "Epoch 294/300\n",
      "10/10 [==============================] - 0s 4ms/step - loss: 0.4037 - accuracy: 0.8333 - precision: 0.7882 - recall: 0.6837 - val_loss: 0.4796 - val_accuracy: 0.7755 - val_precision: 0.6562 - val_recall: 0.6562\n",
      "Epoch 295/300\n",
      "10/10 [==============================] - 0s 4ms/step - loss: 0.4033 - accuracy: 0.8367 - precision: 0.7778 - recall: 0.7143 - val_loss: 0.4829 - val_accuracy: 0.7653 - val_precision: 0.6364 - val_recall: 0.6562\n",
      "Epoch 296/300\n",
      "10/10 [==============================] - 0s 4ms/step - loss: 0.4059 - accuracy: 0.8299 - precision: 0.7553 - recall: 0.7245 - val_loss: 0.4864 - val_accuracy: 0.7653 - val_precision: 0.6364 - val_recall: 0.6562\n",
      "Epoch 297/300\n",
      "10/10 [==============================] - 0s 4ms/step - loss: 0.4033 - accuracy: 0.8333 - precision: 0.7816 - recall: 0.6939 - val_loss: 0.4729 - val_accuracy: 0.7857 - val_precision: 0.6774 - val_recall: 0.6562\n",
      "Epoch 298/300\n",
      "10/10 [==============================] - 0s 4ms/step - loss: 0.4033 - accuracy: 0.8299 - precision: 0.7857 - recall: 0.6735 - val_loss: 0.4761 - val_accuracy: 0.7755 - val_precision: 0.6562 - val_recall: 0.6562\n",
      "Epoch 299/300\n",
      "10/10 [==============================] - 0s 4ms/step - loss: 0.4029 - accuracy: 0.8265 - precision: 0.7527 - recall: 0.7143 - val_loss: 0.4829 - val_accuracy: 0.7653 - val_precision: 0.6364 - val_recall: 0.6562\n",
      "Epoch 300/300\n",
      "10/10 [==============================] - 0s 4ms/step - loss: 0.4016 - accuracy: 0.8367 - precision: 0.7717 - recall: 0.7245 - val_loss: 0.4787 - val_accuracy: 0.7755 - val_precision: 0.6562 - val_recall: 0.6562\n"
     ]
    }
   ],
   "source": [
    "# fit your model\n",
    "class_model = build_class_model()\n",
    "history = class_model.fit(X_train_proc, y_train,\n",
    "                        validation_data = (X_test_proc, y_test),\n",
    "                        epochs = 300, verbose =1)\n"
   ]
  },
  {
   "cell_type": "code",
   "execution_count": 56,
   "metadata": {
    "colab": {
     "base_uri": "https://localhost:8080/"
    },
    "executionInfo": {
     "elapsed": 6,
     "status": "ok",
     "timestamp": 1698804010065,
     "user": {
      "displayName": "Yvon Bilodeau",
      "userId": "10142856831792134633"
     },
     "user_tz": 420
    },
    "id": "OTmswQ-tJZlX",
    "outputId": "d4eb9d6d-e4cf-4250-bf54-d5c23e16fc37"
   },
   "outputs": [
    {
     "data": {
      "text/plain": [
       "dict_keys(['loss', 'accuracy', 'precision', 'recall', 'val_loss', 'val_accuracy', 'val_precision', 'val_recall'])"
      ]
     },
     "execution_count": 56,
     "metadata": {},
     "output_type": "execute_result"
    }
   ],
   "source": [
    "history.history.keys()"
   ]
  },
  {
   "cell_type": "code",
   "execution_count": 57,
   "metadata": {
    "colab": {
     "base_uri": "https://localhost:8080/",
     "height": 1000
    },
    "executionInfo": {
     "elapsed": 645,
     "status": "ok",
     "timestamp": 1698804010706,
     "user": {
      "displayName": "Yvon Bilodeau",
      "userId": "10142856831792134633"
     },
     "user_tz": 420
    },
    "id": "qKLxgYDcP0_H",
    "outputId": "e2de98d9-02bc-478f-b52c-8f1bef07e28e"
   },
   "outputs": [
    {
     "data": {
      "image/png": "[encoded data removed]",
      "text/plain": [
       "<Figure size 640x480 with 1 Axes>"
      ]
     },
     "metadata": {},
     "output_type": "display_data"
    },
    {
     "data": {
      "image/png": "[encoded data removed]",
      "text/plain": [
       "<Figure size 640x480 with 1 Axes>"
      ]
     },
     "metadata": {},
     "output_type": "display_data"
    },
    {
     "data": {
      "image/png": "[encoded data removed]",
      "text/plain": [
       "<Figure size 640x480 with 1 Axes>"
      ]
     },
     "metadata": {},
     "output_type": "display_data"
    },
    {
     "data": {
      "image/png": "[encoded data removed]",
      "text/plain": [
       "<Figure size 640x480 with 1 Axes>"
      ]
     },
     "metadata": {},
     "output_type": "display_data"
    }
   ],
   "source": [
    "# See how your model is doing\n",
    "plot_history(history)\n"
   ]
  },
  {
   "cell_type": "markdown",
   "metadata": {
    "id": "LD18RKjYTFXP"
   },
   "source": [
    "## Evaluation\n",
    "\n",
    "Keras models always output floats, not integers.  In this case the final sigmoid activation function will return a number between 0 and 1.  If the number is closer to 1, the model predicts the sample is more likely to be class 1.  If it is closer to 2, the sample is predicted to be more likely to be class 0.  \n",
    "\n",
    "This is similar to the output of .predict_proba() with Scikit-Learn models.\n",
    "\n",
    "### Converting Floats to Ints\n",
    "\n",
    "In order to use Scikit-Learn metrics functions, the float outputs of the model need to be converted to ints.  We don't want to just use `int(pred)` or `pred.astype(int)` because that will just drop the decimal and all our predictions would be 0s.  \n",
    "\n",
    "Instead we want to **round** the predictions to the nearest integer. To round all of the numbers in an array we can use the NumPy function, `np.rint()` which is short for 'round to integer'.  \n",
    "\n",
    "[Numpy Reference for np.rint()](https://numpy.org/doc/stable/reference/generated/numpy.rint.html)"
   ]
  },
  {
   "cell_type": "code",
   "execution_count": 58,
   "metadata": {
    "colab": {
     "base_uri": "https://localhost:8080/"
    },
    "executionInfo": {
     "elapsed": 242,
     "status": "ok",
     "timestamp": 1698804010945,
     "user": {
      "displayName": "Yvon Bilodeau",
      "userId": "10142856831792134633"
     },
     "user_tz": 420
    },
    "id": "HttQV2phV-Va",
    "outputId": "f17ae13d-e97f-4e3e-e1d2-c065ae8c5b3b"
   },
   "outputs": [
    {
     "name": "stdout",
     "output_type": "stream",
     "text": [
      "10/10 [==============================] - 0s 946us/step\n"
     ]
    },
    {
     "data": {
      "text/plain": [
       "array([[0.13648447],\n",
       "       [0.70875394],\n",
       "       [0.8998857 ],\n",
       "       [0.6731238 ],\n",
       "       [0.13648447],\n",
       "       [0.42942467],\n",
       "       [0.13648447],\n",
       "       [0.23393907],\n",
       "       [0.61826223],\n",
       "       [0.9094492 ]], dtype=float32)"
      ]
     },
     "execution_count": 58,
     "metadata": {},
     "output_type": "execute_result"
    }
   ],
   "source": [
    "# Check raw model predictions\n",
    "class_model.predict(X_train_proc)[:10]"
   ]
  },
  {
   "cell_type": "code",
   "execution_count": 59,
   "metadata": {
    "colab": {
     "base_uri": "https://localhost:8080/"
    },
    "executionInfo": {
     "elapsed": 13,
     "status": "ok",
     "timestamp": 1698804010945,
     "user": {
      "displayName": "Yvon Bilodeau",
      "userId": "10142856831792134633"
     },
     "user_tz": 420
    },
    "id": "u1CSEpv4YXV7",
    "outputId": "a39a681f-97b1-4569-eea3-6a90c76bb333"
   },
   "outputs": [
    {
     "name": "stdout",
     "output_type": "stream",
     "text": [
      "10/10 [==============================] - 0s 2ms/step\n",
      "4/4 [==============================] - 0s 1000us/step\n",
      "[[0.]\n",
      " [1.]\n",
      " [1.]\n",
      " [0.]\n",
      " [0.]]\n",
      "[[0.]\n",
      " [1.]\n",
      " [1.]\n",
      " [1.]\n",
      " [0.]]\n"
     ]
    }
   ],
   "source": [
    "# Get predictions\n",
    "train_pred_proba = class_model.predict(X_train_proc)\n",
    "test_pred_proba = class_model.predict(X_test_proc)\n",
    "\n",
    "\n",
    "# round predictions to integers instead of floats using np.rint()\n",
    "train_preds = np.rint(train_pred_proba)\n",
    "test_preds = np.rint(test_pred_proba)\n",
    "\n",
    "# the following code should show whole number predictions, 1.0 or 0.0\n",
    "print(test_preds[:5])\n",
    "print(train_preds[:5])"
   ]
  },
  {
   "cell_type": "code",
   "execution_count": 60,
   "metadata": {
    "colab": {
     "base_uri": "https://localhost:8080/",
     "height": 1000
    },
    "executionInfo": {
     "elapsed": 691,
     "status": "ok",
     "timestamp": 1698804011629,
     "user": {
      "displayName": "Yvon Bilodeau",
      "userId": "10142856831792134633"
     },
     "user_tz": 420
    },
    "id": "sov8ZJUHP-Bf",
    "outputId": "3b3ca2ec-3b96-4c69-8f47-3dff45aea337"
   },
   "outputs": [
    {
     "name": "stdout",
     "output_type": "stream",
     "text": [
      "base_class_model_train \n",
      "\n",
      "              precision    recall  f1-score   support\n",
      "\n",
      " No Diabetes       0.86      0.90      0.88       196\n",
      "    Diabetes       0.78      0.70      0.74        98\n",
      "\n",
      "    accuracy                           0.83       294\n",
      "   macro avg       0.82      0.80      0.81       294\n",
      "weighted avg       0.83      0.83      0.83       294\n",
      "\n"
     ]
    },
    {
     "data": {
      "image/png": "[encoded data removed]",
      "text/plain": [
       "<Figure size 640x480 with 2 Axes>"
      ]
     },
     "metadata": {},
     "output_type": "display_data"
    },
    {
     "name": "stdout",
     "output_type": "stream",
     "text": [
      "base_class_model_test \n",
      "\n",
      "              precision    recall  f1-score   support\n",
      "\n",
      " No Diabetes       0.83      0.83      0.83        66\n",
      "    Diabetes       0.66      0.66      0.66        32\n",
      "\n",
      "    accuracy                           0.78        98\n",
      "   macro avg       0.74      0.74      0.74        98\n",
      "weighted avg       0.78      0.78      0.78        98\n",
      "\n"
     ]
    },
    {
     "data": {
      "image/png": "[encoded data removed]",
      "text/plain": [
       "<Figure size 640x480 with 2 Axes>"
      ]
     },
     "metadata": {},
     "output_type": "display_data"
    },
    {
     "data": {
      "text/html": [
       "<div>\n",
       "<style scoped>\n",
       "    .dataframe tbody tr th:only-of-type {\n",
       "        vertical-align: middle;\n",
       "    }\n",
       "\n",
       "    .dataframe tbody tr th {\n",
       "        vertical-align: top;\n",
       "    }\n",
       "\n",
       "    .dataframe thead th {\n",
       "        text-align: right;\n",
       "    }\n",
       "</style>\n",
       "<table border=\"1\" class=\"dataframe\">\n",
       "  <thead>\n",
       "    <tr style=\"text-align: right;\">\n",
       "      <th></th>\n",
       "      <th>Precision</th>\n",
       "      <th>Recall</th>\n",
       "      <th>F1 Score</th>\n",
       "      <th>Accuracy</th>\n",
       "    </tr>\n",
       "    <tr>\n",
       "      <th>Model Name</th>\n",
       "      <th></th>\n",
       "      <th></th>\n",
       "      <th></th>\n",
       "      <th></th>\n",
       "    </tr>\n",
       "  </thead>\n",
       "  <tbody>\n",
       "    <tr>\n",
       "      <th>base_class_model_train</th>\n",
       "      <td>0.775281</td>\n",
       "      <td>0.704082</td>\n",
       "      <td>0.737968</td>\n",
       "      <td>0.833333</td>\n",
       "    </tr>\n",
       "    <tr>\n",
       "      <th>base_class_model_test</th>\n",
       "      <td>0.656250</td>\n",
       "      <td>0.656250</td>\n",
       "      <td>0.656250</td>\n",
       "      <td>0.775510</td>\n",
       "    </tr>\n",
       "  </tbody>\n",
       "</table>\n",
       "</div>"
      ],
      "text/plain": [
       "                        Precision    Recall  F1 Score  Accuracy\n",
       "Model Name                                                     \n",
       "base_class_model_train   0.775281  0.704082  0.737968  0.833333\n",
       "base_class_model_test    0.656250  0.656250  0.656250  0.775510"
      ]
     },
     "execution_count": 60,
     "metadata": {},
     "output_type": "execute_result"
    }
   ],
   "source": [
    "# Define labels for the confusion matrix\n",
    "labels = ['No Diabetes', 'Diabetes']\n",
    "\n",
    "# Evaluate your model using the custom function eval_classification()\n",
    "train_scores = eval_classification(y_train, train_preds,\n",
    "                                   name='base_class_model_train',\n",
    "                                  labels=labels)\n",
    "test_scores = eval_classification(y_test, test_preds,\n",
    "                                   name='base_class_model_test',\n",
    "                                  labels=labels)\n",
    "\n",
    "# concatenate the two dataframes to compare the model on train and test data\n",
    "class_scores = pd.concat([train_scores, test_scores])\n",
    "class_scores"
   ]
  },
  {
   "cell_type": "code",
   "execution_count": null,
   "metadata": {
    "executionInfo": {
     "elapsed": 3,
     "status": "ok",
     "timestamp": 1698804011630,
     "user": {
      "displayName": "Yvon Bilodeau",
      "userId": "10142856831792134633"
     },
     "user_tz": 420
    },
    "id": "vFvHcmtIsSCy"
   },
   "outputs": [],
   "source": []
  }
 ],
 "metadata": {
  "accelerator": "GPU",
  "colab": {
   "provenance": [
    {
     "file_id": "1AMkk4AkOwuh0L19EdXpLJHJaeZXCP6kQ",
     "timestamp": 1654554871276
    },
    {
     "file_id": "1HZQ_jeFRQsrlNGjvh_ru52Q-1DhIahua",
     "timestamp": 1636586978598
    }
   ],
   "toc_visible": true
  },
  "gpuClass": "standard",
  "kernelspec": {
   "display_name": "Python 3 (ipykernel)",
   "language": "python",
   "name": "python3"
  },
  "language_info": {
   "codemirror_mode": {
    "name": "ipython",
    "version": 3
   },
   "file_extension": ".py",
   "mimetype": "text/x-python",
   "name": "python",
   "nbconvert_exporter": "python",
   "pygments_lexer": "ipython3",
   "version": "3.10.10"
  },
  "toc": {
   "base_numbering": 1,
   "nav_menu": {},
   "number_sections": false,
   "sideBar": true,
   "skip_h1_title": false,
   "title_cell": "Table of Contents",
   "title_sidebar": "Contents",
   "toc_cell": false,
   "toc_position": {
    "height": "calc(100% - 180px)",
    "left": "10px",
    "top": "150px",
    "width": "243.829px"
   },
   "toc_section_display": true,
   "toc_window_display": false
  },
  "widgets": {
   "application/vnd.jupyter.widget-state+json": {
    "state": {},
    "version_major": 2,
    "version_minor": 0
   }
  }
 },
 "nbformat": 4,
 "nbformat_minor": 4
}
