{
 "cells": [
  {
   "cell_type": "markdown",
   "metadata": {
    "id": "AGKAZlCh02cl"
   },
   "source": [
    "# Introduction to Neural Networking in Keras\n",
    "\n",
    "<a href=\"https://colab.research.google.com/github/coding-dojo-data-science/week-11-lecture-2-tuning-deep-learning-models/blob/main/Code-along%20Tuning%20Neural%20Networks.ipynb\" target=\"_parent\"><img src=\"https://colab.research.google.com/assets/colab-badge.svg\" alt=\"Open In Colab\"/></a>"
   ]
  },
  {
   "cell_type": "markdown",
   "metadata": {
    "id": "OStduN-207_9"
   },
   "source": [
    "We will use the version of Keras that comes in the Tensorflow package, as it has the most up to date tools.\n",
    "\n",
    "Keras works as weapper for deep learning model to be used as classification or regression estimators in sklearn"
   ]
  },
  {
   "cell_type": "code",
   "execution_count": 1,
   "metadata": {
    "ExecuteTime": {
     "end_time": "2023-02-08T02:15:00.219225Z",
     "start_time": "2023-02-08T02:15:00.211839Z"
    },
    "executionInfo": {
     "elapsed": 6928,
     "status": "ok",
     "timestamp": 1698803943153,
     "user": {
      "displayName": "Yvon Bilodeau",
      "userId": "10142856831792134633"
     },
     "user_tz": 420
    },
    "id": "Zw6CH1mp0zR4"
   },
   "outputs": [],
   "source": [
    "import pandas as pd\n",
    "import numpy as np\n",
    "\n",
    "import matplotlib.pyplot as plt\n",
    "\n",
    "from sklearn.metrics import mean_absolute_error, r2_score, \\\n",
    "mean_squared_error, precision_score, recall_score, accuracy_score, f1_score, \\\n",
    "ConfusionMatrixDisplay, classification_report\n",
    "from sklearn.preprocessing import MinMaxScaler\n",
    "from sklearn.model_selection import train_test_split\n",
    "\n",
    "# new libraries\n",
    "import tensorflow as tf\n",
    "import tensorflow.keras as keras\n",
    "from keras.models import Sequential\n",
    "from keras.layers import Dense, Input\n",
    "\n",
    "# This is used to overcome an issue with setting up tensorflow in M1/M1\n",
    "# Suspect tensorflow-macos not very fit with GPU, use CPU only with\n",
    "tf.config.set_visible_devices([], 'GPU')\n",
    "\n",
    "# Set random seeds for consistent outcomes\n",
    "keras.backend.clear_session()\n",
    "np.random.seed(42)\n",
    "tf.random.set_seed(42)"
   ]
  },
  {
   "cell_type": "markdown",
   "metadata": {
    "id": "e5pga5rHChPu"
   },
   "source": [
    "### Plot History\n",
    "\n",
    "Since we will be plotting histories for all of our models, lets create a function to do it quickly."
   ]
  },
  {
   "cell_type": "code",
   "execution_count": 2,
   "metadata": {
    "ExecuteTime": {
     "end_time": "2023-02-08T02:15:00.226208Z",
     "start_time": "2023-02-08T02:15:00.220222Z"
    },
    "executionInfo": {
     "elapsed": 4,
     "status": "ok",
     "timestamp": 1698803943153,
     "user": {
      "displayName": "Yvon Bilodeau",
      "userId": "10142856831792134633"
     },
     "user_tz": 420
    },
    "id": "UbrKqMv0_28Q"
   },
   "outputs": [],
   "source": [
    "def plot_history(history):\n",
    "  \"\"\"Takes a keras model learning history and plots each metric\"\"\"\n",
    "\n",
    "  metrics = history.history.keys()\n",
    "\n",
    "  for metric in metrics:\n",
    "      if not 'val' in metric:\n",
    "        plt.plot(history.history[f'{metric}'], label=f'{metric}')\n",
    "        if f'val_{metric}' in metrics:\n",
    "          plt.plot(history.history[f'val_{metric}'], label=f'val_{metric}')\n",
    "        plt.legend()\n",
    "        plt.title(f'{metric}')\n",
    "        plt.show()\n",
    "\n",
    "def eval_regression(true, pred, name='Model'):\n",
    "    \"\"\"Evaluates true and predicted values from a regression model.\n",
    "    Outputs a dataframe of metrics\"\"\"\n",
    "    scores = pd.DataFrame()\n",
    "    scores['Model Name'] = [name]\n",
    "    scores['RMSE'] = [np.sqrt(mean_squared_error(true, pred))]\n",
    "    scores['MAE'] = [mean_absolute_error(true, pred)]\n",
    "    scores['R2'] = [r2_score(true, pred)]\n",
    "    scores.set_index('Model Name', inplace=True)\n",
    "\n",
    "    return scores\n",
    "\n",
    "def eval_classification(true, pred, name, labels=None):\n",
    "    \"\"\"shows classification_report and confusion matrix\n",
    "    for classification model predictions.  Outputs a dataframe of metrics\"\"\"\n",
    "\n",
    "    print(name, '\\n')\n",
    "    print(classification_report(true, pred, target_names=labels))\n",
    "    ConfusionMatrixDisplay.from_predictions(true, pred, display_labels=labels, )\n",
    "\n",
    "    plt.show()\n",
    "\n",
    "    scores = pd.DataFrame()\n",
    "    scores['Model Name'] = [name]\n",
    "    scores['Precision'] = [precision_score(true, pred)]\n",
    "    scores['Recall'] = [recall_score(true, pred)]\n",
    "    scores['F1 Score'] = [f1_score(true, pred)]\n",
    "    scores['Accuracy'] = [accuracy_score(true, pred)]\n",
    "    scores.set_index('Model Name', inplace=True)\n",
    "\n",
    "    return scores"
   ]
  },
  {
   "cell_type": "markdown",
   "metadata": {
    "id": "RAUUTWm93ojP"
   },
   "source": [
    "# Data\n",
    "\n",
    "We will be working with 2 different datasets in this project, 1 is a regression dataset and the other is a classification dataset.  This way you can practice doing both using deep learning.\n",
    "\n",
    "**NOTE**\n",
    "\n",
    "These datasets are very small for deep learning.  Deep learning models usually work best with very large datasets with at least 10,000 or more samples.  They work best on even larger datasets than that.  But, for demonstration we will use these smaller datasets.\n",
    "\n",
    "## Regression\n",
    "This is a dataset of housing prices in Boston from 1978.  Each row is a house and the dataset includes several features regarding each house.  Our target today will be the price of the home.\n",
    "\n"
   ]
  },
  {
   "cell_type": "code",
   "execution_count": 3,
   "metadata": {
    "ExecuteTime": {
     "end_time": "2023-02-08T02:15:00.312062Z",
     "start_time": "2023-02-08T02:15:00.227205Z"
    },
    "executionInfo": {
     "elapsed": 3,
     "status": "ok",
     "timestamp": 1698803943153,
     "user": {
      "displayName": "Yvon Bilodeau",
      "userId": "10142856831792134633"
     },
     "user_tz": 420
    },
    "id": "8_PM7Bt81FKh"
   },
   "outputs": [],
   "source": [
    "regression_df = pd.read_csv('Data/Boston_Housing_from_Sklearn.csv')"
   ]
  },
  {
   "cell_type": "markdown",
   "metadata": {
    "id": "1YPAPvdG6Sqy"
   },
   "source": [
    "# Regression\n",
    "\n",
    "Let's start with modeling the regression dataset"
   ]
  },
  {
   "cell_type": "code",
   "execution_count": 4,
   "metadata": {
    "ExecuteTime": {
     "end_time": "2023-02-08T02:15:00.324011Z",
     "start_time": "2023-02-08T02:15:00.314019Z"
    },
    "colab": {
     "base_uri": "https://localhost:8080/",
     "height": 204
    },
    "executionInfo": {
     "elapsed": 218,
     "status": "ok",
     "timestamp": 1698803943369,
     "user": {
      "displayName": "Yvon Bilodeau",
      "userId": "10142856831792134633"
     },
     "user_tz": 420
    },
    "id": "3STtBugN3fp1",
    "outputId": "a8fdf0a0-c92d-42b5-9931-07089286b0ae"
   },
   "outputs": [
    {
     "data": {
      "text/html": [
       "<div>\n",
       "<style scoped>\n",
       "    .dataframe tbody tr th:only-of-type {\n",
       "        vertical-align: middle;\n",
       "    }\n",
       "\n",
       "    .dataframe tbody tr th {\n",
       "        vertical-align: top;\n",
       "    }\n",
       "\n",
       "    .dataframe thead th {\n",
       "        text-align: right;\n",
       "    }\n",
       "</style>\n",
       "<table border=\"1\" class=\"dataframe\">\n",
       "  <thead>\n",
       "    <tr style=\"text-align: right;\">\n",
       "      <th></th>\n",
       "      <th>CRIM</th>\n",
       "      <th>NOX</th>\n",
       "      <th>RM</th>\n",
       "      <th>AGE</th>\n",
       "      <th>PTRATIO</th>\n",
       "      <th>LSTAT</th>\n",
       "      <th>PRICE</th>\n",
       "    </tr>\n",
       "  </thead>\n",
       "  <tbody>\n",
       "    <tr>\n",
       "      <th>0</th>\n",
       "      <td>0.00632</td>\n",
       "      <td>0.538</td>\n",
       "      <td>6.575</td>\n",
       "      <td>65.2</td>\n",
       "      <td>15.3</td>\n",
       "      <td>4.98</td>\n",
       "      <td>24.0</td>\n",
       "    </tr>\n",
       "    <tr>\n",
       "      <th>1</th>\n",
       "      <td>0.02731</td>\n",
       "      <td>0.469</td>\n",
       "      <td>6.421</td>\n",
       "      <td>78.9</td>\n",
       "      <td>17.8</td>\n",
       "      <td>9.14</td>\n",
       "      <td>21.6</td>\n",
       "    </tr>\n",
       "    <tr>\n",
       "      <th>2</th>\n",
       "      <td>0.02729</td>\n",
       "      <td>0.469</td>\n",
       "      <td>7.185</td>\n",
       "      <td>61.1</td>\n",
       "      <td>17.8</td>\n",
       "      <td>4.03</td>\n",
       "      <td>34.7</td>\n",
       "    </tr>\n",
       "    <tr>\n",
       "      <th>3</th>\n",
       "      <td>0.03237</td>\n",
       "      <td>0.458</td>\n",
       "      <td>6.998</td>\n",
       "      <td>45.8</td>\n",
       "      <td>18.7</td>\n",
       "      <td>2.94</td>\n",
       "      <td>33.4</td>\n",
       "    </tr>\n",
       "    <tr>\n",
       "      <th>4</th>\n",
       "      <td>0.06905</td>\n",
       "      <td>0.458</td>\n",
       "      <td>7.147</td>\n",
       "      <td>54.2</td>\n",
       "      <td>18.7</td>\n",
       "      <td>5.33</td>\n",
       "      <td>36.2</td>\n",
       "    </tr>\n",
       "  </tbody>\n",
       "</table>\n",
       "</div>"
      ],
      "text/plain": [
       "      CRIM    NOX     RM   AGE  PTRATIO  LSTAT  PRICE\n",
       "0  0.00632  0.538  6.575  65.2     15.3   4.98   24.0\n",
       "1  0.02731  0.469  6.421  78.9     17.8   9.14   21.6\n",
       "2  0.02729  0.469  7.185  61.1     17.8   4.03   34.7\n",
       "3  0.03237  0.458  6.998  45.8     18.7   2.94   33.4\n",
       "4  0.06905  0.458  7.147  54.2     18.7   5.33   36.2"
      ]
     },
     "execution_count": 4,
     "metadata": {},
     "output_type": "execute_result"
    }
   ],
   "source": [
    "regression_df.head()"
   ]
  },
  {
   "cell_type": "code",
   "execution_count": 5,
   "metadata": {
    "ExecuteTime": {
     "end_time": "2023-02-08T02:15:00.334424Z",
     "start_time": "2023-02-08T02:15:00.325015Z"
    },
    "colab": {
     "base_uri": "https://localhost:8080/"
    },
    "executionInfo": {
     "elapsed": 17,
     "status": "ok",
     "timestamp": 1698803943369,
     "user": {
      "displayName": "Yvon Bilodeau",
      "userId": "10142856831792134633"
     },
     "user_tz": 420
    },
    "id": "4sJoxV1ZJKBd",
    "outputId": "ca6b1cac-9d39-4a4f-b683-d4c2bcfe3fe9"
   },
   "outputs": [
    {
     "name": "stdout",
     "output_type": "stream",
     "text": [
      "<class 'pandas.core.frame.DataFrame'>\n",
      "RangeIndex: 506 entries, 0 to 505\n",
      "Data columns (total 7 columns):\n",
      " #   Column   Non-Null Count  Dtype  \n",
      "---  ------   --------------  -----  \n",
      " 0   CRIM     506 non-null    float64\n",
      " 1   NOX      506 non-null    float64\n",
      " 2   RM       506 non-null    float64\n",
      " 3   AGE      506 non-null    float64\n",
      " 4   PTRATIO  506 non-null    float64\n",
      " 5   LSTAT    506 non-null    float64\n",
      " 6   PRICE    506 non-null    float64\n",
      "dtypes: float64(7)\n",
      "memory usage: 27.8 KB\n"
     ]
    }
   ],
   "source": [
    "regression_df.info()"
   ]
  },
  {
   "cell_type": "code",
   "execution_count": 6,
   "metadata": {
    "ExecuteTime": {
     "end_time": "2023-02-08T02:15:00.341921Z",
     "start_time": "2023-02-08T02:15:00.336419Z"
    },
    "colab": {
     "base_uri": "https://localhost:8080/"
    },
    "executionInfo": {
     "elapsed": 11,
     "status": "ok",
     "timestamp": 1698803943369,
     "user": {
      "displayName": "Yvon Bilodeau",
      "userId": "10142856831792134633"
     },
     "user_tz": 420
    },
    "id": "uvcvdJUZ6YKX",
    "outputId": "c33ec5e8-9fdb-479c-d23a-b17558802b91"
   },
   "outputs": [
    {
     "data": {
      "text/plain": [
       "False"
      ]
     },
     "execution_count": 6,
     "metadata": {},
     "output_type": "execute_result"
    }
   ],
   "source": [
    "regression_df.duplicated().any()"
   ]
  },
  {
   "cell_type": "code",
   "execution_count": 7,
   "metadata": {
    "ExecuteTime": {
     "end_time": "2023-02-08T02:15:00.368107Z",
     "start_time": "2023-02-08T02:15:00.342920Z"
    },
    "colab": {
     "base_uri": "https://localhost:8080/",
     "height": 297
    },
    "executionInfo": {
     "elapsed": 6,
     "status": "ok",
     "timestamp": 1698803943370,
     "user": {
      "displayName": "Yvon Bilodeau",
      "userId": "10142856831792134633"
     },
     "user_tz": 420
    },
    "id": "IrxmHTaU6s3N",
    "outputId": "0429c421-e5cb-4196-9317-11279e5b8668"
   },
   "outputs": [
    {
     "data": {
      "text/html": [
       "<div>\n",
       "<style scoped>\n",
       "    .dataframe tbody tr th:only-of-type {\n",
       "        vertical-align: middle;\n",
       "    }\n",
       "\n",
       "    .dataframe tbody tr th {\n",
       "        vertical-align: top;\n",
       "    }\n",
       "\n",
       "    .dataframe thead th {\n",
       "        text-align: right;\n",
       "    }\n",
       "</style>\n",
       "<table border=\"1\" class=\"dataframe\">\n",
       "  <thead>\n",
       "    <tr style=\"text-align: right;\">\n",
       "      <th></th>\n",
       "      <th>CRIM</th>\n",
       "      <th>NOX</th>\n",
       "      <th>RM</th>\n",
       "      <th>AGE</th>\n",
       "      <th>PTRATIO</th>\n",
       "      <th>LSTAT</th>\n",
       "      <th>PRICE</th>\n",
       "    </tr>\n",
       "  </thead>\n",
       "  <tbody>\n",
       "    <tr>\n",
       "      <th>count</th>\n",
       "      <td>506.000000</td>\n",
       "      <td>506.000000</td>\n",
       "      <td>506.000000</td>\n",
       "      <td>506.000000</td>\n",
       "      <td>506.000000</td>\n",
       "      <td>506.000000</td>\n",
       "      <td>506.000000</td>\n",
       "    </tr>\n",
       "    <tr>\n",
       "      <th>mean</th>\n",
       "      <td>3.613524</td>\n",
       "      <td>0.554695</td>\n",
       "      <td>6.284634</td>\n",
       "      <td>68.574901</td>\n",
       "      <td>18.455534</td>\n",
       "      <td>12.653063</td>\n",
       "      <td>22.532806</td>\n",
       "    </tr>\n",
       "    <tr>\n",
       "      <th>std</th>\n",
       "      <td>8.601545</td>\n",
       "      <td>0.115878</td>\n",
       "      <td>0.702617</td>\n",
       "      <td>28.148861</td>\n",
       "      <td>2.164946</td>\n",
       "      <td>7.141062</td>\n",
       "      <td>9.197104</td>\n",
       "    </tr>\n",
       "    <tr>\n",
       "      <th>min</th>\n",
       "      <td>0.006320</td>\n",
       "      <td>0.385000</td>\n",
       "      <td>3.561000</td>\n",
       "      <td>2.900000</td>\n",
       "      <td>12.600000</td>\n",
       "      <td>1.730000</td>\n",
       "      <td>5.000000</td>\n",
       "    </tr>\n",
       "    <tr>\n",
       "      <th>25%</th>\n",
       "      <td>0.082045</td>\n",
       "      <td>0.449000</td>\n",
       "      <td>5.885500</td>\n",
       "      <td>45.025000</td>\n",
       "      <td>17.400000</td>\n",
       "      <td>6.950000</td>\n",
       "      <td>17.025000</td>\n",
       "    </tr>\n",
       "    <tr>\n",
       "      <th>50%</th>\n",
       "      <td>0.256510</td>\n",
       "      <td>0.538000</td>\n",
       "      <td>6.208500</td>\n",
       "      <td>77.500000</td>\n",
       "      <td>19.050000</td>\n",
       "      <td>11.360000</td>\n",
       "      <td>21.200000</td>\n",
       "    </tr>\n",
       "    <tr>\n",
       "      <th>75%</th>\n",
       "      <td>3.677083</td>\n",
       "      <td>0.624000</td>\n",
       "      <td>6.623500</td>\n",
       "      <td>94.075000</td>\n",
       "      <td>20.200000</td>\n",
       "      <td>16.955000</td>\n",
       "      <td>25.000000</td>\n",
       "    </tr>\n",
       "    <tr>\n",
       "      <th>max</th>\n",
       "      <td>88.976200</td>\n",
       "      <td>0.871000</td>\n",
       "      <td>8.780000</td>\n",
       "      <td>100.000000</td>\n",
       "      <td>22.000000</td>\n",
       "      <td>37.970000</td>\n",
       "      <td>50.000000</td>\n",
       "    </tr>\n",
       "  </tbody>\n",
       "</table>\n",
       "</div>"
      ],
      "text/plain": [
       "             CRIM         NOX          RM         AGE     PTRATIO       LSTAT  \\\n",
       "count  506.000000  506.000000  506.000000  506.000000  506.000000  506.000000   \n",
       "mean     3.613524    0.554695    6.284634   68.574901   18.455534   12.653063   \n",
       "std      8.601545    0.115878    0.702617   28.148861    2.164946    7.141062   \n",
       "min      0.006320    0.385000    3.561000    2.900000   12.600000    1.730000   \n",
       "25%      0.082045    0.449000    5.885500   45.025000   17.400000    6.950000   \n",
       "50%      0.256510    0.538000    6.208500   77.500000   19.050000   11.360000   \n",
       "75%      3.677083    0.624000    6.623500   94.075000   20.200000   16.955000   \n",
       "max     88.976200    0.871000    8.780000  100.000000   22.000000   37.970000   \n",
       "\n",
       "            PRICE  \n",
       "count  506.000000  \n",
       "mean    22.532806  \n",
       "std      9.197104  \n",
       "min      5.000000  \n",
       "25%     17.025000  \n",
       "50%     21.200000  \n",
       "75%     25.000000  \n",
       "max     50.000000  "
      ]
     },
     "execution_count": 7,
     "metadata": {},
     "output_type": "execute_result"
    }
   ],
   "source": [
    "regression_df.describe()"
   ]
  },
  {
   "cell_type": "code",
   "execution_count": 8,
   "metadata": {
    "ExecuteTime": {
     "end_time": "2023-02-08T02:15:00.377085Z",
     "start_time": "2023-02-08T02:15:00.370103Z"
    },
    "executionInfo": {
     "elapsed": 5,
     "status": "ok",
     "timestamp": 1698803943370,
     "user": {
      "displayName": "Yvon Bilodeau",
      "userId": "10142856831792134633"
     },
     "user_tz": 420
    },
    "id": "rU0zM_dk6xDd"
   },
   "outputs": [],
   "source": [
    "# Define X and Y and complete the train test split\n",
    "X = regression_df.drop(columns = 'PRICE')\n",
    "y = regression_df['PRICE']\n",
    "\n",
    "X_train, X_test, y_train, y_test = train_test_split(X, y, random_state = 42)"
   ]
  },
  {
   "cell_type": "markdown",
   "metadata": {
    "id": "MqS765vN8Xti"
   },
   "source": [
    "## Scaling\n",
    "\n",
    "### Important Notes\n",
    "- Always scale your data for deep learning.  \n",
    "- Otherwise you get a problem call 'Exploding Weights'.  \n",
    "- Some weights will be updated much faster than others because the inputs are at larger scales.  \n",
    "- This tends to hurt learning as data on smaller scales does not update as fast and doesn't get to contribute as much to the decision making process.  \n",
    "- By scaling we put all features on the same footing."
   ]
  },
  {
   "cell_type": "code",
   "execution_count": 9,
   "metadata": {
    "ExecuteTime": {
     "end_time": "2023-02-08T02:15:00.384069Z",
     "start_time": "2023-02-08T02:15:00.377085Z"
    },
    "executionInfo": {
     "elapsed": 216,
     "status": "ok",
     "timestamp": 1698803943582,
     "user": {
      "displayName": "Yvon Bilodeau",
      "userId": "10142856831792134633"
     },
     "user_tz": 420
    },
    "id": "bvCCtAhQ7gGe"
   },
   "outputs": [],
   "source": [
    "# Scale the data\n",
    "scaler = MinMaxScaler()\n",
    "scaler.fit(X_train)\n",
    "X_train_proc = scaler.transform(X_train)\n",
    "X_test_proc = scaler.transform(X_test)"
   ]
  },
  {
   "cell_type": "markdown",
   "metadata": {
    "id": "BzX4RBcu8TFx"
   },
   "source": [
    "## First Simple Model\n",
    "\n",
    "We always want to start simple, as deep learning models can get very complex fast and more complex models take more time to train and are more prone to overfitting.  A well performing simple model is better than a well performing complex model.\n",
    "\n",
    "## Input layer\n",
    "The first layer we will define is not technically the input layer.  We will define the first hidden layer with a special argument that tells Keras how to create a input layer:\n",
    "\n",
    "`input_dim=`\n",
    "\n",
    "Input layers can also be defined manually using tensorflow.keras.layers.InputLayer\n",
    "\n",
    "## Activation function\n",
    "\n",
    "For the single hidden layer we will try just 3 nodes and use a ReLU activation.  ReLUs tend to perform well for hidden layers.\n",
    "\n",
    "## Output Layer\n",
    "\n",
    "For the output layer (last layer) we just use one node because we only want the output of the model to be one number.  We will use a linear activation function.  This will simply output the value from the weights and bias in the node with no change.  The output will be a continuous number, a float.  This will make our model a regression model.\n",
    "\n",
    "\n"
   ]
  },
  {
   "cell_type": "markdown",
   "metadata": {
    "id": "glnm6hhh4M6u"
   },
   "source": [
    "# Note:\n",
    "### The first layer you define will NOT be the input layer!  Keras will create an input layer on its own, implicitly."
   ]
  },
  {
   "cell_type": "code",
   "execution_count": 10,
   "metadata": {
    "ExecuteTime": {
     "end_time": "2023-02-08T02:23:47.149108Z",
     "start_time": "2023-02-08T02:23:47.117114Z"
    },
    "colab": {
     "base_uri": "https://localhost:8080/"
    },
    "executionInfo": {
     "elapsed": 191,
     "status": "ok",
     "timestamp": 1698803943771,
     "user": {
      "displayName": "Yvon Bilodeau",
      "userId": "10142856831792134633"
     },
     "user_tz": 420
    },
    "id": "AnjwY1dz7vcG",
    "outputId": "702a01f0-8afb-4f6d-e791-adc74722749a"
   },
   "outputs": [
    {
     "name": "stdout",
     "output_type": "stream",
     "text": [
      "Model: \"sequential\"\n",
      "_________________________________________________________________\n",
      " Layer (type)                Output Shape              Param #   \n",
      "=================================================================\n",
      " dense (Dense)               (None, 10)                70        \n",
      "                                                                 \n",
      " dense_1 (Dense)             (None, 10)                110       \n",
      "                                                                 \n",
      " dense_2 (Dense)             (None, 1)                 11        \n",
      "                                                                 \n",
      "=================================================================\n",
      "Total params: 191\n",
      "Trainable params: 191\n",
      "Non-trainable params: 0\n",
      "_________________________________________________________________\n"
     ]
    }
   ],
   "source": [
    "# Set Random Seeds\n",
    "keras.backend.clear_session()\n",
    "np.random.seed(42)\n",
    "tf.random.set_seed(42)\n",
    "\n",
    "# Instantiate your sequential model\n",
    "model = Sequential()\n",
    "# Add first hidden layer with 3 neurons THIS IS NOT THE INPUT LAYER!\n",
    "# Tell Keras how to construct the input layer shape using input_dim\n",
    "model.add(Dense(10, activation='relu', input_dim=X_train_proc.shape[1]))\n",
    "model.add(Dense(10, activation='relu'))\n",
    "\n",
    "# Add output layer with 1 node\n",
    "model.add(Dense(1, activation='linear'))\n",
    "\n",
    "# Check summary of network\n",
    "model.summary()\n",
    "# Compile your model.\n"
   ]
  },
  {
   "cell_type": "markdown",
   "metadata": {
    "id": "9wAFuCDGOBzo"
   },
   "source": [
    "## Compiling\n",
    "\n",
    "Compiling the model puts all the pieces together to make it ready to train.  \n",
    "\n",
    "For this step, we need to specify a few other hyperparameters:\n",
    "\n",
    "* **Optimizer:** An Adam optimizer is a favorite and often performs well, it's a good place to start.\n",
    "  - Other optimizers : Gradient Descent, Stochastic Gradient Descent, Adagrad, RMSProp\n",
    "* **Loss Function:** 'mse' or mean squared error.  This is the number our model will try to reduce in each epoch.  Since this is a regression model we want our model to minimize the mean squared error.  A loss function ALWAYS needs to be a measurement of the total error that the model can REDUCE.  R^2 won't work because higher is better. We don't want the model to reduce R^2!\n",
    "* **Metrics:** 'mae' or mean absolute error.  We can provide a list of any appropriate metrics we want the model to keep track at each epoch.\n",
    "\n",
    "\n"
   ]
  },
  {
   "cell_type": "code",
   "execution_count": 11,
   "metadata": {
    "ExecuteTime": {
     "end_time": "2023-02-08T02:23:47.508163Z",
     "start_time": "2023-02-08T02:23:47.499157Z"
    },
    "executionInfo": {
     "elapsed": 165,
     "status": "ok",
     "timestamp": 1698803943935,
     "user": {
      "displayName": "Yvon Bilodeau",
      "userId": "10142856831792134633"
     },
     "user_tz": 420
    },
    "id": "AwAGvWCZN1WC"
   },
   "outputs": [],
   "source": [
    "from tensorflow.keras.metrics import RootMeanSquaredError\n",
    "tf.keras.optimizers.legacy.Adam()\n",
    "\n",
    "rmse = RootMeanSquaredError()\n",
    "\n",
    "model.compile(loss='mse', optimizer='adam', metrics=['mae', rmse])"
   ]
  },
  {
   "cell_type": "markdown",
   "metadata": {
    "id": "sBvS_wkr_hEh"
   },
   "source": [
    "# Training (AKA fitting)\n",
    "\n",
    "Let's try training our model for 100 few epochs.  Sometimes that is enough, and it will give us an idea whether our model is learning anything."
   ]
  },
  {
   "cell_type": "code",
   "execution_count": 12,
   "metadata": {
    "ExecuteTime": {
     "end_time": "2023-02-08T02:23:54.798328Z",
     "start_time": "2023-02-08T02:23:48.643134Z"
    },
    "colab": {
     "base_uri": "https://localhost:8080/"
    },
    "executionInfo": {
     "elapsed": 22461,
     "status": "ok",
     "timestamp": 1698803966394,
     "user": {
      "displayName": "Yvon Bilodeau",
      "userId": "10142856831792134633"
     },
     "user_tz": 420
    },
    "id": "81VFx1n1-TS7",
    "outputId": "38986443-be8d-41c0-8a54-27c0bd8fe38b",
    "scrolled": true
   },
   "outputs": [
    {
     "name": "stdout",
     "output_type": "stream",
     "text": [
      "Epoch 1/100\n"
     ]
    },
    {
     "name": "stdout",
     "output_type": "stream",
     "text": [
      "12/12 [==============================] - 1s 16ms/step - loss: 613.0994 - mae: 22.9015 - root_mean_squared_error: 24.7608 - val_loss: 527.5496 - val_mae: 21.3908 - val_root_mean_squared_error: 22.9684\n",
      "Epoch 2/100\n",
      "12/12 [==============================] - 0s 3ms/step - loss: 611.5438 - mae: 22.8664 - root_mean_squared_error: 24.7294 - val_loss: 525.7264 - val_mae: 21.3468 - val_root_mean_squared_error: 22.9287\n",
      "Epoch 3/100\n",
      "12/12 [==============================] - 0s 3ms/step - loss: 609.2189 - mae: 22.8144 - root_mean_squared_error: 24.6824 - val_loss: 523.3010 - val_mae: 21.2890 - val_root_mean_squared_error: 22.8758\n",
      "Epoch 4/100\n",
      "12/12 [==============================] - 0s 4ms/step - loss: 606.4167 - mae: 22.7519 - root_mean_squared_error: 24.6255 - val_loss: 520.5705 - val_mae: 21.2235 - val_root_mean_squared_error: 22.8160\n",
      "Epoch 5/100\n",
      "12/12 [==============================] - 0s 4ms/step - loss: 603.2107 - mae: 22.6804 - root_mean_squared_error: 24.5603 - val_loss: 517.4674 - val_mae: 21.1481 - val_root_mean_squared_error: 22.7479\n",
      "Epoch 6/100\n",
      "12/12 [==============================] - 0s 3ms/step - loss: 599.5442 - mae: 22.5977 - root_mean_squared_error: 24.4856 - val_loss: 513.8907 - val_mae: 21.0604 - val_root_mean_squared_error: 22.6692\n",
      "Epoch 7/100\n",
      "12/12 [==============================] - 0s 4ms/step - loss: 595.3489 - mae: 22.5016 - root_mean_squared_error: 24.3998 - val_loss: 509.7100 - val_mae: 20.9572 - val_root_mean_squared_error: 22.5768\n",
      "Epoch 8/100\n",
      "12/12 [==============================] - 0s 3ms/step - loss: 590.4170 - mae: 22.3881 - root_mean_squared_error: 24.2985 - val_loss: 504.7488 - val_mae: 20.8336 - val_root_mean_squared_error: 22.4666\n",
      "Epoch 9/100\n",
      "12/12 [==============================] - 0s 3ms/step - loss: 584.5414 - mae: 22.2520 - root_mean_squared_error: 24.1773 - val_loss: 498.7656 - val_mae: 20.6833 - val_root_mean_squared_error: 22.3331\n",
      "Epoch 10/100\n",
      "12/12 [==============================] - 0s 4ms/step - loss: 577.4526 - mae: 22.0874 - root_mean_squared_error: 24.0302 - val_loss: 491.6277 - val_mae: 20.5023 - val_root_mean_squared_error: 22.1727\n",
      "Epoch 11/100\n",
      "12/12 [==============================] - 0s 3ms/step - loss: 569.0922 - mae: 21.8919 - root_mean_squared_error: 23.8557 - val_loss: 483.3183 - val_mae: 20.2896 - val_root_mean_squared_error: 21.9845\n",
      "Epoch 12/100\n",
      "12/12 [==============================] - 0s 3ms/step - loss: 559.4772 - mae: 21.6623 - root_mean_squared_error: 23.6533 - val_loss: 473.8445 - val_mae: 20.0438 - val_root_mean_squared_error: 21.7680\n",
      "Epoch 13/100\n",
      "12/12 [==============================] - 0s 3ms/step - loss: 548.6946 - mae: 21.3996 - root_mean_squared_error: 23.4242 - val_loss: 463.1174 - val_mae: 19.7613 - val_root_mean_squared_error: 21.5202\n",
      "Epoch 14/100\n",
      "12/12 [==============================] - 0s 3ms/step - loss: 536.3519 - mae: 21.1026 - root_mean_squared_error: 23.1593 - val_loss: 451.3392 - val_mae: 19.4457 - val_root_mean_squared_error: 21.2447\n",
      "Epoch 15/100\n",
      "12/12 [==============================] - 0s 2ms/step - loss: 523.0267 - mae: 20.7670 - root_mean_squared_error: 22.8698 - val_loss: 438.2115 - val_mae: 19.0870 - val_root_mean_squared_error: 20.9335\n",
      "Epoch 16/100\n",
      "12/12 [==============================] - 0s 4ms/step - loss: 508.1795 - mae: 20.3895 - root_mean_squared_error: 22.5428 - val_loss: 424.0072 - val_mae: 18.6902 - val_root_mean_squared_error: 20.5914\n",
      "Epoch 17/100\n",
      "12/12 [==============================] - 0s 3ms/step - loss: 492.3120 - mae: 19.9717 - root_mean_squared_error: 22.1881 - val_loss: 408.5722 - val_mae: 18.2479 - val_root_mean_squared_error: 20.2132\n",
      "Epoch 18/100\n",
      "12/12 [==============================] - 0s 2ms/step - loss: 474.8807 - mae: 19.5155 - root_mean_squared_error: 21.7918 - val_loss: 392.3507 - val_mae: 17.7697 - val_root_mean_squared_error: 19.8078\n",
      "Epoch 19/100\n",
      "12/12 [==============================] - 0s 3ms/step - loss: 456.6667 - mae: 19.0180 - root_mean_squared_error: 21.3698 - val_loss: 375.0945 - val_mae: 17.2557 - val_root_mean_squared_error: 19.3674\n",
      "Epoch 20/100\n",
      "12/12 [==============================] - 0s 3ms/step - loss: 437.5947 - mae: 18.4774 - root_mean_squared_error: 20.9188 - val_loss: 356.9518 - val_mae: 16.6960 - val_root_mean_squared_error: 18.8932\n",
      "Epoch 21/100\n",
      "12/12 [==============================] - 0s 3ms/step - loss: 417.2397 - mae: 17.9078 - root_mean_squared_error: 20.4264 - val_loss: 338.5076 - val_mae: 16.1082 - val_root_mean_squared_error: 18.3986\n",
      "Epoch 22/100\n",
      "12/12 [==============================] - 0s 3ms/step - loss: 396.6318 - mae: 17.2964 - root_mean_squared_error: 19.9156 - val_loss: 319.5600 - val_mae: 15.4881 - val_root_mean_squared_error: 17.8762\n",
      "Epoch 23/100\n",
      "12/12 [==============================] - 0s 3ms/step - loss: 375.3985 - mae: 16.6636 - root_mean_squared_error: 19.3752 - val_loss: 300.5396 - val_mae: 14.8620 - val_root_mean_squared_error: 17.3361\n",
      "Epoch 24/100\n",
      "12/12 [==============================] - 0s 3ms/step - loss: 354.2716 - mae: 16.0213 - root_mean_squared_error: 18.8221 - val_loss: 281.1366 - val_mae: 14.2026 - val_root_mean_squared_error: 16.7671\n",
      "Epoch 25/100\n",
      "12/12 [==============================] - 0s 3ms/step - loss: 332.1631 - mae: 15.3508 - root_mean_squared_error: 18.2253 - val_loss: 261.9071 - val_mae: 13.5254 - val_root_mean_squared_error: 16.1835\n",
      "Epoch 26/100\n",
      "12/12 [==============================] - 0s 3ms/step - loss: 310.1820 - mae: 14.6522 - root_mean_squared_error: 17.6120 - val_loss: 242.6415 - val_mae: 12.8705 - val_root_mean_squared_error: 15.5770\n",
      "Epoch 27/100\n",
      "12/12 [==============================] - 0s 3ms/step - loss: 288.4595 - mae: 13.9116 - root_mean_squared_error: 16.9841 - val_loss: 223.8560 - val_mae: 12.1969 - val_root_mean_squared_error: 14.9618\n",
      "Epoch 28/100\n",
      "12/12 [==============================] - 0s 3ms/step - loss: 267.0644 - mae: 13.1997 - root_mean_squared_error: 16.3421 - val_loss: 206.3700 - val_mae: 11.5475 - val_root_mean_squared_error: 14.3656\n",
      "Epoch 29/100\n",
      "12/12 [==============================] - 0s 3ms/step - loss: 247.3709 - mae: 12.5561 - root_mean_squared_error: 15.7280 - val_loss: 190.1486 - val_mae: 10.9569 - val_root_mean_squared_error: 13.7894\n",
      "Epoch 30/100\n",
      "12/12 [==============================] - 0s 3ms/step - loss: 229.4871 - mae: 11.9702 - root_mean_squared_error: 15.1488 - val_loss: 175.4861 - val_mae: 10.4702 - val_root_mean_squared_error: 13.2471\n",
      "Epoch 31/100\n",
      "12/12 [==============================] - 0s 3ms/step - loss: 212.4597 - mae: 11.4391 - root_mean_squared_error: 14.5760 - val_loss: 163.2569 - val_mae: 10.0670 - val_root_mean_squared_error: 12.7772\n",
      "Epoch 32/100\n",
      "12/12 [==============================] - 0s 3ms/step - loss: 198.2937 - mae: 11.0464 - root_mean_squared_error: 14.0817 - val_loss: 152.6972 - val_mae: 9.7193 - val_root_mean_squared_error: 12.3571\n",
      "Epoch 33/100\n",
      "12/12 [==============================] - 0s 3ms/step - loss: 185.9109 - mae: 10.6764 - root_mean_squared_error: 13.6349 - val_loss: 144.0057 - val_mae: 9.4343 - val_root_mean_squared_error: 12.0002\n",
      "Epoch 34/100\n",
      "12/12 [==============================] - 0s 4ms/step - loss: 175.3258 - mae: 10.3602 - root_mean_squared_error: 13.2411 - val_loss: 137.1798 - val_mae: 9.1734 - val_root_mean_squared_error: 11.7124\n",
      "Epoch 35/100\n",
      "12/12 [==============================] - 0s 3ms/step - loss: 166.4739 - mae: 10.0887 - root_mean_squared_error: 12.9025 - val_loss: 132.0523 - val_mae: 8.9629 - val_root_mean_squared_error: 11.4914\n",
      "Epoch 36/100\n",
      "12/12 [==============================] - 0s 3ms/step - loss: 160.0364 - mae: 9.8929 - root_mean_squared_error: 12.6505 - val_loss: 127.7831 - val_mae: 8.7778 - val_root_mean_squared_error: 11.3041\n",
      "Epoch 37/100\n",
      "12/12 [==============================] - 0s 3ms/step - loss: 153.9736 - mae: 9.6958 - root_mean_squared_error: 12.4086 - val_loss: 124.8099 - val_mae: 8.6465 - val_root_mean_squared_error: 11.1718\n",
      "Epoch 38/100\n",
      "12/12 [==============================] - 0s 3ms/step - loss: 149.9086 - mae: 9.5752 - root_mean_squared_error: 12.2437 - val_loss: 122.4882 - val_mae: 8.5460 - val_root_mean_squared_error: 11.0674\n",
      "Epoch 39/100\n",
      "12/12 [==============================] - 0s 3ms/step - loss: 145.9247 - mae: 9.4604 - root_mean_squared_error: 12.0799 - val_loss: 120.8565 - val_mae: 8.4660 - val_root_mean_squared_error: 10.9935\n",
      "Epoch 40/100\n",
      "12/12 [==============================] - 0s 3ms/step - loss: 143.2863 - mae: 9.3925 - root_mean_squared_error: 11.9702 - val_loss: 119.5349 - val_mae: 8.4025 - val_root_mean_squared_error: 10.9332\n",
      "Epoch 41/100\n",
      "12/12 [==============================] - 0s 3ms/step - loss: 140.9012 - mae: 9.3224 - root_mean_squared_error: 11.8702 - val_loss: 118.4630 - val_mae: 8.3613 - val_root_mean_squared_error: 10.8841\n",
      "Epoch 42/100\n",
      "12/12 [==============================] - 0s 3ms/step - loss: 138.9095 - mae: 9.2689 - root_mean_squared_error: 11.7860 - val_loss: 117.5079 - val_mae: 8.3232 - val_root_mean_squared_error: 10.8401\n",
      "Epoch 43/100\n",
      "12/12 [==============================] - 0s 3ms/step - loss: 137.1533 - mae: 9.2196 - root_mean_squared_error: 11.7112 - val_loss: 116.5499 - val_mae: 8.2855 - val_root_mean_squared_error: 10.7958\n",
      "Epoch 44/100\n",
      "12/12 [==============================] - 0s 3ms/step - loss: 135.5327 - mae: 9.1661 - root_mean_squared_error: 11.6418 - val_loss: 115.5750 - val_mae: 8.2454 - val_root_mean_squared_error: 10.7506\n",
      "Epoch 45/100\n",
      "12/12 [==============================] - 0s 3ms/step - loss: 134.1412 - mae: 9.1246 - root_mean_squared_error: 11.5819 - val_loss: 114.7746 - val_mae: 8.2132 - val_root_mean_squared_error: 10.7133\n",
      "Epoch 46/100\n",
      "12/12 [==============================] - 0s 3ms/step - loss: 132.6276 - mae: 9.0733 - root_mean_squared_error: 11.5164 - val_loss: 113.7475 - val_mae: 8.1722 - val_root_mean_squared_error: 10.6652\n",
      "Epoch 47/100\n",
      "12/12 [==============================] - 0s 4ms/step - loss: 131.3176 - mae: 9.0264 - root_mean_squared_error: 11.4594 - val_loss: 112.7130 - val_mae: 8.1302 - val_root_mean_squared_error: 10.6166\n",
      "Epoch 48/100\n",
      "12/12 [==============================] - 0s 4ms/step - loss: 129.9523 - mae: 8.9795 - root_mean_squared_error: 11.3997 - val_loss: 111.7401 - val_mae: 8.0914 - val_root_mean_squared_error: 10.5707\n",
      "Epoch 49/100\n",
      "12/12 [==============================] - 0s 3ms/step - loss: 128.7159 - mae: 8.9371 - root_mean_squared_error: 11.3453 - val_loss: 110.9136 - val_mae: 8.0596 - val_root_mean_squared_error: 10.5316\n",
      "Epoch 50/100\n",
      "12/12 [==============================] - 0s 3ms/step - loss: 127.4432 - mae: 8.8918 - root_mean_squared_error: 11.2891 - val_loss: 109.9221 - val_mae: 8.0211 - val_root_mean_squared_error: 10.4844\n",
      "Epoch 51/100\n",
      "12/12 [==============================] - 0s 4ms/step - loss: 126.1631 - mae: 8.8444 - root_mean_squared_error: 11.2322 - val_loss: 108.8314 - val_mae: 7.9766 - val_root_mean_squared_error: 10.4322\n",
      "Epoch 52/100\n",
      "12/12 [==============================] - 0s 3ms/step - loss: 124.9425 - mae: 8.7962 - root_mean_squared_error: 11.1778 - val_loss: 107.8206 - val_mae: 7.9363 - val_root_mean_squared_error: 10.3837\n",
      "Epoch 53/100\n",
      "12/12 [==============================] - 0s 4ms/step - loss: 123.6703 - mae: 8.7478 - root_mean_squared_error: 11.1207 - val_loss: 106.7598 - val_mae: 7.8921 - val_root_mean_squared_error: 10.3325\n",
      "Epoch 54/100\n",
      "12/12 [==============================] - 0s 4ms/step - loss: 122.5126 - mae: 8.7007 - root_mean_squared_error: 11.0685 - val_loss: 105.7904 - val_mae: 7.8528 - val_root_mean_squared_error: 10.2854\n",
      "Epoch 55/100\n",
      "12/12 [==============================] - 0s 3ms/step - loss: 121.2673 - mae: 8.6530 - root_mean_squared_error: 11.0121 - val_loss: 104.5771 - val_mae: 7.8002 - val_root_mean_squared_error: 10.2263\n",
      "Epoch 56/100\n",
      "12/12 [==============================] - 0s 2ms/step - loss: 120.0760 - mae: 8.6027 - root_mean_squared_error: 10.9579 - val_loss: 103.5484 - val_mae: 7.7571 - val_root_mean_squared_error: 10.1759\n",
      "Epoch 57/100\n",
      "12/12 [==============================] - 0s 4ms/step - loss: 118.8420 - mae: 8.5549 - root_mean_squared_error: 10.9015 - val_loss: 102.6121 - val_mae: 7.7176 - val_root_mean_squared_error: 10.1298\n",
      "Epoch 58/100\n",
      "12/12 [==============================] - 0s 3ms/step - loss: 117.6440 - mae: 8.5062 - root_mean_squared_error: 10.8464 - val_loss: 101.4570 - val_mae: 7.6668 - val_root_mean_squared_error: 10.0726\n",
      "Epoch 59/100\n",
      "12/12 [==============================] - 0s 2ms/step - loss: 116.5000 - mae: 8.4612 - root_mean_squared_error: 10.7935 - val_loss: 100.6429 - val_mae: 7.6336 - val_root_mean_squared_error: 10.0321\n",
      "Epoch 60/100\n",
      "12/12 [==============================] - 0s 4ms/step - loss: 115.2417 - mae: 8.4132 - root_mean_squared_error: 10.7351 - val_loss: 99.6161 - val_mae: 7.5894 - val_root_mean_squared_error: 9.9808\n",
      "Epoch 61/100\n",
      "12/12 [==============================] - 0s 4ms/step - loss: 114.0430 - mae: 8.3633 - root_mean_squared_error: 10.6791 - val_loss: 98.5112 - val_mae: 7.5402 - val_root_mean_squared_error: 9.9253\n",
      "Epoch 62/100\n",
      "12/12 [==============================] - 0s 4ms/step - loss: 112.8540 - mae: 8.3158 - root_mean_squared_error: 10.6233 - val_loss: 97.5586 - val_mae: 7.4993 - val_root_mean_squared_error: 9.8772\n",
      "Epoch 63/100\n",
      "12/12 [==============================] - 0s 3ms/step - loss: 111.6743 - mae: 8.2616 - root_mean_squared_error: 10.5676 - val_loss: 96.2312 - val_mae: 7.4366 - val_root_mean_squared_error: 9.8098\n",
      "Epoch 64/100\n",
      "12/12 [==============================] - 0s 3ms/step - loss: 110.5180 - mae: 8.2078 - root_mean_squared_error: 10.5128 - val_loss: 95.2869 - val_mae: 7.3959 - val_root_mean_squared_error: 9.7615\n",
      "Epoch 65/100\n",
      "12/12 [==============================] - 0s 3ms/step - loss: 109.2876 - mae: 8.1591 - root_mean_squared_error: 10.4541 - val_loss: 94.2844 - val_mae: 7.3516 - val_root_mean_squared_error: 9.7100\n",
      "Epoch 66/100\n",
      "12/12 [==============================] - 0s 3ms/step - loss: 108.1476 - mae: 8.1155 - root_mean_squared_error: 10.3994 - val_loss: 93.4204 - val_mae: 7.3154 - val_root_mean_squared_error: 9.6654\n",
      "Epoch 67/100\n",
      "12/12 [==============================] - 0s 4ms/step - loss: 106.9134 - mae: 8.0594 - root_mean_squared_error: 10.3399 - val_loss: 92.1947 - val_mae: 7.2571 - val_root_mean_squared_error: 9.6018\n",
      "Epoch 68/100\n",
      "12/12 [==============================] - 0s 3ms/step - loss: 105.6999 - mae: 8.0048 - root_mean_squared_error: 10.2810 - val_loss: 91.1262 - val_mae: 7.2080 - val_root_mean_squared_error: 9.5460\n",
      "Epoch 69/100\n",
      "12/12 [==============================] - 0s 3ms/step - loss: 104.5544 - mae: 7.9524 - root_mean_squared_error: 10.2252 - val_loss: 90.0163 - val_mae: 7.1569 - val_root_mean_squared_error: 9.4877\n",
      "Epoch 70/100\n",
      "12/12 [==============================] - 0s 3ms/step - loss: 103.3946 - mae: 7.9039 - root_mean_squared_error: 10.1683 - val_loss: 89.1654 - val_mae: 7.1247 - val_root_mean_squared_error: 9.4427\n",
      "Epoch 71/100\n",
      "12/12 [==============================] - 0s 3ms/step - loss: 102.1900 - mae: 7.8530 - root_mean_squared_error: 10.1089 - val_loss: 88.1371 - val_mae: 7.0788 - val_root_mean_squared_error: 9.3881\n",
      "Epoch 72/100\n",
      "12/12 [==============================] - 0s 4ms/step - loss: 100.9670 - mae: 7.7957 - root_mean_squared_error: 10.0482 - val_loss: 86.9113 - val_mae: 7.0170 - val_root_mean_squared_error: 9.3226\n",
      "Epoch 73/100\n",
      "12/12 [==============================] - 0s 2ms/step - loss: 99.8131 - mae: 7.7495 - root_mean_squared_error: 9.9906 - val_loss: 86.1169 - val_mae: 6.9858 - val_root_mean_squared_error: 9.2799\n",
      "Epoch 74/100\n",
      "12/12 [==============================] - 0s 3ms/step - loss: 98.6010 - mae: 7.6922 - root_mean_squared_error: 9.9298 - val_loss: 84.9923 - val_mae: 6.9308 - val_root_mean_squared_error: 9.2191\n",
      "Epoch 75/100\n",
      "12/12 [==============================] - 0s 2ms/step - loss: 97.4910 - mae: 7.6471 - root_mean_squared_error: 9.8738 - val_loss: 84.0678 - val_mae: 6.8898 - val_root_mean_squared_error: 9.1688\n",
      "Epoch 76/100\n",
      "12/12 [==============================] - 0s 4ms/step - loss: 96.2993 - mae: 7.5834 - root_mean_squared_error: 9.8132 - val_loss: 82.7520 - val_mae: 6.8206 - val_root_mean_squared_error: 9.0968\n",
      "Epoch 77/100\n",
      "12/12 [==============================] - 0s 3ms/step - loss: 95.0109 - mae: 7.5265 - root_mean_squared_error: 9.7474 - val_loss: 81.7661 - val_mae: 6.7742 - val_root_mean_squared_error: 9.0425\n",
      "Epoch 78/100\n",
      "12/12 [==============================] - 0s 3ms/step - loss: 93.9746 - mae: 7.4713 - root_mean_squared_error: 9.6941 - val_loss: 80.5146 - val_mae: 6.7092 - val_root_mean_squared_error: 8.9730\n",
      "Epoch 79/100\n",
      "12/12 [==============================] - 0s 3ms/step - loss: 92.8200 - mae: 7.4235 - root_mean_squared_error: 9.6343 - val_loss: 79.9559 - val_mae: 6.6916 - val_root_mean_squared_error: 8.9418\n",
      "Epoch 80/100\n",
      "12/12 [==============================] - 0s 3ms/step - loss: 91.4709 - mae: 7.3692 - root_mean_squared_error: 9.5640 - val_loss: 78.7532 - val_mae: 6.6272 - val_root_mean_squared_error: 8.8743\n",
      "Epoch 81/100\n",
      "12/12 [==============================] - 0s 3ms/step - loss: 90.2673 - mae: 7.3082 - root_mean_squared_error: 9.5009 - val_loss: 77.6953 - val_mae: 6.5725 - val_root_mean_squared_error: 8.8145\n",
      "Epoch 82/100\n",
      "12/12 [==============================] - 0s 3ms/step - loss: 89.1219 - mae: 7.2500 - root_mean_squared_error: 9.4404 - val_loss: 76.4868 - val_mae: 6.5082 - val_root_mean_squared_error: 8.7457\n",
      "Epoch 83/100\n",
      "12/12 [==============================] - 0s 3ms/step - loss: 87.8956 - mae: 7.1932 - root_mean_squared_error: 9.3753 - val_loss: 75.5453 - val_mae: 6.4609 - val_root_mean_squared_error: 8.6917\n",
      "Epoch 84/100\n",
      "12/12 [==============================] - 0s 3ms/step - loss: 86.7415 - mae: 7.1381 - root_mean_squared_error: 9.3135 - val_loss: 74.5804 - val_mae: 6.4116 - val_root_mean_squared_error: 8.6360\n",
      "Epoch 85/100\n",
      "12/12 [==============================] - 0s 3ms/step - loss: 85.5059 - mae: 7.0786 - root_mean_squared_error: 9.2469 - val_loss: 73.4959 - val_mae: 6.3525 - val_root_mean_squared_error: 8.5730\n",
      "Epoch 86/100\n",
      "12/12 [==============================] - 0s 3ms/step - loss: 84.3870 - mae: 7.0232 - root_mean_squared_error: 9.1862 - val_loss: 72.4939 - val_mae: 6.2998 - val_root_mean_squared_error: 8.5143\n",
      "Epoch 87/100\n",
      "12/12 [==============================] - 0s 3ms/step - loss: 83.1358 - mae: 6.9641 - root_mean_squared_error: 9.1179 - val_loss: 71.3695 - val_mae: 6.2374 - val_root_mean_squared_error: 8.4480\n",
      "Epoch 88/100\n",
      "12/12 [==============================] - 0s 4ms/step - loss: 81.9512 - mae: 6.8976 - root_mean_squared_error: 9.0527 - val_loss: 70.2214 - val_mae: 6.1733 - val_root_mean_squared_error: 8.3798\n",
      "Epoch 89/100\n",
      "12/12 [==============================] - 0s 3ms/step - loss: 80.7246 - mae: 6.8358 - root_mean_squared_error: 8.9847 - val_loss: 69.1185 - val_mae: 6.1126 - val_root_mean_squared_error: 8.3138\n",
      "Epoch 90/100\n",
      "12/12 [==============================] - 0s 3ms/step - loss: 79.5613 - mae: 6.7751 - root_mean_squared_error: 8.9197 - val_loss: 68.1660 - val_mae: 6.0672 - val_root_mean_squared_error: 8.2563\n",
      "Epoch 91/100\n",
      "12/12 [==============================] - 0s 3ms/step - loss: 78.3379 - mae: 6.7161 - root_mean_squared_error: 8.8509 - val_loss: 67.1377 - val_mae: 6.0151 - val_root_mean_squared_error: 8.1938\n",
      "Epoch 92/100\n",
      "12/12 [==============================] - 0s 3ms/step - loss: 77.1297 - mae: 6.6580 - root_mean_squared_error: 8.7824 - val_loss: 66.1643 - val_mae: 5.9670 - val_root_mean_squared_error: 8.1341\n",
      "Epoch 93/100\n",
      "12/12 [==============================] - 0s 4ms/step - loss: 75.9478 - mae: 6.5994 - root_mean_squared_error: 8.7148 - val_loss: 64.9977 - val_mae: 5.9020 - val_root_mean_squared_error: 8.0621\n",
      "Epoch 94/100\n",
      "12/12 [==============================] - 0s 4ms/step - loss: 74.7439 - mae: 6.5306 - root_mean_squared_error: 8.6455 - val_loss: 63.9570 - val_mae: 5.8490 - val_root_mean_squared_error: 7.9973\n",
      "Epoch 95/100\n",
      "12/12 [==============================] - 0s 3ms/step - loss: 73.5450 - mae: 6.4686 - root_mean_squared_error: 8.5758 - val_loss: 62.9379 - val_mae: 5.7974 - val_root_mean_squared_error: 7.9333\n",
      "Epoch 96/100\n",
      "12/12 [==============================] - 0s 3ms/step - loss: 72.3739 - mae: 6.3990 - root_mean_squared_error: 8.5073 - val_loss: 61.7357 - val_mae: 5.7296 - val_root_mean_squared_error: 7.8572\n",
      "Epoch 97/100\n",
      "12/12 [==============================] - 0s 3ms/step - loss: 71.1436 - mae: 6.3396 - root_mean_squared_error: 8.4347 - val_loss: 60.8510 - val_mae: 5.6913 - val_root_mean_squared_error: 7.8007\n",
      "Epoch 98/100\n",
      "12/12 [==============================] - 0s 3ms/step - loss: 69.9595 - mae: 6.2754 - root_mean_squared_error: 8.3642 - val_loss: 59.7469 - val_mae: 5.6312 - val_root_mean_squared_error: 7.7296\n",
      "Epoch 99/100\n",
      "12/12 [==============================] - 0s 3ms/step - loss: 68.8819 - mae: 6.2267 - root_mean_squared_error: 8.2995 - val_loss: 58.9643 - val_mae: 5.5996 - val_root_mean_squared_error: 7.6788\n",
      "Epoch 100/100\n",
      "12/12 [==============================] - 0s 3ms/step - loss: 67.6236 - mae: 6.1533 - root_mean_squared_error: 8.2234 - val_loss: 57.7212 - val_mae: 5.5258 - val_root_mean_squared_error: 7.5974\n"
     ]
    }
   ],
   "source": [
    "# Fit your model\n",
    "\n",
    "# Fit your model\n",
    "# tf.keras.optimizers.legacy.Adam()\n",
    "\n",
    "history = model.fit(X_train_proc, y_train,\n",
    "                        validation_data = (X_test_proc, y_test),\n",
    "                        epochs = 100)"
   ]
  },
  {
   "cell_type": "code",
   "execution_count": 13,
   "metadata": {
    "ExecuteTime": {
     "end_time": "2023-02-08T02:23:55.237007Z",
     "start_time": "2023-02-08T02:23:54.799327Z"
    },
    "colab": {
     "base_uri": "https://localhost:8080/",
     "height": 1000
    },
    "executionInfo": {
     "elapsed": 816,
     "status": "ok",
     "timestamp": 1698803967207,
     "user": {
      "displayName": "Yvon Bilodeau",
      "userId": "10142856831792134633"
     },
     "user_tz": 420
    },
    "id": "q8Kox9hOOq7w",
    "outputId": "5b8cc291-1371-4b95-a2a1-67dff8477e19"
   },
   "outputs": [
    {
     "data": {
      "image/png": "[encoded data removed]",
      "text/plain": [
       "<Figure size 640x480 with 1 Axes>"
      ]
     },
     "metadata": {},
     "output_type": "display_data"
    },
    {
     "data": {
      "image/png": "[encoded data removed]",
      "text/plain": [
       "<Figure size 640x480 with 1 Axes>"
      ]
     },
     "metadata": {},
     "output_type": "display_data"
    },
    {
     "data": {
      "image/png": "[encoded data removed]",
      "text/plain": [
       "<Figure size 640x480 with 1 Axes>"
      ]
     },
     "metadata": {},
     "output_type": "display_data"
    }
   ],
   "source": [
    "# Apply the custom function plot_history() to see how your model is doing\n",
    "plot_history(history)"
   ]
  },
  {
   "cell_type": "markdown",
   "metadata": {
    "id": "1Ic8eFsL_x2m"
   },
   "source": [
    "## Evaluation\n"
   ]
  },
  {
   "cell_type": "code",
   "execution_count": 14,
   "metadata": {
    "ExecuteTime": {
     "end_time": "2023-02-08T02:24:13.846087Z",
     "start_time": "2023-02-08T02:24:13.638158Z"
    },
    "colab": {
     "base_uri": "https://localhost:8080/",
     "height": 176
    },
    "executionInfo": {
     "elapsed": 244,
     "status": "ok",
     "timestamp": 1698803967448,
     "user": {
      "displayName": "Yvon Bilodeau",
      "userId": "10142856831792134633"
     },
     "user_tz": 420
    },
    "id": "33J5dOt3A8ZO",
    "outputId": "53d33b0a-4c41-470d-e0e1-b3c9584b0f66"
   },
   "outputs": [
    {
     "name": "stdout",
     "output_type": "stream",
     "text": [
      "12/12 [==============================] - 0s 0s/step\n",
      "4/4 [==============================] - 0s 0s/step\n"
     ]
    },
    {
     "data": {
      "text/html": [
       "<div>\n",
       "<style scoped>\n",
       "    .dataframe tbody tr th:only-of-type {\n",
       "        vertical-align: middle;\n",
       "    }\n",
       "\n",
       "    .dataframe tbody tr th {\n",
       "        vertical-align: top;\n",
       "    }\n",
       "\n",
       "    .dataframe thead th {\n",
       "        text-align: right;\n",
       "    }\n",
       "</style>\n",
       "<table border=\"1\" class=\"dataframe\">\n",
       "  <thead>\n",
       "    <tr style=\"text-align: right;\">\n",
       "      <th></th>\n",
       "      <th>RMSE</th>\n",
       "      <th>MAE</th>\n",
       "      <th>R2</th>\n",
       "    </tr>\n",
       "    <tr>\n",
       "      <th>Model Name</th>\n",
       "      <th></th>\n",
       "      <th></th>\n",
       "      <th></th>\n",
       "    </tr>\n",
       "  </thead>\n",
       "  <tbody>\n",
       "    <tr>\n",
       "      <th>base_reg_train</th>\n",
       "      <td>351.022152</td>\n",
       "      <td>337.695173</td>\n",
       "      <td>-1388.424283</td>\n",
       "    </tr>\n",
       "    <tr>\n",
       "      <th>base_reg_test</th>\n",
       "      <td>337.750166</td>\n",
       "      <td>324.761577</td>\n",
       "      <td>-1628.013675</td>\n",
       "    </tr>\n",
       "  </tbody>\n",
       "</table>\n",
       "</div>"
      ],
      "text/plain": [
       "                      RMSE         MAE           R2\n",
       "Model Name                                         \n",
       "base_reg_train  351.022152  337.695173 -1388.424283\n",
       "base_reg_test   337.750166  324.761577 -1628.013675"
      ]
     },
     "execution_count": 14,
     "metadata": {},
     "output_type": "execute_result"
    }
   ],
   "source": [
    "# Make predictions and evaluate your model\n",
    "train_preds = model.predict(X_train)\n",
    "test_preds = model.predict(X_test)\n",
    "\n",
    "train_scores = eval_regression(y_train, train_preds, name='base_reg_train')\n",
    "test_scores = eval_regression(y_test, test_preds, name='base_reg_test')\n",
    "\n",
    "reg_scores = pd.concat([train_scores, test_scores])\n",
    "reg_scores"
   ]
  },
  {
   "cell_type": "markdown",
   "metadata": {
    "id": "TvQ16n8x7RWb"
   },
   "source": [
    "# <center> Temperature Check: </center>\n",
    "## On a scale of 0 - 5, how confident do you feel in coding neural networks?\n",
    "\n",
    "0. What is a neural net?\n",
    "1. I know what a neural net is, but I don't know how to even start coding one.\n",
    "2. I kinda get how the code flows, but need help from someone else to create my own.\n",
    "3. I understand the general idea, and could code a neural net in Keras if I had an example in front of me.\n",
    "4. I feel confident in coding a neural network with some reference materials.\n",
    "5. Move over, Josh.  I can finish this code-along."
   ]
  },
  {
   "cell_type": "markdown",
   "metadata": {
    "id": "NWaTq6c7FHlr"
   },
   "source": [
    "\n",
    "# 🦾 Your Turn: Classification Models in Keras\n",
    "\n",
    "Classification models are similar, except that we need to adjust:\n",
    "* The final activation of the output layer, and\n",
    "* The loss function and metrics in the compile step.\n",
    "\n",
    "We will also need to do some processing of the predictions after training to make them integers instead of floats.\n",
    "\n",
    "### Remember:\n",
    "MAE, MSE, RMSE, and R2 are regression metrics,\n",
    "\n",
    "accuracy, recall, precision, and F1-Score are classification metrics.\n",
    "\n",
    "## Classification Dataset\n",
    "The classification dataset describes diabetes rates among Pima Indians.  Each row is a person and this dataset includes features regarding health related measurements.  The target is binary and represents whether or not a person will be diagnosed with diabetes.  This is another old dataset first presented in 1988.\n",
    "\n"
   ]
  },
  {
   "cell_type": "code",
   "execution_count": 15,
   "metadata": {
    "colab": {
     "base_uri": "https://localhost:8080/",
     "height": 204
    },
    "executionInfo": {
     "elapsed": 17,
     "status": "ok",
     "timestamp": 1698803967448,
     "user": {
      "displayName": "Yvon Bilodeau",
      "userId": "10142856831792134633"
     },
     "user_tz": 420
    },
    "id": "CN1zHoGcGeFN",
    "outputId": "f0c37e65-f3e9-49fb-c46b-c42d66ef7117"
   },
   "outputs": [
    {
     "data": {
      "text/html": [
       "<div>\n",
       "<style scoped>\n",
       "    .dataframe tbody tr th:only-of-type {\n",
       "        vertical-align: middle;\n",
       "    }\n",
       "\n",
       "    .dataframe tbody tr th {\n",
       "        vertical-align: top;\n",
       "    }\n",
       "\n",
       "    .dataframe thead th {\n",
       "        text-align: right;\n",
       "    }\n",
       "</style>\n",
       "<table border=\"1\" class=\"dataframe\">\n",
       "  <thead>\n",
       "    <tr style=\"text-align: right;\">\n",
       "      <th></th>\n",
       "      <th>Pregnancies</th>\n",
       "      <th>Glucose</th>\n",
       "      <th>BloodPressure</th>\n",
       "      <th>SkinThickness</th>\n",
       "      <th>Insulin</th>\n",
       "      <th>BMI</th>\n",
       "      <th>DiabetesPedigreeFunction</th>\n",
       "      <th>Age</th>\n",
       "      <th>Outcome</th>\n",
       "    </tr>\n",
       "  </thead>\n",
       "  <tbody>\n",
       "    <tr>\n",
       "      <th>0</th>\n",
       "      <td>6</td>\n",
       "      <td>148</td>\n",
       "      <td>72</td>\n",
       "      <td>35</td>\n",
       "      <td>0</td>\n",
       "      <td>33.6</td>\n",
       "      <td>0.627</td>\n",
       "      <td>50</td>\n",
       "      <td>1</td>\n",
       "    </tr>\n",
       "    <tr>\n",
       "      <th>1</th>\n",
       "      <td>1</td>\n",
       "      <td>85</td>\n",
       "      <td>66</td>\n",
       "      <td>29</td>\n",
       "      <td>0</td>\n",
       "      <td>26.6</td>\n",
       "      <td>0.351</td>\n",
       "      <td>31</td>\n",
       "      <td>0</td>\n",
       "    </tr>\n",
       "    <tr>\n",
       "      <th>2</th>\n",
       "      <td>8</td>\n",
       "      <td>183</td>\n",
       "      <td>64</td>\n",
       "      <td>0</td>\n",
       "      <td>0</td>\n",
       "      <td>23.3</td>\n",
       "      <td>0.672</td>\n",
       "      <td>32</td>\n",
       "      <td>1</td>\n",
       "    </tr>\n",
       "    <tr>\n",
       "      <th>3</th>\n",
       "      <td>1</td>\n",
       "      <td>89</td>\n",
       "      <td>66</td>\n",
       "      <td>23</td>\n",
       "      <td>94</td>\n",
       "      <td>28.1</td>\n",
       "      <td>0.167</td>\n",
       "      <td>21</td>\n",
       "      <td>0</td>\n",
       "    </tr>\n",
       "    <tr>\n",
       "      <th>4</th>\n",
       "      <td>0</td>\n",
       "      <td>137</td>\n",
       "      <td>40</td>\n",
       "      <td>35</td>\n",
       "      <td>168</td>\n",
       "      <td>43.1</td>\n",
       "      <td>2.288</td>\n",
       "      <td>33</td>\n",
       "      <td>1</td>\n",
       "    </tr>\n",
       "  </tbody>\n",
       "</table>\n",
       "</div>"
      ],
      "text/plain": [
       "   Pregnancies  Glucose  BloodPressure  SkinThickness  Insulin   BMI  \\\n",
       "0            6      148             72             35        0  33.6   \n",
       "1            1       85             66             29        0  26.6   \n",
       "2            8      183             64              0        0  23.3   \n",
       "3            1       89             66             23       94  28.1   \n",
       "4            0      137             40             35      168  43.1   \n",
       "\n",
       "   DiabetesPedigreeFunction  Age  Outcome  \n",
       "0                     0.627   50        1  \n",
       "1                     0.351   31        0  \n",
       "2                     0.672   32        1  \n",
       "3                     0.167   21        0  \n",
       "4                     2.288   33        1  "
      ]
     },
     "execution_count": 15,
     "metadata": {},
     "output_type": "execute_result"
    }
   ],
   "source": [
    "classification_df = pd.read_csv('https://raw.githubusercontent.com/ninja-josh/image-storage/main/diabetes.csv')\n",
    "classification_df.head()"
   ]
  },
  {
   "cell_type": "code",
   "execution_count": 16,
   "metadata": {
    "colab": {
     "base_uri": "https://localhost:8080/"
    },
    "executionInfo": {
     "elapsed": 16,
     "status": "ok",
     "timestamp": 1698803967448,
     "user": {
      "displayName": "Yvon Bilodeau",
      "userId": "10142856831792134633"
     },
     "user_tz": 420
    },
    "id": "isTaHNFpGjQH",
    "outputId": "f8373e6d-e9c3-40d4-d790-f71c23b701f9"
   },
   "outputs": [
    {
     "name": "stdout",
     "output_type": "stream",
     "text": [
      "<class 'pandas.core.frame.DataFrame'>\n",
      "RangeIndex: 768 entries, 0 to 767\n",
      "Data columns (total 9 columns):\n",
      " #   Column                    Non-Null Count  Dtype  \n",
      "---  ------                    --------------  -----  \n",
      " 0   Pregnancies               768 non-null    int64  \n",
      " 1   Glucose                   768 non-null    int64  \n",
      " 2   BloodPressure             768 non-null    int64  \n",
      " 3   SkinThickness             768 non-null    int64  \n",
      " 4   Insulin                   768 non-null    int64  \n",
      " 5   BMI                       768 non-null    float64\n",
      " 6   DiabetesPedigreeFunction  768 non-null    float64\n",
      " 7   Age                       768 non-null    int64  \n",
      " 8   Outcome                   768 non-null    int64  \n",
      "dtypes: float64(2), int64(7)\n",
      "memory usage: 54.1 KB\n"
     ]
    }
   ],
   "source": [
    "classification_df.info()"
   ]
  },
  {
   "cell_type": "code",
   "execution_count": 17,
   "metadata": {
    "colab": {
     "base_uri": "https://localhost:8080/"
    },
    "executionInfo": {
     "elapsed": 10,
     "status": "ok",
     "timestamp": 1698803967448,
     "user": {
      "displayName": "Yvon Bilodeau",
      "userId": "10142856831792134633"
     },
     "user_tz": 420
    },
    "id": "HtZv-V73Gmjv",
    "outputId": "0cf5fa9f-33cc-47d1-b828-702de2a6f890"
   },
   "outputs": [
    {
     "data": {
      "text/plain": [
       "False"
      ]
     },
     "execution_count": 17,
     "metadata": {},
     "output_type": "execute_result"
    }
   ],
   "source": [
    "classification_df.duplicated().any()"
   ]
  },
  {
   "cell_type": "code",
   "execution_count": 18,
   "metadata": {
    "colab": {
     "base_uri": "https://localhost:8080/",
     "height": 297
    },
    "executionInfo": {
     "elapsed": 244,
     "status": "ok",
     "timestamp": 1698803967688,
     "user": {
      "displayName": "Yvon Bilodeau",
      "userId": "10142856831792134633"
     },
     "user_tz": 420
    },
    "id": "sdF3qT-9Gp_s",
    "outputId": "c2110d77-0c19-4268-b285-32c2640cedd0"
   },
   "outputs": [
    {
     "data": {
      "text/html": [
       "<div>\n",
       "<style scoped>\n",
       "    .dataframe tbody tr th:only-of-type {\n",
       "        vertical-align: middle;\n",
       "    }\n",
       "\n",
       "    .dataframe tbody tr th {\n",
       "        vertical-align: top;\n",
       "    }\n",
       "\n",
       "    .dataframe thead th {\n",
       "        text-align: right;\n",
       "    }\n",
       "</style>\n",
       "<table border=\"1\" class=\"dataframe\">\n",
       "  <thead>\n",
       "    <tr style=\"text-align: right;\">\n",
       "      <th></th>\n",
       "      <th>Pregnancies</th>\n",
       "      <th>Glucose</th>\n",
       "      <th>BloodPressure</th>\n",
       "      <th>SkinThickness</th>\n",
       "      <th>Insulin</th>\n",
       "      <th>BMI</th>\n",
       "      <th>DiabetesPedigreeFunction</th>\n",
       "      <th>Age</th>\n",
       "      <th>Outcome</th>\n",
       "    </tr>\n",
       "  </thead>\n",
       "  <tbody>\n",
       "    <tr>\n",
       "      <th>count</th>\n",
       "      <td>768.000000</td>\n",
       "      <td>768.000000</td>\n",
       "      <td>768.000000</td>\n",
       "      <td>768.000000</td>\n",
       "      <td>768.000000</td>\n",
       "      <td>768.000000</td>\n",
       "      <td>768.000000</td>\n",
       "      <td>768.000000</td>\n",
       "      <td>768.000000</td>\n",
       "    </tr>\n",
       "    <tr>\n",
       "      <th>mean</th>\n",
       "      <td>3.845052</td>\n",
       "      <td>120.894531</td>\n",
       "      <td>69.105469</td>\n",
       "      <td>20.536458</td>\n",
       "      <td>79.799479</td>\n",
       "      <td>31.992578</td>\n",
       "      <td>0.471876</td>\n",
       "      <td>33.240885</td>\n",
       "      <td>0.348958</td>\n",
       "    </tr>\n",
       "    <tr>\n",
       "      <th>std</th>\n",
       "      <td>3.369578</td>\n",
       "      <td>31.972618</td>\n",
       "      <td>19.355807</td>\n",
       "      <td>15.952218</td>\n",
       "      <td>115.244002</td>\n",
       "      <td>7.884160</td>\n",
       "      <td>0.331329</td>\n",
       "      <td>11.760232</td>\n",
       "      <td>0.476951</td>\n",
       "    </tr>\n",
       "    <tr>\n",
       "      <th>min</th>\n",
       "      <td>0.000000</td>\n",
       "      <td>0.000000</td>\n",
       "      <td>0.000000</td>\n",
       "      <td>0.000000</td>\n",
       "      <td>0.000000</td>\n",
       "      <td>0.000000</td>\n",
       "      <td>0.078000</td>\n",
       "      <td>21.000000</td>\n",
       "      <td>0.000000</td>\n",
       "    </tr>\n",
       "    <tr>\n",
       "      <th>25%</th>\n",
       "      <td>1.000000</td>\n",
       "      <td>99.000000</td>\n",
       "      <td>62.000000</td>\n",
       "      <td>0.000000</td>\n",
       "      <td>0.000000</td>\n",
       "      <td>27.300000</td>\n",
       "      <td>0.243750</td>\n",
       "      <td>24.000000</td>\n",
       "      <td>0.000000</td>\n",
       "    </tr>\n",
       "    <tr>\n",
       "      <th>50%</th>\n",
       "      <td>3.000000</td>\n",
       "      <td>117.000000</td>\n",
       "      <td>72.000000</td>\n",
       "      <td>23.000000</td>\n",
       "      <td>30.500000</td>\n",
       "      <td>32.000000</td>\n",
       "      <td>0.372500</td>\n",
       "      <td>29.000000</td>\n",
       "      <td>0.000000</td>\n",
       "    </tr>\n",
       "    <tr>\n",
       "      <th>75%</th>\n",
       "      <td>6.000000</td>\n",
       "      <td>140.250000</td>\n",
       "      <td>80.000000</td>\n",
       "      <td>32.000000</td>\n",
       "      <td>127.250000</td>\n",
       "      <td>36.600000</td>\n",
       "      <td>0.626250</td>\n",
       "      <td>41.000000</td>\n",
       "      <td>1.000000</td>\n",
       "    </tr>\n",
       "    <tr>\n",
       "      <th>max</th>\n",
       "      <td>17.000000</td>\n",
       "      <td>199.000000</td>\n",
       "      <td>122.000000</td>\n",
       "      <td>99.000000</td>\n",
       "      <td>846.000000</td>\n",
       "      <td>67.100000</td>\n",
       "      <td>2.420000</td>\n",
       "      <td>81.000000</td>\n",
       "      <td>1.000000</td>\n",
       "    </tr>\n",
       "  </tbody>\n",
       "</table>\n",
       "</div>"
      ],
      "text/plain": [
       "       Pregnancies     Glucose  BloodPressure  SkinThickness     Insulin  \\\n",
       "count   768.000000  768.000000     768.000000     768.000000  768.000000   \n",
       "mean      3.845052  120.894531      69.105469      20.536458   79.799479   \n",
       "std       3.369578   31.972618      19.355807      15.952218  115.244002   \n",
       "min       0.000000    0.000000       0.000000       0.000000    0.000000   \n",
       "25%       1.000000   99.000000      62.000000       0.000000    0.000000   \n",
       "50%       3.000000  117.000000      72.000000      23.000000   30.500000   \n",
       "75%       6.000000  140.250000      80.000000      32.000000  127.250000   \n",
       "max      17.000000  199.000000     122.000000      99.000000  846.000000   \n",
       "\n",
       "              BMI  DiabetesPedigreeFunction         Age     Outcome  \n",
       "count  768.000000                768.000000  768.000000  768.000000  \n",
       "mean    31.992578                  0.471876   33.240885    0.348958  \n",
       "std      7.884160                  0.331329   11.760232    0.476951  \n",
       "min      0.000000                  0.078000   21.000000    0.000000  \n",
       "25%     27.300000                  0.243750   24.000000    0.000000  \n",
       "50%     32.000000                  0.372500   29.000000    0.000000  \n",
       "75%     36.600000                  0.626250   41.000000    1.000000  \n",
       "max     67.100000                  2.420000   81.000000    1.000000  "
      ]
     },
     "execution_count": 18,
     "metadata": {},
     "output_type": "execute_result"
    }
   ],
   "source": [
    "classification_df.describe()"
   ]
  },
  {
   "cell_type": "markdown",
   "metadata": {
    "id": "l8cjiy3BGvLa"
   },
   "source": [
    "### Important Note:\n",
    "We see minimums for Glucose, BloodPression, SkinThickness, Insulin, and BMI of 0s.  Those are impossible for humans, so lets drop those rows."
   ]
  },
  {
   "cell_type": "code",
   "execution_count": 19,
   "metadata": {
    "colab": {
     "base_uri": "https://localhost:8080/",
     "height": 297
    },
    "executionInfo": {
     "elapsed": 23,
     "status": "ok",
     "timestamp": 1698803967689,
     "user": {
      "displayName": "Yvon Bilodeau",
      "userId": "10142856831792134633"
     },
     "user_tz": 420
    },
    "id": "TwzoeFVWG6Dd",
    "outputId": "1c35a985-cea6-441a-b58a-b8fdcab78117"
   },
   "outputs": [
    {
     "data": {
      "text/html": [
       "<div>\n",
       "<style scoped>\n",
       "    .dataframe tbody tr th:only-of-type {\n",
       "        vertical-align: middle;\n",
       "    }\n",
       "\n",
       "    .dataframe tbody tr th {\n",
       "        vertical-align: top;\n",
       "    }\n",
       "\n",
       "    .dataframe thead th {\n",
       "        text-align: right;\n",
       "    }\n",
       "</style>\n",
       "<table border=\"1\" class=\"dataframe\">\n",
       "  <thead>\n",
       "    <tr style=\"text-align: right;\">\n",
       "      <th></th>\n",
       "      <th>Pregnancies</th>\n",
       "      <th>Glucose</th>\n",
       "      <th>BloodPressure</th>\n",
       "      <th>SkinThickness</th>\n",
       "      <th>Insulin</th>\n",
       "      <th>BMI</th>\n",
       "      <th>DiabetesPedigreeFunction</th>\n",
       "      <th>Age</th>\n",
       "      <th>Outcome</th>\n",
       "    </tr>\n",
       "  </thead>\n",
       "  <tbody>\n",
       "    <tr>\n",
       "      <th>count</th>\n",
       "      <td>392.000000</td>\n",
       "      <td>392.000000</td>\n",
       "      <td>392.000000</td>\n",
       "      <td>392.000000</td>\n",
       "      <td>392.000000</td>\n",
       "      <td>392.000000</td>\n",
       "      <td>392.000000</td>\n",
       "      <td>392.000000</td>\n",
       "      <td>392.000000</td>\n",
       "    </tr>\n",
       "    <tr>\n",
       "      <th>mean</th>\n",
       "      <td>3.301020</td>\n",
       "      <td>122.627551</td>\n",
       "      <td>70.663265</td>\n",
       "      <td>29.145408</td>\n",
       "      <td>156.056122</td>\n",
       "      <td>33.086224</td>\n",
       "      <td>0.523046</td>\n",
       "      <td>30.864796</td>\n",
       "      <td>0.331633</td>\n",
       "    </tr>\n",
       "    <tr>\n",
       "      <th>std</th>\n",
       "      <td>3.211424</td>\n",
       "      <td>30.860781</td>\n",
       "      <td>12.496092</td>\n",
       "      <td>10.516424</td>\n",
       "      <td>118.841690</td>\n",
       "      <td>7.027659</td>\n",
       "      <td>0.345488</td>\n",
       "      <td>10.200777</td>\n",
       "      <td>0.471401</td>\n",
       "    </tr>\n",
       "    <tr>\n",
       "      <th>min</th>\n",
       "      <td>0.000000</td>\n",
       "      <td>56.000000</td>\n",
       "      <td>24.000000</td>\n",
       "      <td>7.000000</td>\n",
       "      <td>14.000000</td>\n",
       "      <td>18.200000</td>\n",
       "      <td>0.085000</td>\n",
       "      <td>21.000000</td>\n",
       "      <td>0.000000</td>\n",
       "    </tr>\n",
       "    <tr>\n",
       "      <th>25%</th>\n",
       "      <td>1.000000</td>\n",
       "      <td>99.000000</td>\n",
       "      <td>62.000000</td>\n",
       "      <td>21.000000</td>\n",
       "      <td>76.750000</td>\n",
       "      <td>28.400000</td>\n",
       "      <td>0.269750</td>\n",
       "      <td>23.000000</td>\n",
       "      <td>0.000000</td>\n",
       "    </tr>\n",
       "    <tr>\n",
       "      <th>50%</th>\n",
       "      <td>2.000000</td>\n",
       "      <td>119.000000</td>\n",
       "      <td>70.000000</td>\n",
       "      <td>29.000000</td>\n",
       "      <td>125.500000</td>\n",
       "      <td>33.200000</td>\n",
       "      <td>0.449500</td>\n",
       "      <td>27.000000</td>\n",
       "      <td>0.000000</td>\n",
       "    </tr>\n",
       "    <tr>\n",
       "      <th>75%</th>\n",
       "      <td>5.000000</td>\n",
       "      <td>143.000000</td>\n",
       "      <td>78.000000</td>\n",
       "      <td>37.000000</td>\n",
       "      <td>190.000000</td>\n",
       "      <td>37.100000</td>\n",
       "      <td>0.687000</td>\n",
       "      <td>36.000000</td>\n",
       "      <td>1.000000</td>\n",
       "    </tr>\n",
       "    <tr>\n",
       "      <th>max</th>\n",
       "      <td>17.000000</td>\n",
       "      <td>198.000000</td>\n",
       "      <td>110.000000</td>\n",
       "      <td>63.000000</td>\n",
       "      <td>846.000000</td>\n",
       "      <td>67.100000</td>\n",
       "      <td>2.420000</td>\n",
       "      <td>81.000000</td>\n",
       "      <td>1.000000</td>\n",
       "    </tr>\n",
       "  </tbody>\n",
       "</table>\n",
       "</div>"
      ],
      "text/plain": [
       "       Pregnancies     Glucose  BloodPressure  SkinThickness     Insulin  \\\n",
       "count   392.000000  392.000000     392.000000     392.000000  392.000000   \n",
       "mean      3.301020  122.627551      70.663265      29.145408  156.056122   \n",
       "std       3.211424   30.860781      12.496092      10.516424  118.841690   \n",
       "min       0.000000   56.000000      24.000000       7.000000   14.000000   \n",
       "25%       1.000000   99.000000      62.000000      21.000000   76.750000   \n",
       "50%       2.000000  119.000000      70.000000      29.000000  125.500000   \n",
       "75%       5.000000  143.000000      78.000000      37.000000  190.000000   \n",
       "max      17.000000  198.000000     110.000000      63.000000  846.000000   \n",
       "\n",
       "              BMI  DiabetesPedigreeFunction         Age     Outcome  \n",
       "count  392.000000                392.000000  392.000000  392.000000  \n",
       "mean    33.086224                  0.523046   30.864796    0.331633  \n",
       "std      7.027659                  0.345488   10.200777    0.471401  \n",
       "min     18.200000                  0.085000   21.000000    0.000000  \n",
       "25%     28.400000                  0.269750   23.000000    0.000000  \n",
       "50%     33.200000                  0.449500   27.000000    0.000000  \n",
       "75%     37.100000                  0.687000   36.000000    1.000000  \n",
       "max     67.100000                  2.420000   81.000000    1.000000  "
      ]
     },
     "execution_count": 19,
     "metadata": {},
     "output_type": "execute_result"
    }
   ],
   "source": [
    "no_glucose = classification_df['Glucose'] == 0\n",
    "no_blood = classification_df['BloodPressure'] == 0\n",
    "no_skin = classification_df['SkinThickness'] == 0\n",
    "no_insulin = classification_df['Insulin'] == 0\n",
    "no_bmi = classification_df['BMI'] == 0\n",
    "\n",
    "#class_df_clean excludes rows that have no values == 0 in the above columns\n",
    "class_df_clean = classification_df[~(no_glucose |\n",
    "                                     no_blood |\n",
    "                                     no_skin |\n",
    "                                     no_insulin |\n",
    "                                     no_bmi)]\n",
    "class_df_clean.describe()"
   ]
  },
  {
   "cell_type": "markdown",
   "metadata": {
    "id": "oQqWsTbaM5It"
   },
   "source": [
    "We lost a lot of data, going from 768 samples to 392 samples.  In the future we might impute this data using means, medians, or other imputation strategies.  For this exercise we won't focus on that."
   ]
  },
  {
   "cell_type": "markdown",
   "metadata": {
    "id": "H3mqMU6SJZlO"
   },
   "source": [
    "### Important Note:\n",
    "\n",
    "This stratify parameter makes a split so that the proportion of values in the sample produced will be the same as the proportion of values provided to parameter stratify.\n",
    "\n",
    "For example, if variable y is a binary categorical variable with values 0 and 1 and there are 25% of zeros and 75% of ones, stratify=y will make sure that your random split has 25% of 0's and 75% of 1's."
   ]
  },
  {
   "cell_type": "code",
   "execution_count": 20,
   "metadata": {
    "executionInfo": {
     "elapsed": 22,
     "status": "ok",
     "timestamp": 1698803967689,
     "user": {
      "displayName": "Yvon Bilodeau",
      "userId": "10142856831792134633"
     },
     "user_tz": 420
    },
    "id": "JjREwrWgGPtP"
   },
   "outputs": [],
   "source": [
    "# Define X and y and train test split\n",
    "X = class_df_clean.drop(columns = 'Outcome')\n",
    "y = class_df_clean['Outcome']\n",
    "\n",
    "\n",
    "X_train, X_test, y_train, y_test = train_test_split(X, y, random_state = 42, stratify = y)"
   ]
  },
  {
   "cell_type": "code",
   "execution_count": 21,
   "metadata": {
    "colab": {
     "base_uri": "https://localhost:8080/"
    },
    "executionInfo": {
     "elapsed": 22,
     "status": "ok",
     "timestamp": 1698803967689,
     "user": {
      "displayName": "Yvon Bilodeau",
      "userId": "10142856831792134633"
     },
     "user_tz": 420
    },
    "id": "bE0MPxsBJZlP",
    "outputId": "243735cd-5b06-403c-b4dc-6ad4292d3b75"
   },
   "outputs": [
    {
     "data": {
      "text/plain": [
       "Outcome\n",
       "0    0.668367\n",
       "1    0.331633\n",
       "Name: proportion, dtype: float64"
      ]
     },
     "execution_count": 21,
     "metadata": {},
     "output_type": "execute_result"
    }
   ],
   "source": [
    "# Proportions of 0 and 1 in the dataset\n",
    "y.value_counts(normalize=True)"
   ]
  },
  {
   "cell_type": "code",
   "execution_count": 22,
   "metadata": {
    "colab": {
     "base_uri": "https://localhost:8080/"
    },
    "executionInfo": {
     "elapsed": 16,
     "status": "ok",
     "timestamp": 1698803967689,
     "user": {
      "displayName": "Yvon Bilodeau",
      "userId": "10142856831792134633"
     },
     "user_tz": 420
    },
    "id": "sO-5i_X7JZlP",
    "outputId": "ca91fca6-df64-4fb6-9d3a-4b1c9211e606"
   },
   "outputs": [
    {
     "data": {
      "text/plain": [
       "Outcome\n",
       "0    0.666667\n",
       "1    0.333333\n",
       "Name: proportion, dtype: float64"
      ]
     },
     "execution_count": 22,
     "metadata": {},
     "output_type": "execute_result"
    }
   ],
   "source": [
    "# Proportions of 0 and 1 in the train dataset\n",
    "y_train.value_counts(normalize=True)"
   ]
  },
  {
   "cell_type": "code",
   "execution_count": 23,
   "metadata": {
    "colab": {
     "base_uri": "https://localhost:8080/"
    },
    "executionInfo": {
     "elapsed": 10,
     "status": "ok",
     "timestamp": 1698803967689,
     "user": {
      "displayName": "Yvon Bilodeau",
      "userId": "10142856831792134633"
     },
     "user_tz": 420
    },
    "id": "ccjfu2pdJZlP",
    "outputId": "41da206e-4f3e-4220-d585-70e2b1dee4ff"
   },
   "outputs": [
    {
     "data": {
      "text/plain": [
       "Outcome\n",
       "0    0.673469\n",
       "1    0.326531\n",
       "Name: proportion, dtype: float64"
      ]
     },
     "execution_count": 23,
     "metadata": {},
     "output_type": "execute_result"
    }
   ],
   "source": [
    "# Proportions of 0 and 1 in the test dataset\n",
    "y_test.value_counts(normalize=True)"
   ]
  },
  {
   "cell_type": "code",
   "execution_count": 24,
   "metadata": {
    "executionInfo": {
     "elapsed": 5,
     "status": "ok",
     "timestamp": 1698803967689,
     "user": {
      "displayName": "Yvon Bilodeau",
      "userId": "10142856831792134633"
     },
     "user_tz": 420
    },
    "id": "EKPiCOByPOfF"
   },
   "outputs": [],
   "source": [
    "# Scale the data\n",
    "scaler = MinMaxScaler()\n",
    "scaler.fit(X_train)\n",
    "X_train_proc = scaler.transform(X_train)\n",
    "X_test_proc = scaler.transform(X_test)"
   ]
  },
  {
   "cell_type": "markdown",
   "metadata": {
    "id": "1TWU179nQIdt"
   },
   "source": [
    "## Build the Classification Model\n",
    "\n",
    "We need to do a few things differently here because this is a binary classification:\n",
    "\n",
    "1. The activation of our final layer needs to be 'sigmoid'.  \n",
    "\n",
    "\n",
    "(If this were multiclass classification, we would set the final activation as 'softmax' and the number of output nodes would be the number of classes in our y_train.)"
   ]
  },
  {
   "cell_type": "code",
   "execution_count": 25,
   "metadata": {
    "colab": {
     "base_uri": "https://localhost:8080/"
    },
    "executionInfo": {
     "elapsed": 204,
     "status": "ok",
     "timestamp": 1698803967889,
     "user": {
      "displayName": "Yvon Bilodeau",
      "userId": "10142856831792134633"
     },
     "user_tz": 420
    },
    "id": "lAwy3AXrPjwH",
    "outputId": "c89302f6-b241-4c46-878c-100361bd0a5a"
   },
   "outputs": [
    {
     "name": "stdout",
     "output_type": "stream",
     "text": [
      "Model: \"sequential\"\n",
      "_________________________________________________________________\n",
      " Layer (type)                Output Shape              Param #   \n",
      "=================================================================\n",
      " dense (Dense)               (None, 10)                90        \n",
      "                                                                 \n",
      " dense_1 (Dense)             (None, 5)                 55        \n",
      "                                                                 \n",
      " dense_2 (Dense)             (None, 2)                 12        \n",
      "                                                                 \n",
      " dense_3 (Dense)             (None, 1)                 3         \n",
      "                                                                 \n",
      "=================================================================\n",
      "Total params: 160\n",
      "Trainable params: 160\n",
      "Non-trainable params: 0\n",
      "_________________________________________________________________\n"
     ]
    }
   ],
   "source": [
    "# Set Random Seeds\n",
    "keras.backend.clear_session()\n",
    "np.random.seed(42)\n",
    "tf.random.set_seed(42)\n",
    "\n",
    "# Build your model\n",
    "class_model = Sequential()\n",
    "class_model.add(Input(shape=(X_train_proc.shape[1],)))\n",
    "class_model.add(Dense(10, activation= 'relu'))\n",
    "class_model.add(Dense(5, activation= 'relu'))\n",
    "class_model.add(Dense(2, activation= 'relu'))\n",
    "\n",
    "# One output node with 'sigmoid' activation\n",
    "class_model.add(Dense(1, activation='sigmoid'))\n",
    "class_model.summary()\n"
   ]
  },
  {
   "cell_type": "markdown",
   "metadata": {
    "id": "4nrwLXyKPpO1"
   },
   "source": [
    "## More Changes for Classification:\n",
    "\n",
    "1.  We need to change our loss to 'binary_crossentropy', or 'bce'.  If this were multiclass we would use 'categorical_crossentrobpy'.\n",
    "\n",
    "2. Our metrics should be classification metrics.  We will use accuracy and import recall and precision."
   ]
  },
  {
   "cell_type": "code",
   "execution_count": 26,
   "metadata": {
    "executionInfo": {
     "elapsed": 8,
     "status": "ok",
     "timestamp": 1698803967889,
     "user": {
      "displayName": "Yvon Bilodeau",
      "userId": "10142856831792134633"
     },
     "user_tz": 420
    },
    "id": "GOe9CMP2PtDT"
   },
   "outputs": [],
   "source": [
    "from keras.metrics import Precision, Recall\n",
    "\n",
    "# Compile your model with loss='bce, set metrics = ['acc', Precision(), Recall()]\n",
    "precision = Precision(name='precision')\n",
    "recall = Recall(name='recall')\n",
    "\n",
    "class_model.compile(optimizer = 'adam', loss = 'bce',\n",
    "                    metrics = ['accuracy', precision, recall])\n"
   ]
  },
  {
   "cell_type": "code",
   "execution_count": 27,
   "metadata": {
    "colab": {
     "base_uri": "https://localhost:8080/"
    },
    "executionInfo": {
     "elapsed": 42183,
     "status": "ok",
     "timestamp": 1698804010065,
     "user": {
      "displayName": "Yvon Bilodeau",
      "userId": "10142856831792134633"
     },
     "user_tz": 420
    },
    "id": "vScTvfoKOVLO",
    "outputId": "8106018a-5a36-4175-c6bb-c6924f9730cd",
    "scrolled": true
   },
   "outputs": [
    {
     "name": "stdout",
     "output_type": "stream",
     "text": [
      "Epoch 1/300\n"
     ]
    },
    {
     "name": "stdout",
     "output_type": "stream",
     "text": [
      "10/10 [==============================] - 1s 25ms/step - loss: 0.6889 - accuracy: 0.6667 - precision: 0.0000e+00 - recall: 0.0000e+00 - val_loss: 0.6852 - val_accuracy: 0.6735 - val_precision: 0.0000e+00 - val_recall: 0.0000e+00\n",
      "Epoch 2/300\n",
      "10/10 [==============================] - 0s 5ms/step - loss: 0.6846 - accuracy: 0.6667 - precision: 0.0000e+00 - recall: 0.0000e+00 - val_loss: 0.6794 - val_accuracy: 0.6735 - val_precision: 0.0000e+00 - val_recall: 0.0000e+00\n",
      "Epoch 3/300\n",
      "10/10 [==============================] - 0s 3ms/step - loss: 0.6796 - accuracy: 0.6667 - precision: 0.0000e+00 - recall: 0.0000e+00 - val_loss: 0.6731 - val_accuracy: 0.6735 - val_precision: 0.0000e+00 - val_recall: 0.0000e+00\n",
      "Epoch 4/300\n",
      "10/10 [==============================] - 0s 4ms/step - loss: 0.6739 - accuracy: 0.6667 - precision: 0.0000e+00 - recall: 0.0000e+00 - val_loss: 0.6668 - val_accuracy: 0.6735 - val_precision: 0.0000e+00 - val_recall: 0.0000e+00\n",
      "Epoch 5/300\n",
      "10/10 [==============================] - 0s 4ms/step - loss: 0.6679 - accuracy: 0.6667 - precision: 0.0000e+00 - recall: 0.0000e+00 - val_loss: 0.6601 - val_accuracy: 0.6735 - val_precision: 0.0000e+00 - val_recall: 0.0000e+00\n",
      "Epoch 6/300\n",
      "10/10 [==============================] - 0s 4ms/step - loss: 0.6629 - accuracy: 0.6667 - precision: 0.0000e+00 - recall: 0.0000e+00 - val_loss: 0.6518 - val_accuracy: 0.6735 - val_precision: 0.0000e+00 - val_recall: 0.0000e+00\n",
      "Epoch 7/300\n",
      "10/10 [==============================] - 0s 4ms/step - loss: 0.6567 - accuracy: 0.6667 - precision: 0.0000e+00 - recall: 0.0000e+00 - val_loss: 0.6451 - val_accuracy: 0.6735 - val_precision: 0.0000e+00 - val_recall: 0.0000e+00\n",
      "Epoch 8/300\n",
      "10/10 [==============================] - 0s 4ms/step - loss: 0.6512 - accuracy: 0.6667 - precision: 0.0000e+00 - recall: 0.0000e+00 - val_loss: 0.6405 - val_accuracy: 0.6735 - val_precision: 0.0000e+00 - val_recall: 0.0000e+00\n",
      "Epoch 9/300\n",
      "10/10 [==============================] - 0s 4ms/step - loss: 0.6475 - accuracy: 0.6667 - precision: 0.0000e+00 - recall: 0.0000e+00 - val_loss: 0.6361 - val_accuracy: 0.6735 - val_precision: 0.0000e+00 - val_recall: 0.0000e+00\n",
      "Epoch 10/300\n",
      "10/10 [==============================] - 0s 5ms/step - loss: 0.6437 - accuracy: 0.6667 - precision: 0.0000e+00 - recall: 0.0000e+00 - val_loss: 0.6320 - val_accuracy: 0.6735 - val_precision: 0.0000e+00 - val_recall: 0.0000e+00\n",
      "Epoch 11/300\n",
      "10/10 [==============================] - 0s 5ms/step - loss: 0.6403 - accuracy: 0.6667 - precision: 0.0000e+00 - recall: 0.0000e+00 - val_loss: 0.6277 - val_accuracy: 0.6735 - val_precision: 0.0000e+00 - val_recall: 0.0000e+00\n",
      "Epoch 12/300\n",
      "10/10 [==============================] - 0s 4ms/step - loss: 0.6365 - accuracy: 0.6667 - precision: 0.0000e+00 - recall: 0.0000e+00 - val_loss: 0.6233 - val_accuracy: 0.6735 - val_precision: 0.0000e+00 - val_recall: 0.0000e+00\n",
      "Epoch 13/300\n",
      "10/10 [==============================] - 0s 5ms/step - loss: 0.6328 - accuracy: 0.6667 - precision: 0.0000e+00 - recall: 0.0000e+00 - val_loss: 0.6192 - val_accuracy: 0.6735 - val_precision: 0.0000e+00 - val_recall: 0.0000e+00\n",
      "Epoch 14/300\n",
      "10/10 [==============================] - 0s 6ms/step - loss: 0.6297 - accuracy: 0.6667 - precision: 0.0000e+00 - recall: 0.0000e+00 - val_loss: 0.6153 - val_accuracy: 0.6735 - val_precision: 0.0000e+00 - val_recall: 0.0000e+00\n",
      "Epoch 15/300\n",
      "10/10 [==============================] - 0s 4ms/step - loss: 0.6262 - accuracy: 0.6667 - precision: 0.0000e+00 - recall: 0.0000e+00 - val_loss: 0.6115 - val_accuracy: 0.6735 - val_precision: 0.0000e+00 - val_recall: 0.0000e+00\n",
      "Epoch 16/300\n",
      "10/10 [==============================] - 0s 5ms/step - loss: 0.6221 - accuracy: 0.6667 - precision: 0.0000e+00 - recall: 0.0000e+00 - val_loss: 0.6082 - val_accuracy: 0.6735 - val_precision: 0.0000e+00 - val_recall: 0.0000e+00\n",
      "Epoch 17/300\n",
      "10/10 [==============================] - 0s 5ms/step - loss: 0.6179 - accuracy: 0.6667 - precision: 0.0000e+00 - recall: 0.0000e+00 - val_loss: 0.6054 - val_accuracy: 0.6735 - val_precision: 0.0000e+00 - val_recall: 0.0000e+00\n",
      "Epoch 18/300\n",
      "10/10 [==============================] - 0s 4ms/step - loss: 0.6144 - accuracy: 0.6667 - precision: 0.0000e+00 - recall: 0.0000e+00 - val_loss: 0.6041 - val_accuracy: 0.6735 - val_precision: 0.0000e+00 - val_recall: 0.0000e+00\n",
      "Epoch 19/300\n",
      "10/10 [==============================] - 0s 5ms/step - loss: 0.6104 - accuracy: 0.6667 - precision: 0.0000e+00 - recall: 0.0000e+00 - val_loss: 0.6003 - val_accuracy: 0.6735 - val_precision: 0.0000e+00 - val_recall: 0.0000e+00\n",
      "Epoch 20/300\n",
      "10/10 [==============================] - 0s 4ms/step - loss: 0.6056 - accuracy: 0.6667 - precision: 0.0000e+00 - recall: 0.0000e+00 - val_loss: 0.5946 - val_accuracy: 0.6735 - val_precision: 0.0000e+00 - val_recall: 0.0000e+00\n",
      "Epoch 21/300\n",
      "10/10 [==============================] - 0s 4ms/step - loss: 0.6013 - accuracy: 0.6667 - precision: 0.0000e+00 - recall: 0.0000e+00 - val_loss: 0.5900 - val_accuracy: 0.6735 - val_precision: 0.0000e+00 - val_recall: 0.0000e+00\n",
      "Epoch 22/300\n",
      "10/10 [==============================] - 0s 5ms/step - loss: 0.5971 - accuracy: 0.6667 - precision: 0.0000e+00 - recall: 0.0000e+00 - val_loss: 0.5862 - val_accuracy: 0.6735 - val_precision: 0.0000e+00 - val_recall: 0.0000e+00\n",
      "Epoch 23/300\n",
      "10/10 [==============================] - 0s 4ms/step - loss: 0.5924 - accuracy: 0.6667 - precision: 0.0000e+00 - recall: 0.0000e+00 - val_loss: 0.5818 - val_accuracy: 0.6735 - val_precision: 0.0000e+00 - val_recall: 0.0000e+00\n",
      "Epoch 24/300\n",
      "10/10 [==============================] - 0s 3ms/step - loss: 0.5881 - accuracy: 0.6667 - precision: 0.0000e+00 - recall: 0.0000e+00 - val_loss: 0.5799 - val_accuracy: 0.6735 - val_precision: 0.0000e+00 - val_recall: 0.0000e+00\n",
      "Epoch 25/300\n",
      "10/10 [==============================] - 0s 5ms/step - loss: 0.5841 - accuracy: 0.6667 - precision: 0.0000e+00 - recall: 0.0000e+00 - val_loss: 0.5754 - val_accuracy: 0.6735 - val_precision: 0.0000e+00 - val_recall: 0.0000e+00\n",
      "Epoch 26/300\n",
      "10/10 [==============================] - 0s 4ms/step - loss: 0.5800 - accuracy: 0.6667 - precision: 0.0000e+00 - recall: 0.0000e+00 - val_loss: 0.5721 - val_accuracy: 0.6735 - val_precision: 0.0000e+00 - val_recall: 0.0000e+00\n",
      "Epoch 27/300\n",
      "10/10 [==============================] - 0s 3ms/step - loss: 0.5758 - accuracy: 0.6667 - precision: 0.0000e+00 - recall: 0.0000e+00 - val_loss: 0.5676 - val_accuracy: 0.6735 - val_precision: 0.0000e+00 - val_recall: 0.0000e+00\n",
      "Epoch 28/300\n",
      "10/10 [==============================] - 0s 5ms/step - loss: 0.5724 - accuracy: 0.6667 - precision: 0.0000e+00 - recall: 0.0000e+00 - val_loss: 0.5638 - val_accuracy: 0.6735 - val_precision: 0.0000e+00 - val_recall: 0.0000e+00\n",
      "Epoch 29/300\n",
      "10/10 [==============================] - 0s 4ms/step - loss: 0.5674 - accuracy: 0.6667 - precision: 0.0000e+00 - recall: 0.0000e+00 - val_loss: 0.5632 - val_accuracy: 0.6735 - val_precision: 0.0000e+00 - val_recall: 0.0000e+00\n",
      "Epoch 30/300\n",
      "10/10 [==============================] - 0s 5ms/step - loss: 0.5637 - accuracy: 0.6667 - precision: 0.0000e+00 - recall: 0.0000e+00 - val_loss: 0.5593 - val_accuracy: 0.6735 - val_precision: 0.0000e+00 - val_recall: 0.0000e+00\n",
      "Epoch 31/300\n",
      "10/10 [==============================] - 0s 4ms/step - loss: 0.5592 - accuracy: 0.6667 - precision: 0.0000e+00 - recall: 0.0000e+00 - val_loss: 0.5548 - val_accuracy: 0.6735 - val_precision: 0.0000e+00 - val_recall: 0.0000e+00\n",
      "Epoch 32/300\n",
      "10/10 [==============================] - 0s 4ms/step - loss: 0.5554 - accuracy: 0.6667 - precision: 0.0000e+00 - recall: 0.0000e+00 - val_loss: 0.5508 - val_accuracy: 0.6735 - val_precision: 0.0000e+00 - val_recall: 0.0000e+00\n",
      "Epoch 33/300\n",
      "10/10 [==============================] - 0s 4ms/step - loss: 0.5522 - accuracy: 0.6667 - precision: 0.0000e+00 - recall: 0.0000e+00 - val_loss: 0.5476 - val_accuracy: 0.6735 - val_precision: 0.0000e+00 - val_recall: 0.0000e+00\n",
      "Epoch 34/300\n",
      "10/10 [==============================] - 0s 4ms/step - loss: 0.5474 - accuracy: 0.6667 - precision: 0.0000e+00 - recall: 0.0000e+00 - val_loss: 0.5465 - val_accuracy: 0.6735 - val_precision: 0.0000e+00 - val_recall: 0.0000e+00\n",
      "Epoch 35/300\n",
      "10/10 [==============================] - 0s 3ms/step - loss: 0.5437 - accuracy: 0.6667 - precision: 0.0000e+00 - recall: 0.0000e+00 - val_loss: 0.5452 - val_accuracy: 0.6735 - val_precision: 0.0000e+00 - val_recall: 0.0000e+00\n",
      "Epoch 36/300\n",
      "10/10 [==============================] - 0s 4ms/step - loss: 0.5398 - accuracy: 0.6667 - precision: 0.0000e+00 - recall: 0.0000e+00 - val_loss: 0.5408 - val_accuracy: 0.6735 - val_precision: 0.0000e+00 - val_recall: 0.0000e+00\n",
      "Epoch 37/300\n",
      "10/10 [==============================] - 0s 4ms/step - loss: 0.5361 - accuracy: 0.6667 - precision: 0.0000e+00 - recall: 0.0000e+00 - val_loss: 0.5380 - val_accuracy: 0.6735 - val_precision: 0.0000e+00 - val_recall: 0.0000e+00\n",
      "Epoch 38/300\n",
      "10/10 [==============================] - 0s 5ms/step - loss: 0.5313 - accuracy: 0.6667 - precision: 0.0000e+00 - recall: 0.0000e+00 - val_loss: 0.5365 - val_accuracy: 0.6735 - val_precision: 0.0000e+00 - val_recall: 0.0000e+00\n",
      "Epoch 39/300\n",
      "10/10 [==============================] - 0s 5ms/step - loss: 0.5288 - accuracy: 0.6667 - precision: 0.0000e+00 - recall: 0.0000e+00 - val_loss: 0.5355 - val_accuracy: 0.6735 - val_precision: 0.0000e+00 - val_recall: 0.0000e+00\n",
      "Epoch 40/300\n",
      "10/10 [==============================] - 0s 4ms/step - loss: 0.5235 - accuracy: 0.6667 - precision: 0.0000e+00 - recall: 0.0000e+00 - val_loss: 0.5296 - val_accuracy: 0.6735 - val_precision: 0.0000e+00 - val_recall: 0.0000e+00\n",
      "Epoch 41/300\n",
      "10/10 [==============================] - 0s 5ms/step - loss: 0.5204 - accuracy: 0.6667 - precision: 0.0000e+00 - recall: 0.0000e+00 - val_loss: 0.5250 - val_accuracy: 0.6735 - val_precision: 0.0000e+00 - val_recall: 0.0000e+00\n",
      "Epoch 42/300\n",
      "10/10 [==============================] - 0s 4ms/step - loss: 0.5156 - accuracy: 0.6667 - precision: 0.0000e+00 - recall: 0.0000e+00 - val_loss: 0.5234 - val_accuracy: 0.7347 - val_precision: 1.0000 - val_recall: 0.1875\n",
      "Epoch 43/300\n",
      "10/10 [==============================] - 0s 4ms/step - loss: 0.5125 - accuracy: 0.7551 - precision: 0.7708 - recall: 0.3776 - val_loss: 0.5259 - val_accuracy: 0.7857 - val_precision: 0.7391 - val_recall: 0.5312\n",
      "Epoch 44/300\n",
      "10/10 [==============================] - 0s 4ms/step - loss: 0.5087 - accuracy: 0.7653 - precision: 0.7231 - recall: 0.4796 - val_loss: 0.5193 - val_accuracy: 0.7959 - val_precision: 0.7727 - val_recall: 0.5312\n",
      "Epoch 45/300\n",
      "10/10 [==============================] - 0s 4ms/step - loss: 0.5045 - accuracy: 0.7721 - precision: 0.7183 - recall: 0.5204 - val_loss: 0.5215 - val_accuracy: 0.7857 - val_precision: 0.7200 - val_recall: 0.5625\n",
      "Epoch 46/300\n",
      "10/10 [==============================] - 0s 4ms/step - loss: 0.5009 - accuracy: 0.7653 - precision: 0.6986 - recall: 0.5204 - val_loss: 0.5169 - val_accuracy: 0.7857 - val_precision: 0.7200 - val_recall: 0.5625\n",
      "Epoch 47/300\n",
      "10/10 [==============================] - 0s 4ms/step - loss: 0.4962 - accuracy: 0.7653 - precision: 0.6986 - recall: 0.5204 - val_loss: 0.5114 - val_accuracy: 0.7857 - val_precision: 0.7200 - val_recall: 0.5625\n",
      "Epoch 48/300\n",
      "10/10 [==============================] - 0s 4ms/step - loss: 0.4902 - accuracy: 0.7653 - precision: 0.7042 - recall: 0.5102 - val_loss: 0.5055 - val_accuracy: 0.7755 - val_precision: 0.7083 - val_recall: 0.5312\n",
      "Epoch 49/300\n",
      "10/10 [==============================] - 0s 5ms/step - loss: 0.4864 - accuracy: 0.7653 - precision: 0.7164 - recall: 0.4898 - val_loss: 0.5011 - val_accuracy: 0.7755 - val_precision: 0.7083 - val_recall: 0.5312\n",
      "Epoch 50/300\n",
      "10/10 [==============================] - 0s 4ms/step - loss: 0.4824 - accuracy: 0.7687 - precision: 0.7206 - recall: 0.5000 - val_loss: 0.5003 - val_accuracy: 0.7857 - val_precision: 0.7200 - val_recall: 0.5625\n",
      "Epoch 51/300\n",
      "10/10 [==============================] - 0s 3ms/step - loss: 0.4782 - accuracy: 0.7585 - precision: 0.6800 - recall: 0.5204 - val_loss: 0.4988 - val_accuracy: 0.7755 - val_precision: 0.6923 - val_recall: 0.5625\n",
      "Epoch 52/300\n",
      "10/10 [==============================] - 0s 4ms/step - loss: 0.4744 - accuracy: 0.7551 - precision: 0.6667 - recall: 0.5306 - val_loss: 0.4973 - val_accuracy: 0.7755 - val_precision: 0.6786 - val_recall: 0.5938\n",
      "Epoch 53/300\n",
      "10/10 [==============================] - 0s 4ms/step - loss: 0.4714 - accuracy: 0.7653 - precision: 0.6790 - recall: 0.5612 - val_loss: 0.4961 - val_accuracy: 0.7653 - val_precision: 0.6552 - val_recall: 0.5938\n",
      "Epoch 54/300\n",
      "10/10 [==============================] - 0s 4ms/step - loss: 0.4684 - accuracy: 0.7687 - precision: 0.6786 - recall: 0.5816 - val_loss: 0.4958 - val_accuracy: 0.7755 - val_precision: 0.6562 - val_recall: 0.6562\n",
      "Epoch 55/300\n",
      "10/10 [==============================] - 0s 4ms/step - loss: 0.4643 - accuracy: 0.7653 - precision: 0.6790 - recall: 0.5612 - val_loss: 0.4895 - val_accuracy: 0.7755 - val_precision: 0.6786 - val_recall: 0.5938\n",
      "Epoch 56/300\n",
      "10/10 [==============================] - 0s 3ms/step - loss: 0.4621 - accuracy: 0.7653 - precision: 0.6790 - recall: 0.5612 - val_loss: 0.4899 - val_accuracy: 0.7653 - val_precision: 0.6452 - val_recall: 0.6250\n",
      "Epoch 57/300\n",
      "10/10 [==============================] - 0s 5ms/step - loss: 0.4598 - accuracy: 0.7653 - precision: 0.6790 - recall: 0.5612 - val_loss: 0.4856 - val_accuracy: 0.7755 - val_precision: 0.6786 - val_recall: 0.5938\n",
      "Epoch 58/300\n",
      "10/10 [==============================] - 0s 3ms/step - loss: 0.4589 - accuracy: 0.7653 - precision: 0.6790 - recall: 0.5612 - val_loss: 0.4841 - val_accuracy: 0.7755 - val_precision: 0.6786 - val_recall: 0.5938\n",
      "Epoch 59/300\n",
      "10/10 [==============================] - 0s 5ms/step - loss: 0.4566 - accuracy: 0.7653 - precision: 0.6747 - recall: 0.5714 - val_loss: 0.4878 - val_accuracy: 0.7551 - val_precision: 0.6176 - val_recall: 0.6562\n",
      "Epoch 60/300\n",
      "10/10 [==============================] - 0s 4ms/step - loss: 0.4533 - accuracy: 0.7721 - precision: 0.6824 - recall: 0.5918 - val_loss: 0.4812 - val_accuracy: 0.7959 - val_precision: 0.7143 - val_recall: 0.6250\n",
      "Epoch 61/300\n",
      "10/10 [==============================] - 0s 4ms/step - loss: 0.4504 - accuracy: 0.7721 - precision: 0.6824 - recall: 0.5918 - val_loss: 0.4813 - val_accuracy: 0.7653 - val_precision: 0.6452 - val_recall: 0.6250\n",
      "Epoch 62/300\n",
      "10/10 [==============================] - 0s 4ms/step - loss: 0.4489 - accuracy: 0.7721 - precision: 0.6824 - recall: 0.5918 - val_loss: 0.4802 - val_accuracy: 0.7449 - val_precision: 0.6061 - val_recall: 0.6250\n",
      "Epoch 63/300\n",
      "10/10 [==============================] - 0s 3ms/step - loss: 0.4477 - accuracy: 0.7755 - precision: 0.6860 - recall: 0.6020 - val_loss: 0.4811 - val_accuracy: 0.7551 - val_precision: 0.6176 - val_recall: 0.6562\n",
      "Epoch 64/300\n",
      "10/10 [==============================] - 0s 5ms/step - loss: 0.4483 - accuracy: 0.7789 - precision: 0.7037 - recall: 0.5816 - val_loss: 0.4746 - val_accuracy: 0.7959 - val_precision: 0.7143 - val_recall: 0.6250\n",
      "Epoch 65/300\n",
      "10/10 [==============================] - 0s 5ms/step - loss: 0.4455 - accuracy: 0.7823 - precision: 0.6932 - recall: 0.6224 - val_loss: 0.4870 - val_accuracy: 0.7653 - val_precision: 0.6286 - val_recall: 0.6875\n",
      "Epoch 66/300\n",
      "10/10 [==============================] - 0s 6ms/step - loss: 0.4441 - accuracy: 0.7789 - precision: 0.6813 - recall: 0.6327 - val_loss: 0.4806 - val_accuracy: 0.7551 - val_precision: 0.6176 - val_recall: 0.6562\n",
      "Epoch 67/300\n",
      "10/10 [==============================] - 0s 6ms/step - loss: 0.4424 - accuracy: 0.7755 - precision: 0.6818 - recall: 0.6122 - val_loss: 0.4782 - val_accuracy: 0.7551 - val_precision: 0.6176 - val_recall: 0.6562\n",
      "Epoch 68/300\n",
      "10/10 [==============================] - 0s 4ms/step - loss: 0.4448 - accuracy: 0.7721 - precision: 0.6867 - recall: 0.5816 - val_loss: 0.4721 - val_accuracy: 0.7959 - val_precision: 0.7143 - val_recall: 0.6250\n",
      "Epoch 69/300\n",
      "10/10 [==============================] - 0s 4ms/step - loss: 0.4405 - accuracy: 0.7755 - precision: 0.6905 - recall: 0.5918 - val_loss: 0.4783 - val_accuracy: 0.7551 - val_precision: 0.6176 - val_recall: 0.6562\n",
      "Epoch 70/300\n",
      "10/10 [==============================] - 0s 5ms/step - loss: 0.4410 - accuracy: 0.7789 - precision: 0.6813 - recall: 0.6327 - val_loss: 0.4851 - val_accuracy: 0.7653 - val_precision: 0.6286 - val_recall: 0.6875\n",
      "Epoch 71/300\n",
      "10/10 [==============================] - 0s 4ms/step - loss: 0.4390 - accuracy: 0.7823 - precision: 0.6889 - recall: 0.6327 - val_loss: 0.4778 - val_accuracy: 0.7551 - val_precision: 0.6176 - val_recall: 0.6562\n",
      "Epoch 72/300\n",
      "10/10 [==============================] - 0s 4ms/step - loss: 0.4377 - accuracy: 0.7789 - precision: 0.6897 - recall: 0.6122 - val_loss: 0.4797 - val_accuracy: 0.7551 - val_precision: 0.6176 - val_recall: 0.6562\n",
      "Epoch 73/300\n",
      "10/10 [==============================] - 0s 4ms/step - loss: 0.4369 - accuracy: 0.7823 - precision: 0.6932 - recall: 0.6224 - val_loss: 0.4748 - val_accuracy: 0.7551 - val_precision: 0.6176 - val_recall: 0.6562\n",
      "Epoch 74/300\n",
      "10/10 [==============================] - 0s 3ms/step - loss: 0.4390 - accuracy: 0.7755 - precision: 0.6905 - recall: 0.5918 - val_loss: 0.4728 - val_accuracy: 0.7653 - val_precision: 0.6452 - val_recall: 0.6250\n",
      "Epoch 75/300\n",
      "10/10 [==============================] - 0s 4ms/step - loss: 0.4356 - accuracy: 0.7755 - precision: 0.6860 - recall: 0.6020 - val_loss: 0.4767 - val_accuracy: 0.7551 - val_precision: 0.6176 - val_recall: 0.6562\n",
      "Epoch 76/300\n",
      "10/10 [==============================] - 0s 4ms/step - loss: 0.4345 - accuracy: 0.7789 - precision: 0.6941 - recall: 0.6020 - val_loss: 0.4736 - val_accuracy: 0.7653 - val_precision: 0.6364 - val_recall: 0.6562\n",
      "Epoch 77/300\n",
      "10/10 [==============================] - 0s 4ms/step - loss: 0.4332 - accuracy: 0.7789 - precision: 0.6897 - recall: 0.6122 - val_loss: 0.4767 - val_accuracy: 0.7551 - val_precision: 0.6176 - val_recall: 0.6562\n",
      "Epoch 78/300\n",
      "10/10 [==============================] - 0s 4ms/step - loss: 0.4328 - accuracy: 0.7823 - precision: 0.6889 - recall: 0.6327 - val_loss: 0.4774 - val_accuracy: 0.7551 - val_precision: 0.6176 - val_recall: 0.6562\n",
      "Epoch 79/300\n",
      "10/10 [==============================] - 0s 3ms/step - loss: 0.4339 - accuracy: 0.7823 - precision: 0.6977 - recall: 0.6122 - val_loss: 0.4701 - val_accuracy: 0.7755 - val_precision: 0.6667 - val_recall: 0.6250\n",
      "Epoch 80/300\n",
      "10/10 [==============================] - 0s 4ms/step - loss: 0.4319 - accuracy: 0.7789 - precision: 0.6941 - recall: 0.6020 - val_loss: 0.4753 - val_accuracy: 0.7551 - val_precision: 0.6176 - val_recall: 0.6562\n",
      "Epoch 81/300\n",
      "10/10 [==============================] - 0s 3ms/step - loss: 0.4307 - accuracy: 0.7857 - precision: 0.6966 - recall: 0.6327 - val_loss: 0.4763 - val_accuracy: 0.7551 - val_precision: 0.6176 - val_recall: 0.6562\n",
      "Epoch 82/300\n",
      "10/10 [==============================] - 0s 5ms/step - loss: 0.4300 - accuracy: 0.7857 - precision: 0.6882 - recall: 0.6531 - val_loss: 0.4849 - val_accuracy: 0.7653 - val_precision: 0.6286 - val_recall: 0.6875\n",
      "Epoch 83/300\n",
      "10/10 [==============================] - 0s 4ms/step - loss: 0.4316 - accuracy: 0.7857 - precision: 0.6804 - recall: 0.6735 - val_loss: 0.4863 - val_accuracy: 0.7551 - val_precision: 0.6111 - val_recall: 0.6875\n",
      "Epoch 84/300\n",
      "10/10 [==============================] - 0s 2ms/step - loss: 0.4305 - accuracy: 0.7857 - precision: 0.6842 - recall: 0.6633 - val_loss: 0.4778 - val_accuracy: 0.7551 - val_precision: 0.6176 - val_recall: 0.6562\n",
      "Epoch 85/300\n",
      "10/10 [==============================] - 0s 4ms/step - loss: 0.4308 - accuracy: 0.7891 - precision: 0.6875 - recall: 0.6735 - val_loss: 0.4851 - val_accuracy: 0.7449 - val_precision: 0.6000 - val_recall: 0.6562\n",
      "Epoch 86/300\n",
      "10/10 [==============================] - 0s 3ms/step - loss: 0.4298 - accuracy: 0.7925 - precision: 0.6869 - recall: 0.6939 - val_loss: 0.4840 - val_accuracy: 0.7449 - val_precision: 0.6000 - val_recall: 0.6562\n",
      "Epoch 87/300\n",
      "10/10 [==============================] - 0s 4ms/step - loss: 0.4278 - accuracy: 0.7857 - precision: 0.6804 - recall: 0.6735 - val_loss: 0.4786 - val_accuracy: 0.7551 - val_precision: 0.6176 - val_recall: 0.6562\n",
      "Epoch 88/300\n",
      "10/10 [==============================] - 0s 4ms/step - loss: 0.4266 - accuracy: 0.7823 - precision: 0.6889 - recall: 0.6327 - val_loss: 0.4710 - val_accuracy: 0.7653 - val_precision: 0.6364 - val_recall: 0.6562\n",
      "Epoch 89/300\n",
      "10/10 [==============================] - 0s 2ms/step - loss: 0.4280 - accuracy: 0.7789 - precision: 0.6988 - recall: 0.5918 - val_loss: 0.4713 - val_accuracy: 0.7653 - val_precision: 0.6364 - val_recall: 0.6562\n",
      "Epoch 90/300\n",
      "10/10 [==============================] - 0s 4ms/step - loss: 0.4253 - accuracy: 0.7857 - precision: 0.7011 - recall: 0.6224 - val_loss: 0.4783 - val_accuracy: 0.7551 - val_precision: 0.6176 - val_recall: 0.6562\n",
      "Epoch 91/300\n",
      "10/10 [==============================] - 0s 3ms/step - loss: 0.4273 - accuracy: 0.7857 - precision: 0.6804 - recall: 0.6735 - val_loss: 0.4851 - val_accuracy: 0.7653 - val_precision: 0.6216 - val_recall: 0.7188\n",
      "Epoch 92/300\n",
      "10/10 [==============================] - 0s 4ms/step - loss: 0.4262 - accuracy: 0.7925 - precision: 0.6989 - recall: 0.6633 - val_loss: 0.4741 - val_accuracy: 0.7653 - val_precision: 0.6364 - val_recall: 0.6562\n",
      "Epoch 93/300\n",
      "10/10 [==============================] - 0s 4ms/step - loss: 0.4248 - accuracy: 0.7925 - precision: 0.7079 - recall: 0.6429 - val_loss: 0.4768 - val_accuracy: 0.7653 - val_precision: 0.6364 - val_recall: 0.6562\n",
      "Epoch 94/300\n",
      "10/10 [==============================] - 0s 4ms/step - loss: 0.4243 - accuracy: 0.7891 - precision: 0.6957 - recall: 0.6531 - val_loss: 0.4820 - val_accuracy: 0.7449 - val_precision: 0.6000 - val_recall: 0.6562\n",
      "Epoch 95/300\n",
      "10/10 [==============================] - 0s 4ms/step - loss: 0.4243 - accuracy: 0.7857 - precision: 0.6882 - recall: 0.6531 - val_loss: 0.4788 - val_accuracy: 0.7653 - val_precision: 0.6364 - val_recall: 0.6562\n",
      "Epoch 96/300\n",
      "10/10 [==============================] - 0s 5ms/step - loss: 0.4232 - accuracy: 0.7891 - precision: 0.7000 - recall: 0.6429 - val_loss: 0.4745 - val_accuracy: 0.7653 - val_precision: 0.6364 - val_recall: 0.6562\n",
      "Epoch 97/300\n",
      "10/10 [==============================] - 0s 5ms/step - loss: 0.4242 - accuracy: 0.7891 - precision: 0.7093 - recall: 0.6224 - val_loss: 0.4732 - val_accuracy: 0.7653 - val_precision: 0.6364 - val_recall: 0.6562\n",
      "Epoch 98/300\n",
      "10/10 [==============================] - 0s 4ms/step - loss: 0.4238 - accuracy: 0.7925 - precision: 0.7079 - recall: 0.6429 - val_loss: 0.4765 - val_accuracy: 0.7653 - val_precision: 0.6364 - val_recall: 0.6562\n",
      "Epoch 99/300\n",
      "10/10 [==============================] - 0s 4ms/step - loss: 0.4228 - accuracy: 0.7891 - precision: 0.7045 - recall: 0.6327 - val_loss: 0.4752 - val_accuracy: 0.7653 - val_precision: 0.6364 - val_recall: 0.6562\n",
      "Epoch 100/300\n",
      "10/10 [==============================] - 0s 4ms/step - loss: 0.4224 - accuracy: 0.7891 - precision: 0.7045 - recall: 0.6327 - val_loss: 0.4794 - val_accuracy: 0.7653 - val_precision: 0.6364 - val_recall: 0.6562\n",
      "Epoch 101/300\n",
      "10/10 [==============================] - 0s 4ms/step - loss: 0.4236 - accuracy: 0.7823 - precision: 0.6809 - recall: 0.6531 - val_loss: 0.4845 - val_accuracy: 0.7653 - val_precision: 0.6216 - val_recall: 0.7188\n",
      "Epoch 102/300\n",
      "10/10 [==============================] - 0s 4ms/step - loss: 0.4232 - accuracy: 0.7891 - precision: 0.7000 - recall: 0.6429 - val_loss: 0.4761 - val_accuracy: 0.7653 - val_precision: 0.6364 - val_recall: 0.6562\n",
      "Epoch 103/300\n",
      "10/10 [==============================] - 0s 4ms/step - loss: 0.4215 - accuracy: 0.7857 - precision: 0.7011 - recall: 0.6224 - val_loss: 0.4758 - val_accuracy: 0.7653 - val_precision: 0.6364 - val_recall: 0.6562\n",
      "Epoch 104/300\n",
      "10/10 [==============================] - 0s 4ms/step - loss: 0.4211 - accuracy: 0.7857 - precision: 0.7011 - recall: 0.6224 - val_loss: 0.4774 - val_accuracy: 0.7653 - val_precision: 0.6364 - val_recall: 0.6562\n",
      "Epoch 105/300\n",
      "10/10 [==============================] - 0s 2ms/step - loss: 0.4207 - accuracy: 0.7891 - precision: 0.7000 - recall: 0.6429 - val_loss: 0.4820 - val_accuracy: 0.7653 - val_precision: 0.6286 - val_recall: 0.6875\n",
      "Epoch 106/300\n",
      "10/10 [==============================] - 0s 4ms/step - loss: 0.4225 - accuracy: 0.7993 - precision: 0.7010 - recall: 0.6939 - val_loss: 0.4859 - val_accuracy: 0.7755 - val_precision: 0.6389 - val_recall: 0.7188\n",
      "Epoch 107/300\n",
      "10/10 [==============================] - 0s 3ms/step - loss: 0.4202 - accuracy: 0.7857 - precision: 0.6882 - recall: 0.6531 - val_loss: 0.4788 - val_accuracy: 0.7653 - val_precision: 0.6364 - val_recall: 0.6562\n",
      "Epoch 108/300\n",
      "10/10 [==============================] - 0s 3ms/step - loss: 0.4226 - accuracy: 0.7857 - precision: 0.7011 - recall: 0.6224 - val_loss: 0.4738 - val_accuracy: 0.7653 - val_precision: 0.6364 - val_recall: 0.6562\n",
      "Epoch 109/300\n",
      "10/10 [==============================] - 0s 4ms/step - loss: 0.4212 - accuracy: 0.7925 - precision: 0.7079 - recall: 0.6429 - val_loss: 0.4816 - val_accuracy: 0.7653 - val_precision: 0.6286 - val_recall: 0.6875\n",
      "Epoch 110/300\n",
      "10/10 [==============================] - 0s 3ms/step - loss: 0.4206 - accuracy: 0.7857 - precision: 0.6882 - recall: 0.6531 - val_loss: 0.4821 - val_accuracy: 0.7653 - val_precision: 0.6286 - val_recall: 0.6875\n",
      "Epoch 111/300\n",
      "10/10 [==============================] - 0s 4ms/step - loss: 0.4198 - accuracy: 0.7823 - precision: 0.6889 - recall: 0.6327 - val_loss: 0.4740 - val_accuracy: 0.7653 - val_precision: 0.6364 - val_recall: 0.6562\n",
      "Epoch 112/300\n",
      "10/10 [==============================] - 0s 4ms/step - loss: 0.4240 - accuracy: 0.7823 - precision: 0.7024 - recall: 0.6020 - val_loss: 0.4732 - val_accuracy: 0.7653 - val_precision: 0.6452 - val_recall: 0.6250\n",
      "Epoch 113/300\n",
      "10/10 [==============================] - 0s 4ms/step - loss: 0.4204 - accuracy: 0.7857 - precision: 0.7059 - recall: 0.6122 - val_loss: 0.4812 - val_accuracy: 0.7653 - val_precision: 0.6286 - val_recall: 0.6875\n",
      "Epoch 114/300\n",
      "10/10 [==============================] - 0s 5ms/step - loss: 0.4213 - accuracy: 0.7789 - precision: 0.6774 - recall: 0.6429 - val_loss: 0.4881 - val_accuracy: 0.7755 - val_precision: 0.6389 - val_recall: 0.7188\n",
      "Epoch 115/300\n",
      "10/10 [==============================] - 0s 5ms/step - loss: 0.4198 - accuracy: 0.7891 - precision: 0.6875 - recall: 0.6735 - val_loss: 0.4838 - val_accuracy: 0.7653 - val_precision: 0.6286 - val_recall: 0.6875\n",
      "Epoch 116/300\n",
      "10/10 [==============================] - 0s 4ms/step - loss: 0.4189 - accuracy: 0.7925 - precision: 0.6989 - recall: 0.6633 - val_loss: 0.4817 - val_accuracy: 0.7551 - val_precision: 0.6176 - val_recall: 0.6562\n",
      "Epoch 117/300\n",
      "10/10 [==============================] - 0s 4ms/step - loss: 0.4183 - accuracy: 0.7857 - precision: 0.6923 - recall: 0.6429 - val_loss: 0.4805 - val_accuracy: 0.7551 - val_precision: 0.6176 - val_recall: 0.6562\n",
      "Epoch 118/300\n",
      "10/10 [==============================] - 0s 4ms/step - loss: 0.4221 - accuracy: 0.7823 - precision: 0.6977 - recall: 0.6122 - val_loss: 0.4746 - val_accuracy: 0.7755 - val_precision: 0.6562 - val_recall: 0.6562\n",
      "Epoch 119/300\n",
      "10/10 [==============================] - 0s 3ms/step - loss: 0.4197 - accuracy: 0.7891 - precision: 0.7093 - recall: 0.6224 - val_loss: 0.4811 - val_accuracy: 0.7653 - val_precision: 0.6286 - val_recall: 0.6875\n",
      "Epoch 120/300\n",
      "10/10 [==============================] - 0s 4ms/step - loss: 0.4187 - accuracy: 0.7891 - precision: 0.6875 - recall: 0.6735 - val_loss: 0.4879 - val_accuracy: 0.7857 - val_precision: 0.6486 - val_recall: 0.7500\n",
      "Epoch 121/300\n",
      "10/10 [==============================] - 0s 4ms/step - loss: 0.4184 - accuracy: 0.7891 - precision: 0.6875 - recall: 0.6735 - val_loss: 0.4832 - val_accuracy: 0.7653 - val_precision: 0.6286 - val_recall: 0.6875\n",
      "Epoch 122/300\n",
      "10/10 [==============================] - 0s 4ms/step - loss: 0.4176 - accuracy: 0.7857 - precision: 0.6842 - recall: 0.6633 - val_loss: 0.4859 - val_accuracy: 0.7653 - val_precision: 0.6286 - val_recall: 0.6875\n",
      "Epoch 123/300\n",
      "10/10 [==============================] - 0s 4ms/step - loss: 0.4174 - accuracy: 0.7857 - precision: 0.6882 - recall: 0.6531 - val_loss: 0.4817 - val_accuracy: 0.7653 - val_precision: 0.6286 - val_recall: 0.6875\n",
      "Epoch 124/300\n",
      "10/10 [==============================] - 0s 5ms/step - loss: 0.4173 - accuracy: 0.7857 - precision: 0.6923 - recall: 0.6429 - val_loss: 0.4804 - val_accuracy: 0.7551 - val_precision: 0.6176 - val_recall: 0.6562\n",
      "Epoch 125/300\n",
      "10/10 [==============================] - 0s 4ms/step - loss: 0.4175 - accuracy: 0.7823 - precision: 0.6889 - recall: 0.6327 - val_loss: 0.4811 - val_accuracy: 0.7551 - val_precision: 0.6176 - val_recall: 0.6562\n",
      "Epoch 126/300\n",
      "10/10 [==============================] - 0s 4ms/step - loss: 0.4169 - accuracy: 0.7823 - precision: 0.6889 - recall: 0.6327 - val_loss: 0.4824 - val_accuracy: 0.7653 - val_precision: 0.6286 - val_recall: 0.6875\n",
      "Epoch 127/300\n",
      "10/10 [==============================] - 0s 4ms/step - loss: 0.4168 - accuracy: 0.7823 - precision: 0.6889 - recall: 0.6327 - val_loss: 0.4806 - val_accuracy: 0.7653 - val_precision: 0.6286 - val_recall: 0.6875\n",
      "Epoch 128/300\n",
      "10/10 [==============================] - 0s 4ms/step - loss: 0.4169 - accuracy: 0.7857 - precision: 0.6923 - recall: 0.6429 - val_loss: 0.4823 - val_accuracy: 0.7653 - val_precision: 0.6286 - val_recall: 0.6875\n",
      "Epoch 129/300\n",
      "10/10 [==============================] - 0s 3ms/step - loss: 0.4178 - accuracy: 0.7857 - precision: 0.6966 - recall: 0.6327 - val_loss: 0.4800 - val_accuracy: 0.7551 - val_precision: 0.6176 - val_recall: 0.6562\n",
      "Epoch 130/300\n",
      "10/10 [==============================] - 0s 5ms/step - loss: 0.4187 - accuracy: 0.7857 - precision: 0.6842 - recall: 0.6633 - val_loss: 0.4840 - val_accuracy: 0.7653 - val_precision: 0.6286 - val_recall: 0.6875\n",
      "Epoch 131/300\n",
      "10/10 [==============================] - 0s 4ms/step - loss: 0.4153 - accuracy: 0.7891 - precision: 0.7045 - recall: 0.6327 - val_loss: 0.4773 - val_accuracy: 0.7653 - val_precision: 0.6364 - val_recall: 0.6562\n",
      "Epoch 132/300\n",
      "10/10 [==============================] - 0s 3ms/step - loss: 0.4174 - accuracy: 0.7857 - precision: 0.7059 - recall: 0.6122 - val_loss: 0.4806 - val_accuracy: 0.7551 - val_precision: 0.6176 - val_recall: 0.6562\n",
      "Epoch 133/300\n",
      "10/10 [==============================] - 0s 3ms/step - loss: 0.4154 - accuracy: 0.7789 - precision: 0.6854 - recall: 0.6224 - val_loss: 0.4841 - val_accuracy: 0.7653 - val_precision: 0.6286 - val_recall: 0.6875\n",
      "Epoch 134/300\n",
      "10/10 [==============================] - 0s 4ms/step - loss: 0.4163 - accuracy: 0.7857 - precision: 0.6842 - recall: 0.6633 - val_loss: 0.4908 - val_accuracy: 0.7857 - val_precision: 0.6486 - val_recall: 0.7500\n",
      "Epoch 135/300\n",
      "10/10 [==============================] - 0s 3ms/step - loss: 0.4180 - accuracy: 0.7925 - precision: 0.6907 - recall: 0.6837 - val_loss: 0.4897 - val_accuracy: 0.7857 - val_precision: 0.6486 - val_recall: 0.7500\n",
      "Epoch 136/300\n",
      "10/10 [==============================] - 0s 5ms/step - loss: 0.4187 - accuracy: 0.7789 - precision: 0.6774 - recall: 0.6429 - val_loss: 0.4824 - val_accuracy: 0.7653 - val_precision: 0.6286 - val_recall: 0.6875\n",
      "Epoch 137/300\n",
      "10/10 [==============================] - 0s 4ms/step - loss: 0.4145 - accuracy: 0.7891 - precision: 0.6915 - recall: 0.6633 - val_loss: 0.4892 - val_accuracy: 0.7857 - val_precision: 0.6486 - val_recall: 0.7500\n",
      "Epoch 138/300\n",
      "10/10 [==============================] - 0s 4ms/step - loss: 0.4167 - accuracy: 0.7925 - precision: 0.6907 - recall: 0.6837 - val_loss: 0.4911 - val_accuracy: 0.7857 - val_precision: 0.6486 - val_recall: 0.7500\n",
      "Epoch 139/300\n",
      "10/10 [==============================] - 0s 4ms/step - loss: 0.4161 - accuracy: 0.7789 - precision: 0.6813 - recall: 0.6327 - val_loss: 0.4802 - val_accuracy: 0.7551 - val_precision: 0.6176 - val_recall: 0.6562\n",
      "Epoch 140/300\n",
      "10/10 [==============================] - 0s 2ms/step - loss: 0.4152 - accuracy: 0.7857 - precision: 0.7059 - recall: 0.6122 - val_loss: 0.4801 - val_accuracy: 0.7653 - val_precision: 0.6286 - val_recall: 0.6875\n",
      "Epoch 141/300\n",
      "10/10 [==============================] - 0s 4ms/step - loss: 0.4162 - accuracy: 0.7857 - precision: 0.7059 - recall: 0.6122 - val_loss: 0.4793 - val_accuracy: 0.7755 - val_precision: 0.6471 - val_recall: 0.6875\n",
      "Epoch 142/300\n",
      "10/10 [==============================] - 0s 4ms/step - loss: 0.4147 - accuracy: 0.7823 - precision: 0.6977 - recall: 0.6122 - val_loss: 0.4820 - val_accuracy: 0.7653 - val_precision: 0.6286 - val_recall: 0.6875\n",
      "Epoch 143/300\n",
      "10/10 [==============================] - 0s 4ms/step - loss: 0.4145 - accuracy: 0.7823 - precision: 0.6848 - recall: 0.6429 - val_loss: 0.4842 - val_accuracy: 0.7755 - val_precision: 0.6389 - val_recall: 0.7188\n",
      "Epoch 144/300\n",
      "10/10 [==============================] - 0s 4ms/step - loss: 0.4146 - accuracy: 0.7857 - precision: 0.6842 - recall: 0.6633 - val_loss: 0.4845 - val_accuracy: 0.7653 - val_precision: 0.6286 - val_recall: 0.6875\n",
      "Epoch 145/300\n",
      "10/10 [==============================] - 0s 4ms/step - loss: 0.4142 - accuracy: 0.7823 - precision: 0.6809 - recall: 0.6531 - val_loss: 0.4857 - val_accuracy: 0.7755 - val_precision: 0.6389 - val_recall: 0.7188\n",
      "Epoch 146/300\n",
      "10/10 [==============================] - 0s 4ms/step - loss: 0.4138 - accuracy: 0.7823 - precision: 0.6809 - recall: 0.6531 - val_loss: 0.4850 - val_accuracy: 0.7653 - val_precision: 0.6286 - val_recall: 0.6875\n",
      "Epoch 147/300\n",
      "10/10 [==============================] - 0s 4ms/step - loss: 0.4143 - accuracy: 0.7823 - precision: 0.6932 - recall: 0.6224 - val_loss: 0.4815 - val_accuracy: 0.7551 - val_precision: 0.6176 - val_recall: 0.6562\n",
      "Epoch 148/300\n",
      "10/10 [==============================] - 0s 2ms/step - loss: 0.4141 - accuracy: 0.7789 - precision: 0.6854 - recall: 0.6224 - val_loss: 0.4835 - val_accuracy: 0.7653 - val_precision: 0.6286 - val_recall: 0.6875\n",
      "Epoch 149/300\n",
      "10/10 [==============================] - 0s 4ms/step - loss: 0.4135 - accuracy: 0.7823 - precision: 0.6848 - recall: 0.6429 - val_loss: 0.4846 - val_accuracy: 0.7653 - val_precision: 0.6286 - val_recall: 0.6875\n",
      "Epoch 150/300\n",
      "10/10 [==============================] - 0s 4ms/step - loss: 0.4132 - accuracy: 0.7789 - precision: 0.6854 - recall: 0.6224 - val_loss: 0.4819 - val_accuracy: 0.7551 - val_precision: 0.6176 - val_recall: 0.6562\n",
      "Epoch 151/300\n",
      "10/10 [==============================] - 0s 5ms/step - loss: 0.4137 - accuracy: 0.7789 - precision: 0.6854 - recall: 0.6224 - val_loss: 0.4839 - val_accuracy: 0.7653 - val_precision: 0.6286 - val_recall: 0.6875\n",
      "Epoch 152/300\n",
      "10/10 [==============================] - 0s 4ms/step - loss: 0.4128 - accuracy: 0.7823 - precision: 0.6889 - recall: 0.6327 - val_loss: 0.4840 - val_accuracy: 0.7653 - val_precision: 0.6286 - val_recall: 0.6875\n",
      "Epoch 153/300\n",
      "10/10 [==============================] - 0s 5ms/step - loss: 0.4128 - accuracy: 0.7789 - precision: 0.6854 - recall: 0.6224 - val_loss: 0.4845 - val_accuracy: 0.7653 - val_precision: 0.6286 - val_recall: 0.6875\n",
      "Epoch 154/300\n",
      "10/10 [==============================] - 0s 4ms/step - loss: 0.4130 - accuracy: 0.7755 - precision: 0.6778 - recall: 0.6224 - val_loss: 0.4821 - val_accuracy: 0.7551 - val_precision: 0.6176 - val_recall: 0.6562\n",
      "Epoch 155/300\n",
      "10/10 [==============================] - 0s 4ms/step - loss: 0.4138 - accuracy: 0.7857 - precision: 0.7059 - recall: 0.6122 - val_loss: 0.4817 - val_accuracy: 0.7551 - val_precision: 0.6176 - val_recall: 0.6562\n",
      "Epoch 156/300\n",
      "10/10 [==============================] - 0s 4ms/step - loss: 0.4119 - accuracy: 0.7823 - precision: 0.6932 - recall: 0.6224 - val_loss: 0.4876 - val_accuracy: 0.7755 - val_precision: 0.6389 - val_recall: 0.7188\n",
      "Epoch 157/300\n",
      "10/10 [==============================] - 0s 4ms/step - loss: 0.4127 - accuracy: 0.7823 - precision: 0.6809 - recall: 0.6531 - val_loss: 0.4912 - val_accuracy: 0.7857 - val_precision: 0.6486 - val_recall: 0.7500\n",
      "Epoch 158/300\n",
      "10/10 [==============================] - 0s 3ms/step - loss: 0.4157 - accuracy: 0.7993 - precision: 0.6970 - recall: 0.7041 - val_loss: 0.4987 - val_accuracy: 0.7755 - val_precision: 0.6316 - val_recall: 0.7500\n",
      "Epoch 159/300\n",
      "10/10 [==============================] - 0s 3ms/step - loss: 0.4140 - accuracy: 0.7891 - precision: 0.6875 - recall: 0.6735 - val_loss: 0.4872 - val_accuracy: 0.7755 - val_precision: 0.6389 - val_recall: 0.7188\n",
      "Epoch 160/300\n",
      "10/10 [==============================] - 0s 4ms/step - loss: 0.4156 - accuracy: 0.7823 - precision: 0.6889 - recall: 0.6327 - val_loss: 0.4820 - val_accuracy: 0.7551 - val_precision: 0.6176 - val_recall: 0.6562\n",
      "Epoch 161/300\n",
      "10/10 [==============================] - 0s 4ms/step - loss: 0.4112 - accuracy: 0.7857 - precision: 0.6966 - recall: 0.6327 - val_loss: 0.4882 - val_accuracy: 0.7755 - val_precision: 0.6389 - val_recall: 0.7188\n",
      "Epoch 162/300\n",
      "10/10 [==============================] - 0s 3ms/step - loss: 0.4121 - accuracy: 0.7857 - precision: 0.6882 - recall: 0.6531 - val_loss: 0.4862 - val_accuracy: 0.7755 - val_precision: 0.6389 - val_recall: 0.7188\n",
      "Epoch 163/300\n",
      "10/10 [==============================] - 0s 4ms/step - loss: 0.4124 - accuracy: 0.7823 - precision: 0.6848 - recall: 0.6429 - val_loss: 0.4872 - val_accuracy: 0.7755 - val_precision: 0.6389 - val_recall: 0.7188\n",
      "Epoch 164/300\n",
      "10/10 [==============================] - 0s 4ms/step - loss: 0.4115 - accuracy: 0.7823 - precision: 0.6809 - recall: 0.6531 - val_loss: 0.4885 - val_accuracy: 0.7755 - val_precision: 0.6389 - val_recall: 0.7188\n",
      "Epoch 165/300\n",
      "10/10 [==============================] - 0s 2ms/step - loss: 0.4115 - accuracy: 0.7789 - precision: 0.6854 - recall: 0.6224 - val_loss: 0.4846 - val_accuracy: 0.7551 - val_precision: 0.6176 - val_recall: 0.6562\n",
      "Epoch 166/300\n",
      "10/10 [==============================] - 0s 6ms/step - loss: 0.4127 - accuracy: 0.7755 - precision: 0.6778 - recall: 0.6224 - val_loss: 0.4859 - val_accuracy: 0.7755 - val_precision: 0.6389 - val_recall: 0.7188\n",
      "Epoch 167/300\n",
      "10/10 [==============================] - 0s 4ms/step - loss: 0.4114 - accuracy: 0.7823 - precision: 0.6848 - recall: 0.6429 - val_loss: 0.4878 - val_accuracy: 0.7755 - val_precision: 0.6389 - val_recall: 0.7188\n",
      "Epoch 168/300\n",
      "10/10 [==============================] - 0s 4ms/step - loss: 0.4112 - accuracy: 0.7823 - precision: 0.6809 - recall: 0.6531 - val_loss: 0.4879 - val_accuracy: 0.7755 - val_precision: 0.6389 - val_recall: 0.7188\n",
      "Epoch 169/300\n",
      "10/10 [==============================] - 0s 4ms/step - loss: 0.4114 - accuracy: 0.7823 - precision: 0.6809 - recall: 0.6531 - val_loss: 0.4897 - val_accuracy: 0.7755 - val_precision: 0.6389 - val_recall: 0.7188\n",
      "Epoch 170/300\n",
      "10/10 [==============================] - 0s 5ms/step - loss: 0.4115 - accuracy: 0.7823 - precision: 0.6848 - recall: 0.6429 - val_loss: 0.4856 - val_accuracy: 0.7653 - val_precision: 0.6286 - val_recall: 0.6875\n",
      "Epoch 171/300\n",
      "10/10 [==============================] - 0s 6ms/step - loss: 0.4112 - accuracy: 0.7823 - precision: 0.6932 - recall: 0.6224 - val_loss: 0.4865 - val_accuracy: 0.7755 - val_precision: 0.6389 - val_recall: 0.7188\n",
      "Epoch 172/300\n",
      "10/10 [==============================] - 0s 3ms/step - loss: 0.4097 - accuracy: 0.7857 - precision: 0.6842 - recall: 0.6633 - val_loss: 0.4944 - val_accuracy: 0.7857 - val_precision: 0.6486 - val_recall: 0.7500\n",
      "Epoch 173/300\n",
      "10/10 [==============================] - 0s 4ms/step - loss: 0.4123 - accuracy: 0.7993 - precision: 0.6970 - recall: 0.7041 - val_loss: 0.4931 - val_accuracy: 0.7857 - val_precision: 0.6486 - val_recall: 0.7500\n",
      "Epoch 174/300\n",
      "10/10 [==============================] - 0s 5ms/step - loss: 0.4095 - accuracy: 0.7891 - precision: 0.6957 - recall: 0.6531 - val_loss: 0.4827 - val_accuracy: 0.7551 - val_precision: 0.6176 - val_recall: 0.6562\n",
      "Epoch 175/300\n",
      "10/10 [==============================] - 0s 4ms/step - loss: 0.4130 - accuracy: 0.7891 - precision: 0.7143 - recall: 0.6122 - val_loss: 0.4803 - val_accuracy: 0.7653 - val_precision: 0.6364 - val_recall: 0.6562\n",
      "Epoch 176/300\n",
      "10/10 [==============================] - 0s 4ms/step - loss: 0.4101 - accuracy: 0.7823 - precision: 0.6977 - recall: 0.6122 - val_loss: 0.4889 - val_accuracy: 0.7755 - val_precision: 0.6389 - val_recall: 0.7188\n",
      "Epoch 177/300\n",
      "10/10 [==============================] - 0s 2ms/step - loss: 0.4098 - accuracy: 0.7857 - precision: 0.6842 - recall: 0.6633 - val_loss: 0.4929 - val_accuracy: 0.7755 - val_precision: 0.6389 - val_recall: 0.7188\n",
      "Epoch 178/300\n",
      "10/10 [==============================] - 0s 4ms/step - loss: 0.4111 - accuracy: 0.8061 - precision: 0.7030 - recall: 0.7245 - val_loss: 0.4954 - val_accuracy: 0.7857 - val_precision: 0.6486 - val_recall: 0.7500\n",
      "Epoch 179/300\n",
      "10/10 [==============================] - 0s 3ms/step - loss: 0.4106 - accuracy: 0.7925 - precision: 0.6907 - recall: 0.6837 - val_loss: 0.4926 - val_accuracy: 0.7857 - val_precision: 0.6486 - val_recall: 0.7500\n",
      "Epoch 180/300\n",
      "10/10 [==============================] - 0s 5ms/step - loss: 0.4105 - accuracy: 0.7823 - precision: 0.6809 - recall: 0.6531 - val_loss: 0.4911 - val_accuracy: 0.7755 - val_precision: 0.6389 - val_recall: 0.7188\n",
      "Epoch 181/300\n",
      "10/10 [==============================] - 0s 4ms/step - loss: 0.4091 - accuracy: 0.7925 - precision: 0.6907 - recall: 0.6837 - val_loss: 0.4991 - val_accuracy: 0.7755 - val_precision: 0.6316 - val_recall: 0.7500\n",
      "Epoch 182/300\n",
      "10/10 [==============================] - 0s 4ms/step - loss: 0.4143 - accuracy: 0.8061 - precision: 0.6916 - recall: 0.7551 - val_loss: 0.5000 - val_accuracy: 0.7755 - val_precision: 0.6316 - val_recall: 0.7500\n",
      "Epoch 183/300\n",
      "10/10 [==============================] - 0s 4ms/step - loss: 0.4086 - accuracy: 0.7959 - precision: 0.6979 - recall: 0.6837 - val_loss: 0.4869 - val_accuracy: 0.7551 - val_precision: 0.6176 - val_recall: 0.6562\n",
      "Epoch 184/300\n",
      "10/10 [==============================] - 0s 4ms/step - loss: 0.4103 - accuracy: 0.7789 - precision: 0.6897 - recall: 0.6122 - val_loss: 0.4824 - val_accuracy: 0.7449 - val_precision: 0.6061 - val_recall: 0.6250\n",
      "Epoch 185/300\n",
      "10/10 [==============================] - 0s 3ms/step - loss: 0.4108 - accuracy: 0.7823 - precision: 0.7024 - recall: 0.6020 - val_loss: 0.4837 - val_accuracy: 0.7653 - val_precision: 0.6286 - val_recall: 0.6875\n",
      "Epoch 186/300\n",
      "10/10 [==============================] - 0s 4ms/step - loss: 0.4093 - accuracy: 0.7823 - precision: 0.6977 - recall: 0.6122 - val_loss: 0.4847 - val_accuracy: 0.7551 - val_precision: 0.6176 - val_recall: 0.6562\n",
      "Epoch 187/300\n",
      "10/10 [==============================] - 0s 4ms/step - loss: 0.4087 - accuracy: 0.7823 - precision: 0.6932 - recall: 0.6224 - val_loss: 0.4839 - val_accuracy: 0.7551 - val_precision: 0.6176 - val_recall: 0.6562\n",
      "Epoch 188/300\n",
      "10/10 [==============================] - 0s 4ms/step - loss: 0.4086 - accuracy: 0.7857 - precision: 0.6966 - recall: 0.6327 - val_loss: 0.4867 - val_accuracy: 0.7551 - val_precision: 0.6176 - val_recall: 0.6562\n",
      "Epoch 189/300\n",
      "10/10 [==============================] - 0s 4ms/step - loss: 0.4103 - accuracy: 0.7857 - precision: 0.6882 - recall: 0.6531 - val_loss: 0.4940 - val_accuracy: 0.7857 - val_precision: 0.6486 - val_recall: 0.7500\n",
      "Epoch 190/300\n",
      "10/10 [==============================] - 0s 5ms/step - loss: 0.4088 - accuracy: 0.7925 - precision: 0.6989 - recall: 0.6633 - val_loss: 0.4871 - val_accuracy: 0.7551 - val_precision: 0.6176 - val_recall: 0.6562\n",
      "Epoch 191/300\n",
      "10/10 [==============================] - 0s 4ms/step - loss: 0.4086 - accuracy: 0.7857 - precision: 0.6966 - recall: 0.6327 - val_loss: 0.4862 - val_accuracy: 0.7551 - val_precision: 0.6176 - val_recall: 0.6562\n",
      "Epoch 192/300\n",
      "10/10 [==============================] - 0s 3ms/step - loss: 0.4085 - accuracy: 0.7857 - precision: 0.6966 - recall: 0.6327 - val_loss: 0.4856 - val_accuracy: 0.7551 - val_precision: 0.6176 - val_recall: 0.6562\n",
      "Epoch 193/300\n",
      "10/10 [==============================] - 0s 5ms/step - loss: 0.4094 - accuracy: 0.7789 - precision: 0.6941 - recall: 0.6020 - val_loss: 0.4846 - val_accuracy: 0.7449 - val_precision: 0.6061 - val_recall: 0.6250\n",
      "Epoch 194/300\n",
      "10/10 [==============================] - 0s 4ms/step - loss: 0.4086 - accuracy: 0.7891 - precision: 0.7093 - recall: 0.6224 - val_loss: 0.4885 - val_accuracy: 0.7551 - val_precision: 0.6176 - val_recall: 0.6562\n",
      "Epoch 195/300\n",
      "10/10 [==============================] - 0s 5ms/step - loss: 0.4076 - accuracy: 0.7891 - precision: 0.6957 - recall: 0.6531 - val_loss: 0.4901 - val_accuracy: 0.7755 - val_precision: 0.6389 - val_recall: 0.7188\n",
      "Epoch 196/300\n",
      "10/10 [==============================] - 0s 4ms/step - loss: 0.4080 - accuracy: 0.7857 - precision: 0.6882 - recall: 0.6531 - val_loss: 0.4916 - val_accuracy: 0.7755 - val_precision: 0.6389 - val_recall: 0.7188\n",
      "Epoch 197/300\n",
      "10/10 [==============================] - 0s 4ms/step - loss: 0.4085 - accuracy: 0.7891 - precision: 0.6915 - recall: 0.6633 - val_loss: 0.4942 - val_accuracy: 0.7857 - val_precision: 0.6486 - val_recall: 0.7500\n",
      "Epoch 198/300\n",
      "10/10 [==============================] - 0s 4ms/step - loss: 0.4080 - accuracy: 0.7891 - precision: 0.6957 - recall: 0.6531 - val_loss: 0.4893 - val_accuracy: 0.7653 - val_precision: 0.6286 - val_recall: 0.6875\n",
      "Epoch 199/300\n",
      "10/10 [==============================] - 0s 4ms/step - loss: 0.4079 - accuracy: 0.7857 - precision: 0.6882 - recall: 0.6531 - val_loss: 0.4902 - val_accuracy: 0.7653 - val_precision: 0.6286 - val_recall: 0.6875\n",
      "Epoch 200/300\n",
      "10/10 [==============================] - 0s 3ms/step - loss: 0.4074 - accuracy: 0.7925 - precision: 0.7126 - recall: 0.6327 - val_loss: 0.4847 - val_accuracy: 0.7449 - val_precision: 0.6061 - val_recall: 0.6250\n",
      "Epoch 201/300\n",
      "10/10 [==============================] - 0s 4ms/step - loss: 0.4086 - accuracy: 0.7891 - precision: 0.7045 - recall: 0.6327 - val_loss: 0.4887 - val_accuracy: 0.7653 - val_precision: 0.6286 - val_recall: 0.6875\n",
      "Epoch 202/300\n",
      "10/10 [==============================] - 0s 3ms/step - loss: 0.4074 - accuracy: 0.7857 - precision: 0.6882 - recall: 0.6531 - val_loss: 0.4934 - val_accuracy: 0.7857 - val_precision: 0.6486 - val_recall: 0.7500\n",
      "Epoch 203/300\n",
      "10/10 [==============================] - 0s 5ms/step - loss: 0.4070 - accuracy: 0.7823 - precision: 0.6848 - recall: 0.6429 - val_loss: 0.4908 - val_accuracy: 0.7653 - val_precision: 0.6286 - val_recall: 0.6875\n",
      "Epoch 204/300\n",
      "10/10 [==============================] - 0s 5ms/step - loss: 0.4077 - accuracy: 0.7823 - precision: 0.6889 - recall: 0.6327 - val_loss: 0.4907 - val_accuracy: 0.7653 - val_precision: 0.6286 - val_recall: 0.6875\n",
      "Epoch 205/300\n",
      "10/10 [==============================] - 0s 4ms/step - loss: 0.4068 - accuracy: 0.7823 - precision: 0.6848 - recall: 0.6429 - val_loss: 0.4908 - val_accuracy: 0.7653 - val_precision: 0.6286 - val_recall: 0.6875\n",
      "Epoch 206/300\n",
      "10/10 [==============================] - 0s 5ms/step - loss: 0.4086 - accuracy: 0.7789 - precision: 0.6854 - recall: 0.6224 - val_loss: 0.4896 - val_accuracy: 0.7551 - val_precision: 0.6176 - val_recall: 0.6562\n",
      "Epoch 207/300\n",
      "10/10 [==============================] - 0s 4ms/step - loss: 0.4114 - accuracy: 0.8027 - precision: 0.7041 - recall: 0.7041 - val_loss: 0.5001 - val_accuracy: 0.7857 - val_precision: 0.6486 - val_recall: 0.7500\n",
      "Epoch 208/300\n",
      "10/10 [==============================] - 0s 3ms/step - loss: 0.4078 - accuracy: 0.7993 - precision: 0.7010 - recall: 0.6939 - val_loss: 0.4929 - val_accuracy: 0.7653 - val_precision: 0.6286 - val_recall: 0.6875\n",
      "Epoch 209/300\n",
      "10/10 [==============================] - 0s 4ms/step - loss: 0.4082 - accuracy: 0.7823 - precision: 0.6932 - recall: 0.6224 - val_loss: 0.4898 - val_accuracy: 0.7551 - val_precision: 0.6176 - val_recall: 0.6562\n",
      "Epoch 210/300\n",
      "10/10 [==============================] - 0s 3ms/step - loss: 0.4067 - accuracy: 0.7891 - precision: 0.7000 - recall: 0.6429 - val_loss: 0.4914 - val_accuracy: 0.7653 - val_precision: 0.6286 - val_recall: 0.6875\n",
      "Epoch 211/300\n",
      "10/10 [==============================] - 0s 5ms/step - loss: 0.4071 - accuracy: 0.7891 - precision: 0.7000 - recall: 0.6429 - val_loss: 0.4893 - val_accuracy: 0.7653 - val_precision: 0.6286 - val_recall: 0.6875\n",
      "Epoch 212/300\n",
      "10/10 [==============================] - 0s 4ms/step - loss: 0.4070 - accuracy: 0.7891 - precision: 0.7000 - recall: 0.6429 - val_loss: 0.4914 - val_accuracy: 0.7653 - val_precision: 0.6286 - val_recall: 0.6875\n",
      "Epoch 213/300\n",
      "10/10 [==============================] - 0s 4ms/step - loss: 0.4063 - accuracy: 0.7925 - precision: 0.7079 - recall: 0.6429 - val_loss: 0.4900 - val_accuracy: 0.7653 - val_precision: 0.6286 - val_recall: 0.6875\n",
      "Epoch 214/300\n",
      "10/10 [==============================] - 0s 4ms/step - loss: 0.4059 - accuracy: 0.7891 - precision: 0.7000 - recall: 0.6429 - val_loss: 0.4938 - val_accuracy: 0.7653 - val_precision: 0.6286 - val_recall: 0.6875\n",
      "Epoch 215/300\n",
      "10/10 [==============================] - 0s 4ms/step - loss: 0.4070 - accuracy: 0.8027 - precision: 0.7041 - recall: 0.7041 - val_loss: 0.4969 - val_accuracy: 0.7755 - val_precision: 0.6389 - val_recall: 0.7188\n",
      "Epoch 216/300\n",
      "10/10 [==============================] - 0s 3ms/step - loss: 0.4061 - accuracy: 0.7925 - precision: 0.6947 - recall: 0.6735 - val_loss: 0.4941 - val_accuracy: 0.7551 - val_precision: 0.6176 - val_recall: 0.6562\n",
      "Epoch 217/300\n",
      "10/10 [==============================] - 0s 3ms/step - loss: 0.4064 - accuracy: 0.7755 - precision: 0.6778 - recall: 0.6224 - val_loss: 0.4916 - val_accuracy: 0.7551 - val_precision: 0.6176 - val_recall: 0.6562\n",
      "Epoch 218/300\n",
      "10/10 [==============================] - 0s 5ms/step - loss: 0.4059 - accuracy: 0.7857 - precision: 0.6923 - recall: 0.6429 - val_loss: 0.4894 - val_accuracy: 0.7551 - val_precision: 0.6176 - val_recall: 0.6562\n",
      "Epoch 219/300\n",
      "10/10 [==============================] - 0s 4ms/step - loss: 0.4066 - accuracy: 0.7823 - precision: 0.6848 - recall: 0.6429 - val_loss: 0.4922 - val_accuracy: 0.7653 - val_precision: 0.6286 - val_recall: 0.6875\n",
      "Epoch 220/300\n",
      "10/10 [==============================] - 0s 3ms/step - loss: 0.4063 - accuracy: 0.7823 - precision: 0.6848 - recall: 0.6429 - val_loss: 0.4929 - val_accuracy: 0.7653 - val_precision: 0.6286 - val_recall: 0.6875\n",
      "Epoch 221/300\n",
      "10/10 [==============================] - 0s 4ms/step - loss: 0.4051 - accuracy: 0.7857 - precision: 0.6923 - recall: 0.6429 - val_loss: 0.4925 - val_accuracy: 0.7653 - val_precision: 0.6286 - val_recall: 0.6875\n",
      "Epoch 222/300\n",
      "10/10 [==============================] - 0s 4ms/step - loss: 0.4052 - accuracy: 0.7823 - precision: 0.6848 - recall: 0.6429 - val_loss: 0.4944 - val_accuracy: 0.7653 - val_precision: 0.6286 - val_recall: 0.6875\n",
      "Epoch 223/300\n",
      "10/10 [==============================] - 0s 4ms/step - loss: 0.4053 - accuracy: 0.7857 - precision: 0.6882 - recall: 0.6531 - val_loss: 0.4955 - val_accuracy: 0.7755 - val_precision: 0.6389 - val_recall: 0.7188\n",
      "Epoch 224/300\n",
      "10/10 [==============================] - 0s 4ms/step - loss: 0.4060 - accuracy: 0.7823 - precision: 0.6848 - recall: 0.6429 - val_loss: 0.4928 - val_accuracy: 0.7551 - val_precision: 0.6176 - val_recall: 0.6562\n",
      "Epoch 225/300\n",
      "10/10 [==============================] - 0s 4ms/step - loss: 0.4049 - accuracy: 0.7857 - precision: 0.6923 - recall: 0.6429 - val_loss: 0.4954 - val_accuracy: 0.7653 - val_precision: 0.6286 - val_recall: 0.6875\n",
      "Epoch 226/300\n",
      "10/10 [==============================] - 0s 4ms/step - loss: 0.4066 - accuracy: 0.7993 - precision: 0.7010 - recall: 0.6939 - val_loss: 0.5018 - val_accuracy: 0.7653 - val_precision: 0.6216 - val_recall: 0.7188\n",
      "Epoch 227/300\n",
      "10/10 [==============================] - 0s 2ms/step - loss: 0.4060 - accuracy: 0.8027 - precision: 0.7041 - recall: 0.7041 - val_loss: 0.4950 - val_accuracy: 0.7551 - val_precision: 0.6176 - val_recall: 0.6562\n",
      "Epoch 228/300\n",
      "10/10 [==============================] - 0s 4ms/step - loss: 0.4049 - accuracy: 0.7823 - precision: 0.6848 - recall: 0.6429 - val_loss: 0.4932 - val_accuracy: 0.7551 - val_precision: 0.6176 - val_recall: 0.6562\n",
      "Epoch 229/300\n",
      "10/10 [==============================] - 0s 3ms/step - loss: 0.4045 - accuracy: 0.7857 - precision: 0.6923 - recall: 0.6429 - val_loss: 0.4927 - val_accuracy: 0.7551 - val_precision: 0.6176 - val_recall: 0.6562\n",
      "Epoch 230/300\n",
      "10/10 [==============================] - 0s 5ms/step - loss: 0.4045 - accuracy: 0.7823 - precision: 0.6848 - recall: 0.6429 - val_loss: 0.4955 - val_accuracy: 0.7653 - val_precision: 0.6286 - val_recall: 0.6875\n",
      "Epoch 231/300\n",
      "10/10 [==============================] - 0s 4ms/step - loss: 0.4048 - accuracy: 0.7823 - precision: 0.6848 - recall: 0.6429 - val_loss: 0.4951 - val_accuracy: 0.7653 - val_precision: 0.6286 - val_recall: 0.6875\n",
      "Epoch 232/300\n",
      "10/10 [==============================] - 0s 4ms/step - loss: 0.4047 - accuracy: 0.7857 - precision: 0.6923 - recall: 0.6429 - val_loss: 0.4938 - val_accuracy: 0.7551 - val_precision: 0.6176 - val_recall: 0.6562\n",
      "Epoch 233/300\n",
      "10/10 [==============================] - 0s 2ms/step - loss: 0.4053 - accuracy: 0.7857 - precision: 0.6923 - recall: 0.6429 - val_loss: 0.4933 - val_accuracy: 0.7653 - val_precision: 0.6286 - val_recall: 0.6875\n",
      "Epoch 234/300\n",
      "10/10 [==============================] - 0s 4ms/step - loss: 0.4044 - accuracy: 0.7857 - precision: 0.6923 - recall: 0.6429 - val_loss: 0.4939 - val_accuracy: 0.7653 - val_precision: 0.6286 - val_recall: 0.6875\n",
      "Epoch 235/300\n",
      "10/10 [==============================] - 0s 4ms/step - loss: 0.4046 - accuracy: 0.7891 - precision: 0.7000 - recall: 0.6429 - val_loss: 0.4923 - val_accuracy: 0.7551 - val_precision: 0.6176 - val_recall: 0.6562\n",
      "Epoch 236/300\n",
      "10/10 [==============================] - 0s 5ms/step - loss: 0.4045 - accuracy: 0.7891 - precision: 0.7000 - recall: 0.6429 - val_loss: 0.4936 - val_accuracy: 0.7551 - val_precision: 0.6176 - val_recall: 0.6562\n",
      "Epoch 237/300\n",
      "10/10 [==============================] - 0s 4ms/step - loss: 0.4036 - accuracy: 0.7823 - precision: 0.6848 - recall: 0.6429 - val_loss: 0.4979 - val_accuracy: 0.7653 - val_precision: 0.6286 - val_recall: 0.6875\n",
      "Epoch 238/300\n",
      "10/10 [==============================] - 0s 5ms/step - loss: 0.4056 - accuracy: 0.8095 - precision: 0.7100 - recall: 0.7245 - val_loss: 0.5035 - val_accuracy: 0.7653 - val_precision: 0.6154 - val_recall: 0.7500\n",
      "Epoch 239/300\n",
      "10/10 [==============================] - 0s 4ms/step - loss: 0.4066 - accuracy: 0.8027 - precision: 0.6961 - recall: 0.7245 - val_loss: 0.4992 - val_accuracy: 0.7755 - val_precision: 0.6389 - val_recall: 0.7188\n",
      "Epoch 240/300\n",
      "10/10 [==============================] - 0s 4ms/step - loss: 0.4060 - accuracy: 0.7857 - precision: 0.6882 - recall: 0.6531 - val_loss: 0.4958 - val_accuracy: 0.7551 - val_precision: 0.6176 - val_recall: 0.6562\n",
      "Epoch 241/300\n",
      "10/10 [==============================] - 0s 3ms/step - loss: 0.4045 - accuracy: 0.8027 - precision: 0.7000 - recall: 0.7143 - val_loss: 0.5026 - val_accuracy: 0.7551 - val_precision: 0.6053 - val_recall: 0.7188\n",
      "Epoch 242/300\n",
      "10/10 [==============================] - 0s 4ms/step - loss: 0.4056 - accuracy: 0.8061 - precision: 0.7030 - recall: 0.7245 - val_loss: 0.4993 - val_accuracy: 0.7755 - val_precision: 0.6389 - val_recall: 0.7188\n",
      "Epoch 243/300\n",
      "10/10 [==============================] - 0s 3ms/step - loss: 0.4039 - accuracy: 0.7993 - precision: 0.7010 - recall: 0.6939 - val_loss: 0.4964 - val_accuracy: 0.7653 - val_precision: 0.6286 - val_recall: 0.6875\n",
      "Epoch 244/300\n",
      "10/10 [==============================] - 0s 5ms/step - loss: 0.4038 - accuracy: 0.7857 - precision: 0.6882 - recall: 0.6531 - val_loss: 0.4949 - val_accuracy: 0.7551 - val_precision: 0.6176 - val_recall: 0.6562\n",
      "Epoch 245/300\n",
      "10/10 [==============================] - 0s 4ms/step - loss: 0.4040 - accuracy: 0.7891 - precision: 0.7000 - recall: 0.6429 - val_loss: 0.4921 - val_accuracy: 0.7551 - val_precision: 0.6176 - val_recall: 0.6562\n",
      "Epoch 246/300\n",
      "10/10 [==============================] - 0s 4ms/step - loss: 0.4043 - accuracy: 0.7857 - precision: 0.6966 - recall: 0.6327 - val_loss: 0.4921 - val_accuracy: 0.7551 - val_precision: 0.6176 - val_recall: 0.6562\n",
      "Epoch 247/300\n",
      "10/10 [==============================] - 0s 2ms/step - loss: 0.4036 - accuracy: 0.7823 - precision: 0.6848 - recall: 0.6429 - val_loss: 0.4948 - val_accuracy: 0.7551 - val_precision: 0.6176 - val_recall: 0.6562\n",
      "Epoch 248/300\n",
      "10/10 [==============================] - 0s 4ms/step - loss: 0.4033 - accuracy: 0.7857 - precision: 0.6882 - recall: 0.6531 - val_loss: 0.4967 - val_accuracy: 0.7653 - val_precision: 0.6286 - val_recall: 0.6875\n",
      "Epoch 249/300\n",
      "10/10 [==============================] - 0s 3ms/step - loss: 0.4041 - accuracy: 0.7857 - precision: 0.6882 - recall: 0.6531 - val_loss: 0.4949 - val_accuracy: 0.7551 - val_precision: 0.6176 - val_recall: 0.6562\n",
      "Epoch 250/300\n",
      "10/10 [==============================] - 0s 3ms/step - loss: 0.4037 - accuracy: 0.7891 - precision: 0.6915 - recall: 0.6633 - val_loss: 0.4994 - val_accuracy: 0.7755 - val_precision: 0.6389 - val_recall: 0.7188\n",
      "Epoch 251/300\n",
      "10/10 [==============================] - 0s 7ms/step - loss: 0.4038 - accuracy: 0.7993 - precision: 0.7010 - recall: 0.6939 - val_loss: 0.4980 - val_accuracy: 0.7653 - val_precision: 0.6286 - val_recall: 0.6875\n",
      "Epoch 252/300\n",
      "10/10 [==============================] - 0s 4ms/step - loss: 0.4030 - accuracy: 0.7891 - precision: 0.6915 - recall: 0.6633 - val_loss: 0.4972 - val_accuracy: 0.7551 - val_precision: 0.6176 - val_recall: 0.6562\n",
      "Epoch 253/300\n",
      "10/10 [==============================] - 0s 3ms/step - loss: 0.4043 - accuracy: 0.7857 - precision: 0.6923 - recall: 0.6429 - val_loss: 0.4983 - val_accuracy: 0.7653 - val_precision: 0.6286 - val_recall: 0.6875\n",
      "Epoch 254/300\n",
      "10/10 [==============================] - 0s 4ms/step - loss: 0.4035 - accuracy: 0.8027 - precision: 0.7041 - recall: 0.7041 - val_loss: 0.5037 - val_accuracy: 0.7551 - val_precision: 0.6053 - val_recall: 0.7188\n",
      "Epoch 255/300\n",
      "10/10 [==============================] - 0s 4ms/step - loss: 0.4070 - accuracy: 0.8129 - precision: 0.7048 - recall: 0.7551 - val_loss: 0.5037 - val_accuracy: 0.7551 - val_precision: 0.6053 - val_recall: 0.7188\n",
      "Epoch 256/300\n",
      "10/10 [==============================] - 0s 5ms/step - loss: 0.4015 - accuracy: 0.7857 - precision: 0.6882 - recall: 0.6531 - val_loss: 0.4947 - val_accuracy: 0.7551 - val_precision: 0.6176 - val_recall: 0.6562\n",
      "Epoch 257/300\n",
      "10/10 [==============================] - 0s 4ms/step - loss: 0.4028 - accuracy: 0.7789 - precision: 0.6854 - recall: 0.6224 - val_loss: 0.4965 - val_accuracy: 0.7551 - val_precision: 0.6176 - val_recall: 0.6562\n",
      "Epoch 258/300\n",
      "10/10 [==============================] - 0s 4ms/step - loss: 0.4027 - accuracy: 0.8027 - precision: 0.7041 - recall: 0.7041 - val_loss: 0.4997 - val_accuracy: 0.7653 - val_precision: 0.6286 - val_recall: 0.6875\n",
      "Epoch 259/300\n",
      "10/10 [==============================] - 0s 4ms/step - loss: 0.4023 - accuracy: 0.8027 - precision: 0.7041 - recall: 0.7041 - val_loss: 0.4972 - val_accuracy: 0.7551 - val_precision: 0.6176 - val_recall: 0.6562\n",
      "Epoch 260/300\n",
      "10/10 [==============================] - 0s 4ms/step - loss: 0.4022 - accuracy: 0.7823 - precision: 0.6848 - recall: 0.6429 - val_loss: 0.4967 - val_accuracy: 0.7653 - val_precision: 0.6364 - val_recall: 0.6562\n",
      "Epoch 261/300\n",
      "10/10 [==============================] - 0s 4ms/step - loss: 0.4027 - accuracy: 0.7789 - precision: 0.6813 - recall: 0.6327 - val_loss: 0.4978 - val_accuracy: 0.7551 - val_precision: 0.6176 - val_recall: 0.6562\n",
      "Epoch 262/300\n",
      "10/10 [==============================] - 0s 5ms/step - loss: 0.4064 - accuracy: 0.8061 - precision: 0.7030 - recall: 0.7245 - val_loss: 0.5045 - val_accuracy: 0.7551 - val_precision: 0.6053 - val_recall: 0.7188\n",
      "Epoch 263/300\n",
      "10/10 [==============================] - 0s 6ms/step - loss: 0.4043 - accuracy: 0.8095 - precision: 0.7059 - recall: 0.7347 - val_loss: 0.5012 - val_accuracy: 0.7653 - val_precision: 0.6216 - val_recall: 0.7188\n",
      "Epoch 264/300\n",
      "10/10 [==============================] - 0s 2ms/step - loss: 0.4032 - accuracy: 0.8027 - precision: 0.7041 - recall: 0.7041 - val_loss: 0.4976 - val_accuracy: 0.7551 - val_precision: 0.6176 - val_recall: 0.6562\n",
      "Epoch 265/300\n",
      "10/10 [==============================] - 0s 4ms/step - loss: 0.4017 - accuracy: 0.7891 - precision: 0.6915 - recall: 0.6633 - val_loss: 0.4986 - val_accuracy: 0.7551 - val_precision: 0.6176 - val_recall: 0.6562\n",
      "Epoch 266/300\n",
      "10/10 [==============================] - 0s 3ms/step - loss: 0.4014 - accuracy: 0.7857 - precision: 0.6882 - recall: 0.6531 - val_loss: 0.4993 - val_accuracy: 0.7755 - val_precision: 0.6471 - val_recall: 0.6875\n",
      "Epoch 267/300\n",
      "10/10 [==============================] - 0s 5ms/step - loss: 0.4022 - accuracy: 0.7925 - precision: 0.6947 - recall: 0.6735 - val_loss: 0.5012 - val_accuracy: 0.7653 - val_precision: 0.6286 - val_recall: 0.6875\n",
      "Epoch 268/300\n",
      "10/10 [==============================] - 0s 4ms/step - loss: 0.4020 - accuracy: 0.7823 - precision: 0.6848 - recall: 0.6429 - val_loss: 0.4962 - val_accuracy: 0.7653 - val_precision: 0.6364 - val_recall: 0.6562\n",
      "Epoch 269/300\n",
      "10/10 [==============================] - 0s 5ms/step - loss: 0.4013 - accuracy: 0.7789 - precision: 0.6854 - recall: 0.6224 - val_loss: 0.4970 - val_accuracy: 0.7653 - val_precision: 0.6364 - val_recall: 0.6562\n",
      "Epoch 270/300\n",
      "10/10 [==============================] - 0s 4ms/step - loss: 0.4010 - accuracy: 0.7789 - precision: 0.6854 - recall: 0.6224 - val_loss: 0.4984 - val_accuracy: 0.7551 - val_precision: 0.6176 - val_recall: 0.6562\n",
      "Epoch 271/300\n",
      "10/10 [==============================] - 0s 3ms/step - loss: 0.4013 - accuracy: 0.7823 - precision: 0.6848 - recall: 0.6429 - val_loss: 0.4989 - val_accuracy: 0.7653 - val_precision: 0.6364 - val_recall: 0.6562\n",
      "Epoch 272/300\n",
      "10/10 [==============================] - 0s 5ms/step - loss: 0.4026 - accuracy: 0.7823 - precision: 0.6889 - recall: 0.6327 - val_loss: 0.4976 - val_accuracy: 0.7653 - val_precision: 0.6364 - val_recall: 0.6562\n",
      "Epoch 273/300\n",
      "10/10 [==============================] - 0s 5ms/step - loss: 0.4035 - accuracy: 0.8027 - precision: 0.7041 - recall: 0.7041 - val_loss: 0.5039 - val_accuracy: 0.7551 - val_precision: 0.6053 - val_recall: 0.7188\n",
      "Epoch 274/300\n",
      "10/10 [==============================] - 0s 4ms/step - loss: 0.4023 - accuracy: 0.8061 - precision: 0.7071 - recall: 0.7143 - val_loss: 0.5003 - val_accuracy: 0.7653 - val_precision: 0.6286 - val_recall: 0.6875\n",
      "Epoch 275/300\n",
      "10/10 [==============================] - 0s 4ms/step - loss: 0.4008 - accuracy: 0.7925 - precision: 0.6989 - recall: 0.6633 - val_loss: 0.4954 - val_accuracy: 0.7653 - val_precision: 0.6364 - val_recall: 0.6562\n",
      "Epoch 276/300\n",
      "10/10 [==============================] - 0s 4ms/step - loss: 0.4000 - accuracy: 0.7857 - precision: 0.6923 - recall: 0.6429 - val_loss: 0.4976 - val_accuracy: 0.7653 - val_precision: 0.6364 - val_recall: 0.6562\n",
      "Epoch 277/300\n",
      "10/10 [==============================] - 0s 4ms/step - loss: 0.3997 - accuracy: 0.7857 - precision: 0.6882 - recall: 0.6531 - val_loss: 0.4988 - val_accuracy: 0.7653 - val_precision: 0.6364 - val_recall: 0.6562\n",
      "Epoch 278/300\n",
      "10/10 [==============================] - 0s 5ms/step - loss: 0.3995 - accuracy: 0.7891 - precision: 0.6957 - recall: 0.6531 - val_loss: 0.4974 - val_accuracy: 0.7653 - val_precision: 0.6364 - val_recall: 0.6562\n",
      "Epoch 279/300\n",
      "10/10 [==============================] - 0s 4ms/step - loss: 0.3996 - accuracy: 0.7857 - precision: 0.6966 - recall: 0.6327 - val_loss: 0.4977 - val_accuracy: 0.7653 - val_precision: 0.6364 - val_recall: 0.6562\n",
      "Epoch 280/300\n",
      "10/10 [==============================] - 0s 5ms/step - loss: 0.3991 - accuracy: 0.7891 - precision: 0.6915 - recall: 0.6633 - val_loss: 0.4997 - val_accuracy: 0.7653 - val_precision: 0.6364 - val_recall: 0.6562\n",
      "Epoch 281/300\n",
      "10/10 [==============================] - 0s 4ms/step - loss: 0.3990 - accuracy: 0.7959 - precision: 0.6979 - recall: 0.6837 - val_loss: 0.5018 - val_accuracy: 0.7653 - val_precision: 0.6364 - val_recall: 0.6562\n",
      "Epoch 282/300\n",
      "10/10 [==============================] - 0s 5ms/step - loss: 0.4011 - accuracy: 0.8027 - precision: 0.7000 - recall: 0.7143 - val_loss: 0.5070 - val_accuracy: 0.7449 - val_precision: 0.5946 - val_recall: 0.6875\n",
      "Epoch 283/300\n",
      "10/10 [==============================] - 0s 5ms/step - loss: 0.3993 - accuracy: 0.7959 - precision: 0.6939 - recall: 0.6939 - val_loss: 0.5012 - val_accuracy: 0.7653 - val_precision: 0.6364 - val_recall: 0.6562\n",
      "Epoch 284/300\n",
      "10/10 [==============================] - 0s 4ms/step - loss: 0.3991 - accuracy: 0.7823 - precision: 0.6848 - recall: 0.6429 - val_loss: 0.5001 - val_accuracy: 0.7653 - val_precision: 0.6364 - val_recall: 0.6562\n",
      "Epoch 285/300\n",
      "10/10 [==============================] - 0s 4ms/step - loss: 0.3999 - accuracy: 0.7857 - precision: 0.6966 - recall: 0.6327 - val_loss: 0.5003 - val_accuracy: 0.7653 - val_precision: 0.6364 - val_recall: 0.6562\n",
      "Epoch 286/300\n",
      "10/10 [==============================] - 0s 4ms/step - loss: 0.3985 - accuracy: 0.7891 - precision: 0.6915 - recall: 0.6633 - val_loss: 0.5017 - val_accuracy: 0.7653 - val_precision: 0.6364 - val_recall: 0.6562\n",
      "Epoch 287/300\n",
      "10/10 [==============================] - 0s 4ms/step - loss: 0.3977 - accuracy: 0.7993 - precision: 0.7010 - recall: 0.6939 - val_loss: 0.5046 - val_accuracy: 0.7551 - val_precision: 0.6176 - val_recall: 0.6562\n",
      "Epoch 288/300\n",
      "10/10 [==============================] - 0s 4ms/step - loss: 0.3978 - accuracy: 0.8027 - precision: 0.7041 - recall: 0.7041 - val_loss: 0.5056 - val_accuracy: 0.7653 - val_precision: 0.6286 - val_recall: 0.6875\n",
      "Epoch 289/300\n",
      "10/10 [==============================] - 0s 4ms/step - loss: 0.3983 - accuracy: 0.8061 - precision: 0.7113 - recall: 0.7041 - val_loss: 0.5048 - val_accuracy: 0.7551 - val_precision: 0.6176 - val_recall: 0.6562\n",
      "Epoch 290/300\n",
      "10/10 [==============================] - 0s 4ms/step - loss: 0.3977 - accuracy: 0.8061 - precision: 0.7030 - recall: 0.7245 - val_loss: 0.5089 - val_accuracy: 0.7449 - val_precision: 0.5946 - val_recall: 0.6875\n",
      "Epoch 291/300\n",
      "10/10 [==============================] - 0s 4ms/step - loss: 0.3992 - accuracy: 0.8163 - precision: 0.7075 - recall: 0.7653 - val_loss: 0.5069 - val_accuracy: 0.7551 - val_precision: 0.6111 - val_recall: 0.6875\n",
      "Epoch 292/300\n",
      "10/10 [==============================] - 0s 4ms/step - loss: 0.3979 - accuracy: 0.8061 - precision: 0.6990 - recall: 0.7347 - val_loss: 0.5054 - val_accuracy: 0.7551 - val_precision: 0.6176 - val_recall: 0.6562\n",
      "Epoch 293/300\n",
      "10/10 [==============================] - 0s 4ms/step - loss: 0.3968 - accuracy: 0.7891 - precision: 0.6915 - recall: 0.6633 - val_loss: 0.4976 - val_accuracy: 0.7755 - val_precision: 0.6562 - val_recall: 0.6562\n",
      "Epoch 294/300\n",
      "10/10 [==============================] - 0s 5ms/step - loss: 0.3997 - accuracy: 0.7925 - precision: 0.7176 - recall: 0.6224 - val_loss: 0.4981 - val_accuracy: 0.7755 - val_precision: 0.6562 - val_recall: 0.6562\n",
      "Epoch 295/300\n",
      "10/10 [==============================] - 0s 3ms/step - loss: 0.3972 - accuracy: 0.7959 - precision: 0.7065 - recall: 0.6633 - val_loss: 0.5013 - val_accuracy: 0.7551 - val_precision: 0.6176 - val_recall: 0.6562\n",
      "Epoch 296/300\n",
      "10/10 [==============================] - 0s 4ms/step - loss: 0.3997 - accuracy: 0.8027 - precision: 0.6961 - recall: 0.7245 - val_loss: 0.5053 - val_accuracy: 0.7551 - val_precision: 0.6111 - val_recall: 0.6875\n",
      "Epoch 297/300\n",
      "10/10 [==============================] - 0s 3ms/step - loss: 0.3982 - accuracy: 0.7925 - precision: 0.6947 - recall: 0.6735 - val_loss: 0.4993 - val_accuracy: 0.7755 - val_precision: 0.6562 - val_recall: 0.6562\n",
      "Epoch 298/300\n",
      "10/10 [==============================] - 0s 4ms/step - loss: 0.3969 - accuracy: 0.7857 - precision: 0.6966 - recall: 0.6327 - val_loss: 0.5006 - val_accuracy: 0.7755 - val_precision: 0.6562 - val_recall: 0.6562\n",
      "Epoch 299/300\n",
      "10/10 [==============================] - 0s 3ms/step - loss: 0.3965 - accuracy: 0.7993 - precision: 0.7097 - recall: 0.6735 - val_loss: 0.5036 - val_accuracy: 0.7551 - val_precision: 0.6176 - val_recall: 0.6562\n",
      "Epoch 300/300\n",
      "10/10 [==============================] - 0s 5ms/step - loss: 0.3957 - accuracy: 0.7993 - precision: 0.7097 - recall: 0.6735 - val_loss: 0.5033 - val_accuracy: 0.7551 - val_precision: 0.6176 - val_recall: 0.6562\n"
     ]
    }
   ],
   "source": [
    "# fit your model\n",
    "history = class_model.fit(X_train_proc, y_train,\n",
    "                        validation_data = (X_test_proc, y_test),\n",
    "                        epochs = 300, verbose =1)\n"
   ]
  },
  {
   "cell_type": "code",
   "execution_count": 28,
   "metadata": {
    "colab": {
     "base_uri": "https://localhost:8080/"
    },
    "executionInfo": {
     "elapsed": 6,
     "status": "ok",
     "timestamp": 1698804010065,
     "user": {
      "displayName": "Yvon Bilodeau",
      "userId": "10142856831792134633"
     },
     "user_tz": 420
    },
    "id": "OTmswQ-tJZlX",
    "outputId": "d4eb9d6d-e4cf-4250-bf54-d5c23e16fc37"
   },
   "outputs": [
    {
     "data": {
      "text/plain": [
       "dict_keys(['loss', 'accuracy', 'precision', 'recall', 'val_loss', 'val_accuracy', 'val_precision', 'val_recall'])"
      ]
     },
     "execution_count": 28,
     "metadata": {},
     "output_type": "execute_result"
    }
   ],
   "source": [
    "history.history.keys()"
   ]
  },
  {
   "cell_type": "code",
   "execution_count": 29,
   "metadata": {
    "colab": {
     "base_uri": "https://localhost:8080/",
     "height": 1000
    },
    "executionInfo": {
     "elapsed": 645,
     "status": "ok",
     "timestamp": 1698804010706,
     "user": {
      "displayName": "Yvon Bilodeau",
      "userId": "10142856831792134633"
     },
     "user_tz": 420
    },
    "id": "qKLxgYDcP0_H",
    "outputId": "e2de98d9-02bc-478f-b52c-8f1bef07e28e"
   },
   "outputs": [
    {
     "data": {
      "image/png": "[encoded data removed]",
      "text/plain": [
       "<Figure size 640x480 with 1 Axes>"
      ]
     },
     "metadata": {},
     "output_type": "display_data"
    },
    {
     "data": {
      "image/png": "[encoded data removed]",
      "text/plain": [
       "<Figure size 640x480 with 1 Axes>"
      ]
     },
     "metadata": {},
     "output_type": "display_data"
    },
    {
     "data": {
      "image/png": "[encoded data removed]",
      "text/plain": [
       "<Figure size 640x480 with 1 Axes>"
      ]
     },
     "metadata": {},
     "output_type": "display_data"
    },
    {
     "data": {
      "image/png": "[encoded data removed]",
      "text/plain": [
       "<Figure size 640x480 with 1 Axes>"
      ]
     },
     "metadata": {},
     "output_type": "display_data"
    }
   ],
   "source": [
    "# See how your model is doing\n",
    "plot_history(history)\n"
   ]
  },
  {
   "cell_type": "markdown",
   "metadata": {
    "id": "LD18RKjYTFXP"
   },
   "source": [
    "## Evaluation\n",
    "\n",
    "Keras models always output floats, not integers.  In this case the final sigmoid activation function will return a number between 0 and 1.  If the number is closer to 1, the model predicts the sample is more likely to be class 1.  If it is closer to 2, the sample is predicted to be more likely to be class 0.  \n",
    "\n",
    "This is similar to the output of .predict_proba() with Scikit-Learn models.\n",
    "\n",
    "### Converting Floats to Ints\n",
    "\n",
    "In order to use Scikit-Learn metrics functions, the float outputs of the model need to be converted to ints.  We don't want to just use `int(pred)` or `pred.astype(int)` because that will just drop the decimal and all our predictions would be 0s.  \n",
    "\n",
    "Instead we want to **round** the predictions to the nearest integer. To round all of the numbers in an array we can use the NumPy function, `np.rint()` which is short for 'round to integer'.  \n",
    "\n",
    "[Numpy Reference for np.rint()](https://numpy.org/doc/stable/reference/generated/numpy.rint.html)"
   ]
  },
  {
   "cell_type": "code",
   "execution_count": 30,
   "metadata": {
    "colab": {
     "base_uri": "https://localhost:8080/"
    },
    "executionInfo": {
     "elapsed": 242,
     "status": "ok",
     "timestamp": 1698804010945,
     "user": {
      "displayName": "Yvon Bilodeau",
      "userId": "10142856831792134633"
     },
     "user_tz": 420
    },
    "id": "HttQV2phV-Va",
    "outputId": "f17ae13d-e97f-4e3e-e1d2-c065ae8c5b3b"
   },
   "outputs": [
    {
     "name": "stdout",
     "output_type": "stream",
     "text": [
      "10/10 [==============================] - 0s 2ms/step\n"
     ]
    },
    {
     "data": {
      "text/plain": [
       "array([[0.06126438],\n",
       "       [0.748055  ],\n",
       "       [0.8234523 ],\n",
       "       [0.77427757],\n",
       "       [0.0407948 ],\n",
       "       [0.48908865],\n",
       "       [0.14173815],\n",
       "       [0.3840738 ],\n",
       "       [0.68860614],\n",
       "       [0.7990489 ]], dtype=float32)"
      ]
     },
     "execution_count": 30,
     "metadata": {},
     "output_type": "execute_result"
    }
   ],
   "source": [
    "# Check raw model predictions\n",
    "class_model.predict(X_train_proc)[:10]"
   ]
  },
  {
   "cell_type": "code",
   "execution_count": 31,
   "metadata": {
    "colab": {
     "base_uri": "https://localhost:8080/"
    },
    "executionInfo": {
     "elapsed": 13,
     "status": "ok",
     "timestamp": 1698804010945,
     "user": {
      "displayName": "Yvon Bilodeau",
      "userId": "10142856831792134633"
     },
     "user_tz": 420
    },
    "id": "u1CSEpv4YXV7",
    "outputId": "a39a681f-97b1-4569-eea3-6a90c76bb333"
   },
   "outputs": [
    {
     "name": "stdout",
     "output_type": "stream",
     "text": [
      "10/10 [==============================] - 0s 889us/step\n"
     ]
    },
    {
     "name": "stdout",
     "output_type": "stream",
     "text": [
      "4/4 [==============================] - 0s 5ms/step\n",
      "[[0.]\n",
      " [1.]\n",
      " [1.]\n",
      " [1.]\n",
      " [0.]]\n",
      "[[0.]\n",
      " [1.]\n",
      " [1.]\n",
      " [1.]\n",
      " [0.]]\n"
     ]
    }
   ],
   "source": [
    "# Get predictions\n",
    "train_pred_proba = class_model.predict(X_train_proc)\n",
    "test_pred_proba = class_model.predict(X_test_proc)\n",
    "\n",
    "\n",
    "# round predictions to integers instead of floats using np.rint()\n",
    "train_preds = np.rint(train_pred_proba)\n",
    "test_preds = np.rint(test_pred_proba)\n",
    "\n",
    "# the following code should show whole number predictions, 1.0 or 0.0\n",
    "print(test_preds[:5])\n",
    "print(train_preds[:5])"
   ]
  },
  {
   "cell_type": "code",
   "execution_count": 32,
   "metadata": {
    "colab": {
     "base_uri": "https://localhost:8080/",
     "height": 1000
    },
    "executionInfo": {
     "elapsed": 691,
     "status": "ok",
     "timestamp": 1698804011629,
     "user": {
      "displayName": "Yvon Bilodeau",
      "userId": "10142856831792134633"
     },
     "user_tz": 420
    },
    "id": "sov8ZJUHP-Bf",
    "outputId": "3b3ca2ec-3b96-4c69-8f47-3dff45aea337"
   },
   "outputs": [
    {
     "name": "stdout",
     "output_type": "stream",
     "text": [
      "base_class_model_train \n",
      "\n",
      "              precision    recall  f1-score   support\n",
      "\n",
      " No Diabetes       0.84      0.86      0.85       196\n",
      "    Diabetes       0.71      0.68      0.69        98\n",
      "\n",
      "    accuracy                           0.80       294\n",
      "   macro avg       0.77      0.77      0.77       294\n",
      "weighted avg       0.80      0.80      0.80       294\n",
      "\n"
     ]
    },
    {
     "data": {
      "image/png": "[encoded data removed]",
      "text/plain": [
       "<Figure size 640x480 with 2 Axes>"
      ]
     },
     "metadata": {},
     "output_type": "display_data"
    },
    {
     "name": "stdout",
     "output_type": "stream",
     "text": [
      "base_class_model_test \n",
      "\n",
      "              precision    recall  f1-score   support\n",
      "\n",
      " No Diabetes       0.83      0.80      0.82        66\n",
      "    Diabetes       0.62      0.66      0.64        32\n",
      "\n",
      "    accuracy                           0.76        98\n",
      "   macro avg       0.72      0.73      0.73        98\n",
      "weighted avg       0.76      0.76      0.76        98\n",
      "\n"
     ]
    },
    {
     "data": {
      "image/png": "[encoded data removed]",
      "text/plain": [
       "<Figure size 640x480 with 2 Axes>"
      ]
     },
     "metadata": {},
     "output_type": "display_data"
    },
    {
     "data": {
      "text/html": [
       "<div>\n",
       "<style scoped>\n",
       "    .dataframe tbody tr th:only-of-type {\n",
       "        vertical-align: middle;\n",
       "    }\n",
       "\n",
       "    .dataframe tbody tr th {\n",
       "        vertical-align: top;\n",
       "    }\n",
       "\n",
       "    .dataframe thead th {\n",
       "        text-align: right;\n",
       "    }\n",
       "</style>\n",
       "<table border=\"1\" class=\"dataframe\">\n",
       "  <thead>\n",
       "    <tr style=\"text-align: right;\">\n",
       "      <th></th>\n",
       "      <th>Precision</th>\n",
       "      <th>Recall</th>\n",
       "      <th>F1 Score</th>\n",
       "      <th>Accuracy</th>\n",
       "    </tr>\n",
       "    <tr>\n",
       "      <th>Model Name</th>\n",
       "      <th></th>\n",
       "      <th></th>\n",
       "      <th></th>\n",
       "      <th></th>\n",
       "    </tr>\n",
       "  </thead>\n",
       "  <tbody>\n",
       "    <tr>\n",
       "      <th>base_class_model_train</th>\n",
       "      <td>0.705263</td>\n",
       "      <td>0.683673</td>\n",
       "      <td>0.694301</td>\n",
       "      <td>0.799320</td>\n",
       "    </tr>\n",
       "    <tr>\n",
       "      <th>base_class_model_test</th>\n",
       "      <td>0.617647</td>\n",
       "      <td>0.656250</td>\n",
       "      <td>0.636364</td>\n",
       "      <td>0.755102</td>\n",
       "    </tr>\n",
       "  </tbody>\n",
       "</table>\n",
       "</div>"
      ],
      "text/plain": [
       "                        Precision    Recall  F1 Score  Accuracy\n",
       "Model Name                                                     \n",
       "base_class_model_train   0.705263  0.683673  0.694301  0.799320\n",
       "base_class_model_test    0.617647  0.656250  0.636364  0.755102"
      ]
     },
     "execution_count": 32,
     "metadata": {},
     "output_type": "execute_result"
    }
   ],
   "source": [
    "# Define labels for the confusion matrix\n",
    "labels = ['No Diabetes', 'Diabetes']\n",
    "\n",
    "# Evaluate your model using the custom function eval_classification()\n",
    "train_scores = eval_classification(y_train, train_preds,\n",
    "                                   name='base_class_model_train',\n",
    "                                  labels=labels)\n",
    "test_scores = eval_classification(y_test, test_preds,\n",
    "                                   name='base_class_model_test',\n",
    "                                  labels=labels)\n",
    "\n",
    "# concatenate the two dataframes to compare the model on train and test data\n",
    "class_scores = pd.concat([train_scores, test_scores])\n",
    "class_scores"
   ]
  },
  {
   "cell_type": "code",
   "execution_count": null,
   "metadata": {
    "executionInfo": {
     "elapsed": 3,
     "status": "ok",
     "timestamp": 1698804011630,
     "user": {
      "displayName": "Yvon Bilodeau",
      "userId": "10142856831792134633"
     },
     "user_tz": 420
    },
    "id": "vFvHcmtIsSCy"
   },
   "outputs": [],
   "source": []
  }
 ],
 "metadata": {
  "accelerator": "GPU",
  "colab": {
   "provenance": [
    {
     "file_id": "1AMkk4AkOwuh0L19EdXpLJHJaeZXCP6kQ",
     "timestamp": 1654554871276
    },
    {
     "file_id": "1HZQ_jeFRQsrlNGjvh_ru52Q-1DhIahua",
     "timestamp": 1636586978598
    }
   ],
   "toc_visible": true
  },
  "gpuClass": "standard",
  "kernelspec": {
   "display_name": "Python 3 (ipykernel)",
   "language": "python",
   "name": "python3"
  },
  "language_info": {
   "codemirror_mode": {
    "name": "ipython",
    "version": 3
   },
   "file_extension": ".py",
   "mimetype": "text/x-python",
   "name": "python",
   "nbconvert_exporter": "python",
   "pygments_lexer": "ipython3",
   "version": "3.9.18"
  },
  "toc": {
   "base_numbering": 1,
   "nav_menu": {},
   "number_sections": false,
   "sideBar": true,
   "skip_h1_title": false,
   "title_cell": "Table of Contents",
   "title_sidebar": "Contents",
   "toc_cell": false,
   "toc_position": {
    "height": "calc(100% - 180px)",
    "left": "10px",
    "top": "150px",
    "width": "243.829px"
   },
   "toc_section_display": true,
   "toc_window_display": false
  },
  "widgets": {
   "application/vnd.jupyter.widget-state+json": {
    "state": {},
    "version_major": 2,
    "version_minor": 0
   }
  }
 },
 "nbformat": 4,
 "nbformat_minor": 4
}
