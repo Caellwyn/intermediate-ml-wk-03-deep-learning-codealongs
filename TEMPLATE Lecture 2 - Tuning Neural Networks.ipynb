{
 "cells": [
  {
   "cell_type": "markdown",
   "metadata": {
    "id": "AGKAZlCh02cl"
   },
   "source": [
    "# Tuning Neural Networking in Keras\n",
    "\n",
    "<a href=\"https://colab.research.google.com/github/coding-dojo-data-science/week-11-lecture-2-tuning-deep-learning-models/blob/main/SOLUTIONS%20Code-along%20Tuning%20Neural%20Networks.ipynb\" target=\"_parent\"><img src=\"https://colab.research.google.com/assets/colab-badge.svg\" alt=\"Open In Colab\"/></a>"
   ]
  },
  {
   "cell_type": "markdown",
   "metadata": {
    "id": "OStduN-207_9"
   },
   "source": [
    "We will use the version of Keras that comes in the Tensorflow package, as it has the most up to date tools.\n",
    "\n",
    "Keras works as weapper for deep learning model to be used as classification or regression estimators in sklearn"
   ]
  },
  {
   "cell_type": "code",
   "execution_count": null,
   "metadata": {
    "ExecuteTime": {
     "end_time": "2023-01-31T20:04:18.263813Z",
     "start_time": "2023-01-31T20:04:18.169067Z"
    },
    "executionInfo": {
     "elapsed": 6606,
     "status": "ok",
     "timestamp": 1698972391929,
     "user": {
      "displayName": "Yvon Bilodeau",
      "userId": "10142856831792134633"
     },
     "user_tz": 420
    },
    "id": "Zw6CH1mp0zR4"
   },
   "outputs": [],
   "source": [
    "import pandas as pd\n",
    "import numpy as np\n",
    "\n",
    "import matplotlib.pyplot as plt\n",
    "from seaborn import heatmap\n",
    "\n",
    "from sklearn.metrics import recall_score, precision_score, accuracy_score, f1_score, \\\n",
    "classification_report, ConfusionMatrixDisplay\n",
    "from sklearn.preprocessing import MinMaxScaler\n",
    "from sklearn.model_selection import train_test_split\n",
    "\n",
    "# new libraries\n",
    "import tensorflow as tf\n",
    "import tensorflow.keras as keras\n",
    "from keras.models import Sequential\n",
    "from keras.layers import Dense, Dropout\n",
    "\n",
    "# This is used to overcome an issue with setting up tensorflow in M1/M1\n",
    "# Suspect tensorflow-macos not very fit with GPU, use CPU only with\n",
    "tf.config.set_visible_devices([], 'GPU')\n",
    "\n",
    "# Set Random seed for consistency\n",
    "keras.backend.clear_session()\n",
    "np.random.seed(42)\n",
    "tf.random.set_seed(42)"
   ]
  },
  {
   "cell_type": "markdown",
   "metadata": {
    "id": "ybyyX-RUKqZg"
   },
   "source": [
    "## Useful Functions"
   ]
  },
  {
   "cell_type": "code",
   "execution_count": null,
   "metadata": {
    "ExecuteTime": {
     "end_time": "2023-01-31T20:04:18.279770Z",
     "start_time": "2023-01-31T20:04:18.265807Z"
    },
    "executionInfo": {
     "elapsed": 260,
     "status": "ok",
     "timestamp": 1698972463123,
     "user": {
      "displayName": "Yvon Bilodeau",
      "userId": "10142856831792134633"
     },
     "user_tz": 420
    },
    "id": "wMlJNl3cKqZh"
   },
   "outputs": [],
   "source": [
    "\n",
    "\n",
    "def eval_classification(true, pred, name, labels=None):\n",
    "    \"\"\"shows classification_report and confusion matrix\n",
    "    for classification model predictions.  Returns a dataframe of metrics\"\"\"\n",
    "\n",
    "    print(name, '\\n')\n",
    "    print(classification_report(true, pred, target_names=labels))\n",
    "    ConfusionMatrixDisplay.from_predictions(true, pred, display_labels=labels, )\n",
    "\n",
    "    plt.show()\n",
    "\n",
    "    scores = pd.DataFrame()\n",
    "    scores['Model Name'] = [name]\n",
    "    scores['Precision'] = [precision_score(true, pred)]\n",
    "    scores['Recall'] = [recall_score(true, pred)]\n",
    "    scores['F1 Score'] = [f1_score(true, pred)]\n",
    "    scores['Accuracy'] = [accuracy_score(true, pred)]\n",
    "    scores.set_index('Model Name', inplace=True)\n",
    "\n",
    "    return scores\n",
    "\n",
    "def eval_nn_classification(class_model, X_train, y_train, X_test, y_test, model_name='', labels = ['No Diabetes', 'Diabetes']):\n",
    "    \"\"\"Wrapper for eval_classification, makes it work for neural networks\n",
    "    Prints classification report and confusion matrix.  Returns dataframe of scores.\"\"\"\n",
    "    # Get predictions\n",
    "    train_pred_proba = class_model.predict(X_train)\n",
    "    test_pred_proba = class_model.predict(X_test)\n",
    "\n",
    "\n",
    "    # round predictions to integers instead of floats using np.rint()\n",
    "    train_preds = np.rint(train_pred_proba)\n",
    "    test_preds = np.rint(test_pred_proba)\n",
    "\n",
    "    # Define labels for the confusion matrix\n",
    "\n",
    "    \n",
    "\n",
    "    ## Evaluate the model\n",
    "    train_scores = eval_classification(y_train, train_preds,\n",
    "                                    name=f'{model_name}_train',\n",
    "                                    labels=labels)\n",
    "    test_scores = eval_classification(y_test, test_preds,\n",
    "                                    name=f'{model_name}_test',\n",
    "                                    labels=labels)\n",
    "    scores = pd.concat([train_scores, test_scores])\n",
    "    return scores\n",
    "\n",
    "def plot_history(history):\n",
    "  \"\"\"Takes a keras model learning history and plots each metric\n",
    "  Returns None\"\"\"\n",
    "\n",
    "  metrics = history.history.keys()\n",
    "\n",
    "  for metric in metrics:\n",
    "      if not 'val' in metric:\n",
    "        plt.plot(history.history[f'{metric}'], label=f'{metric}')\n",
    "        if f'val_{metric}' in metrics:\n",
    "          plt.plot(history.history[f'val_{metric}'], label=f'val_{metric}')\n",
    "        plt.legend()\n",
    "        plt.title(f'{metric}')\n",
    "        plt.show()"
   ]
  },
  {
   "cell_type": "markdown",
   "metadata": {
    "id": "RAUUTWm93ojP"
   },
   "source": [
    "# Data\n",
    "\n",
    "We will be using the diabetes dataset from the previous lecture.\n",
    "\n",
    "**NOTE**\n",
    "\n",
    "These datasets are very small for deep learning.  Deep learning models usually work best with very large datasets with at least 10,000 or more samples.  They work best on even larger datasets than that.  But, for demonstration we will use these smaller datasets."
   ]
  },
  {
   "cell_type": "code",
   "execution_count": null,
   "metadata": {
    "ExecuteTime": {
     "end_time": "2023-01-31T20:04:18.559524Z",
     "start_time": "2023-01-31T20:04:18.281765Z"
    },
    "executionInfo": {
     "elapsed": 255,
     "status": "ok",
     "timestamp": 1698972537447,
     "user": {
      "displayName": "Yvon Bilodeau",
      "userId": "10142856831792134633"
     },
     "user_tz": 420
    },
    "id": "8_PM7Bt81FKh"
   },
   "outputs": [],
   "source": [
    "## Load data\n",
    "diabetes = pd.read_csv('https://raw.githubusercontent.com/ninja-josh/image-storage/main/diabetes.csv')\n",
    "diabetes.head()"
   ]
  },
  {
   "cell_type": "markdown",
   "metadata": {
    "id": "1YPAPvdG6Sqy"
   },
   "source": [
    "# Classification\n",
    "\n",
    "Let's start with modeling the classification dataset"
   ]
  },
  {
   "cell_type": "code",
   "execution_count": null,
   "metadata": {
    "colab": {
     "base_uri": "https://localhost:8080/"
    },
    "executionInfo": {
     "elapsed": 244,
     "status": "ok",
     "timestamp": 1698972656761,
     "user": {
      "displayName": "Yvon Bilodeau",
      "userId": "10142856831792134633"
     },
     "user_tz": 420
    },
    "id": "qPYHdbOLqUqH",
    "outputId": "c41d3f79-29c3-4d95-f7ae-dc9ff8718a31"
   },
   "outputs": [],
   "source": [
    "## Overall look at data\n",
    "diabetes.info()"
   ]
  },
  {
   "cell_type": "code",
   "execution_count": null,
   "metadata": {
    "ExecuteTime": {
     "end_time": "2023-01-31T20:04:18.607445Z",
     "start_time": "2023-01-31T20:04:18.593449Z"
    },
    "colab": {
     "base_uri": "https://localhost:8080/"
    },
    "executionInfo": {
     "elapsed": 240,
     "status": "ok",
     "timestamp": 1698972576946,
     "user": {
      "displayName": "Yvon Bilodeau",
      "userId": "10142856831792134633"
     },
     "user_tz": 420
    },
    "id": "uvcvdJUZ6YKX",
    "outputId": "fbe7fee3-ef2b-4b1c-8e9c-6c35580f25f7"
   },
   "outputs": [],
   "source": [
    "## Check for duplicates\n",
    "diabetes.duplicated().any()"
   ]
  },
  {
   "cell_type": "code",
   "execution_count": null,
   "metadata": {
    "ExecuteTime": {
     "end_time": "2023-01-31T20:04:18.637358Z",
     "start_time": "2023-01-31T20:04:18.608437Z"
    },
    "colab": {
     "base_uri": "https://localhost:8080/",
     "height": 297
    },
    "executionInfo": {
     "elapsed": 236,
     "status": "ok",
     "timestamp": 1698972595442,
     "user": {
      "displayName": "Yvon Bilodeau",
      "userId": "10142856831792134633"
     },
     "user_tz": 420
    },
    "id": "IrxmHTaU6s3N",
    "outputId": "ac4799ab-1bfd-4aff-b9ce-092693449bd6"
   },
   "outputs": [],
   "source": [
    "## Look for outliers\n",
    "diabetes.describe()"
   ]
  },
  {
   "cell_type": "code",
   "execution_count": null,
   "metadata": {},
   "outputs": [],
   "source": [
    "## Check class balance\n",
    "diabetes['Outcome'].value_counts()"
   ]
  },
  {
   "cell_type": "code",
   "execution_count": null,
   "metadata": {},
   "outputs": [],
   "source": [
    "## Data Cleaning\n",
    "no_glucose = diabetes['Glucose'] == 0\n",
    "no_blood = diabetes['BloodPressure'] == 0\n",
    "no_skin = diabetes['SkinThickness'] == 0\n",
    "no_insulin = diabetes['Insulin'] == 0\n",
    "no_bmi = diabetes['BMI'] == 0\n",
    "\n",
    "#class_df_clean excludes rows that have no values == 0 in the above columns\n",
    "class_df_clean = diabetes[~(no_glucose |\n",
    "                                     no_blood |\n",
    "                                     no_skin |\n",
    "                                     no_insulin |\n",
    "                                     no_bmi)]\n",
    "class_df_clean.describe()"
   ]
  },
  {
   "cell_type": "code",
   "execution_count": null,
   "metadata": {
    "ExecuteTime": {
     "end_time": "2023-01-31T20:04:18.653316Z",
     "start_time": "2023-01-31T20:04:18.639353Z"
    },
    "executionInfo": {
     "elapsed": 249,
     "status": "ok",
     "timestamp": 1698972698198,
     "user": {
      "displayName": "Yvon Bilodeau",
      "userId": "10142856831792134633"
     },
     "user_tz": 420
    },
    "id": "rU0zM_dk6xDd"
   },
   "outputs": [],
   "source": [
    "# Define X and Y and complete the train test split\n",
    "X = diabetes.drop(columns = 'Outcome')\n",
    "y = diabetes['Outcome']\n",
    "\n",
    "X_train, X_test, y_train, y_test = train_test_split(X,y, random_state = 42)"
   ]
  },
  {
   "cell_type": "markdown",
   "metadata": {
    "id": "MqS765vN8Xti"
   },
   "source": [
    "## Scaling\n",
    "\n",
    "Always scale your data for deep learning.  Otherwise you get a problem call 'Exploding Weights'.  Some weights will be updated much faster than others because the inputs are at larger scales.  This tends to hurt learning as data on smaller scales does not update as fast and doesn't get to contribute as much to the decision making process.  By scaling we put all features on the same footing."
   ]
  },
  {
   "cell_type": "code",
   "execution_count": null,
   "metadata": {
    "ExecuteTime": {
     "end_time": "2023-01-31T20:04:18.668699Z",
     "start_time": "2023-01-31T20:04:18.655312Z"
    },
    "executionInfo": {
     "elapsed": 281,
     "status": "ok",
     "timestamp": 1698972780656,
     "user": {
      "displayName": "Yvon Bilodeau",
      "userId": "10142856831792134633"
     },
     "user_tz": 420
    },
    "id": "bvCCtAhQ7gGe"
   },
   "outputs": [],
   "source": [
    "# Scale the data\n",
    "scaler = MinMaxScaler()\n",
    "\n",
    "scaler.fit(X_train)\n",
    "X_train = scaler.transform(X_train)\n",
    "X_test = scaler.transform(X_test)"
   ]
  },
  {
   "cell_type": "markdown",
   "metadata": {
    "id": "BzX4RBcu8TFx"
   },
   "source": [
    "## First Simple Model\n",
    "\n",
    "We always want to start simple, as deep learning models can get very complex fast and more complex models take more time to train and are more prone to overfitting.  A well performing simple model is better than a well performing complex model.\n",
    "\n",
    "## Input layer\n",
    "The first layer we will define is not technically the input layer.  We will define the first hidden layer with a special argument that tells Keras how to create a input layer:\n",
    "\n",
    "`input_dim=`\n",
    "\n",
    "Input layers can also be defined manually using tensorflow.keras.layers.InputLayer\n",
    "\n",
    "## Activation function\n",
    "\n",
    "For the single hidden layer we will try just 3 nodes and use a ReLU activation.  ReLUs tend to perform well for hidden nodes.\n",
    "\n",
    "## Output Layer\n",
    "\n",
    "For out output layer (last layer) we just use one node because we only want the output of the model to be one number.  We will use a linear activation function.  This will simply output the value from the weights and bias in the node with no change.  The output will be a continuous number, a float.  This will make our model a regression model.\n",
    "\n",
    "\n"
   ]
  },
  {
   "cell_type": "code",
   "execution_count": null,
   "metadata": {
    "ExecuteTime": {
     "end_time": "2023-01-31T20:04:18.684658Z",
     "start_time": "2023-01-31T20:04:18.669697Z"
    },
    "colab": {
     "base_uri": "https://localhost:8080/"
    },
    "executionInfo": {
     "elapsed": 234,
     "status": "ok",
     "timestamp": 1698972789707,
     "user": {
      "displayName": "Yvon Bilodeau",
      "userId": "10142856831792134633"
     },
     "user_tz": 420
    },
    "id": "DfYhlMbBwZcQ",
    "outputId": "e4f21e13-b833-4154-c839-459cdf348a0e"
   },
   "outputs": [],
   "source": [
    "# Check the shape of input\n",
    "\n",
    "X_train.shape[1]"
   ]
  },
  {
   "cell_type": "code",
   "execution_count": null,
   "metadata": {
    "ExecuteTime": {
     "end_time": "2023-01-31T20:04:18.762449Z",
     "start_time": "2023-01-31T20:04:18.687648Z"
    },
    "colab": {
     "base_uri": "https://localhost:8080/"
    },
    "executionInfo": {
     "elapsed": 546,
     "status": "ok",
     "timestamp": 1698973052603,
     "user": {
      "displayName": "Yvon Bilodeau",
      "userId": "10142856831792134633"
     },
     "user_tz": 420
    },
    "id": "AnjwY1dz7vcG",
    "outputId": "96864cda-e091-4836-96f4-ac5a3167f82b"
   },
   "outputs": [],
   "source": [
    "# Set Random Seeds\n",
    "keras.backend.clear_session()\n",
    "np.random.seed(42)\n",
    "tf.random.set_seed(42)\n",
    "\n",
    "# Build your model\n",
    "class_model = Sequential()\n",
    "class_model.add(Dense(10, activation= 'relu', input_dim=X_train.shape[1]))\n",
    "class_model.add(Dense(5, activation= 'relu'))\n",
    "class_model.add(Dense(2, activation= 'relu'))\n",
    "\n",
    "# One output node with 'sigmoid' activation\n",
    "class_model.add(Dense(1, activation='sigmoid'))\n",
    "class_model.summary()\n"
   ]
  },
  {
   "cell_type": "markdown",
   "metadata": {
    "id": "9wAFuCDGOBzo"
   },
   "source": [
    "## Compiling\n",
    "\n",
    "Compiling the model puts all the pieces together to make it ready to train.  We need to specify:\n",
    "\n",
    "* **Optimizer:** An Adam optimizer is a favorite and often performs well, it's a good place to start.\n",
    "  - Other optimizers : Gradient Descent,Stochastic Gradient Descent,Adagrad,RMSProp\n",
    "* **Loss Function:** 'mse' or mean squared error.  This is the number our model will try to reduce in each epoch.  Since this is a regression model we want our model to minimize the mean squared error.\n",
    "* **Metrics:** 'mae' or mean absolute error.  We can provide a list of any appropriate metrics we want the model to keep track at each epoch.\n",
    "\n",
    "\n"
   ]
  },
  {
   "cell_type": "code",
   "execution_count": null,
   "metadata": {
    "ExecuteTime": {
     "end_time": "2023-01-31T20:04:18.794363Z",
     "start_time": "2023-01-31T20:04:18.779404Z"
    },
    "executionInfo": {
     "elapsed": 249,
     "status": "ok",
     "timestamp": 1698973226255,
     "user": {
      "displayName": "Yvon Bilodeau",
      "userId": "10142856831792134633"
     },
     "user_tz": 420
    },
    "id": "AwAGvWCZN1WC"
   },
   "outputs": [],
   "source": [
    "from keras.metrics import Precision, Recall\n",
    "\n",
    "# Compile your model with loss='bce, set metrics = ['acc', Precision(), Recall()]\n",
    "precision = Precision(name='precision')\n",
    "recall = Recall(name='recall')\n",
    "\n",
    "class_model.compile(optimizer = 'adam', loss = 'bce',\n",
    "                    metrics = ['accuracy', precision, recall])\n"
   ]
  },
  {
   "cell_type": "markdown",
   "metadata": {
    "id": "sBvS_wkr_hEh"
   },
   "source": [
    "# Training\n",
    "\n",
    "Let's try training our model for 100 few epochs.  Sometimes that is enough, and it will give us an idea whether our model is learning anything."
   ]
  },
  {
   "cell_type": "code",
   "execution_count": null,
   "metadata": {
    "ExecuteTime": {
     "end_time": "2023-01-31T20:04:23.741127Z",
     "start_time": "2023-01-31T20:04:18.796357Z"
    },
    "colab": {
     "base_uri": "https://localhost:8080/"
    },
    "executionInfo": {
     "elapsed": 11714,
     "status": "ok",
     "timestamp": 1698973245668,
     "user": {
      "displayName": "Yvon Bilodeau",
      "userId": "10142856831792134633"
     },
     "user_tz": 420
    },
    "id": "81VFx1n1-TS7",
    "outputId": "836ccb49-fab5-4cb2-f103-c0ab6da25176",
    "scrolled": true
   },
   "outputs": [],
   "source": [
    "# fit your model\n",
    "history = class_model.fit(X_train, y_train,\n",
    "                        validation_data = (X_test, y_test),\n",
    "                        epochs = 300, verbose =1)\n"
   ]
  },
  {
   "cell_type": "code",
   "execution_count": null,
   "metadata": {},
   "outputs": [],
   "source": [
    "# Visualize Learning History\n",
    "\n",
    "plot_history(history)"
   ]
  },
  {
   "cell_type": "markdown",
   "metadata": {
    "id": "1Ic8eFsL_x2m"
   },
   "source": [
    "## Evaluation\n"
   ]
  },
  {
   "cell_type": "code",
   "execution_count": null,
   "metadata": {
    "ExecuteTime": {
     "end_time": "2023-01-31T20:04:24.218895Z",
     "start_time": "2023-01-31T20:04:23.743123Z"
    },
    "colab": {
     "base_uri": "https://localhost:8080/",
     "height": 1000
    },
    "executionInfo": {
     "elapsed": 1002,
     "status": "ok",
     "timestamp": 1698973293562,
     "user": {
      "displayName": "Yvon Bilodeau",
      "userId": "10142856831792134633"
     },
     "user_tz": 420
    },
    "id": "q8Kox9hOOq7w",
    "outputId": "2e40a022-5307-4a72-fdfc-f107adaf3929"
   },
   "outputs": [],
   "source": [
    "# Get predictions\n",
    "base_scores = eval_nn_classification(class_model, X_train, y_train, X_test, y_test, model_name='base_model')\n",
    "base_scores"
   ]
  },
  {
   "cell_type": "markdown",
   "metadata": {
    "id": "iwqrIe9HrQ-q"
   },
   "source": [
    "# <center> Attack Bias or Variance? </center>\n",
    "\n",
    "How should we tune this classification model?"
   ]
  },
  {
   "cell_type": "markdown",
   "metadata": {
    "executionInfo": {
     "elapsed": 3,
     "status": "ok",
     "timestamp": 1669944762293,
     "user": {
      "displayName": "Josh Johnson",
      "userId": "08606005069848925988"
     },
     "user_tz": 480
    },
    "id": "t8DEVI7drWZf"
   },
   "source": [
    "# Improving ANN - 2nd Model"
   ]
  },
  {
   "cell_type": "code",
   "execution_count": null,
   "metadata": {
    "ExecuteTime": {
     "end_time": "2023-01-31T20:04:24.453861Z",
     "start_time": "2023-01-31T20:04:24.393023Z"
    },
    "colab": {
     "base_uri": "https://localhost:8080/"
    },
    "executionInfo": {
     "elapsed": 270,
     "status": "ok",
     "timestamp": 1698973534464,
     "user": {
      "displayName": "Yvon Bilodeau",
      "userId": "10142856831792134633"
     },
     "user_tz": 420
    },
    "id": "l5RaVlDPei14",
    "outputId": "ad1d2ed7-53cf-405c-b212-7d5889bead3a"
   },
   "outputs": [],
   "source": [
    "# Instantiate your sequential model\n",
    "\n",
    "\n",
    "# Build Model\n",
    "\n",
    "\n",
    "# Add output layer with 1 node\n",
    "\n",
    "\n",
    "\n",
    "# Check summary of network\n",
    "class_model2.summary()"
   ]
  },
  {
   "cell_type": "markdown",
   "metadata": {
    "id": "POU41zLiei15"
   },
   "source": [
    "## Compiling\n",
    "\n",
    "Compiling the model puts all the pieces together to make it ready to train.  We need to specify:\n",
    "\n",
    "* **Optimizer:** An Adam optimizer is a favorite and often performs well, it's a good place to start.\n",
    "  - Other optimizers : Gradient Descent,Stochastic Gradient Descent,Adagrad,RMSProp\n",
    "* **Loss Function:** 'mse' or mean squared error.  This is the number our model will try to reduce in each epoch.  Since this is a regression model we want our model to minimize the mean squared error.\n",
    "* **Metrics:** 'mae' or mean absolute error.  We can provide a list of any appropriate metrics we want the model to keep track at each epoch.\n",
    "\n",
    "\n"
   ]
  },
  {
   "cell_type": "code",
   "execution_count": null,
   "metadata": {
    "ExecuteTime": {
     "end_time": "2023-01-31T20:04:24.468820Z",
     "start_time": "2023-01-31T20:04:24.455856Z"
    },
    "executionInfo": {
     "elapsed": 230,
     "status": "ok",
     "timestamp": 1698973541862,
     "user": {
      "displayName": "Yvon Bilodeau",
      "userId": "10142856831792134633"
     },
     "user_tz": 420
    },
    "id": "i9SndlZAei15"
   },
   "outputs": [],
   "source": [
    "# Compile your model.\n",
    "precision = Precision()\n",
    "recall = Recall()\n",
    "\n",
    "\n"
   ]
  },
  {
   "cell_type": "markdown",
   "metadata": {
    "id": "0UcEXp7Wei15"
   },
   "source": [
    "# Training\n",
    "\n",
    "Let's try training our model for 100 epochs.  Sometimes that is enough, and it will give us an idea whether our model is learning anything."
   ]
  },
  {
   "cell_type": "code",
   "execution_count": null,
   "metadata": {
    "ExecuteTime": {
     "end_time": "2023-01-31T20:04:29.537260Z",
     "start_time": "2023-01-31T20:04:24.470815Z"
    },
    "colab": {
     "base_uri": "https://localhost:8080/"
    },
    "executionInfo": {
     "elapsed": 11059,
     "status": "ok",
     "timestamp": 1698973555379,
     "user": {
      "displayName": "Yvon Bilodeau",
      "userId": "10142856831792134633"
     },
     "user_tz": 420
    },
    "id": "lazoskQdei16",
    "outputId": "f92a0e8f-45ba-4470-f302-89176098f703",
    "scrolled": true
   },
   "outputs": [],
   "source": [
    "# Fit your model\n",
    "\n",
    "\n",
    "\n"
   ]
  },
  {
   "cell_type": "code",
   "execution_count": null,
   "metadata": {
    "ExecuteTime": {
     "end_time": "2023-01-31T20:04:30.002843Z",
     "start_time": "2023-01-31T20:04:29.539254Z"
    },
    "colab": {
     "base_uri": "https://localhost:8080/",
     "height": 1000
    },
    "executionInfo": {
     "elapsed": 949,
     "status": "ok",
     "timestamp": 1698973557194,
     "user": {
      "displayName": "Yvon Bilodeau",
      "userId": "10142856831792134633"
     },
     "user_tz": 420
    },
    "id": "m7iBhygBei16",
    "outputId": "6acd6e4c-f922-4e5d-e849-d7e73bd77453"
   },
   "outputs": [],
   "source": [
    "# Plot Learning History\n",
    "\n"
   ]
  },
  {
   "cell_type": "markdown",
   "metadata": {
    "id": "qvXfpgceei16"
   },
   "source": [
    "## Evaluation\n"
   ]
  },
  {
   "cell_type": "code",
   "execution_count": null,
   "metadata": {
    "ExecuteTime": {
     "end_time": "2023-01-31T20:04:30.177398Z",
     "start_time": "2023-01-31T20:04:30.003869Z"
    },
    "colab": {
     "base_uri": "https://localhost:8080/",
     "height": 207
    },
    "executionInfo": {
     "elapsed": 809,
     "status": "ok",
     "timestamp": 1698973591364,
     "user": {
      "displayName": "Yvon Bilodeau",
      "userId": "10142856831792134633"
     },
     "user_tz": 420
    },
    "id": "t5gjZb1oei16",
    "outputId": "c2c77e49-b7c6-4325-df3a-8887cde10158",
    "scrolled": true
   },
   "outputs": [],
   "source": [
    "## Evaluate model\n",
    "\n",
    "scores_2 = eval_nn_classification(class_model2, X_train, y_train, X_test, y_test, model_name='model_2')\n",
    "scores = pd.concat([base_scores, scores_2])\n",
    "scores"
   ]
  },
  {
   "cell_type": "markdown",
   "metadata": {
    "id": "l5MgNVNfKqZk"
   },
   "source": [
    "# <center> Attack Bias or Variance? </center>\n",
    "\n",
    "How should we tune this classification model?"
   ]
  },
  {
   "cell_type": "markdown",
   "metadata": {
    "executionInfo": {
     "elapsed": 3,
     "status": "ok",
     "timestamp": 1669944762293,
     "user": {
      "displayName": "Josh Johnson",
      "userId": "08606005069848925988"
     },
     "user_tz": 480
    },
    "id": "Z3_rw19TKqZk"
   },
   "source": [
    "# Improving ANN - 3rd Model"
   ]
  },
  {
   "cell_type": "code",
   "execution_count": null,
   "metadata": {
    "ExecuteTime": {
     "end_time": "2023-01-31T20:04:24.453861Z",
     "start_time": "2023-01-31T20:04:24.393023Z"
    },
    "colab": {
     "base_uri": "https://localhost:8080/"
    },
    "executionInfo": {
     "elapsed": 270,
     "status": "ok",
     "timestamp": 1698973534464,
     "user": {
      "displayName": "Yvon Bilodeau",
      "userId": "10142856831792134633"
     },
     "user_tz": 420
    },
    "id": "l5RaVlDPei14",
    "outputId": "ad1d2ed7-53cf-405c-b212-7d5889bead3a"
   },
   "outputs": [],
   "source": [
    "# Instantiate your sequential model\n",
    "class_model3 = Sequential()\n",
    "\n",
    "# Build Model\n",
    "\n",
    "\n",
    "\n",
    "# Add output layer with 1 node\n",
    "\n",
    "\n",
    "\n",
    "# Check summary of network\n",
    "class_model3.summary()\n",
    "\n"
   ]
  },
  {
   "cell_type": "markdown",
   "metadata": {
    "id": "POU41zLiei15"
   },
   "source": [
    "## Compiling\n",
    "\n",
    "Compiling the model puts all the pieces together to make it ready to train.  We need to specify:\n",
    "\n",
    "* **Optimizer:** An Adam optimizer is a favorite and often performs well, it's a good place to start.\n",
    "  - Other optimizers : Gradient Descent,Stochastic Gradient Descent,Adagrad,RMSProp\n",
    "* **Loss Function:** 'mse' or mean squared error.  This is the number our model will try to reduce in each epoch.  Since this is a regression model we want our model to minimize the mean squared error.\n",
    "* **Metrics:** 'mae' or mean absolute error.  We can provide a list of any appropriate metrics we want the model to keep track at each epoch.\n",
    "\n",
    "\n"
   ]
  },
  {
   "cell_type": "code",
   "execution_count": null,
   "metadata": {
    "ExecuteTime": {
     "end_time": "2023-01-31T20:04:24.468820Z",
     "start_time": "2023-01-31T20:04:24.455856Z"
    },
    "executionInfo": {
     "elapsed": 230,
     "status": "ok",
     "timestamp": 1698973541862,
     "user": {
      "displayName": "Yvon Bilodeau",
      "userId": "10142856831792134633"
     },
     "user_tz": 420
    },
    "id": "i9SndlZAei15"
   },
   "outputs": [],
   "source": [
    "# Compile your model.\n",
    "precision = Precision()\n",
    "recall = Recall()\n"
   ]
  },
  {
   "cell_type": "markdown",
   "metadata": {
    "id": "0UcEXp7Wei15"
   },
   "source": [
    "# Training\n",
    "\n",
    "Let's try training our model for 100 epochs.  Sometimes that is enough, and it will give us an idea whether our model is learning anything."
   ]
  },
  {
   "cell_type": "code",
   "execution_count": null,
   "metadata": {
    "ExecuteTime": {
     "end_time": "2023-01-31T20:04:29.537260Z",
     "start_time": "2023-01-31T20:04:24.470815Z"
    },
    "colab": {
     "base_uri": "https://localhost:8080/"
    },
    "executionInfo": {
     "elapsed": 11059,
     "status": "ok",
     "timestamp": 1698973555379,
     "user": {
      "displayName": "Yvon Bilodeau",
      "userId": "10142856831792134633"
     },
     "user_tz": 420
    },
    "id": "lazoskQdei16",
    "outputId": "f92a0e8f-45ba-4470-f302-89176098f703",
    "scrolled": true
   },
   "outputs": [],
   "source": [
    "# Fit your model\n"
   ]
  },
  {
   "cell_type": "code",
   "execution_count": null,
   "metadata": {
    "ExecuteTime": {
     "end_time": "2023-01-31T20:04:30.002843Z",
     "start_time": "2023-01-31T20:04:29.539254Z"
    },
    "colab": {
     "base_uri": "https://localhost:8080/",
     "height": 1000
    },
    "executionInfo": {
     "elapsed": 949,
     "status": "ok",
     "timestamp": 1698973557194,
     "user": {
      "displayName": "Yvon Bilodeau",
      "userId": "10142856831792134633"
     },
     "user_tz": 420
    },
    "id": "m7iBhygBei16",
    "outputId": "6acd6e4c-f922-4e5d-e849-d7e73bd77453"
   },
   "outputs": [],
   "source": [
    "# Apply the custom function to see how your model is doing\n"
   ]
  },
  {
   "cell_type": "markdown",
   "metadata": {
    "id": "qvXfpgceei16"
   },
   "source": [
    "## Evaluation\n"
   ]
  },
  {
   "cell_type": "code",
   "execution_count": null,
   "metadata": {
    "ExecuteTime": {
     "end_time": "2023-01-31T20:04:30.177398Z",
     "start_time": "2023-01-31T20:04:30.003869Z"
    },
    "colab": {
     "base_uri": "https://localhost:8080/",
     "height": 207
    },
    "executionInfo": {
     "elapsed": 809,
     "status": "ok",
     "timestamp": 1698973591364,
     "user": {
      "displayName": "Yvon Bilodeau",
      "userId": "10142856831792134633"
     },
     "user_tz": 420
    },
    "id": "t5gjZb1oei16",
    "outputId": "c2c77e49-b7c6-4325-df3a-8887cde10158",
    "scrolled": true
   },
   "outputs": [],
   "source": [
    "## Evaluate model\n",
    "\n",
    "scores_3 = eval_nn_classification(class_model3, X_train, y_train, X_test, y_test, model_name='model_3')\n",
    "scores = pd.concat([scores, scores_3])\n",
    "scores"
   ]
  },
  {
   "cell_type": "markdown",
   "metadata": {
    "id": "l5MgNVNfKqZk"
   },
   "source": [
    "# <center> Attack Bias or Variance? </center>\n",
    "\n",
    "How should we tune this classification model?"
   ]
  },
  {
   "cell_type": "markdown",
   "metadata": {
    "executionInfo": {
     "elapsed": 3,
     "status": "ok",
     "timestamp": 1669944762293,
     "user": {
      "displayName": "Josh Johnson",
      "userId": "08606005069848925988"
     },
     "user_tz": 480
    },
    "id": "Z3_rw19TKqZk"
   },
   "source": [
    "# Improving ANN - 4th Model"
   ]
  },
  {
   "cell_type": "code",
   "execution_count": null,
   "metadata": {
    "ExecuteTime": {
     "end_time": "2023-01-31T20:04:24.453861Z",
     "start_time": "2023-01-31T20:04:24.393023Z"
    },
    "colab": {
     "base_uri": "https://localhost:8080/"
    },
    "executionInfo": {
     "elapsed": 270,
     "status": "ok",
     "timestamp": 1698973534464,
     "user": {
      "displayName": "Yvon Bilodeau",
      "userId": "10142856831792134633"
     },
     "user_tz": 420
    },
    "id": "l5RaVlDPei14",
    "outputId": "ad1d2ed7-53cf-405c-b212-7d5889bead3a"
   },
   "outputs": [],
   "source": [
    "# Instantiate your sequential model\n",
    "class_model4 = Sequential()\n",
    "\n",
    "## Build Model\n",
    "\n",
    "# Add output layer with 1 node\n",
    "\n",
    "\n",
    "\n",
    "# Check summary of network\n",
    "class_model4.summary()\n",
    "\n"
   ]
  },
  {
   "cell_type": "markdown",
   "metadata": {
    "id": "POU41zLiei15"
   },
   "source": [
    "## Compiling\n",
    "\n",
    "Compiling the model puts all the pieces together to make it ready to train.  We need to specify:\n",
    "\n",
    "* **Optimizer:** An Adam optimizer is a favorite and often performs well, it's a good place to start.\n",
    "  - Other optimizers : Gradient Descent,Stochastic Gradient Descent,Adagrad,RMSProp\n",
    "* **Loss Function:** 'mse' or mean squared error.  This is the number our model will try to reduce in each epoch.  Since this is a regression model we want our model to minimize the mean squared error.\n",
    "* **Metrics:** 'mae' or mean absolute error.  We can provide a list of any appropriate metrics we want the model to keep track at each epoch.\n",
    "\n",
    "\n"
   ]
  },
  {
   "cell_type": "code",
   "execution_count": null,
   "metadata": {
    "ExecuteTime": {
     "end_time": "2023-01-31T20:04:24.468820Z",
     "start_time": "2023-01-31T20:04:24.455856Z"
    },
    "executionInfo": {
     "elapsed": 230,
     "status": "ok",
     "timestamp": 1698973541862,
     "user": {
      "displayName": "Yvon Bilodeau",
      "userId": "10142856831792134633"
     },
     "user_tz": 420
    },
    "id": "i9SndlZAei15"
   },
   "outputs": [],
   "source": [
    "# Compile your model.\n",
    "precision = Precision()\n",
    "recall = Recall()\n",
    "\n",
    "class_model4.compile(optimizer= 'adam', loss = 'bce', metrics= ['acc', precision, recall])"
   ]
  },
  {
   "cell_type": "markdown",
   "metadata": {
    "id": "0UcEXp7Wei15"
   },
   "source": [
    "# Training\n",
    "\n",
    "Let's try training our model for 100 epochs and add EarlyStopping."
   ]
  },
  {
   "cell_type": "code",
   "execution_count": null,
   "metadata": {},
   "outputs": [],
   "source": [
    "from tensorflow.keras.callbacks import EarlyStopping"
   ]
  },
  {
   "cell_type": "code",
   "execution_count": null,
   "metadata": {
    "ExecuteTime": {
     "end_time": "2023-01-31T20:04:29.537260Z",
     "start_time": "2023-01-31T20:04:24.470815Z"
    },
    "colab": {
     "base_uri": "https://localhost:8080/"
    },
    "executionInfo": {
     "elapsed": 11059,
     "status": "ok",
     "timestamp": 1698973555379,
     "user": {
      "displayName": "Yvon Bilodeau",
      "userId": "10142856831792134633"
     },
     "user_tz": 420
    },
    "id": "lazoskQdei16",
    "outputId": "f92a0e8f-45ba-4470-f302-89176098f703"
   },
   "outputs": [],
   "source": [
    "# Fit your model\n",
    "\n",
    "#Early Stopping?\n",
    "early_stop = EarlyStopping(patience=3)\n",
    "# Fit Model\n"
   ]
  },
  {
   "cell_type": "code",
   "execution_count": null,
   "metadata": {
    "ExecuteTime": {
     "end_time": "2023-01-31T20:04:30.002843Z",
     "start_time": "2023-01-31T20:04:29.539254Z"
    },
    "colab": {
     "base_uri": "https://localhost:8080/",
     "height": 1000
    },
    "executionInfo": {
     "elapsed": 949,
     "status": "ok",
     "timestamp": 1698973557194,
     "user": {
      "displayName": "Yvon Bilodeau",
      "userId": "10142856831792134633"
     },
     "user_tz": 420
    },
    "id": "m7iBhygBei16",
    "outputId": "6acd6e4c-f922-4e5d-e849-d7e73bd77453"
   },
   "outputs": [],
   "source": [
    "# Apply the custom function to see how your model is doing\n",
    "plot_history(history)"
   ]
  },
  {
   "cell_type": "markdown",
   "metadata": {
    "id": "qvXfpgceei16"
   },
   "source": [
    "## Evaluation\n"
   ]
  },
  {
   "cell_type": "code",
   "execution_count": null,
   "metadata": {
    "ExecuteTime": {
     "end_time": "2023-01-31T20:04:30.177398Z",
     "start_time": "2023-01-31T20:04:30.003869Z"
    },
    "colab": {
     "base_uri": "https://localhost:8080/",
     "height": 207
    },
    "executionInfo": {
     "elapsed": 809,
     "status": "ok",
     "timestamp": 1698973591364,
     "user": {
      "displayName": "Yvon Bilodeau",
      "userId": "10142856831792134633"
     },
     "user_tz": 420
    },
    "id": "t5gjZb1oei16",
    "outputId": "c2c77e49-b7c6-4325-df3a-8887cde10158",
    "scrolled": true
   },
   "outputs": [],
   "source": [
    "## Evaluate model\n",
    "\n",
    "scores_4 = eval_nn_classification(class_model4, X_train, y_train, X_test, y_test, model_name='model_2')\n",
    "scores = pd.concat([scores, scores_4])\n",
    "scores"
   ]
  },
  {
   "cell_type": "markdown",
   "metadata": {},
   "source": [
    "## Choose a model\n",
    "\n",
    "Which model performed best?"
   ]
  }
 ],
 "metadata": {
  "colab": {
   "provenance": [
    {
     "file_id": "1AMkk4AkOwuh0L19EdXpLJHJaeZXCP6kQ",
     "timestamp": 1654554871276
    },
    {
     "file_id": "1HZQ_jeFRQsrlNGjvh_ru52Q-1DhIahua",
     "timestamp": 1636586978598
    }
   ],
   "toc_visible": true
  },
  "kernelspec": {
   "display_name": "Python (dojo-env)",
   "language": "python",
   "name": "dojo-env"
  },
  "language_info": {
   "codemirror_mode": {
    "name": "ipython",
    "version": 3
   },
   "file_extension": ".py",
   "mimetype": "text/x-python",
   "name": "python",
   "nbconvert_exporter": "python",
   "pygments_lexer": "ipython3",
   "version": "3.10.10"
  },
  "toc": {
   "base_numbering": 1,
   "nav_menu": {},
   "number_sections": false,
   "sideBar": true,
   "skip_h1_title": false,
   "title_cell": "Table of Contents",
   "title_sidebar": "Contents",
   "toc_cell": false,
   "toc_position": {},
   "toc_section_display": true,
   "toc_window_display": false
  },
  "widgets": {
   "application/vnd.jupyter.widget-state+json": {
    "state": {},
    "version_major": 2,
    "version_minor": 0
   }
  }
 },
 "nbformat": 4,
 "nbformat_minor": 4
}
